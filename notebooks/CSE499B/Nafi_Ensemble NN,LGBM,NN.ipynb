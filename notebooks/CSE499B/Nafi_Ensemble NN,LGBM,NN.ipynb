{
 "cells": [
  {
   "cell_type": "code",
   "execution_count": 1,
   "id": "8c001088",
   "metadata": {
    "execution": {
     "iopub.execute_input": "2021-08-11T21:46:32.009449Z",
     "iopub.status.busy": "2021-08-11T21:46:32.008855Z",
     "iopub.status.idle": "2021-08-11T21:46:33.126544Z",
     "shell.execute_reply": "2021-08-11T21:46:33.125978Z",
     "shell.execute_reply.started": "2021-08-11T20:38:48.896547Z"
    },
    "papermill": {
     "duration": 1.177691,
     "end_time": "2021-08-11T21:46:33.126735",
     "exception": false,
     "start_time": "2021-08-11T21:46:31.949044",
     "status": "completed"
    },
    "tags": []
   },
   "outputs": [],
   "source": [
    "import os\n",
    "import gc\n",
    "import numpy as np\n",
    "import pandas as pd\n",
    "from scipy.stats import kurtosis\n",
    "from sklearn.metrics import roc_auc_score\n",
    "from sklearn.preprocessing import MinMaxScaler\n",
    "from sklearn.impute import SimpleImputer\n",
    "from sklearn.linear_model import LogisticRegression\n",
    "import matplotlib.pyplot as plt\n",
    "import seaborn as sns\n",
    "from sklearn.svm import SVC\n",
    "import warnings\n",
    "from sklearn.model_selection import train_test_split, cross_val_score, StratifiedKFold\n",
    "import xgboost as xgb\n",
    "from xgboost import XGBClassifier\n",
    "warnings.simplefilter(action='ignore', category=FutureWarning)"
   ]
  },
  {
   "cell_type": "code",
   "execution_count": 2,
   "id": "7e8f6cf5",
   "metadata": {
    "execution": {
     "iopub.execute_input": "2021-08-11T21:46:33.226195Z",
     "iopub.status.busy": "2021-08-11T21:46:33.225682Z",
     "iopub.status.idle": "2021-08-11T21:46:33.229076Z",
     "shell.execute_reply": "2021-08-11T21:46:33.229498Z",
     "shell.execute_reply.started": "2021-08-11T20:38:50.216966Z"
    },
    "papermill": {
     "duration": 0.052851,
     "end_time": "2021-08-11T21:46:33.229653",
     "exception": false,
     "start_time": "2021-08-11T21:46:33.176802",
     "status": "completed"
    },
    "tags": []
   },
   "outputs": [],
   "source": [
    "DATA_DIRECTORY = \"../input/home-credit-default-risk\""
   ]
  },
  {
   "cell_type": "code",
   "execution_count": 3,
   "id": "b03b1bad",
   "metadata": {
    "execution": {
     "iopub.execute_input": "2021-08-11T21:46:33.325757Z",
     "iopub.status.busy": "2021-08-11T21:46:33.325237Z",
     "iopub.status.idle": "2021-08-11T21:46:39.756534Z",
     "shell.execute_reply": "2021-08-11T21:46:39.755750Z",
     "shell.execute_reply.started": "2021-08-11T20:38:50.224460Z"
    },
    "papermill": {
     "duration": 6.48114,
     "end_time": "2021-08-11T21:46:39.756678",
     "exception": false,
     "start_time": "2021-08-11T21:46:33.275538",
     "status": "completed"
    },
    "tags": []
   },
   "outputs": [
    {
     "data": {
      "text/plain": [
       "0"
      ]
     },
     "execution_count": 3,
     "metadata": {},
     "output_type": "execute_result"
    }
   ],
   "source": [
    "df_train = pd.read_csv(os.path.join(DATA_DIRECTORY, 'application_train.csv'))\n",
    "df_test = pd.read_csv(os.path.join(DATA_DIRECTORY, 'application_test.csv'))\n",
    "df = df_train.append(df_test)\n",
    "del df_train, df_test; gc.collect()"
   ]
  },
  {
   "cell_type": "code",
   "execution_count": 4,
   "id": "717afb47",
   "metadata": {
    "execution": {
     "iopub.execute_input": "2021-08-11T21:46:39.856054Z",
     "iopub.status.busy": "2021-08-11T21:46:39.855334Z",
     "iopub.status.idle": "2021-08-11T21:46:40.706273Z",
     "shell.execute_reply": "2021-08-11T21:46:40.705382Z",
     "shell.execute_reply.started": "2021-08-11T20:38:57.685757Z"
    },
    "papermill": {
     "duration": 0.902283,
     "end_time": "2021-08-11T21:46:40.706426",
     "exception": false,
     "start_time": "2021-08-11T21:46:39.804143",
     "status": "completed"
    },
    "tags": []
   },
   "outputs": [],
   "source": [
    "df = df[df['AMT_INCOME_TOTAL'] < 20000000]\n",
    "df = df[df['CODE_GENDER'] != 'XNA']\n",
    "df['DAYS_EMPLOYED'].replace(365243, np.nan, inplace=True)\n",
    "df['DAYS_LAST_PHONE_CHANGE'].replace(0, np.nan, inplace=True)"
   ]
  },
  {
   "cell_type": "code",
   "execution_count": 5,
   "id": "f16c25d4",
   "metadata": {
    "execution": {
     "iopub.execute_input": "2021-08-11T21:46:40.805605Z",
     "iopub.status.busy": "2021-08-11T21:46:40.804360Z",
     "iopub.status.idle": "2021-08-11T21:46:40.806731Z",
     "shell.execute_reply": "2021-08-11T21:46:40.807129Z",
     "shell.execute_reply.started": "2021-08-11T20:38:58.652803Z"
    },
    "papermill": {
     "duration": 0.053992,
     "end_time": "2021-08-11T21:46:40.807260",
     "exception": false,
     "start_time": "2021-08-11T21:46:40.753268",
     "status": "completed"
    },
    "tags": []
   },
   "outputs": [],
   "source": [
    "def get_age_group(days_birth):\n",
    "    age_years = -days_birth / 365\n",
    "    if age_years < 27: return 1\n",
    "    elif age_years < 40: return 2\n",
    "    elif age_years < 50: return 3\n",
    "    elif age_years < 65: return 4\n",
    "    elif age_years < 99: return 5\n",
    "    else: return 0"
   ]
  },
  {
   "cell_type": "code",
   "execution_count": 6,
   "id": "b2f2f288",
   "metadata": {
    "execution": {
     "iopub.execute_input": "2021-08-11T21:46:40.907503Z",
     "iopub.status.busy": "2021-08-11T21:46:40.906420Z",
     "iopub.status.idle": "2021-08-11T21:46:41.544369Z",
     "shell.execute_reply": "2021-08-11T21:46:41.543875Z",
     "shell.execute_reply.started": "2021-08-11T20:38:58.661006Z"
    },
    "papermill": {
     "duration": 0.690717,
     "end_time": "2021-08-11T21:46:41.544487",
     "exception": false,
     "start_time": "2021-08-11T21:46:40.853770",
     "status": "completed"
    },
    "tags": []
   },
   "outputs": [],
   "source": [
    "docs = [f for f in df.columns if 'FLAG_DOC' in f]\n",
    "df['DOCUMENT_COUNT'] = df[docs].sum(axis=1)\n",
    "df['NEW_DOC_KURT'] = df[docs].kurtosis(axis=1)\n",
    "df['AGE_RANGE'] = df['DAYS_BIRTH'].apply(lambda x: get_age_group(x))"
   ]
  },
  {
   "cell_type": "code",
   "execution_count": 7,
   "id": "996fc687",
   "metadata": {
    "execution": {
     "iopub.execute_input": "2021-08-11T21:46:41.646565Z",
     "iopub.status.busy": "2021-08-11T21:46:41.645745Z",
     "iopub.status.idle": "2021-08-11T21:46:42.539410Z",
     "shell.execute_reply": "2021-08-11T21:46:42.539954Z",
     "shell.execute_reply.started": "2021-08-11T20:38:59.387320Z"
    },
    "papermill": {
     "duration": 0.948927,
     "end_time": "2021-08-11T21:46:42.540120",
     "exception": false,
     "start_time": "2021-08-11T21:46:41.591193",
     "status": "completed"
    },
    "tags": []
   },
   "outputs": [],
   "source": [
    "df['EXT_SOURCES_PROD'] = df['EXT_SOURCE_1'] * df['EXT_SOURCE_2'] * df['EXT_SOURCE_3']\n",
    "df['EXT_SOURCES_WEIGHTED'] = df.EXT_SOURCE_1 * 2 + df.EXT_SOURCE_2 * 1 + df.EXT_SOURCE_3 * 3\n",
    "np.warnings.filterwarnings('ignore', r'All-NaN (slice|axis) encountered')\n",
    "for function_name in ['min', 'max', 'mean', 'nanmedian', 'var']:\n",
    "    feature_name = 'EXT_SOURCES_{}'.format(function_name.upper())\n",
    "    df[feature_name] = eval('np.{}'.format(function_name))(\n",
    "        df[['EXT_SOURCE_1', 'EXT_SOURCE_2', 'EXT_SOURCE_3']], axis=1)"
   ]
  },
  {
   "cell_type": "code",
   "execution_count": 8,
   "id": "5d8d8823",
   "metadata": {
    "execution": {
     "iopub.execute_input": "2021-08-11T21:46:42.642683Z",
     "iopub.status.busy": "2021-08-11T21:46:42.641879Z",
     "iopub.status.idle": "2021-08-11T21:46:42.665512Z",
     "shell.execute_reply": "2021-08-11T21:46:42.664710Z",
     "shell.execute_reply.started": "2021-08-11T20:39:00.351458Z"
    },
    "papermill": {
     "duration": 0.07827,
     "end_time": "2021-08-11T21:46:42.665650",
     "exception": false,
     "start_time": "2021-08-11T21:46:42.587380",
     "status": "completed"
    },
    "tags": []
   },
   "outputs": [],
   "source": [
    "df['CREDIT_TO_ANNUITY_RATIO'] = df['AMT_CREDIT'] / df['AMT_ANNUITY']\n",
    "df['CREDIT_TO_GOODS_RATIO'] = df['AMT_CREDIT'] / df['AMT_GOODS_PRICE']\n",
    "df['ANNUITY_TO_INCOME_RATIO'] = df['AMT_ANNUITY'] / df['AMT_INCOME_TOTAL']\n",
    "df['CREDIT_TO_INCOME_RATIO'] = df['AMT_CREDIT'] / df['AMT_INCOME_TOTAL']\n",
    "df['INCOME_TO_EMPLOYED_RATIO'] = df['AMT_INCOME_TOTAL'] / df['DAYS_EMPLOYED']\n",
    "df['INCOME_TO_BIRTH_RATIO'] = df['AMT_INCOME_TOTAL'] / df['DAYS_BIRTH']    \n",
    "df['EMPLOYED_TO_BIRTH_RATIO'] = df['DAYS_EMPLOYED'] / df['DAYS_BIRTH']\n",
    "df['ID_TO_BIRTH_RATIO'] = df['DAYS_ID_PUBLISH'] / df['DAYS_BIRTH']\n",
    "df['CAR_TO_BIRTH_RATIO'] = df['OWN_CAR_AGE'] / df['DAYS_BIRTH']\n",
    "df['CAR_TO_EMPLOYED_RATIO'] = df['OWN_CAR_AGE'] / df['DAYS_EMPLOYED']\n",
    "df['PHONE_TO_BIRTH_RATIO'] = df['DAYS_LAST_PHONE_CHANGE'] / df['DAYS_BIRTH']"
   ]
  },
  {
   "cell_type": "code",
   "execution_count": 9,
   "id": "c023f974",
   "metadata": {
    "execution": {
     "iopub.execute_input": "2021-08-11T21:46:42.764702Z",
     "iopub.status.busy": "2021-08-11T21:46:42.763449Z",
     "iopub.status.idle": "2021-08-11T21:46:42.765803Z",
     "shell.execute_reply": "2021-08-11T21:46:42.766201Z",
     "shell.execute_reply.started": "2021-08-11T20:39:00.393448Z"
    },
    "papermill": {
     "duration": 0.053921,
     "end_time": "2021-08-11T21:46:42.766327",
     "exception": false,
     "start_time": "2021-08-11T21:46:42.712406",
     "status": "completed"
    },
    "tags": []
   },
   "outputs": [],
   "source": [
    "def do_mean(df, group_cols, counted, agg_name):\n",
    "    gp = df[group_cols + [counted]].groupby(group_cols)[counted].mean().reset_index().rename(\n",
    "        columns={counted: agg_name})\n",
    "    df = df.merge(gp, on=group_cols, how='left')\n",
    "    del gp\n",
    "    gc.collect()\n",
    "    return df"
   ]
  },
  {
   "cell_type": "code",
   "execution_count": 10,
   "id": "f6e55d24",
   "metadata": {
    "execution": {
     "iopub.execute_input": "2021-08-11T21:46:42.863531Z",
     "iopub.status.busy": "2021-08-11T21:46:42.863035Z",
     "iopub.status.idle": "2021-08-11T21:46:42.866404Z",
     "shell.execute_reply": "2021-08-11T21:46:42.866788Z",
     "shell.execute_reply.started": "2021-08-11T20:39:00.401628Z"
    },
    "papermill": {
     "duration": 0.054284,
     "end_time": "2021-08-11T21:46:42.866908",
     "exception": false,
     "start_time": "2021-08-11T21:46:42.812624",
     "status": "completed"
    },
    "tags": []
   },
   "outputs": [],
   "source": [
    "def do_median(df, group_cols, counted, agg_name):\n",
    "    gp = df[group_cols + [counted]].groupby(group_cols)[counted].median().reset_index().rename(\n",
    "        columns={counted: agg_name})\n",
    "    df = df.merge(gp, on=group_cols, how='left')\n",
    "    del gp\n",
    "    gc.collect()\n",
    "    return df"
   ]
  },
  {
   "cell_type": "code",
   "execution_count": 11,
   "id": "86e63bfb",
   "metadata": {
    "execution": {
     "iopub.execute_input": "2021-08-11T21:46:42.964277Z",
     "iopub.status.busy": "2021-08-11T21:46:42.963747Z",
     "iopub.status.idle": "2021-08-11T21:46:42.967479Z",
     "shell.execute_reply": "2021-08-11T21:46:42.967090Z",
     "shell.execute_reply.started": "2021-08-11T20:39:00.415235Z"
    },
    "papermill": {
     "duration": 0.054229,
     "end_time": "2021-08-11T21:46:42.967599",
     "exception": false,
     "start_time": "2021-08-11T21:46:42.913370",
     "status": "completed"
    },
    "tags": []
   },
   "outputs": [],
   "source": [
    "def do_std(df, group_cols, counted, agg_name):\n",
    "    gp = df[group_cols + [counted]].groupby(group_cols)[counted].std().reset_index().rename(\n",
    "        columns={counted: agg_name})\n",
    "    df = df.merge(gp, on=group_cols, how='left')\n",
    "    del gp\n",
    "    gc.collect()\n",
    "    return df"
   ]
  },
  {
   "cell_type": "code",
   "execution_count": 12,
   "id": "d263ef3c",
   "metadata": {
    "execution": {
     "iopub.execute_input": "2021-08-11T21:46:43.066031Z",
     "iopub.status.busy": "2021-08-11T21:46:43.065397Z",
     "iopub.status.idle": "2021-08-11T21:46:43.068361Z",
     "shell.execute_reply": "2021-08-11T21:46:43.068745Z",
     "shell.execute_reply.started": "2021-08-11T20:39:00.426861Z"
    },
    "papermill": {
     "duration": 0.054775,
     "end_time": "2021-08-11T21:46:43.068865",
     "exception": false,
     "start_time": "2021-08-11T21:46:43.014090",
     "status": "completed"
    },
    "tags": []
   },
   "outputs": [],
   "source": [
    "def do_sum(df, group_cols, counted, agg_name):\n",
    "    gp = df[group_cols + [counted]].groupby(group_cols)[counted].sum().reset_index().rename(\n",
    "        columns={counted: agg_name})\n",
    "    df = df.merge(gp, on=group_cols, how='left')\n",
    "    del gp\n",
    "    gc.collect()\n",
    "    return df"
   ]
  },
  {
   "cell_type": "code",
   "execution_count": 13,
   "id": "dc5b01bd",
   "metadata": {
    "execution": {
     "iopub.execute_input": "2021-08-11T21:46:43.168629Z",
     "iopub.status.busy": "2021-08-11T21:46:43.167534Z",
     "iopub.status.idle": "2021-08-11T21:47:10.758767Z",
     "shell.execute_reply": "2021-08-11T21:47:10.758227Z",
     "shell.execute_reply.started": "2021-08-11T20:39:00.442887Z"
    },
    "papermill": {
     "duration": 27.643858,
     "end_time": "2021-08-11T21:47:10.758906",
     "exception": false,
     "start_time": "2021-08-11T21:46:43.115048",
     "status": "completed"
    },
    "tags": []
   },
   "outputs": [],
   "source": [
    "group = ['ORGANIZATION_TYPE', 'NAME_EDUCATION_TYPE', 'OCCUPATION_TYPE', 'AGE_RANGE', 'CODE_GENDER']\n",
    "df = do_median(df, group, 'EXT_SOURCES_MEAN', 'GROUP_EXT_SOURCES_MEDIAN')\n",
    "df = do_std(df, group, 'EXT_SOURCES_MEAN', 'GROUP_EXT_SOURCES_STD')\n",
    "df = do_mean(df, group, 'AMT_INCOME_TOTAL', 'GROUP_INCOME_MEAN')\n",
    "df = do_std(df, group, 'AMT_INCOME_TOTAL', 'GROUP_INCOME_STD')\n",
    "df = do_mean(df, group, 'CREDIT_TO_ANNUITY_RATIO', 'GROUP_CREDIT_TO_ANNUITY_MEAN')\n",
    "df = do_std(df, group, 'CREDIT_TO_ANNUITY_RATIO', 'GROUP_CREDIT_TO_ANNUITY_STD')\n",
    "df = do_mean(df, group, 'AMT_CREDIT', 'GROUP_CREDIT_MEAN')\n",
    "df = do_mean(df, group, 'AMT_ANNUITY', 'GROUP_ANNUITY_MEAN')\n",
    "df = do_std(df, group, 'AMT_ANNUITY', 'GROUP_ANNUITY_STD')"
   ]
  },
  {
   "cell_type": "code",
   "execution_count": 14,
   "id": "fe96c6a4",
   "metadata": {
    "execution": {
     "iopub.execute_input": "2021-08-11T21:47:10.866108Z",
     "iopub.status.busy": "2021-08-11T21:47:10.865330Z",
     "iopub.status.idle": "2021-08-11T21:47:10.868166Z",
     "shell.execute_reply": "2021-08-11T21:47:10.867742Z",
     "shell.execute_reply.started": "2021-08-11T20:39:30.773422Z"
    },
    "papermill": {
     "duration": 0.060545,
     "end_time": "2021-08-11T21:47:10.868280",
     "exception": false,
     "start_time": "2021-08-11T21:47:10.807735",
     "status": "completed"
    },
    "tags": []
   },
   "outputs": [],
   "source": [
    "def label_encoder(df, categorical_columns=None):\n",
    "    if not categorical_columns:\n",
    "        categorical_columns = [col for col in df.columns if df[col].dtype == 'object']\n",
    "    for col in categorical_columns:\n",
    "        df[col], uniques = pd.factorize(df[col])\n",
    "    return df, categorical_columns"
   ]
  },
  {
   "cell_type": "code",
   "execution_count": 15,
   "id": "fdf16a97",
   "metadata": {
    "execution": {
     "iopub.execute_input": "2021-08-11T21:47:10.977976Z",
     "iopub.status.busy": "2021-08-11T21:47:10.977290Z",
     "iopub.status.idle": "2021-08-11T21:47:10.980064Z",
     "shell.execute_reply": "2021-08-11T21:47:10.979606Z",
     "shell.execute_reply.started": "2021-08-11T20:39:30.783251Z"
    },
    "papermill": {
     "duration": 0.06285,
     "end_time": "2021-08-11T21:47:10.980163",
     "exception": false,
     "start_time": "2021-08-11T21:47:10.917313",
     "status": "completed"
    },
    "tags": []
   },
   "outputs": [],
   "source": [
    "def drop_application_columns(df):\n",
    "    drop_list = [\n",
    "        'CNT_CHILDREN', 'CNT_FAM_MEMBERS', 'HOUR_APPR_PROCESS_START',\n",
    "        'FLAG_EMP_PHONE', 'FLAG_MOBIL', 'FLAG_CONT_MOBILE', 'FLAG_EMAIL', 'FLAG_PHONE',\n",
    "        'FLAG_OWN_REALTY', 'REG_REGION_NOT_LIVE_REGION', 'REG_REGION_NOT_WORK_REGION',\n",
    "        'REG_CITY_NOT_WORK_CITY', 'OBS_30_CNT_SOCIAL_CIRCLE', 'OBS_60_CNT_SOCIAL_CIRCLE',\n",
    "        'AMT_REQ_CREDIT_BUREAU_DAY', 'AMT_REQ_CREDIT_BUREAU_MON', 'AMT_REQ_CREDIT_BUREAU_YEAR', \n",
    "        'COMMONAREA_MODE', 'NONLIVINGAREA_MODE', 'ELEVATORS_MODE', 'NONLIVINGAREA_AVG',\n",
    "        'FLOORSMIN_MEDI', 'LANDAREA_MODE', 'NONLIVINGAREA_MEDI', 'LIVINGAPARTMENTS_MODE',\n",
    "        'FLOORSMIN_AVG', 'LANDAREA_AVG', 'FLOORSMIN_MODE', 'LANDAREA_MEDI',\n",
    "        'COMMONAREA_MEDI', 'YEARS_BUILD_AVG', 'COMMONAREA_AVG', 'BASEMENTAREA_AVG',\n",
    "        'BASEMENTAREA_MODE', 'NONLIVINGAPARTMENTS_MEDI', 'BASEMENTAREA_MEDI', \n",
    "        'LIVINGAPARTMENTS_AVG', 'ELEVATORS_AVG', 'YEARS_BUILD_MEDI', 'ENTRANCES_MODE',\n",
    "        'NONLIVINGAPARTMENTS_MODE', 'LIVINGAREA_MODE', 'LIVINGAPARTMENTS_MEDI',\n",
    "        'YEARS_BUILD_MODE', 'YEARS_BEGINEXPLUATATION_AVG', 'ELEVATORS_MEDI', 'LIVINGAREA_MEDI',\n",
    "        'YEARS_BEGINEXPLUATATION_MODE', 'NONLIVINGAPARTMENTS_AVG', 'HOUSETYPE_MODE',\n",
    "        'FONDKAPREMONT_MODE', 'EMERGENCYSTATE_MODE'\n",
    "    ]\n",
    "    for doc_num in [2,4,5,6,7,9,10,11,12,13,14,15,16,17,19,20,21]:\n",
    "        drop_list.append('FLAG_DOCUMENT_{}'.format(doc_num))\n",
    "    df.drop(drop_list, axis=1, inplace=True)\n",
    "    return df"
   ]
  },
  {
   "cell_type": "code",
   "execution_count": 16,
   "id": "f173b991",
   "metadata": {
    "execution": {
     "iopub.execute_input": "2021-08-11T21:47:11.094228Z",
     "iopub.status.busy": "2021-08-11T21:47:11.093507Z",
     "iopub.status.idle": "2021-08-11T21:47:12.011554Z",
     "shell.execute_reply": "2021-08-11T21:47:12.012040Z",
     "shell.execute_reply.started": "2021-08-11T20:39:30.796129Z"
    },
    "papermill": {
     "duration": 0.984356,
     "end_time": "2021-08-11T21:47:12.012217",
     "exception": false,
     "start_time": "2021-08-11T21:47:11.027861",
     "status": "completed"
    },
    "tags": []
   },
   "outputs": [],
   "source": [
    "df, le_encoded_cols = label_encoder(df, None)\n",
    "df = drop_application_columns(df)"
   ]
  },
  {
   "cell_type": "code",
   "execution_count": 17,
   "id": "e537e528",
   "metadata": {
    "execution": {
     "iopub.execute_input": "2021-08-11T21:47:12.195015Z",
     "iopub.status.busy": "2021-08-11T21:47:12.193893Z",
     "iopub.status.idle": "2021-08-11T21:47:12.260732Z",
     "shell.execute_reply": "2021-08-11T21:47:12.260171Z",
     "shell.execute_reply.started": "2021-08-11T20:39:31.816827Z"
    },
    "papermill": {
     "duration": 0.195335,
     "end_time": "2021-08-11T21:47:12.260878",
     "exception": false,
     "start_time": "2021-08-11T21:47:12.065543",
     "status": "completed"
    },
    "tags": []
   },
   "outputs": [],
   "source": [
    "df = pd.get_dummies(df)"
   ]
  },
  {
   "cell_type": "code",
   "execution_count": 18,
   "id": "4d067060",
   "metadata": {
    "execution": {
     "iopub.execute_input": "2021-08-11T21:47:12.365715Z",
     "iopub.status.busy": "2021-08-11T21:47:12.365081Z",
     "iopub.status.idle": "2021-08-11T21:47:16.264776Z",
     "shell.execute_reply": "2021-08-11T21:47:16.264187Z",
     "shell.execute_reply.started": "2021-08-11T20:39:31.976369Z"
    },
    "papermill": {
     "duration": 3.953152,
     "end_time": "2021-08-11T21:47:16.264965",
     "exception": false,
     "start_time": "2021-08-11T21:47:12.311813",
     "status": "completed"
    },
    "tags": []
   },
   "outputs": [],
   "source": [
    "bureau = pd.read_csv(os.path.join(DATA_DIRECTORY, 'bureau.csv'))"
   ]
  },
  {
   "cell_type": "code",
   "execution_count": 19,
   "id": "7ba3cc11",
   "metadata": {
    "execution": {
     "iopub.execute_input": "2021-08-11T21:47:16.367409Z",
     "iopub.status.busy": "2021-08-11T21:47:16.366233Z",
     "iopub.status.idle": "2021-08-11T21:47:16.407106Z",
     "shell.execute_reply": "2021-08-11T21:47:16.406473Z",
     "shell.execute_reply.started": "2021-08-11T20:39:36.754199Z"
    },
    "papermill": {
     "duration": 0.093886,
     "end_time": "2021-08-11T21:47:16.407248",
     "exception": false,
     "start_time": "2021-08-11T21:47:16.313362",
     "status": "completed"
    },
    "tags": []
   },
   "outputs": [],
   "source": [
    "bureau['CREDIT_DURATION'] = -bureau['DAYS_CREDIT'] + bureau['DAYS_CREDIT_ENDDATE']\n",
    "bureau['ENDDATE_DIF'] = bureau['DAYS_CREDIT_ENDDATE'] - bureau['DAYS_ENDDATE_FACT']\n",
    "bureau['DEBT_PERCENTAGE'] = bureau['AMT_CREDIT_SUM'] / bureau['AMT_CREDIT_SUM_DEBT']\n",
    "bureau['DEBT_CREDIT_DIFF'] = bureau['AMT_CREDIT_SUM'] - bureau['AMT_CREDIT_SUM_DEBT']\n",
    "bureau['CREDIT_TO_ANNUITY_RATIO'] = bureau['AMT_CREDIT_SUM'] / bureau['AMT_ANNUITY']"
   ]
  },
  {
   "cell_type": "code",
   "execution_count": 20,
   "id": "539d1281",
   "metadata": {
    "execution": {
     "iopub.execute_input": "2021-08-11T21:47:16.506474Z",
     "iopub.status.busy": "2021-08-11T21:47:16.505928Z",
     "iopub.status.idle": "2021-08-11T21:47:16.509495Z",
     "shell.execute_reply": "2021-08-11T21:47:16.509890Z",
     "shell.execute_reply.started": "2021-08-11T20:39:36.816392Z"
    },
    "papermill": {
     "duration": 0.055956,
     "end_time": "2021-08-11T21:47:16.510016",
     "exception": false,
     "start_time": "2021-08-11T21:47:16.454060",
     "status": "completed"
    },
    "tags": []
   },
   "outputs": [],
   "source": [
    "def one_hot_encoder(df, categorical_columns=None, nan_as_category=True):\n",
    "    original_columns = list(df.columns)\n",
    "    if not categorical_columns:\n",
    "        categorical_columns = [col for col in df.columns if df[col].dtype == 'object']\n",
    "    df = pd.get_dummies(df, columns=categorical_columns, dummy_na=nan_as_category)\n",
    "    categorical_columns = [c for c in df.columns if c not in original_columns]\n",
    "    return df, categorical_columns"
   ]
  },
  {
   "cell_type": "code",
   "execution_count": 21,
   "id": "45cd29d8",
   "metadata": {
    "execution": {
     "iopub.execute_input": "2021-08-11T21:47:16.609813Z",
     "iopub.status.busy": "2021-08-11T21:47:16.608565Z",
     "iopub.status.idle": "2021-08-11T21:47:16.610911Z",
     "shell.execute_reply": "2021-08-11T21:47:16.611324Z",
     "shell.execute_reply.started": "2021-08-11T20:39:36.825551Z"
    },
    "papermill": {
     "duration": 0.053957,
     "end_time": "2021-08-11T21:47:16.611443",
     "exception": false,
     "start_time": "2021-08-11T21:47:16.557486",
     "status": "completed"
    },
    "tags": []
   },
   "outputs": [],
   "source": [
    "def group(df_to_agg, prefix, aggregations, aggregate_by= 'SK_ID_CURR'):\n",
    "    agg_df = df_to_agg.groupby(aggregate_by).agg(aggregations)\n",
    "    agg_df.columns = pd.Index(['{}{}_{}'.format(prefix, e[0], e[1].upper())\n",
    "                               for e in agg_df.columns.tolist()])\n",
    "    return agg_df.reset_index()"
   ]
  },
  {
   "cell_type": "code",
   "execution_count": 22,
   "id": "49dbd6e0",
   "metadata": {
    "execution": {
     "iopub.execute_input": "2021-08-11T21:47:16.708484Z",
     "iopub.status.busy": "2021-08-11T21:47:16.708001Z",
     "iopub.status.idle": "2021-08-11T21:47:16.711392Z",
     "shell.execute_reply": "2021-08-11T21:47:16.711786Z",
     "shell.execute_reply.started": "2021-08-11T20:39:36.836987Z"
    },
    "papermill": {
     "duration": 0.053746,
     "end_time": "2021-08-11T21:47:16.711910",
     "exception": false,
     "start_time": "2021-08-11T21:47:16.658164",
     "status": "completed"
    },
    "tags": []
   },
   "outputs": [],
   "source": [
    "def group_and_merge(df_to_agg, df_to_merge, prefix, aggregations, aggregate_by= 'SK_ID_CURR'):\n",
    "    agg_df = group(df_to_agg, prefix, aggregations, aggregate_by= aggregate_by)\n",
    "    return df_to_merge.merge(agg_df, how='left', on= aggregate_by)"
   ]
  },
  {
   "cell_type": "code",
   "execution_count": 23,
   "id": "1ecbad7f",
   "metadata": {
    "execution": {
     "iopub.execute_input": "2021-08-11T21:47:16.810149Z",
     "iopub.status.busy": "2021-08-11T21:47:16.809397Z",
     "iopub.status.idle": "2021-08-11T21:47:16.812219Z",
     "shell.execute_reply": "2021-08-11T21:47:16.811766Z",
     "shell.execute_reply.started": "2021-08-11T20:39:36.852124Z"
    },
    "papermill": {
     "duration": 0.054026,
     "end_time": "2021-08-11T21:47:16.812323",
     "exception": false,
     "start_time": "2021-08-11T21:47:16.758297",
     "status": "completed"
    },
    "tags": []
   },
   "outputs": [],
   "source": [
    "def get_bureau_balance(path, num_rows= None):\n",
    "    bb = pd.read_csv(os.path.join(path, 'bureau_balance.csv'))\n",
    "    bb, categorical_cols = one_hot_encoder(bb, nan_as_category= False)\n",
    "    # Calculate rate for each category with decay\n",
    "    bb_processed = bb.groupby('SK_ID_BUREAU')[categorical_cols].mean().reset_index()\n",
    "    # Min, Max, Count and mean duration of payments (months)\n",
    "    agg = {'MONTHS_BALANCE': ['min', 'max', 'mean', 'size']}\n",
    "    bb_processed = group_and_merge(bb, bb_processed, '', agg, 'SK_ID_BUREAU')\n",
    "    del bb; gc.collect()\n",
    "    return bb_processed"
   ]
  },
  {
   "cell_type": "code",
   "execution_count": 24,
   "id": "4312de99",
   "metadata": {
    "execution": {
     "iopub.execute_input": "2021-08-11T21:47:16.912927Z",
     "iopub.status.busy": "2021-08-11T21:47:16.911758Z",
     "iopub.status.idle": "2021-08-11T21:47:35.918945Z",
     "shell.execute_reply": "2021-08-11T21:47:35.918460Z",
     "shell.execute_reply.started": "2021-08-11T20:39:36.863883Z"
    },
    "papermill": {
     "duration": 19.05998,
     "end_time": "2021-08-11T21:47:35.919074",
     "exception": false,
     "start_time": "2021-08-11T21:47:16.859094",
     "status": "completed"
    },
    "tags": []
   },
   "outputs": [],
   "source": [
    "bureau, categorical_cols = one_hot_encoder(bureau, nan_as_category= False)\n",
    "bureau = bureau.merge(get_bureau_balance(DATA_DIRECTORY), how='left', on='SK_ID_BUREAU')\n",
    "bureau['STATUS_12345'] = 0\n",
    "for i in range(1,6):\n",
    "    bureau['STATUS_12345'] += bureau['STATUS_{}'.format(i)]"
   ]
  },
  {
   "cell_type": "code",
   "execution_count": 25,
   "id": "1facf245",
   "metadata": {
    "execution": {
     "iopub.execute_input": "2021-08-11T21:47:36.021650Z",
     "iopub.status.busy": "2021-08-11T21:47:36.020506Z",
     "iopub.status.idle": "2021-08-11T21:47:37.876940Z",
     "shell.execute_reply": "2021-08-11T21:47:37.877346Z",
     "shell.execute_reply.started": "2021-08-11T20:39:58.683872Z"
    },
    "papermill": {
     "duration": 1.911136,
     "end_time": "2021-08-11T21:47:37.877490",
     "exception": false,
     "start_time": "2021-08-11T21:47:35.966354",
     "status": "completed"
    },
    "tags": []
   },
   "outputs": [
    {
     "data": {
      "text/plain": [
       "20"
      ]
     },
     "execution_count": 25,
     "metadata": {},
     "output_type": "execute_result"
    }
   ],
   "source": [
    "features = ['AMT_CREDIT_MAX_OVERDUE', 'AMT_CREDIT_SUM_OVERDUE', 'AMT_CREDIT_SUM',\n",
    "    'AMT_CREDIT_SUM_DEBT', 'DEBT_PERCENTAGE', 'DEBT_CREDIT_DIFF', 'STATUS_0', 'STATUS_12345']\n",
    "agg_length = bureau.groupby('MONTHS_BALANCE_SIZE')[features].mean().reset_index()\n",
    "agg_length.rename({feat: 'LL_' + feat for feat in features}, axis=1, inplace=True)\n",
    "bureau = bureau.merge(agg_length, how='left', on='MONTHS_BALANCE_SIZE')\n",
    "del agg_length; gc.collect()"
   ]
  },
  {
   "cell_type": "code",
   "execution_count": 26,
   "id": "738a9f4d",
   "metadata": {
    "execution": {
     "iopub.execute_input": "2021-08-11T21:47:37.984111Z",
     "iopub.status.busy": "2021-08-11T21:47:37.983345Z",
     "iopub.status.idle": "2021-08-11T21:47:37.985733Z",
     "shell.execute_reply": "2021-08-11T21:47:37.986100Z",
     "shell.execute_reply.started": "2021-08-11T20:40:00.753065Z"
    },
    "papermill": {
     "duration": 0.060946,
     "end_time": "2021-08-11T21:47:37.986238",
     "exception": false,
     "start_time": "2021-08-11T21:47:37.925292",
     "status": "completed"
    },
    "tags": []
   },
   "outputs": [],
   "source": [
    "BUREAU_AGG = {\n",
    "    'SK_ID_BUREAU': ['nunique'],\n",
    "    'DAYS_CREDIT': ['min', 'max', 'mean'],\n",
    "    'DAYS_CREDIT_ENDDATE': ['min', 'max'],\n",
    "    'AMT_CREDIT_MAX_OVERDUE': ['max', 'mean'],\n",
    "    'AMT_CREDIT_SUM': ['max', 'mean', 'sum'],\n",
    "    'AMT_CREDIT_SUM_DEBT': ['max', 'mean', 'sum'],\n",
    "    'AMT_CREDIT_SUM_OVERDUE': ['max', 'mean', 'sum'],\n",
    "    'AMT_ANNUITY': ['mean'],\n",
    "    'DEBT_CREDIT_DIFF': ['mean', 'sum'],\n",
    "    'MONTHS_BALANCE_MEAN': ['mean', 'var'],\n",
    "    'MONTHS_BALANCE_SIZE': ['mean', 'sum'],\n",
    "    'STATUS_0': ['mean'],\n",
    "    'STATUS_1': ['mean'],\n",
    "    'STATUS_12345': ['mean'],\n",
    "    'STATUS_C': ['mean'],\n",
    "    'STATUS_X': ['mean'],\n",
    "    'CREDIT_ACTIVE_Active': ['mean'],\n",
    "    'CREDIT_ACTIVE_Closed': ['mean'],\n",
    "    'CREDIT_ACTIVE_Sold': ['mean'],\n",
    "    'CREDIT_TYPE_Consumer credit': ['mean'],\n",
    "    'CREDIT_TYPE_Credit card': ['mean'],\n",
    "    'CREDIT_TYPE_Car loan': ['mean'],\n",
    "    'CREDIT_TYPE_Mortgage': ['mean'],\n",
    "    'CREDIT_TYPE_Microloan': ['mean'],\n",
    "    'LL_AMT_CREDIT_SUM_OVERDUE': ['mean'],\n",
    "    'LL_DEBT_CREDIT_DIFF': ['mean'],\n",
    "    'LL_STATUS_12345': ['mean'],\n",
    "}\n",
    "\n",
    "BUREAU_ACTIVE_AGG = {\n",
    "    'DAYS_CREDIT': ['max', 'mean'],\n",
    "    'DAYS_CREDIT_ENDDATE': ['min', 'max'],\n",
    "    'AMT_CREDIT_MAX_OVERDUE': ['max', 'mean'],\n",
    "    'AMT_CREDIT_SUM': ['max', 'sum'],\n",
    "    'AMT_CREDIT_SUM_DEBT': ['mean', 'sum'],\n",
    "    'AMT_CREDIT_SUM_OVERDUE': ['max', 'mean'],\n",
    "    'DAYS_CREDIT_UPDATE': ['min', 'mean'],\n",
    "    'DEBT_PERCENTAGE': ['mean'],\n",
    "    'DEBT_CREDIT_DIFF': ['mean'],\n",
    "    'CREDIT_TO_ANNUITY_RATIO': ['mean'],\n",
    "    'MONTHS_BALANCE_MEAN': ['mean', 'var'],\n",
    "    'MONTHS_BALANCE_SIZE': ['mean', 'sum'],\n",
    "}\n",
    "\n",
    "BUREAU_CLOSED_AGG = {\n",
    "    'DAYS_CREDIT': ['max', 'var'],\n",
    "    'DAYS_CREDIT_ENDDATE': ['max'],\n",
    "    'AMT_CREDIT_MAX_OVERDUE': ['max', 'mean'],\n",
    "    'AMT_CREDIT_SUM_OVERDUE': ['mean'],\n",
    "    'AMT_CREDIT_SUM': ['max', 'mean', 'sum'],\n",
    "    'AMT_CREDIT_SUM_DEBT': ['max', 'sum'],\n",
    "    'DAYS_CREDIT_UPDATE': ['max'],\n",
    "    'ENDDATE_DIF': ['mean'],\n",
    "    'STATUS_12345': ['mean'],\n",
    "}\n",
    "\n",
    "BUREAU_LOAN_TYPE_AGG = {\n",
    "    'DAYS_CREDIT': ['mean', 'max'],\n",
    "    'AMT_CREDIT_MAX_OVERDUE': ['mean', 'max'],\n",
    "    'AMT_CREDIT_SUM': ['mean', 'max'],\n",
    "    'AMT_CREDIT_SUM_DEBT': ['mean', 'max'],\n",
    "    'DEBT_PERCENTAGE': ['mean'],\n",
    "    'DEBT_CREDIT_DIFF': ['mean'],\n",
    "    'DAYS_CREDIT_ENDDATE': ['max'],\n",
    "}\n",
    "\n",
    "BUREAU_TIME_AGG = {\n",
    "    'AMT_CREDIT_MAX_OVERDUE': ['max', 'mean'],\n",
    "    'AMT_CREDIT_SUM_OVERDUE': ['mean'],\n",
    "    'AMT_CREDIT_SUM': ['max', 'sum'],\n",
    "    'AMT_CREDIT_SUM_DEBT': ['mean', 'sum'],\n",
    "    'DEBT_PERCENTAGE': ['mean'],\n",
    "    'DEBT_CREDIT_DIFF': ['mean'],\n",
    "    'STATUS_0': ['mean'],\n",
    "    'STATUS_12345': ['mean'],\n",
    "}"
   ]
  },
  {
   "cell_type": "code",
   "execution_count": 27,
   "id": "e1dd22a0",
   "metadata": {
    "execution": {
     "iopub.execute_input": "2021-08-11T21:47:38.087078Z",
     "iopub.status.busy": "2021-08-11T21:47:38.086308Z",
     "iopub.status.idle": "2021-08-11T21:47:44.776394Z",
     "shell.execute_reply": "2021-08-11T21:47:44.775385Z",
     "shell.execute_reply.started": "2021-08-11T20:40:00.771697Z"
    },
    "papermill": {
     "duration": 6.74376,
     "end_time": "2021-08-11T21:47:44.776540",
     "exception": false,
     "start_time": "2021-08-11T21:47:38.032780",
     "status": "completed"
    },
    "tags": []
   },
   "outputs": [],
   "source": [
    "agg_bureau = group(bureau, 'BUREAU_', BUREAU_AGG)\n",
    "active = bureau[bureau['CREDIT_ACTIVE_Active'] == 1]\n",
    "agg_bureau = group_and_merge(active,agg_bureau,'BUREAU_ACTIVE_',BUREAU_ACTIVE_AGG)\n",
    "closed = bureau[bureau['CREDIT_ACTIVE_Closed'] == 1]\n",
    "agg_bureau = group_and_merge(closed,agg_bureau,'BUREAU_CLOSED_',BUREAU_CLOSED_AGG)\n",
    "del active, closed; gc.collect()\n",
    "for credit_type in ['Consumer credit', 'Credit card', 'Mortgage', 'Car loan', 'Microloan']:\n",
    "    type_df = bureau[bureau['CREDIT_TYPE_' + credit_type] == 1]\n",
    "    prefix = 'BUREAU_' + credit_type.split(' ')[0].upper() + '_'\n",
    "    agg_bureau = group_and_merge(type_df, agg_bureau, prefix, BUREAU_LOAN_TYPE_AGG)\n",
    "    del type_df; gc.collect()\n",
    "for time_frame in [6, 12]:\n",
    "    prefix = \"BUREAU_LAST{}M_\".format(time_frame)\n",
    "    time_frame_df = bureau[bureau['DAYS_CREDIT'] >= -30*time_frame]\n",
    "    agg_bureau = group_and_merge(time_frame_df, agg_bureau, prefix, BUREAU_TIME_AGG)\n",
    "    del time_frame_df; gc.collect()"
   ]
  },
  {
   "cell_type": "code",
   "execution_count": 28,
   "id": "98fef105",
   "metadata": {
    "execution": {
     "iopub.execute_input": "2021-08-11T21:47:44.879522Z",
     "iopub.status.busy": "2021-08-11T21:47:44.878454Z",
     "iopub.status.idle": "2021-08-11T21:47:46.415823Z",
     "shell.execute_reply": "2021-08-11T21:47:46.415278Z",
     "shell.execute_reply.started": "2021-08-11T20:40:08.993836Z"
    },
    "papermill": {
     "duration": 1.590824,
     "end_time": "2021-08-11T21:47:46.415958",
     "exception": false,
     "start_time": "2021-08-11T21:47:44.825134",
     "status": "completed"
    },
    "tags": []
   },
   "outputs": [],
   "source": [
    "sort_bureau = bureau.sort_values(by=['DAYS_CREDIT'])\n",
    "gr = sort_bureau.groupby('SK_ID_CURR')['AMT_CREDIT_MAX_OVERDUE'].last().reset_index()\n",
    "gr.rename({'AMT_CREDIT_MAX_OVERDUE': 'BUREAU_LAST_LOAN_MAX_OVERDUE'}, inplace=True)\n",
    "agg_bureau = agg_bureau.merge(gr, on='SK_ID_CURR', how='left')\n",
    "agg_bureau['BUREAU_DEBT_OVER_CREDIT'] = \\\n",
    "    agg_bureau['BUREAU_AMT_CREDIT_SUM_DEBT_SUM']/agg_bureau['BUREAU_AMT_CREDIT_SUM_SUM']\n",
    "agg_bureau['BUREAU_ACTIVE_DEBT_OVER_CREDIT'] = \\\n",
    "    agg_bureau['BUREAU_ACTIVE_AMT_CREDIT_SUM_DEBT_SUM']/agg_bureau['BUREAU_ACTIVE_AMT_CREDIT_SUM_SUM']"
   ]
  },
  {
   "cell_type": "code",
   "execution_count": 29,
   "id": "eaf7919f",
   "metadata": {
    "execution": {
     "iopub.execute_input": "2021-08-11T21:47:46.516142Z",
     "iopub.status.busy": "2021-08-11T21:47:46.514562Z",
     "iopub.status.idle": "2021-08-11T21:47:47.387614Z",
     "shell.execute_reply": "2021-08-11T21:47:47.388037Z",
     "shell.execute_reply.started": "2021-08-11T20:40:11.007984Z"
    },
    "papermill": {
     "duration": 0.924626,
     "end_time": "2021-08-11T21:47:47.388180",
     "exception": false,
     "start_time": "2021-08-11T21:47:46.463554",
     "status": "completed"
    },
    "tags": []
   },
   "outputs": [
    {
     "data": {
      "text/plain": [
       "20"
      ]
     },
     "execution_count": 29,
     "metadata": {},
     "output_type": "execute_result"
    }
   ],
   "source": [
    "df = pd.merge(df, agg_bureau, on='SK_ID_CURR', how='left')\n",
    "del agg_bureau, bureau\n",
    "gc.collect()"
   ]
  },
  {
   "cell_type": "code",
   "execution_count": 30,
   "id": "bfe9587e",
   "metadata": {
    "execution": {
     "iopub.execute_input": "2021-08-11T21:47:47.486480Z",
     "iopub.status.busy": "2021-08-11T21:47:47.485962Z",
     "iopub.status.idle": "2021-08-11T21:48:15.380566Z",
     "shell.execute_reply": "2021-08-11T21:48:15.380038Z",
     "shell.execute_reply.started": "2021-08-11T20:40:12.011712Z"
    },
    "papermill": {
     "duration": 27.945663,
     "end_time": "2021-08-11T21:48:15.380752",
     "exception": false,
     "start_time": "2021-08-11T21:47:47.435089",
     "status": "completed"
    },
    "tags": []
   },
   "outputs": [],
   "source": [
    "prev = pd.read_csv(os.path.join(DATA_DIRECTORY, 'previous_application.csv'))\n",
    "pay = pd.read_csv(os.path.join(DATA_DIRECTORY, 'installments_payments.csv'))"
   ]
  },
  {
   "cell_type": "code",
   "execution_count": 31,
   "id": "904b8ff7",
   "metadata": {
    "execution": {
     "iopub.execute_input": "2021-08-11T21:48:15.501666Z",
     "iopub.status.busy": "2021-08-11T21:48:15.500124Z",
     "iopub.status.idle": "2021-08-11T21:48:15.502483Z",
     "shell.execute_reply": "2021-08-11T21:48:15.502948Z",
     "shell.execute_reply.started": "2021-08-11T20:40:43.125901Z"
    },
    "papermill": {
     "duration": 0.072553,
     "end_time": "2021-08-11T21:48:15.503092",
     "exception": false,
     "start_time": "2021-08-11T21:48:15.430539",
     "status": "completed"
    },
    "tags": []
   },
   "outputs": [],
   "source": [
    "PREVIOUS_AGG = {\n",
    "    'SK_ID_PREV': ['nunique'],\n",
    "    'AMT_ANNUITY': ['min', 'max', 'mean'],\n",
    "    'AMT_DOWN_PAYMENT': ['max', 'mean'],\n",
    "    'HOUR_APPR_PROCESS_START': ['min', 'max', 'mean'],\n",
    "    'RATE_DOWN_PAYMENT': ['max', 'mean'],\n",
    "    'DAYS_DECISION': ['min', 'max', 'mean'],\n",
    "    'CNT_PAYMENT': ['max', 'mean'],\n",
    "    'DAYS_TERMINATION': ['max'],\n",
    "    # Engineered features\n",
    "    'CREDIT_TO_ANNUITY_RATIO': ['mean', 'max'],\n",
    "    'APPLICATION_CREDIT_DIFF': ['min', 'max', 'mean'],\n",
    "    'APPLICATION_CREDIT_RATIO': ['min', 'max', 'mean', 'var'],\n",
    "    'DOWN_PAYMENT_TO_CREDIT': ['mean'],\n",
    "}\n",
    "\n",
    "PREVIOUS_ACTIVE_AGG = {\n",
    "    'SK_ID_PREV': ['nunique'],\n",
    "    'SIMPLE_INTERESTS': ['mean'],\n",
    "    'AMT_ANNUITY': ['max', 'sum'],\n",
    "    'AMT_APPLICATION': ['max', 'mean'],\n",
    "    'AMT_CREDIT': ['sum'],\n",
    "    'AMT_DOWN_PAYMENT': ['max', 'mean'],\n",
    "    'DAYS_DECISION': ['min', 'mean'],\n",
    "    'CNT_PAYMENT': ['mean', 'sum'],\n",
    "    'DAYS_LAST_DUE_1ST_VERSION': ['min', 'max', 'mean'],\n",
    "    # Engineered features\n",
    "    'AMT_PAYMENT': ['sum'],\n",
    "    'INSTALMENT_PAYMENT_DIFF': ['mean', 'max'],\n",
    "    'REMAINING_DEBT': ['max', 'mean', 'sum'],\n",
    "    'REPAYMENT_RATIO': ['mean'],\n",
    "}\n",
    "PREVIOUS_LATE_PAYMENTS_AGG = {\n",
    "    'DAYS_DECISION': ['min', 'max', 'mean'],\n",
    "    'DAYS_LAST_DUE_1ST_VERSION': ['min', 'max', 'mean'],\n",
    "    # Engineered features\n",
    "    'APPLICATION_CREDIT_DIFF': ['min'],\n",
    "    'NAME_CONTRACT_TYPE_Consumer loans': ['mean'],\n",
    "    'NAME_CONTRACT_TYPE_Cash loans': ['mean'],\n",
    "    'NAME_CONTRACT_TYPE_Revolving loans': ['mean'],\n",
    "}\n",
    "\n",
    "PREVIOUS_LOAN_TYPE_AGG = {\n",
    "    'AMT_CREDIT': ['sum'],\n",
    "    'AMT_ANNUITY': ['mean', 'max'],\n",
    "    'SIMPLE_INTERESTS': ['min', 'mean', 'max', 'var'],\n",
    "    'APPLICATION_CREDIT_DIFF': ['min', 'var'],\n",
    "    'APPLICATION_CREDIT_RATIO': ['min', 'max', 'mean'],\n",
    "    'DAYS_DECISION': ['max'],\n",
    "    'DAYS_LAST_DUE_1ST_VERSION': ['max', 'mean'],\n",
    "    'CNT_PAYMENT': ['mean'],\n",
    "}\n",
    "\n",
    "PREVIOUS_TIME_AGG = {\n",
    "    'AMT_CREDIT': ['sum'],\n",
    "    'AMT_ANNUITY': ['mean', 'max'],\n",
    "    'SIMPLE_INTERESTS': ['mean', 'max'],\n",
    "    'DAYS_DECISION': ['min', 'mean'],\n",
    "    'DAYS_LAST_DUE_1ST_VERSION': ['min', 'max', 'mean'],\n",
    "    # Engineered features\n",
    "    'APPLICATION_CREDIT_DIFF': ['min'],\n",
    "    'APPLICATION_CREDIT_RATIO': ['min', 'max', 'mean'],\n",
    "    'NAME_CONTRACT_TYPE_Consumer loans': ['mean'],\n",
    "    'NAME_CONTRACT_TYPE_Cash loans': ['mean'],\n",
    "    'NAME_CONTRACT_TYPE_Revolving loans': ['mean'],\n",
    "}\n",
    "\n",
    "PREVIOUS_APPROVED_AGG = {\n",
    "    'SK_ID_PREV': ['nunique'],\n",
    "    'AMT_ANNUITY': ['min', 'max', 'mean'],\n",
    "    'AMT_CREDIT': ['min', 'max', 'mean'],\n",
    "    'AMT_DOWN_PAYMENT': ['max'],\n",
    "    'AMT_GOODS_PRICE': ['max'],\n",
    "    'HOUR_APPR_PROCESS_START': ['min', 'max'],\n",
    "    'DAYS_DECISION': ['min', 'mean'],\n",
    "    'CNT_PAYMENT': ['max', 'mean'],\n",
    "    'DAYS_TERMINATION': ['mean'],\n",
    "    # Engineered features\n",
    "    'CREDIT_TO_ANNUITY_RATIO': ['mean', 'max'],\n",
    "    'APPLICATION_CREDIT_DIFF': ['max'],\n",
    "    'APPLICATION_CREDIT_RATIO': ['min', 'max', 'mean'],\n",
    "    # The following features are only for approved applications\n",
    "    'DAYS_FIRST_DRAWING': ['max', 'mean'],\n",
    "    'DAYS_FIRST_DUE': ['min', 'mean'],\n",
    "    'DAYS_LAST_DUE_1ST_VERSION': ['min', 'max', 'mean'],\n",
    "    'DAYS_LAST_DUE': ['max', 'mean'],\n",
    "    'DAYS_LAST_DUE_DIFF': ['min', 'max', 'mean'],\n",
    "    'SIMPLE_INTERESTS': ['min', 'max', 'mean'],\n",
    "}\n",
    "\n",
    "PREVIOUS_REFUSED_AGG = {\n",
    "    'AMT_APPLICATION': ['max', 'mean'],\n",
    "    'AMT_CREDIT': ['min', 'max'],\n",
    "    'DAYS_DECISION': ['min', 'max', 'mean'],\n",
    "    'CNT_PAYMENT': ['max', 'mean'],\n",
    "    # Engineered features\n",
    "    'APPLICATION_CREDIT_DIFF': ['min', 'max', 'mean', 'var'],\n",
    "    'APPLICATION_CREDIT_RATIO': ['min', 'mean'],\n",
    "    'NAME_CONTRACT_TYPE_Consumer loans': ['mean'],\n",
    "    'NAME_CONTRACT_TYPE_Cash loans': ['mean'],\n",
    "    'NAME_CONTRACT_TYPE_Revolving loans': ['mean'],\n",
    "}\n"
   ]
  },
  {
   "cell_type": "code",
   "execution_count": 32,
   "id": "47a109de",
   "metadata": {
    "execution": {
     "iopub.execute_input": "2021-08-11T21:48:15.610917Z",
     "iopub.status.busy": "2021-08-11T21:48:15.609407Z",
     "iopub.status.idle": "2021-08-11T21:48:17.800136Z",
     "shell.execute_reply": "2021-08-11T21:48:17.799617Z",
     "shell.execute_reply.started": "2021-08-11T20:40:43.148380Z"
    },
    "papermill": {
     "duration": 2.24945,
     "end_time": "2021-08-11T21:48:17.800285",
     "exception": false,
     "start_time": "2021-08-11T21:48:15.550835",
     "status": "completed"
    },
    "tags": []
   },
   "outputs": [],
   "source": [
    "ohe_columns = [\n",
    "    'NAME_CONTRACT_STATUS', 'NAME_CONTRACT_TYPE', 'CHANNEL_TYPE',\n",
    "    'NAME_TYPE_SUITE', 'NAME_YIELD_GROUP', 'PRODUCT_COMBINATION',\n",
    "    'NAME_PRODUCT_TYPE', 'NAME_CLIENT_TYPE']\n",
    "prev, categorical_cols = one_hot_encoder(prev, ohe_columns, nan_as_category= False)"
   ]
  },
  {
   "cell_type": "code",
   "execution_count": 33,
   "id": "7bad67c2",
   "metadata": {
    "execution": {
     "iopub.execute_input": "2021-08-11T21:48:17.914228Z",
     "iopub.status.busy": "2021-08-11T21:48:17.912464Z",
     "iopub.status.idle": "2021-08-11T21:48:17.957293Z",
     "shell.execute_reply": "2021-08-11T21:48:17.956560Z",
     "shell.execute_reply.started": "2021-08-11T20:40:45.462114Z"
    },
    "papermill": {
     "duration": 0.108174,
     "end_time": "2021-08-11T21:48:17.957462",
     "exception": false,
     "start_time": "2021-08-11T21:48:17.849288",
     "status": "completed"
    },
    "tags": []
   },
   "outputs": [],
   "source": [
    "prev['APPLICATION_CREDIT_DIFF'] = prev['AMT_APPLICATION'] - prev['AMT_CREDIT']\n",
    "prev['APPLICATION_CREDIT_RATIO'] = prev['AMT_APPLICATION'] / prev['AMT_CREDIT']\n",
    "prev['CREDIT_TO_ANNUITY_RATIO'] = prev['AMT_CREDIT']/prev['AMT_ANNUITY']\n",
    "prev['DOWN_PAYMENT_TO_CREDIT'] = prev['AMT_DOWN_PAYMENT'] / prev['AMT_CREDIT']\n",
    "total_payment = prev['AMT_ANNUITY'] * prev['CNT_PAYMENT']\n",
    "prev['SIMPLE_INTERESTS'] = (total_payment/prev['AMT_CREDIT'] - 1)/prev['CNT_PAYMENT']"
   ]
  },
  {
   "cell_type": "code",
   "execution_count": 34,
   "id": "abfa9b84",
   "metadata": {
    "execution": {
     "iopub.execute_input": "2021-08-11T21:48:18.067703Z",
     "iopub.status.busy": "2021-08-11T21:48:18.066862Z",
     "iopub.status.idle": "2021-08-11T21:48:20.389348Z",
     "shell.execute_reply": "2021-08-11T21:48:20.388138Z",
     "shell.execute_reply.started": "2021-08-11T20:40:45.534875Z"
    },
    "papermill": {
     "duration": 2.378203,
     "end_time": "2021-08-11T21:48:20.389522",
     "exception": false,
     "start_time": "2021-08-11T21:48:18.011319",
     "status": "completed"
    },
    "tags": []
   },
   "outputs": [
    {
     "data": {
      "text/plain": [
       "0"
      ]
     },
     "execution_count": 34,
     "metadata": {},
     "output_type": "execute_result"
    }
   ],
   "source": [
    "approved = prev[prev['NAME_CONTRACT_STATUS_Approved'] == 1]\n",
    "active_df = approved[approved['DAYS_LAST_DUE'] == 365243]\n",
    "active_pay = pay[pay['SK_ID_PREV'].isin(active_df['SK_ID_PREV'])]\n",
    "active_pay_agg = active_pay.groupby('SK_ID_PREV')[['AMT_INSTALMENT', 'AMT_PAYMENT']].sum()\n",
    "active_pay_agg.reset_index(inplace= True)\n",
    "active_pay_agg['INSTALMENT_PAYMENT_DIFF'] = active_pay_agg['AMT_INSTALMENT'] - active_pay_agg['AMT_PAYMENT']\n",
    "active_df = active_df.merge(active_pay_agg, on= 'SK_ID_PREV', how= 'left')\n",
    "active_df['REMAINING_DEBT'] = active_df['AMT_CREDIT'] - active_df['AMT_PAYMENT']\n",
    "active_df['REPAYMENT_RATIO'] = active_df['AMT_PAYMENT'] / active_df['AMT_CREDIT']\n",
    "active_agg_df = group(active_df, 'PREV_ACTIVE_', PREVIOUS_ACTIVE_AGG)\n",
    "active_agg_df['TOTAL_REPAYMENT_RATIO'] = active_agg_df['PREV_ACTIVE_AMT_PAYMENT_SUM']/\\\n",
    "                                            active_agg_df['PREV_ACTIVE_AMT_CREDIT_SUM']\n",
    "del active_pay, active_pay_agg, active_df; gc.collect()"
   ]
  },
  {
   "cell_type": "code",
   "execution_count": 35,
   "id": "d393f5c7",
   "metadata": {
    "execution": {
     "iopub.execute_input": "2021-08-11T21:48:20.495339Z",
     "iopub.status.busy": "2021-08-11T21:48:20.494542Z",
     "iopub.status.idle": "2021-08-11T21:48:20.522825Z",
     "shell.execute_reply": "2021-08-11T21:48:20.522395Z",
     "shell.execute_reply.started": "2021-08-11T20:40:48.308797Z"
    },
    "papermill": {
     "duration": 0.083425,
     "end_time": "2021-08-11T21:48:20.522940",
     "exception": false,
     "start_time": "2021-08-11T21:48:20.439515",
     "status": "completed"
    },
    "tags": []
   },
   "outputs": [],
   "source": [
    "prev['DAYS_FIRST_DRAWING'].replace(365243, np.nan, inplace= True)\n",
    "prev['DAYS_FIRST_DUE'].replace(365243, np.nan, inplace= True)\n",
    "prev['DAYS_LAST_DUE_1ST_VERSION'].replace(365243, np.nan, inplace= True)\n",
    "prev['DAYS_LAST_DUE'].replace(365243, np.nan, inplace= True)\n",
    "prev['DAYS_TERMINATION'].replace(365243, np.nan, inplace= True)"
   ]
  },
  {
   "cell_type": "code",
   "execution_count": 36,
   "id": "dcec01f2",
   "metadata": {
    "execution": {
     "iopub.execute_input": "2021-08-11T21:48:20.626250Z",
     "iopub.status.busy": "2021-08-11T21:48:20.625162Z",
     "iopub.status.idle": "2021-08-11T21:48:20.636103Z",
     "shell.execute_reply": "2021-08-11T21:48:20.636682Z",
     "shell.execute_reply.started": "2021-08-11T20:40:48.371794Z"
    },
    "papermill": {
     "duration": 0.066586,
     "end_time": "2021-08-11T21:48:20.636867",
     "exception": false,
     "start_time": "2021-08-11T21:48:20.570281",
     "status": "completed"
    },
    "tags": []
   },
   "outputs": [
    {
     "name": "stderr",
     "output_type": "stream",
     "text": [
      "/opt/conda/lib/python3.7/site-packages/ipykernel_launcher.py:2: SettingWithCopyWarning: \n",
      "A value is trying to be set on a copy of a slice from a DataFrame.\n",
      "Try using .loc[row_indexer,col_indexer] = value instead\n",
      "\n",
      "See the caveats in the documentation: https://pandas.pydata.org/pandas-docs/stable/user_guide/indexing.html#returning-a-view-versus-a-copy\n",
      "  \n"
     ]
    }
   ],
   "source": [
    "prev['DAYS_LAST_DUE_DIFF'] = prev['DAYS_LAST_DUE_1ST_VERSION'] - prev['DAYS_LAST_DUE']\n",
    "approved['DAYS_LAST_DUE_DIFF'] = approved['DAYS_LAST_DUE_1ST_VERSION'] - approved['DAYS_LAST_DUE']"
   ]
  },
  {
   "cell_type": "code",
   "execution_count": 37,
   "id": "ae76e584",
   "metadata": {
    "execution": {
     "iopub.execute_input": "2021-08-11T21:48:20.736982Z",
     "iopub.status.busy": "2021-08-11T21:48:20.735776Z",
     "iopub.status.idle": "2021-08-11T21:48:20.738485Z",
     "shell.execute_reply": "2021-08-11T21:48:20.738095Z",
     "shell.execute_reply.started": "2021-08-11T20:40:48.414188Z"
    },
    "papermill": {
     "duration": 0.053324,
     "end_time": "2021-08-11T21:48:20.738586",
     "exception": false,
     "start_time": "2021-08-11T21:48:20.685262",
     "status": "completed"
    },
    "tags": []
   },
   "outputs": [],
   "source": [
    "categorical_agg = {key: ['mean'] for key in categorical_cols}"
   ]
  },
  {
   "cell_type": "code",
   "execution_count": 38,
   "id": "1bce417f",
   "metadata": {
    "execution": {
     "iopub.execute_input": "2021-08-11T21:48:20.837687Z",
     "iopub.status.busy": "2021-08-11T21:48:20.836978Z",
     "iopub.status.idle": "2021-08-11T21:48:24.536018Z",
     "shell.execute_reply": "2021-08-11T21:48:24.537008Z",
     "shell.execute_reply.started": "2021-08-11T20:40:48.430891Z"
    },
    "papermill": {
     "duration": 3.751654,
     "end_time": "2021-08-11T21:48:24.537213",
     "exception": false,
     "start_time": "2021-08-11T21:48:20.785559",
     "status": "completed"
    },
    "tags": []
   },
   "outputs": [
    {
     "data": {
      "text/plain": [
       "0"
      ]
     },
     "execution_count": 38,
     "metadata": {},
     "output_type": "execute_result"
    }
   ],
   "source": [
    "agg_prev = group(prev, 'PREV_', {**PREVIOUS_AGG, **categorical_agg})\n",
    "agg_prev = agg_prev.merge(active_agg_df, how='left', on='SK_ID_CURR')\n",
    "del active_agg_df; gc.collect()"
   ]
  },
  {
   "cell_type": "code",
   "execution_count": 39,
   "id": "134ad168",
   "metadata": {
    "execution": {
     "iopub.execute_input": "2021-08-11T21:48:24.706337Z",
     "iopub.status.busy": "2021-08-11T21:48:24.705596Z",
     "iopub.status.idle": "2021-08-11T21:48:27.423973Z",
     "shell.execute_reply": "2021-08-11T21:48:27.423531Z",
     "shell.execute_reply.started": "2021-08-11T20:40:53.409655Z"
    },
    "papermill": {
     "duration": 2.808377,
     "end_time": "2021-08-11T21:48:27.424093",
     "exception": false,
     "start_time": "2021-08-11T21:48:24.615716",
     "status": "completed"
    },
    "tags": []
   },
   "outputs": [
    {
     "data": {
      "text/plain": [
       "0"
      ]
     },
     "execution_count": 39,
     "metadata": {},
     "output_type": "execute_result"
    }
   ],
   "source": [
    "agg_prev = group_and_merge(approved, agg_prev, 'APPROVED_', PREVIOUS_APPROVED_AGG)\n",
    "refused = prev[prev['NAME_CONTRACT_STATUS_Refused'] == 1]\n",
    "agg_prev = group_and_merge(refused, agg_prev, 'REFUSED_', PREVIOUS_REFUSED_AGG)\n",
    "del approved, refused; gc.collect()"
   ]
  },
  {
   "cell_type": "code",
   "execution_count": 40,
   "id": "48d6fb86",
   "metadata": {
    "execution": {
     "iopub.execute_input": "2021-08-11T21:48:27.526566Z",
     "iopub.status.busy": "2021-08-11T21:48:27.525803Z",
     "iopub.status.idle": "2021-08-11T21:48:29.605027Z",
     "shell.execute_reply": "2021-08-11T21:48:29.604527Z",
     "shell.execute_reply.started": "2021-08-11T20:40:56.404107Z"
    },
    "papermill": {
     "duration": 2.13287,
     "end_time": "2021-08-11T21:48:29.605158",
     "exception": false,
     "start_time": "2021-08-11T21:48:27.472288",
     "status": "completed"
    },
    "tags": []
   },
   "outputs": [],
   "source": [
    "for loan_type in ['Consumer loans', 'Cash loans']:\n",
    "    type_df = prev[prev['NAME_CONTRACT_TYPE_{}'.format(loan_type)] == 1]\n",
    "    prefix = 'PREV_' + loan_type.split(\" \")[0] + '_'\n",
    "    agg_prev = group_and_merge(type_df, agg_prev, prefix, PREVIOUS_LOAN_TYPE_AGG)\n",
    "    del type_df; gc.collect()"
   ]
  },
  {
   "cell_type": "code",
   "execution_count": 41,
   "id": "e59616b3",
   "metadata": {
    "execution": {
     "iopub.execute_input": "2021-08-11T21:48:29.715691Z",
     "iopub.status.busy": "2021-08-11T21:48:29.714688Z",
     "iopub.status.idle": "2021-08-11T21:48:38.321374Z",
     "shell.execute_reply": "2021-08-11T21:48:38.322504Z",
     "shell.execute_reply.started": "2021-08-11T20:40:59.007725Z"
    },
    "papermill": {
     "duration": 8.668791,
     "end_time": "2021-08-11T21:48:38.322730",
     "exception": false,
     "start_time": "2021-08-11T21:48:29.653939",
     "status": "completed"
    },
    "tags": []
   },
   "outputs": [],
   "source": [
    "pay['LATE_PAYMENT'] = pay['DAYS_ENTRY_PAYMENT'] - pay['DAYS_INSTALMENT']\n",
    "pay['LATE_PAYMENT'] = pay['LATE_PAYMENT'].apply(lambda x: 1 if x > 0 else 0)\n",
    "dpd_id = pay[pay['LATE_PAYMENT'] > 0]['SK_ID_PREV'].unique()"
   ]
  },
  {
   "cell_type": "code",
   "execution_count": 42,
   "id": "36c2d551",
   "metadata": {
    "execution": {
     "iopub.execute_input": "2021-08-11T21:48:38.453278Z",
     "iopub.status.busy": "2021-08-11T21:48:38.452535Z",
     "iopub.status.idle": "2021-08-11T21:48:39.128743Z",
     "shell.execute_reply": "2021-08-11T21:48:39.129195Z",
     "shell.execute_reply.started": "2021-08-11T20:41:09.533789Z"
    },
    "papermill": {
     "duration": 0.728563,
     "end_time": "2021-08-11T21:48:39.129381",
     "exception": false,
     "start_time": "2021-08-11T21:48:38.400818",
     "status": "completed"
    },
    "tags": []
   },
   "outputs": [
    {
     "data": {
      "text/plain": [
       "0"
      ]
     },
     "execution_count": 42,
     "metadata": {},
     "output_type": "execute_result"
    }
   ],
   "source": [
    "agg_dpd = group_and_merge(prev[prev['SK_ID_PREV'].isin(dpd_id)], agg_prev,\n",
    "                                    'PREV_LATE_', PREVIOUS_LATE_PAYMENTS_AGG)\n",
    "del agg_dpd, dpd_id; gc.collect()"
   ]
  },
  {
   "cell_type": "code",
   "execution_count": 43,
   "id": "a417f6aa",
   "metadata": {
    "execution": {
     "iopub.execute_input": "2021-08-11T21:48:39.234507Z",
     "iopub.status.busy": "2021-08-11T21:48:39.233798Z",
     "iopub.status.idle": "2021-08-11T21:48:41.573078Z",
     "shell.execute_reply": "2021-08-11T21:48:41.573490Z",
     "shell.execute_reply.started": "2021-08-11T20:41:10.414999Z"
    },
    "papermill": {
     "duration": 2.395048,
     "end_time": "2021-08-11T21:48:41.573659",
     "exception": false,
     "start_time": "2021-08-11T21:48:39.178611",
     "status": "completed"
    },
    "tags": []
   },
   "outputs": [
    {
     "data": {
      "text/plain": [
       "0"
      ]
     },
     "execution_count": 43,
     "metadata": {},
     "output_type": "execute_result"
    }
   ],
   "source": [
    "for time_frame in [12, 24]:\n",
    "    time_frame_df = prev[prev['DAYS_DECISION'] >= -30*time_frame]\n",
    "    prefix = 'PREV_LAST{}M_'.format(time_frame)\n",
    "    agg_prev = group_and_merge(time_frame_df, agg_prev, prefix, PREVIOUS_TIME_AGG)\n",
    "    del time_frame_df; gc.collect()\n",
    "del prev; gc.collect()"
   ]
  },
  {
   "cell_type": "code",
   "execution_count": 44,
   "id": "b5c182a3",
   "metadata": {
    "execution": {
     "iopub.execute_input": "2021-08-11T21:48:41.677224Z",
     "iopub.status.busy": "2021-08-11T21:48:41.675814Z",
     "iopub.status.idle": "2021-08-11T21:48:43.680968Z",
     "shell.execute_reply": "2021-08-11T21:48:43.680475Z",
     "shell.execute_reply.started": "2021-08-11T20:41:13.324821Z"
    },
    "papermill": {
     "duration": 2.058435,
     "end_time": "2021-08-11T21:48:43.681100",
     "exception": false,
     "start_time": "2021-08-11T21:48:41.622665",
     "status": "completed"
    },
    "tags": []
   },
   "outputs": [],
   "source": [
    "df = pd.merge(df, agg_prev, on='SK_ID_CURR', how='left')"
   ]
  },
  {
   "cell_type": "code",
   "execution_count": 45,
   "id": "c4d02caa",
   "metadata": {
    "execution": {
     "iopub.execute_input": "2021-08-11T21:48:43.785644Z",
     "iopub.status.busy": "2021-08-11T21:48:43.784787Z",
     "iopub.status.idle": "2021-08-11T21:48:45.230877Z",
     "shell.execute_reply": "2021-08-11T21:48:45.231350Z",
     "shell.execute_reply.started": "2021-08-11T20:41:15.855897Z"
    },
    "papermill": {
     "duration": 1.500375,
     "end_time": "2021-08-11T21:48:45.231500",
     "exception": false,
     "start_time": "2021-08-11T21:48:43.731125",
     "status": "completed"
    },
    "tags": []
   },
   "outputs": [
    {
     "data": {
      "text/plain": [
       "40"
      ]
     },
     "execution_count": 45,
     "metadata": {},
     "output_type": "execute_result"
    }
   ],
   "source": [
    "train = df[df['TARGET'].notnull()]\n",
    "test = df[df['TARGET'].isnull()]\n",
    "del df\n",
    "del agg_prev\n",
    "gc.collect()"
   ]
  },
  {
   "cell_type": "code",
   "execution_count": 46,
   "id": "bc85abc5",
   "metadata": {
    "execution": {
     "iopub.execute_input": "2021-08-11T21:48:45.703893Z",
     "iopub.status.busy": "2021-08-11T21:48:45.702184Z",
     "iopub.status.idle": "2021-08-11T21:48:45.704656Z",
     "shell.execute_reply": "2021-08-11T21:48:45.705189Z",
     "shell.execute_reply.started": "2021-08-11T20:41:17.375500Z"
    },
    "papermill": {
     "duration": 0.424166,
     "end_time": "2021-08-11T21:48:45.705364",
     "exception": false,
     "start_time": "2021-08-11T21:48:45.281198",
     "status": "completed"
    },
    "tags": []
   },
   "outputs": [],
   "source": [
    "labels = train['TARGET']\n",
    "test_lebels=test['TARGET']\n",
    "train = train.drop(columns=['TARGET'])\n",
    "test = test.drop(columns=['TARGET'])"
   ]
  },
  {
   "cell_type": "code",
   "execution_count": 47,
   "id": "f89304c0",
   "metadata": {
    "execution": {
     "iopub.execute_input": "2021-08-11T21:48:45.814560Z",
     "iopub.status.busy": "2021-08-11T21:48:45.813657Z",
     "iopub.status.idle": "2021-08-11T21:48:47.086400Z",
     "shell.execute_reply": "2021-08-11T21:48:47.085761Z",
     "shell.execute_reply.started": "2021-08-11T20:41:17.771739Z"
    },
    "papermill": {
     "duration": 1.329443,
     "end_time": "2021-08-11T21:48:47.086571",
     "exception": false,
     "start_time": "2021-08-11T21:48:45.757128",
     "status": "completed"
    },
    "tags": []
   },
   "outputs": [],
   "source": [
    "feature = list(train.columns)\n",
    "\n",
    "train.replace([np.inf, -np.inf], np.nan, inplace=True)\n",
    "test.replace([np.inf, -np.inf], np.nan, inplace=True)\n",
    "test_df = test.copy()\n",
    "train_df = train.copy()\n",
    "train_df['TARGET'] = labels\n",
    "test_df['TARGET'] = test_lebels"
   ]
  },
  {
   "cell_type": "code",
   "execution_count": 48,
   "id": "069fd75e",
   "metadata": {
    "execution": {
     "iopub.execute_input": "2021-08-11T21:48:47.206353Z",
     "iopub.status.busy": "2021-08-11T21:48:47.205249Z",
     "iopub.status.idle": "2021-08-11T21:49:14.067153Z",
     "shell.execute_reply": "2021-08-11T21:49:14.066711Z",
     "shell.execute_reply.started": "2021-08-11T20:41:18.833947Z"
    },
    "papermill": {
     "duration": 26.925338,
     "end_time": "2021-08-11T21:49:14.067285",
     "exception": false,
     "start_time": "2021-08-11T21:48:47.141947",
     "status": "completed"
    },
    "tags": []
   },
   "outputs": [
    {
     "data": {
      "text/plain": [
       "60"
      ]
     },
     "execution_count": 48,
     "metadata": {},
     "output_type": "execute_result"
    }
   ],
   "source": [
    "imputer = SimpleImputer(strategy = 'median')\n",
    "imputer.fit(train)\n",
    "imputer.fit(test)\n",
    "train1 = imputer.transform(train)\n",
    "test1 = imputer.transform(test)\n",
    "del train\n",
    "del test\n",
    "gc.collect()"
   ]
  },
  {
   "cell_type": "code",
   "execution_count": 49,
   "id": "49173b0e",
   "metadata": {
    "execution": {
     "iopub.execute_input": "2021-08-11T21:49:14.179970Z",
     "iopub.status.busy": "2021-08-11T21:49:14.178889Z",
     "iopub.status.idle": "2021-08-11T21:49:15.524132Z",
     "shell.execute_reply": "2021-08-11T21:49:15.524607Z",
     "shell.execute_reply.started": "2021-08-11T20:41:50.986807Z"
    },
    "papermill": {
     "duration": 1.400637,
     "end_time": "2021-08-11T21:49:15.524796",
     "exception": false,
     "start_time": "2021-08-11T21:49:14.124159",
     "status": "completed"
    },
    "tags": []
   },
   "outputs": [
    {
     "data": {
      "text/plain": [
       "20"
      ]
     },
     "execution_count": 49,
     "metadata": {},
     "output_type": "execute_result"
    }
   ],
   "source": [
    "scaler = MinMaxScaler(feature_range = (0, 1))\n",
    "scaler.fit(train1)\n",
    "scaler.fit(test1)\n",
    "train = scaler.transform(train1)\n",
    "test = scaler.transform(test1)\n",
    "del train1\n",
    "del test1\n",
    "gc.collect()"
   ]
  },
  {
   "cell_type": "code",
   "execution_count": 50,
   "id": "665a395f",
   "metadata": {
    "execution": {
     "iopub.execute_input": "2021-08-11T21:49:15.635750Z",
     "iopub.status.busy": "2021-08-11T21:49:15.635164Z",
     "iopub.status.idle": "2021-08-11T21:49:15.638235Z",
     "shell.execute_reply": "2021-08-11T21:49:15.638825Z",
     "shell.execute_reply.started": "2021-08-11T20:41:52.434699Z"
    },
    "papermill": {
     "duration": 0.063279,
     "end_time": "2021-08-11T21:49:15.639003",
     "exception": false,
     "start_time": "2021-08-11T21:49:15.575724",
     "status": "completed"
    },
    "tags": []
   },
   "outputs": [
    {
     "name": "stdout",
     "output_type": "stream",
     "text": [
      "(307506, 461)\n"
     ]
    }
   ],
   "source": [
    "print(train.shape)"
   ]
  },
  {
   "cell_type": "markdown",
   "id": "25755af8",
   "metadata": {
    "papermill": {
     "duration": 0.05662,
     "end_time": "2021-08-11T21:49:15.747091",
     "exception": false,
     "start_time": "2021-08-11T21:49:15.690471",
     "status": "completed"
    },
    "tags": []
   },
   "source": [
    "# Keras NN"
   ]
  },
  {
   "cell_type": "code",
   "execution_count": 51,
   "id": "cd512240",
   "metadata": {
    "execution": {
     "iopub.execute_input": "2021-08-11T21:49:15.857843Z",
     "iopub.status.busy": "2021-08-11T21:49:15.857267Z",
     "iopub.status.idle": "2021-08-11T21:49:20.157302Z",
     "shell.execute_reply": "2021-08-11T21:49:20.156819Z",
     "shell.execute_reply.started": "2021-08-11T20:41:52.442275Z"
    },
    "papermill": {
     "duration": 4.359769,
     "end_time": "2021-08-11T21:49:20.157537",
     "exception": false,
     "start_time": "2021-08-11T21:49:15.797768",
     "status": "completed"
    },
    "tags": []
   },
   "outputs": [],
   "source": [
    "from keras.models import Sequential\n",
    "from keras.layers import Dense"
   ]
  },
  {
   "cell_type": "code",
   "execution_count": 52,
   "id": "bf04ee60",
   "metadata": {
    "execution": {
     "iopub.execute_input": "2021-08-11T21:49:20.274005Z",
     "iopub.status.busy": "2021-08-11T21:49:20.273294Z",
     "iopub.status.idle": "2021-08-11T21:51:28.957100Z",
     "shell.execute_reply": "2021-08-11T21:51:28.956670Z",
     "shell.execute_reply.started": "2021-08-11T20:41:57.388526Z"
    },
    "papermill": {
     "duration": 128.742273,
     "end_time": "2021-08-11T21:51:28.957225",
     "exception": false,
     "start_time": "2021-08-11T21:49:20.214952",
     "status": "completed"
    },
    "tags": []
   },
   "outputs": [
    {
     "name": "stdout",
     "output_type": "stream",
     "text": [
      "Epoch 1/5\n",
      "9610/9610 [==============================] - 26s 3ms/step - loss: 0.2586 - accuracy: 0.9193\n",
      "Epoch 2/5\n",
      "9610/9610 [==============================] - 25s 3ms/step - loss: 0.2472 - accuracy: 0.9199\n",
      "Epoch 3/5\n",
      "9610/9610 [==============================] - 25s 3ms/step - loss: 0.2484 - accuracy: 0.9185\n",
      "Epoch 4/5\n",
      "9610/9610 [==============================] - 25s 3ms/step - loss: 0.2444 - accuracy: 0.9203\n",
      "Epoch 5/5\n",
      "9610/9610 [==============================] - 25s 3ms/step - loss: 0.2438 - accuracy: 0.9202\n"
     ]
    }
   ],
   "source": [
    "model_2 = Sequential([\n",
    "    Dense(1000, activation='relu', input_shape=(461,)),\n",
    "    Dense(1000, activation='relu'),\n",
    "    Dense(1000, activation='relu'),\n",
    "    Dense(1000, activation='relu'),\n",
    "    Dense(1, activation='sigmoid'),\n",
    "])\n",
    "\n",
    "model_2.compile(optimizer='adam',\n",
    "              loss='binary_crossentropy',\n",
    "              metrics=['accuracy'])\n",
    "              \n",
    "hist_2 = model_2.fit(train, labels,\n",
    "          batch_size=32, epochs=5)"
   ]
  },
  {
   "cell_type": "code",
   "execution_count": 53,
   "id": "8e9f5aca",
   "metadata": {
    "execution": {
     "iopub.execute_input": "2021-08-11T21:51:30.337502Z",
     "iopub.status.busy": "2021-08-11T21:51:30.336835Z",
     "iopub.status.idle": "2021-08-11T21:51:30.516362Z",
     "shell.execute_reply": "2021-08-11T21:51:30.516796Z",
     "shell.execute_reply.started": "2021-08-11T20:44:30.922190Z"
    },
    "papermill": {
     "duration": 0.880642,
     "end_time": "2021-08-11T21:51:30.516939",
     "exception": false,
     "start_time": "2021-08-11T21:51:29.636297",
     "status": "completed"
    },
    "tags": []
   },
   "outputs": [
    {
     "data": {
      "image/png": "[encoded data removed]",
      "text/plain": [
       "<Figure size 432x288 with 1 Axes>"
      ]
     },
     "metadata": {
      "needs_background": "light"
     },
     "output_type": "display_data"
    }
   ],
   "source": [
    "plt.plot(hist_2.history['accuracy'])\n",
    "plt.title('Model accuracy')\n",
    "plt.ylabel('Accuracy')\n",
    "plt.xlabel('Epoch')\n",
    "plt.legend(['Train',], loc='lower right')\n",
    "plt.show()"
   ]
  },
  {
   "cell_type": "markdown",
   "id": "df702f11",
   "metadata": {
    "papermill": {
     "duration": 0.678648,
     "end_time": "2021-08-11T21:51:31.876044",
     "exception": false,
     "start_time": "2021-08-11T21:51:31.197396",
     "status": "completed"
    },
    "tags": []
   },
   "source": [
    "# LGBM CLassifier"
   ]
  },
  {
   "cell_type": "code",
   "execution_count": 54,
   "id": "d24cb8d4",
   "metadata": {
    "execution": {
     "iopub.execute_input": "2021-08-11T21:51:33.232607Z",
     "iopub.status.busy": "2021-08-11T21:51:33.232040Z",
     "iopub.status.idle": "2021-08-11T21:52:39.687820Z",
     "shell.execute_reply": "2021-08-11T21:52:39.688275Z",
     "shell.execute_reply.started": "2021-08-11T20:44:31.141687Z"
    },
    "papermill": {
     "duration": 67.138747,
     "end_time": "2021-08-11T21:52:39.688415",
     "exception": false,
     "start_time": "2021-08-11T21:51:32.549668",
     "status": "completed"
    },
    "tags": []
   },
   "outputs": [
    {
     "data": {
      "text/html": [
       "<style type='text/css'>\n",
       ".datatable table.frame { margin-bottom: 0; }\n",
       ".datatable table.frame thead { border-bottom: none; }\n",
       ".datatable table.frame tr.coltypes td {  color: #FFFFFF;  line-height: 6px;  padding: 0 0.5em;}\n",
       ".datatable .bool    { background: #DDDD99; }\n",
       ".datatable .object  { background: #565656; }\n",
       ".datatable .int     { background: #5D9E5D; }\n",
       ".datatable .float   { background: #4040CC; }\n",
       ".datatable .str     { background: #CC4040; }\n",
       ".datatable .time    { background: #40CC40; }\n",
       ".datatable .row_index {  background: var(--jp-border-color3);  border-right: 1px solid var(--jp-border-color0);  color: var(--jp-ui-font-color3);  font-size: 9px;}\n",
       ".datatable .frame tbody td { text-align: left; }\n",
       ".datatable .frame tr.coltypes .row_index {  background: var(--jp-border-color0);}\n",
       ".datatable th:nth-child(2) { padding-left: 12px; }\n",
       ".datatable .hellipsis {  color: var(--jp-cell-editor-border-color);}\n",
       ".datatable .vellipsis {  background: var(--jp-layout-color0);  color: var(--jp-cell-editor-border-color);}\n",
       ".datatable .na {  color: var(--jp-cell-editor-border-color);  font-size: 80%;}\n",
       ".datatable .sp {  opacity: 0.25;}\n",
       ".datatable .footer { font-size: 9px; }\n",
       ".datatable .frame_dimensions {  background: var(--jp-border-color3);  border-top: 1px solid var(--jp-border-color0);  color: var(--jp-ui-font-color3);  display: inline-block;  opacity: 0.6;  padding: 1px 10px 1px 5px;}\n",
       "</style>\n"
      ],
      "text/plain": [
       "<IPython.core.display.HTML object>"
      ]
     },
     "metadata": {},
     "output_type": "display_data"
    },
    {
     "data": {
      "text/plain": [
       "LGBMClassifier()"
      ]
     },
     "execution_count": 54,
     "metadata": {},
     "output_type": "execute_result"
    }
   ],
   "source": [
    "from lightgbm import LGBMClassifier\n",
    "\n",
    "lgbmc = LGBMClassifier()\n",
    "lgbmc.fit(train, labels)"
   ]
  },
  {
   "cell_type": "code",
   "execution_count": 55,
   "id": "ba6ac551",
   "metadata": {
    "execution": {
     "iopub.execute_input": "2021-08-11T21:52:41.324447Z",
     "iopub.status.busy": "2021-08-11T21:52:41.323757Z",
     "iopub.status.idle": "2021-08-11T21:52:42.938553Z",
     "shell.execute_reply": "2021-08-11T21:52:42.937897Z",
     "shell.execute_reply.started": "2021-08-11T20:45:48.481672Z"
    },
    "papermill": {
     "duration": 2.329635,
     "end_time": "2021-08-11T21:52:42.938726",
     "exception": false,
     "start_time": "2021-08-11T21:52:40.609091",
     "status": "completed"
    },
    "tags": []
   },
   "outputs": [
    {
     "name": "stderr",
     "output_type": "stream",
     "text": [
      "/opt/conda/lib/python3.7/site-packages/tensorflow/python/keras/engine/sequential.py:425: UserWarning: `model.predict_proba()` is deprecated and will be removed after 2021-01-01. Please use `model.predict()` instead.\n",
      "  warnings.warn('`model.predict_proba()` is deprecated and '\n"
     ]
    }
   ],
   "source": [
    "nn_pred = model_2.predict_proba(test)"
   ]
  },
  {
   "cell_type": "code",
   "execution_count": 56,
   "id": "964a1a5b",
   "metadata": {
    "execution": {
     "iopub.execute_input": "2021-08-11T21:52:44.313497Z",
     "iopub.status.busy": "2021-08-11T21:52:44.312756Z",
     "iopub.status.idle": "2021-08-11T21:52:53.135267Z",
     "shell.execute_reply": "2021-08-11T21:52:53.134175Z",
     "shell.execute_reply.started": "2021-08-11T20:45:51.249004Z"
    },
    "papermill": {
     "duration": 9.506298,
     "end_time": "2021-08-11T21:52:53.135400",
     "exception": false,
     "start_time": "2021-08-11T21:52:43.629102",
     "status": "completed"
    },
    "tags": []
   },
   "outputs": [],
   "source": [
    "nn_pred_train = model_2.predict_proba(train)"
   ]
  },
  {
   "cell_type": "code",
   "execution_count": 57,
   "id": "611fa0a2",
   "metadata": {
    "execution": {
     "iopub.execute_input": "2021-08-11T21:52:54.634873Z",
     "iopub.status.busy": "2021-08-11T21:52:54.633619Z",
     "iopub.status.idle": "2021-08-11T21:52:57.403399Z",
     "shell.execute_reply": "2021-08-11T21:52:57.404240Z",
     "shell.execute_reply.started": "2021-08-11T20:45:59.871931Z"
    },
    "papermill": {
     "duration": 3.52112,
     "end_time": "2021-08-11T21:52:57.404438",
     "exception": false,
     "start_time": "2021-08-11T21:52:53.883318",
     "status": "completed"
    },
    "tags": []
   },
   "outputs": [],
   "source": [
    "lgbm_pred_train = lgbmc.predict_proba(train)"
   ]
  },
  {
   "cell_type": "code",
   "execution_count": 58,
   "id": "b95b868c",
   "metadata": {
    "execution": {
     "iopub.execute_input": "2021-08-11T21:52:58.853547Z",
     "iopub.status.busy": "2021-08-11T21:52:58.852383Z",
     "iopub.status.idle": "2021-08-11T21:52:59.260489Z",
     "shell.execute_reply": "2021-08-11T21:52:59.261089Z",
     "shell.execute_reply.started": "2021-08-11T20:46:03.173697Z"
    },
    "papermill": {
     "duration": 1.131451,
     "end_time": "2021-08-11T21:52:59.261274",
     "exception": false,
     "start_time": "2021-08-11T21:52:58.129823",
     "status": "completed"
    },
    "tags": []
   },
   "outputs": [],
   "source": [
    "lgbm_pred = lgbmc.predict_proba(test)"
   ]
  },
  {
   "cell_type": "code",
   "execution_count": 59,
   "id": "18858486",
   "metadata": {
    "execution": {
     "iopub.execute_input": "2021-08-11T21:53:00.726412Z",
     "iopub.status.busy": "2021-08-11T21:53:00.725423Z",
     "iopub.status.idle": "2021-08-11T21:53:00.727921Z",
     "shell.execute_reply": "2021-08-11T21:53:00.728365Z",
     "shell.execute_reply.started": "2021-08-11T20:46:03.630419Z"
    },
    "papermill": {
     "duration": 0.735798,
     "end_time": "2021-08-11T21:53:00.728509",
     "exception": false,
     "start_time": "2021-08-11T21:52:59.992711",
     "status": "completed"
    },
    "tags": []
   },
   "outputs": [],
   "source": [
    "nn_pred=pd.DataFrame(nn_pred)\n",
    "lgbm_pred=pd.DataFrame(lgbm_pred)"
   ]
  },
  {
   "cell_type": "code",
   "execution_count": 60,
   "id": "0c8095e9",
   "metadata": {
    "execution": {
     "iopub.execute_input": "2021-08-11T21:53:02.433054Z",
     "iopub.status.busy": "2021-08-11T21:53:02.432182Z",
     "iopub.status.idle": "2021-08-11T21:53:02.435297Z",
     "shell.execute_reply": "2021-08-11T21:53:02.434801Z",
     "shell.execute_reply.started": "2021-08-11T20:46:03.640871Z"
    },
    "papermill": {
     "duration": 0.979785,
     "end_time": "2021-08-11T21:53:02.435412",
     "exception": false,
     "start_time": "2021-08-11T21:53:01.455627",
     "status": "completed"
    },
    "tags": []
   },
   "outputs": [],
   "source": [
    "nn_pred_train=pd.DataFrame(nn_pred_train)\n",
    "lgbm_pred_train=pd.DataFrame(lgbm_pred_train)"
   ]
  },
  {
   "cell_type": "code",
   "execution_count": 61,
   "id": "c7019c7f",
   "metadata": {
    "execution": {
     "iopub.execute_input": "2021-08-11T21:53:03.919891Z",
     "iopub.status.busy": "2021-08-11T21:53:03.918896Z",
     "iopub.status.idle": "2021-08-11T21:53:03.921760Z",
     "shell.execute_reply": "2021-08-11T21:53:03.921329Z",
     "shell.execute_reply.started": "2021-08-11T20:46:03.651469Z"
    },
    "papermill": {
     "duration": 0.728841,
     "end_time": "2021-08-11T21:53:03.921896",
     "exception": false,
     "start_time": "2021-08-11T21:53:03.193055",
     "status": "completed"
    },
    "tags": []
   },
   "outputs": [],
   "source": [
    "df_test = pd.concat([nn_pred, lgbm_pred], axis=1)"
   ]
  },
  {
   "cell_type": "code",
   "execution_count": 62,
   "id": "ac509d19",
   "metadata": {
    "execution": {
     "iopub.execute_input": "2021-08-11T21:53:05.380495Z",
     "iopub.status.busy": "2021-08-11T21:53:05.379922Z",
     "iopub.status.idle": "2021-08-11T21:53:05.395860Z",
     "shell.execute_reply": "2021-08-11T21:53:05.395310Z",
     "shell.execute_reply.started": "2021-08-11T20:46:03.664389Z"
    },
    "papermill": {
     "duration": 0.748751,
     "end_time": "2021-08-11T21:53:05.396003",
     "exception": false,
     "start_time": "2021-08-11T21:53:04.647252",
     "status": "completed"
    },
    "tags": []
   },
   "outputs": [
    {
     "data": {
      "text/html": [
       "<div>\n",
       "<style scoped>\n",
       "    .dataframe tbody tr th:only-of-type {\n",
       "        vertical-align: middle;\n",
       "    }\n",
       "\n",
       "    .dataframe tbody tr th {\n",
       "        vertical-align: top;\n",
       "    }\n",
       "\n",
       "    .dataframe thead th {\n",
       "        text-align: right;\n",
       "    }\n",
       "</style>\n",
       "<table border=\"1\" class=\"dataframe\">\n",
       "  <thead>\n",
       "    <tr style=\"text-align: right;\">\n",
       "      <th></th>\n",
       "      <th>0</th>\n",
       "      <th>0</th>\n",
       "      <th>1</th>\n",
       "    </tr>\n",
       "  </thead>\n",
       "  <tbody>\n",
       "    <tr>\n",
       "      <th>0</th>\n",
       "      <td>0.089333</td>\n",
       "      <td>0.963578</td>\n",
       "      <td>0.036422</td>\n",
       "    </tr>\n",
       "    <tr>\n",
       "      <th>1</th>\n",
       "      <td>0.187628</td>\n",
       "      <td>0.851197</td>\n",
       "      <td>0.148803</td>\n",
       "    </tr>\n",
       "    <tr>\n",
       "      <th>2</th>\n",
       "      <td>0.031137</td>\n",
       "      <td>0.975541</td>\n",
       "      <td>0.024459</td>\n",
       "    </tr>\n",
       "    <tr>\n",
       "      <th>3</th>\n",
       "      <td>0.065452</td>\n",
       "      <td>0.961073</td>\n",
       "      <td>0.038927</td>\n",
       "    </tr>\n",
       "    <tr>\n",
       "      <th>4</th>\n",
       "      <td>0.192016</td>\n",
       "      <td>0.802111</td>\n",
       "      <td>0.197889</td>\n",
       "    </tr>\n",
       "  </tbody>\n",
       "</table>\n",
       "</div>"
      ],
      "text/plain": [
       "          0         0         1\n",
       "0  0.089333  0.963578  0.036422\n",
       "1  0.187628  0.851197  0.148803\n",
       "2  0.031137  0.975541  0.024459\n",
       "3  0.065452  0.961073  0.038927\n",
       "4  0.192016  0.802111  0.197889"
      ]
     },
     "execution_count": 62,
     "metadata": {},
     "output_type": "execute_result"
    }
   ],
   "source": [
    "df_test.head()"
   ]
  },
  {
   "cell_type": "code",
   "execution_count": 63,
   "id": "12063b54",
   "metadata": {
    "execution": {
     "iopub.execute_input": "2021-08-11T21:53:06.898989Z",
     "iopub.status.busy": "2021-08-11T21:53:06.898281Z",
     "iopub.status.idle": "2021-08-11T21:53:06.901421Z",
     "shell.execute_reply": "2021-08-11T21:53:06.901008Z",
     "shell.execute_reply.started": "2021-08-11T20:46:03.686744Z"
    },
    "papermill": {
     "duration": 0.747019,
     "end_time": "2021-08-11T21:53:06.901537",
     "exception": false,
     "start_time": "2021-08-11T21:53:06.154518",
     "status": "completed"
    },
    "tags": []
   },
   "outputs": [],
   "source": [
    "df_train = pd.concat([nn_pred_train, lgbm_pred_train], axis=1)"
   ]
  },
  {
   "cell_type": "code",
   "execution_count": 64,
   "id": "411c7601",
   "metadata": {
    "execution": {
     "iopub.execute_input": "2021-08-11T21:53:08.366388Z",
     "iopub.status.busy": "2021-08-11T21:53:08.365714Z",
     "iopub.status.idle": "2021-08-11T21:53:08.372117Z",
     "shell.execute_reply": "2021-08-11T21:53:08.371642Z",
     "shell.execute_reply.started": "2021-08-11T20:46:03.697727Z"
    },
    "papermill": {
     "duration": 0.742336,
     "end_time": "2021-08-11T21:53:08.372278",
     "exception": false,
     "start_time": "2021-08-11T21:53:07.629942",
     "status": "completed"
    },
    "tags": []
   },
   "outputs": [
    {
     "data": {
      "text/html": [
       "<div>\n",
       "<style scoped>\n",
       "    .dataframe tbody tr th:only-of-type {\n",
       "        vertical-align: middle;\n",
       "    }\n",
       "\n",
       "    .dataframe tbody tr th {\n",
       "        vertical-align: top;\n",
       "    }\n",
       "\n",
       "    .dataframe thead th {\n",
       "        text-align: right;\n",
       "    }\n",
       "</style>\n",
       "<table border=\"1\" class=\"dataframe\">\n",
       "  <thead>\n",
       "    <tr style=\"text-align: right;\">\n",
       "      <th></th>\n",
       "      <th>0</th>\n",
       "      <th>0</th>\n",
       "      <th>1</th>\n",
       "    </tr>\n",
       "  </thead>\n",
       "  <tbody>\n",
       "    <tr>\n",
       "      <th>0</th>\n",
       "      <td>0.441804</td>\n",
       "      <td>0.708695</td>\n",
       "      <td>0.291305</td>\n",
       "    </tr>\n",
       "    <tr>\n",
       "      <th>1</th>\n",
       "      <td>0.020149</td>\n",
       "      <td>0.965089</td>\n",
       "      <td>0.034911</td>\n",
       "    </tr>\n",
       "    <tr>\n",
       "      <th>2</th>\n",
       "      <td>0.039294</td>\n",
       "      <td>0.961216</td>\n",
       "      <td>0.038784</td>\n",
       "    </tr>\n",
       "    <tr>\n",
       "      <th>3</th>\n",
       "      <td>0.060998</td>\n",
       "      <td>0.968718</td>\n",
       "      <td>0.031282</td>\n",
       "    </tr>\n",
       "    <tr>\n",
       "      <th>4</th>\n",
       "      <td>0.119985</td>\n",
       "      <td>0.902939</td>\n",
       "      <td>0.097061</td>\n",
       "    </tr>\n",
       "  </tbody>\n",
       "</table>\n",
       "</div>"
      ],
      "text/plain": [
       "          0         0         1\n",
       "0  0.441804  0.708695  0.291305\n",
       "1  0.020149  0.965089  0.034911\n",
       "2  0.039294  0.961216  0.038784\n",
       "3  0.060998  0.968718  0.031282\n",
       "4  0.119985  0.902939  0.097061"
      ]
     },
     "execution_count": 64,
     "metadata": {},
     "output_type": "execute_result"
    }
   ],
   "source": [
    "df_train.head()"
   ]
  },
  {
   "cell_type": "code",
   "execution_count": 65,
   "id": "fd7ba8c9",
   "metadata": {
    "execution": {
     "iopub.execute_input": "2021-08-11T21:53:09.876304Z",
     "iopub.status.busy": "2021-08-11T21:53:09.875705Z",
     "iopub.status.idle": "2021-08-11T21:53:09.878820Z",
     "shell.execute_reply": "2021-08-11T21:53:09.879268Z",
     "shell.execute_reply.started": "2021-08-11T21:03:00.786432Z"
    },
    "papermill": {
     "duration": 0.734458,
     "end_time": "2021-08-11T21:53:09.879504",
     "exception": false,
     "start_time": "2021-08-11T21:53:09.145046",
     "status": "completed"
    },
    "tags": []
   },
   "outputs": [
    {
     "name": "stdout",
     "output_type": "stream",
     "text": [
      "(307506, 3)\n"
     ]
    }
   ],
   "source": [
    "print(df_train.shape)"
   ]
  },
  {
   "cell_type": "code",
   "execution_count": 66,
   "id": "986b8ce4",
   "metadata": {
    "execution": {
     "iopub.execute_input": "2021-08-11T21:53:11.347825Z",
     "iopub.status.busy": "2021-08-11T21:53:11.346939Z",
     "iopub.status.idle": "2021-08-11T21:57:23.930465Z",
     "shell.execute_reply": "2021-08-11T21:57:23.930913Z",
     "shell.execute_reply.started": "2021-08-11T21:16:17.361577Z"
    },
    "papermill": {
     "duration": 253.326133,
     "end_time": "2021-08-11T21:57:23.931078",
     "exception": false,
     "start_time": "2021-08-11T21:53:10.604945",
     "status": "completed"
    },
    "tags": []
   },
   "outputs": [
    {
     "name": "stdout",
     "output_type": "stream",
     "text": [
      "Epoch 1/10\n",
      "9610/9610 [==============================] - 25s 3ms/step - loss: 0.2248 - accuracy: 0.9229\n",
      "Epoch 2/10\n",
      "9610/9610 [==============================] - 25s 3ms/step - loss: 0.2205 - accuracy: 0.9232\n",
      "Epoch 3/10\n",
      "9610/9610 [==============================] - 25s 3ms/step - loss: 0.2182 - accuracy: 0.9242\n",
      "Epoch 4/10\n",
      "9610/9610 [==============================] - 25s 3ms/step - loss: 0.2183 - accuracy: 0.9243\n",
      "Epoch 5/10\n",
      "9610/9610 [==============================] - 25s 3ms/step - loss: 0.2203 - accuracy: 0.9229\n",
      "Epoch 6/10\n",
      "9610/9610 [==============================] - 26s 3ms/step - loss: 0.2183 - accuracy: 0.9238\n",
      "Epoch 7/10\n",
      "9610/9610 [==============================] - 25s 3ms/step - loss: 0.2172 - accuracy: 0.9241\n",
      "Epoch 8/10\n",
      "9610/9610 [==============================] - 25s 3ms/step - loss: 0.2165 - accuracy: 0.9240\n",
      "Epoch 9/10\n",
      "9610/9610 [==============================] - 25s 3ms/step - loss: 0.2165 - accuracy: 0.9245\n",
      "Epoch 10/10\n",
      "9610/9610 [==============================] - 26s 3ms/step - loss: 0.2167 - accuracy: 0.9241\n"
     ]
    }
   ],
   "source": [
    "model = Sequential([\n",
    "    Dense(1000, activation='relu', input_shape=(3,)),\n",
    "    Dense(1000, activation='relu'),\n",
    "    Dense(1000, activation='relu'),\n",
    "    Dense(1000, activation='relu'),\n",
    "    Dense(1, activation='sigmoid'),\n",
    "])\n",
    "\n",
    "model.compile(optimizer='adam',\n",
    "              loss='binary_crossentropy',\n",
    "              metrics=['accuracy'])\n",
    "              \n",
    "hist = model.fit(df_train, labels,\n",
    "          batch_size=32, epochs=10)"
   ]
  },
  {
   "cell_type": "code",
   "execution_count": 67,
   "id": "65f0c67e",
   "metadata": {
    "execution": {
     "iopub.execute_input": "2021-08-11T21:57:28.091267Z",
     "iopub.status.busy": "2021-08-11T21:57:28.090401Z",
     "iopub.status.idle": "2021-08-11T21:57:29.215495Z",
     "shell.execute_reply": "2021-08-11T21:57:29.214250Z",
     "shell.execute_reply.started": "2021-08-11T21:40:43.488950Z"
    },
    "papermill": {
     "duration": 3.244669,
     "end_time": "2021-08-11T21:57:29.215639",
     "exception": false,
     "start_time": "2021-08-11T21:57:25.970970",
     "status": "completed"
    },
    "tags": []
   },
   "outputs": [
    {
     "name": "stderr",
     "output_type": "stream",
     "text": [
      "/opt/conda/lib/python3.7/site-packages/tensorflow/python/keras/engine/sequential.py:425: UserWarning: `model.predict_proba()` is deprecated and will be removed after 2021-01-01. Please use `model.predict()` instead.\n",
      "  warnings.warn('`model.predict_proba()` is deprecated and '\n"
     ]
    }
   ],
   "source": [
    "pred = model.predict_proba(df_test)"
   ]
  },
  {
   "cell_type": "code",
   "execution_count": 68,
   "id": "87dffbbe",
   "metadata": {
    "execution": {
     "iopub.execute_input": "2021-08-11T21:57:33.112410Z",
     "iopub.status.busy": "2021-08-11T21:57:33.111125Z",
     "iopub.status.idle": "2021-08-11T21:57:33.316748Z",
     "shell.execute_reply": "2021-08-11T21:57:33.317519Z",
     "shell.execute_reply.started": "2021-08-11T21:41:49.784670Z"
    },
    "papermill": {
     "duration": 2.159325,
     "end_time": "2021-08-11T21:57:33.317760",
     "exception": false,
     "start_time": "2021-08-11T21:57:31.158435",
     "status": "completed"
    },
    "tags": []
   },
   "outputs": [
    {
     "name": "stderr",
     "output_type": "stream",
     "text": [
      "/opt/conda/lib/python3.7/site-packages/ipykernel_launcher.py:2: SettingWithCopyWarning: \n",
      "A value is trying to be set on a copy of a slice from a DataFrame.\n",
      "Try using .loc[row_indexer,col_indexer] = value instead\n",
      "\n",
      "See the caveats in the documentation: https://pandas.pydata.org/pandas-docs/stable/user_guide/indexing.html#returning-a-view-versus-a-copy\n",
      "  \n"
     ]
    }
   ],
   "source": [
    "submit = test_df[['SK_ID_CURR']]\n",
    "submit['TARGET'] = pred\n",
    "submit.to_csv('NN+lgbm+NN.csv', index = False)"
   ]
  }
 ],
 "metadata": {
  "kernelspec": {
   "display_name": "Python 3",
   "language": "python",
   "name": "python3"
  },
  "language_info": {
   "codemirror_mode": {
    "name": "ipython",
    "version": 3
   },
   "file_extension": ".py",
   "mimetype": "text/x-python",
   "name": "python",
   "nbconvert_exporter": "python",
   "pygments_lexer": "ipython3",
   "version": "3.7.10"
  },
  "papermill": {
   "default_parameters": {},
   "duration": 672.316001,
   "end_time": "2021-08-11T21:57:37.524104",
   "environment_variables": {},
   "exception": null,
   "input_path": "__notebook__.ipynb",
   "output_path": "__notebook__.ipynb",
   "parameters": {},
   "start_time": "2021-08-11T21:46:25.208103",
   "version": "2.3.3"
  }
 },
 "nbformat": 4,
 "nbformat_minor": 5
}
