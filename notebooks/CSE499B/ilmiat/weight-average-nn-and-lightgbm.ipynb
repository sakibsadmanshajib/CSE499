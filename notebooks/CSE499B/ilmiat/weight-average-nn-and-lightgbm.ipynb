{
 "cells": [
  {
   "cell_type": "code",
   "execution_count": null,
   "id": "2e36d293",
   "metadata": {},
   "outputs": [],
   "source": [
    "import numpy as np\n",
    "import pandas as pd \n",
    "import os"
   ]
  },
  {
   "cell_type": "code",
   "execution_count": null,
   "id": "ddc51671",
   "metadata": {},
   "outputs": [],
   "source": [
    "lgm_result=pd.read_csv('../input/home-credit-default-risk-by-ilmiat/data/data_file_1.csv')\n",
    "\n",
    "nn_result=pd.read_csv('../input/weight-average/nn_embedding_submission (1).csv')\n"
   ]
  },
  {
   "cell_type": "code",
   "execution_count": null,
   "id": "2cdc0eff",
   "metadata": {},
   "outputs": [],
   "source": [
    "lgm_result.rename(columns={'TARGET':'lgm_TARGET'},inplace=True)\n",
    "\n",
    "nn_result.rename(columns={'TARGET':'nn_TARGET'},inplace=True)\n"
   ]
  },
  {
   "cell_type": "code",
   "execution_count": null,
   "id": "5d512c06",
   "metadata": {},
   "outputs": [],
   "source": [
    "agg = lgm_result.merge(nn_result, on='SK_ID_CURR')\n"
   ]
  },
  {
   "cell_type": "code",
   "execution_count": null,
   "id": "00499298",
   "metadata": {},
   "outputs": [],
   "source": [
    "sub=pd.merge(lgm_result,nn_result,on='SK_ID_CURR')\n",
    "sub['TARGET']=0.01*agg['nn_TARGET']+0.99*agg['lgm_TARGET']\n",
    "sub=sub.drop(columns=['nn_TARGET','lgm_TARGET'])\n",
    "sub.to_csv('subm_lgm_nn.csv', index=False, float_format='%.8f')"
   ]
  }
 ],
 "metadata": {
  "kernelspec": {
   "display_name": "Python 3",
   "language": "python",
   "name": "python3"
  },
  "language_info": {
   "codemirror_mode": {
    "name": "ipython",
    "version": 3
   },
   "file_extension": ".py",
   "mimetype": "text/x-python",
   "name": "python",
   "nbconvert_exporter": "python",
   "pygments_lexer": "ipython3"
  },
  "papermill": {
   "default_parameters": {},
   "duration": 10.741404,
   "end_time": "2021-08-28T10:38:20.003238",
   "environment_variables": {},
   "exception": null,
   "input_path": "__notebook__.ipynb",
   "output_path": "__notebook__.ipynb",
   "parameters": {},
   "start_time": "2021-08-28T10:38:09.261834",
   "version": "2.3.3"
  }
 },
 "nbformat": 4,
 "nbformat_minor": 5
}
