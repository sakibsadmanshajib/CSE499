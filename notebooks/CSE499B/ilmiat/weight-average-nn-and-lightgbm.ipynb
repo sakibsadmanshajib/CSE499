{
 "cells": [
  {
   "cell_type": "code",
   "execution_count": 1,
   "id": "2e36d293",
   "metadata": {
    "execution": {
     "iopub.execute_input": "2021-08-28T10:38:18.120132Z",
     "iopub.status.busy": "2021-08-28T10:38:18.118900Z",
     "iopub.status.idle": "2021-08-28T10:38:18.129825Z",
     "shell.execute_reply": "2021-08-28T10:38:18.130367Z",
     "shell.execute_reply.started": "2021-08-28T10:37:25.065001Z"
    },
    "papermill": {
     "duration": 0.022116,
     "end_time": "2021-08-28T10:38:18.130693",
     "exception": false,
     "start_time": "2021-08-28T10:38:18.108577",
     "status": "completed"
    },
    "tags": []
   },
   "outputs": [],
   "source": [
    "import numpy as np\n",
    "import pandas as pd \n",
    "import os"
   ]
  },
  {
   "cell_type": "code",
   "execution_count": 2,
   "id": "ddc51671",
   "metadata": {
    "_cell_guid": "b1076dfc-b9ad-4769-8c92-a6c4dae69d19",
    "_uuid": "8f2839f25d086af736a60e9eeb907d3b93b6e0e5",
    "execution": {
     "iopub.execute_input": "2021-08-28T10:38:18.145503Z",
     "iopub.status.busy": "2021-08-28T10:38:18.144883Z",
     "iopub.status.idle": "2021-08-28T10:38:18.337691Z",
     "shell.execute_reply": "2021-08-28T10:38:18.338191Z",
     "shell.execute_reply.started": "2021-08-28T10:37:26.625193Z"
    },
    "papermill": {
     "duration": 0.201587,
     "end_time": "2021-08-28T10:38:18.338383",
     "exception": false,
     "start_time": "2021-08-28T10:38:18.136796",
     "status": "completed"
    },
    "tags": []
   },
   "outputs": [],
   "source": [
    "lgm_result=pd.read_csv('../input/home-credit-default-risk-by-ilmiat/data/data_file_1.csv')\n",
    "\n",
    "nn_result=pd.read_csv('../input/weight-average/nn_embedding_submission (1).csv')\n"
   ]
  },
  {
   "cell_type": "code",
   "execution_count": 3,
   "id": "2cdc0eff",
   "metadata": {
    "execution": {
     "iopub.execute_input": "2021-08-28T10:38:18.352412Z",
     "iopub.status.busy": "2021-08-28T10:38:18.351799Z",
     "iopub.status.idle": "2021-08-28T10:38:18.363683Z",
     "shell.execute_reply": "2021-08-28T10:38:18.363005Z",
     "shell.execute_reply.started": "2021-08-28T10:37:37.457840Z"
    },
    "papermill": {
     "duration": 0.019841,
     "end_time": "2021-08-28T10:38:18.363827",
     "exception": false,
     "start_time": "2021-08-28T10:38:18.343986",
     "status": "completed"
    },
    "tags": []
   },
   "outputs": [],
   "source": [
    "lgm_result.rename(columns={'TARGET':'lgm_TARGET'},inplace=True)\n",
    "\n",
    "nn_result.rename(columns={'TARGET':'nn_TARGET'},inplace=True)\n"
   ]
  },
  {
   "cell_type": "code",
   "execution_count": 4,
   "id": "5d512c06",
   "metadata": {
    "execution": {
     "iopub.execute_input": "2021-08-28T10:38:18.383051Z",
     "iopub.status.busy": "2021-08-28T10:38:18.382334Z",
     "iopub.status.idle": "2021-08-28T10:38:18.411230Z",
     "shell.execute_reply": "2021-08-28T10:38:18.410613Z",
     "shell.execute_reply.started": "2021-08-28T10:37:51.343048Z"
    },
    "papermill": {
     "duration": 0.041754,
     "end_time": "2021-08-28T10:38:18.411376",
     "exception": false,
     "start_time": "2021-08-28T10:38:18.369622",
     "status": "completed"
    },
    "tags": []
   },
   "outputs": [],
   "source": [
    "agg = lgm_result.merge(nn_result, on='SK_ID_CURR')\n"
   ]
  },
  {
   "cell_type": "code",
   "execution_count": 5,
   "id": "00499298",
   "metadata": {
    "execution": {
     "iopub.execute_input": "2021-08-28T10:38:18.428813Z",
     "iopub.status.busy": "2021-08-28T10:38:18.428125Z",
     "iopub.status.idle": "2021-08-28T10:38:18.696062Z",
     "shell.execute_reply": "2021-08-28T10:38:18.695318Z",
     "shell.execute_reply.started": "2021-08-28T10:37:57.150065Z"
    },
    "papermill": {
     "duration": 0.279241,
     "end_time": "2021-08-28T10:38:18.696221",
     "exception": false,
     "start_time": "2021-08-28T10:38:18.416980",
     "status": "completed"
    },
    "tags": []
   },
   "outputs": [],
   "source": [
    "sub=pd.merge(lgm_result,nn_result,on='SK_ID_CURR')\n",
    "sub['TARGET']=0.01*agg['nn_TARGET']+0.99*agg['lgm_TARGET']\n",
    "sub=sub.drop(columns=['nn_TARGET','lgm_TARGET'])\n",
    "sub.to_csv('subm_lgm_nn.csv', index=False, float_format='%.8f')"
   ]
  }
 ],
 "metadata": {
  "kernelspec": {
   "display_name": "Python 3",
   "language": "python",
   "name": "python3"
  },
  "language_info": {
   "codemirror_mode": {
    "name": "ipython",
    "version": 3
   },
   "file_extension": ".py",
   "mimetype": "text/x-python",
   "name": "python",
   "nbconvert_exporter": "python",
   "pygments_lexer": "ipython3",
   "version": "3.7.10"
  },
  "papermill": {
   "default_parameters": {},
   "duration": 10.741404,
   "end_time": "2021-08-28T10:38:20.003238",
   "environment_variables": {},
   "exception": null,
   "input_path": "__notebook__.ipynb",
   "output_path": "__notebook__.ipynb",
   "parameters": {},
   "start_time": "2021-08-28T10:38:09.261834",
   "version": "2.3.3"
  }
 },
 "nbformat": 4,
 "nbformat_minor": 5
}
