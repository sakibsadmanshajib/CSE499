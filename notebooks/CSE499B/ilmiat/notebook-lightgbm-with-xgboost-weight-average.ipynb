{
 "cells": [
  {
   "cell_type": "code",
   "execution_count": 1,
   "id": "6217a3b3",
   "metadata": {
    "_cell_guid": "b1076dfc-b9ad-4769-8c92-a6c4dae69d19",
    "_uuid": "8f2839f25d086af736a60e9eeb907d3b93b6e0e5",
    "execution": {
     "iopub.execute_input": "2021-08-28T10:39:57.677281Z",
     "iopub.status.busy": "2021-08-28T10:39:57.676672Z",
     "iopub.status.idle": "2021-08-28T10:39:57.680110Z",
     "shell.execute_reply": "2021-08-28T10:39:57.679511Z",
     "shell.execute_reply.started": "2021-08-28T10:38:49.962630Z"
    },
    "papermill": {
     "duration": 0.020914,
     "end_time": "2021-08-28T10:39:57.680277",
     "exception": false,
     "start_time": "2021-08-28T10:39:57.659363",
     "status": "completed"
    },
    "tags": []
   },
   "outputs": [],
   "source": [
    "import numpy as np\n",
    "import pandas as pd \n",
    "import os"
   ]
  },
  {
   "cell_type": "code",
   "execution_count": 2,
   "id": "c436f6a2",
   "metadata": {
    "execution": {
     "iopub.execute_input": "2021-08-28T10:39:57.696859Z",
     "iopub.status.busy": "2021-08-28T10:39:57.696195Z",
     "iopub.status.idle": "2021-08-28T10:39:57.866481Z",
     "shell.execute_reply": "2021-08-28T10:39:57.867040Z",
     "shell.execute_reply.started": "2021-08-28T10:38:49.982067Z"
    },
    "papermill": {
     "duration": 0.180929,
     "end_time": "2021-08-28T10:39:57.867228",
     "exception": false,
     "start_time": "2021-08-28T10:39:57.686299",
     "status": "completed"
    },
    "tags": []
   },
   "outputs": [],
   "source": [
    "lgm_result=pd.read_csv('../input/home-credit-default-risk-by-ilmiat/data/data_file_1.csv')\n",
    "\n",
    "\n",
    "xgb_result=pd.read_csv('../input/home-credit-default-risk-by-ilmiat/data/data_file_5.csv')"
   ]
  },
  {
   "cell_type": "code",
   "execution_count": 3,
   "id": "5694500c",
   "metadata": {
    "execution": {
     "iopub.execute_input": "2021-08-28T10:39:57.890217Z",
     "iopub.status.busy": "2021-08-28T10:39:57.889529Z",
     "iopub.status.idle": "2021-08-28T10:39:57.894432Z",
     "shell.execute_reply": "2021-08-28T10:39:57.893795Z",
     "shell.execute_reply.started": "2021-08-28T10:38:56.568953Z"
    },
    "papermill": {
     "duration": 0.021583,
     "end_time": "2021-08-28T10:39:57.894583",
     "exception": false,
     "start_time": "2021-08-28T10:39:57.873000",
     "status": "completed"
    },
    "tags": []
   },
   "outputs": [],
   "source": [
    "lgm_result.rename(columns={'TARGET':'lgm_TARGET'},inplace=True)\n",
    "\n",
    "xgb_result.rename(columns={'TARGET':'xgb_TARGET'},inplace=True)"
   ]
  },
  {
   "cell_type": "code",
   "execution_count": 4,
   "id": "a5aae085",
   "metadata": {
    "execution": {
     "iopub.execute_input": "2021-08-28T10:39:57.917562Z",
     "iopub.status.busy": "2021-08-28T10:39:57.912656Z",
     "iopub.status.idle": "2021-08-28T10:39:57.942171Z",
     "shell.execute_reply": "2021-08-28T10:39:57.941433Z",
     "shell.execute_reply.started": "2021-08-28T10:39:35.418811Z"
    },
    "papermill": {
     "duration": 0.04212,
     "end_time": "2021-08-28T10:39:57.942317",
     "exception": false,
     "start_time": "2021-08-28T10:39:57.900197",
     "status": "completed"
    },
    "tags": []
   },
   "outputs": [],
   "source": [
    "agg = lgm_result.merge(xgb_result, on='SK_ID_CURR')\n"
   ]
  },
  {
   "cell_type": "code",
   "execution_count": 5,
   "id": "1f63b54d",
   "metadata": {
    "execution": {
     "iopub.execute_input": "2021-08-28T10:39:57.960264Z",
     "iopub.status.busy": "2021-08-28T10:39:57.958783Z",
     "iopub.status.idle": "2021-08-28T10:39:58.257011Z",
     "shell.execute_reply": "2021-08-28T10:39:58.256371Z",
     "shell.execute_reply.started": "2021-08-28T10:39:37.554806Z"
    },
    "papermill": {
     "duration": 0.309198,
     "end_time": "2021-08-28T10:39:58.257159",
     "exception": false,
     "start_time": "2021-08-28T10:39:57.947961",
     "status": "completed"
    },
    "tags": []
   },
   "outputs": [],
   "source": [
    "sub=pd.merge(lgm_result,xgb_result,on='SK_ID_CURR')\n",
    "sub['TARGET']=0.01*agg['xgb_TARGET']+0.99*agg['lgm_TARGET']\n",
    "sub=sub.drop(columns=['xgb_TARGET','lgm_TARGET'])\n",
    "sub.to_csv('subm_lgm_xgb.csv', index=False, float_format='%.8f')"
   ]
  }
 ],
 "metadata": {
  "kernelspec": {
   "display_name": "Python 3",
   "language": "python",
   "name": "python3"
  },
  "language_info": {
   "codemirror_mode": {
    "name": "ipython",
    "version": 3
   },
   "file_extension": ".py",
   "mimetype": "text/x-python",
   "name": "python",
   "nbconvert_exporter": "python",
   "pygments_lexer": "ipython3",
   "version": "3.7.10"
  },
  "papermill": {
   "default_parameters": {},
   "duration": 9.453333,
   "end_time": "2021-08-28T10:39:58.871414",
   "environment_variables": {},
   "exception": null,
   "input_path": "__notebook__.ipynb",
   "output_path": "__notebook__.ipynb",
   "parameters": {},
   "start_time": "2021-08-28T10:39:49.418081",
   "version": "2.3.3"
  }
 },
 "nbformat": 4,
 "nbformat_minor": 5
}
