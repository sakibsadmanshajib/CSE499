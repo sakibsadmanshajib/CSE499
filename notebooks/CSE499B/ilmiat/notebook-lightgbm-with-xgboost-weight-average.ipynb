{
 "cells": [
  {
   "cell_type": "code",
   "execution_count": null,
   "id": "6217a3b3",
   "metadata": {},
   "outputs": [],
   "source": [
    "import numpy as np\n",
    "import pandas as pd \n",
    "import os"
   ]
  },
  {
   "cell_type": "code",
   "execution_count": null,
   "id": "c436f6a2",
   "metadata": {},
   "outputs": [],
   "source": [
    "lgm_result=pd.read_csv('../input/home-credit-default-risk-by-ilmiat/data/data_file_1.csv')\n",
    "\n",
    "\n",
    "xgb_result=pd.read_csv('../input/home-credit-default-risk-by-ilmiat/data/data_file_5.csv')"
   ]
  },
  {
   "cell_type": "code",
   "execution_count": null,
   "id": "5694500c",
   "metadata": {},
   "outputs": [],
   "source": [
    "lgm_result.rename(columns={'TARGET':'lgm_TARGET'},inplace=True)\n",
    "\n",
    "xgb_result.rename(columns={'TARGET':'xgb_TARGET'},inplace=True)"
   ]
  },
  {
   "cell_type": "code",
   "execution_count": null,
   "id": "a5aae085",
   "metadata": {},
   "outputs": [],
   "source": [
    "agg = lgm_result.merge(xgb_result, on='SK_ID_CURR')\n"
   ]
  },
  {
   "cell_type": "code",
   "execution_count": null,
   "id": "1f63b54d",
   "metadata": {},
   "outputs": [],
   "source": [
    "sub=pd.merge(lgm_result,xgb_result,on='SK_ID_CURR')\n",
    "sub['TARGET']=0.01*agg['xgb_TARGET']+0.99*agg['lgm_TARGET']\n",
    "sub=sub.drop(columns=['xgb_TARGET','lgm_TARGET'])\n",
    "sub.to_csv('subm_lgm_xgb.csv', index=False, float_format='%.8f')"
   ]
  }
 ],
 "metadata": {
  "kernelspec": {
   "display_name": "Python 3",
   "language": "python",
   "name": "python3"
  },
  "language_info": {
   "codemirror_mode": {
    "name": "ipython",
    "version": 3
   },
   "file_extension": ".py",
   "mimetype": "text/x-python",
   "name": "python",
   "nbconvert_exporter": "python",
   "pygments_lexer": "ipython3"
  },
  "papermill": {
   "default_parameters": {},
   "duration": 9.453333,
   "end_time": "2021-08-28T10:39:58.871414",
   "environment_variables": {},
   "exception": null,
   "input_path": "__notebook__.ipynb",
   "output_path": "__notebook__.ipynb",
   "parameters": {},
   "start_time": "2021-08-28T10:39:49.418081",
   "version": "2.3.3"
  }
 },
 "nbformat": 4,
 "nbformat_minor": 5
}
