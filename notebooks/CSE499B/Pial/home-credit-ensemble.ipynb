{
 "cells": [
  {
   "cell_type": "code",
   "execution_count": 1,
   "id": "b1faeaab",
   "metadata": {
    "_cell_guid": "c4d0828e-5395-4fee-94c1-1921aaadcce9",
    "_uuid": "d4f033c3-0f71-4f16-984d-6699c7caac1b",
    "collapsed": false,
    "execution": {
     "iopub.execute_input": "2021-07-25T09:19:43.413299Z",
     "iopub.status.busy": "2021-07-25T09:19:43.412132Z",
     "iopub.status.idle": "2021-07-25T09:19:43.899617Z",
     "shell.execute_reply": "2021-07-25T09:19:43.898612Z",
     "shell.execute_reply.started": "2021-07-24T19:42:03.729634Z"
    },
    "jupyter": {
     "outputs_hidden": false
    },
    "papermill": {
     "duration": 0.508965,
     "end_time": "2021-07-25T09:19:43.899833",
     "exception": false,
     "start_time": "2021-07-25T09:19:43.390868",
     "status": "completed"
    },
    "tags": []
   },
   "outputs": [],
   "source": [
    "import numpy as np\n",
    "import pandas as pd \n",
    "import os\n",
    "nn_result=pd.read_csv('../input/sub-data/lgb.csv')\n",
    "log_result=pd.read_csv('../input/sub-data/nn_log.csv')\n",
    "nn_result.rename(columns={'TARGET':'nn_TARGET'},inplace=True)\n",
    "log_result.rename(columns={'TARGET':'log_TARGET'},inplace=True)\n",
    "# print(nn_result)\n",
    "# print(lgb_result)\n",
    "sub=pd.merge(nn_result,log_result,on='SK_ID_CURR')\n",
    "sub['TARGET']=0*sub['nn_TARGET']+1*sub['log_TARGET']\n",
    "sub=sub.drop(columns=['log_TARGET','nn_TARGET'])\n",
    "sub.to_csv('lgb_nn_log.csv', index=False, float_format='%.8f')"
   ]
  },
  {
   "cell_type": "code",
   "execution_count": 2,
   "id": "da6e6502",
   "metadata": {
    "_cell_guid": "d8dcc80d-40c6-4e82-9c15-d797763d68a0",
    "_uuid": "53339e22-fa91-4ceb-ba1f-12204070958b",
    "collapsed": false,
    "execution": {
     "iopub.execute_input": "2021-07-25T09:19:43.939772Z",
     "iopub.status.busy": "2021-07-25T09:19:43.938712Z",
     "iopub.status.idle": "2021-07-25T09:19:50.629766Z",
     "shell.execute_reply": "2021-07-25T09:19:50.628870Z",
     "shell.execute_reply.started": "2021-07-24T19:42:04.039546Z"
    },
    "jupyter": {
     "outputs_hidden": false
    },
    "papermill": {
     "duration": 6.711906,
     "end_time": "2021-07-25T09:19:50.629940",
     "exception": false,
     "start_time": "2021-07-25T09:19:43.918034",
     "status": "completed"
    },
    "tags": []
   },
   "outputs": [],
   "source": [
    "import time\n",
    "import os\n",
    "import gc\n",
    "import pandas as pd\n",
    "import numpy as np\n",
    "import tensorflow as tf\n",
    "from sklearn.preprocessing import LabelBinarizer\n",
    "from sklearn.preprocessing import StandardScaler\n",
    "from sklearn.metrics import roc_auc_score"
   ]
  },
  {
   "cell_type": "code",
   "execution_count": 3,
   "id": "82f12dc4",
   "metadata": {
    "_cell_guid": "6d45c81c-a4c8-44da-a4e6-36a7396363f6",
    "_uuid": "a20262f4-6fd5-4cfe-a2a2-47e40bc2f73f",
    "collapsed": false,
    "execution": {
     "iopub.execute_input": "2021-07-25T09:19:50.669424Z",
     "iopub.status.busy": "2021-07-25T09:19:50.668486Z",
     "iopub.status.idle": "2021-07-25T09:19:50.746653Z",
     "shell.execute_reply": "2021-07-25T09:19:50.747443Z",
     "shell.execute_reply.started": "2021-07-24T19:42:04.046068Z"
    },
    "jupyter": {
     "outputs_hidden": false
    },
    "papermill": {
     "duration": 0.101881,
     "end_time": "2021-07-25T09:19:50.747690",
     "exception": false,
     "start_time": "2021-07-25T09:19:50.645809",
     "status": "completed"
    },
    "tags": []
   },
   "outputs": [
    {
     "name": "stdout",
     "output_type": "stream",
     "text": [
      "Loading data...\n",
      "Time elapsed 0 sec\n",
      "Pre-processing data...\n"
     ]
    }
   ],
   "source": [
    "# Load data\n",
    "start_time = time.time()\n",
    "input_dir = os.path.join(os.pardir, 'input/sub-data')\n",
    "print('Loading data...')\n",
    "rows_read = None\n",
    "app_train_df = pd.read_csv(os.path.join(input_dir, 'lgb.csv'), nrows=rows_read)\n",
    "app_test_df = pd.read_csv(os.path.join(input_dir, 'lgb_nn_log.csv'), nrows=rows_read)\n",
    "print('Time elapsed %.0f sec'%(time.time()-start_time))\n",
    "print('Pre-processing data...')"
   ]
  },
  {
   "cell_type": "code",
   "execution_count": 4,
   "id": "3f8d5b23",
   "metadata": {
    "_cell_guid": "449cdc3e-d0e5-4696-a46b-ab4b19682a02",
    "_uuid": "61d87103-5ea3-48a7-94cd-fd626677fb4f",
    "collapsed": false,
    "execution": {
     "iopub.execute_input": "2021-07-25T09:19:50.789084Z",
     "iopub.status.busy": "2021-07-25T09:19:50.788441Z",
     "iopub.status.idle": "2021-07-25T09:19:51.050666Z",
     "shell.execute_reply": "2021-07-25T09:19:51.050164Z",
     "shell.execute_reply.started": "2021-07-24T19:42:04.110986Z"
    },
    "jupyter": {
     "outputs_hidden": false
    },
    "papermill": {
     "duration": 0.285352,
     "end_time": "2021-07-25T09:19:51.050809",
     "exception": false,
     "start_time": "2021-07-25T09:19:50.765457",
     "status": "completed"
    },
    "tags": []
   },
   "outputs": [
    {
     "data": {
      "text/plain": [
       "42"
      ]
     },
     "execution_count": 4,
     "metadata": {},
     "output_type": "execute_result"
    }
   ],
   "source": [
    "# Merge the datasets into a single one\n",
    "target = app_train_df.pop('TARGET')\n",
    "len_train = len(app_train_df)\n",
    "merged_df = pd.concat([app_train_df, app_test_df])\n",
    "meta_df = merged_df.pop('SK_ID_CURR')\n",
    "del app_test_df, app_train_df\n",
    "gc.collect()"
   ]
  },
  {
   "cell_type": "code",
   "execution_count": 5,
   "id": "6aa2400d",
   "metadata": {
    "_cell_guid": "da99ed99-f387-45d8-b42b-e84959e4f66b",
    "_uuid": "1b74a9ea-0cb7-4255-9846-4b4f418201fe",
    "collapsed": false,
    "execution": {
     "iopub.execute_input": "2021-07-25T09:19:51.094813Z",
     "iopub.status.busy": "2021-07-25T09:19:51.092231Z",
     "iopub.status.idle": "2021-07-25T09:19:51.100012Z",
     "shell.execute_reply": "2021-07-25T09:19:51.099384Z",
     "shell.execute_reply.started": "2021-07-24T19:42:04.29689Z"
    },
    "jupyter": {
     "outputs_hidden": false
    },
    "papermill": {
     "duration": 0.033091,
     "end_time": "2021-07-25T09:19:51.100216",
     "exception": false,
     "start_time": "2021-07-25T09:19:51.067125",
     "status": "completed"
    },
    "tags": []
   },
   "outputs": [
    {
     "name": "stdout",
     "output_type": "stream",
     "text": [
      "Using 1 prediction variables\n",
      "Encoding 0 non-numeric columns...\n",
      "Now using 1 prediction variables\n",
      "Time elapsed 0 sec\n"
     ]
    }
   ],
   "source": [
    "# Encode categoricals: 1-hot\n",
    "categorical_feats = merged_df.columns[merged_df.dtypes == 'object']\n",
    "print('Using %d prediction variables'%(merged_df.shape[1]))\n",
    "print('Encoding %d non-numeric columns...'%(merged_df.columns[merged_df.dtypes == 'object'].shape))\n",
    "for feat in categorical_feats:\n",
    "    merged_df[feat].fillna('MISSING', inplace=True) # populate missing labels\n",
    "    encoder = LabelBinarizer() # works with text\n",
    "    new_columns = encoder.fit_transform(merged_df[feat])\n",
    "    i=0\n",
    "    for u in merged_df[feat].unique():\n",
    "        if i<new_columns.shape[1]:\n",
    "            merged_df[feat+'_'+u]=new_columns[:,i]\n",
    "            i+=1\n",
    "    merged_df.drop(feat, axis=1, inplace=True)\n",
    "print('Now using %d prediction variables'%(merged_df.shape[1]))\n",
    "print('Time elapsed %.0f sec'%(time.time()-start_time))"
   ]
  },
  {
   "cell_type": "code",
   "execution_count": 6,
   "id": "eeda3bb3",
   "metadata": {
    "_cell_guid": "4d703f61-6e7d-4404-8f46-4dbaecda9bef",
    "_uuid": "7b957286-c859-43da-ae94-809939fcd8fd",
    "collapsed": false,
    "execution": {
     "iopub.execute_input": "2021-07-25T09:19:51.141424Z",
     "iopub.status.busy": "2021-07-25T09:19:51.140747Z",
     "iopub.status.idle": "2021-07-25T09:19:51.148077Z",
     "shell.execute_reply": "2021-07-25T09:19:51.146954Z",
     "shell.execute_reply.started": "2021-07-24T19:42:04.309271Z"
    },
    "jupyter": {
     "outputs_hidden": false
    },
    "papermill": {
     "duration": 0.030211,
     "end_time": "2021-07-25T09:19:51.148276",
     "exception": false,
     "start_time": "2021-07-25T09:19:51.118065",
     "status": "completed"
    },
    "tags": []
   },
   "outputs": [],
   "source": [
    "# handle missing values\n",
    "null_counts = merged_df.isnull().sum()\n",
    "null_counts = null_counts[null_counts > 0]\n",
    "null_ratios = null_counts / len(merged_df)"
   ]
  },
  {
   "cell_type": "code",
   "execution_count": 7,
   "id": "1fc345a0",
   "metadata": {
    "_cell_guid": "3d3eb481-3fea-4181-82be-ae897ead13a1",
    "_uuid": "7576cff4-1c6a-409e-9126-74b0f092afd5",
    "collapsed": false,
    "execution": {
     "iopub.execute_input": "2021-07-25T09:19:51.187561Z",
     "iopub.status.busy": "2021-07-25T09:19:51.186561Z",
     "iopub.status.idle": "2021-07-25T09:19:51.194989Z",
     "shell.execute_reply": "2021-07-25T09:19:51.195599Z",
     "shell.execute_reply.started": "2021-07-24T19:42:04.322854Z"
    },
    "jupyter": {
     "outputs_hidden": false
    },
    "papermill": {
     "duration": 0.029648,
     "end_time": "2021-07-25T09:19:51.195842",
     "exception": false,
     "start_time": "2021-07-25T09:19:51.166194",
     "status": "completed"
    },
    "tags": []
   },
   "outputs": [],
   "source": [
    "# Drop columns over x% null\n",
    "null_thresh = .8\n",
    "null_cols = null_ratios[null_ratios > null_thresh].index\n",
    "merged_df.drop(null_cols, axis=1, inplace=True)\n",
    "if null_cols.shape[0] > 0:\n",
    "    print('Columns dropped for being over %.2f null:'%(null_thresh))\n",
    "    for col in null_cols:\n",
    "        print(col)"
   ]
  },
  {
   "cell_type": "code",
   "execution_count": 8,
   "id": "f0a89ba1",
   "metadata": {
    "_cell_guid": "2e3c4c53-901b-4db5-8082-d268f6ae5169",
    "_uuid": "afa4befb-5998-4828-b109-50c44d1e4cc7",
    "collapsed": false,
    "execution": {
     "iopub.execute_input": "2021-07-25T09:19:51.237260Z",
     "iopub.status.busy": "2021-07-25T09:19:51.236285Z",
     "iopub.status.idle": "2021-07-25T09:19:51.242292Z",
     "shell.execute_reply": "2021-07-25T09:19:51.241709Z",
     "shell.execute_reply.started": "2021-07-24T19:42:04.333091Z"
    },
    "jupyter": {
     "outputs_hidden": false
    },
    "papermill": {
     "duration": 0.027208,
     "end_time": "2021-07-25T09:19:51.242457",
     "exception": false,
     "start_time": "2021-07-25T09:19:51.215249",
     "status": "completed"
    },
    "tags": []
   },
   "outputs": [],
   "source": [
    "# Fill the rest with 0\n",
    "merged_df.fillna(0, inplace=True)"
   ]
  },
  {
   "cell_type": "code",
   "execution_count": 9,
   "id": "5c556cbe",
   "metadata": {
    "_cell_guid": "30c6510e-4d87-4d38-8556-004c75542182",
    "_uuid": "5b9e7bc4-7fae-4e39-874c-ba7ac27c6864",
    "collapsed": false,
    "execution": {
     "iopub.execute_input": "2021-07-25T09:19:51.288215Z",
     "iopub.status.busy": "2021-07-25T09:19:51.287413Z",
     "iopub.status.idle": "2021-07-25T09:19:51.294822Z",
     "shell.execute_reply": "2021-07-25T09:19:51.295410Z",
     "shell.execute_reply.started": "2021-07-24T19:42:04.341483Z"
    },
    "jupyter": {
     "outputs_hidden": false
    },
    "papermill": {
     "duration": 0.035373,
     "end_time": "2021-07-25T09:19:51.295611",
     "exception": false,
     "start_time": "2021-07-25T09:19:51.260238",
     "status": "completed"
    },
    "tags": []
   },
   "outputs": [
    {
     "name": "stdout",
     "output_type": "stream",
     "text": [
      "Scaling 1 features...\n"
     ]
    }
   ],
   "source": [
    "# scale continuous features\n",
    "# first, convert large ingegers into floats.\n",
    "for feat in merged_df.columns:\n",
    "    if (merged_df[feat].max() > 100) | (merged_df[feat].min() < -100):\n",
    "        merged_df[feat]=merged_df[feat].astype(np.float64)\n",
    "scaler = StandardScaler()\n",
    "continuous_feats = merged_df.columns[merged_df.dtypes == 'float64']\n",
    "print('Scaling %d features...'%(continuous_feats.shape))\n",
    "s1 = merged_df.shape[0],1\n",
    "for feat in continuous_feats:\n",
    "    merged_df[feat] = scaler.fit_transform(merged_df[feat].values.reshape(s1))"
   ]
  },
  {
   "cell_type": "code",
   "execution_count": 10,
   "id": "9549ba21",
   "metadata": {
    "_cell_guid": "e5fa1711-395a-4724-b676-5247b8bf1ac5",
    "_uuid": "c74db65c-cb27-4140-87bd-9af413086d8b",
    "collapsed": false,
    "execution": {
     "iopub.execute_input": "2021-07-25T09:19:51.588080Z",
     "iopub.status.busy": "2021-07-25T09:19:51.586980Z",
     "iopub.status.idle": "2021-07-25T09:19:51.591349Z",
     "shell.execute_reply": "2021-07-25T09:19:51.590705Z",
     "shell.execute_reply.started": "2021-07-24T19:42:04.355473Z"
    },
    "jupyter": {
     "outputs_hidden": false
    },
    "papermill": {
     "duration": 0.277291,
     "end_time": "2021-07-25T09:19:51.591505",
     "exception": false,
     "start_time": "2021-07-25T09:19:51.314214",
     "status": "completed"
    },
    "tags": []
   },
   "outputs": [
    {
     "name": "stdout",
     "output_type": "stream",
     "text": [
      "Time elapsed 1 sec\n",
      "Starting training...\n"
     ]
    }
   ],
   "source": [
    "# Re-separate into train and test\n",
    "train_df = merged_df[:len_train]\n",
    "test_df = merged_df[len_train:]\n",
    "del merged_df\n",
    "gc.collect()\n",
    "\n",
    "print('Time elapsed %.0f sec'%(time.time()-start_time))\n",
    "print('Starting training...')"
   ]
  },
  {
   "cell_type": "code",
   "execution_count": 11,
   "id": "201532b7",
   "metadata": {
    "_cell_guid": "f862a563-1cda-4639-a1a5-e9a58e93b23d",
    "_uuid": "63a26e06-0aac-49d9-9ff4-3f58a12c64fe",
    "collapsed": false,
    "execution": {
     "iopub.execute_input": "2021-07-25T09:19:51.636161Z",
     "iopub.status.busy": "2021-07-25T09:19:51.635183Z",
     "iopub.status.idle": "2021-07-25T09:19:51.639141Z",
     "shell.execute_reply": "2021-07-25T09:19:51.638446Z",
     "shell.execute_reply.started": "2021-07-24T19:42:04.53662Z"
    },
    "jupyter": {
     "outputs_hidden": false
    },
    "papermill": {
     "duration": 0.029067,
     "end_time": "2021-07-25T09:19:51.639305",
     "exception": false,
     "start_time": "2021-07-25T09:19:51.610238",
     "status": "completed"
    },
    "tags": []
   },
   "outputs": [],
   "source": [
    "# define train parameters\n",
    "L2c = 4e-4                    # loss, with L2\n",
    "lr0 = 0.02                    # starting learning rate\n",
    "lr_decay = 0.90               # lr decay rate\n",
    "iterations = 101               # full passes over data\n",
    "ROWS = train_df.shape[0]      # rows in input data\n",
    "VARS = train_df.shape[1]      # vars used in the model\n",
    "NUMB = 10000                  # batch size\n",
    "NN = int(ROWS/NUMB)           # number of batches"
   ]
  },
  {
   "cell_type": "code",
   "execution_count": 12,
   "id": "a225fd05",
   "metadata": {
    "_cell_guid": "d10d5960-70f0-44dc-b8b9-bc45587ea98d",
    "_uuid": "61fb7507-0622-4423-87f2-ec69e0c95a47",
    "collapsed": false,
    "execution": {
     "iopub.execute_input": "2021-07-25T09:19:51.685523Z",
     "iopub.status.busy": "2021-07-25T09:19:51.684450Z",
     "iopub.status.idle": "2021-07-25T09:19:51.790194Z",
     "shell.execute_reply": "2021-07-25T09:19:51.788711Z",
     "shell.execute_reply.started": "2021-07-24T19:42:04.550859Z"
    },
    "jupyter": {
     "outputs_hidden": false
    },
    "papermill": {
     "duration": 0.132985,
     "end_time": "2021-07-25T09:19:51.790366",
     "exception": false,
     "start_time": "2021-07-25T09:19:51.657381",
     "status": "completed"
    },
    "tags": []
   },
   "outputs": [],
   "source": [
    "# define the model\n",
    "import tensorflow as tf\n",
    "import tensorflow.compat.v1 as tf\n",
    "tf.disable_v2_behavior()\n",
    "y_ = tf.placeholder(tf.float32, [None, 1])\n",
    "x  = tf.placeholder(tf.float32, [None, VARS])\n",
    "\n",
    "# model: logistic + 1 hidden layer\n",
    "W      = tf.Variable(tf.truncated_normal([VARS,1],mean=0.0,stddev=0.001),dtype=np.float32)\n",
    "NUML1  = 64\n",
    "W1     = tf.Variable(tf.truncated_normal([VARS,NUML1],mean=0.0,stddev=0.0001),dtype=np.float32)\n",
    "W1f    = tf.Variable(tf.truncated_normal([NUML1,1],mean=0.0,stddev=0.0001),dtype=np.float32)\n",
    "logit1 = tf.matmul( x, W ) + tf.matmul(tf.nn.relu(tf.matmul( x, W1 )), W1f)\n",
    "y      = tf.nn.sigmoid( logit1 )"
   ]
  },
  {
   "cell_type": "code",
   "execution_count": 13,
   "id": "6301a5d2",
   "metadata": {
    "_cell_guid": "9c37023e-30c2-4c59-aba2-e7112387c662",
    "_uuid": "f087ac20-2bb4-45df-b817-73eaebca2875",
    "collapsed": false,
    "execution": {
     "iopub.execute_input": "2021-07-25T09:19:51.836677Z",
     "iopub.status.busy": "2021-07-25T09:19:51.835968Z",
     "iopub.status.idle": "2021-07-25T09:19:52.019219Z",
     "shell.execute_reply": "2021-07-25T09:19:52.019697Z",
     "shell.execute_reply.started": "2021-07-24T19:42:04.580766Z"
    },
    "jupyter": {
     "outputs_hidden": false
    },
    "papermill": {
     "duration": 0.211167,
     "end_time": "2021-07-25T09:19:52.019902",
     "exception": false,
     "start_time": "2021-07-25T09:19:51.808735",
     "status": "completed"
    },
    "tags": []
   },
   "outputs": [],
   "source": [
    "# loss/optimizer\n",
    "loss0 = tf.reduce_mean( (y_-y)*(y_-y) )\n",
    "loss1 = L2c * (tf.nn.l2_loss( W ) + tf.nn.l2_loss( W1 ) + tf.nn.l2_loss( W1f ))\n",
    "loss  = loss0 + loss1\n",
    "global_step = tf.Variable(0, trainable=False)\n",
    "learning_rate = tf.train.exponential_decay(lr0, global_step, NN, lr_decay)\n",
    "train_step = tf.train.AdamOptimizer(learning_rate=learning_rate).minimize(loss,global_step=global_step)\n",
    "sess = tf.InteractiveSession()\n",
    "tf.global_variables_initializer().run()"
   ]
  },
  {
   "cell_type": "code",
   "execution_count": 14,
   "id": "215ca4c8",
   "metadata": {
    "_cell_guid": "34a7af1a-861e-49e1-9325-5ec24aaeb276",
    "_uuid": "eaf8f198-59e0-49d9-aba3-f98acfd3d9e2",
    "collapsed": false,
    "execution": {
     "iopub.execute_input": "2021-07-25T09:19:52.058953Z",
     "iopub.status.busy": "2021-07-25T09:19:52.058309Z",
     "iopub.status.idle": "2021-07-25T09:19:52.318396Z",
     "shell.execute_reply": "2021-07-25T09:19:52.318895Z",
     "shell.execute_reply.started": "2021-07-24T19:42:04.760635Z"
    },
    "jupyter": {
     "outputs_hidden": false
    },
    "papermill": {
     "duration": 0.281438,
     "end_time": "2021-07-25T09:19:52.319092",
     "exception": false,
     "start_time": "2021-07-25T09:19:52.037654",
     "status": "completed"
    },
    "tags": []
   },
   "outputs": [],
   "source": [
    "# main training loop\n",
    "y0=target.values.astype(np.float32)\n",
    "x0=train_df.values.astype(np.float32)\n",
    "del train_df\n",
    "gc.collect()\n",
    "y0_1=np.where(y0[0:int(NN*0.8)*NUMB] == 1)[0] # reserve last 20% for testing\n",
    "y0_0=np.where(y0[0:int(NN*0.8)*NUMB] == 0)[0] # reserve last 20% for testing\n",
    "for i in range(iterations):\n",
    "    for j in range(int(NN*0.8)): # reserve last 20% for testing\n",
    "        pos_ratio = 0.5\n",
    "        #pos_idx = np.random.choice(y0_1, size=int(np.round(NUMB*pos_ratio)))\n",
    "        #neg_idx = np.random.choice(y0_0, size=int(np.round(NUMB*(1-pos_ratio))))\n",
    "        #idx = np.concatenate([pos_idx, neg_idx])\n",
    "        #fd = {y_: y0[idx].reshape(NUMB,1),x:  x0[idx,:]}\n",
    "        #_= sess.run( [train_step], feed_dict=fd )\n",
    "   "
   ]
  },
  {
   "cell_type": "code",
   "execution_count": 15,
   "id": "0595ef22",
   "metadata": {
    "_cell_guid": "09c676c4-ed79-407f-9bc5-d2f0d9f09d13",
    "_uuid": "a0e32e5f-903e-424b-ab83-6d0e26ea18bd",
    "collapsed": false,
    "execution": {
     "iopub.execute_input": "2021-07-25T09:19:52.357004Z",
     "iopub.status.busy": "2021-07-25T09:19:52.356412Z",
     "iopub.status.idle": "2021-07-25T09:19:52.583247Z",
     "shell.execute_reply": "2021-07-25T09:19:52.584179Z",
     "shell.execute_reply.started": "2021-07-24T19:42:04.940478Z"
    },
    "jupyter": {
     "outputs_hidden": false
    },
    "papermill": {
     "duration": 0.248193,
     "end_time": "2021-07-25T09:19:52.584486",
     "exception": false,
     "start_time": "2021-07-25T09:19:52.336293",
     "status": "completed"
    },
    "tags": []
   },
   "outputs": [
    {
     "name": "stdout",
     "output_type": "stream",
     "text": [
      "Time elapsed 2 sec\n"
     ]
    }
   ],
   "source": [
    "#Predict on test set and create submission\n",
    "x0     = test_df.values.astype(np.float32)\n",
    "fd     = {y_: np.zeros([x0.shape[0],1]),x: x0}\n",
    "y_pred = sess.run( y, feed_dict=fd )\n",
    "out_df = pd.DataFrame({'SK_ID_CURR': meta_df[len_train:], 'TARGET': y_pred[:,0]})\n",
    "out_df.to_csv('submission.csv', index=False)\n",
    "print('Time elapsed %.0f sec'%(time.time()-start_time))"
   ]
  },
  {
   "cell_type": "code",
   "execution_count": 16,
   "id": "08098278",
   "metadata": {
    "execution": {
     "iopub.execute_input": "2021-07-25T09:19:52.628488Z",
     "iopub.status.busy": "2021-07-25T09:19:52.627780Z",
     "iopub.status.idle": "2021-07-25T09:19:52.931605Z",
     "shell.execute_reply": "2021-07-25T09:19:52.930785Z",
     "shell.execute_reply.started": "2021-07-24T19:42:05.126967Z"
    },
    "papermill": {
     "duration": 0.328532,
     "end_time": "2021-07-25T09:19:52.931774",
     "exception": false,
     "start_time": "2021-07-25T09:19:52.603242",
     "status": "completed"
    },
    "tags": []
   },
   "outputs": [],
   "source": [
    "nn_result=pd.read_csv('../input/sub-data/lgb.csv')\n",
    "log_result=pd.read_csv('../input/sub-data/submission.csv')\n",
    "nn_result.rename(columns={'TARGET':'nn_TARGET'},inplace=True)\n",
    "log_result.rename(columns={'TARGET':'log_TARGET'},inplace=True)\n",
    "# print(nn_result)\n",
    "# print(lgb_result)\n",
    "sub=pd.merge(nn_result,log_result,on='SK_ID_CURR')\n",
    "sub['TARGET']=0.1*sub['nn_TARGET']+0.9*sub['log_TARGET']\n",
    "sub=sub.drop(columns=['log_TARGET','nn_TARGET'])\n",
    "sub.to_csv('9sub_lgb_nn_log.csv', index=False, float_format='%.8f')"
   ]
  }
 ],
 "metadata": {
  "kernelspec": {
   "display_name": "Python 3",
   "language": "python",
   "name": "python3"
  },
  "language_info": {
   "codemirror_mode": {
    "name": "ipython",
    "version": 3
   },
   "file_extension": ".py",
   "mimetype": "text/x-python",
   "name": "python",
   "nbconvert_exporter": "python",
   "pygments_lexer": "ipython3",
   "version": "3.7.10"
  },
  "papermill": {
   "default_parameters": {},
   "duration": 19.882803,
   "end_time": "2021-07-25T09:19:54.579363",
   "environment_variables": {},
   "exception": null,
   "input_path": "__notebook__.ipynb",
   "output_path": "__notebook__.ipynb",
   "parameters": {},
   "start_time": "2021-07-25T09:19:34.696560",
   "version": "2.3.3"
  }
 },
 "nbformat": 4,
 "nbformat_minor": 5
}
