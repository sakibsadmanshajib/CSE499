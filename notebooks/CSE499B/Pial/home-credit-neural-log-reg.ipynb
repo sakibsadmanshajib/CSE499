{
 "cells": [
  {
   "cell_type": "code",
   "execution_count": 1,
   "id": "brutal-summit",
   "metadata": {
    "execution": {
     "iopub.execute_input": "2021-07-08T12:49:24.588547Z",
     "iopub.status.busy": "2021-07-08T12:49:24.587242Z",
     "iopub.status.idle": "2021-07-08T12:49:32.315959Z",
     "shell.execute_reply": "2021-07-08T12:49:32.316484Z",
     "shell.execute_reply.started": "2021-07-08T12:46:04.709254Z"
    },
    "papermill": {
     "duration": 7.793691,
     "end_time": "2021-07-08T12:49:32.316854",
     "exception": false,
     "start_time": "2021-07-08T12:49:24.523163",
     "status": "completed"
    },
    "tags": []
   },
   "outputs": [],
   "source": [
    "import time\n",
    "import os\n",
    "import gc\n",
    "import numpy as np\n",
    "import pandas as pd\n",
    "import tensorflow as tf\n",
    "from sklearn.preprocessing import LabelBinarizer\n",
    "from sklearn.preprocessing import StandardScaler\n",
    "from sklearn.metrics import roc_auc_score\n",
    "\n",
    "\n",
    "from scipy.stats import kurtosis\n",
    "from sklearn.metrics import roc_auc_score\n",
    "from sklearn.preprocessing import MinMaxScaler\n",
    "from sklearn.impute import SimpleImputer\n",
    "from sklearn.linear_model import LogisticRegression\n",
    "import matplotlib.pyplot as plt\n",
    "import seaborn as sns\n",
    "import warnings\n",
    "from sklearn.model_selection import train_test_split, cross_val_score, StratifiedKFold\n",
    "import xgboost as xgb\n",
    "from xgboost import XGBClassifier\n",
    "warnings.simplefilter(action='ignore', category=FutureWarning)"
   ]
  },
  {
   "cell_type": "code",
   "execution_count": 2,
   "id": "spare-modern",
   "metadata": {
    "execution": {
     "iopub.execute_input": "2021-07-08T12:49:32.438237Z",
     "iopub.status.busy": "2021-07-08T12:49:32.437604Z",
     "iopub.status.idle": "2021-07-08T12:49:32.443068Z",
     "shell.execute_reply": "2021-07-08T12:49:32.442561Z",
     "shell.execute_reply.started": "2021-07-08T12:46:04.780796Z"
    },
    "papermill": {
     "duration": 0.067426,
     "end_time": "2021-07-08T12:49:32.443237",
     "exception": false,
     "start_time": "2021-07-08T12:49:32.375811",
     "status": "completed"
    },
    "tags": []
   },
   "outputs": [],
   "source": [
    "DATA_DIRECTORY = \"../input/home-credit-default-risk\""
   ]
  },
  {
   "cell_type": "code",
   "execution_count": 3,
   "id": "behind-blogger",
   "metadata": {
    "execution": {
     "iopub.execute_input": "2021-07-08T12:49:32.565072Z",
     "iopub.status.busy": "2021-07-08T12:49:32.564062Z",
     "iopub.status.idle": "2021-07-08T12:49:40.423923Z",
     "shell.execute_reply": "2021-07-08T12:49:40.423380Z",
     "shell.execute_reply.started": "2021-07-08T12:46:04.787652Z"
    },
    "papermill": {
     "duration": 7.923665,
     "end_time": "2021-07-08T12:49:40.424089",
     "exception": false,
     "start_time": "2021-07-08T12:49:32.500424",
     "status": "completed"
    },
    "tags": []
   },
   "outputs": [
    {
     "data": {
      "text/plain": [
       "22"
      ]
     },
     "execution_count": 3,
     "metadata": {},
     "output_type": "execute_result"
    }
   ],
   "source": [
    "df_train = pd.read_csv(os.path.join(DATA_DIRECTORY, 'application_train.csv'))\n",
    "df_test = pd.read_csv(os.path.join(DATA_DIRECTORY, 'application_test.csv'))\n",
    "df = df_train.append(df_test)\n",
    "#len_train = len(df)\n",
    "del df_train, df_test; gc.collect()"
   ]
  },
  {
   "cell_type": "code",
   "execution_count": 4,
   "id": "parallel-prior",
   "metadata": {
    "execution": {
     "iopub.execute_input": "2021-07-08T12:49:40.554087Z",
     "iopub.status.busy": "2021-07-08T12:49:40.553237Z",
     "iopub.status.idle": "2021-07-08T12:49:41.683074Z",
     "shell.execute_reply": "2021-07-08T12:49:41.682396Z",
     "shell.execute_reply.started": "2021-07-08T12:46:10.104951Z"
    },
    "papermill": {
     "duration": 1.197386,
     "end_time": "2021-07-08T12:49:41.683261",
     "exception": false,
     "start_time": "2021-07-08T12:49:40.485875",
     "status": "completed"
    },
    "tags": []
   },
   "outputs": [],
   "source": [
    "df = df[df['AMT_INCOME_TOTAL'] < 20000000]\n",
    "df = df[df['CODE_GENDER'] != 'XNA']\n",
    "df['DAYS_EMPLOYED'].replace(365243, np.nan, inplace=True)\n",
    "df['DAYS_LAST_PHONE_CHANGE'].replace(0, np.nan, inplace=True)"
   ]
  },
  {
   "cell_type": "code",
   "execution_count": 5,
   "id": "vital-prague",
   "metadata": {
    "execution": {
     "iopub.execute_input": "2021-07-08T12:49:41.814800Z",
     "iopub.status.busy": "2021-07-08T12:49:41.814099Z",
     "iopub.status.idle": "2021-07-08T12:49:41.817330Z",
     "shell.execute_reply": "2021-07-08T12:49:41.816821Z",
     "shell.execute_reply.started": "2021-07-08T12:46:10.991753Z"
    },
    "papermill": {
     "duration": 0.073175,
     "end_time": "2021-07-08T12:49:41.817489",
     "exception": false,
     "start_time": "2021-07-08T12:49:41.744314",
     "status": "completed"
    },
    "tags": []
   },
   "outputs": [],
   "source": [
    "def get_age_group(days_birth):\n",
    "    age_years = -days_birth / 365\n",
    "    if age_years < 27: return 1\n",
    "    elif age_years < 40: return 2\n",
    "    elif age_years < 50: return 3\n",
    "    elif age_years < 65: return 4\n",
    "    elif age_years < 99: return 5\n",
    "    else: return 0"
   ]
  },
  {
   "cell_type": "code",
   "execution_count": 6,
   "id": "thermal-stage",
   "metadata": {
    "execution": {
     "iopub.execute_input": "2021-07-08T12:49:41.946244Z",
     "iopub.status.busy": "2021-07-08T12:49:41.945519Z",
     "iopub.status.idle": "2021-07-08T12:49:42.671613Z",
     "shell.execute_reply": "2021-07-08T12:49:42.671002Z",
     "shell.execute_reply.started": "2021-07-08T12:46:10.999283Z"
    },
    "papermill": {
     "duration": 0.79227,
     "end_time": "2021-07-08T12:49:42.671800",
     "exception": false,
     "start_time": "2021-07-08T12:49:41.879530",
     "status": "completed"
    },
    "tags": []
   },
   "outputs": [],
   "source": [
    "docs = [f for f in df.columns if 'FLAG_DOC' in f]\n",
    "df['DOCUMENT_COUNT'] = df[docs].sum(axis=1)\n",
    "df['NEW_DOC_KURT'] = df[docs].kurtosis(axis=1)\n",
    "df['AGE_RANGE'] = df['DAYS_BIRTH'].apply(lambda x: get_age_group(x))"
   ]
  },
  {
   "cell_type": "code",
   "execution_count": 7,
   "id": "popular-stick",
   "metadata": {
    "execution": {
     "iopub.execute_input": "2021-07-08T12:49:42.802192Z",
     "iopub.status.busy": "2021-07-08T12:49:42.801507Z",
     "iopub.status.idle": "2021-07-08T12:49:43.843961Z",
     "shell.execute_reply": "2021-07-08T12:49:43.843362Z",
     "shell.execute_reply.started": "2021-07-08T12:46:11.716329Z"
    },
    "papermill": {
     "duration": 1.113187,
     "end_time": "2021-07-08T12:49:43.844121",
     "exception": false,
     "start_time": "2021-07-08T12:49:42.730934",
     "status": "completed"
    },
    "tags": []
   },
   "outputs": [],
   "source": [
    "df['EXT_SOURCES_PROD'] = df['EXT_SOURCE_1'] * df['EXT_SOURCE_2'] * df['EXT_SOURCE_3']\n",
    "df['EXT_SOURCES_WEIGHTED'] = df.EXT_SOURCE_1 * 2 + df.EXT_SOURCE_2 * 1 + df.EXT_SOURCE_3 * 3\n",
    "np.warnings.filterwarnings('ignore', r'All-NaN (slice|axis) encountered')\n",
    "for function_name in ['min', 'max', 'mean', 'nanmedian', 'var']:\n",
    "    feature_name = 'EXT_SOURCES_{}'.format(function_name.upper())\n",
    "    df[feature_name] = eval('np.{}'.format(function_name))(\n",
    "        df[['EXT_SOURCE_1', 'EXT_SOURCE_2', 'EXT_SOURCE_3']], axis=1)"
   ]
  },
  {
   "cell_type": "code",
   "execution_count": 8,
   "id": "shared-member",
   "metadata": {
    "execution": {
     "iopub.execute_input": "2021-07-08T12:49:43.972753Z",
     "iopub.status.busy": "2021-07-08T12:49:43.971978Z",
     "iopub.status.idle": "2021-07-08T12:49:44.006321Z",
     "shell.execute_reply": "2021-07-08T12:49:44.005742Z",
     "shell.execute_reply.started": "2021-07-08T12:46:12.855116Z"
    },
    "papermill": {
     "duration": 0.102341,
     "end_time": "2021-07-08T12:49:44.006479",
     "exception": false,
     "start_time": "2021-07-08T12:49:43.904138",
     "status": "completed"
    },
    "tags": []
   },
   "outputs": [],
   "source": [
    "df['CREDIT_TO_ANNUITY_RATIO'] = df['AMT_CREDIT'] / df['AMT_ANNUITY']\n",
    "df['CREDIT_TO_GOODS_RATIO'] = df['AMT_CREDIT'] / df['AMT_GOODS_PRICE']\n",
    "df['ANNUITY_TO_INCOME_RATIO'] = df['AMT_ANNUITY'] / df['AMT_INCOME_TOTAL']\n",
    "df['CREDIT_TO_INCOME_RATIO'] = df['AMT_CREDIT'] / df['AMT_INCOME_TOTAL']\n",
    "df['INCOME_TO_EMPLOYED_RATIO'] = df['AMT_INCOME_TOTAL'] / df['DAYS_EMPLOYED']\n",
    "df['INCOME_TO_BIRTH_RATIO'] = df['AMT_INCOME_TOTAL'] / df['DAYS_BIRTH']    \n",
    "df['EMPLOYED_TO_BIRTH_RATIO'] = df['DAYS_EMPLOYED'] / df['DAYS_BIRTH']\n",
    "df['ID_TO_BIRTH_RATIO'] = df['DAYS_ID_PUBLISH'] / df['DAYS_BIRTH']\n",
    "df['CAR_TO_BIRTH_RATIO'] = df['OWN_CAR_AGE'] / df['DAYS_BIRTH']\n",
    "df['CAR_TO_EMPLOYED_RATIO'] = df['OWN_CAR_AGE'] / df['DAYS_EMPLOYED']\n",
    "df['PHONE_TO_BIRTH_RATIO'] = df['DAYS_LAST_PHONE_CHANGE'] / df['DAYS_BIRTH']"
   ]
  },
  {
   "cell_type": "code",
   "execution_count": 9,
   "id": "trying-point",
   "metadata": {
    "execution": {
     "iopub.execute_input": "2021-07-08T12:49:44.134433Z",
     "iopub.status.busy": "2021-07-08T12:49:44.133454Z",
     "iopub.status.idle": "2021-07-08T12:49:44.136956Z",
     "shell.execute_reply": "2021-07-08T12:49:44.136451Z",
     "shell.execute_reply.started": "2021-07-08T12:46:12.888070Z"
    },
    "papermill": {
     "duration": 0.071923,
     "end_time": "2021-07-08T12:49:44.137112",
     "exception": false,
     "start_time": "2021-07-08T12:49:44.065189",
     "status": "completed"
    },
    "tags": []
   },
   "outputs": [],
   "source": [
    "def do_mean(df, group_cols, counted, agg_name):\n",
    "    gp = df[group_cols + [counted]].groupby(group_cols)[counted].mean().reset_index().rename(\n",
    "        columns={counted: agg_name})\n",
    "    df = df.merge(gp, on=group_cols, how='left')\n",
    "    del gp\n",
    "    gc.collect()\n",
    "    return df"
   ]
  },
  {
   "cell_type": "code",
   "execution_count": 10,
   "id": "partial-instrument",
   "metadata": {
    "execution": {
     "iopub.execute_input": "2021-07-08T12:49:44.270022Z",
     "iopub.status.busy": "2021-07-08T12:49:44.267995Z",
     "iopub.status.idle": "2021-07-08T12:49:44.270972Z",
     "shell.execute_reply": "2021-07-08T12:49:44.271601Z",
     "shell.execute_reply.started": "2021-07-08T12:46:12.898388Z"
    },
    "papermill": {
     "duration": 0.073789,
     "end_time": "2021-07-08T12:49:44.271819",
     "exception": false,
     "start_time": "2021-07-08T12:49:44.198030",
     "status": "completed"
    },
    "tags": []
   },
   "outputs": [],
   "source": [
    "def do_median(df, group_cols, counted, agg_name):\n",
    "    gp = df[group_cols + [counted]].groupby(group_cols)[counted].median().reset_index().rename(\n",
    "        columns={counted: agg_name})\n",
    "    df = df.merge(gp, on=group_cols, how='left')\n",
    "    del gp\n",
    "    gc.collect()\n",
    "    return df"
   ]
  },
  {
   "cell_type": "code",
   "execution_count": 11,
   "id": "numerous-billy",
   "metadata": {
    "execution": {
     "iopub.execute_input": "2021-07-08T12:49:44.399271Z",
     "iopub.status.busy": "2021-07-08T12:49:44.398608Z",
     "iopub.status.idle": "2021-07-08T12:49:44.403640Z",
     "shell.execute_reply": "2021-07-08T12:49:44.403086Z",
     "shell.execute_reply.started": "2021-07-08T12:46:12.909499Z"
    },
    "papermill": {
     "duration": 0.072284,
     "end_time": "2021-07-08T12:49:44.403798",
     "exception": false,
     "start_time": "2021-07-08T12:49:44.331514",
     "status": "completed"
    },
    "tags": []
   },
   "outputs": [],
   "source": [
    "def do_std(df, group_cols, counted, agg_name):\n",
    "    gp = df[group_cols + [counted]].groupby(group_cols)[counted].std().reset_index().rename(\n",
    "        columns={counted: agg_name})\n",
    "    df = df.merge(gp, on=group_cols, how='left')\n",
    "    del gp\n",
    "    gc.collect()\n",
    "    return df"
   ]
  },
  {
   "cell_type": "code",
   "execution_count": 12,
   "id": "spoken-gather",
   "metadata": {
    "execution": {
     "iopub.execute_input": "2021-07-08T12:49:44.528129Z",
     "iopub.status.busy": "2021-07-08T12:49:44.526435Z",
     "iopub.status.idle": "2021-07-08T12:49:44.528972Z",
     "shell.execute_reply": "2021-07-08T12:49:44.529468Z",
     "shell.execute_reply.started": "2021-07-08T12:46:12.922645Z"
    },
    "papermill": {
     "duration": 0.067381,
     "end_time": "2021-07-08T12:49:44.529658",
     "exception": false,
     "start_time": "2021-07-08T12:49:44.462277",
     "status": "completed"
    },
    "tags": []
   },
   "outputs": [],
   "source": [
    "def do_sum(df, group_cols, counted, agg_name):\n",
    "    gp = df[group_cols + [counted]].groupby(group_cols)[counted].sum().reset_index().rename(\n",
    "        columns={counted: agg_name})\n",
    "    df = df.merge(gp, on=group_cols, how='left')\n",
    "    del gp\n",
    "    gc.collect()\n",
    "    return df"
   ]
  },
  {
   "cell_type": "code",
   "execution_count": 13,
   "id": "blocked-annotation",
   "metadata": {
    "execution": {
     "iopub.execute_input": "2021-07-08T12:49:44.656512Z",
     "iopub.status.busy": "2021-07-08T12:49:44.655862Z",
     "iopub.status.idle": "2021-07-08T12:50:20.426149Z",
     "shell.execute_reply": "2021-07-08T12:50:20.425525Z",
     "shell.execute_reply.started": "2021-07-08T12:46:12.942433Z"
    },
    "papermill": {
     "duration": 35.838313,
     "end_time": "2021-07-08T12:50:20.426319",
     "exception": false,
     "start_time": "2021-07-08T12:49:44.588006",
     "status": "completed"
    },
    "tags": []
   },
   "outputs": [],
   "source": [
    "group = ['ORGANIZATION_TYPE', 'NAME_EDUCATION_TYPE', 'OCCUPATION_TYPE', 'AGE_RANGE', 'CODE_GENDER']\n",
    "df = do_median(df, group, 'EXT_SOURCES_MEAN', 'GROUP_EXT_SOURCES_MEDIAN')\n",
    "df = do_std(df, group, 'EXT_SOURCES_MEAN', 'GROUP_EXT_SOURCES_STD')\n",
    "df = do_mean(df, group, 'AMT_INCOME_TOTAL', 'GROUP_INCOME_MEAN')\n",
    "df = do_std(df, group, 'AMT_INCOME_TOTAL', 'GROUP_INCOME_STD')\n",
    "df = do_mean(df, group, 'CREDIT_TO_ANNUITY_RATIO', 'GROUP_CREDIT_TO_ANNUITY_MEAN')\n",
    "df = do_std(df, group, 'CREDIT_TO_ANNUITY_RATIO', 'GROUP_CREDIT_TO_ANNUITY_STD')\n",
    "df = do_mean(df, group, 'AMT_CREDIT', 'GROUP_CREDIT_MEAN')\n",
    "df = do_mean(df, group, 'AMT_ANNUITY', 'GROUP_ANNUITY_MEAN')\n",
    "df = do_std(df, group, 'AMT_ANNUITY', 'GROUP_ANNUITY_STD')"
   ]
  },
  {
   "cell_type": "code",
   "execution_count": 14,
   "id": "rapid-relative",
   "metadata": {
    "execution": {
     "iopub.execute_input": "2021-07-08T12:50:20.555358Z",
     "iopub.status.busy": "2021-07-08T12:50:20.554677Z",
     "iopub.status.idle": "2021-07-08T12:50:20.557843Z",
     "shell.execute_reply": "2021-07-08T12:50:20.557275Z",
     "shell.execute_reply.started": "2021-07-08T12:46:43.594392Z"
    },
    "papermill": {
     "duration": 0.069362,
     "end_time": "2021-07-08T12:50:20.558003",
     "exception": false,
     "start_time": "2021-07-08T12:50:20.488641",
     "status": "completed"
    },
    "tags": []
   },
   "outputs": [],
   "source": [
    "def label_encoder(df, categorical_columns=None):\n",
    "    if not categorical_columns:\n",
    "        categorical_columns = [col for col in df.columns if df[col].dtype == 'object']\n",
    "    for col in categorical_columns:\n",
    "        df[col], uniques = pd.factorize(df[col])\n",
    "    return df, categorical_columns"
   ]
  },
  {
   "cell_type": "code",
   "execution_count": 15,
   "id": "bulgarian-commission",
   "metadata": {
    "execution": {
     "iopub.execute_input": "2021-07-08T12:50:20.683981Z",
     "iopub.status.busy": "2021-07-08T12:50:20.683301Z",
     "iopub.status.idle": "2021-07-08T12:50:20.687090Z",
     "shell.execute_reply": "2021-07-08T12:50:20.686360Z",
     "shell.execute_reply.started": "2021-07-08T12:46:43.602981Z"
    },
    "papermill": {
     "duration": 0.070718,
     "end_time": "2021-07-08T12:50:20.687277",
     "exception": false,
     "start_time": "2021-07-08T12:50:20.616559",
     "status": "completed"
    },
    "tags": []
   },
   "outputs": [],
   "source": [
    "def drop_application_columns(df):\n",
    "    drop_list = [\n",
    "        'CNT_CHILDREN', 'CNT_FAM_MEMBERS', 'HOUR_APPR_PROCESS_START',\n",
    "        'FLAG_EMP_PHONE', 'FLAG_MOBIL', 'FLAG_CONT_MOBILE', 'FLAG_EMAIL', 'FLAG_PHONE',\n",
    "        'FLAG_OWN_REALTY', 'REG_REGION_NOT_LIVE_REGION', 'REG_REGION_NOT_WORK_REGION',\n",
    "        'REG_CITY_NOT_WORK_CITY', 'OBS_30_CNT_SOCIAL_CIRCLE', 'OBS_60_CNT_SOCIAL_CIRCLE',\n",
    "        'AMT_REQ_CREDIT_BUREAU_DAY', 'AMT_REQ_CREDIT_BUREAU_MON', 'AMT_REQ_CREDIT_BUREAU_YEAR', \n",
    "        'COMMONAREA_MODE', 'NONLIVINGAREA_MODE', 'ELEVATORS_MODE', 'NONLIVINGAREA_AVG',\n",
    "        'FLOORSMIN_MEDI', 'LANDAREA_MODE', 'NONLIVINGAREA_MEDI', 'LIVINGAPARTMENTS_MODE',\n",
    "        'FLOORSMIN_AVG', 'LANDAREA_AVG', 'FLOORSMIN_MODE', 'LANDAREA_MEDI',\n",
    "        'COMMONAREA_MEDI', 'YEARS_BUILD_AVG', 'COMMONAREA_AVG', 'BASEMENTAREA_AVG',\n",
    "        'BASEMENTAREA_MODE', 'NONLIVINGAPARTMENTS_MEDI', 'BASEMENTAREA_MEDI', \n",
    "        'LIVINGAPARTMENTS_AVG', 'ELEVATORS_AVG', 'YEARS_BUILD_MEDI', 'ENTRANCES_MODE',\n",
    "        'NONLIVINGAPARTMENTS_MODE', 'LIVINGAREA_MODE', 'LIVINGAPARTMENTS_MEDI',\n",
    "        'YEARS_BUILD_MODE', 'YEARS_BEGINEXPLUATATION_AVG', 'ELEVATORS_MEDI', 'LIVINGAREA_MEDI',\n",
    "        'YEARS_BEGINEXPLUATATION_MODE', 'NONLIVINGAPARTMENTS_AVG', 'HOUSETYPE_MODE',\n",
    "        'FONDKAPREMONT_MODE', 'EMERGENCYSTATE_MODE'\n",
    "    ]\n",
    "    for doc_num in [2,4,5,6,7,9,10,11,12,13,14,15,16,17,19,20,21]:\n",
    "        drop_list.append('FLAG_DOCUMENT_{}'.format(doc_num))\n",
    "    df.drop(drop_list, axis=1, inplace=True)\n",
    "    return df"
   ]
  },
  {
   "cell_type": "code",
   "execution_count": 16,
   "id": "damaged-greece",
   "metadata": {
    "execution": {
     "iopub.execute_input": "2021-07-08T12:50:20.812400Z",
     "iopub.status.busy": "2021-07-08T12:50:20.811730Z",
     "iopub.status.idle": "2021-07-08T12:50:21.997915Z",
     "shell.execute_reply": "2021-07-08T12:50:21.996833Z",
     "shell.execute_reply.started": "2021-07-08T12:46:43.620289Z"
    },
    "papermill": {
     "duration": 1.251316,
     "end_time": "2021-07-08T12:50:21.998194",
     "exception": false,
     "start_time": "2021-07-08T12:50:20.746878",
     "status": "completed"
    },
    "tags": []
   },
   "outputs": [],
   "source": [
    "df, le_encoded_cols = label_encoder(df, None)\n",
    "df = drop_application_columns(df)"
   ]
  },
  {
   "cell_type": "code",
   "execution_count": 17,
   "id": "genuine-breathing",
   "metadata": {
    "execution": {
     "iopub.execute_input": "2021-07-08T12:50:22.208234Z",
     "iopub.status.busy": "2021-07-08T12:50:22.206931Z",
     "iopub.status.idle": "2021-07-08T12:50:22.284129Z",
     "shell.execute_reply": "2021-07-08T12:50:22.283495Z",
     "shell.execute_reply.started": "2021-07-08T12:46:44.656797Z"
    },
    "papermill": {
     "duration": 0.222019,
     "end_time": "2021-07-08T12:50:22.284314",
     "exception": false,
     "start_time": "2021-07-08T12:50:22.062295",
     "status": "completed"
    },
    "tags": []
   },
   "outputs": [],
   "source": [
    "df = pd.get_dummies(df)"
   ]
  },
  {
   "cell_type": "code",
   "execution_count": null,
   "id": "seasonal-compression",
   "metadata": {
    "papermill": {
     "duration": 0.058445,
     "end_time": "2021-07-08T12:50:22.403495",
     "exception": false,
     "start_time": "2021-07-08T12:50:22.345050",
     "status": "completed"
    },
    "tags": []
   },
   "outputs": [],
   "source": []
  },
  {
   "cell_type": "code",
   "execution_count": null,
   "id": "dutch-silicon",
   "metadata": {
    "papermill": {
     "duration": 0.058053,
     "end_time": "2021-07-08T12:50:22.519716",
     "exception": false,
     "start_time": "2021-07-08T12:50:22.461663",
     "status": "completed"
    },
    "tags": []
   },
   "outputs": [],
   "source": []
  },
  {
   "cell_type": "code",
   "execution_count": null,
   "id": "rapid-fireplace",
   "metadata": {
    "papermill": {
     "duration": 0.059865,
     "end_time": "2021-07-08T12:50:22.637552",
     "exception": false,
     "start_time": "2021-07-08T12:50:22.577687",
     "status": "completed"
    },
    "tags": []
   },
   "outputs": [],
   "source": []
  },
  {
   "cell_type": "code",
   "execution_count": null,
   "id": "employed-burns",
   "metadata": {
    "papermill": {
     "duration": 0.057637,
     "end_time": "2021-07-08T12:50:22.754264",
     "exception": false,
     "start_time": "2021-07-08T12:50:22.696627",
     "status": "completed"
    },
    "tags": []
   },
   "outputs": [],
   "source": []
  },
  {
   "cell_type": "code",
   "execution_count": null,
   "id": "caroline-surveillance",
   "metadata": {
    "papermill": {
     "duration": 0.060546,
     "end_time": "2021-07-08T12:50:22.875935",
     "exception": false,
     "start_time": "2021-07-08T12:50:22.815389",
     "status": "completed"
    },
    "tags": []
   },
   "outputs": [],
   "source": []
  },
  {
   "cell_type": "code",
   "execution_count": null,
   "id": "ready-craps",
   "metadata": {
    "papermill": {
     "duration": 0.058079,
     "end_time": "2021-07-08T12:50:22.993222",
     "exception": false,
     "start_time": "2021-07-08T12:50:22.935143",
     "status": "completed"
    },
    "tags": []
   },
   "outputs": [],
   "source": []
  },
  {
   "cell_type": "code",
   "execution_count": null,
   "id": "beautiful-electricity",
   "metadata": {
    "papermill": {
     "duration": 0.058959,
     "end_time": "2021-07-08T12:50:23.111288",
     "exception": false,
     "start_time": "2021-07-08T12:50:23.052329",
     "status": "completed"
    },
    "tags": []
   },
   "outputs": [],
   "source": []
  },
  {
   "cell_type": "code",
   "execution_count": 18,
   "id": "neither-coffee",
   "metadata": {
    "execution": {
     "iopub.execute_input": "2021-07-08T12:50:23.234908Z",
     "iopub.status.busy": "2021-07-08T12:50:23.234205Z",
     "iopub.status.idle": "2021-07-08T12:50:28.120506Z",
     "shell.execute_reply": "2021-07-08T12:50:28.119872Z",
     "shell.execute_reply.started": "2021-07-08T12:46:44.802438Z"
    },
    "papermill": {
     "duration": 4.950489,
     "end_time": "2021-07-08T12:50:28.120696",
     "exception": false,
     "start_time": "2021-07-08T12:50:23.170207",
     "status": "completed"
    },
    "tags": []
   },
   "outputs": [],
   "source": [
    "bureau = pd.read_csv(os.path.join(DATA_DIRECTORY, 'bureau.csv'))"
   ]
  },
  {
   "cell_type": "code",
   "execution_count": 19,
   "id": "biblical-frank",
   "metadata": {
    "execution": {
     "iopub.execute_input": "2021-07-08T12:50:28.249500Z",
     "iopub.status.busy": "2021-07-08T12:50:28.248791Z",
     "iopub.status.idle": "2021-07-08T12:50:28.299833Z",
     "shell.execute_reply": "2021-07-08T12:50:28.298858Z",
     "shell.execute_reply.started": "2021-07-08T12:46:48.037119Z"
    },
    "papermill": {
     "duration": 0.117755,
     "end_time": "2021-07-08T12:50:28.300035",
     "exception": false,
     "start_time": "2021-07-08T12:50:28.182280",
     "status": "completed"
    },
    "tags": []
   },
   "outputs": [],
   "source": [
    "bureau['CREDIT_DURATION'] = -bureau['DAYS_CREDIT'] + bureau['DAYS_CREDIT_ENDDATE']\n",
    "bureau['ENDDATE_DIF'] = bureau['DAYS_CREDIT_ENDDATE'] - bureau['DAYS_ENDDATE_FACT']\n",
    "bureau['DEBT_PERCENTAGE'] = bureau['AMT_CREDIT_SUM'] / bureau['AMT_CREDIT_SUM_DEBT']\n",
    "bureau['DEBT_CREDIT_DIFF'] = bureau['AMT_CREDIT_SUM'] - bureau['AMT_CREDIT_SUM_DEBT']\n",
    "bureau['CREDIT_TO_ANNUITY_RATIO'] = bureau['AMT_CREDIT_SUM'] / bureau['AMT_ANNUITY']"
   ]
  },
  {
   "cell_type": "code",
   "execution_count": 20,
   "id": "adapted-leisure",
   "metadata": {
    "execution": {
     "iopub.execute_input": "2021-07-08T12:50:28.430524Z",
     "iopub.status.busy": "2021-07-08T12:50:28.429726Z",
     "iopub.status.idle": "2021-07-08T12:50:28.432856Z",
     "shell.execute_reply": "2021-07-08T12:50:28.432336Z",
     "shell.execute_reply.started": "2021-07-08T12:46:48.081608Z"
    },
    "papermill": {
     "duration": 0.07017,
     "end_time": "2021-07-08T12:50:28.433021",
     "exception": false,
     "start_time": "2021-07-08T12:50:28.362851",
     "status": "completed"
    },
    "tags": []
   },
   "outputs": [],
   "source": [
    "def one_hot_encoder(df, categorical_columns=None, nan_as_category=True):\n",
    "    original_columns = list(df.columns)\n",
    "    if not categorical_columns:\n",
    "        categorical_columns = [col for col in df.columns if df[col].dtype == 'object']\n",
    "    df = pd.get_dummies(df, columns=categorical_columns, dummy_na=nan_as_category)\n",
    "    categorical_columns = [c for c in df.columns if c not in original_columns]\n",
    "    return df, categorical_columns"
   ]
  },
  {
   "cell_type": "code",
   "execution_count": 21,
   "id": "quantitative-choice",
   "metadata": {
    "execution": {
     "iopub.execute_input": "2021-07-08T12:50:28.557149Z",
     "iopub.status.busy": "2021-07-08T12:50:28.556218Z",
     "iopub.status.idle": "2021-07-08T12:50:28.561892Z",
     "shell.execute_reply": "2021-07-08T12:50:28.562360Z",
     "shell.execute_reply.started": "2021-07-08T12:46:48.090219Z"
    },
    "papermill": {
     "duration": 0.068187,
     "end_time": "2021-07-08T12:50:28.562560",
     "exception": false,
     "start_time": "2021-07-08T12:50:28.494373",
     "status": "completed"
    },
    "tags": []
   },
   "outputs": [],
   "source": [
    "def group(df_to_agg, prefix, aggregations, aggregate_by= 'SK_ID_CURR'):\n",
    "    agg_df = df_to_agg.groupby(aggregate_by).agg(aggregations)\n",
    "    agg_df.columns = pd.Index(['{}{}_{}'.format(prefix, e[0], e[1].upper())\n",
    "                               for e in agg_df.columns.tolist()])\n",
    "    return agg_df.reset_index()"
   ]
  },
  {
   "cell_type": "code",
   "execution_count": 22,
   "id": "municipal-carter",
   "metadata": {
    "execution": {
     "iopub.execute_input": "2021-07-08T12:50:28.687103Z",
     "iopub.status.busy": "2021-07-08T12:50:28.686128Z",
     "iopub.status.idle": "2021-07-08T12:50:28.691350Z",
     "shell.execute_reply": "2021-07-08T12:50:28.691805Z",
     "shell.execute_reply.started": "2021-07-08T12:46:48.104395Z"
    },
    "papermill": {
     "duration": 0.069021,
     "end_time": "2021-07-08T12:50:28.692002",
     "exception": false,
     "start_time": "2021-07-08T12:50:28.622981",
     "status": "completed"
    },
    "tags": []
   },
   "outputs": [],
   "source": [
    "def group_and_merge(df_to_agg, df_to_merge, prefix, aggregations, aggregate_by= 'SK_ID_CURR'):\n",
    "    agg_df = group(df_to_agg, prefix, aggregations, aggregate_by= aggregate_by)\n",
    "    return df_to_merge.merge(agg_df, how='left', on= aggregate_by)"
   ]
  },
  {
   "cell_type": "code",
   "execution_count": 23,
   "id": "heated-seeker",
   "metadata": {
    "execution": {
     "iopub.execute_input": "2021-07-08T12:50:28.814125Z",
     "iopub.status.busy": "2021-07-08T12:50:28.813190Z",
     "iopub.status.idle": "2021-07-08T12:50:28.820098Z",
     "shell.execute_reply": "2021-07-08T12:50:28.820616Z",
     "shell.execute_reply.started": "2021-07-08T12:46:48.120349Z"
    },
    "papermill": {
     "duration": 0.070766,
     "end_time": "2021-07-08T12:50:28.820832",
     "exception": false,
     "start_time": "2021-07-08T12:50:28.750066",
     "status": "completed"
    },
    "tags": []
   },
   "outputs": [],
   "source": [
    "def get_bureau_balance(path, num_rows= None):\n",
    "    bb = pd.read_csv(os.path.join(path, 'bureau_balance.csv'))\n",
    "    bb, categorical_cols = one_hot_encoder(bb, nan_as_category= False)\n",
    "    # Calculate rate for each category with decay\n",
    "    bb_processed = bb.groupby('SK_ID_BUREAU')[categorical_cols].mean().reset_index()\n",
    "    # Min, Max, Count and mean duration of payments (months)\n",
    "    agg = {'MONTHS_BALANCE': ['min', 'max', 'mean', 'size']}\n",
    "    bb_processed = group_and_merge(bb, bb_processed, '', agg, 'SK_ID_BUREAU')\n",
    "    del bb; gc.collect()\n",
    "    return bb_processed"
   ]
  },
  {
   "cell_type": "code",
   "execution_count": 24,
   "id": "split-watershed",
   "metadata": {
    "execution": {
     "iopub.execute_input": "2021-07-08T12:50:28.950700Z",
     "iopub.status.busy": "2021-07-08T12:50:28.944630Z",
     "iopub.status.idle": "2021-07-08T12:50:51.827140Z",
     "shell.execute_reply": "2021-07-08T12:50:51.827671Z",
     "shell.execute_reply.started": "2021-07-08T12:46:48.134543Z"
    },
    "papermill": {
     "duration": 22.946235,
     "end_time": "2021-07-08T12:50:51.827910",
     "exception": false,
     "start_time": "2021-07-08T12:50:28.881675",
     "status": "completed"
    },
    "tags": []
   },
   "outputs": [],
   "source": [
    "bureau, categorical_cols = one_hot_encoder(bureau, nan_as_category= False)\n",
    "bureau = bureau.merge(get_bureau_balance(DATA_DIRECTORY), how='left', on='SK_ID_BUREAU')\n",
    "bureau['STATUS_12345'] = 0\n",
    "for i in range(1,6):\n",
    "    bureau['STATUS_12345'] += bureau['STATUS_{}'.format(i)]"
   ]
  },
  {
   "cell_type": "code",
   "execution_count": 25,
   "id": "atmospheric-marsh",
   "metadata": {
    "execution": {
     "iopub.execute_input": "2021-07-08T12:50:51.994452Z",
     "iopub.status.busy": "2021-07-08T12:50:51.993758Z",
     "iopub.status.idle": "2021-07-08T12:50:54.699465Z",
     "shell.execute_reply": "2021-07-08T12:50:54.699974Z",
     "shell.execute_reply.started": "2021-07-08T12:47:09.310446Z"
    },
    "papermill": {
     "duration": 2.785317,
     "end_time": "2021-07-08T12:50:54.700156",
     "exception": false,
     "start_time": "2021-07-08T12:50:51.914839",
     "status": "completed"
    },
    "tags": []
   },
   "outputs": [
    {
     "data": {
      "text/plain": [
       "20"
      ]
     },
     "execution_count": 25,
     "metadata": {},
     "output_type": "execute_result"
    }
   ],
   "source": [
    "features = ['AMT_CREDIT_MAX_OVERDUE', 'AMT_CREDIT_SUM_OVERDUE', 'AMT_CREDIT_SUM',\n",
    "    'AMT_CREDIT_SUM_DEBT', 'DEBT_PERCENTAGE', 'DEBT_CREDIT_DIFF', 'STATUS_0', 'STATUS_12345']\n",
    "agg_length = bureau.groupby('MONTHS_BALANCE_SIZE')[features].mean().reset_index()\n",
    "agg_length.rename({feat: 'LL_' + feat for feat in features}, axis=1, inplace=True)\n",
    "bureau = bureau.merge(agg_length, how='left', on='MONTHS_BALANCE_SIZE')\n",
    "del agg_length; gc.collect()"
   ]
  },
  {
   "cell_type": "code",
   "execution_count": 26,
   "id": "saved-charity",
   "metadata": {
    "execution": {
     "iopub.execute_input": "2021-07-08T12:50:54.834527Z",
     "iopub.status.busy": "2021-07-08T12:50:54.833810Z",
     "iopub.status.idle": "2021-07-08T12:50:54.836017Z",
     "shell.execute_reply": "2021-07-08T12:50:54.836529Z",
     "shell.execute_reply.started": "2021-07-08T12:47:11.589249Z"
    },
    "papermill": {
     "duration": 0.076467,
     "end_time": "2021-07-08T12:50:54.836696",
     "exception": false,
     "start_time": "2021-07-08T12:50:54.760229",
     "status": "completed"
    },
    "tags": []
   },
   "outputs": [],
   "source": [
    "BUREAU_AGG = {\n",
    "    'SK_ID_BUREAU': ['nunique'],\n",
    "    'DAYS_CREDIT': ['min', 'max', 'mean'],\n",
    "    'DAYS_CREDIT_ENDDATE': ['min', 'max'],\n",
    "    'AMT_CREDIT_MAX_OVERDUE': ['max', 'mean'],\n",
    "    'AMT_CREDIT_SUM': ['max', 'mean', 'sum'],\n",
    "    'AMT_CREDIT_SUM_DEBT': ['max', 'mean', 'sum'],\n",
    "    'AMT_CREDIT_SUM_OVERDUE': ['max', 'mean', 'sum'],\n",
    "    'AMT_ANNUITY': ['mean'],\n",
    "    'DEBT_CREDIT_DIFF': ['mean', 'sum'],\n",
    "    'MONTHS_BALANCE_MEAN': ['mean', 'var'],\n",
    "    'MONTHS_BALANCE_SIZE': ['mean', 'sum'],\n",
    "    'STATUS_0': ['mean'],\n",
    "    'STATUS_1': ['mean'],\n",
    "    'STATUS_12345': ['mean'],\n",
    "    'STATUS_C': ['mean'],\n",
    "    'STATUS_X': ['mean'],\n",
    "    'CREDIT_ACTIVE_Active': ['mean'],\n",
    "    'CREDIT_ACTIVE_Closed': ['mean'],\n",
    "    'CREDIT_ACTIVE_Sold': ['mean'],\n",
    "    'CREDIT_TYPE_Consumer credit': ['mean'],\n",
    "    'CREDIT_TYPE_Credit card': ['mean'],\n",
    "    'CREDIT_TYPE_Car loan': ['mean'],\n",
    "    'CREDIT_TYPE_Mortgage': ['mean'],\n",
    "    'CREDIT_TYPE_Microloan': ['mean'],\n",
    "    'LL_AMT_CREDIT_SUM_OVERDUE': ['mean'],\n",
    "    'LL_DEBT_CREDIT_DIFF': ['mean'],\n",
    "    'LL_STATUS_12345': ['mean'],\n",
    "}\n",
    "\n",
    "BUREAU_ACTIVE_AGG = {\n",
    "    'DAYS_CREDIT': ['max', 'mean'],\n",
    "    'DAYS_CREDIT_ENDDATE': ['min', 'max'],\n",
    "    'AMT_CREDIT_MAX_OVERDUE': ['max', 'mean'],\n",
    "    'AMT_CREDIT_SUM': ['max', 'sum'],\n",
    "    'AMT_CREDIT_SUM_DEBT': ['mean', 'sum'],\n",
    "    'AMT_CREDIT_SUM_OVERDUE': ['max', 'mean'],\n",
    "    'DAYS_CREDIT_UPDATE': ['min', 'mean'],\n",
    "    'DEBT_PERCENTAGE': ['mean'],\n",
    "    'DEBT_CREDIT_DIFF': ['mean'],\n",
    "    'CREDIT_TO_ANNUITY_RATIO': ['mean'],\n",
    "    'MONTHS_BALANCE_MEAN': ['mean', 'var'],\n",
    "    'MONTHS_BALANCE_SIZE': ['mean', 'sum'],\n",
    "}\n",
    "\n",
    "BUREAU_CLOSED_AGG = {\n",
    "    'DAYS_CREDIT': ['max', 'var'],\n",
    "    'DAYS_CREDIT_ENDDATE': ['max'],\n",
    "    'AMT_CREDIT_MAX_OVERDUE': ['max', 'mean'],\n",
    "    'AMT_CREDIT_SUM_OVERDUE': ['mean'],\n",
    "    'AMT_CREDIT_SUM': ['max', 'mean', 'sum'],\n",
    "    'AMT_CREDIT_SUM_DEBT': ['max', 'sum'],\n",
    "    'DAYS_CREDIT_UPDATE': ['max'],\n",
    "    'ENDDATE_DIF': ['mean'],\n",
    "    'STATUS_12345': ['mean'],\n",
    "}\n",
    "\n",
    "BUREAU_LOAN_TYPE_AGG = {\n",
    "    'DAYS_CREDIT': ['mean', 'max'],\n",
    "    'AMT_CREDIT_MAX_OVERDUE': ['mean', 'max'],\n",
    "    'AMT_CREDIT_SUM': ['mean', 'max'],\n",
    "    'AMT_CREDIT_SUM_DEBT': ['mean', 'max'],\n",
    "    'DEBT_PERCENTAGE': ['mean'],\n",
    "    'DEBT_CREDIT_DIFF': ['mean'],\n",
    "    'DAYS_CREDIT_ENDDATE': ['max'],\n",
    "}\n",
    "\n",
    "BUREAU_TIME_AGG = {\n",
    "    'AMT_CREDIT_MAX_OVERDUE': ['max', 'mean'],\n",
    "    'AMT_CREDIT_SUM_OVERDUE': ['mean'],\n",
    "    'AMT_CREDIT_SUM': ['max', 'sum'],\n",
    "    'AMT_CREDIT_SUM_DEBT': ['mean', 'sum'],\n",
    "    'DEBT_PERCENTAGE': ['mean'],\n",
    "    'DEBT_CREDIT_DIFF': ['mean'],\n",
    "    'STATUS_0': ['mean'],\n",
    "    'STATUS_12345': ['mean'],\n",
    "}"
   ]
  },
  {
   "cell_type": "code",
   "execution_count": 27,
   "id": "guided-standing",
   "metadata": {
    "execution": {
     "iopub.execute_input": "2021-07-08T12:50:54.958393Z",
     "iopub.status.busy": "2021-07-08T12:50:54.957744Z",
     "iopub.status.idle": "2021-07-08T12:51:04.087360Z",
     "shell.execute_reply": "2021-07-08T12:51:04.086638Z",
     "shell.execute_reply.started": "2021-07-08T12:47:11.607425Z"
    },
    "papermill": {
     "duration": 9.191088,
     "end_time": "2021-07-08T12:51:04.087516",
     "exception": false,
     "start_time": "2021-07-08T12:50:54.896428",
     "status": "completed"
    },
    "tags": []
   },
   "outputs": [],
   "source": [
    "agg_bureau = group(bureau, 'BUREAU_', BUREAU_AGG)\n",
    "active = bureau[bureau['CREDIT_ACTIVE_Active'] == 1]\n",
    "agg_bureau = group_and_merge(active,agg_bureau,'BUREAU_ACTIVE_',BUREAU_ACTIVE_AGG)\n",
    "closed = bureau[bureau['CREDIT_ACTIVE_Closed'] == 1]\n",
    "agg_bureau = group_and_merge(closed,agg_bureau,'BUREAU_CLOSED_',BUREAU_CLOSED_AGG)\n",
    "del active, closed; gc.collect()\n",
    "for credit_type in ['Consumer credit', 'Credit card', 'Mortgage', 'Car loan', 'Microloan']:\n",
    "    type_df = bureau[bureau['CREDIT_TYPE_' + credit_type] == 1]\n",
    "    prefix = 'BUREAU_' + credit_type.split(' ')[0].upper() + '_'\n",
    "    agg_bureau = group_and_merge(type_df, agg_bureau, prefix, BUREAU_LOAN_TYPE_AGG)\n",
    "    del type_df; gc.collect()\n",
    "for time_frame in [6, 12]:\n",
    "    prefix = \"BUREAU_LAST{}M_\".format(time_frame)\n",
    "    time_frame_df = bureau[bureau['DAYS_CREDIT'] >= -30*time_frame]\n",
    "    agg_bureau = group_and_merge(time_frame_df, agg_bureau, prefix, BUREAU_TIME_AGG)\n",
    "    del time_frame_df; gc.collect()"
   ]
  },
  {
   "cell_type": "code",
   "execution_count": 28,
   "id": "thorough-carolina",
   "metadata": {
    "execution": {
     "iopub.execute_input": "2021-07-08T12:51:04.210938Z",
     "iopub.status.busy": "2021-07-08T12:51:04.209971Z",
     "iopub.status.idle": "2021-07-08T12:51:06.000946Z",
     "shell.execute_reply": "2021-07-08T12:51:06.000282Z",
     "shell.execute_reply.started": "2021-07-08T12:47:20.641305Z"
    },
    "papermill": {
     "duration": 1.854881,
     "end_time": "2021-07-08T12:51:06.001083",
     "exception": false,
     "start_time": "2021-07-08T12:51:04.146202",
     "status": "completed"
    },
    "tags": []
   },
   "outputs": [],
   "source": [
    "sort_bureau = bureau.sort_values(by=['DAYS_CREDIT'])\n",
    "gr = sort_bureau.groupby('SK_ID_CURR')['AMT_CREDIT_MAX_OVERDUE'].last().reset_index()\n",
    "gr.rename({'AMT_CREDIT_MAX_OVERDUE': 'BUREAU_LAST_LOAN_MAX_OVERDUE'}, inplace=True)\n",
    "agg_bureau = agg_bureau.merge(gr, on='SK_ID_CURR', how='left')\n",
    "agg_bureau['BUREAU_DEBT_OVER_CREDIT'] = \\\n",
    "    agg_bureau['BUREAU_AMT_CREDIT_SUM_DEBT_SUM']/agg_bureau['BUREAU_AMT_CREDIT_SUM_SUM']\n",
    "agg_bureau['BUREAU_ACTIVE_DEBT_OVER_CREDIT'] = \\\n",
    "    agg_bureau['BUREAU_ACTIVE_AMT_CREDIT_SUM_DEBT_SUM']/agg_bureau['BUREAU_ACTIVE_AMT_CREDIT_SUM_SUM']"
   ]
  },
  {
   "cell_type": "code",
   "execution_count": 29,
   "id": "increased-question",
   "metadata": {
    "execution": {
     "iopub.execute_input": "2021-07-08T12:51:06.124498Z",
     "iopub.status.busy": "2021-07-08T12:51:06.123851Z",
     "iopub.status.idle": "2021-07-08T12:51:07.454087Z",
     "shell.execute_reply": "2021-07-08T12:51:07.454630Z",
     "shell.execute_reply.started": "2021-07-08T12:47:22.892345Z"
    },
    "papermill": {
     "duration": 1.395024,
     "end_time": "2021-07-08T12:51:07.454835",
     "exception": false,
     "start_time": "2021-07-08T12:51:06.059811",
     "status": "completed"
    },
    "tags": []
   },
   "outputs": [
    {
     "data": {
      "text/plain": [
       "20"
      ]
     },
     "execution_count": 29,
     "metadata": {},
     "output_type": "execute_result"
    }
   ],
   "source": [
    "df = pd.merge(df, agg_bureau, on='SK_ID_CURR', how='left')\n",
    "del agg_bureau, bureau\n",
    "gc.collect()"
   ]
  },
  {
   "cell_type": "code",
   "execution_count": 30,
   "id": "gothic-friendly",
   "metadata": {
    "execution": {
     "iopub.execute_input": "2021-07-08T12:51:07.575199Z",
     "iopub.status.busy": "2021-07-08T12:51:07.574521Z",
     "iopub.status.idle": "2021-07-08T12:51:38.062808Z",
     "shell.execute_reply": "2021-07-08T12:51:38.062067Z",
     "shell.execute_reply.started": "2021-07-08T12:47:24.076372Z"
    },
    "papermill": {
     "duration": 30.549892,
     "end_time": "2021-07-08T12:51:38.062961",
     "exception": false,
     "start_time": "2021-07-08T12:51:07.513069",
     "status": "completed"
    },
    "tags": []
   },
   "outputs": [],
   "source": [
    "prev = pd.read_csv(os.path.join(DATA_DIRECTORY, 'previous_application.csv'))\n",
    "pay = pd.read_csv(os.path.join(DATA_DIRECTORY, 'installments_payments.csv'))"
   ]
  },
  {
   "cell_type": "code",
   "execution_count": 31,
   "id": "speaking-syndrome",
   "metadata": {
    "execution": {
     "iopub.execute_input": "2021-07-08T12:51:38.206581Z",
     "iopub.status.busy": "2021-07-08T12:51:38.205677Z",
     "iopub.status.idle": "2021-07-08T12:51:38.208641Z",
     "shell.execute_reply": "2021-07-08T12:51:38.209141Z",
     "shell.execute_reply.started": "2021-07-08T12:47:45.257845Z"
    },
    "papermill": {
     "duration": 0.085341,
     "end_time": "2021-07-08T12:51:38.209370",
     "exception": false,
     "start_time": "2021-07-08T12:51:38.124029",
     "status": "completed"
    },
    "tags": []
   },
   "outputs": [],
   "source": [
    "PREVIOUS_AGG = {\n",
    "    'SK_ID_PREV': ['nunique'],\n",
    "    'AMT_ANNUITY': ['min', 'max', 'mean'],\n",
    "    'AMT_DOWN_PAYMENT': ['max', 'mean'],\n",
    "    'HOUR_APPR_PROCESS_START': ['min', 'max', 'mean'],\n",
    "    'RATE_DOWN_PAYMENT': ['max', 'mean'],\n",
    "    'DAYS_DECISION': ['min', 'max', 'mean'],\n",
    "    'CNT_PAYMENT': ['max', 'mean'],\n",
    "    'DAYS_TERMINATION': ['max'],\n",
    "    # Engineered features\n",
    "    'CREDIT_TO_ANNUITY_RATIO': ['mean', 'max'],\n",
    "    'APPLICATION_CREDIT_DIFF': ['min', 'max', 'mean'],\n",
    "    'APPLICATION_CREDIT_RATIO': ['min', 'max', 'mean', 'var'],\n",
    "    'DOWN_PAYMENT_TO_CREDIT': ['mean'],\n",
    "}\n",
    "\n",
    "PREVIOUS_ACTIVE_AGG = {\n",
    "    'SK_ID_PREV': ['nunique'],\n",
    "    'SIMPLE_INTERESTS': ['mean'],\n",
    "    'AMT_ANNUITY': ['max', 'sum'],\n",
    "    'AMT_APPLICATION': ['max', 'mean'],\n",
    "    'AMT_CREDIT': ['sum'],\n",
    "    'AMT_DOWN_PAYMENT': ['max', 'mean'],\n",
    "    'DAYS_DECISION': ['min', 'mean'],\n",
    "    'CNT_PAYMENT': ['mean', 'sum'],\n",
    "    'DAYS_LAST_DUE_1ST_VERSION': ['min', 'max', 'mean'],\n",
    "    # Engineered features\n",
    "    'AMT_PAYMENT': ['sum'],\n",
    "    'INSTALMENT_PAYMENT_DIFF': ['mean', 'max'],\n",
    "    'REMAINING_DEBT': ['max', 'mean', 'sum'],\n",
    "    'REPAYMENT_RATIO': ['mean'],\n",
    "}\n",
    "PREVIOUS_LATE_PAYMENTS_AGG = {\n",
    "    'DAYS_DECISION': ['min', 'max', 'mean'],\n",
    "    'DAYS_LAST_DUE_1ST_VERSION': ['min', 'max', 'mean'],\n",
    "    # Engineered features\n",
    "    'APPLICATION_CREDIT_DIFF': ['min'],\n",
    "    'NAME_CONTRACT_TYPE_Consumer loans': ['mean'],\n",
    "    'NAME_CONTRACT_TYPE_Cash loans': ['mean'],\n",
    "    'NAME_CONTRACT_TYPE_Revolving loans': ['mean'],\n",
    "}\n",
    "PREVIOUS_LOAN_TYPE_AGG = {\n",
    "    'AMT_CREDIT': ['sum'],\n",
    "    'AMT_ANNUITY': ['mean', 'max'],\n",
    "    'SIMPLE_INTERESTS': ['min', 'mean', 'max', 'var'],\n",
    "    'APPLICATION_CREDIT_DIFF': ['min', 'var'],\n",
    "    'APPLICATION_CREDIT_RATIO': ['min', 'max', 'mean'],\n",
    "    'DAYS_DECISION': ['max'],\n",
    "    'DAYS_LAST_DUE_1ST_VERSION': ['max', 'mean'],\n",
    "    'CNT_PAYMENT': ['mean'],\n",
    "}\n",
    "\n",
    "PREVIOUS_TIME_AGG = {\n",
    "    'AMT_CREDIT': ['sum'],\n",
    "    'AMT_ANNUITY': ['mean', 'max'],\n",
    "    'SIMPLE_INTERESTS': ['mean', 'max'],\n",
    "    'DAYS_DECISION': ['min', 'mean'],\n",
    "    'DAYS_LAST_DUE_1ST_VERSION': ['min', 'max', 'mean'],\n",
    "    # Engineered features\n",
    "    'APPLICATION_CREDIT_DIFF': ['min'],\n",
    "    'APPLICATION_CREDIT_RATIO': ['min', 'max', 'mean'],\n",
    "    'NAME_CONTRACT_TYPE_Consumer loans': ['mean'],\n",
    "    'NAME_CONTRACT_TYPE_Cash loans': ['mean'],\n",
    "    'NAME_CONTRACT_TYPE_Revolving loans': ['mean'],\n",
    "}\n",
    "\n",
    "PREVIOUS_APPROVED_AGG = {\n",
    "    'SK_ID_PREV': ['nunique'],\n",
    "    'AMT_ANNUITY': ['min', 'max', 'mean'],\n",
    "    'AMT_CREDIT': ['min', 'max', 'mean'],\n",
    "    'AMT_DOWN_PAYMENT': ['max'],\n",
    "    'AMT_GOODS_PRICE': ['max'],\n",
    "    'HOUR_APPR_PROCESS_START': ['min', 'max'],\n",
    "    'DAYS_DECISION': ['min', 'mean'],\n",
    "    'CNT_PAYMENT': ['max', 'mean'],\n",
    "    'DAYS_TERMINATION': ['mean'],\n",
    "    # Engineered features\n",
    "    'CREDIT_TO_ANNUITY_RATIO': ['mean', 'max'],\n",
    "    'APPLICATION_CREDIT_DIFF': ['max'],\n",
    "    'APPLICATION_CREDIT_RATIO': ['min', 'max', 'mean'],\n",
    "    # The following features are only for approved applications\n",
    "    'DAYS_FIRST_DRAWING': ['max', 'mean'],\n",
    "    'DAYS_FIRST_DUE': ['min', 'mean'],\n",
    "    'DAYS_LAST_DUE_1ST_VERSION': ['min', 'max', 'mean'],\n",
    "    'DAYS_LAST_DUE': ['max', 'mean'],\n",
    "    'DAYS_LAST_DUE_DIFF': ['min', 'max', 'mean'],\n",
    "    'SIMPLE_INTERESTS': ['min', 'max', 'mean'],\n",
    "}\n",
    "\n",
    "PREVIOUS_REFUSED_AGG = {\n",
    "    'AMT_APPLICATION': ['max', 'mean'],\n",
    "    'AMT_CREDIT': ['min', 'max'],\n",
    "    'DAYS_DECISION': ['min', 'max', 'mean'],\n",
    "    'CNT_PAYMENT': ['max', 'mean'],\n",
    "    # Engineered features\n",
    "    'APPLICATION_CREDIT_DIFF': ['min', 'max', 'mean', 'var'],\n",
    "    'APPLICATION_CREDIT_RATIO': ['min', 'mean'],\n",
    "    'NAME_CONTRACT_TYPE_Consumer loans': ['mean'],\n",
    "    'NAME_CONTRACT_TYPE_Cash loans': ['mean'],\n",
    "    'NAME_CONTRACT_TYPE_Revolving loans': ['mean'],\n",
    "}"
   ]
  },
  {
   "cell_type": "code",
   "execution_count": 32,
   "id": "clinical-complexity",
   "metadata": {
    "execution": {
     "iopub.execute_input": "2021-07-08T12:51:38.338113Z",
     "iopub.status.busy": "2021-07-08T12:51:38.337450Z",
     "iopub.status.idle": "2021-07-08T12:51:40.713696Z",
     "shell.execute_reply": "2021-07-08T12:51:40.714476Z",
     "shell.execute_reply.started": "2021-07-08T12:47:45.279217Z"
    },
    "papermill": {
     "duration": 2.444342,
     "end_time": "2021-07-08T12:51:40.714743",
     "exception": false,
     "start_time": "2021-07-08T12:51:38.270401",
     "status": "completed"
    },
    "tags": []
   },
   "outputs": [],
   "source": [
    "ohe_columns = [\n",
    "    'NAME_CONTRACT_STATUS', 'NAME_CONTRACT_TYPE', 'CHANNEL_TYPE',\n",
    "    'NAME_TYPE_SUITE', 'NAME_YIELD_GROUP', 'PRODUCT_COMBINATION',\n",
    "    'NAME_PRODUCT_TYPE', 'NAME_CLIENT_TYPE']\n",
    "prev, categorical_cols = one_hot_encoder(prev, ohe_columns, nan_as_category= False)"
   ]
  },
  {
   "cell_type": "code",
   "execution_count": 33,
   "id": "seventh-escape",
   "metadata": {
    "execution": {
     "iopub.execute_input": "2021-07-08T12:51:40.864930Z",
     "iopub.status.busy": "2021-07-08T12:51:40.863827Z",
     "iopub.status.idle": "2021-07-08T12:51:40.917597Z",
     "shell.execute_reply": "2021-07-08T12:51:40.916844Z",
     "shell.execute_reply.started": "2021-07-08T12:47:47.538942Z"
    },
    "papermill": {
     "duration": 0.138384,
     "end_time": "2021-07-08T12:51:40.917801",
     "exception": false,
     "start_time": "2021-07-08T12:51:40.779417",
     "status": "completed"
    },
    "tags": []
   },
   "outputs": [],
   "source": [
    "prev['APPLICATION_CREDIT_DIFF'] = prev['AMT_APPLICATION'] - prev['AMT_CREDIT']\n",
    "prev['APPLICATION_CREDIT_RATIO'] = prev['AMT_APPLICATION'] / prev['AMT_CREDIT']\n",
    "prev['CREDIT_TO_ANNUITY_RATIO'] = prev['AMT_CREDIT']/prev['AMT_ANNUITY']\n",
    "prev['DOWN_PAYMENT_TO_CREDIT'] = prev['AMT_DOWN_PAYMENT'] / prev['AMT_CREDIT']\n",
    "total_payment = prev['AMT_ANNUITY'] * prev['CNT_PAYMENT']\n",
    "prev['SIMPLE_INTERESTS'] = (total_payment/prev['AMT_CREDIT'] - 1)/prev['CNT_PAYMENT']"
   ]
  },
  {
   "cell_type": "code",
   "execution_count": 34,
   "id": "thousand-breathing",
   "metadata": {
    "execution": {
     "iopub.execute_input": "2021-07-08T12:51:41.059858Z",
     "iopub.status.busy": "2021-07-08T12:51:41.058908Z",
     "iopub.status.idle": "2021-07-08T12:51:44.340080Z",
     "shell.execute_reply": "2021-07-08T12:51:44.339445Z",
     "shell.execute_reply.started": "2021-07-08T12:47:47.586660Z"
    },
    "papermill": {
     "duration": 3.347702,
     "end_time": "2021-07-08T12:51:44.340243",
     "exception": false,
     "start_time": "2021-07-08T12:51:40.992541",
     "status": "completed"
    },
    "tags": []
   },
   "outputs": [
    {
     "data": {
      "text/plain": [
       "0"
      ]
     },
     "execution_count": 34,
     "metadata": {},
     "output_type": "execute_result"
    }
   ],
   "source": [
    "approved = prev[prev['NAME_CONTRACT_STATUS_Approved'] == 1]\n",
    "active_df = approved[approved['DAYS_LAST_DUE'] == 365243]\n",
    "active_pay = pay[pay['SK_ID_PREV'].isin(active_df['SK_ID_PREV'])]\n",
    "active_pay_agg = active_pay.groupby('SK_ID_PREV')[['AMT_INSTALMENT', 'AMT_PAYMENT']].sum()\n",
    "active_pay_agg.reset_index(inplace= True)\n",
    "active_pay_agg['INSTALMENT_PAYMENT_DIFF'] = active_pay_agg['AMT_INSTALMENT'] - active_pay_agg['AMT_PAYMENT']\n",
    "active_df = active_df.merge(active_pay_agg, on= 'SK_ID_PREV', how= 'left')\n",
    "active_df['REMAINING_DEBT'] = active_df['AMT_CREDIT'] - active_df['AMT_PAYMENT']\n",
    "active_df['REPAYMENT_RATIO'] = active_df['AMT_PAYMENT'] / active_df['AMT_CREDIT']\n",
    "active_agg_df = group(active_df, 'PREV_ACTIVE_', PREVIOUS_ACTIVE_AGG)\n",
    "active_agg_df['TOTAL_REPAYMENT_RATIO'] = active_agg_df['PREV_ACTIVE_AMT_PAYMENT_SUM']/\\\n",
    "                                            active_agg_df['PREV_ACTIVE_AMT_CREDIT_SUM']\n",
    "del active_pay, active_pay_agg, active_df; gc.collect()"
   ]
  },
  {
   "cell_type": "code",
   "execution_count": 35,
   "id": "chicken-cleaning",
   "metadata": {
    "execution": {
     "iopub.execute_input": "2021-07-08T12:51:44.466285Z",
     "iopub.status.busy": "2021-07-08T12:51:44.465597Z",
     "iopub.status.idle": "2021-07-08T12:51:44.505128Z",
     "shell.execute_reply": "2021-07-08T12:51:44.504610Z",
     "shell.execute_reply.started": "2021-07-08T12:47:50.289724Z"
    },
    "papermill": {
     "duration": 0.106694,
     "end_time": "2021-07-08T12:51:44.505290",
     "exception": false,
     "start_time": "2021-07-08T12:51:44.398596",
     "status": "completed"
    },
    "tags": []
   },
   "outputs": [],
   "source": [
    "prev['DAYS_FIRST_DRAWING'].replace(365243, np.nan, inplace= True)\n",
    "prev['DAYS_FIRST_DUE'].replace(365243, np.nan, inplace= True)\n",
    "prev['DAYS_LAST_DUE_1ST_VERSION'].replace(365243, np.nan, inplace= True)\n",
    "prev['DAYS_LAST_DUE'].replace(365243, np.nan, inplace= True)\n",
    "prev['DAYS_TERMINATION'].replace(365243, np.nan, inplace= True)"
   ]
  },
  {
   "cell_type": "code",
   "execution_count": 36,
   "id": "understanding-double",
   "metadata": {
    "execution": {
     "iopub.execute_input": "2021-07-08T12:51:44.634636Z",
     "iopub.status.busy": "2021-07-08T12:51:44.632786Z",
     "iopub.status.idle": "2021-07-08T12:51:44.649930Z",
     "shell.execute_reply": "2021-07-08T12:51:44.649125Z",
     "shell.execute_reply.started": "2021-07-08T12:47:50.331810Z"
    },
    "papermill": {
     "duration": 0.085813,
     "end_time": "2021-07-08T12:51:44.650126",
     "exception": false,
     "start_time": "2021-07-08T12:51:44.564313",
     "status": "completed"
    },
    "tags": []
   },
   "outputs": [
    {
     "name": "stderr",
     "output_type": "stream",
     "text": [
      "/opt/conda/lib/python3.7/site-packages/ipykernel_launcher.py:2: SettingWithCopyWarning: \n",
      "A value is trying to be set on a copy of a slice from a DataFrame.\n",
      "Try using .loc[row_indexer,col_indexer] = value instead\n",
      "\n",
      "See the caveats in the documentation: https://pandas.pydata.org/pandas-docs/stable/user_guide/indexing.html#returning-a-view-versus-a-copy\n",
      "  \n"
     ]
    }
   ],
   "source": [
    "prev['DAYS_LAST_DUE_DIFF'] = prev['DAYS_LAST_DUE_1ST_VERSION'] - prev['DAYS_LAST_DUE']\n",
    "approved['DAYS_LAST_DUE_DIFF'] = approved['DAYS_LAST_DUE_1ST_VERSION'] - approved['DAYS_LAST_DUE']"
   ]
  },
  {
   "cell_type": "code",
   "execution_count": 37,
   "id": "shaped-angle",
   "metadata": {
    "execution": {
     "iopub.execute_input": "2021-07-08T12:51:44.778598Z",
     "iopub.status.busy": "2021-07-08T12:51:44.777930Z",
     "iopub.status.idle": "2021-07-08T12:51:44.781256Z",
     "shell.execute_reply": "2021-07-08T12:51:44.781753Z",
     "shell.execute_reply.started": "2021-07-08T12:47:50.351504Z"
    },
    "papermill": {
     "duration": 0.070432,
     "end_time": "2021-07-08T12:51:44.781922",
     "exception": false,
     "start_time": "2021-07-08T12:51:44.711490",
     "status": "completed"
    },
    "tags": []
   },
   "outputs": [],
   "source": [
    "categorical_agg = {key: ['mean'] for key in categorical_cols}"
   ]
  },
  {
   "cell_type": "code",
   "execution_count": 38,
   "id": "pharmaceutical-milan",
   "metadata": {
    "execution": {
     "iopub.execute_input": "2021-07-08T12:51:44.908978Z",
     "iopub.status.busy": "2021-07-08T12:51:44.908308Z",
     "iopub.status.idle": "2021-07-08T12:51:50.186841Z",
     "shell.execute_reply": "2021-07-08T12:51:50.186319Z",
     "shell.execute_reply.started": "2021-07-08T12:47:50.358000Z"
    },
    "papermill": {
     "duration": 5.344606,
     "end_time": "2021-07-08T12:51:50.186995",
     "exception": false,
     "start_time": "2021-07-08T12:51:44.842389",
     "status": "completed"
    },
    "tags": []
   },
   "outputs": [
    {
     "data": {
      "text/plain": [
       "0"
      ]
     },
     "execution_count": 38,
     "metadata": {},
     "output_type": "execute_result"
    }
   ],
   "source": [
    "agg_prev = group(prev, 'PREV_', {**PREVIOUS_AGG, **categorical_agg})\n",
    "agg_prev = agg_prev.merge(active_agg_df, how='left', on='SK_ID_CURR')\n",
    "del active_agg_df; gc.collect()"
   ]
  },
  {
   "cell_type": "code",
   "execution_count": 39,
   "id": "restricted-exhibit",
   "metadata": {
    "execution": {
     "iopub.execute_input": "2021-07-08T12:51:50.316614Z",
     "iopub.status.busy": "2021-07-08T12:51:50.315952Z",
     "iopub.status.idle": "2021-07-08T12:51:53.590725Z",
     "shell.execute_reply": "2021-07-08T12:51:53.591214Z",
     "shell.execute_reply.started": "2021-07-08T12:47:55.465523Z"
    },
    "papermill": {
     "duration": 3.342968,
     "end_time": "2021-07-08T12:51:53.591411",
     "exception": false,
     "start_time": "2021-07-08T12:51:50.248443",
     "status": "completed"
    },
    "tags": []
   },
   "outputs": [
    {
     "data": {
      "text/plain": [
       "0"
      ]
     },
     "execution_count": 39,
     "metadata": {},
     "output_type": "execute_result"
    }
   ],
   "source": [
    "agg_prev = group_and_merge(approved, agg_prev, 'APPROVED_', PREVIOUS_APPROVED_AGG)\n",
    "refused = prev[prev['NAME_CONTRACT_STATUS_Refused'] == 1]\n",
    "agg_prev = group_and_merge(refused, agg_prev, 'REFUSED_', PREVIOUS_REFUSED_AGG)\n",
    "del approved, refused; gc.collect()\n"
   ]
  },
  {
   "cell_type": "code",
   "execution_count": 40,
   "id": "unsigned-secondary",
   "metadata": {
    "execution": {
     "iopub.execute_input": "2021-07-08T12:51:53.721406Z",
     "iopub.status.busy": "2021-07-08T12:51:53.720755Z",
     "iopub.status.idle": "2021-07-08T12:51:56.958027Z",
     "shell.execute_reply": "2021-07-08T12:51:56.957333Z",
     "shell.execute_reply.started": "2021-07-08T12:47:58.680049Z"
    },
    "papermill": {
     "duration": 3.30685,
     "end_time": "2021-07-08T12:51:56.958189",
     "exception": false,
     "start_time": "2021-07-08T12:51:53.651339",
     "status": "completed"
    },
    "tags": []
   },
   "outputs": [],
   "source": [
    "for loan_type in ['Consumer loans', 'Cash loans']:\n",
    "    type_df = prev[prev['NAME_CONTRACT_TYPE_{}'.format(loan_type)] == 1]\n",
    "    prefix = 'PREV_' + loan_type.split(\" \")[0] + '_'\n",
    "    agg_prev = group_and_merge(type_df, agg_prev, prefix, PREVIOUS_LOAN_TYPE_AGG)\n",
    "    del type_df; gc.collect()"
   ]
  },
  {
   "cell_type": "code",
   "execution_count": 41,
   "id": "dedicated-pitch",
   "metadata": {
    "execution": {
     "iopub.execute_input": "2021-07-08T12:51:57.100639Z",
     "iopub.status.busy": "2021-07-08T12:51:57.098940Z",
     "iopub.status.idle": "2021-07-08T12:52:07.601769Z",
     "shell.execute_reply": "2021-07-08T12:52:07.601204Z",
     "shell.execute_reply.started": "2021-07-08T12:48:01.444319Z"
    },
    "papermill": {
     "duration": 10.583633,
     "end_time": "2021-07-08T12:52:07.601907",
     "exception": false,
     "start_time": "2021-07-08T12:51:57.018274",
     "status": "completed"
    },
    "tags": []
   },
   "outputs": [],
   "source": [
    "pay['LATE_PAYMENT'] = pay['DAYS_ENTRY_PAYMENT'] - pay['DAYS_INSTALMENT']\n",
    "pay['LATE_PAYMENT'] = pay['LATE_PAYMENT'].apply(lambda x: 1 if x > 0 else 0)\n",
    "dpd_id = pay[pay['LATE_PAYMENT'] > 0]['SK_ID_PREV'].unique()"
   ]
  },
  {
   "cell_type": "code",
   "execution_count": 42,
   "id": "taken-clause",
   "metadata": {
    "execution": {
     "iopub.execute_input": "2021-07-08T12:52:07.728677Z",
     "iopub.status.busy": "2021-07-08T12:52:07.728020Z",
     "iopub.status.idle": "2021-07-08T12:52:08.876311Z",
     "shell.execute_reply": "2021-07-08T12:52:08.875582Z",
     "shell.execute_reply.started": "2021-07-08T12:48:11.837980Z"
    },
    "papermill": {
     "duration": 1.214279,
     "end_time": "2021-07-08T12:52:08.876498",
     "exception": false,
     "start_time": "2021-07-08T12:52:07.662219",
     "status": "completed"
    },
    "tags": []
   },
   "outputs": [
    {
     "data": {
      "text/plain": [
       "0"
      ]
     },
     "execution_count": 42,
     "metadata": {},
     "output_type": "execute_result"
    }
   ],
   "source": [
    "agg_dpd = group_and_merge(prev[prev['SK_ID_PREV'].isin(dpd_id)], agg_prev,\n",
    "                                    'PREV_LATE_', PREVIOUS_LATE_PAYMENTS_AGG)\n",
    "del agg_dpd, dpd_id; gc.collect()"
   ]
  },
  {
   "cell_type": "code",
   "execution_count": null,
   "id": "uniform-entrance",
   "metadata": {
    "papermill": {
     "duration": 0.064353,
     "end_time": "2021-07-08T12:52:09.030878",
     "exception": false,
     "start_time": "2021-07-08T12:52:08.966525",
     "status": "completed"
    },
    "tags": []
   },
   "outputs": [],
   "source": []
  },
  {
   "cell_type": "code",
   "execution_count": 43,
   "id": "superb-pillow",
   "metadata": {
    "execution": {
     "iopub.execute_input": "2021-07-08T12:52:09.171793Z",
     "iopub.status.busy": "2021-07-08T12:52:09.171082Z",
     "iopub.status.idle": "2021-07-08T12:52:12.688233Z",
     "shell.execute_reply": "2021-07-08T12:52:12.687608Z",
     "shell.execute_reply.started": "2021-07-08T12:48:12.763760Z"
    },
    "papermill": {
     "duration": 3.588912,
     "end_time": "2021-07-08T12:52:12.688378",
     "exception": false,
     "start_time": "2021-07-08T12:52:09.099466",
     "status": "completed"
    },
    "tags": []
   },
   "outputs": [
    {
     "data": {
      "text/plain": [
       "0"
      ]
     },
     "execution_count": 43,
     "metadata": {},
     "output_type": "execute_result"
    }
   ],
   "source": [
    "for time_frame in [12, 24]:\n",
    "    time_frame_df = prev[prev['DAYS_DECISION'] >= -30*time_frame]\n",
    "    prefix = 'PREV_LAST{}M_'.format(time_frame)\n",
    "    agg_prev = group_and_merge(time_frame_df, agg_prev, prefix, PREVIOUS_TIME_AGG)\n",
    "    del time_frame_df; gc.collect()\n",
    "del prev; gc.collect()"
   ]
  },
  {
   "cell_type": "code",
   "execution_count": 44,
   "id": "southern-arnold",
   "metadata": {
    "execution": {
     "iopub.execute_input": "2021-07-08T12:52:12.824394Z",
     "iopub.status.busy": "2021-07-08T12:52:12.822562Z",
     "iopub.status.idle": "2021-07-08T12:52:15.218241Z",
     "shell.execute_reply": "2021-07-08T12:52:15.217679Z",
     "shell.execute_reply.started": "2021-07-08T12:48:15.942295Z"
    },
    "papermill": {
     "duration": 2.464441,
     "end_time": "2021-07-08T12:52:15.218377",
     "exception": false,
     "start_time": "2021-07-08T12:52:12.753936",
     "status": "completed"
    },
    "tags": []
   },
   "outputs": [],
   "source": [
    "df = pd.merge(df, agg_prev, on='SK_ID_CURR', how='left')"
   ]
  },
  {
   "cell_type": "code",
   "execution_count": 45,
   "id": "noble-frequency",
   "metadata": {
    "execution": {
     "iopub.execute_input": "2021-07-08T12:52:15.347284Z",
     "iopub.status.busy": "2021-07-08T12:52:15.346207Z",
     "iopub.status.idle": "2021-07-08T12:52:17.170887Z",
     "shell.execute_reply": "2021-07-08T12:52:17.169998Z",
     "shell.execute_reply.started": "2021-07-08T12:48:18.421704Z"
    },
    "papermill": {
     "duration": 1.892245,
     "end_time": "2021-07-08T12:52:17.171058",
     "exception": false,
     "start_time": "2021-07-08T12:52:15.278813",
     "status": "completed"
    },
    "tags": []
   },
   "outputs": [
    {
     "data": {
      "text/plain": [
       "40"
      ]
     },
     "execution_count": 45,
     "metadata": {},
     "output_type": "execute_result"
    }
   ],
   "source": [
    "train = df[df['TARGET'].notnull()]\n",
    "test = df[df['TARGET'].isnull()]\n",
    "del df\n",
    "gc.collect()"
   ]
  },
  {
   "cell_type": "code",
   "execution_count": 46,
   "id": "julian-penetration",
   "metadata": {
    "execution": {
     "iopub.execute_input": "2021-07-08T12:52:17.902791Z",
     "iopub.status.busy": "2021-07-08T12:52:17.901798Z",
     "iopub.status.idle": "2021-07-08T12:52:17.906012Z",
     "shell.execute_reply": "2021-07-08T12:52:17.905042Z",
     "shell.execute_reply.started": "2021-07-08T12:48:20.217729Z"
    },
    "papermill": {
     "duration": 0.672365,
     "end_time": "2021-07-08T12:52:17.906186",
     "exception": false,
     "start_time": "2021-07-08T12:52:17.233821",
     "status": "completed"
    },
    "tags": []
   },
   "outputs": [],
   "source": [
    "labels = train['TARGET']\n",
    "train = train.drop(columns=['TARGET'])\n",
    "test = test.drop(columns=['TARGET'])"
   ]
  },
  {
   "cell_type": "code",
   "execution_count": 47,
   "id": "passive-instrumentation",
   "metadata": {
    "execution": {
     "iopub.execute_input": "2021-07-08T12:52:18.035761Z",
     "iopub.status.busy": "2021-07-08T12:52:18.035071Z",
     "iopub.status.idle": "2021-07-08T12:52:19.556015Z",
     "shell.execute_reply": "2021-07-08T12:52:19.555499Z",
     "shell.execute_reply.started": "2021-07-08T12:48:20.687141Z"
    },
    "papermill": {
     "duration": 1.588932,
     "end_time": "2021-07-08T12:52:19.556157",
     "exception": false,
     "start_time": "2021-07-08T12:52:17.967225",
     "status": "completed"
    },
    "tags": []
   },
   "outputs": [],
   "source": [
    "feature = list(train.columns)\n",
    "\n",
    "train.replace([np.inf, -np.inf], np.nan, inplace=True)\n",
    "test.replace([np.inf, -np.inf], np.nan, inplace=True)\n",
    "test_df = test.copy()\n",
    "train_df = train.copy()\n",
    "train_df['TARGET'] = labels"
   ]
  },
  {
   "cell_type": "code",
   "execution_count": 48,
   "id": "greater-exemption",
   "metadata": {
    "execution": {
     "iopub.execute_input": "2021-07-08T12:52:19.685321Z",
     "iopub.status.busy": "2021-07-08T12:52:19.684648Z",
     "iopub.status.idle": "2021-07-08T12:52:19.687900Z",
     "shell.execute_reply": "2021-07-08T12:52:19.687370Z",
     "shell.execute_reply.started": "2021-07-08T12:48:22.150378Z"
    },
    "papermill": {
     "duration": 0.070346,
     "end_time": "2021-07-08T12:52:19.688046",
     "exception": false,
     "start_time": "2021-07-08T12:52:19.617700",
     "status": "completed"
    },
    "tags": []
   },
   "outputs": [],
   "source": [
    "#imputer = SimpleImputer(strategy = 'median')\n",
    "#imputer.fit(train)\n",
    "#train = imputer.transform(train)\n",
    "#test = imputer.transform(test)"
   ]
  },
  {
   "cell_type": "code",
   "execution_count": 49,
   "id": "acknowledged-processor",
   "metadata": {
    "execution": {
     "iopub.execute_input": "2021-07-08T12:52:19.815472Z",
     "iopub.status.busy": "2021-07-08T12:52:19.814752Z",
     "iopub.status.idle": "2021-07-08T12:52:19.817910Z",
     "shell.execute_reply": "2021-07-08T12:52:19.817300Z",
     "shell.execute_reply.started": "2021-07-08T12:48:22.156097Z"
    },
    "papermill": {
     "duration": 0.068329,
     "end_time": "2021-07-08T12:52:19.818056",
     "exception": false,
     "start_time": "2021-07-08T12:52:19.749727",
     "status": "completed"
    },
    "tags": []
   },
   "outputs": [],
   "source": [
    "#scaler = MinMaxScaler(feature_range = (0, 1))\n",
    "#scaler.fit(train)\n",
    "#train = scaler.transform(train)\n",
    "#est = scaler.transform(test)"
   ]
  },
  {
   "cell_type": "code",
   "execution_count": 50,
   "id": "professional-deposit",
   "metadata": {
    "execution": {
     "iopub.execute_input": "2021-07-08T12:52:19.989209Z",
     "iopub.status.busy": "2021-07-08T12:52:19.988222Z",
     "iopub.status.idle": "2021-07-08T12:52:19.991648Z",
     "shell.execute_reply": "2021-07-08T12:52:19.992188Z",
     "shell.execute_reply.started": "2021-07-08T12:48:22.176910Z"
    },
    "papermill": {
     "duration": 0.096604,
     "end_time": "2021-07-08T12:52:19.992383",
     "exception": false,
     "start_time": "2021-07-08T12:52:19.895779",
     "status": "completed"
    },
    "tags": []
   },
   "outputs": [],
   "source": [
    "#log_reg = LogisticRegression(C = 0.0001)\n",
    "#log_reg.fit(train, labels)"
   ]
  },
  {
   "cell_type": "code",
   "execution_count": 51,
   "id": "considered-stopping",
   "metadata": {
    "execution": {
     "iopub.execute_input": "2021-07-08T12:52:20.123599Z",
     "iopub.status.busy": "2021-07-08T12:52:20.122684Z",
     "iopub.status.idle": "2021-07-08T12:52:20.126646Z",
     "shell.execute_reply": "2021-07-08T12:52:20.127080Z",
     "shell.execute_reply.started": "2021-07-08T12:48:22.188812Z"
    },
    "papermill": {
     "duration": 0.071381,
     "end_time": "2021-07-08T12:52:20.127286",
     "exception": false,
     "start_time": "2021-07-08T12:52:20.055905",
     "status": "completed"
    },
    "tags": []
   },
   "outputs": [],
   "source": [
    "#log_reg_pred = log_reg.predict_proba(test)[:, 1]\n"
   ]
  },
  {
   "cell_type": "code",
   "execution_count": 52,
   "id": "finished-kennedy",
   "metadata": {
    "execution": {
     "iopub.execute_input": "2021-07-08T12:52:20.255831Z",
     "iopub.status.busy": "2021-07-08T12:52:20.254861Z",
     "iopub.status.idle": "2021-07-08T12:52:20.258288Z",
     "shell.execute_reply": "2021-07-08T12:52:20.258861Z",
     "shell.execute_reply.started": "2021-07-08T12:48:22.202119Z"
    },
    "papermill": {
     "duration": 0.070399,
     "end_time": "2021-07-08T12:52:20.259035",
     "exception": false,
     "start_time": "2021-07-08T12:52:20.188636",
     "status": "completed"
    },
    "tags": []
   },
   "outputs": [],
   "source": [
    "#submit = test_df[['SK_ID_CURR']]\n",
    "#submit['TARGET'] = log_reg_pred\n",
    "\n",
    "\n",
    "\n"
   ]
  },
  {
   "cell_type": "code",
   "execution_count": 53,
   "id": "literary-sheet",
   "metadata": {
    "execution": {
     "iopub.execute_input": "2021-07-08T12:52:20.390785Z",
     "iopub.status.busy": "2021-07-08T12:52:20.389820Z",
     "iopub.status.idle": "2021-07-08T12:52:21.703596Z",
     "shell.execute_reply": "2021-07-08T12:52:21.703001Z",
     "shell.execute_reply.started": "2021-07-08T12:48:22.215796Z"
    },
    "papermill": {
     "duration": 1.381505,
     "end_time": "2021-07-08T12:52:21.703748",
     "exception": false,
     "start_time": "2021-07-08T12:52:20.322243",
     "status": "completed"
    },
    "tags": []
   },
   "outputs": [
    {
     "data": {
      "text/plain": [
       "0"
      ]
     },
     "execution_count": 53,
     "metadata": {},
     "output_type": "execute_result"
    }
   ],
   "source": [
    "# Merge the datasets into a single one\n",
    "target = train_df.pop('TARGET')\n",
    "len_train = len(train_df)\n",
    "merged_df = pd.concat([train_df, test_df])\n",
    "meta_df = merged_df.pop('SK_ID_CURR')\n",
    "del test_df, train_df\n",
    "gc.collect()"
   ]
  },
  {
   "cell_type": "code",
   "execution_count": null,
   "id": "adaptive-universal",
   "metadata": {
    "papermill": {
     "duration": 0.060933,
     "end_time": "2021-07-08T12:52:21.828228",
     "exception": false,
     "start_time": "2021-07-08T12:52:21.767295",
     "status": "completed"
    },
    "tags": []
   },
   "outputs": [],
   "source": []
  },
  {
   "cell_type": "code",
   "execution_count": 54,
   "id": "annual-undergraduate",
   "metadata": {
    "execution": {
     "iopub.execute_input": "2021-07-08T12:52:21.970313Z",
     "iopub.status.busy": "2021-07-08T12:52:21.969515Z",
     "iopub.status.idle": "2021-07-08T12:52:21.973257Z",
     "shell.execute_reply": "2021-07-08T12:52:21.973886Z",
     "shell.execute_reply.started": "2021-07-08T12:48:23.351759Z"
    },
    "papermill": {
     "duration": 0.079293,
     "end_time": "2021-07-08T12:52:21.974079",
     "exception": false,
     "start_time": "2021-07-08T12:52:21.894786",
     "status": "completed"
    },
    "tags": []
   },
   "outputs": [
    {
     "name": "stdout",
     "output_type": "stream",
     "text": [
      "Using 460 prediction variables\n",
      "Encoding 0 non-numeric columns...\n",
      "Now using 460 prediction variables\n"
     ]
    }
   ],
   "source": [
    "# Encode categoricals: 1-hot\n",
    "categorical_feats = merged_df.columns[merged_df.dtypes == 'object']\n",
    "print('Using %d prediction variables'%(merged_df.shape[1]))\n",
    "print('Encoding %d non-numeric columns...'%(merged_df.columns[merged_df.dtypes == 'object'].shape))\n",
    "for feat in categorical_feats:\n",
    "    merged_df[feat].fillna('MISSING', inplace=True) # populate missing labels\n",
    "    encoder = LabelBinarizer() # works with text\n",
    "    new_columns = encoder.fit_transform(merged_df[feat])\n",
    "    i=0\n",
    "    for u in merged_df[feat].unique():\n",
    "        if i<new_columns.shape[1]:\n",
    "            merged_df[feat+'_'+u]=new_columns[:,i]\n",
    "            i+=1\n",
    "    merged_df.drop(feat, axis=1, inplace=True)\n",
    "print('Now using %d prediction variables'%(merged_df.shape[1]))\n"
   ]
  },
  {
   "cell_type": "code",
   "execution_count": 55,
   "id": "brief-armenia",
   "metadata": {
    "execution": {
     "iopub.execute_input": "2021-07-08T12:52:22.104063Z",
     "iopub.status.busy": "2021-07-08T12:52:22.103446Z",
     "iopub.status.idle": "2021-07-08T12:52:22.427208Z",
     "shell.execute_reply": "2021-07-08T12:52:22.427766Z",
     "shell.execute_reply.started": "2021-07-08T12:48:23.364434Z"
    },
    "papermill": {
     "duration": 0.392354,
     "end_time": "2021-07-08T12:52:22.427983",
     "exception": false,
     "start_time": "2021-07-08T12:52:22.035629",
     "status": "completed"
    },
    "tags": []
   },
   "outputs": [],
   "source": [
    "# handle missing values\n",
    "null_counts = merged_df.isnull().sum()\n",
    "null_counts = null_counts[null_counts > 0]\n",
    "null_ratios = null_counts / len(merged_df)\n"
   ]
  },
  {
   "cell_type": "code",
   "execution_count": 56,
   "id": "unsigned-perth",
   "metadata": {
    "execution": {
     "iopub.execute_input": "2021-07-08T12:52:22.561483Z",
     "iopub.status.busy": "2021-07-08T12:52:22.560844Z",
     "iopub.status.idle": "2021-07-08T12:52:24.606834Z",
     "shell.execute_reply": "2021-07-08T12:52:24.606300Z",
     "shell.execute_reply.started": "2021-07-08T12:48:23.731930Z"
    },
    "papermill": {
     "duration": 2.112186,
     "end_time": "2021-07-08T12:52:24.606989",
     "exception": false,
     "start_time": "2021-07-08T12:52:22.494803",
     "status": "completed"
    },
    "tags": []
   },
   "outputs": [
    {
     "name": "stdout",
     "output_type": "stream",
     "text": [
      "Columns dropped for being over 0.80 null:\n",
      "BUREAU_ACTIVE_CREDIT_TO_ANNUITY_RATIO_MEAN\n",
      "BUREAU_CONSUMER_DEBT_PERCENTAGE_MEAN\n",
      "BUREAU_MORTGAGE_DAYS_CREDIT_MEAN\n",
      "BUREAU_MORTGAGE_DAYS_CREDIT_MAX\n",
      "BUREAU_MORTGAGE_AMT_CREDIT_MAX_OVERDUE_MEAN\n",
      "BUREAU_MORTGAGE_AMT_CREDIT_MAX_OVERDUE_MAX\n",
      "BUREAU_MORTGAGE_AMT_CREDIT_SUM_MEAN\n",
      "BUREAU_MORTGAGE_AMT_CREDIT_SUM_MAX\n",
      "BUREAU_MORTGAGE_AMT_CREDIT_SUM_DEBT_MEAN\n",
      "BUREAU_MORTGAGE_AMT_CREDIT_SUM_DEBT_MAX\n",
      "BUREAU_MORTGAGE_DEBT_PERCENTAGE_MEAN\n",
      "BUREAU_MORTGAGE_DEBT_CREDIT_DIFF_MEAN\n",
      "BUREAU_MORTGAGE_DAYS_CREDIT_ENDDATE_MAX\n",
      "BUREAU_CAR_DAYS_CREDIT_MEAN\n",
      "BUREAU_CAR_DAYS_CREDIT_MAX\n",
      "BUREAU_CAR_AMT_CREDIT_MAX_OVERDUE_MEAN\n",
      "BUREAU_CAR_AMT_CREDIT_MAX_OVERDUE_MAX\n",
      "BUREAU_CAR_AMT_CREDIT_SUM_MEAN\n",
      "BUREAU_CAR_AMT_CREDIT_SUM_MAX\n",
      "BUREAU_CAR_AMT_CREDIT_SUM_DEBT_MEAN\n",
      "BUREAU_CAR_AMT_CREDIT_SUM_DEBT_MAX\n",
      "BUREAU_CAR_DEBT_PERCENTAGE_MEAN\n",
      "BUREAU_CAR_DEBT_CREDIT_DIFF_MEAN\n",
      "BUREAU_CAR_DAYS_CREDIT_ENDDATE_MAX\n",
      "BUREAU_MICROLOAN_DAYS_CREDIT_MEAN\n",
      "BUREAU_MICROLOAN_DAYS_CREDIT_MAX\n",
      "BUREAU_MICROLOAN_AMT_CREDIT_MAX_OVERDUE_MEAN\n",
      "BUREAU_MICROLOAN_AMT_CREDIT_MAX_OVERDUE_MAX\n",
      "BUREAU_MICROLOAN_AMT_CREDIT_SUM_MEAN\n",
      "BUREAU_MICROLOAN_AMT_CREDIT_SUM_MAX\n",
      "BUREAU_MICROLOAN_AMT_CREDIT_SUM_DEBT_MEAN\n",
      "BUREAU_MICROLOAN_AMT_CREDIT_SUM_DEBT_MAX\n",
      "BUREAU_MICROLOAN_DEBT_PERCENTAGE_MEAN\n",
      "BUREAU_MICROLOAN_DEBT_CREDIT_DIFF_MEAN\n",
      "BUREAU_MICROLOAN_DAYS_CREDIT_ENDDATE_MAX\n",
      "BUREAU_LAST6M_AMT_CREDIT_MAX_OVERDUE_MAX\n",
      "BUREAU_LAST6M_AMT_CREDIT_MAX_OVERDUE_MEAN\n",
      "BUREAU_LAST6M_DEBT_PERCENTAGE_MEAN\n",
      "BUREAU_LAST6M_STATUS_0_MEAN\n",
      "BUREAU_LAST6M_STATUS_12345_MEAN\n",
      "PREV_ACTIVE_AMT_DOWN_PAYMENT_MAX\n",
      "PREV_ACTIVE_AMT_DOWN_PAYMENT_MEAN\n",
      "REFUSED_APPLICATION_CREDIT_DIFF_VAR\n"
     ]
    }
   ],
   "source": [
    "# Drop columns over x% null\n",
    "null_thresh = .8\n",
    "null_cols = null_ratios[null_ratios > null_thresh].index\n",
    "merged_df.drop(null_cols, axis=1, inplace=True)\n",
    "if null_cols.shape[0] > 0:\n",
    "    print('Columns dropped for being over %.2f null:'%(null_thresh))\n",
    "    for col in null_cols:\n",
    "        print(col)"
   ]
  },
  {
   "cell_type": "code",
   "execution_count": 57,
   "id": "sonic-seeking",
   "metadata": {
    "execution": {
     "iopub.execute_input": "2021-07-08T12:52:24.740014Z",
     "iopub.status.busy": "2021-07-08T12:52:24.739363Z",
     "iopub.status.idle": "2021-07-08T12:52:25.307105Z",
     "shell.execute_reply": "2021-07-08T12:52:25.307606Z",
     "shell.execute_reply.started": "2021-07-08T12:48:25.111502Z"
    },
    "papermill": {
     "duration": 0.637346,
     "end_time": "2021-07-08T12:52:25.307827",
     "exception": false,
     "start_time": "2021-07-08T12:52:24.670481",
     "status": "completed"
    },
    "tags": []
   },
   "outputs": [],
   "source": [
    "# Fill the rest with 0\n",
    "merged_df.fillna(0, inplace=True)\n"
   ]
  },
  {
   "cell_type": "code",
   "execution_count": 58,
   "id": "corresponding-invasion",
   "metadata": {
    "execution": {
     "iopub.execute_input": "2021-07-08T12:52:25.442281Z",
     "iopub.status.busy": "2021-07-08T12:52:25.441566Z",
     "iopub.status.idle": "2021-07-08T12:52:29.239532Z",
     "shell.execute_reply": "2021-07-08T12:52:29.238654Z",
     "shell.execute_reply.started": "2021-07-08T12:48:25.710301Z"
    },
    "papermill": {
     "duration": 3.869102,
     "end_time": "2021-07-08T12:52:29.239685",
     "exception": false,
     "start_time": "2021-07-08T12:52:25.370583",
     "status": "completed"
    },
    "tags": []
   },
   "outputs": [
    {
     "name": "stdout",
     "output_type": "stream",
     "text": [
      "Scaling 394 features...\n"
     ]
    }
   ],
   "source": [
    "# scale continuous features\n",
    "# first, convert large ingegers into floats.\n",
    "for feat in merged_df.columns:\n",
    "    if (merged_df[feat].max() > 100) | (merged_df[feat].min() < -100):\n",
    "        merged_df[feat]=merged_df[feat].astype(np.float64)\n",
    "scaler = StandardScaler()\n",
    "continuous_feats = merged_df.columns[merged_df.dtypes == 'float64']\n",
    "print('Scaling %d features...'%(continuous_feats.shape))\n",
    "s1 = merged_df.shape[0],1\n",
    "for feat in continuous_feats:\n",
    "    merged_df[feat] = scaler.fit_transform(merged_df[feat].values.reshape(s1))"
   ]
  },
  {
   "cell_type": "code",
   "execution_count": 59,
   "id": "alert-saturn",
   "metadata": {
    "execution": {
     "iopub.execute_input": "2021-07-08T12:52:29.624002Z",
     "iopub.status.busy": "2021-07-08T12:52:29.623095Z",
     "iopub.status.idle": "2021-07-08T12:52:29.628068Z",
     "shell.execute_reply": "2021-07-08T12:52:29.627456Z",
     "shell.execute_reply.started": "2021-07-08T12:48:29.400063Z"
    },
    "papermill": {
     "duration": 0.322847,
     "end_time": "2021-07-08T12:52:29.628225",
     "exception": false,
     "start_time": "2021-07-08T12:52:29.305378",
     "status": "completed"
    },
    "tags": []
   },
   "outputs": [
    {
     "data": {
      "text/plain": [
       "20"
      ]
     },
     "execution_count": 59,
     "metadata": {},
     "output_type": "execute_result"
    }
   ],
   "source": [
    "# Re-separate into train and test\n",
    "train_df = merged_df[:len_train]\n",
    "test_df = merged_df[len_train:]\n",
    "del merged_df\n",
    "gc.collect()\n",
    "\n"
   ]
  },
  {
   "cell_type": "code",
   "execution_count": 60,
   "id": "scheduled-chuck",
   "metadata": {
    "execution": {
     "iopub.execute_input": "2021-07-08T12:52:29.763273Z",
     "iopub.status.busy": "2021-07-08T12:52:29.762191Z",
     "iopub.status.idle": "2021-07-08T12:52:29.765650Z",
     "shell.execute_reply": "2021-07-08T12:52:29.765130Z",
     "shell.execute_reply.started": "2021-07-08T12:48:29.613812Z"
    },
    "papermill": {
     "duration": 0.073557,
     "end_time": "2021-07-08T12:52:29.765791",
     "exception": false,
     "start_time": "2021-07-08T12:52:29.692234",
     "status": "completed"
    },
    "tags": []
   },
   "outputs": [],
   "source": [
    "# define train parameters\n",
    "L2c = 4e-4                    # loss, with L2\n",
    "lr0 = 0.02                    # starting learning rate\n",
    "lr_decay = 0.90               # lr decay rate\n",
    "iterations = 10               # full passes over data\n",
    "ROWS = train_df.shape[0]      # rows in input data\n",
    "VARS = train_df.shape[1]      # vars used in the model\n",
    "NUMB = 10000                  # batch size\n",
    "NN = int(ROWS/NUMB)           # number of batches"
   ]
  },
  {
   "cell_type": "code",
   "execution_count": 61,
   "id": "greater-monster",
   "metadata": {
    "execution": {
     "iopub.execute_input": "2021-07-08T12:52:29.907420Z",
     "iopub.status.busy": "2021-07-08T12:52:29.906615Z",
     "iopub.status.idle": "2021-07-08T12:52:30.013555Z",
     "shell.execute_reply": "2021-07-08T12:52:30.012952Z",
     "shell.execute_reply.started": "2021-07-08T12:48:29.628915Z"
    },
    "papermill": {
     "duration": 0.183505,
     "end_time": "2021-07-08T12:52:30.013729",
     "exception": false,
     "start_time": "2021-07-08T12:52:29.830224",
     "status": "completed"
    },
    "tags": []
   },
   "outputs": [],
   "source": [
    "# define the model\n",
    "import tensorflow as tf\n",
    "import tensorflow.compat.v1 as tf\n",
    "tf.disable_v2_behavior()\n",
    "y_ = tf.placeholder(tf.float32, [None, 1])\n",
    "x  = tf.placeholder(tf.float32, [None, VARS])\n",
    "\n",
    "# model: logistic + 1 hidden layer\n",
    "W      = tf.Variable(tf.truncated_normal([VARS,1],mean=0.0,stddev=0.001),dtype=np.float32)\n",
    "NUML1  = 151\n",
    "W1     = tf.Variable(tf.truncated_normal([VARS,NUML1],mean=0.0,stddev=0.0001),dtype=np.float32)\n",
    "W1f    = tf.Variable(tf.truncated_normal([NUML1,1],mean=0.0,stddev=0.0001),dtype=np.float32)\n",
    "logit1 = tf.matmul( x, W ) + tf.matmul(tf.nn.relu(tf.matmul( x, W1 )), W1f)\n",
    "y      = tf.nn.sigmoid( logit1 )"
   ]
  },
  {
   "cell_type": "code",
   "execution_count": 62,
   "id": "dominican-ghost",
   "metadata": {
    "execution": {
     "iopub.execute_input": "2021-07-08T12:52:30.154420Z",
     "iopub.status.busy": "2021-07-08T12:52:30.152770Z",
     "iopub.status.idle": "2021-07-08T12:52:30.326389Z",
     "shell.execute_reply": "2021-07-08T12:52:30.325709Z",
     "shell.execute_reply.started": "2021-07-08T12:48:29.666990Z"
    },
    "papermill": {
     "duration": 0.247706,
     "end_time": "2021-07-08T12:52:30.326540",
     "exception": false,
     "start_time": "2021-07-08T12:52:30.078834",
     "status": "completed"
    },
    "tags": []
   },
   "outputs": [],
   "source": [
    "# loss/optimizer\n",
    "loss0 = tf.reduce_mean( (y_-y)*(y_-y) )\n",
    "loss1 = L2c * (tf.nn.l2_loss( W ) + tf.nn.l2_loss( W1 ) + tf.nn.l2_loss( W1f ))\n",
    "loss  = loss0 + loss1\n",
    "global_step = tf.Variable(0, trainable=False)\n",
    "learning_rate = tf.train.exponential_decay(lr0, global_step, NN, lr_decay)\n",
    "train_step = tf.train.AdamOptimizer(learning_rate=learning_rate).minimize(loss,global_step=global_step)\n",
    "sess = tf.InteractiveSession()\n",
    "tf.global_variables_initializer().run()"
   ]
  },
  {
   "cell_type": "code",
   "execution_count": 63,
   "id": "korean-detection",
   "metadata": {
    "execution": {
     "iopub.execute_input": "2021-07-08T12:52:30.469076Z",
     "iopub.status.busy": "2021-07-08T12:52:30.467625Z",
     "iopub.status.idle": "2021-07-08T12:53:02.587751Z",
     "shell.execute_reply": "2021-07-08T12:53:02.586529Z",
     "shell.execute_reply.started": "2021-07-08T12:48:30.075261Z"
    },
    "papermill": {
     "duration": 32.198065,
     "end_time": "2021-07-08T12:53:02.587946",
     "exception": false,
     "start_time": "2021-07-08T12:52:30.389881",
     "status": "completed"
    },
    "tags": []
   },
   "outputs": [
    {
     "name": "stdout",
     "output_type": "stream",
     "text": [
      "iteration 0, auc train/validatet 0.76466/0.76520\n"
     ]
    }
   ],
   "source": [
    "# main training loop\n",
    "y0=target.values.astype(np.float32)\n",
    "x0=train_df.values.astype(np.float32)\n",
    "del train_df\n",
    "gc.collect()\n",
    "y0_1=np.where(y0[0:int(NN*0.8)*NUMB] == 1)[0] # reserve last 20% for testing\n",
    "y0_0=np.where(y0[0:int(NN*0.8)*NUMB] == 0)[0] # reserve last 20% for testing\n",
    "for i in range(iterations):\n",
    "    for j in range(int(NN*0.8)): # reserve last 20% for testing\n",
    "        pos_ratio = 0.5\n",
    "        pos_idx = np.random.choice(y0_1, size=int(np.round(NUMB*pos_ratio)))\n",
    "        neg_idx = np.random.choice(y0_0, size=int(np.round(NUMB*(1-pos_ratio))))\n",
    "        idx = np.concatenate([pos_idx, neg_idx])\n",
    "        fd = {y_: y0[idx].reshape(NUMB,1),x:  x0[idx,:]}\n",
    "        _= sess.run( [train_step], feed_dict=fd )\n",
    "    if i%10 == 0:\n",
    "        # get area under the ROC curve\n",
    "        fd   = {y_: y0.reshape(y0.shape[0],1),x: x0}\n",
    "        y1   = sess.run( y, feed_dict=fd )\n",
    "        lim  = int(NN*0.8) * NUMB\n",
    "        auc1 = roc_auc_score(y0[0:lim],y1[0:lim,0])\n",
    "        auc2 = roc_auc_score(y0[lim:y0.shape[0]],y1[lim:y0.shape[0],0])\n",
    "        print('iteration %d, auc train/validatet %.5f/%.5f'%(i,auc1,auc2))\n"
   ]
  },
  {
   "cell_type": "code",
   "execution_count": 64,
   "id": "permanent-pipeline",
   "metadata": {
    "execution": {
     "iopub.execute_input": "2021-07-08T12:53:02.726726Z",
     "iopub.status.busy": "2021-07-08T12:53:02.726063Z",
     "iopub.status.idle": "2021-07-08T12:53:03.219351Z",
     "shell.execute_reply": "2021-07-08T12:53:03.219808Z",
     "shell.execute_reply.started": "2021-07-08T12:49:00.788473Z"
    },
    "papermill": {
     "duration": 0.5636,
     "end_time": "2021-07-08T12:53:03.220004",
     "exception": false,
     "start_time": "2021-07-08T12:53:02.656404",
     "status": "completed"
    },
    "tags": []
   },
   "outputs": [],
   "source": [
    "#Predict on test set and create submission\n",
    "x0     = test_df.values.astype(np.float32)\n",
    "fd     = {y_: np.zeros([x0.shape[0],1]),x: x0}\n",
    "y_pred = sess.run( y, feed_dict=fd )\n",
    "out_df = pd.DataFrame({'SK_ID_CURR': meta_df[len_train:], 'TARGET': y_pred[:,0]})\n",
    "out_df.to_csv('submission.csv', index=False)\n"
   ]
  }
 ],
 "metadata": {
  "kernelspec": {
   "display_name": "Python 3",
   "language": "python",
   "name": "python3"
  },
  "language_info": {
   "codemirror_mode": {
    "name": "ipython",
    "version": 3
   },
   "file_extension": ".py",
   "mimetype": "text/x-python",
   "name": "python",
   "nbconvert_exporter": "python",
   "pygments_lexer": "ipython3",
   "version": "3.7.10"
  },
  "papermill": {
   "default_parameters": {},
   "duration": 230.186338,
   "end_time": "2021-07-08T12:53:05.758316",
   "environment_variables": {},
   "exception": null,
   "input_path": "__notebook__.ipynb",
   "output_path": "__notebook__.ipynb",
   "parameters": {},
   "start_time": "2021-07-08T12:49:15.571978",
   "version": "2.3.3"
  }
 },
 "nbformat": 4,
 "nbformat_minor": 5
}
