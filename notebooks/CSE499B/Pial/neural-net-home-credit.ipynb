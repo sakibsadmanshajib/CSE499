{
 "cells": [
  {
   "cell_type": "code",
   "execution_count": null,
   "id": "false-healing",
   "metadata": {
    "_cell_guid": "3f0aaacd-8c17-438d-b262-eaa9b1a6407f",
    "_uuid": "16dc7fa2-6e21-43fe-9ff8-82af8d06ca2d",
    "collapsed": false,
    "jupyter": {
     "outputs_hidden": false
    },
    "papermill": {
     "duration": 0.016363,
     "end_time": "2021-08-22T11:59:26.381926",
     "exception": false,
     "start_time": "2021-08-22T11:59:26.365563",
     "status": "completed"
    },
    "tags": []
   },
   "outputs": [],
   "source": []
  },
  {
   "cell_type": "code",
   "execution_count": 1,
   "id": "excellent-hollywood",
   "metadata": {
    "_cell_guid": "9062e9d9-77f6-4334-9dc1-b38c7d4d6497",
    "_uuid": "59cf922c-ac70-48a7-b1ae-d2c8120954fa",
    "collapsed": false,
    "execution": {
     "iopub.execute_input": "2021-08-22T11:59:26.418499Z",
     "iopub.status.busy": "2021-08-22T11:59:26.416910Z",
     "iopub.status.idle": "2021-08-22T11:59:32.840776Z",
     "shell.execute_reply": "2021-08-22T11:59:32.839879Z",
     "shell.execute_reply.started": "2021-08-22T11:56:11.227633Z"
    },
    "jupyter": {
     "outputs_hidden": false
    },
    "papermill": {
     "duration": 6.443114,
     "end_time": "2021-08-22T11:59:32.840966",
     "exception": false,
     "start_time": "2021-08-22T11:59:26.397852",
     "status": "completed"
    },
    "tags": []
   },
   "outputs": [],
   "source": [
    "import time\n",
    "import os\n",
    "import gc\n",
    "import pandas as pd\n",
    "import numpy as np\n",
    "import tensorflow as tf\n",
    "from sklearn.preprocessing import LabelBinarizer\n",
    "from sklearn.preprocessing import StandardScaler\n",
    "from sklearn.metrics import roc_auc_score"
   ]
  },
  {
   "cell_type": "code",
   "execution_count": 2,
   "id": "recent-birth",
   "metadata": {
    "_cell_guid": "c1f2c200-4b92-43fb-92e5-f44195f3c973",
    "_uuid": "daec9e33-ef73-4706-a3c8-eebfc0ade534",
    "collapsed": false,
    "execution": {
     "iopub.execute_input": "2021-08-22T11:59:32.880144Z",
     "iopub.status.busy": "2021-08-22T11:59:32.879220Z",
     "iopub.status.idle": "2021-08-22T12:00:24.619818Z",
     "shell.execute_reply": "2021-08-22T12:00:24.620317Z",
     "shell.execute_reply.started": "2021-08-22T11:56:11.234761Z"
    },
    "jupyter": {
     "outputs_hidden": false
    },
    "papermill": {
     "duration": 51.764683,
     "end_time": "2021-08-22T12:00:24.620493",
     "exception": false,
     "start_time": "2021-08-22T11:59:32.855810",
     "status": "completed"
    },
    "tags": []
   },
   "outputs": [
    {
     "name": "stdout",
     "output_type": "stream",
     "text": [
      "Loading data...\n",
      "Time elapsed 52 sec\n",
      "Pre-processing data...\n"
     ]
    }
   ],
   "source": [
    "# Load data\n",
    "start_time = time.time()\n",
    "#input_dir = os.path.join(os.pardir, 'input/home-credit-default-risk')\n",
    "input_dir = os.path.join(os.pardir, 'input/home-credit-loan-better-data-processing')\n",
    "#../input/home-credit-loan-better-data-processing\n",
    "print('Loading data...')\n",
    "rows_read = None\n",
    "app_train_df = pd.read_csv(os.path.join(input_dir, 'train.csv'), nrows=rows_read)\n",
    "app_test_df = pd.read_csv(os.path.join(input_dir, 'test.csv'), nrows=rows_read)\n",
    "app_labels_df = pd.read_csv(os.path.join(input_dir, 'labels.csv'), nrows=rows_read)\n",
    "print('Time elapsed %.0f sec'%(time.time()-start_time))\n",
    "print('Pre-processing data...')"
   ]
  },
  {
   "cell_type": "code",
   "execution_count": 3,
   "id": "legitimate-satisfaction",
   "metadata": {
    "_cell_guid": "1d9830fb-05cc-411f-be18-4dd3b689200b",
    "_uuid": "072c0e04-200a-4fb2-9ca9-d13e9868b5ad",
    "collapsed": false,
    "execution": {
     "iopub.execute_input": "2021-08-22T12:00:24.654156Z",
     "iopub.status.busy": "2021-08-22T12:00:24.653493Z",
     "iopub.status.idle": "2021-08-22T12:00:26.243299Z",
     "shell.execute_reply": "2021-08-22T12:00:26.243804Z",
     "shell.execute_reply.started": "2021-08-22T11:56:44.774348Z"
    },
    "jupyter": {
     "outputs_hidden": false
    },
    "papermill": {
     "duration": 1.608285,
     "end_time": "2021-08-22T12:00:26.243980",
     "exception": false,
     "start_time": "2021-08-22T12:00:24.635695",
     "status": "completed"
    },
    "tags": []
   },
   "outputs": [
    {
     "data": {
      "text/plain": [
       "42"
      ]
     },
     "execution_count": 3,
     "metadata": {},
     "output_type": "execute_result"
    }
   ],
   "source": [
    "# Merge the datasets into a single one\n",
    "target = app_labels_df.pop('TARGET')\n",
    "len_train = len(app_labels_df)\n",
    "merged_df = pd.concat([app_train_df, app_test_df])\n",
    "meta_df = merged_df.pop('SK_ID_CURR')\n",
    "del app_test_df, app_train_df\n",
    "gc.collect()"
   ]
  },
  {
   "cell_type": "code",
   "execution_count": 4,
   "id": "continental-observer",
   "metadata": {
    "_cell_guid": "d5fcd2f5-ad67-45b7-9886-55ee22dd724e",
    "_uuid": "e0c362c4-d546-4ebe-94a5-84f96fa9229d",
    "collapsed": false,
    "execution": {
     "iopub.execute_input": "2021-08-22T12:00:26.286275Z",
     "iopub.status.busy": "2021-08-22T12:00:26.285568Z",
     "iopub.status.idle": "2021-08-22T12:00:26.290370Z",
     "shell.execute_reply": "2021-08-22T12:00:26.289865Z",
     "shell.execute_reply.started": "2021-08-22T11:56:46.221637Z"
    },
    "jupyter": {
     "outputs_hidden": false
    },
    "papermill": {
     "duration": 0.031031,
     "end_time": "2021-08-22T12:00:26.290531",
     "exception": false,
     "start_time": "2021-08-22T12:00:26.259500",
     "status": "completed"
    },
    "tags": []
   },
   "outputs": [
    {
     "name": "stdout",
     "output_type": "stream",
     "text": [
      "Using 657 prediction variables\n",
      "Encoding 0 non-numeric columns...\n",
      "Now using 657 prediction variables\n",
      "Time elapsed 53 sec\n"
     ]
    }
   ],
   "source": [
    "# Encode categoricals: 1-hot\n",
    "categorical_feats = merged_df.columns[merged_df.dtypes == 'object']\n",
    "print('Using %d prediction variables'%(merged_df.shape[1]))\n",
    "print('Encoding %d non-numeric columns...'%(merged_df.columns[merged_df.dtypes == 'object'].shape))\n",
    "for feat in categorical_feats:\n",
    "    merged_df[feat].fillna('MISSING', inplace=True) # populate missing labels\n",
    "    encoder = LabelBinarizer() # works with text\n",
    "    new_columns = encoder.fit_transform(merged_df[feat])\n",
    "    i=0\n",
    "    for u in merged_df[feat].unique():\n",
    "        if i<new_columns.shape[1]:\n",
    "            merged_df[feat+'_'+u]=new_columns[:,i]\n",
    "            i+=1\n",
    "    merged_df.drop(feat, axis=1, inplace=True)\n",
    "print('Now using %d prediction variables'%(merged_df.shape[1]))\n",
    "print('Time elapsed %.0f sec'%(time.time()-start_time))"
   ]
  },
  {
   "cell_type": "code",
   "execution_count": 5,
   "id": "acoustic-emerald",
   "metadata": {
    "_cell_guid": "9542e095-dcf6-4620-a9cf-8adec9151298",
    "_uuid": "f2c2ae34-7e9e-4fe0-b5c1-42b59ca49220",
    "collapsed": false,
    "execution": {
     "iopub.execute_input": "2021-08-22T12:00:26.327503Z",
     "iopub.status.busy": "2021-08-22T12:00:26.326858Z",
     "iopub.status.idle": "2021-08-22T12:00:26.798028Z",
     "shell.execute_reply": "2021-08-22T12:00:26.797323Z",
     "shell.execute_reply.started": "2021-08-22T11:56:46.235972Z"
    },
    "jupyter": {
     "outputs_hidden": false
    },
    "papermill": {
     "duration": 0.491636,
     "end_time": "2021-08-22T12:00:26.798187",
     "exception": false,
     "start_time": "2021-08-22T12:00:26.306551",
     "status": "completed"
    },
    "tags": []
   },
   "outputs": [],
   "source": [
    "# handle missing values\n",
    "null_counts = merged_df.isnull().sum()\n",
    "null_counts = null_counts[null_counts > 0]\n",
    "null_ratios = null_counts / len(merged_df)"
   ]
  },
  {
   "cell_type": "code",
   "execution_count": 6,
   "id": "hazardous-furniture",
   "metadata": {
    "_cell_guid": "c59c03a7-0033-4b6c-bc45-65114ed98478",
    "_uuid": "eee8b987-5902-40cd-8c4b-df2698bd2895",
    "collapsed": false,
    "execution": {
     "iopub.execute_input": "2021-08-22T12:00:26.839659Z",
     "iopub.status.busy": "2021-08-22T12:00:26.838065Z",
     "iopub.status.idle": "2021-08-22T12:00:28.673791Z",
     "shell.execute_reply": "2021-08-22T12:00:28.674271Z",
     "shell.execute_reply.started": "2021-08-22T11:56:46.692713Z"
    },
    "jupyter": {
     "outputs_hidden": false
    },
    "papermill": {
     "duration": 1.860299,
     "end_time": "2021-08-22T12:00:28.674468",
     "exception": false,
     "start_time": "2021-08-22T12:00:26.814169",
     "status": "completed"
    },
    "tags": []
   },
   "outputs": [
    {
     "name": "stdout",
     "output_type": "stream",
     "text": [
      "Columns dropped for being over 0.80 null:\n",
      "BUREAU_ACTIVE_CREDIT_TO_ANNUITY_RATIO_MEAN\n",
      "BUREAU_CONSUMER_DEBT_PERCENTAGE_MEAN\n",
      "BUREAU_MORTGAGE_DAYS_CREDIT_MEAN\n",
      "BUREAU_MORTGAGE_DAYS_CREDIT_MAX\n",
      "BUREAU_MORTGAGE_AMT_CREDIT_MAX_OVERDUE_MEAN\n",
      "BUREAU_MORTGAGE_AMT_CREDIT_MAX_OVERDUE_MAX\n",
      "BUREAU_MORTGAGE_AMT_CREDIT_SUM_MEAN\n",
      "BUREAU_MORTGAGE_AMT_CREDIT_SUM_MAX\n",
      "BUREAU_MORTGAGE_AMT_CREDIT_SUM_DEBT_MEAN\n",
      "BUREAU_MORTGAGE_AMT_CREDIT_SUM_DEBT_MAX\n",
      "BUREAU_MORTGAGE_DEBT_PERCENTAGE_MEAN\n",
      "BUREAU_MORTGAGE_DEBT_CREDIT_DIFF_MEAN\n",
      "BUREAU_MORTGAGE_DAYS_CREDIT_ENDDATE_MAX\n",
      "BUREAU_CAR_DAYS_CREDIT_MEAN\n",
      "BUREAU_CAR_DAYS_CREDIT_MAX\n",
      "BUREAU_CAR_AMT_CREDIT_MAX_OVERDUE_MEAN\n",
      "BUREAU_CAR_AMT_CREDIT_MAX_OVERDUE_MAX\n",
      "BUREAU_CAR_AMT_CREDIT_SUM_MEAN\n",
      "BUREAU_CAR_AMT_CREDIT_SUM_MAX\n",
      "BUREAU_CAR_AMT_CREDIT_SUM_DEBT_MEAN\n",
      "BUREAU_CAR_AMT_CREDIT_SUM_DEBT_MAX\n",
      "BUREAU_CAR_DEBT_PERCENTAGE_MEAN\n",
      "BUREAU_CAR_DEBT_CREDIT_DIFF_MEAN\n",
      "BUREAU_CAR_DAYS_CREDIT_ENDDATE_MAX\n",
      "BUREAU_MICROLOAN_DAYS_CREDIT_MEAN\n",
      "BUREAU_MICROLOAN_DAYS_CREDIT_MAX\n",
      "BUREAU_MICROLOAN_AMT_CREDIT_MAX_OVERDUE_MEAN\n",
      "BUREAU_MICROLOAN_AMT_CREDIT_MAX_OVERDUE_MAX\n",
      "BUREAU_MICROLOAN_AMT_CREDIT_SUM_MEAN\n",
      "BUREAU_MICROLOAN_AMT_CREDIT_SUM_MAX\n",
      "BUREAU_MICROLOAN_AMT_CREDIT_SUM_DEBT_MEAN\n",
      "BUREAU_MICROLOAN_AMT_CREDIT_SUM_DEBT_MAX\n",
      "BUREAU_MICROLOAN_DEBT_PERCENTAGE_MEAN\n",
      "BUREAU_MICROLOAN_DEBT_CREDIT_DIFF_MEAN\n",
      "BUREAU_MICROLOAN_DAYS_CREDIT_ENDDATE_MAX\n",
      "BUREAU_LAST6M_AMT_CREDIT_MAX_OVERDUE_MAX\n",
      "BUREAU_LAST6M_AMT_CREDIT_MAX_OVERDUE_MEAN\n",
      "BUREAU_LAST6M_DEBT_PERCENTAGE_MEAN\n",
      "BUREAU_LAST6M_STATUS_0_MEAN\n",
      "BUREAU_LAST6M_STATUS_12345_MEAN\n",
      "PREV_ACTIVE_AMT_DOWN_PAYMENT_MAX\n",
      "PREV_ACTIVE_AMT_DOWN_PAYMENT_MEAN\n",
      "REFUSED_APPLICATION_CREDIT_DIFF_VAR\n",
      "12_TREND_DPD\n",
      "12_TREND_PAID_OVER_AMOUNT\n",
      "24_TREND_DPD\n",
      "24_TREND_PAID_OVER_AMOUNT\n",
      "60_TREND_DPD\n",
      "60_TREND_PAID_OVER_AMOUNT\n",
      "120_TREND_DPD\n",
      "120_TREND_PAID_OVER_AMOUNT\n",
      "CC_PAYMENT_DIV_MIN_MIN\n",
      "CC_PAYMENT_DIV_MIN_MEAN\n"
     ]
    }
   ],
   "source": [
    "# Drop columns over x% null\n",
    "null_thresh = .8\n",
    "null_cols = null_ratios[null_ratios > null_thresh].index\n",
    "merged_df.drop(null_cols, axis=1, inplace=True)\n",
    "if null_cols.shape[0] > 0:\n",
    "    print('Columns dropped for being over %.2f null:'%(null_thresh))\n",
    "    for col in null_cols:\n",
    "        print(col)"
   ]
  },
  {
   "cell_type": "code",
   "execution_count": 7,
   "id": "closing-conditions",
   "metadata": {
    "_cell_guid": "91e58316-20eb-420b-ab5a-d091036f3a83",
    "_uuid": "ad2082cf-d1c1-41af-89d7-d1d60349069b",
    "collapsed": false,
    "execution": {
     "iopub.execute_input": "2021-08-22T12:00:28.713373Z",
     "iopub.status.busy": "2021-08-22T12:00:28.712113Z",
     "iopub.status.idle": "2021-08-22T12:00:29.499284Z",
     "shell.execute_reply": "2021-08-22T12:00:29.498735Z",
     "shell.execute_reply.started": "2021-08-22T11:56:48.602924Z"
    },
    "jupyter": {
     "outputs_hidden": false
    },
    "papermill": {
     "duration": 0.808558,
     "end_time": "2021-08-22T12:00:29.499435",
     "exception": false,
     "start_time": "2021-08-22T12:00:28.690877",
     "status": "completed"
    },
    "tags": []
   },
   "outputs": [],
   "source": [
    "# Fill the rest with 0\n",
    "merged_df.fillna(0, inplace=True)"
   ]
  },
  {
   "cell_type": "code",
   "execution_count": 8,
   "id": "hollow-legislation",
   "metadata": {
    "_cell_guid": "155a9f92-e3ac-49b2-93f5-3442352cfd06",
    "_uuid": "a015de67-8635-421b-a9ed-0c68e1229cf9",
    "collapsed": false,
    "execution": {
     "iopub.execute_input": "2021-08-22T12:00:29.540205Z",
     "iopub.status.busy": "2021-08-22T12:00:29.539193Z",
     "iopub.status.idle": "2021-08-22T12:00:34.625633Z",
     "shell.execute_reply": "2021-08-22T12:00:34.624913Z",
     "shell.execute_reply.started": "2021-08-22T11:56:49.365680Z"
    },
    "jupyter": {
     "outputs_hidden": false
    },
    "papermill": {
     "duration": 5.109789,
     "end_time": "2021-08-22T12:00:34.625783",
     "exception": false,
     "start_time": "2021-08-22T12:00:29.515994",
     "status": "completed"
    },
    "tags": []
   },
   "outputs": [
    {
     "name": "stdout",
     "output_type": "stream",
     "text": [
      "Scaling 581 features...\n"
     ]
    }
   ],
   "source": [
    "# scale continuous features\n",
    "# first, convert large ingegers into floats.\n",
    "for feat in merged_df.columns:\n",
    "    if (merged_df[feat].max() > 100) | (merged_df[feat].min() < -100):\n",
    "        merged_df[feat]=merged_df[feat].astype(np.float64)\n",
    "scaler = StandardScaler()\n",
    "continuous_feats = merged_df.columns[merged_df.dtypes == 'float64']\n",
    "print('Scaling %d features...'%(continuous_feats.shape))\n",
    "s1 = merged_df.shape[0],1\n",
    "for feat in continuous_feats:\n",
    "    merged_df[feat] = scaler.fit_transform(merged_df[feat].values.reshape(s1))"
   ]
  },
  {
   "cell_type": "code",
   "execution_count": 9,
   "id": "dutch-chicago",
   "metadata": {
    "_cell_guid": "727ffdce-922b-4bc3-af4e-bf7be0e57244",
    "_uuid": "a6e952c3-7b26-4e07-b4ab-c92d2cf687db",
    "collapsed": false,
    "execution": {
     "iopub.execute_input": "2021-08-22T12:00:34.838927Z",
     "iopub.status.busy": "2021-08-22T12:00:34.838175Z",
     "iopub.status.idle": "2021-08-22T12:00:34.842323Z",
     "shell.execute_reply": "2021-08-22T12:00:34.841789Z",
     "shell.execute_reply.started": "2021-08-22T11:56:54.149286Z"
    },
    "jupyter": {
     "outputs_hidden": false
    },
    "papermill": {
     "duration": 0.199831,
     "end_time": "2021-08-22T12:00:34.842532",
     "exception": false,
     "start_time": "2021-08-22T12:00:34.642701",
     "status": "completed"
    },
    "tags": []
   },
   "outputs": [
    {
     "name": "stdout",
     "output_type": "stream",
     "text": [
      "Time elapsed 62 sec\n",
      "Starting training...\n"
     ]
    }
   ],
   "source": [
    "# Re-separate into train and test\n",
    "train_df = merged_df[:len_train]\n",
    "test_df = merged_df[len_train:]\n",
    "del merged_df\n",
    "gc.collect()\n",
    "\n",
    "print('Time elapsed %.0f sec'%(time.time()-start_time))\n",
    "print('Starting training...')"
   ]
  },
  {
   "cell_type": "code",
   "execution_count": 10,
   "id": "korean-interference",
   "metadata": {
    "_cell_guid": "9faaac43-065b-4fdf-85ac-d2ecaffdb012",
    "_uuid": "13b5854f-4e7a-40af-b513-4e104ffde2a1",
    "collapsed": false,
    "execution": {
     "iopub.execute_input": "2021-08-22T12:00:34.883456Z",
     "iopub.status.busy": "2021-08-22T12:00:34.882809Z",
     "iopub.status.idle": "2021-08-22T12:00:34.886065Z",
     "shell.execute_reply": "2021-08-22T12:00:34.885470Z",
     "shell.execute_reply.started": "2021-08-22T11:56:54.322773Z"
    },
    "jupyter": {
     "outputs_hidden": false
    },
    "papermill": {
     "duration": 0.025766,
     "end_time": "2021-08-22T12:00:34.886207",
     "exception": false,
     "start_time": "2021-08-22T12:00:34.860441",
     "status": "completed"
    },
    "tags": []
   },
   "outputs": [],
   "source": [
    "# define train parameters\n",
    "L2c = 4e-4                    # loss, with L2\n",
    "lr0 = 0.02                    # starting learning rate\n",
    "lr_decay = 0.90               # lr decay rate\n",
    "iterations = 41               # full passes over data\n",
    "ROWS = train_df.shape[0]      # rows in input data\n",
    "VARS = train_df.shape[1]      # vars used in the model\n",
    "NUMB = 10000                  # batch size\n",
    "NN = int(ROWS/NUMB)           # number of batches"
   ]
  },
  {
   "cell_type": "code",
   "execution_count": 11,
   "id": "mobile-mattress",
   "metadata": {
    "_cell_guid": "d237fe03-f88c-4abe-9cae-1da7bf787eb8",
    "_uuid": "34aba53d-5195-4ac3-9ef9-116731469be2",
    "collapsed": false,
    "execution": {
     "iopub.execute_input": "2021-08-22T12:00:34.923719Z",
     "iopub.status.busy": "2021-08-22T12:00:34.923059Z",
     "iopub.status.idle": "2021-08-22T12:00:35.025621Z",
     "shell.execute_reply": "2021-08-22T12:00:35.025014Z",
     "shell.execute_reply.started": "2021-08-22T11:56:54.340598Z"
    },
    "jupyter": {
     "outputs_hidden": false
    },
    "papermill": {
     "duration": 0.122211,
     "end_time": "2021-08-22T12:00:35.025779",
     "exception": false,
     "start_time": "2021-08-22T12:00:34.903568",
     "status": "completed"
    },
    "tags": []
   },
   "outputs": [],
   "source": [
    "# define the model\n",
    "import tensorflow as tf\n",
    "import tensorflow.compat.v1 as tf\n",
    "tf.disable_v2_behavior()\n",
    "y_ = tf.placeholder(tf.float32, [None, 1])\n",
    "x  = tf.placeholder(tf.float32, [None, VARS])\n",
    "\n",
    "# model: logistic + 1 hidden layer\n",
    "W      = tf.Variable(tf.truncated_normal([VARS,1],mean=0.0,stddev=0.001),dtype=np.float32)\n",
    "NUML1  = 64\n",
    "W1     = tf.Variable(tf.truncated_normal([VARS,NUML1],mean=0.0,stddev=0.0001),dtype=np.float32)\n",
    "W1f    = tf.Variable(tf.truncated_normal([NUML1,1],mean=0.0,stddev=0.0001),dtype=np.float32)\n",
    "logit1 = tf.matmul( x, W ) + tf.matmul(tf.nn.relu(tf.matmul( x, W1 )), W1f)\n",
    "y      = tf.nn.sigmoid( logit1 )"
   ]
  },
  {
   "cell_type": "code",
   "execution_count": 12,
   "id": "color-pollution",
   "metadata": {
    "_cell_guid": "bb5fe6fc-111a-4061-b61c-62cbc38808b9",
    "_uuid": "a915ef79-bc72-4b5c-ab31-01cd15246334",
    "collapsed": false,
    "execution": {
     "iopub.execute_input": "2021-08-22T12:00:35.068438Z",
     "iopub.status.busy": "2021-08-22T12:00:35.067727Z",
     "iopub.status.idle": "2021-08-22T12:00:35.238749Z",
     "shell.execute_reply": "2021-08-22T12:00:35.239278Z",
     "shell.execute_reply.started": "2021-08-22T11:56:54.373613Z"
    },
    "jupyter": {
     "outputs_hidden": false
    },
    "papermill": {
     "duration": 0.196442,
     "end_time": "2021-08-22T12:00:35.239465",
     "exception": false,
     "start_time": "2021-08-22T12:00:35.043023",
     "status": "completed"
    },
    "tags": []
   },
   "outputs": [],
   "source": [
    "# loss/optimizer\n",
    "loss0 = tf.reduce_mean( (y_-y)*(y_-y) )\n",
    "loss1 = L2c * (tf.nn.l2_loss( W ) + tf.nn.l2_loss( W1 ) + tf.nn.l2_loss( W1f ))\n",
    "loss  = loss0 + loss1\n",
    "global_step = tf.Variable(0, trainable=False)\n",
    "learning_rate = tf.train.exponential_decay(lr0, global_step, NN, lr_decay)\n",
    "train_step = tf.train.AdamOptimizer(learning_rate=learning_rate).minimize(loss,global_step=global_step)\n",
    "sess = tf.InteractiveSession()\n",
    "tf.global_variables_initializer().run()"
   ]
  },
  {
   "cell_type": "code",
   "execution_count": 13,
   "id": "jewish-family",
   "metadata": {
    "_cell_guid": "1d3c168f-e9d1-4a48-b1ea-23d0aaa1b4c6",
    "_uuid": "07fbffd1-24f0-4fe2-9d22-ec60a5c47bf7",
    "collapsed": false,
    "execution": {
     "iopub.execute_input": "2021-08-22T12:00:35.277251Z",
     "iopub.status.busy": "2021-08-22T12:00:35.276485Z",
     "iopub.status.idle": "2021-08-22T12:02:28.578080Z",
     "shell.execute_reply": "2021-08-22T12:02:28.579033Z",
     "shell.execute_reply.started": "2021-08-22T11:56:54.507958Z"
    },
    "jupyter": {
     "outputs_hidden": false
    },
    "papermill": {
     "duration": 113.322616,
     "end_time": "2021-08-22T12:02:28.579400",
     "exception": false,
     "start_time": "2021-08-22T12:00:35.256784",
     "status": "completed"
    },
    "tags": []
   },
   "outputs": [
    {
     "name": "stdout",
     "output_type": "stream",
     "text": [
      "iteration 0, auc train/validatet 0.77831\n",
      "iteration 10, auc train/validatet 0.80930\n",
      "iteration 20, auc train/validatet 0.83582\n",
      "iteration 30, auc train/validatet 0.85215\n",
      "iteration 40, auc train/validatet 0.86149\n"
     ]
    }
   ],
   "source": [
    "# main training loop\n",
    "y0=target.values.astype(np.float32)\n",
    "x0=train_df.values.astype(np.float32)\n",
    "del train_df\n",
    "gc.collect()\n",
    "y0_1=np.where(y0[0:int(NN*0.8)*NUMB] == 1)[0] # reserve last 20% for testing\n",
    "y0_0=np.where(y0[0:int(NN*0.8)*NUMB] == 0)[0] # reserve last 20% for testing\n",
    "for i in range(iterations):\n",
    "    for j in range(int(NN*0.8)): # reserve last 20% for testing\n",
    "        pos_ratio = 0.5\n",
    "        pos_idx = np.random.choice(y0_1, size=int(np.round(NUMB*pos_ratio)))\n",
    "        neg_idx = np.random.choice(y0_0, size=int(np.round(NUMB*(1-pos_ratio))))\n",
    "        idx = np.concatenate([pos_idx, neg_idx])\n",
    "        fd = {y_: y0[idx].reshape(NUMB,1),x:  x0[idx,:]}\n",
    "        _= sess.run( [train_step], feed_dict=fd )\n",
    "    if i%10 == 0:\n",
    "        # get area under the ROC curve\n",
    "        fd   = {y_: y0.reshape(y0.shape[0],1),x: x0}\n",
    "        y1   = sess.run( y, feed_dict=fd )\n",
    "        lim  = int(NN*0.8) * NUMB\n",
    "        auc1 = roc_auc_score(y0[0:lim],y1[0:lim,0])\n",
    "        #auc2 = roc_auc_score(y0[lim:y0.shape[0]],y1[lim:y0.shape[0],0])\n",
    "        print('iteration %d, auc train/validatet %.5f'%(i,auc1))"
   ]
  },
  {
   "cell_type": "code",
   "execution_count": 14,
   "id": "found-earth",
   "metadata": {
    "_cell_guid": "c2506347-d121-4d21-88b3-da78261658e7",
    "_uuid": "11e69e7f-aa41-4b38-840d-46dbb59b132d",
    "collapsed": false,
    "execution": {
     "iopub.execute_input": "2021-08-22T12:02:28.627177Z",
     "iopub.status.busy": "2021-08-22T12:02:28.626468Z",
     "iopub.status.idle": "2021-08-22T12:02:29.234114Z",
     "shell.execute_reply": "2021-08-22T12:02:29.233550Z",
     "shell.execute_reply.started": "2021-08-22T11:59:03.518177Z"
    },
    "jupyter": {
     "outputs_hidden": false
    },
    "papermill": {
     "duration": 0.635155,
     "end_time": "2021-08-22T12:02:29.234257",
     "exception": false,
     "start_time": "2021-08-22T12:02:28.599102",
     "status": "completed"
    },
    "tags": []
   },
   "outputs": [
    {
     "name": "stdout",
     "output_type": "stream",
     "text": [
      "Time elapsed 176 sec\n"
     ]
    }
   ],
   "source": [
    "#Predict on test set and create submission\n",
    "x0     = test_df.values.astype(np.float32)\n",
    "fd     = {y_: np.zeros([x0.shape[0],1]),x: x0}\n",
    "y_pred = sess.run( y, feed_dict=fd )\n",
    "out_df = pd.DataFrame({'SK_ID_CURR': meta_df[len_train:], 'TARGET': y_pred[:,0]})\n",
    "out_df.to_csv('submission.csv', index=False)\n",
    "print('Time elapsed %.0f sec'%(time.time()-start_time))"
   ]
  }
 ],
 "metadata": {
  "kernelspec": {
   "display_name": "Python 3",
   "language": "python",
   "name": "python3"
  },
  "language_info": {
   "codemirror_mode": {
    "name": "ipython",
    "version": 3
   },
   "file_extension": ".py",
   "mimetype": "text/x-python",
   "name": "python",
   "nbconvert_exporter": "python",
   "pygments_lexer": "ipython3",
   "version": "3.7.10"
  },
  "papermill": {
   "default_parameters": {},
   "duration": 192.938843,
   "end_time": "2021-08-22T12:02:31.004089",
   "environment_variables": {},
   "exception": null,
   "input_path": "__notebook__.ipynb",
   "output_path": "__notebook__.ipynb",
   "parameters": {},
   "start_time": "2021-08-22T11:59:18.065246",
   "version": "2.3.3"
  }
 },
 "nbformat": 4,
 "nbformat_minor": 5
}
