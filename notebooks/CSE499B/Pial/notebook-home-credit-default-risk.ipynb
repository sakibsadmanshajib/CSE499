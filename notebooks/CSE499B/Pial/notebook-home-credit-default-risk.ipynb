{
 "cells": [
  {
   "cell_type": "code",
   "execution_count": 1,
   "id": "b060ae62",
   "metadata": {
    "_cell_guid": "83254acd-b78b-481b-a381-101fba1caeb8",
    "_uuid": "65498b5b-f795-48ab-a671-c7885499fb59",
    "collapsed": false,
    "execution": {
     "iopub.execute_input": "2021-07-24T18:42:51.004708Z",
     "iopub.status.busy": "2021-07-24T18:42:51.003131Z",
     "iopub.status.idle": "2021-07-24T18:42:59.566353Z",
     "shell.execute_reply": "2021-07-24T18:42:59.565683Z",
     "shell.execute_reply.started": "2021-07-24T18:03:59.022040Z"
    },
    "jupyter": {
     "outputs_hidden": false
    },
    "papermill": {
     "duration": 8.657302,
     "end_time": "2021-07-24T18:42:59.566575",
     "exception": false,
     "start_time": "2021-07-24T18:42:50.909273",
     "status": "completed"
    },
    "tags": []
   },
   "outputs": [
    {
     "name": "stdout",
     "output_type": "stream",
     "text": [
      "/kaggle/input/home-credit-default-risk/sample_submission.csv\n",
      "/kaggle/input/home-credit-default-risk/bureau_balance.csv\n",
      "/kaggle/input/home-credit-default-risk/POS_CASH_balance.csv\n",
      "/kaggle/input/home-credit-default-risk/application_train.csv\n",
      "/kaggle/input/home-credit-default-risk/HomeCredit_columns_description.csv\n",
      "/kaggle/input/home-credit-default-risk/application_test.csv\n",
      "/kaggle/input/home-credit-default-risk/previous_application.csv\n",
      "/kaggle/input/home-credit-default-risk/credit_card_balance.csv\n",
      "/kaggle/input/home-credit-default-risk/installments_payments.csv\n",
      "/kaggle/input/home-credit-default-risk/bureau.csv\n"
     ]
    }
   ],
   "source": [
    "\n",
    "import numpy as np # linear algebra\n",
    "import pandas as pd \n",
    "from scipy.stats import kurtosis\n",
    "import matplotlib.pyplot as plt\n",
    "import gc\n",
    "from sklearn.preprocessing import LabelEncoder, MinMaxScaler\n",
    "from sklearn.model_selection import StratifiedKFold\n",
    "from sklearn.metrics import roc_auc_score, precision_recall_curve, roc_curve, average_precision_score\n",
    "from sklearn.impute import SimpleImputer\n",
    "from sklearn.linear_model import LogisticRegression\n",
    "from keras.models import Sequential, Model\n",
    "from keras.layers import Dense, Activation, merge, Reshape, Dropout, Input, Flatten, Concatenate\n",
    "from keras.layers.embeddings import Embedding\n",
    "from keras.callbacks import EarlyStopping\n",
    "import seaborn as sns\n",
    "import warnings\n",
    "from sklearn.model_selection import train_test_split, cross_val_score, StratifiedKFold\n",
    "import xgboost as xgb\n",
    "from xgboost import XGBClassifier\n",
    "warnings.simplefilter(action='ignore', category=FutureWarning)\n",
    "\n",
    "\n",
    "\n",
    "import os\n",
    "DATA_DIRECTORY = \"../input/home-credit-default-risk\"\n",
    "\n",
    "\n",
    "\n",
    "import os\n",
    "for dirname, _, filenames in os.walk('/kaggle/input'):\n",
    "    for filename in filenames:\n",
    "        print(os.path.join(dirname, filename))"
   ]
  },
  {
   "cell_type": "code",
   "execution_count": 2,
   "id": "4b823c8d",
   "metadata": {
    "_cell_guid": "7daf694e-5f19-4a30-aafc-9287bdb0e49a",
    "_uuid": "17c55043-a206-4683-945d-13adb37b7925",
    "collapsed": false,
    "execution": {
     "iopub.execute_input": "2021-07-24T18:42:59.723599Z",
     "iopub.status.busy": "2021-07-24T18:42:59.722757Z",
     "iopub.status.idle": "2021-07-24T18:43:08.160232Z",
     "shell.execute_reply": "2021-07-24T18:43:08.159536Z",
     "shell.execute_reply.started": "2021-07-24T18:04:05.496330Z"
    },
    "jupyter": {
     "outputs_hidden": false
    },
    "papermill": {
     "duration": 8.518397,
     "end_time": "2021-07-24T18:43:08.160379",
     "exception": false,
     "start_time": "2021-07-24T18:42:59.641982",
     "status": "completed"
    },
    "tags": []
   },
   "outputs": [
    {
     "data": {
      "text/plain": [
       "22"
      ]
     },
     "execution_count": 2,
     "metadata": {},
     "output_type": "execute_result"
    }
   ],
   "source": [
    "df_train = pd.read_csv(os.path.join(DATA_DIRECTORY, 'application_train.csv'))\n",
    "df_test = pd.read_csv(os.path.join(DATA_DIRECTORY, 'application_test.csv'))\n",
    "df = df_train.append(df_test)\n",
    "del df_train, df_test; gc.collect()"
   ]
  },
  {
   "cell_type": "code",
   "execution_count": 3,
   "id": "35d83a00",
   "metadata": {
    "_cell_guid": "5587be58-4e53-483b-a91d-b52c09409e9a",
    "_uuid": "a6647e8b-0a34-413a-a005-51ec4f836ed7",
    "collapsed": false,
    "execution": {
     "iopub.execute_input": "2021-07-24T18:43:08.320329Z",
     "iopub.status.busy": "2021-07-24T18:43:08.319189Z",
     "iopub.status.idle": "2021-07-24T18:43:09.470267Z",
     "shell.execute_reply": "2021-07-24T18:43:09.469504Z",
     "shell.execute_reply.started": "2021-07-24T18:04:11.771966Z"
    },
    "jupyter": {
     "outputs_hidden": false
    },
    "papermill": {
     "duration": 1.234928,
     "end_time": "2021-07-24T18:43:09.470437",
     "exception": false,
     "start_time": "2021-07-24T18:43:08.235509",
     "status": "completed"
    },
    "tags": []
   },
   "outputs": [],
   "source": [
    "df = df[df['AMT_INCOME_TOTAL'] < 20000000]\n",
    "df = df[df['CODE_GENDER'] != 'XNA']\n",
    "df['DAYS_EMPLOYED'].replace(365243, np.nan, inplace=True)\n",
    "df['DAYS_LAST_PHONE_CHANGE'].replace(0, np.nan, inplace=True)"
   ]
  },
  {
   "cell_type": "code",
   "execution_count": 4,
   "id": "fd0e5a83",
   "metadata": {
    "_cell_guid": "0aa3eafb-cf26-406a-96e3-420ebca8a8fb",
    "_uuid": "224d81fe-5c21-4713-a1c0-bdc5c76d30ab",
    "collapsed": false,
    "execution": {
     "iopub.execute_input": "2021-07-24T18:43:09.631157Z",
     "iopub.status.busy": "2021-07-24T18:43:09.630115Z",
     "iopub.status.idle": "2021-07-24T18:43:09.633736Z",
     "shell.execute_reply": "2021-07-24T18:43:09.633106Z",
     "shell.execute_reply.started": "2021-07-24T18:04:12.611635Z"
    },
    "jupyter": {
     "outputs_hidden": false
    },
    "papermill": {
     "duration": 0.08678,
     "end_time": "2021-07-24T18:43:09.633899",
     "exception": false,
     "start_time": "2021-07-24T18:43:09.547119",
     "status": "completed"
    },
    "tags": []
   },
   "outputs": [],
   "source": [
    "def get_age_group(days_birth):\n",
    "    age_years = -days_birth / 365\n",
    "    if age_years < 27: return 1\n",
    "    elif age_years < 40: return 2\n",
    "    elif age_years < 50: return 3\n",
    "    elif age_years < 65: return 4\n",
    "    elif age_years < 99: return 5\n",
    "    else: return 0"
   ]
  },
  {
   "cell_type": "code",
   "execution_count": 5,
   "id": "27b225ec",
   "metadata": {
    "_cell_guid": "22933ce3-569e-4263-a40c-7dad7351874f",
    "_uuid": "bbd36e98-fbe3-4ae8-80c2-e183b2bd8ba6",
    "collapsed": false,
    "execution": {
     "iopub.execute_input": "2021-07-24T18:43:09.794045Z",
     "iopub.status.busy": "2021-07-24T18:43:09.792571Z",
     "iopub.status.idle": "2021-07-24T18:43:10.504066Z",
     "shell.execute_reply": "2021-07-24T18:43:10.503390Z",
     "shell.execute_reply.started": "2021-07-24T18:04:12.618853Z"
    },
    "jupyter": {
     "outputs_hidden": false
    },
    "papermill": {
     "duration": 0.794281,
     "end_time": "2021-07-24T18:43:10.504232",
     "exception": false,
     "start_time": "2021-07-24T18:43:09.709951",
     "status": "completed"
    },
    "tags": []
   },
   "outputs": [],
   "source": [
    "docs = [f for f in df.columns if 'FLAG_DOC' in f]\n",
    "df['DOCUMENT_COUNT'] = df[docs].sum(axis=1)\n",
    "df['NEW_DOC_KURT'] = df[docs].kurtosis(axis=1)\n",
    "df['AGE_RANGE'] = df['DAYS_BIRTH'].apply(lambda x: get_age_group(x))"
   ]
  },
  {
   "cell_type": "code",
   "execution_count": 6,
   "id": "02bd2ef0",
   "metadata": {
    "_cell_guid": "d3bdc7ac-f40e-4183-b732-053aa917d19e",
    "_uuid": "48adffa9-68a9-4c45-9253-ecf495d9352a",
    "collapsed": false,
    "execution": {
     "iopub.execute_input": "2021-07-24T18:43:10.676803Z",
     "iopub.status.busy": "2021-07-24T18:43:10.675783Z",
     "iopub.status.idle": "2021-07-24T18:43:11.810385Z",
     "shell.execute_reply": "2021-07-24T18:43:11.809744Z",
     "shell.execute_reply.started": "2021-07-24T18:04:13.193531Z"
    },
    "jupyter": {
     "outputs_hidden": false
    },
    "papermill": {
     "duration": 1.224707,
     "end_time": "2021-07-24T18:43:11.810572",
     "exception": false,
     "start_time": "2021-07-24T18:43:10.585865",
     "status": "completed"
    },
    "tags": []
   },
   "outputs": [],
   "source": [
    "df['EXT_SOURCES_PROD'] = df['EXT_SOURCE_1'] * df['EXT_SOURCE_2'] * df['EXT_SOURCE_3']\n",
    "df['EXT_SOURCES_WEIGHTED'] = df.EXT_SOURCE_1 * 2 + df.EXT_SOURCE_2 * 1 + df.EXT_SOURCE_3 * 3\n",
    "np.warnings.filterwarnings('ignore', r'All-NaN (slice|axis) encountered')\n",
    "for function_name in ['min', 'max', 'mean', 'nanmedian', 'var']:\n",
    "    feature_name = 'EXT_SOURCES_{}'.format(function_name.upper())\n",
    "    df[feature_name] = eval('np.{}'.format(function_name))(\n",
    "        df[['EXT_SOURCE_1', 'EXT_SOURCE_2', 'EXT_SOURCE_3']], axis=1)"
   ]
  },
  {
   "cell_type": "code",
   "execution_count": 7,
   "id": "68e03d6e",
   "metadata": {
    "_cell_guid": "7addbf11-a0c6-4e8d-87db-437cf1f30ac8",
    "_uuid": "844731e9-0704-4989-b7ed-6d434c13e284",
    "collapsed": false,
    "execution": {
     "iopub.execute_input": "2021-07-24T18:43:11.984215Z",
     "iopub.status.busy": "2021-07-24T18:43:11.983108Z",
     "iopub.status.idle": "2021-07-24T18:43:12.019064Z",
     "shell.execute_reply": "2021-07-24T18:43:12.018436Z",
     "shell.execute_reply.started": "2021-07-24T18:04:14.124968Z"
    },
    "jupyter": {
     "outputs_hidden": false
    },
    "papermill": {
     "duration": 0.127197,
     "end_time": "2021-07-24T18:43:12.019253",
     "exception": false,
     "start_time": "2021-07-24T18:43:11.892056",
     "status": "completed"
    },
    "tags": []
   },
   "outputs": [],
   "source": [
    "df['CREDIT_TO_ANNUITY_RATIO'] = df['AMT_CREDIT'] / df['AMT_ANNUITY']\n",
    "df['CREDIT_TO_GOODS_RATIO'] = df['AMT_CREDIT'] / df['AMT_GOODS_PRICE']\n",
    "df['ANNUITY_TO_INCOME_RATIO'] = df['AMT_ANNUITY'] / df['AMT_INCOME_TOTAL']\n",
    "df['CREDIT_TO_INCOME_RATIO'] = df['AMT_CREDIT'] / df['AMT_INCOME_TOTAL']\n",
    "df['INCOME_TO_EMPLOYED_RATIO'] = df['AMT_INCOME_TOTAL'] / df['DAYS_EMPLOYED']\n",
    "df['INCOME_TO_BIRTH_RATIO'] = df['AMT_INCOME_TOTAL'] / df['DAYS_BIRTH']    \n",
    "df['EMPLOYED_TO_BIRTH_RATIO'] = df['DAYS_EMPLOYED'] / df['DAYS_BIRTH']\n",
    "df['ID_TO_BIRTH_RATIO'] = df['DAYS_ID_PUBLISH'] / df['DAYS_BIRTH']\n",
    "df['CAR_TO_BIRTH_RATIO'] = df['OWN_CAR_AGE'] / df['DAYS_BIRTH']\n",
    "df['CAR_TO_EMPLOYED_RATIO'] = df['OWN_CAR_AGE'] / df['DAYS_EMPLOYED']\n",
    "df['PHONE_TO_BIRTH_RATIO'] = df['DAYS_LAST_PHONE_CHANGE'] / df['DAYS_BIRTH']"
   ]
  },
  {
   "cell_type": "code",
   "execution_count": 8,
   "id": "08f41dee",
   "metadata": {
    "_cell_guid": "c68f1d5f-67b8-45ce-a3c9-0012d08c058b",
    "_uuid": "5bf42efc-927d-415e-8d27-21ca81284f77",
    "collapsed": false,
    "execution": {
     "iopub.execute_input": "2021-07-24T18:43:12.181025Z",
     "iopub.status.busy": "2021-07-24T18:43:12.179943Z",
     "iopub.status.idle": "2021-07-24T18:43:12.183966Z",
     "shell.execute_reply": "2021-07-24T18:43:12.183308Z",
     "shell.execute_reply.started": "2021-07-24T18:04:14.158666Z"
    },
    "jupyter": {
     "outputs_hidden": false
    },
    "papermill": {
     "duration": 0.085989,
     "end_time": "2021-07-24T18:43:12.184144",
     "exception": false,
     "start_time": "2021-07-24T18:43:12.098155",
     "status": "completed"
    },
    "tags": []
   },
   "outputs": [],
   "source": [
    "def do_mean(df, group_cols, counted, agg_name):\n",
    "    gp = df[group_cols + [counted]].groupby(group_cols)[counted].mean().reset_index().rename(\n",
    "        columns={counted: agg_name})\n",
    "    df = df.merge(gp, on=group_cols, how='left')\n",
    "    del gp\n",
    "    gc.collect()\n",
    "    return df"
   ]
  },
  {
   "cell_type": "code",
   "execution_count": 9,
   "id": "00182beb",
   "metadata": {
    "_cell_guid": "59279b10-e391-485d-80f3-ab585643bfb1",
    "_uuid": "16c20d0c-4090-4fe6-b797-9095698b0569",
    "collapsed": false,
    "execution": {
     "iopub.execute_input": "2021-07-24T18:43:12.399392Z",
     "iopub.status.busy": "2021-07-24T18:43:12.398109Z",
     "iopub.status.idle": "2021-07-24T18:43:12.403020Z",
     "shell.execute_reply": "2021-07-24T18:43:12.402237Z",
     "shell.execute_reply.started": "2021-07-24T18:04:14.165689Z"
    },
    "jupyter": {
     "outputs_hidden": false
    },
    "papermill": {
     "duration": 0.119231,
     "end_time": "2021-07-24T18:43:12.403191",
     "exception": false,
     "start_time": "2021-07-24T18:43:12.283960",
     "status": "completed"
    },
    "tags": []
   },
   "outputs": [],
   "source": [
    "def do_median(df, group_cols, counted, agg_name):\n",
    "    gp = df[group_cols + [counted]].groupby(group_cols)[counted].median().reset_index().rename(\n",
    "        columns={counted: agg_name})\n",
    "    df = df.merge(gp, on=group_cols, how='left')\n",
    "    del gp\n",
    "    gc.collect()\n",
    "    return df"
   ]
  },
  {
   "cell_type": "code",
   "execution_count": 10,
   "id": "5f228bd6",
   "metadata": {
    "_cell_guid": "6d756f00-a8d3-41b2-92bf-01ebc4a2e37c",
    "_uuid": "7da91c6d-e031-4fd5-9f3c-acf8dda26eda",
    "collapsed": false,
    "execution": {
     "iopub.execute_input": "2021-07-24T18:43:12.574701Z",
     "iopub.status.busy": "2021-07-24T18:43:12.573609Z",
     "iopub.status.idle": "2021-07-24T18:43:12.577784Z",
     "shell.execute_reply": "2021-07-24T18:43:12.577049Z",
     "shell.execute_reply.started": "2021-07-24T18:04:14.176642Z"
    },
    "jupyter": {
     "outputs_hidden": false
    },
    "papermill": {
     "duration": 0.095278,
     "end_time": "2021-07-24T18:43:12.577952",
     "exception": false,
     "start_time": "2021-07-24T18:43:12.482674",
     "status": "completed"
    },
    "tags": []
   },
   "outputs": [],
   "source": [
    "def do_std(df, group_cols, counted, agg_name):\n",
    "    gp = df[group_cols + [counted]].groupby(group_cols)[counted].std().reset_index().rename(\n",
    "        columns={counted: agg_name})\n",
    "    df = df.merge(gp, on=group_cols, how='left')\n",
    "    del gp\n",
    "    gc.collect()\n",
    "    return df"
   ]
  },
  {
   "cell_type": "code",
   "execution_count": 11,
   "id": "e1484c6f",
   "metadata": {
    "_cell_guid": "1c25be7a-b01b-4a12-b22a-5ecfccc0305f",
    "_uuid": "70b40d4f-abab-4126-a694-36f8ab43440f",
    "collapsed": false,
    "execution": {
     "iopub.execute_input": "2021-07-24T18:43:12.742670Z",
     "iopub.status.busy": "2021-07-24T18:43:12.741534Z",
     "iopub.status.idle": "2021-07-24T18:43:12.745939Z",
     "shell.execute_reply": "2021-07-24T18:43:12.745259Z",
     "shell.execute_reply.started": "2021-07-24T18:04:14.188522Z"
    },
    "jupyter": {
     "outputs_hidden": false
    },
    "papermill": {
     "duration": 0.090171,
     "end_time": "2021-07-24T18:43:12.746098",
     "exception": false,
     "start_time": "2021-07-24T18:43:12.655927",
     "status": "completed"
    },
    "tags": []
   },
   "outputs": [],
   "source": [
    "def do_sum(df, group_cols, counted, agg_name):\n",
    "    gp = df[group_cols + [counted]].groupby(group_cols)[counted].sum().reset_index().rename(\n",
    "        columns={counted: agg_name})\n",
    "    df = df.merge(gp, on=group_cols, how='left')\n",
    "    del gp\n",
    "    gc.collect()\n",
    "    return df"
   ]
  },
  {
   "cell_type": "code",
   "execution_count": 12,
   "id": "4bbf93b7",
   "metadata": {
    "_cell_guid": "0d58ec49-2b33-4481-a48b-78e0baacd294",
    "_uuid": "07bb3162-15a1-4c41-81db-1dda1c1ee702",
    "collapsed": false,
    "execution": {
     "iopub.execute_input": "2021-07-24T18:43:12.924819Z",
     "iopub.status.busy": "2021-07-24T18:43:12.923261Z",
     "iopub.status.idle": "2021-07-24T18:43:45.299231Z",
     "shell.execute_reply": "2021-07-24T18:43:45.297761Z",
     "shell.execute_reply.started": "2021-07-24T18:04:14.204133Z"
    },
    "jupyter": {
     "outputs_hidden": false
    },
    "papermill": {
     "duration": 32.464586,
     "end_time": "2021-07-24T18:43:45.299489",
     "exception": false,
     "start_time": "2021-07-24T18:43:12.834903",
     "status": "completed"
    },
    "tags": []
   },
   "outputs": [],
   "source": [
    "group = ['ORGANIZATION_TYPE', 'NAME_EDUCATION_TYPE', 'OCCUPATION_TYPE', 'AGE_RANGE', 'CODE_GENDER']\n",
    "df = do_median(df, group, 'EXT_SOURCES_MEAN', 'GROUP_EXT_SOURCES_MEDIAN')\n",
    "df = do_std(df, group, 'EXT_SOURCES_MEAN', 'GROUP_EXT_SOURCES_STD')\n",
    "df = do_mean(df, group, 'AMT_INCOME_TOTAL', 'GROUP_INCOME_MEAN')\n",
    "df = do_std(df, group, 'AMT_INCOME_TOTAL', 'GROUP_INCOME_STD')\n",
    "df = do_mean(df, group, 'CREDIT_TO_ANNUITY_RATIO', 'GROUP_CREDIT_TO_ANNUITY_MEAN')\n",
    "df = do_std(df, group, 'CREDIT_TO_ANNUITY_RATIO', 'GROUP_CREDIT_TO_ANNUITY_STD')\n",
    "df = do_mean(df, group, 'AMT_CREDIT', 'GROUP_CREDIT_MEAN')\n",
    "df = do_mean(df, group, 'AMT_ANNUITY', 'GROUP_ANNUITY_MEAN')\n",
    "df = do_std(df, group, 'AMT_ANNUITY', 'GROUP_ANNUITY_STD')"
   ]
  },
  {
   "cell_type": "code",
   "execution_count": 13,
   "id": "557135a2",
   "metadata": {
    "_cell_guid": "5eee3fc4-1302-4971-8bec-d2d8637c4b4c",
    "_uuid": "0e8c9463-c7ec-4120-a11b-90660c09ad33",
    "collapsed": false,
    "execution": {
     "iopub.execute_input": "2021-07-24T18:43:45.502201Z",
     "iopub.status.busy": "2021-07-24T18:43:45.501164Z",
     "iopub.status.idle": "2021-07-24T18:43:45.505226Z",
     "shell.execute_reply": "2021-07-24T18:43:45.504394Z",
     "shell.execute_reply.started": "2021-07-24T18:04:41.343073Z"
    },
    "jupyter": {
     "outputs_hidden": false
    },
    "papermill": {
     "duration": 0.109669,
     "end_time": "2021-07-24T18:43:45.505384",
     "exception": false,
     "start_time": "2021-07-24T18:43:45.395715",
     "status": "completed"
    },
    "tags": []
   },
   "outputs": [],
   "source": [
    "def label_encoder(df, categorical_columns=None):\n",
    "    if not categorical_columns:\n",
    "        categorical_columns = [col for col in df.columns if df[col].dtype == 'object']\n",
    "    for col in categorical_columns:\n",
    "        df[col], uniques = pd.factorize(df[col])\n",
    "    return df, categorical_columns"
   ]
  },
  {
   "cell_type": "code",
   "execution_count": 14,
   "id": "fc21e85c",
   "metadata": {
    "_cell_guid": "147431ea-bfdd-45b8-93e3-43831d9896d4",
    "_uuid": "bf31234c-30c0-4c77-84ef-c6a70a6f7869",
    "collapsed": false,
    "execution": {
     "iopub.execute_input": "2021-07-24T18:43:45.712894Z",
     "iopub.status.busy": "2021-07-24T18:43:45.712101Z",
     "iopub.status.idle": "2021-07-24T18:43:45.715745Z",
     "shell.execute_reply": "2021-07-24T18:43:45.715135Z",
     "shell.execute_reply.started": "2021-07-24T18:04:41.349111Z"
    },
    "jupyter": {
     "outputs_hidden": false
    },
    "papermill": {
     "duration": 0.107072,
     "end_time": "2021-07-24T18:43:45.715933",
     "exception": false,
     "start_time": "2021-07-24T18:43:45.608861",
     "status": "completed"
    },
    "tags": []
   },
   "outputs": [],
   "source": [
    "def drop_application_columns(df):\n",
    "    drop_list = [\n",
    "        'CNT_CHILDREN', 'CNT_FAM_MEMBERS', 'HOUR_APPR_PROCESS_START',\n",
    "        'FLAG_EMP_PHONE', 'FLAG_MOBIL', 'FLAG_CONT_MOBILE', 'FLAG_EMAIL', 'FLAG_PHONE',\n",
    "        'FLAG_OWN_REALTY', 'REG_REGION_NOT_LIVE_REGION', 'REG_REGION_NOT_WORK_REGION',\n",
    "        'REG_CITY_NOT_WORK_CITY', 'OBS_30_CNT_SOCIAL_CIRCLE', 'OBS_60_CNT_SOCIAL_CIRCLE',\n",
    "        'AMT_REQ_CREDIT_BUREAU_DAY', 'AMT_REQ_CREDIT_BUREAU_MON', 'AMT_REQ_CREDIT_BUREAU_YEAR', \n",
    "        'COMMONAREA_MODE', 'NONLIVINGAREA_MODE', 'ELEVATORS_MODE', 'NONLIVINGAREA_AVG',\n",
    "        'FLOORSMIN_MEDI', 'LANDAREA_MODE', 'NONLIVINGAREA_MEDI', 'LIVINGAPARTMENTS_MODE',\n",
    "        'FLOORSMIN_AVG', 'LANDAREA_AVG', 'FLOORSMIN_MODE', 'LANDAREA_MEDI',\n",
    "        'COMMONAREA_MEDI', 'YEARS_BUILD_AVG', 'COMMONAREA_AVG', 'BASEMENTAREA_AVG',\n",
    "        'BASEMENTAREA_MODE', 'NONLIVINGAPARTMENTS_MEDI', 'BASEMENTAREA_MEDI', \n",
    "        'LIVINGAPARTMENTS_AVG', 'ELEVATORS_AVG', 'YEARS_BUILD_MEDI', 'ENTRANCES_MODE',\n",
    "        'NONLIVINGAPARTMENTS_MODE', 'LIVINGAREA_MODE', 'LIVINGAPARTMENTS_MEDI',\n",
    "        'YEARS_BUILD_MODE', 'YEARS_BEGINEXPLUATATION_AVG', 'ELEVATORS_MEDI', 'LIVINGAREA_MEDI',\n",
    "        'YEARS_BEGINEXPLUATATION_MODE', 'NONLIVINGAPARTMENTS_AVG', 'HOUSETYPE_MODE',\n",
    "        'FONDKAPREMONT_MODE', 'EMERGENCYSTATE_MODE'\n",
    "    ]\n",
    "    for doc_num in [2,4,5,6,7,9,10,11,12,13,14,15,16,17,19,20,21]:\n",
    "        drop_list.append('FLAG_DOCUMENT_{}'.format(doc_num))\n",
    "    df.drop(drop_list, axis=1, inplace=True)\n",
    "    return df"
   ]
  },
  {
   "cell_type": "code",
   "execution_count": 15,
   "id": "7b330dff",
   "metadata": {
    "_cell_guid": "5b0f0275-59aa-43b5-9762-e4a04c38d22d",
    "_uuid": "da99354c-0c78-4a80-9d92-01bc123f3a0a",
    "collapsed": false,
    "execution": {
     "iopub.execute_input": "2021-07-24T18:43:45.911219Z",
     "iopub.status.busy": "2021-07-24T18:43:45.898193Z",
     "iopub.status.idle": "2021-07-24T18:43:47.155562Z",
     "shell.execute_reply": "2021-07-24T18:43:47.154209Z",
     "shell.execute_reply.started": "2021-07-24T18:04:41.365906Z"
    },
    "jupyter": {
     "outputs_hidden": false
    },
    "papermill": {
     "duration": 1.353095,
     "end_time": "2021-07-24T18:43:47.155869",
     "exception": false,
     "start_time": "2021-07-24T18:43:45.802774",
     "status": "completed"
    },
    "tags": []
   },
   "outputs": [],
   "source": [
    "df, le_encoded_cols = label_encoder(df, None)\n",
    "df = drop_application_columns(df)"
   ]
  },
  {
   "cell_type": "code",
   "execution_count": 16,
   "id": "ae1be339",
   "metadata": {
    "_cell_guid": "e22e81f1-b7a5-4fa7-974e-70ee3b834dac",
    "_uuid": "070c3033-326a-4073-aa1b-60185a416f01",
    "collapsed": false,
    "execution": {
     "iopub.execute_input": "2021-07-24T18:43:47.430922Z",
     "iopub.status.busy": "2021-07-24T18:43:47.429684Z",
     "iopub.status.idle": "2021-07-24T18:43:47.510508Z",
     "shell.execute_reply": "2021-07-24T18:43:47.509713Z",
     "shell.execute_reply.started": "2021-07-24T18:04:42.148506Z"
    },
    "jupyter": {
     "outputs_hidden": false
    },
    "papermill": {
     "duration": 0.26058,
     "end_time": "2021-07-24T18:43:47.510675",
     "exception": false,
     "start_time": "2021-07-24T18:43:47.250095",
     "status": "completed"
    },
    "tags": []
   },
   "outputs": [],
   "source": [
    "df = pd.get_dummies(df)"
   ]
  },
  {
   "cell_type": "code",
   "execution_count": 17,
   "id": "36846372",
   "metadata": {
    "_cell_guid": "7ce5fae0-2e3c-4d95-bf50-17ca452bf0c3",
    "_uuid": "e14db22f-4782-48bf-b337-b1397a9cbd78",
    "collapsed": false,
    "execution": {
     "iopub.execute_input": "2021-07-24T18:43:47.672212Z",
     "iopub.status.busy": "2021-07-24T18:43:47.671551Z",
     "iopub.status.idle": "2021-07-24T18:43:53.983440Z",
     "shell.execute_reply": "2021-07-24T18:43:53.983998Z",
     "shell.execute_reply.started": "2021-07-24T18:04:42.297429Z"
    },
    "jupyter": {
     "outputs_hidden": false
    },
    "papermill": {
     "duration": 6.393349,
     "end_time": "2021-07-24T18:43:53.984243",
     "exception": false,
     "start_time": "2021-07-24T18:43:47.590894",
     "status": "completed"
    },
    "tags": []
   },
   "outputs": [],
   "source": [
    "bureau = pd.read_csv(os.path.join(DATA_DIRECTORY, 'bureau.csv'))"
   ]
  },
  {
   "cell_type": "code",
   "execution_count": 18,
   "id": "25119e12",
   "metadata": {
    "_cell_guid": "3e425eaa-f607-48cc-a2c2-28ce45e5389d",
    "_uuid": "7aa93a6c-8661-4afb-b0e4-a141fc5b9a2e",
    "collapsed": false,
    "execution": {
     "iopub.execute_input": "2021-07-24T18:43:54.171758Z",
     "iopub.status.busy": "2021-07-24T18:43:54.171062Z",
     "iopub.status.idle": "2021-07-24T18:43:54.239136Z",
     "shell.execute_reply": "2021-07-24T18:43:54.237543Z",
     "shell.execute_reply.started": "2021-07-24T18:04:46.192603Z"
    },
    "jupyter": {
     "outputs_hidden": false
    },
    "papermill": {
     "duration": 0.160098,
     "end_time": "2021-07-24T18:43:54.239332",
     "exception": false,
     "start_time": "2021-07-24T18:43:54.079234",
     "status": "completed"
    },
    "tags": []
   },
   "outputs": [],
   "source": [
    "bureau['CREDIT_DURATION'] = -bureau['DAYS_CREDIT'] + bureau['DAYS_CREDIT_ENDDATE']\n",
    "bureau['ENDDATE_DIF'] = bureau['DAYS_CREDIT_ENDDATE'] - bureau['DAYS_ENDDATE_FACT']\n",
    "bureau['DEBT_PERCENTAGE'] = bureau['AMT_CREDIT_SUM'] / bureau['AMT_CREDIT_SUM_DEBT']\n",
    "bureau['DEBT_CREDIT_DIFF'] = bureau['AMT_CREDIT_SUM'] - bureau['AMT_CREDIT_SUM_DEBT']\n",
    "bureau['CREDIT_TO_ANNUITY_RATIO'] = bureau['AMT_CREDIT_SUM'] / bureau['AMT_ANNUITY']"
   ]
  },
  {
   "cell_type": "code",
   "execution_count": 19,
   "id": "12216645",
   "metadata": {
    "_cell_guid": "a47aa226-ceea-4e9b-aac6-6f307a9bf74a",
    "_uuid": "f742d4c3-e9e0-4b62-b371-b6d7c74889fc",
    "collapsed": false,
    "execution": {
     "iopub.execute_input": "2021-07-24T18:43:54.409263Z",
     "iopub.status.busy": "2021-07-24T18:43:54.408089Z",
     "iopub.status.idle": "2021-07-24T18:43:54.411744Z",
     "shell.execute_reply": "2021-07-24T18:43:54.412245Z",
     "shell.execute_reply.started": "2021-07-24T18:04:46.236514Z"
    },
    "jupyter": {
     "outputs_hidden": false
    },
    "papermill": {
     "duration": 0.093275,
     "end_time": "2021-07-24T18:43:54.412477",
     "exception": false,
     "start_time": "2021-07-24T18:43:54.319202",
     "status": "completed"
    },
    "tags": []
   },
   "outputs": [],
   "source": [
    "def one_hot_encoder(df, categorical_columns=None, nan_as_category=True):\n",
    "    original_columns = list(df.columns)\n",
    "    if not categorical_columns:\n",
    "        categorical_columns = [col for col in df.columns if df[col].dtype == 'object']\n",
    "    df = pd.get_dummies(df, columns=categorical_columns, dummy_na=nan_as_category)\n",
    "    categorical_columns = [c for c in df.columns if c not in original_columns]\n",
    "    return df, categorical_columns"
   ]
  },
  {
   "cell_type": "code",
   "execution_count": 20,
   "id": "5e0a81d1",
   "metadata": {
    "_cell_guid": "4420e78e-32b5-4e12-af16-74e104728ed5",
    "_uuid": "ad0ca3c0-cd10-49b1-acf8-5cdae5d7b231",
    "collapsed": false,
    "execution": {
     "iopub.execute_input": "2021-07-24T18:43:54.573158Z",
     "iopub.status.busy": "2021-07-24T18:43:54.572214Z",
     "iopub.status.idle": "2021-07-24T18:43:54.577030Z",
     "shell.execute_reply": "2021-07-24T18:43:54.576261Z",
     "shell.execute_reply.started": "2021-07-24T18:04:46.243003Z"
    },
    "jupyter": {
     "outputs_hidden": false
    },
    "papermill": {
     "duration": 0.087506,
     "end_time": "2021-07-24T18:43:54.577204",
     "exception": false,
     "start_time": "2021-07-24T18:43:54.489698",
     "status": "completed"
    },
    "tags": []
   },
   "outputs": [],
   "source": [
    "def group(df_to_agg, prefix, aggregations, aggregate_by= 'SK_ID_CURR'):\n",
    "    agg_df = df_to_agg.groupby(aggregate_by).agg(aggregations)\n",
    "    agg_df.columns = pd.Index(['{}{}_{}'.format(prefix, e[0], e[1].upper())\n",
    "                               for e in agg_df.columns.tolist()])\n",
    "    return agg_df.reset_index()"
   ]
  },
  {
   "cell_type": "code",
   "execution_count": 21,
   "id": "13654356",
   "metadata": {
    "_cell_guid": "69bbdcb6-7bd2-44af-a593-0893b1ea9ba3",
    "_uuid": "b5f29b21-e48d-4b65-8bfe-f567fe0e9b7e",
    "collapsed": false,
    "execution": {
     "iopub.execute_input": "2021-07-24T18:43:54.743434Z",
     "iopub.status.busy": "2021-07-24T18:43:54.742711Z",
     "iopub.status.idle": "2021-07-24T18:43:54.746811Z",
     "shell.execute_reply": "2021-07-24T18:43:54.746214Z",
     "shell.execute_reply.started": "2021-07-24T18:04:46.258073Z"
    },
    "jupyter": {
     "outputs_hidden": false
    },
    "papermill": {
     "duration": 0.089225,
     "end_time": "2021-07-24T18:43:54.746982",
     "exception": false,
     "start_time": "2021-07-24T18:43:54.657757",
     "status": "completed"
    },
    "tags": []
   },
   "outputs": [],
   "source": [
    "def group_and_merge(df_to_agg, df_to_merge, prefix, aggregations, aggregate_by= 'SK_ID_CURR'):\n",
    "    agg_df = group(df_to_agg, prefix, aggregations, aggregate_by= aggregate_by)\n",
    "    return df_to_merge.merge(agg_df, how='left', on= aggregate_by)"
   ]
  },
  {
   "cell_type": "code",
   "execution_count": 22,
   "id": "669d63ec",
   "metadata": {
    "_cell_guid": "08848d72-28a1-470f-96dd-fc36acc16ecb",
    "_uuid": "6f8c9786-3779-4b09-8db0-a6082231e649",
    "collapsed": false,
    "execution": {
     "iopub.execute_input": "2021-07-24T18:43:54.916830Z",
     "iopub.status.busy": "2021-07-24T18:43:54.915608Z",
     "iopub.status.idle": "2021-07-24T18:43:54.919087Z",
     "shell.execute_reply": "2021-07-24T18:43:54.919622Z",
     "shell.execute_reply.started": "2021-07-24T18:04:46.270938Z"
    },
    "jupyter": {
     "outputs_hidden": false
    },
    "papermill": {
     "duration": 0.092604,
     "end_time": "2021-07-24T18:43:54.919873",
     "exception": false,
     "start_time": "2021-07-24T18:43:54.827269",
     "status": "completed"
    },
    "tags": []
   },
   "outputs": [],
   "source": [
    "def get_bureau_balance(path, num_rows= None):\n",
    "    bb = pd.read_csv(os.path.join(path, 'bureau_balance.csv'))\n",
    "    bb, categorical_cols = one_hot_encoder(bb, nan_as_category= False)\n",
    "    # Calculate rate for each category with decay\n",
    "    bb_processed = bb.groupby('SK_ID_BUREAU')[categorical_cols].mean().reset_index()\n",
    "    # Min, Max, Count and mean duration of payments (months)\n",
    "    agg = {'MONTHS_BALANCE': ['min', 'max', 'mean', 'size']}\n",
    "    bb_processed = group_and_merge(bb, bb_processed, '', agg, 'SK_ID_BUREAU')\n",
    "    del bb; gc.collect()\n",
    "    return bb_processed"
   ]
  },
  {
   "cell_type": "code",
   "execution_count": 23,
   "id": "511a3195",
   "metadata": {
    "_cell_guid": "5428bcbc-ae4d-4c33-b8f3-455f276de190",
    "_uuid": "01e9cbcc-8fcc-4039-9f1a-f32d3b6d9e69",
    "collapsed": false,
    "execution": {
     "iopub.execute_input": "2021-07-24T18:43:55.108158Z",
     "iopub.status.busy": "2021-07-24T18:43:55.106663Z",
     "iopub.status.idle": "2021-07-24T18:44:20.129212Z",
     "shell.execute_reply": "2021-07-24T18:44:20.129862Z",
     "shell.execute_reply.started": "2021-07-24T18:04:46.287822Z"
    },
    "jupyter": {
     "outputs_hidden": false
    },
    "papermill": {
     "duration": 25.12149,
     "end_time": "2021-07-24T18:44:20.130114",
     "exception": false,
     "start_time": "2021-07-24T18:43:55.008624",
     "status": "completed"
    },
    "tags": []
   },
   "outputs": [],
   "source": [
    "bureau, categorical_cols = one_hot_encoder(bureau, nan_as_category= False)\n",
    "bureau = bureau.merge(get_bureau_balance(DATA_DIRECTORY), how='left', on='SK_ID_BUREAU')\n",
    "bureau['STATUS_12345'] = 0\n",
    "for i in range(1,6):\n",
    "    bureau['STATUS_12345'] += bureau['STATUS_{}'.format(i)]"
   ]
  },
  {
   "cell_type": "code",
   "execution_count": 24,
   "id": "da605dfa",
   "metadata": {
    "_cell_guid": "9e6d4f35-e4d0-4248-be46-c8d8238bdde8",
    "_uuid": "4a7754bb-5c48-4e5b-8dae-993260efd771",
    "collapsed": false,
    "execution": {
     "iopub.execute_input": "2021-07-24T18:44:20.333411Z",
     "iopub.status.busy": "2021-07-24T18:44:20.327688Z",
     "iopub.status.idle": "2021-07-24T18:44:23.263156Z",
     "shell.execute_reply": "2021-07-24T18:44:23.262393Z",
     "shell.execute_reply.started": "2021-07-24T18:05:04.425436Z"
    },
    "jupyter": {
     "outputs_hidden": false
    },
    "papermill": {
     "duration": 3.029537,
     "end_time": "2021-07-24T18:44:23.263313",
     "exception": false,
     "start_time": "2021-07-24T18:44:20.233776",
     "status": "completed"
    },
    "tags": []
   },
   "outputs": [
    {
     "data": {
      "text/plain": [
       "20"
      ]
     },
     "execution_count": 24,
     "metadata": {},
     "output_type": "execute_result"
    }
   ],
   "source": [
    "features = ['AMT_CREDIT_MAX_OVERDUE', 'AMT_CREDIT_SUM_OVERDUE', 'AMT_CREDIT_SUM',\n",
    "    'AMT_CREDIT_SUM_DEBT', 'DEBT_PERCENTAGE', 'DEBT_CREDIT_DIFF', 'STATUS_0', 'STATUS_12345']\n",
    "agg_length = bureau.groupby('MONTHS_BALANCE_SIZE')[features].mean().reset_index()\n",
    "agg_length.rename({feat: 'LL_' + feat for feat in features}, axis=1, inplace=True)\n",
    "bureau = bureau.merge(agg_length, how='left', on='MONTHS_BALANCE_SIZE')\n",
    "del agg_length; gc.collect()"
   ]
  },
  {
   "cell_type": "code",
   "execution_count": 25,
   "id": "f93fff64",
   "metadata": {
    "_cell_guid": "220c4628-59a2-4009-b3f1-188a9cc0c171",
    "_uuid": "4d9ca865-66ed-40f0-96d5-620591668e2b",
    "collapsed": false,
    "execution": {
     "iopub.execute_input": "2021-07-24T18:44:23.444766Z",
     "iopub.status.busy": "2021-07-24T18:44:23.443905Z",
     "iopub.status.idle": "2021-07-24T18:44:23.445529Z",
     "shell.execute_reply": "2021-07-24T18:44:23.446057Z",
     "shell.execute_reply.started": "2021-07-24T18:05:06.356149Z"
    },
    "jupyter": {
     "outputs_hidden": false
    },
    "papermill": {
     "duration": 0.104495,
     "end_time": "2021-07-24T18:44:23.446231",
     "exception": false,
     "start_time": "2021-07-24T18:44:23.341736",
     "status": "completed"
    },
    "tags": []
   },
   "outputs": [],
   "source": [
    "BUREAU_AGG = {\n",
    "    'SK_ID_BUREAU': ['nunique'],\n",
    "    'DAYS_CREDIT': ['min', 'max', 'mean'],\n",
    "    'DAYS_CREDIT_ENDDATE': ['min', 'max'],\n",
    "    'AMT_CREDIT_MAX_OVERDUE': ['max', 'mean'],\n",
    "    'AMT_CREDIT_SUM': ['max', 'mean', 'sum'],\n",
    "    'AMT_CREDIT_SUM_DEBT': ['max', 'mean', 'sum'],\n",
    "    'AMT_CREDIT_SUM_OVERDUE': ['max', 'mean', 'sum'],\n",
    "    'AMT_ANNUITY': ['mean'],\n",
    "    'DEBT_CREDIT_DIFF': ['mean', 'sum'],\n",
    "    'MONTHS_BALANCE_MEAN': ['mean', 'var'],\n",
    "    'MONTHS_BALANCE_SIZE': ['mean', 'sum'],\n",
    "    'STATUS_0': ['mean'],\n",
    "    'STATUS_1': ['mean'],\n",
    "    'STATUS_12345': ['mean'],\n",
    "    'STATUS_C': ['mean'],\n",
    "    'STATUS_X': ['mean'],\n",
    "    'CREDIT_ACTIVE_Active': ['mean'],\n",
    "    'CREDIT_ACTIVE_Closed': ['mean'],\n",
    "    'CREDIT_ACTIVE_Sold': ['mean'],\n",
    "    'CREDIT_TYPE_Consumer credit': ['mean'],\n",
    "    'CREDIT_TYPE_Credit card': ['mean'],\n",
    "    'CREDIT_TYPE_Car loan': ['mean'],\n",
    "    'CREDIT_TYPE_Mortgage': ['mean'],\n",
    "    'CREDIT_TYPE_Microloan': ['mean'],\n",
    "    'LL_AMT_CREDIT_SUM_OVERDUE': ['mean'],\n",
    "    'LL_DEBT_CREDIT_DIFF': ['mean'],\n",
    "    'LL_STATUS_12345': ['mean'],\n",
    "}\n",
    "\n",
    "BUREAU_ACTIVE_AGG = {\n",
    "    'DAYS_CREDIT': ['max', 'mean'],\n",
    "    'DAYS_CREDIT_ENDDATE': ['min', 'max'],\n",
    "    'AMT_CREDIT_MAX_OVERDUE': ['max', 'mean'],\n",
    "    'AMT_CREDIT_SUM': ['max', 'sum'],\n",
    "    'AMT_CREDIT_SUM_DEBT': ['mean', 'sum'],\n",
    "    'AMT_CREDIT_SUM_OVERDUE': ['max', 'mean'],\n",
    "    'DAYS_CREDIT_UPDATE': ['min', 'mean'],\n",
    "    'DEBT_PERCENTAGE': ['mean'],\n",
    "    'DEBT_CREDIT_DIFF': ['mean'],\n",
    "    'CREDIT_TO_ANNUITY_RATIO': ['mean'],\n",
    "    'MONTHS_BALANCE_MEAN': ['mean', 'var'],\n",
    "    'MONTHS_BALANCE_SIZE': ['mean', 'sum'],\n",
    "}\n",
    "\n",
    "BUREAU_CLOSED_AGG = {\n",
    "    'DAYS_CREDIT': ['max', 'var'],\n",
    "    'DAYS_CREDIT_ENDDATE': ['max'],\n",
    "    'AMT_CREDIT_MAX_OVERDUE': ['max', 'mean'],\n",
    "    'AMT_CREDIT_SUM_OVERDUE': ['mean'],\n",
    "    'AMT_CREDIT_SUM': ['max', 'mean', 'sum'],\n",
    "    'AMT_CREDIT_SUM_DEBT': ['max', 'sum'],\n",
    "    'DAYS_CREDIT_UPDATE': ['max'],\n",
    "    'ENDDATE_DIF': ['mean'],\n",
    "    'STATUS_12345': ['mean'],\n",
    "}\n",
    "\n",
    "BUREAU_LOAN_TYPE_AGG = {\n",
    "    'DAYS_CREDIT': ['mean', 'max'],\n",
    "    'AMT_CREDIT_MAX_OVERDUE': ['mean', 'max'],\n",
    "    'AMT_CREDIT_SUM': ['mean', 'max'],\n",
    "    'AMT_CREDIT_SUM_DEBT': ['mean', 'max'],\n",
    "    'DEBT_PERCENTAGE': ['mean'],\n",
    "    'DEBT_CREDIT_DIFF': ['mean'],\n",
    "    'DAYS_CREDIT_ENDDATE': ['max'],\n",
    "}\n",
    "\n",
    "BUREAU_TIME_AGG = {\n",
    "    'AMT_CREDIT_MAX_OVERDUE': ['max', 'mean'],\n",
    "    'AMT_CREDIT_SUM_OVERDUE': ['mean'],\n",
    "    'AMT_CREDIT_SUM': ['max', 'sum'],\n",
    "    'AMT_CREDIT_SUM_DEBT': ['mean', 'sum'],\n",
    "    'DEBT_PERCENTAGE': ['mean'],\n",
    "    'DEBT_CREDIT_DIFF': ['mean'],\n",
    "    'STATUS_0': ['mean'],\n",
    "    'STATUS_12345': ['mean'],\n",
    "}"
   ]
  },
  {
   "cell_type": "code",
   "execution_count": 26,
   "id": "44e7510b",
   "metadata": {
    "_cell_guid": "bf2744db-8aeb-4663-a268-dd4149c53f84",
    "_uuid": "6977a1a2-b283-45a1-be6b-6869a12f1e6f",
    "collapsed": false,
    "execution": {
     "iopub.execute_input": "2021-07-24T18:44:23.646886Z",
     "iopub.status.busy": "2021-07-24T18:44:23.646025Z",
     "iopub.status.idle": "2021-07-24T18:44:39.275918Z",
     "shell.execute_reply": "2021-07-24T18:44:39.274919Z",
     "shell.execute_reply.started": "2021-07-24T18:05:06.368200Z"
    },
    "jupyter": {
     "outputs_hidden": false
    },
    "papermill": {
     "duration": 15.732686,
     "end_time": "2021-07-24T18:44:39.276361",
     "exception": false,
     "start_time": "2021-07-24T18:44:23.543675",
     "status": "completed"
    },
    "tags": []
   },
   "outputs": [],
   "source": [
    "agg_bureau = group(bureau, 'BUREAU_', BUREAU_AGG)\n",
    "active = bureau[bureau['CREDIT_ACTIVE_Active'] == 1]\n",
    "agg_bureau = group_and_merge(active,agg_bureau,'BUREAU_ACTIVE_',BUREAU_ACTIVE_AGG)\n",
    "closed = bureau[bureau['CREDIT_ACTIVE_Closed'] == 1]\n",
    "agg_bureau = group_and_merge(closed,agg_bureau,'BUREAU_CLOSED_',BUREAU_CLOSED_AGG)\n",
    "del active, closed; gc.collect()\n",
    "for credit_type in ['Consumer credit', 'Credit card', 'Mortgage', 'Car loan', 'Microloan']:\n",
    "    type_df = bureau[bureau['CREDIT_TYPE_' + credit_type] == 1]\n",
    "    prefix = 'BUREAU_' + credit_type.split(' ')[0].upper() + '_'\n",
    "    agg_bureau = group_and_merge(type_df, agg_bureau, prefix, BUREAU_LOAN_TYPE_AGG)\n",
    "    del type_df; gc.collect()\n",
    "for time_frame in [6, 12]:\n",
    "    prefix = \"BUREAU_LAST{}M_\".format(time_frame)\n",
    "    time_frame_df = bureau[bureau['DAYS_CREDIT'] >= -30*time_frame]\n",
    "    agg_bureau = group_and_merge(time_frame_df, agg_bureau, prefix, BUREAU_TIME_AGG)\n",
    "    del time_frame_df; gc.collect()\n",
    "sort_bureau = bureau.sort_values(by=['DAYS_CREDIT'])\n",
    "gr = sort_bureau.groupby('SK_ID_CURR')['AMT_CREDIT_MAX_OVERDUE'].last().reset_index()\n",
    "gr.rename({'AMT_CREDIT_MAX_OVERDUE': 'BUREAU_LAST_LOAN_MAX_OVERDUE'}, inplace=True)\n",
    "agg_bureau = agg_bureau.merge(gr, on='SK_ID_CURR', how='left')\n",
    "agg_bureau['BUREAU_DEBT_OVER_CREDIT'] = \\\n",
    "    agg_bureau['BUREAU_AMT_CREDIT_SUM_DEBT_SUM']/agg_bureau['BUREAU_AMT_CREDIT_SUM_SUM']\n",
    "agg_bureau['BUREAU_ACTIVE_DEBT_OVER_CREDIT'] = \\\n",
    "    agg_bureau['BUREAU_ACTIVE_AMT_CREDIT_SUM_DEBT_SUM']/agg_bureau['BUREAU_ACTIVE_AMT_CREDIT_SUM_SUM']"
   ]
  },
  {
   "cell_type": "code",
   "execution_count": 27,
   "id": "4e608929",
   "metadata": {
    "_cell_guid": "be81499b-b5ee-49d1-b95e-8504d8070187",
    "_uuid": "f6b09967-7b22-42a6-872d-888a19dd8355",
    "collapsed": false,
    "execution": {
     "iopub.execute_input": "2021-07-24T18:44:39.441977Z",
     "iopub.status.busy": "2021-07-24T18:44:39.441013Z",
     "iopub.status.idle": "2021-07-24T18:44:40.614930Z",
     "shell.execute_reply": "2021-07-24T18:44:40.614381Z",
     "shell.execute_reply.started": "2021-07-24T18:05:16.174426Z"
    },
    "jupyter": {
     "outputs_hidden": false
    },
    "papermill": {
     "duration": 1.258245,
     "end_time": "2021-07-24T18:44:40.615094",
     "exception": false,
     "start_time": "2021-07-24T18:44:39.356849",
     "status": "completed"
    },
    "tags": []
   },
   "outputs": [
    {
     "data": {
      "text/plain": [
       "20"
      ]
     },
     "execution_count": 27,
     "metadata": {},
     "output_type": "execute_result"
    }
   ],
   "source": [
    "df = pd.merge(df, agg_bureau, on='SK_ID_CURR', how='left')\n",
    "del agg_bureau, bureau\n",
    "gc.collect()"
   ]
  },
  {
   "cell_type": "code",
   "execution_count": 28,
   "id": "ed73d061",
   "metadata": {
    "_cell_guid": "47a83312-e297-4cc5-b37c-058db2ae6737",
    "_uuid": "73569630-2258-42a4-b661-1896411857d9",
    "collapsed": false,
    "execution": {
     "iopub.execute_input": "2021-07-24T18:44:40.772898Z",
     "iopub.status.busy": "2021-07-24T18:44:40.771774Z",
     "iopub.status.idle": "2021-07-24T18:45:17.563736Z",
     "shell.execute_reply": "2021-07-24T18:45:17.564247Z",
     "shell.execute_reply.started": "2021-07-24T18:05:17.179634Z"
    },
    "jupyter": {
     "outputs_hidden": false
    },
    "papermill": {
     "duration": 36.87382,
     "end_time": "2021-07-24T18:45:17.564476",
     "exception": false,
     "start_time": "2021-07-24T18:44:40.690656",
     "status": "completed"
    },
    "tags": []
   },
   "outputs": [],
   "source": [
    "prev = pd.read_csv(os.path.join(DATA_DIRECTORY, 'previous_application.csv'))\n",
    "pay = pd.read_csv(os.path.join(DATA_DIRECTORY, 'installments_payments.csv'))"
   ]
  },
  {
   "cell_type": "code",
   "execution_count": 29,
   "id": "2d0ffc07",
   "metadata": {
    "_cell_guid": "22987818-a794-48f3-9e0e-b22a86253e3c",
    "_uuid": "69b99944-bcd7-440a-9335-5b5f0f5dd769",
    "collapsed": false,
    "execution": {
     "iopub.execute_input": "2021-07-24T18:45:17.745882Z",
     "iopub.status.busy": "2021-07-24T18:45:17.745114Z",
     "iopub.status.idle": "2021-07-24T18:45:17.749443Z",
     "shell.execute_reply": "2021-07-24T18:45:17.748607Z",
     "shell.execute_reply.started": "2021-07-24T18:05:41.747177Z"
    },
    "jupyter": {
     "outputs_hidden": false
    },
    "papermill": {
     "duration": 0.107577,
     "end_time": "2021-07-24T18:45:17.749673",
     "exception": false,
     "start_time": "2021-07-24T18:45:17.642096",
     "status": "completed"
    },
    "tags": []
   },
   "outputs": [],
   "source": [
    "PREVIOUS_AGG = {\n",
    "    'SK_ID_PREV': ['nunique'],\n",
    "    'AMT_ANNUITY': ['min', 'max', 'mean'],\n",
    "    'AMT_DOWN_PAYMENT': ['max', 'mean'],\n",
    "    'HOUR_APPR_PROCESS_START': ['min', 'max', 'mean'],\n",
    "    'RATE_DOWN_PAYMENT': ['max', 'mean'],\n",
    "    'DAYS_DECISION': ['min', 'max', 'mean'],\n",
    "    'CNT_PAYMENT': ['max', 'mean'],\n",
    "    'DAYS_TERMINATION': ['max'],\n",
    "    # Engineered features\n",
    "    'CREDIT_TO_ANNUITY_RATIO': ['mean', 'max'],\n",
    "    'APPLICATION_CREDIT_DIFF': ['min', 'max', 'mean'],\n",
    "    'APPLICATION_CREDIT_RATIO': ['min', 'max', 'mean', 'var'],\n",
    "    'DOWN_PAYMENT_TO_CREDIT': ['mean'],\n",
    "}\n",
    "\n",
    "PREVIOUS_ACTIVE_AGG = {\n",
    "    'SK_ID_PREV': ['nunique'],\n",
    "    'SIMPLE_INTERESTS': ['mean'],\n",
    "    'AMT_ANNUITY': ['max', 'sum'],\n",
    "    'AMT_APPLICATION': ['max', 'mean'],\n",
    "    'AMT_CREDIT': ['sum'],\n",
    "    'AMT_DOWN_PAYMENT': ['max', 'mean'],\n",
    "    'DAYS_DECISION': ['min', 'mean'],\n",
    "    'CNT_PAYMENT': ['mean', 'sum'],\n",
    "    'DAYS_LAST_DUE_1ST_VERSION': ['min', 'max', 'mean'],\n",
    "    # Engineered features\n",
    "    'AMT_PAYMENT': ['sum'],\n",
    "    'INSTALMENT_PAYMENT_DIFF': ['mean', 'max'],\n",
    "    'REMAINING_DEBT': ['max', 'mean', 'sum'],\n",
    "    'REPAYMENT_RATIO': ['mean'],\n",
    "}\n",
    "PREVIOUS_LATE_PAYMENTS_AGG = {\n",
    "    'DAYS_DECISION': ['min', 'max', 'mean'],\n",
    "    'DAYS_LAST_DUE_1ST_VERSION': ['min', 'max', 'mean'],\n",
    "    # Engineered features\n",
    "    'APPLICATION_CREDIT_DIFF': ['min'],\n",
    "    'NAME_CONTRACT_TYPE_Consumer loans': ['mean'],\n",
    "    'NAME_CONTRACT_TYPE_Cash loans': ['mean'],\n",
    "    'NAME_CONTRACT_TYPE_Revolving loans': ['mean'],\n",
    "}\n",
    "\n",
    "PREVIOUS_LOAN_TYPE_AGG = {\n",
    "    'AMT_CREDIT': ['sum'],\n",
    "    'AMT_ANNUITY': ['mean', 'max'],\n",
    "    'SIMPLE_INTERESTS': ['min', 'mean', 'max', 'var'],\n",
    "    'APPLICATION_CREDIT_DIFF': ['min', 'var'],\n",
    "    'APPLICATION_CREDIT_RATIO': ['min', 'max', 'mean'],\n",
    "    'DAYS_DECISION': ['max'],\n",
    "    'DAYS_LAST_DUE_1ST_VERSION': ['max', 'mean'],\n",
    "    'CNT_PAYMENT': ['mean'],\n",
    "}\n",
    "\n",
    "PREVIOUS_TIME_AGG = {\n",
    "    'AMT_CREDIT': ['sum'],\n",
    "    'AMT_ANNUITY': ['mean', 'max'],\n",
    "    'SIMPLE_INTERESTS': ['mean', 'max'],\n",
    "    'DAYS_DECISION': ['min', 'mean'],\n",
    "    'DAYS_LAST_DUE_1ST_VERSION': ['min', 'max', 'mean'],\n",
    "    # Engineered features\n",
    "    'APPLICATION_CREDIT_DIFF': ['min'],\n",
    "    'APPLICATION_CREDIT_RATIO': ['min', 'max', 'mean'],\n",
    "    'NAME_CONTRACT_TYPE_Consumer loans': ['mean'],\n",
    "    'NAME_CONTRACT_TYPE_Cash loans': ['mean'],\n",
    "    'NAME_CONTRACT_TYPE_Revolving loans': ['mean'],\n",
    "}\n",
    "\n",
    "PREVIOUS_APPROVED_AGG = {\n",
    "    'SK_ID_PREV': ['nunique'],\n",
    "    'AMT_ANNUITY': ['min', 'max', 'mean'],\n",
    "    'AMT_CREDIT': ['min', 'max', 'mean'],\n",
    "    'AMT_DOWN_PAYMENT': ['max'],\n",
    "    'AMT_GOODS_PRICE': ['max'],\n",
    "    'HOUR_APPR_PROCESS_START': ['min', 'max'],\n",
    "    'DAYS_DECISION': ['min', 'mean'],\n",
    "    'CNT_PAYMENT': ['max', 'mean'],\n",
    "    'DAYS_TERMINATION': ['mean'],\n",
    "    # Engineered features\n",
    "    'CREDIT_TO_ANNUITY_RATIO': ['mean', 'max'],\n",
    "    'APPLICATION_CREDIT_DIFF': ['max'],\n",
    "    'APPLICATION_CREDIT_RATIO': ['min', 'max', 'mean'],\n",
    "    # The following features are only for approved applications\n",
    "    'DAYS_FIRST_DRAWING': ['max', 'mean'],\n",
    "    'DAYS_FIRST_DUE': ['min', 'mean'],\n",
    "    'DAYS_LAST_DUE_1ST_VERSION': ['min', 'max', 'mean'],\n",
    "    'DAYS_LAST_DUE': ['max', 'mean'],\n",
    "    'DAYS_LAST_DUE_DIFF': ['min', 'max', 'mean'],\n",
    "    'SIMPLE_INTERESTS': ['min', 'max', 'mean'],\n",
    "}\n",
    "\n",
    "PREVIOUS_REFUSED_AGG = {\n",
    "    'AMT_APPLICATION': ['max', 'mean'],\n",
    "    'AMT_CREDIT': ['min', 'max'],\n",
    "    'DAYS_DECISION': ['min', 'max', 'mean'],\n",
    "    'CNT_PAYMENT': ['max', 'mean'],\n",
    "    # Engineered features\n",
    "    'APPLICATION_CREDIT_DIFF': ['min', 'max', 'mean', 'var'],\n",
    "    'APPLICATION_CREDIT_RATIO': ['min', 'mean'],\n",
    "    'NAME_CONTRACT_TYPE_Consumer loans': ['mean'],\n",
    "    'NAME_CONTRACT_TYPE_Cash loans': ['mean'],\n",
    "    'NAME_CONTRACT_TYPE_Revolving loans': ['mean'],\n",
    "}"
   ]
  },
  {
   "cell_type": "code",
   "execution_count": 30,
   "id": "a5b5c680",
   "metadata": {
    "_cell_guid": "d8c402b2-98c2-4ef7-b42a-6a46a029e3b8",
    "_uuid": "262669de-2212-421b-b93f-fefe28355f2b",
    "collapsed": false,
    "execution": {
     "iopub.execute_input": "2021-07-24T18:45:17.923024Z",
     "iopub.status.busy": "2021-07-24T18:45:17.917178Z",
     "iopub.status.idle": "2021-07-24T18:45:20.371208Z",
     "shell.execute_reply": "2021-07-24T18:45:20.370592Z",
     "shell.execute_reply.started": "2021-07-24T18:05:41.762290Z"
    },
    "jupyter": {
     "outputs_hidden": false
    },
    "papermill": {
     "duration": 2.541029,
     "end_time": "2021-07-24T18:45:20.371405",
     "exception": false,
     "start_time": "2021-07-24T18:45:17.830376",
     "status": "completed"
    },
    "tags": []
   },
   "outputs": [],
   "source": [
    "ohe_columns = [\n",
    "    'NAME_CONTRACT_STATUS', 'NAME_CONTRACT_TYPE', 'CHANNEL_TYPE',\n",
    "    'NAME_TYPE_SUITE', 'NAME_YIELD_GROUP', 'PRODUCT_COMBINATION',\n",
    "    'NAME_PRODUCT_TYPE', 'NAME_CLIENT_TYPE']\n",
    "prev, categorical_cols = one_hot_encoder(prev, ohe_columns, nan_as_category= False)"
   ]
  },
  {
   "cell_type": "code",
   "execution_count": 31,
   "id": "65397982",
   "metadata": {
    "_cell_guid": "c36da91a-ca53-436f-8b34-c969161feb59",
    "_uuid": "19293ca5-ef5c-4993-9004-83d77b01b64e",
    "collapsed": false,
    "execution": {
     "iopub.execute_input": "2021-07-24T18:45:20.608734Z",
     "iopub.status.busy": "2021-07-24T18:45:20.607910Z",
     "iopub.status.idle": "2021-07-24T18:45:20.671995Z",
     "shell.execute_reply": "2021-07-24T18:45:20.671236Z",
     "shell.execute_reply.started": "2021-07-24T18:05:43.446322Z"
    },
    "jupyter": {
     "outputs_hidden": false
    },
    "papermill": {
     "duration": 0.186942,
     "end_time": "2021-07-24T18:45:20.672170",
     "exception": false,
     "start_time": "2021-07-24T18:45:20.485228",
     "status": "completed"
    },
    "tags": []
   },
   "outputs": [],
   "source": [
    "prev['APPLICATION_CREDIT_DIFF'] = prev['AMT_APPLICATION'] - prev['AMT_CREDIT']\n",
    "prev['APPLICATION_CREDIT_RATIO'] = prev['AMT_APPLICATION'] / prev['AMT_CREDIT']\n",
    "prev['CREDIT_TO_ANNUITY_RATIO'] = prev['AMT_CREDIT']/prev['AMT_ANNUITY']\n",
    "prev['DOWN_PAYMENT_TO_CREDIT'] = prev['AMT_DOWN_PAYMENT'] / prev['AMT_CREDIT']\n",
    "total_payment = prev['AMT_ANNUITY'] * prev['CNT_PAYMENT']\n",
    "prev['SIMPLE_INTERESTS'] = (total_payment/prev['AMT_CREDIT'] - 1)/prev['CNT_PAYMENT']"
   ]
  },
  {
   "cell_type": "code",
   "execution_count": 32,
   "id": "8ee33cca",
   "metadata": {
    "_cell_guid": "6fe9af88-d7ab-4bbb-906b-f5bfe5d9d2f4",
    "_uuid": "0c945875-69ba-439e-9868-22f9903f1069",
    "collapsed": false,
    "execution": {
     "iopub.execute_input": "2021-07-24T18:45:20.898252Z",
     "iopub.status.busy": "2021-07-24T18:45:20.897465Z",
     "iopub.status.idle": "2021-07-24T18:45:24.006874Z",
     "shell.execute_reply": "2021-07-24T18:45:24.007365Z",
     "shell.execute_reply.started": "2021-07-24T18:05:43.491104Z"
    },
    "jupyter": {
     "outputs_hidden": false
    },
    "papermill": {
     "duration": 3.224164,
     "end_time": "2021-07-24T18:45:24.007621",
     "exception": false,
     "start_time": "2021-07-24T18:45:20.783457",
     "status": "completed"
    },
    "tags": []
   },
   "outputs": [
    {
     "data": {
      "text/plain": [
       "0"
      ]
     },
     "execution_count": 32,
     "metadata": {},
     "output_type": "execute_result"
    }
   ],
   "source": [
    "approved = prev[prev['NAME_CONTRACT_STATUS_Approved'] == 1]\n",
    "active_df = approved[approved['DAYS_LAST_DUE'] == 365243]\n",
    "active_pay = pay[pay['SK_ID_PREV'].isin(active_df['SK_ID_PREV'])]\n",
    "active_pay_agg = active_pay.groupby('SK_ID_PREV')[['AMT_INSTALMENT', 'AMT_PAYMENT']].sum()\n",
    "active_pay_agg.reset_index(inplace= True)\n",
    "active_pay_agg['INSTALMENT_PAYMENT_DIFF'] = active_pay_agg['AMT_INSTALMENT'] - active_pay_agg['AMT_PAYMENT']\n",
    "active_df = active_df.merge(active_pay_agg, on= 'SK_ID_PREV', how= 'left')\n",
    "active_df['REMAINING_DEBT'] = active_df['AMT_CREDIT'] - active_df['AMT_PAYMENT']\n",
    "active_df['REPAYMENT_RATIO'] = active_df['AMT_PAYMENT'] / active_df['AMT_CREDIT']\n",
    "active_agg_df = group(active_df, 'PREV_ACTIVE_', PREVIOUS_ACTIVE_AGG)\n",
    "active_agg_df['TOTAL_REPAYMENT_RATIO'] = active_agg_df['PREV_ACTIVE_AMT_PAYMENT_SUM']/\\\n",
    "                                            active_agg_df['PREV_ACTIVE_AMT_CREDIT_SUM']\n",
    "del active_pay, active_pay_agg, active_df; gc.collect()"
   ]
  },
  {
   "cell_type": "code",
   "execution_count": 33,
   "id": "3a695023",
   "metadata": {
    "_cell_guid": "08949abf-a3c3-4e0d-9a18-d4f16c0b24a9",
    "_uuid": "83fb008f-6bc5-4297-8cde-f9f8b69843a5",
    "collapsed": false,
    "execution": {
     "iopub.execute_input": "2021-07-24T18:45:24.222209Z",
     "iopub.status.busy": "2021-07-24T18:45:24.220167Z",
     "iopub.status.idle": "2021-07-24T18:45:24.285211Z",
     "shell.execute_reply": "2021-07-24T18:45:24.286031Z",
     "shell.execute_reply.started": "2021-07-24T18:05:45.976396Z"
    },
    "jupyter": {
     "outputs_hidden": false
    },
    "papermill": {
     "duration": 0.173769,
     "end_time": "2021-07-24T18:45:24.286310",
     "exception": false,
     "start_time": "2021-07-24T18:45:24.112541",
     "status": "completed"
    },
    "tags": []
   },
   "outputs": [],
   "source": [
    "prev['DAYS_FIRST_DRAWING'].replace(365243, np.nan, inplace= True)\n",
    "prev['DAYS_FIRST_DUE'].replace(365243, np.nan, inplace= True)\n",
    "prev['DAYS_LAST_DUE_1ST_VERSION'].replace(365243, np.nan, inplace= True)\n",
    "prev['DAYS_LAST_DUE'].replace(365243, np.nan, inplace= True)\n",
    "prev['DAYS_TERMINATION'].replace(365243, np.nan, inplace= True)"
   ]
  },
  {
   "cell_type": "code",
   "execution_count": 34,
   "id": "0ad04139",
   "metadata": {
    "_cell_guid": "c77ba6c2-f253-4f18-99b6-3697d489ad78",
    "_uuid": "6fd3a0a3-e64d-45d3-92cc-472d9595ec47",
    "collapsed": false,
    "execution": {
     "iopub.execute_input": "2021-07-24T18:45:24.517991Z",
     "iopub.status.busy": "2021-07-24T18:45:24.516704Z",
     "iopub.status.idle": "2021-07-24T18:45:24.543955Z",
     "shell.execute_reply": "2021-07-24T18:45:24.543196Z",
     "shell.execute_reply.started": "2021-07-24T18:05:46.016545Z"
    },
    "jupyter": {
     "outputs_hidden": false
    },
    "papermill": {
     "duration": 0.149295,
     "end_time": "2021-07-24T18:45:24.544113",
     "exception": false,
     "start_time": "2021-07-24T18:45:24.394818",
     "status": "completed"
    },
    "tags": []
   },
   "outputs": [
    {
     "name": "stderr",
     "output_type": "stream",
     "text": [
      "/opt/conda/lib/python3.7/site-packages/ipykernel_launcher.py:2: SettingWithCopyWarning: \n",
      "A value is trying to be set on a copy of a slice from a DataFrame.\n",
      "Try using .loc[row_indexer,col_indexer] = value instead\n",
      "\n",
      "See the caveats in the documentation: https://pandas.pydata.org/pandas-docs/stable/user_guide/indexing.html#returning-a-view-versus-a-copy\n",
      "  \n"
     ]
    }
   ],
   "source": [
    "prev['DAYS_LAST_DUE_DIFF'] = prev['DAYS_LAST_DUE_1ST_VERSION'] - prev['DAYS_LAST_DUE']\n",
    "approved['DAYS_LAST_DUE_DIFF'] = approved['DAYS_LAST_DUE_1ST_VERSION'] - approved['DAYS_LAST_DUE']"
   ]
  },
  {
   "cell_type": "code",
   "execution_count": 35,
   "id": "57992bf9",
   "metadata": {
    "_cell_guid": "cd1a09a0-5576-4bc4-bc1e-04431fada48a",
    "_uuid": "b226d532-4437-49ed-b1e6-024fefd62a7f",
    "collapsed": false,
    "execution": {
     "iopub.execute_input": "2021-07-24T18:45:24.715014Z",
     "iopub.status.busy": "2021-07-24T18:45:24.714184Z",
     "iopub.status.idle": "2021-07-24T18:45:24.717885Z",
     "shell.execute_reply": "2021-07-24T18:45:24.718361Z",
     "shell.execute_reply.started": "2021-07-24T18:05:46.036148Z"
    },
    "jupyter": {
     "outputs_hidden": false
    },
    "papermill": {
     "duration": 0.092761,
     "end_time": "2021-07-24T18:45:24.718568",
     "exception": false,
     "start_time": "2021-07-24T18:45:24.625807",
     "status": "completed"
    },
    "tags": []
   },
   "outputs": [],
   "source": [
    "categorical_agg = {key: ['mean'] for key in categorical_cols}"
   ]
  },
  {
   "cell_type": "code",
   "execution_count": 36,
   "id": "79f56373",
   "metadata": {
    "_cell_guid": "0764d519-842f-422c-9fb1-415b8a611964",
    "_uuid": "d991a34d-c116-4977-aa02-ac376f696eaf",
    "collapsed": false,
    "execution": {
     "iopub.execute_input": "2021-07-24T18:45:24.877938Z",
     "iopub.status.busy": "2021-07-24T18:45:24.876937Z",
     "iopub.status.idle": "2021-07-24T18:45:31.315561Z",
     "shell.execute_reply": "2021-07-24T18:45:31.315013Z",
     "shell.execute_reply.started": "2021-07-24T18:05:46.042648Z"
    },
    "jupyter": {
     "outputs_hidden": false
    },
    "papermill": {
     "duration": 6.518831,
     "end_time": "2021-07-24T18:45:31.315717",
     "exception": false,
     "start_time": "2021-07-24T18:45:24.796886",
     "status": "completed"
    },
    "tags": []
   },
   "outputs": [
    {
     "data": {
      "text/plain": [
       "0"
      ]
     },
     "execution_count": 36,
     "metadata": {},
     "output_type": "execute_result"
    }
   ],
   "source": [
    "agg_prev = group(prev, 'PREV_', {**PREVIOUS_AGG, **categorical_agg})\n",
    "agg_prev = agg_prev.merge(active_agg_df, how='left', on='SK_ID_CURR')\n",
    "del active_agg_df; gc.collect()"
   ]
  },
  {
   "cell_type": "code",
   "execution_count": 37,
   "id": "b062f212",
   "metadata": {
    "_cell_guid": "e645500e-e975-43dc-9dbb-87f1a9c60b2b",
    "_uuid": "21f3dedf-2140-4d7c-8eac-a18642abfdae",
    "collapsed": false,
    "execution": {
     "iopub.execute_input": "2021-07-24T18:45:31.489877Z",
     "iopub.status.busy": "2021-07-24T18:45:31.488727Z",
     "iopub.status.idle": "2021-07-24T18:45:35.315691Z",
     "shell.execute_reply": "2021-07-24T18:45:35.315090Z",
     "shell.execute_reply.started": "2021-07-24T18:05:50.217997Z"
    },
    "jupyter": {
     "outputs_hidden": false
    },
    "papermill": {
     "duration": 3.92022,
     "end_time": "2021-07-24T18:45:35.315846",
     "exception": false,
     "start_time": "2021-07-24T18:45:31.395626",
     "status": "completed"
    },
    "tags": []
   },
   "outputs": [
    {
     "data": {
      "text/plain": [
       "0"
      ]
     },
     "execution_count": 37,
     "metadata": {},
     "output_type": "execute_result"
    }
   ],
   "source": [
    "agg_prev = group_and_merge(approved, agg_prev, 'APPROVED_', PREVIOUS_APPROVED_AGG)\n",
    "refused = prev[prev['NAME_CONTRACT_STATUS_Refused'] == 1]\n",
    "agg_prev = group_and_merge(refused, agg_prev, 'REFUSED_', PREVIOUS_REFUSED_AGG)\n",
    "del approved, refused; gc.collect()"
   ]
  },
  {
   "cell_type": "code",
   "execution_count": 38,
   "id": "1ff61feb",
   "metadata": {
    "_cell_guid": "d6fe80b9-d4da-4267-9255-52def7b407ec",
    "_uuid": "97ab7a0d-c325-485b-ac6e-3e1128c78b3f",
    "collapsed": false,
    "execution": {
     "iopub.execute_input": "2021-07-24T18:45:35.500158Z",
     "iopub.status.busy": "2021-07-24T18:45:35.499407Z",
     "iopub.status.idle": "2021-07-24T18:45:39.024142Z",
     "shell.execute_reply": "2021-07-24T18:45:39.024788Z",
     "shell.execute_reply.started": "2021-07-24T18:05:53.126855Z"
    },
    "jupyter": {
     "outputs_hidden": false
    },
    "papermill": {
     "duration": 3.62016,
     "end_time": "2021-07-24T18:45:39.025064",
     "exception": false,
     "start_time": "2021-07-24T18:45:35.404904",
     "status": "completed"
    },
    "tags": []
   },
   "outputs": [],
   "source": [
    "for loan_type in ['Consumer loans', 'Cash loans']:\n",
    "    type_df = prev[prev['NAME_CONTRACT_TYPE_{}'.format(loan_type)] == 1]\n",
    "    prefix = 'PREV_' + loan_type.split(\" \")[0] + '_'\n",
    "    agg_prev = group_and_merge(type_df, agg_prev, prefix, PREVIOUS_LOAN_TYPE_AGG)\n",
    "    del type_df; gc.collect()"
   ]
  },
  {
   "cell_type": "code",
   "execution_count": 39,
   "id": "326cf2ff",
   "metadata": {
    "_cell_guid": "6c15b942-ed5a-4c2c-a0e3-316146c15531",
    "_uuid": "265c213f-094c-41bd-920b-19fb2d422d01",
    "collapsed": false,
    "execution": {
     "iopub.execute_input": "2021-07-24T18:45:39.248818Z",
     "iopub.status.busy": "2021-07-24T18:45:39.246886Z",
     "iopub.status.idle": "2021-07-24T18:45:49.897938Z",
     "shell.execute_reply": "2021-07-24T18:45:49.896540Z",
     "shell.execute_reply.started": "2021-07-24T18:05:55.708633Z"
    },
    "jupyter": {
     "outputs_hidden": false
    },
    "papermill": {
     "duration": 10.7679,
     "end_time": "2021-07-24T18:45:49.898141",
     "exception": false,
     "start_time": "2021-07-24T18:45:39.130241",
     "status": "completed"
    },
    "tags": []
   },
   "outputs": [],
   "source": [
    "pay['LATE_PAYMENT'] = pay['DAYS_ENTRY_PAYMENT'] - pay['DAYS_INSTALMENT']\n",
    "pay['LATE_PAYMENT'] = pay['LATE_PAYMENT'].apply(lambda x: 1 if x > 0 else 0)\n",
    "dpd_id = pay[pay['LATE_PAYMENT'] > 0]['SK_ID_PREV'].unique()"
   ]
  },
  {
   "cell_type": "code",
   "execution_count": 40,
   "id": "ae622c80",
   "metadata": {
    "_cell_guid": "3d4606d5-6655-4ba6-a2f9-9661315e7c41",
    "_uuid": "a4523515-d2e4-4eb9-856b-dbdb7ac37fab",
    "collapsed": false,
    "execution": {
     "iopub.execute_input": "2021-07-24T18:45:50.091853Z",
     "iopub.status.busy": "2021-07-24T18:45:50.090830Z",
     "iopub.status.idle": "2021-07-24T18:45:51.131954Z",
     "shell.execute_reply": "2021-07-24T18:45:51.132622Z",
     "shell.execute_reply.started": "2021-07-24T18:06:01.350927Z"
    },
    "jupyter": {
     "outputs_hidden": false
    },
    "papermill": {
     "duration": 1.142503,
     "end_time": "2021-07-24T18:45:51.132864",
     "exception": false,
     "start_time": "2021-07-24T18:45:49.990361",
     "status": "completed"
    },
    "tags": []
   },
   "outputs": [
    {
     "data": {
      "text/plain": [
       "0"
      ]
     },
     "execution_count": 40,
     "metadata": {},
     "output_type": "execute_result"
    }
   ],
   "source": [
    "agg_dpd = group_and_merge(prev[prev['SK_ID_PREV'].isin(dpd_id)], agg_prev,\n",
    "                                    'PREV_LATE_', PREVIOUS_LATE_PAYMENTS_AGG)\n",
    "del agg_dpd, dpd_id; gc.collect()"
   ]
  },
  {
   "cell_type": "code",
   "execution_count": 41,
   "id": "e1cb75b0",
   "metadata": {
    "_cell_guid": "166c9ce2-a806-4476-86b2-64c60a6edf95",
    "_uuid": "1dc255fb-3f4f-4c44-8500-fb7c7002eb9c",
    "collapsed": false,
    "execution": {
     "iopub.execute_input": "2021-07-24T18:45:51.338189Z",
     "iopub.status.busy": "2021-07-24T18:45:51.337362Z",
     "iopub.status.idle": "2021-07-24T18:45:55.376222Z",
     "shell.execute_reply": "2021-07-24T18:45:55.375502Z",
     "shell.execute_reply.started": "2021-07-24T18:06:02.197352Z"
    },
    "jupyter": {
     "outputs_hidden": false
    },
    "papermill": {
     "duration": 4.144938,
     "end_time": "2021-07-24T18:45:55.376468",
     "exception": false,
     "start_time": "2021-07-24T18:45:51.231530",
     "status": "completed"
    },
    "tags": []
   },
   "outputs": [
    {
     "data": {
      "text/plain": [
       "0"
      ]
     },
     "execution_count": 41,
     "metadata": {},
     "output_type": "execute_result"
    }
   ],
   "source": [
    "for time_frame in [12, 24]:\n",
    "    time_frame_df = prev[prev['DAYS_DECISION'] >= -30*time_frame]\n",
    "    prefix = 'PREV_LAST{}M_'.format(time_frame)\n",
    "    agg_prev = group_and_merge(time_frame_df, agg_prev, prefix, PREVIOUS_TIME_AGG)\n",
    "    del time_frame_df; gc.collect()\n",
    "del prev; gc.collect()"
   ]
  },
  {
   "cell_type": "code",
   "execution_count": 42,
   "id": "24ae93b6",
   "metadata": {
    "_cell_guid": "3ff7d1ec-9a1f-4711-a00c-bf84c4272552",
    "_uuid": "959f89e8-7ad6-495e-b477-18ac366c1acc",
    "collapsed": false,
    "execution": {
     "iopub.execute_input": "2021-07-24T18:45:55.597219Z",
     "iopub.status.busy": "2021-07-24T18:45:55.596394Z",
     "iopub.status.idle": "2021-07-24T18:45:58.672317Z",
     "shell.execute_reply": "2021-07-24T18:45:58.671718Z",
     "shell.execute_reply.started": "2021-07-24T18:06:05.127149Z"
    },
    "jupyter": {
     "outputs_hidden": false
    },
    "papermill": {
     "duration": 3.191988,
     "end_time": "2021-07-24T18:45:58.672500",
     "exception": false,
     "start_time": "2021-07-24T18:45:55.480512",
     "status": "completed"
    },
    "tags": []
   },
   "outputs": [],
   "source": [
    "df = pd.merge(df, agg_prev, on='SK_ID_CURR', how='left')"
   ]
  },
  {
   "cell_type": "code",
   "execution_count": 43,
   "id": "48491447",
   "metadata": {
    "_cell_guid": "b68bf60a-1782-45be-a212-8348e049f62b",
    "_uuid": "cf14255b-4732-4190-ab77-1811fd0d6ed8",
    "collapsed": false,
    "execution": {
     "iopub.execute_input": "2021-07-24T18:45:58.840363Z",
     "iopub.status.busy": "2021-07-24T18:45:58.839283Z",
     "iopub.status.idle": "2021-07-24T18:46:01.047094Z",
     "shell.execute_reply": "2021-07-24T18:46:01.048358Z",
     "shell.execute_reply.started": "2021-07-24T18:06:07.466552Z"
    },
    "jupyter": {
     "outputs_hidden": false
    },
    "papermill": {
     "duration": 2.29555,
     "end_time": "2021-07-24T18:46:01.048780",
     "exception": false,
     "start_time": "2021-07-24T18:45:58.753230",
     "status": "completed"
    },
    "tags": []
   },
   "outputs": [
    {
     "data": {
      "text/plain": [
       "40"
      ]
     },
     "execution_count": 43,
     "metadata": {},
     "output_type": "execute_result"
    }
   ],
   "source": [
    "train = df[df['TARGET'].notnull()]\n",
    "test = df[df['TARGET'].isnull()]\n",
    "del df\n",
    "gc.collect()"
   ]
  },
  {
   "cell_type": "code",
   "execution_count": 44,
   "id": "50d43b86",
   "metadata": {
    "_cell_guid": "6372947f-d67f-47c9-a024-b13d56d2b049",
    "_uuid": "638a984b-7654-4e83-a3c2-de8fe787a3da",
    "collapsed": false,
    "execution": {
     "iopub.execute_input": "2021-07-24T18:46:01.300766Z",
     "iopub.status.busy": "2021-07-24T18:46:01.299678Z",
     "iopub.status.idle": "2021-07-24T18:46:01.768150Z",
     "shell.execute_reply": "2021-07-24T18:46:01.768984Z",
     "shell.execute_reply.started": "2021-07-24T18:06:09.051657Z"
    },
    "jupyter": {
     "outputs_hidden": false
    },
    "papermill": {
     "duration": 0.566578,
     "end_time": "2021-07-24T18:46:01.769218",
     "exception": false,
     "start_time": "2021-07-24T18:46:01.202640",
     "status": "completed"
    },
    "tags": []
   },
   "outputs": [],
   "source": [
    "labels = train['TARGET']\n",
    "train = train.drop(columns=['TARGET'])\n",
    "test = test.drop(columns=['TARGET'])"
   ]
  },
  {
   "cell_type": "code",
   "execution_count": 45,
   "id": "7b7481b9",
   "metadata": {
    "_cell_guid": "ce32fe55-20c1-4ec4-9bb9-73dd1512a751",
    "_uuid": "5d75ceaf-51d6-4b58-9c9b-51d1bad25c56",
    "collapsed": false,
    "execution": {
     "iopub.execute_input": "2021-07-24T18:46:01.963709Z",
     "iopub.status.busy": "2021-07-24T18:46:01.961216Z",
     "iopub.status.idle": "2021-07-24T18:46:03.145680Z",
     "shell.execute_reply": "2021-07-24T18:46:03.144967Z",
     "shell.execute_reply.started": "2021-07-24T18:06:09.425160Z"
    },
    "jupyter": {
     "outputs_hidden": false
    },
    "papermill": {
     "duration": 1.284189,
     "end_time": "2021-07-24T18:46:03.145847",
     "exception": false,
     "start_time": "2021-07-24T18:46:01.861658",
     "status": "completed"
    },
    "tags": []
   },
   "outputs": [],
   "source": [
    "feature = list(train.columns)\n",
    "\n",
    "train.replace([np.inf, -np.inf], np.nan, inplace=True)\n",
    "test.replace([np.inf, -np.inf], np.nan, inplace=True)\n",
    "test_df = test.copy()\n",
    "train_df = train.copy()\n",
    "train_df['TARGET'] = labels"
   ]
  },
  {
   "cell_type": "code",
   "execution_count": 46,
   "id": "5d6b0a00",
   "metadata": {
    "_cell_guid": "95e3db65-5b1d-4ffc-aca3-923ce4e10179",
    "_uuid": "753096fa-74c5-4ce3-9b75-18b80d73d0a2",
    "collapsed": false,
    "execution": {
     "iopub.execute_input": "2021-07-24T18:46:03.436226Z",
     "iopub.status.busy": "2021-07-24T18:46:03.434799Z",
     "iopub.status.idle": "2021-07-24T18:46:33.959969Z",
     "shell.execute_reply": "2021-07-24T18:46:33.959295Z",
     "shell.execute_reply.started": "2021-07-24T18:06:10.392957Z"
    },
    "jupyter": {
     "outputs_hidden": false
    },
    "papermill": {
     "duration": 30.722135,
     "end_time": "2021-07-24T18:46:33.960138",
     "exception": false,
     "start_time": "2021-07-24T18:46:03.238003",
     "status": "completed"
    },
    "tags": []
   },
   "outputs": [],
   "source": [
    "imputer = SimpleImputer(strategy = 'median')\n",
    "imputer.fit(train)\n",
    "train = imputer.transform(train)\n",
    "test = imputer.transform(test)"
   ]
  },
  {
   "cell_type": "code",
   "execution_count": 47,
   "id": "644d62ce",
   "metadata": {
    "_cell_guid": "d248236a-786f-4e5c-b689-7688c7fd1ad9",
    "_uuid": "935cd3d7-e052-4a23-a9a5-0f0a759ba2fe",
    "collapsed": false,
    "execution": {
     "iopub.execute_input": "2021-07-24T18:46:34.122806Z",
     "iopub.status.busy": "2021-07-24T18:46:34.122106Z",
     "iopub.status.idle": "2021-07-24T18:46:36.066574Z",
     "shell.execute_reply": "2021-07-24T18:46:36.065753Z",
     "shell.execute_reply.started": "2021-07-24T18:06:36.057119Z"
    },
    "jupyter": {
     "outputs_hidden": false
    },
    "papermill": {
     "duration": 2.028056,
     "end_time": "2021-07-24T18:46:36.066745",
     "exception": false,
     "start_time": "2021-07-24T18:46:34.038689",
     "status": "completed"
    },
    "tags": []
   },
   "outputs": [],
   "source": [
    "scaler = MinMaxScaler(feature_range = (0, 1))\n",
    "scaler.fit(train)\n",
    "train = scaler.transform(train)\n",
    "test = scaler.transform(test)"
   ]
  },
  {
   "cell_type": "code",
   "execution_count": 48,
   "id": "06a2666f",
   "metadata": {
    "_cell_guid": "4a6f32b6-72c2-4faf-91a2-96813d2cc177",
    "_uuid": "251bd51e-d9d3-42d9-b705-dadd8f59fda9",
    "collapsed": false,
    "execution": {
     "iopub.execute_input": "2021-07-24T18:46:36.233338Z",
     "iopub.status.busy": "2021-07-24T18:46:36.232634Z",
     "iopub.status.idle": "2021-07-24T18:46:50.189233Z",
     "shell.execute_reply": "2021-07-24T18:46:50.190112Z",
     "shell.execute_reply.started": "2021-07-24T18:06:37.245033Z"
    },
    "jupyter": {
     "outputs_hidden": false
    },
    "papermill": {
     "duration": 14.043354,
     "end_time": "2021-07-24T18:46:50.190439",
     "exception": false,
     "start_time": "2021-07-24T18:46:36.147085",
     "status": "completed"
    },
    "tags": []
   },
   "outputs": [
    {
     "data": {
      "text/plain": [
       "LogisticRegression(C=0.0001)"
      ]
     },
     "execution_count": 48,
     "metadata": {},
     "output_type": "execute_result"
    }
   ],
   "source": [
    "log_reg = LogisticRegression(C = 0.0001)\n",
    "log_reg.fit(train, labels)"
   ]
  },
  {
   "cell_type": "code",
   "execution_count": 49,
   "id": "4ecae7e8",
   "metadata": {
    "_cell_guid": "266a5008-66fe-4e9a-ab35-cc52c468af47",
    "_uuid": "42018554-4247-4df3-b41f-8cc2f4dbb9c3",
    "collapsed": false,
    "execution": {
     "iopub.execute_input": "2021-07-24T18:46:50.408947Z",
     "iopub.status.busy": "2021-07-24T18:46:50.408194Z",
     "iopub.status.idle": "2021-07-24T18:46:50.444190Z",
     "shell.execute_reply": "2021-07-24T18:46:50.445138Z",
     "shell.execute_reply.started": "2021-07-24T18:06:47.987259Z"
    },
    "jupyter": {
     "outputs_hidden": false
    },
    "papermill": {
     "duration": 0.125853,
     "end_time": "2021-07-24T18:46:50.445500",
     "exception": false,
     "start_time": "2021-07-24T18:46:50.319647",
     "status": "completed"
    },
    "tags": []
   },
   "outputs": [],
   "source": [
    "log_reg_pred = log_reg.predict_proba(test)[:, 1]"
   ]
  },
  {
   "cell_type": "code",
   "execution_count": 50,
   "id": "21f3b9c5",
   "metadata": {
    "_cell_guid": "37e668b3-31b1-4825-8543-e1f975f60f43",
    "_uuid": "0b27c5da-e3fd-41a7-8c34-239e53f51857",
    "collapsed": false,
    "execution": {
     "iopub.execute_input": "2021-07-24T18:46:50.667895Z",
     "iopub.status.busy": "2021-07-24T18:46:50.666940Z",
     "iopub.status.idle": "2021-07-24T18:46:50.670763Z",
     "shell.execute_reply": "2021-07-24T18:46:50.671282Z",
     "shell.execute_reply.started": "2021-07-24T18:06:48.060298Z"
    },
    "jupyter": {
     "outputs_hidden": false
    },
    "papermill": {
     "duration": 0.093428,
     "end_time": "2021-07-24T18:46:50.671502",
     "exception": false,
     "start_time": "2021-07-24T18:46:50.578074",
     "status": "completed"
    },
    "tags": []
   },
   "outputs": [
    {
     "name": "stderr",
     "output_type": "stream",
     "text": [
      "/opt/conda/lib/python3.7/site-packages/ipykernel_launcher.py:2: SettingWithCopyWarning: \n",
      "A value is trying to be set on a copy of a slice from a DataFrame.\n",
      "Try using .loc[row_indexer,col_indexer] = value instead\n",
      "\n",
      "See the caveats in the documentation: https://pandas.pydata.org/pandas-docs/stable/user_guide/indexing.html#returning-a-view-versus-a-copy\n",
      "  \n"
     ]
    }
   ],
   "source": [
    "submit = test_df[['SK_ID_CURR']]\n",
    "submit['TARGET'] = log_reg_pred"
   ]
  },
  {
   "cell_type": "code",
   "execution_count": 51,
   "id": "fe5bb543",
   "metadata": {
    "_cell_guid": "4495fce8-aa7f-4905-9dda-41452c1bb247",
    "_uuid": "8855a5ae-8130-4195-a17c-a5f2a482a997",
    "collapsed": false,
    "execution": {
     "iopub.execute_input": "2021-07-24T18:46:50.839402Z",
     "iopub.status.busy": "2021-07-24T18:46:50.838274Z",
     "iopub.status.idle": "2021-07-24T18:46:51.038089Z",
     "shell.execute_reply": "2021-07-24T18:46:51.037404Z",
     "shell.execute_reply.started": "2021-07-24T18:06:48.077324Z"
    },
    "jupyter": {
     "outputs_hidden": false
    },
    "papermill": {
     "duration": 0.286785,
     "end_time": "2021-07-24T18:46:51.038320",
     "exception": false,
     "start_time": "2021-07-24T18:46:50.751535",
     "status": "completed"
    },
    "tags": []
   },
   "outputs": [],
   "source": [
    "submit.to_csv('log_reg.csv', index = False)"
   ]
  },
  {
   "cell_type": "code",
   "execution_count": 52,
   "id": "2ea75ed5",
   "metadata": {
    "_cell_guid": "f2815244-3b2f-4c2e-8d2b-466809cd6ec8",
    "_uuid": "a79b24a8-6fbf-459c-9858-78edfff23ad3",
    "collapsed": false,
    "execution": {
     "iopub.execute_input": "2021-07-24T18:46:51.258858Z",
     "iopub.status.busy": "2021-07-24T18:46:51.257849Z",
     "iopub.status.idle": "2021-07-24T18:46:51.351816Z",
     "shell.execute_reply": "2021-07-24T18:46:51.351063Z",
     "shell.execute_reply.started": "2021-07-24T18:06:48.251394Z"
    },
    "jupyter": {
     "outputs_hidden": false
    },
    "papermill": {
     "duration": 0.212812,
     "end_time": "2021-07-24T18:46:51.351974",
     "exception": false,
     "start_time": "2021-07-24T18:46:51.139162",
     "status": "completed"
    },
    "tags": []
   },
   "outputs": [],
   "source": [
    "from sklearn.ensemble import RandomForestClassifier\n",
    "\n",
    "random_forest = RandomForestClassifier(n_estimators = 100, random_state = 50, verbose = 1, n_jobs = -1)"
   ]
  },
  {
   "cell_type": "code",
   "execution_count": 53,
   "id": "2e1d25df",
   "metadata": {
    "_cell_guid": "b5965701-e8b6-48ca-bc50-16c5a00678bd",
    "_uuid": "3ba9c25a-be1b-4958-a610-2d6ab61d0d2b",
    "collapsed": false,
    "execution": {
     "iopub.execute_input": "2021-07-24T18:46:51.547354Z",
     "iopub.status.busy": "2021-07-24T18:46:51.546297Z",
     "iopub.status.idle": "2021-07-24T18:52:48.273820Z",
     "shell.execute_reply": "2021-07-24T18:52:48.273229Z",
     "shell.execute_reply.started": "2021-07-24T18:06:48.305471Z"
    },
    "jupyter": {
     "outputs_hidden": false
    },
    "papermill": {
     "duration": 356.829303,
     "end_time": "2021-07-24T18:52:48.274036",
     "exception": false,
     "start_time": "2021-07-24T18:46:51.444733",
     "status": "completed"
    },
    "tags": []
   },
   "outputs": [
    {
     "name": "stderr",
     "output_type": "stream",
     "text": [
      "[Parallel(n_jobs=-1)]: Using backend ThreadingBackend with 4 concurrent workers.\n",
      "[Parallel(n_jobs=-1)]: Done  42 tasks      | elapsed:  2.6min\n",
      "[Parallel(n_jobs=-1)]: Done 100 out of 100 | elapsed:  5.9min finished\n",
      "[Parallel(n_jobs=4)]: Using backend ThreadingBackend with 4 concurrent workers.\n",
      "[Parallel(n_jobs=4)]: Done  42 tasks      | elapsed:    0.8s\n",
      "[Parallel(n_jobs=4)]: Done 100 out of 100 | elapsed:    1.9s finished\n"
     ]
    },
    {
     "data": {
      "text/plain": [
       "96"
      ]
     },
     "execution_count": 53,
     "metadata": {},
     "output_type": "execute_result"
    }
   ],
   "source": [
    "random_forest.fit(train, labels)\n",
    "\n",
    "feature_importance_values = random_forest.feature_importances_\n",
    "feature_importances = pd.DataFrame({'feature': feature, 'importance': feature_importance_values})\n",
    "\n",
    "predictions = random_forest.predict_proba(test)[:, 1]\n",
    "del train, test\n",
    "gc.collect()"
   ]
  },
  {
   "cell_type": "code",
   "execution_count": 54,
   "id": "aa6c1ee8",
   "metadata": {
    "_cell_guid": "db0043f0-cf65-48be-905a-1d1a4b7ce352",
    "_uuid": "f2e4f52b-62a7-40ba-bdc1-2e7d2150bd95",
    "collapsed": false,
    "execution": {
     "iopub.execute_input": "2021-07-24T18:52:48.445130Z",
     "iopub.status.busy": "2021-07-24T18:52:48.444101Z",
     "iopub.status.idle": "2021-07-24T18:52:48.753687Z",
     "shell.execute_reply": "2021-07-24T18:52:48.754149Z",
     "shell.execute_reply.started": "2021-07-24T18:11:57.237583Z"
    },
    "jupyter": {
     "outputs_hidden": false
    },
    "papermill": {
     "duration": 0.400047,
     "end_time": "2021-07-24T18:52:48.754364",
     "exception": false,
     "start_time": "2021-07-24T18:52:48.354317",
     "status": "completed"
    },
    "tags": []
   },
   "outputs": [
    {
     "name": "stderr",
     "output_type": "stream",
     "text": [
      "/opt/conda/lib/python3.7/site-packages/ipykernel_launcher.py:2: SettingWithCopyWarning: \n",
      "A value is trying to be set on a copy of a slice from a DataFrame.\n",
      "Try using .loc[row_indexer,col_indexer] = value instead\n",
      "\n",
      "See the caveats in the documentation: https://pandas.pydata.org/pandas-docs/stable/user_guide/indexing.html#returning-a-view-versus-a-copy\n",
      "  \n"
     ]
    },
    {
     "data": {
      "text/plain": [
       "20"
      ]
     },
     "execution_count": 54,
     "metadata": {},
     "output_type": "execute_result"
    }
   ],
   "source": [
    "submit = test_df[['SK_ID_CURR']]\n",
    "submit['TARGET'] = predictions\n",
    "del predictions\n",
    "submit.to_csv('random_forest.csv', index = False)\n",
    "del submit\n",
    "gc.collect()"
   ]
  },
  {
   "cell_type": "code",
   "execution_count": 55,
   "id": "726e7e83",
   "metadata": {
    "_cell_guid": "e55cc07d-2fa9-475b-be5b-9b953ea9e687",
    "_uuid": "e73a7c4b-5ae9-40a0-bc18-45883b33dd93",
    "collapsed": false,
    "execution": {
     "iopub.execute_input": "2021-07-24T18:52:48.949551Z",
     "iopub.status.busy": "2021-07-24T18:52:48.948709Z",
     "iopub.status.idle": "2021-07-24T18:52:50.248360Z",
     "shell.execute_reply": "2021-07-24T18:52:50.247771Z",
     "shell.execute_reply.started": "2021-07-24T18:11:57.482754Z"
    },
    "jupyter": {
     "outputs_hidden": false
    },
    "papermill": {
     "duration": 1.41026,
     "end_time": "2021-07-24T18:52:50.248576",
     "exception": false,
     "start_time": "2021-07-24T18:52:48.838316",
     "status": "completed"
    },
    "tags": []
   },
   "outputs": [
    {
     "data": {
      "text/html": [
       "<style type='text/css'>\n",
       ".datatable table.frame { margin-bottom: 0; }\n",
       ".datatable table.frame thead { border-bottom: none; }\n",
       ".datatable table.frame tr.coltypes td {  color: #FFFFFF;  line-height: 6px;  padding: 0 0.5em;}\n",
       ".datatable .bool    { background: #DDDD99; }\n",
       ".datatable .object  { background: #565656; }\n",
       ".datatable .int     { background: #5D9E5D; }\n",
       ".datatable .float   { background: #4040CC; }\n",
       ".datatable .str     { background: #CC4040; }\n",
       ".datatable .time    { background: #40CC40; }\n",
       ".datatable .row_index {  background: var(--jp-border-color3);  border-right: 1px solid var(--jp-border-color0);  color: var(--jp-ui-font-color3);  font-size: 9px;}\n",
       ".datatable .frame tbody td { text-align: left; }\n",
       ".datatable .frame tr.coltypes .row_index {  background: var(--jp-border-color0);}\n",
       ".datatable th:nth-child(2) { padding-left: 12px; }\n",
       ".datatable .hellipsis {  color: var(--jp-cell-editor-border-color);}\n",
       ".datatable .vellipsis {  background: var(--jp-layout-color0);  color: var(--jp-cell-editor-border-color);}\n",
       ".datatable .na {  color: var(--jp-cell-editor-border-color);  font-size: 80%;}\n",
       ".datatable .sp {  opacity: 0.25;}\n",
       ".datatable .footer { font-size: 9px; }\n",
       ".datatable .frame_dimensions {  background: var(--jp-border-color3);  border-top: 1px solid var(--jp-border-color0);  color: var(--jp-ui-font-color3);  display: inline-block;  opacity: 0.6;  padding: 1px 10px 1px 5px;}\n",
       "</style>\n"
      ],
      "text/plain": [
       "<IPython.core.display.HTML object>"
      ]
     },
     "metadata": {},
     "output_type": "display_data"
    }
   ],
   "source": [
    "from sklearn.model_selection import KFold\n",
    "from sklearn.metrics import roc_auc_score\n",
    "import lightgbm as lgb\n",
    "import gc\n",
    "\n",
    "# Ref: https://pranaysite.netlify.app/lightgbm/\n",
    "\n",
    "def model(features, test_features, encoding = 'ohe', n_folds = 5):\n",
    "    \n",
    "    \"\"\"Train and test a light gradient boosting model using\n",
    "    cross validation. \n",
    "    \n",
    "    Parameters\n",
    "    --------\n",
    "        features (pd.DataFrame): \n",
    "            dataframe of training features to use \n",
    "            for training a model. Must include the TARGET column.\n",
    "        test_features (pd.DataFrame): \n",
    "            dataframe of testing features to use\n",
    "            for making predictions with the model. \n",
    "        encoding (str, default = 'ohe'): \n",
    "            method for encoding categorical variables. Either 'ohe' for one-hot encoding or 'le' for integer label encoding\n",
    "            n_folds (int, default = 5): number of folds to use for cross validation\n",
    "        \n",
    "    Return\n",
    "    --------\n",
    "        submission (pd.DataFrame): \n",
    "            dataframe with `SK_ID_CURR` and `TARGET` probabilities\n",
    "            predicted by the model.\n",
    "        feature_importances (pd.DataFrame): \n",
    "            dataframe with the feature importances from the model.\n",
    "        valid_metrics (pd.DataFrame): \n",
    "            dataframe with training and validation metrics (ROC AUC) for each fold and overall.\n",
    "        \n",
    "    \"\"\"\n",
    "    \n",
    "    # Extract the ids\n",
    "    train_ids = features['SK_ID_CURR']\n",
    "    test_ids = test_features['SK_ID_CURR']\n",
    "    \n",
    "    # Extract the labels for training\n",
    "    labels = features['TARGET']\n",
    "    \n",
    "    # Remove the ids and target\n",
    "    features = features.drop(columns = ['SK_ID_CURR', 'TARGET'])\n",
    "    test_features = test_features.drop(columns = ['SK_ID_CURR'])\n",
    "    \n",
    "    \n",
    "    # One Hot Encoding\n",
    "    if encoding == 'ohe':\n",
    "        features = pd.get_dummies(features)\n",
    "        test_features = pd.get_dummies(test_features)\n",
    "        \n",
    "        # Align the dataframes by the columns\n",
    "        features, test_features = features.align(test_features, join = 'inner', axis = 1)\n",
    "        \n",
    "        # No categorical indices to record\n",
    "        cat_indices = 'auto'\n",
    "    \n",
    "    # Integer label encoding\n",
    "    elif encoding == 'le':\n",
    "        \n",
    "        # Create a label encoder\n",
    "        label_encoder = LabelEncoder()\n",
    "        \n",
    "        # List for storing categorical indices\n",
    "        cat_indices = []\n",
    "        \n",
    "        # Iterate through each column\n",
    "        for i, col in enumerate(features):\n",
    "            if features[col].dtype == 'object':\n",
    "                # Map the categorical features to integers\n",
    "                features[col] = label_encoder.fit_transform(np.array(features[col].astype(str)).reshape((-1,)))\n",
    "                test_features[col] = label_encoder.transform(np.array(test_features[col].astype(str)).reshape((-1,)))\n",
    "\n",
    "                # Record the categorical indices\n",
    "                cat_indices.append(i)\n",
    "    \n",
    "    # Catch error if label encoding scheme is not valid\n",
    "    else:\n",
    "        raise ValueError(\"Encoding must be either 'ohe' or 'le'\")\n",
    "        \n",
    "    print('Training Data Shape: ', features.shape)\n",
    "    print('Testing Data Shape: ', test_features.shape)\n",
    "    \n",
    "    # Extract feature names\n",
    "    feature_names = list(features.columns)\n",
    "    \n",
    "    # Convert to np arrays\n",
    "    features = np.array(features)\n",
    "    test_features = np.array(test_features)\n",
    "    \n",
    "    # Create the kfold object\n",
    "    k_fold = KFold(n_splits = n_folds, shuffle = True, random_state = 50)\n",
    "    \n",
    "    # Empty array for feature importances\n",
    "    feature_importance_values = np.zeros(len(feature_names))\n",
    "    \n",
    "    # Empty array for test predictions\n",
    "    test_predictions = np.zeros(test_features.shape[0])\n",
    "    \n",
    "    # Empty array for out of fold validation predictions\n",
    "    out_of_fold = np.zeros(features.shape[0])\n",
    "    \n",
    "    # Lists for recording validation and training scores\n",
    "    valid_scores = []\n",
    "    train_scores = []\n",
    "    \n",
    "    # Iterate through each fold\n",
    "    for train_indices, valid_indices in k_fold.split(features):\n",
    "        \n",
    "        # Training data for the fold\n",
    "        train_features, train_labels = features[train_indices], labels[train_indices]\n",
    "        # Validation data for the fold\n",
    "        valid_features, valid_labels = features[valid_indices], labels[valid_indices]\n",
    "        \n",
    "        # Create the model\n",
    "        model = lgb.LGBMClassifier(n_estimators=10000, objective = 'binary', \n",
    "                                   class_weight = 'balanced', learning_rate = 0.05, \n",
    "                                   reg_alpha = 0.1, reg_lambda = 0.1, \n",
    "                                   subsample = 0.8, n_jobs = -1, random_state = 50)\n",
    "        \n",
    "        # Train the model\n",
    "        model.fit(train_features, train_labels, eval_metric = 'auc',\n",
    "                  eval_set = [(valid_features, valid_labels), (train_features, train_labels)],\n",
    "                  eval_names = ['valid', 'train'], categorical_feature = cat_indices,\n",
    "                  early_stopping_rounds = 100, verbose = 200)\n",
    "        \n",
    "        # Record the best iteration\n",
    "        best_iteration = model.best_iteration_\n",
    "        \n",
    "        # Record the feature importances\n",
    "        feature_importance_values += model.feature_importances_ / k_fold.n_splits\n",
    "        \n",
    "        # Make predictions\n",
    "        test_predictions += model.predict_proba(test_features, num_iteration = best_iteration)[:, 1] / k_fold.n_splits\n",
    "        \n",
    "        # Record the out of fold predictions\n",
    "        out_of_fold[valid_indices] = model.predict_proba(valid_features, num_iteration = best_iteration)[:, 1]\n",
    "        \n",
    "        # Record the best score\n",
    "        valid_score = model.best_score_['valid']['auc']\n",
    "        train_score = model.best_score_['train']['auc']\n",
    "        \n",
    "        valid_scores.append(valid_score)\n",
    "        train_scores.append(train_score)\n",
    "        \n",
    "        # Clean up memory\n",
    "        gc.enable()\n",
    "        del model, train_features, valid_features\n",
    "        gc.collect()\n",
    "        \n",
    "    # Make the submission dataframe\n",
    "    submission = pd.DataFrame({'SK_ID_CURR': test_ids, 'TARGET': test_predictions})\n",
    "    \n",
    "    # Make the feature importance dataframe\n",
    "    feature_importances = pd.DataFrame({'feature': feature_names, 'importance': feature_importance_values})\n",
    "    \n",
    "    # Overall validation score\n",
    "    valid_auc = roc_auc_score(labels, out_of_fold)\n",
    "    \n",
    "    # Add the overall scores to the metrics\n",
    "    valid_scores.append(valid_auc)\n",
    "    train_scores.append(np.mean(train_scores))\n",
    "    \n",
    "    # Needed for creating dataframe of validation scores\n",
    "    fold_names = list(range(n_folds))\n",
    "    fold_names.append('overall')\n",
    "    \n",
    "    # Dataframe of validation scores\n",
    "    metrics = pd.DataFrame({'fold': fold_names,\n",
    "                            'train': train_scores,\n",
    "                            'valid': valid_scores}) \n",
    "    \n",
    "    return submission, feature_importances, metrics"
   ]
  },
  {
   "cell_type": "code",
   "execution_count": 56,
   "id": "8c7d7b81",
   "metadata": {
    "_cell_guid": "9559abb8-18e3-460d-9808-87adb8c3720c",
    "_uuid": "80744606-c038-46a6-8231-49b65f906031",
    "collapsed": false,
    "execution": {
     "iopub.execute_input": "2021-07-24T18:52:50.429726Z",
     "iopub.status.busy": "2021-07-24T18:52:50.428269Z",
     "iopub.status.idle": "2021-07-24T19:06:39.392754Z",
     "shell.execute_reply": "2021-07-24T19:06:39.393822Z",
     "shell.execute_reply.started": "2021-07-24T18:11:58.667341Z"
    },
    "jupyter": {
     "outputs_hidden": false
    },
    "papermill": {
     "duration": 829.058739,
     "end_time": "2021-07-24T19:06:39.394061",
     "exception": false,
     "start_time": "2021-07-24T18:52:50.335322",
     "status": "completed"
    },
    "tags": []
   },
   "outputs": [
    {
     "name": "stdout",
     "output_type": "stream",
     "text": [
      "Training Data Shape:  (307506, 460)\n",
      "Testing Data Shape:  (48744, 460)\n",
      "Training until validation scores don't improve for 100 rounds\n",
      "[200]\ttrain's auc: 0.836379\ttrain's binary_logloss: 0.507279\tvalid's auc: 0.786856\tvalid's binary_logloss: 0.527756\n",
      "[400]\ttrain's auc: 0.874226\ttrain's binary_logloss: 0.463384\tvalid's auc: 0.787999\tvalid's binary_logloss: 0.500531\n",
      "Early stopping, best iteration is:\n",
      "[305]\ttrain's auc: 0.857886\ttrain's binary_logloss: 0.48237\tvalid's auc: 0.788266\tvalid's binary_logloss: 0.512372\n",
      "Training until validation scores don't improve for 100 rounds\n",
      "[200]\ttrain's auc: 0.835379\ttrain's binary_logloss: 0.508331\tvalid's auc: 0.789952\tvalid's binary_logloss: 0.528545\n",
      "[400]\ttrain's auc: 0.8731\ttrain's binary_logloss: 0.465202\tvalid's auc: 0.79124\tvalid's binary_logloss: 0.501622\n",
      "Early stopping, best iteration is:\n",
      "[377]\ttrain's auc: 0.869377\ttrain's binary_logloss: 0.469522\tvalid's auc: 0.791432\tvalid's binary_logloss: 0.504252\n",
      "Training until validation scores don't improve for 100 rounds\n",
      "[200]\ttrain's auc: 0.836487\ttrain's binary_logloss: 0.506803\tvalid's auc: 0.783348\tvalid's binary_logloss: 0.529834\n",
      "[400]\ttrain's auc: 0.874159\ttrain's binary_logloss: 0.463502\tvalid's auc: 0.785505\tvalid's binary_logloss: 0.502069\n",
      "Early stopping, best iteration is:\n",
      "[433]\ttrain's auc: 0.879086\ttrain's binary_logloss: 0.457549\tvalid's auc: 0.785761\tvalid's binary_logloss: 0.498237\n",
      "Training until validation scores don't improve for 100 rounds\n",
      "[200]\ttrain's auc: 0.835932\ttrain's binary_logloss: 0.507697\tvalid's auc: 0.7887\tvalid's binary_logloss: 0.530501\n",
      "[400]\ttrain's auc: 0.873814\ttrain's binary_logloss: 0.464275\tvalid's auc: 0.788913\tvalid's binary_logloss: 0.503678\n",
      "Early stopping, best iteration is:\n",
      "[322]\ttrain's auc: 0.860334\ttrain's binary_logloss: 0.479871\tvalid's auc: 0.78941\tvalid's binary_logloss: 0.513195\n",
      "Training until validation scores don't improve for 100 rounds\n",
      "[200]\ttrain's auc: 0.837273\ttrain's binary_logloss: 0.50579\tvalid's auc: 0.782641\tvalid's binary_logloss: 0.529836\n",
      "[400]\ttrain's auc: 0.874976\ttrain's binary_logloss: 0.46222\tvalid's auc: 0.78458\tvalid's binary_logloss: 0.50229\n",
      "Early stopping, best iteration is:\n",
      "[374]\ttrain's auc: 0.871029\ttrain's binary_logloss: 0.466899\tvalid's auc: 0.784664\tvalid's binary_logloss: 0.505295\n",
      "LightGBM metrics\n",
      "      fold     train     valid\n",
      "0        0  0.857886  0.788266\n",
      "1        1  0.869377  0.791432\n",
      "2        2  0.879086  0.785761\n",
      "3        3  0.860334  0.789410\n",
      "4        4  0.871029  0.784664\n",
      "5  overall  0.867542  0.787827\n"
     ]
    }
   ],
   "source": [
    "submission, fi, metrics = model(train_df, test_df)\n",
    "print('LightGBM metrics')\n",
    "print(metrics)"
   ]
  },
  {
   "cell_type": "code",
   "execution_count": 57,
   "id": "bf204a36",
   "metadata": {
    "_cell_guid": "883e6551-6529-4de2-99bf-6e454428f031",
    "_uuid": "0cf31999-19c5-4bb1-8368-5a880072e545",
    "collapsed": false,
    "execution": {
     "iopub.execute_input": "2021-07-24T19:06:39.606806Z",
     "iopub.status.busy": "2021-07-24T19:06:39.606000Z",
     "iopub.status.idle": "2021-07-24T19:06:39.609891Z",
     "shell.execute_reply": "2021-07-24T19:06:39.608818Z",
     "shell.execute_reply.started": "2021-07-24T18:23:17.147751Z"
    },
    "jupyter": {
     "outputs_hidden": false
    },
    "papermill": {
     "duration": 0.116649,
     "end_time": "2021-07-24T19:06:39.610108",
     "exception": false,
     "start_time": "2021-07-24T19:06:39.493459",
     "status": "completed"
    },
    "tags": []
   },
   "outputs": [],
   "source": [
    "def plot_feature_importances(df):\n",
    "    \"\"\"\n",
    "    Plot importances returned by a model. This can work with any measure of\n",
    "    feature importance provided that higher importance is better. \n",
    "    \n",
    "    Args:\n",
    "        df (dataframe): feature importances. Must have the features in a column\n",
    "        called `features` and the importances in a column called `importance\n",
    "        \n",
    "    Returns:\n",
    "        shows a plot of the 15 most importance features\n",
    "        \n",
    "        df (dataframe): feature importances sorted by importance (highest to lowest) \n",
    "        with a column for normalized importance\n",
    "        \"\"\"\n",
    "    \n",
    "    # Sort features according to importance\n",
    "    df = df.sort_values('importance', ascending = False).reset_index()\n",
    "    \n",
    "    # Normalize the feature importances to add up to one\n",
    "    df['importance_normalized'] = df['importance'] / df['importance'].sum()\n",
    "\n",
    "    # Make a horizontal bar chart of feature importances\n",
    "    plt.figure(figsize = (10, 6))\n",
    "    ax = plt.subplot()\n",
    "    \n",
    "    # Need to reverse the index to plot most important on top\n",
    "    ax.barh(list(reversed(list(df.index[:15]))), \n",
    "            df['importance_normalized'].head(15), \n",
    "            align = 'center', edgecolor = 'k')\n",
    "    \n",
    "    # Set the yticks and labels\n",
    "    ax.set_yticks(list(reversed(list(df.index[:15]))))\n",
    "    ax.set_yticklabels(df['feature'].head(15))\n",
    "    \n",
    "    # Plot labeling\n",
    "    plt.xlabel('Normalized Importance'); plt.title('Feature Importances')\n",
    "    plt.show()\n",
    "    \n",
    "    return df"
   ]
  },
  {
   "cell_type": "code",
   "execution_count": 58,
   "id": "2ba820e1",
   "metadata": {
    "_cell_guid": "826e2e07-0b1a-481f-b771-7ba6e304533d",
    "_uuid": "70eb1033-13df-4038-911b-515953141a31",
    "collapsed": false,
    "execution": {
     "iopub.execute_input": "2021-07-24T19:06:39.834395Z",
     "iopub.status.busy": "2021-07-24T19:06:39.813964Z",
     "iopub.status.idle": "2021-07-24T19:06:40.102140Z",
     "shell.execute_reply": "2021-07-24T19:06:40.101405Z",
     "shell.execute_reply.started": "2021-07-24T18:23:17.158578Z"
    },
    "jupyter": {
     "outputs_hidden": false
    },
    "papermill": {
     "duration": 0.392958,
     "end_time": "2021-07-24T19:06:40.102317",
     "exception": false,
     "start_time": "2021-07-24T19:06:39.709359",
     "status": "completed"
    },
    "tags": []
   },
   "outputs": [
    {
     "data": {
      "image/png": "[encoded data removed]",
      "text/plain": [
       "<Figure size 720x432 with 1 Axes>"
      ]
     },
     "metadata": {
      "needs_background": "light"
     },
     "output_type": "display_data"
    }
   ],
   "source": [
    "fi_sorted = plot_feature_importances(fi)"
   ]
  },
  {
   "cell_type": "code",
   "execution_count": 59,
   "id": "0c759d33",
   "metadata": {
    "_cell_guid": "0ef6a155-1419-4c7a-b57b-d56cd212351b",
    "_uuid": "18eb9930-b06b-4734-9142-97cd7cccbe87",
    "collapsed": false,
    "execution": {
     "iopub.execute_input": "2021-07-24T19:06:40.314257Z",
     "iopub.status.busy": "2021-07-24T19:06:40.313091Z",
     "iopub.status.idle": "2021-07-24T19:06:40.857879Z",
     "shell.execute_reply": "2021-07-24T19:06:40.860024Z",
     "shell.execute_reply.started": "2021-07-24T18:23:17.407564Z"
    },
    "jupyter": {
     "outputs_hidden": false
    },
    "papermill": {
     "duration": 0.658133,
     "end_time": "2021-07-24T19:06:40.860844",
     "exception": false,
     "start_time": "2021-07-24T19:06:40.202711",
     "status": "completed"
    },
    "tags": []
   },
   "outputs": [
    {
     "data": {
      "text/plain": [
       "4290"
      ]
     },
     "execution_count": 59,
     "metadata": {},
     "output_type": "execute_result"
    }
   ],
   "source": [
    "submission.to_csv('lgb.csv', index = False)\n",
    "del submission, fi, fi_sorted, metrics\n",
    "gc.collect()"
   ]
  },
  {
   "cell_type": "code",
   "execution_count": 60,
   "id": "e544adc0",
   "metadata": {
    "_cell_guid": "2fa11f0e-b21e-40c6-a07f-eb95aa4c68b2",
    "_uuid": "5d7c2bd3-6234-4afa-824a-fe545d9b991b",
    "collapsed": false,
    "execution": {
     "iopub.execute_input": "2021-07-24T19:06:41.433884Z",
     "iopub.status.busy": "2021-07-24T19:06:41.432073Z",
     "iopub.status.idle": "2021-07-24T19:06:44.160628Z",
     "shell.execute_reply": "2021-07-24T19:06:44.159725Z",
     "shell.execute_reply.started": "2021-07-24T18:23:17.704885Z"
    },
    "jupyter": {
     "outputs_hidden": false
    },
    "papermill": {
     "duration": 3.004927,
     "end_time": "2021-07-24T19:06:44.160824",
     "exception": false,
     "start_time": "2021-07-24T19:06:41.155897",
     "status": "completed"
    },
    "tags": []
   },
   "outputs": [
    {
     "data": {
      "text/plain": [
       "20"
      ]
     },
     "execution_count": 60,
     "metadata": {},
     "output_type": "execute_result"
    }
   ],
   "source": [
    "train_values = labels\n",
    "train_id = train_df['SK_ID_CURR']\n",
    "test_id = test_df['SK_ID_CURR']\n",
    "\n",
    "train_df_xg = train_df.copy()\n",
    "test_df_xg = test_df.copy()\n",
    "\n",
    "train_df_xg.drop('SK_ID_CURR', inplace=True, axis=1)\n",
    "test_df_xg.drop('SK_ID_CURR', inplace=True, axis=1)\n",
    "\n",
    "train_df_xg, test_df_xg = train_df_xg.align(test_df_xg, join = 'inner', axis = 1)\n",
    "\n",
    "ratio = (train_values == 0).sum()/ (train_values == 1).sum()\n",
    "del train_df, test_df\n",
    "gc.collect()"
   ]
  },
  {
   "cell_type": "code",
   "execution_count": 61,
   "id": "341a2b57",
   "metadata": {
    "_cell_guid": "57bda082-c7f7-41ac-8436-3148d553651a",
    "_uuid": "86fecdea-6c63-4582-bdcd-ce64cdef2994",
    "collapsed": false,
    "execution": {
     "iopub.execute_input": "2021-07-24T19:06:44.460961Z",
     "iopub.status.busy": "2021-07-24T19:06:44.459286Z",
     "iopub.status.idle": "2021-07-24T19:06:46.509876Z",
     "shell.execute_reply": "2021-07-24T19:06:46.508232Z",
     "shell.execute_reply.started": "2021-07-24T18:23:19.064757Z"
    },
    "jupyter": {
     "outputs_hidden": false
    },
    "papermill": {
     "duration": 2.195519,
     "end_time": "2021-07-24T19:06:46.510087",
     "exception": false,
     "start_time": "2021-07-24T19:06:44.314568",
     "status": "completed"
    },
    "tags": []
   },
   "outputs": [],
   "source": [
    "X_train, X_test, y_train, y_test = train_test_split(train_df_xg, train_values, test_size=0.2, stratify=train_values, random_state=1)"
   ]
  },
  {
   "cell_type": "code",
   "execution_count": 62,
   "id": "cfbc5b9d",
   "metadata": {
    "_cell_guid": "f444ee88-e034-4781-af63-0dd6f38e0d4a",
    "_uuid": "5d27cab4-a06e-4fae-af3e-6ae90dbe3607",
    "collapsed": false,
    "execution": {
     "iopub.execute_input": "2021-07-24T19:06:46.746080Z",
     "iopub.status.busy": "2021-07-24T19:06:46.745303Z",
     "iopub.status.idle": "2021-07-24T19:09:59.679580Z",
     "shell.execute_reply": "2021-07-24T19:09:59.680092Z",
     "shell.execute_reply.started": "2021-07-24T18:23:20.271501Z"
    },
    "jupyter": {
     "outputs_hidden": false
    },
    "papermill": {
     "duration": 193.037202,
     "end_time": "2021-07-24T19:09:59.680287",
     "exception": false,
     "start_time": "2021-07-24T19:06:46.643085",
     "status": "completed"
    },
    "tags": []
   },
   "outputs": [
    {
     "name": "stderr",
     "output_type": "stream",
     "text": [
      "/opt/conda/lib/python3.7/site-packages/xgboost/sklearn.py:1146: UserWarning: The use of label encoder in XGBClassifier is deprecated and will be removed in a future release. To remove this warning, do the following: 1) Pass option use_label_encoder=False when constructing XGBClassifier object; and 2) Encode your labels (y) as integers starting with 0, i.e. 0, 1, 2, ..., [num_class - 1].\n",
      "  warnings.warn(label_encoder_deprecation_msg, UserWarning)\n"
     ]
    },
    {
     "name": "stdout",
     "output_type": "stream",
     "text": [
      "[0]\tvalidation_0-auc:0.72084\n",
      "[1]\tvalidation_0-auc:0.73276\n",
      "[2]\tvalidation_0-auc:0.73861\n",
      "[3]\tvalidation_0-auc:0.74296\n",
      "[4]\tvalidation_0-auc:0.74567\n",
      "[5]\tvalidation_0-auc:0.74843\n",
      "[6]\tvalidation_0-auc:0.74927\n",
      "[7]\tvalidation_0-auc:0.75232\n",
      "[8]\tvalidation_0-auc:0.75474\n",
      "[9]\tvalidation_0-auc:0.75590\n",
      "[10]\tvalidation_0-auc:0.75751\n",
      "[11]\tvalidation_0-auc:0.75852\n",
      "[12]\tvalidation_0-auc:0.76071\n",
      "[13]\tvalidation_0-auc:0.76143\n",
      "[14]\tvalidation_0-auc:0.76229\n",
      "[15]\tvalidation_0-auc:0.76218\n",
      "[16]\tvalidation_0-auc:0.76290\n",
      "[17]\tvalidation_0-auc:0.76352\n",
      "[18]\tvalidation_0-auc:0.76387\n",
      "[19]\tvalidation_0-auc:0.76373\n",
      "[20]\tvalidation_0-auc:0.76355\n",
      "[21]\tvalidation_0-auc:0.76290\n",
      "[22]\tvalidation_0-auc:0.76321\n",
      "[23]\tvalidation_0-auc:0.76354\n",
      "[24]\tvalidation_0-auc:0.76308\n",
      "[25]\tvalidation_0-auc:0.76282\n",
      "[26]\tvalidation_0-auc:0.76276\n",
      "[27]\tvalidation_0-auc:0.76333\n"
     ]
    },
    {
     "data": {
      "text/plain": [
       "XGBClassifier(base_score=0.5, booster='gbtree', colsample_bylevel=1,\n",
       "              colsample_bynode=1, colsample_bytree=1, gamma=0.098, gpu_id=-1,\n",
       "              importance_type='gain', interaction_constraints='',\n",
       "              learning_rate=0.300000012, max_delta_step=0, max_depth=6,\n",
       "              min_child_weight=1, missing=nan, monotone_constraints='()',\n",
       "              n_estimators=1200, n_jobs=4, num_parallel_tree=1, random_state=0,\n",
       "              reg_alpha=0, reg_lambda=1, scale_pos_weight=11.387447631324525,\n",
       "              subsample=0.5, tree_method='exact', validate_parameters=1,\n",
       "              verbosity=None)"
      ]
     },
     "execution_count": 62,
     "metadata": {},
     "output_type": "execute_result"
    }
   ],
   "source": [
    "clf = XGBClassifier(n_estimators=1200, objective='binary:logistic', gamma=0.098, subsample=0.5, scale_pos_weight=ratio )\n",
    "clf.fit(X_train, y_train, eval_set=[(X_test, y_test)], eval_metric='auc', early_stopping_rounds=10)"
   ]
  },
  {
   "cell_type": "code",
   "execution_count": 63,
   "id": "c5793d2a",
   "metadata": {
    "_cell_guid": "a054c6c1-d5f6-476e-b170-30780bc01725",
    "_uuid": "6ed09191-ae93-4a0d-916e-f943cd43ec13",
    "collapsed": false,
    "execution": {
     "iopub.execute_input": "2021-07-24T19:09:59.885776Z",
     "iopub.status.busy": "2021-07-24T19:09:59.884788Z",
     "iopub.status.idle": "2021-07-24T19:10:00.242807Z",
     "shell.execute_reply": "2021-07-24T19:10:00.243344Z",
     "shell.execute_reply.started": "2021-07-24T18:26:09.943576Z"
    },
    "jupyter": {
     "outputs_hidden": false
    },
    "papermill": {
     "duration": 0.462622,
     "end_time": "2021-07-24T19:10:00.243563",
     "exception": false,
     "start_time": "2021-07-24T19:09:59.780941",
     "status": "completed"
    },
    "tags": []
   },
   "outputs": [],
   "source": [
    "predictions = clf.predict_proba(test_df_xg.values)[:, 1]\n",
    "submission = pd.DataFrame({'SK_ID_CURR': test_id.values, 'TARGET': predictions})\n",
    "submission.to_csv('xgboost.csv', index = False)"
   ]
  },
  {
   "cell_type": "code",
   "execution_count": 64,
   "id": "32d37c06",
   "metadata": {
    "_cell_guid": "943e7597-c2c6-4e7c-9706-72281eb796af",
    "_uuid": "fea6350a-8082-4f7e-bb5e-6ba3e7db4498",
    "collapsed": false,
    "execution": {
     "iopub.execute_input": "2021-07-24T19:10:00.447389Z",
     "iopub.status.busy": "2021-07-24T19:10:00.446362Z",
     "iopub.status.idle": "2021-07-24T19:10:00.463563Z",
     "shell.execute_reply": "2021-07-24T19:10:00.464099Z",
     "shell.execute_reply.started": "2021-07-24T18:26:10.228655Z"
    },
    "jupyter": {
     "outputs_hidden": false
    },
    "papermill": {
     "duration": 0.120678,
     "end_time": "2021-07-24T19:10:00.464312",
     "exception": false,
     "start_time": "2021-07-24T19:10:00.343634",
     "status": "completed"
    },
    "tags": []
   },
   "outputs": [],
   "source": [
    "def display_roc_curve(y_, oof_preds_, folds_idx_):\n",
    "    # Plot ROC curves\n",
    "    plt.figure(figsize=(6,6))\n",
    "    scores = [] \n",
    "    for n_fold, (_, val_idx) in enumerate(folds_idx_):  \n",
    "        # Plot the roc curve\n",
    "        fpr, tpr, thresholds = roc_curve(y_.iloc[val_idx], oof_preds_[val_idx])\n",
    "        score = roc_auc_score(y_.iloc[val_idx], oof_preds_[val_idx])\n",
    "        scores.append(score)\n",
    "        plt.plot(fpr, tpr, lw=1, alpha=0.3, label='ROC fold %d (AUC = %0.4f)' % (n_fold + 1, score))\n",
    "    \n",
    "    plt.plot([0, 1], [0, 1], linestyle='--', lw=2, color='r', label='Luck', alpha=.8)\n",
    "    fpr, tpr, thresholds = roc_curve(y_, oof_preds_)\n",
    "    score = roc_auc_score(y_, oof_preds_)\n",
    "    plt.plot(fpr, tpr, color='b',\n",
    "             label='Avg ROC (AUC = %0.4f $\\pm$ %0.4f)' % (score, np.std(scores)),\n",
    "             lw=2, alpha=.8)\n",
    "    \n",
    "    plt.xlim([-0.05, 1.05])\n",
    "    plt.ylim([-0.05, 1.05])\n",
    "    plt.xlabel('False Positive Rate')\n",
    "    plt.ylabel('True Positive Rate')\n",
    "    plt.title('Embedding Neural Network ROC Curve')\n",
    "    plt.legend(loc=\"lower right\")\n",
    "    plt.tight_layout()\n",
    "    plt.show()\n",
    "    \n",
    "def display_precision_recall(y_, oof_preds_, folds_idx_):\n",
    "    # Plot ROC curves\n",
    "    plt.figure(figsize=(6,6))\n",
    "    \n",
    "    scores = [] \n",
    "    for n_fold, (_, val_idx) in enumerate(folds_idx_):  \n",
    "        # Plot the roc curve\n",
    "        fpr, tpr, thresholds = roc_curve(y_.iloc[val_idx], oof_preds_[val_idx])\n",
    "        score = average_precision_score(y_.iloc[val_idx], oof_preds_[val_idx])\n",
    "        scores.append(score)\n",
    "        plt.plot(fpr, tpr, lw=1, alpha=0.3, label='AP fold %d (AUC = %0.4f)' % (n_fold + 1, score))\n",
    "    \n",
    "    precision, recall, thresholds = precision_recall_curve(y_, oof_preds_)\n",
    "    score = average_precision_score(y_, oof_preds_)\n",
    "    plt.plot(precision, recall, color='b',\n",
    "             label='Avg ROC (AUC = %0.4f $\\pm$ %0.4f)' % (score, np.std(scores)),\n",
    "             lw=2, alpha=.8)\n",
    "    \n",
    "    plt.xlim([-0.05, 1.05])\n",
    "    plt.ylim([-0.05, 1.05])\n",
    "    plt.xlabel('Recall')\n",
    "    plt.ylabel('Precision')\n",
    "    plt.title('Embedding Neural Network Recall / Precision')\n",
    "    plt.legend(loc=\"best\")\n",
    "    plt.tight_layout()\n",
    "    \n",
    "    plt.show()"
   ]
  },
  {
   "cell_type": "code",
   "execution_count": 65,
   "id": "5bdfa270",
   "metadata": {
    "_cell_guid": "a6a86220-4b5e-4e35-9430-baa7adfa223f",
    "_uuid": "bce583e9-be00-455f-8384-bdbb02c37f83",
    "collapsed": false,
    "execution": {
     "iopub.execute_input": "2021-07-24T19:10:00.694467Z",
     "iopub.status.busy": "2021-07-24T19:10:00.693596Z",
     "iopub.status.idle": "2021-07-24T19:10:00.696724Z",
     "shell.execute_reply": "2021-07-24T19:10:00.696204Z",
     "shell.execute_reply.started": "2021-07-24T18:26:10.244210Z"
    },
    "jupyter": {
     "outputs_hidden": false
    },
    "papermill": {
     "duration": 0.131264,
     "end_time": "2021-07-24T19:10:00.696896",
     "exception": false,
     "start_time": "2021-07-24T19:10:00.565632",
     "status": "completed"
    },
    "tags": []
   },
   "outputs": [],
   "source": [
    "def preprocessing(input_dir, debug=False):\n",
    "    # No target encoding\n",
    "    num_rows = 10000 if debug else None\n",
    "    \n",
    "    print('Preprocessing started.')\n",
    "    print('Bureau_Balance')\n",
    "    buro_bal = pd.read_csv(input_dir + 'bureau_balance.csv', nrows=num_rows)\n",
    "    \n",
    "    buro_counts = buro_bal[['SK_ID_BUREAU', 'MONTHS_BALANCE']].groupby('SK_ID_BUREAU').count()\n",
    "    buro_bal['buro_count'] = buro_bal['SK_ID_BUREAU'].map(buro_counts['MONTHS_BALANCE'])\n",
    "    \n",
    "    avg_buro_bal = buro_bal.groupby('SK_ID_BUREAU').mean()\n",
    "    \n",
    "    avg_buro_bal.columns = ['avg_buro_' + f_ for f_ in avg_buro_bal.columns]\n",
    "    del buro_bal\n",
    "    gc.collect()\n",
    "    \n",
    "    print('Bureau')\n",
    "    buro_full = pd.read_csv(input_dir + 'bureau.csv', nrows=num_rows)\n",
    "\n",
    "    gc.collect()\n",
    "    \n",
    "    buro_full = buro_full.merge(right=avg_buro_bal.reset_index(), how='left', on='SK_ID_BUREAU', suffixes=('', '_bur_bal'))\n",
    "    \n",
    "    nb_bureau_per_curr = buro_full[['SK_ID_CURR', 'SK_ID_BUREAU']].groupby('SK_ID_CURR').count()\n",
    "    buro_full['SK_ID_BUREAU'] = buro_full['SK_ID_CURR'].map(nb_bureau_per_curr['SK_ID_BUREAU'])\n",
    "    \n",
    "    avg_buro = buro_full.groupby('SK_ID_CURR').mean()\n",
    "    \n",
    "    del buro_full\n",
    "    gc.collect()\n",
    "    \n",
    "    print('Previous_Application')\n",
    "    prev = pd.read_csv(input_dir + 'previous_application.csv', nrows=num_rows)\n",
    "    \n",
    "    prev_cat_features = [\n",
    "        f_ for f_ in prev.columns if prev[f_].dtype == 'object'\n",
    "    ]\n",
    "    \n",
    "    \n",
    "    nb_prev_per_curr = prev[['SK_ID_CURR', 'SK_ID_PREV']].groupby('SK_ID_CURR').count()\n",
    "    prev['SK_ID_PREV'] = prev['SK_ID_CURR'].map(nb_prev_per_curr['SK_ID_PREV'])\n",
    "    \n",
    "    avg_prev = prev.groupby('SK_ID_CURR').mean()\n",
    "    del prev\n",
    "    gc.collect()\n",
    "    \n",
    "    print('POS_CASH_Balance')\n",
    "    pos = pd.read_csv(input_dir + 'POS_CASH_balance.csv', nrows=num_rows)\n",
    "    \n",
    "    \n",
    "    nb_prevs = pos[['SK_ID_CURR', 'SK_ID_PREV']].groupby('SK_ID_CURR').count()\n",
    "    pos['SK_ID_PREV'] = pos['SK_ID_CURR'].map(nb_prevs['SK_ID_PREV'])\n",
    "    \n",
    "    avg_pos = pos.groupby('SK_ID_CURR').mean()\n",
    "    \n",
    "    del pos, nb_prevs\n",
    "    gc.collect()\n",
    "    \n",
    "    print('Credit_Card_Balance')\n",
    "    cc_bal = pd.read_csv(input_dir + 'credit_card_balance.csv', nrows=num_rows)\n",
    "\n",
    "    nb_prevs = cc_bal[['SK_ID_CURR', 'SK_ID_PREV']].groupby('SK_ID_CURR').count()\n",
    "    cc_bal['SK_ID_PREV'] = cc_bal['SK_ID_CURR'].map(nb_prevs['SK_ID_PREV'])\n",
    "    \n",
    "    avg_cc_bal = cc_bal.groupby('SK_ID_CURR').mean()\n",
    "    avg_cc_bal.columns = ['cc_bal_' + f_ for f_ in avg_cc_bal.columns]\n",
    "    \n",
    "    del cc_bal, nb_prevs\n",
    "    gc.collect()\n",
    "    \n",
    "    print('Installments_Payments')\n",
    "    inst = pd.read_csv(input_dir + 'installments_payments.csv', nrows=num_rows)\n",
    "    nb_prevs = inst[['SK_ID_CURR', 'SK_ID_PREV']].groupby('SK_ID_CURR').count()\n",
    "    inst['SK_ID_PREV'] = inst['SK_ID_CURR'].map(nb_prevs['SK_ID_PREV'])\n",
    "    \n",
    "    avg_inst = inst.groupby('SK_ID_CURR').mean()\n",
    "    avg_inst.columns = ['inst_' + f_ for f_ in avg_inst.columns]\n",
    "    \n",
    "    print('Train/Test')\n",
    "    data = pd.read_csv(input_dir + 'application_train.csv', nrows=num_rows)\n",
    "    test = pd.read_csv(input_dir + 'application_test.csv', nrows=num_rows)\n",
    "    print('Shapes : ', data.shape, test.shape)\n",
    "        \n",
    "    data = data.merge(right=avg_buro.reset_index(), how='left', on='SK_ID_CURR')\n",
    "    test = test.merge(right=avg_buro.reset_index(), how='left', on='SK_ID_CURR')\n",
    "    \n",
    "    data = data.merge(right=avg_prev.reset_index(), how='left', on='SK_ID_CURR')\n",
    "    test = test.merge(right=avg_prev.reset_index(), how='left', on='SK_ID_CURR')\n",
    "    \n",
    "    data = data.merge(right=avg_pos.reset_index(), how='left', on='SK_ID_CURR')\n",
    "    test = test.merge(right=avg_pos.reset_index(), how='left', on='SK_ID_CURR')\n",
    "    \n",
    "    data = data.merge(right=avg_cc_bal.reset_index(), how='left', on='SK_ID_CURR')\n",
    "    test = test.merge(right=avg_cc_bal.reset_index(), how='left', on='SK_ID_CURR')\n",
    "    \n",
    "    data = data.merge(right=avg_inst.reset_index(), how='left', on='SK_ID_CURR')\n",
    "    test = test.merge(right=avg_inst.reset_index(), how='left', on='SK_ID_CURR')\n",
    "    \n",
    "    del avg_buro, avg_prev\n",
    "    gc.collect()\n",
    "    \n",
    "    print('Preprocessing done.')\n",
    "\n",
    "    return data, test"
   ]
  },
  {
   "cell_type": "code",
   "execution_count": 66,
   "id": "8ddecc64",
   "metadata": {
    "_cell_guid": "8956a0d2-ea6a-49ec-a861-f82fc5c1f406",
    "_uuid": "30243bb0-549b-4547-9e35-83c7a747ba8e",
    "collapsed": false,
    "execution": {
     "iopub.execute_input": "2021-07-24T19:10:00.902997Z",
     "iopub.status.busy": "2021-07-24T19:10:00.902138Z",
     "iopub.status.idle": "2021-07-24T19:11:34.614869Z",
     "shell.execute_reply": "2021-07-24T19:11:34.616164Z",
     "shell.execute_reply.started": "2021-07-24T18:26:10.264291Z"
    },
    "jupyter": {
     "outputs_hidden": false
    },
    "papermill": {
     "duration": 93.81879,
     "end_time": "2021-07-24T19:11:34.616384",
     "exception": false,
     "start_time": "2021-07-24T19:10:00.797594",
     "status": "completed"
    },
    "tags": []
   },
   "outputs": [
    {
     "name": "stdout",
     "output_type": "stream",
     "text": [
      "Preprocessing started.\n",
      "Bureau_Balance\n",
      "Bureau\n",
      "Previous_Application\n",
      "POS_CASH_Balance\n",
      "Credit_Card_Balance\n",
      "Installments_Payments\n",
      "Train/Test\n",
      "Shapes :  (307511, 122) (48744, 121)\n",
      "Preprocessing done.\n"
     ]
    }
   ],
   "source": [
    "train, test = preprocessing('../input/home-credit-default-risk/', debug=False)"
   ]
  },
  {
   "cell_type": "code",
   "execution_count": 67,
   "id": "65ad8a63",
   "metadata": {
    "_cell_guid": "93f68db4-2b93-4cdf-a35d-88c89fe42c19",
    "_uuid": "bfafcc8d-c78d-4c70-a3cb-e8a868acf230",
    "collapsed": false,
    "execution": {
     "iopub.execute_input": "2021-07-24T19:11:34.827624Z",
     "iopub.status.busy": "2021-07-24T19:11:34.826927Z",
     "iopub.status.idle": "2021-07-24T19:11:35.036828Z",
     "shell.execute_reply": "2021-07-24T19:11:35.036057Z",
     "shell.execute_reply.started": "2021-07-24T18:27:09.313413Z"
    },
    "jupyter": {
     "outputs_hidden": false
    },
    "papermill": {
     "duration": 0.318254,
     "end_time": "2021-07-24T19:11:35.036995",
     "exception": false,
     "start_time": "2021-07-24T19:11:34.718741",
     "status": "completed"
    },
    "tags": []
   },
   "outputs": [],
   "source": [
    "# Drop the target and the ID\n",
    "X_train, y_train = train.iloc[:,2:], train.TARGET\n",
    "X_test = test.iloc[:,1:]"
   ]
  },
  {
   "cell_type": "code",
   "execution_count": 68,
   "id": "5a88dd9f",
   "metadata": {
    "_cell_guid": "1612706d-5c6c-4f67-8d37-6d2264f1bb01",
    "_uuid": "87bad920-34c6-4c94-af38-6402b6787f93",
    "collapsed": false,
    "execution": {
     "iopub.execute_input": "2021-07-24T19:11:35.269234Z",
     "iopub.status.busy": "2021-07-24T19:11:35.251673Z",
     "iopub.status.idle": "2021-07-24T19:11:35.717143Z",
     "shell.execute_reply": "2021-07-24T19:11:35.716489Z",
     "shell.execute_reply.started": "2021-07-24T18:27:09.462843Z"
    },
    "jupyter": {
     "outputs_hidden": false
    },
    "papermill": {
     "duration": 0.575031,
     "end_time": "2021-07-24T19:11:35.717316",
     "exception": false,
     "start_time": "2021-07-24T19:11:35.142285",
     "status": "completed"
    },
    "tags": []
   },
   "outputs": [],
   "source": [
    "col_vals_dict = {c: list(X_train[c].unique()) for c in X_train.columns if X_train[c].dtype == object}"
   ]
  },
  {
   "cell_type": "code",
   "execution_count": 69,
   "id": "307f534f",
   "metadata": {
    "_cell_guid": "e4a2ea90-c517-4cd3-9d07-f4a5062dc980",
    "_uuid": "7462b510-fb32-4b90-9ed2-122591b3235d",
    "collapsed": false,
    "execution": {
     "iopub.execute_input": "2021-07-24T19:11:35.932723Z",
     "iopub.status.busy": "2021-07-24T19:11:35.931680Z",
     "iopub.status.idle": "2021-07-24T19:11:35.938126Z",
     "shell.execute_reply": "2021-07-24T19:11:35.937192Z",
     "shell.execute_reply.started": "2021-07-24T18:27:09.755517Z"
    },
    "jupyter": {
     "outputs_hidden": false
    },
    "papermill": {
     "duration": 0.116258,
     "end_time": "2021-07-24T19:11:35.938337",
     "exception": false,
     "start_time": "2021-07-24T19:11:35.822079",
     "status": "completed"
    },
    "tags": []
   },
   "outputs": [
    {
     "name": "stdout",
     "output_type": "stream",
     "text": [
      "Number of Numerical features: 173\n",
      "Number of Categorical features: 16\n"
     ]
    }
   ],
   "source": [
    "nb_numeric   = len(X_train.columns) - len(col_vals_dict)\n",
    "nb_categoric = len(col_vals_dict)\n",
    "print('Number of Numerical features:', nb_numeric)\n",
    "print('Number of Categorical features:', nb_categoric)"
   ]
  },
  {
   "cell_type": "code",
   "execution_count": 70,
   "id": "455756e3",
   "metadata": {
    "_cell_guid": "e1e5f542-484a-4628-a5c1-f4d619819094",
    "_uuid": "605e33e2-e731-4dae-947e-345637201c29",
    "collapsed": false,
    "execution": {
     "iopub.execute_input": "2021-07-24T19:11:36.172310Z",
     "iopub.status.busy": "2021-07-24T19:11:36.171613Z",
     "iopub.status.idle": "2021-07-24T19:11:36.609233Z",
     "shell.execute_reply": "2021-07-24T19:11:36.608640Z",
     "shell.execute_reply.started": "2021-07-24T18:27:09.762912Z"
    },
    "jupyter": {
     "outputs_hidden": false
    },
    "papermill": {
     "duration": 0.566382,
     "end_time": "2021-07-24T19:11:36.609448",
     "exception": false,
     "start_time": "2021-07-24T19:11:36.043066",
     "status": "completed"
    },
    "tags": []
   },
   "outputs": [],
   "source": [
    "# Store the labels of each features\n",
    "col_vals_dict = {c: list(X_train[c].unique()) for c in X_train.columns if X_train[c].dtype == object}"
   ]
  },
  {
   "cell_type": "code",
   "execution_count": 71,
   "id": "6aa216b7",
   "metadata": {
    "_cell_guid": "e4ab9c37-c323-417a-af87-73d6f78ee567",
    "_uuid": "1f1c3824-be80-4320-951b-287f8e1d440a",
    "collapsed": false,
    "execution": {
     "iopub.execute_input": "2021-07-24T19:11:36.888135Z",
     "iopub.status.busy": "2021-07-24T19:11:36.835581Z",
     "iopub.status.idle": "2021-07-24T19:11:43.817769Z",
     "shell.execute_reply": "2021-07-24T19:11:43.817066Z",
     "shell.execute_reply.started": "2021-07-24T18:27:10.051428Z"
    },
    "jupyter": {
     "outputs_hidden": false
    },
    "papermill": {
     "duration": 7.102144,
     "end_time": "2021-07-24T19:11:43.817943",
     "exception": false,
     "start_time": "2021-07-24T19:11:36.715799",
     "status": "completed"
    },
    "tags": []
   },
   "outputs": [],
   "source": [
    "# Generator to parse the cat\n",
    "generator = (c for c in X_train.columns if X_train[c].dtype == object)\n",
    "\n",
    "# Label Encoder\n",
    "for c in generator:\n",
    "    lbl = LabelEncoder()\n",
    "    lbl.fit(list(X_train[c].values) + list(X_test[c].values))\n",
    "    X_train[c] = lbl.transform(list(X_train[c].values))\n",
    "    X_test[c] = lbl.transform(list(X_test[c].values))"
   ]
  },
  {
   "cell_type": "code",
   "execution_count": 72,
   "id": "99e7d73d",
   "metadata": {
    "_cell_guid": "4893cbc8-2883-4659-a944-b93578690bc1",
    "_uuid": "d496ba00-0ec7-43de-a276-94e7d43869d5",
    "collapsed": false,
    "execution": {
     "iopub.execute_input": "2021-07-24T19:11:44.037720Z",
     "iopub.status.busy": "2021-07-24T19:11:44.036551Z",
     "iopub.status.idle": "2021-07-24T19:11:44.043270Z",
     "shell.execute_reply": "2021-07-24T19:11:44.042567Z",
     "shell.execute_reply.started": "2021-07-24T18:27:15.094642Z"
    },
    "jupyter": {
     "outputs_hidden": false
    },
    "papermill": {
     "duration": 0.117929,
     "end_time": "2021-07-24T19:11:44.043470",
     "exception": false,
     "start_time": "2021-07-24T19:11:43.925541",
     "status": "completed"
    },
    "tags": []
   },
   "outputs": [
    {
     "name": "stdout",
     "output_type": "stream",
     "text": [
      "CODE_GENDER: 3 values\n",
      "NAME_TYPE_SUITE: 8 values\n",
      "NAME_INCOME_TYPE: 8 values\n",
      "NAME_EDUCATION_TYPE: 5 values\n",
      "NAME_FAMILY_STATUS: 6 values\n",
      "NAME_HOUSING_TYPE: 6 values\n",
      "OCCUPATION_TYPE: 19 values\n",
      "WEEKDAY_APPR_PROCESS_START: 7 values\n",
      "ORGANIZATION_TYPE: 58 values\n",
      "FONDKAPREMONT_MODE: 5 values\n",
      "HOUSETYPE_MODE: 4 values\n",
      "WALLSMATERIAL_MODE: 8 values\n",
      "EMERGENCYSTATE_MODE: 3 values\n",
      "\n",
      " Number of embed features : 13\n"
     ]
    }
   ],
   "source": [
    "embed_cols = []\n",
    "len_embed_cols = []\n",
    "for c in col_vals_dict:\n",
    "    if len(col_vals_dict[c])>2:\n",
    "        embed_cols.append(c)\n",
    "        len_embed_cols.append(len(col_vals_dict[c]))\n",
    "        print(c + ': %d values' % len(col_vals_dict[c])) #look at value counts to know the embedding dimensions\n",
    "        \n",
    "print('\\n Number of embed features :', len(embed_cols))"
   ]
  },
  {
   "cell_type": "code",
   "execution_count": 73,
   "id": "4728c5ab",
   "metadata": {
    "_cell_guid": "5635d31d-3075-4ef3-8356-3b5dcf5140c7",
    "_uuid": "f77422f2-7f7f-4c48-af71-18f9f6f4caf0",
    "collapsed": false,
    "execution": {
     "iopub.execute_input": "2021-07-24T19:11:44.270998Z",
     "iopub.status.busy": "2021-07-24T19:11:44.270274Z",
     "iopub.status.idle": "2021-07-24T19:11:44.273734Z",
     "shell.execute_reply": "2021-07-24T19:11:44.273080Z",
     "shell.execute_reply.started": "2021-07-24T18:27:15.104024Z"
    },
    "jupyter": {
     "outputs_hidden": false
    },
    "papermill": {
     "duration": 0.121397,
     "end_time": "2021-07-24T19:11:44.273894",
     "exception": false,
     "start_time": "2021-07-24T19:11:44.152497",
     "status": "completed"
    },
    "tags": []
   },
   "outputs": [],
   "source": [
    "def build_embedding_network(len_embed_cols):\n",
    "    \n",
    "    model_out = []\n",
    "    model_in  = []\n",
    "    \n",
    "    for dim in len_embed_cols:\n",
    "        input_dim = Input(shape=(1,), dtype='int32')\n",
    "        embed_dim = Embedding(dim, dim//2, input_length=1)(input_dim)\n",
    "        embed_dim = Dropout(0.25)(embed_dim)\n",
    "        embed_dim = Reshape((dim//2,))(embed_dim)\n",
    "        model_out.append(embed_dim)\n",
    "        model_in.append(input_dim)\n",
    "    \n",
    "    input_num = Input(shape=(176,), dtype='float32')\n",
    "    outputs = Concatenate(axis=1)([*model_out, input_num])\n",
    "    \n",
    "    outputs = (Dense(128))(outputs) \n",
    "    outputs = (Activation('relu'))(outputs)\n",
    "    outputs = (Dropout(.35))(outputs)\n",
    "    outputs = (Dense(64))(outputs)\n",
    "    outputs = (Activation('relu'))(outputs)\n",
    "    outputs = (Dropout(.15))(outputs)\n",
    "    outputs = (Dense(32))(outputs) \n",
    "    outputs = (Activation('relu'))(outputs)\n",
    "    outputs = (Dropout(.15))(outputs)\n",
    "    outputs = (Dense(1))(outputs)\n",
    "    outputs = (Activation('sigmoid'))(outputs)\n",
    "    \n",
    "    model = Model([*model_in, input_num], outputs)\n",
    "\n",
    "    model.compile(loss='binary_crossentropy', optimizer='adam')\n",
    "    \n",
    "    return model"
   ]
  },
  {
   "cell_type": "code",
   "execution_count": 74,
   "id": "a0ff76c4",
   "metadata": {
    "_cell_guid": "3d9b239a-386e-48b9-a82b-85e120c948e0",
    "_uuid": "d47e8ec2-986f-4cdf-a7c3-a97a3b05a170",
    "collapsed": false,
    "execution": {
     "iopub.execute_input": "2021-07-24T19:11:44.490673Z",
     "iopub.status.busy": "2021-07-24T19:11:44.489955Z",
     "iopub.status.idle": "2021-07-24T19:11:44.491979Z",
     "shell.execute_reply": "2021-07-24T19:11:44.492575Z",
     "shell.execute_reply.started": "2021-07-24T18:27:15.119670Z"
    },
    "jupyter": {
     "outputs_hidden": false
    },
    "papermill": {
     "duration": 0.11605,
     "end_time": "2021-07-24T19:11:44.492758",
     "exception": false,
     "start_time": "2021-07-24T19:11:44.376708",
     "status": "completed"
    },
    "tags": []
   },
   "outputs": [],
   "source": [
    "def preproc(X_train, X_val, X_test):\n",
    "\n",
    "    input_list_train = []\n",
    "    input_list_val = []\n",
    "    input_list_test = []\n",
    "    \n",
    "    #the cols to be embedded: rescaling to range [0, # values)\n",
    "    for c in embed_cols:\n",
    "        raw_vals = np.unique(X_train[c])\n",
    "        val_map = {}\n",
    "        for i in range(len(raw_vals)):\n",
    "            val_map[raw_vals[i]] = i       \n",
    "        input_list_train.append(X_train[c].map(val_map).values)\n",
    "        input_list_val.append(X_val[c].map(val_map).fillna(0).values)\n",
    "        input_list_test.append(X_test[c].map(val_map).fillna(0).values)\n",
    "        \n",
    "    #the rest of the columns\n",
    "    other_cols = [c for c in X_train.columns if (not c in embed_cols)]\n",
    "    input_list_train.append(X_train[other_cols].values)\n",
    "    input_list_val.append(X_val[other_cols].values)\n",
    "    input_list_test.append(X_test[other_cols].values)\n",
    "    \n",
    "    return input_list_train, input_list_val, input_list_test"
   ]
  },
  {
   "cell_type": "code",
   "execution_count": 75,
   "id": "33dbc9ce",
   "metadata": {
    "_cell_guid": "13c2fcbc-7663-4645-9a2c-d1b412aa3057",
    "_uuid": "44da36d6-58c8-4d24-bc68-9ef85f053a96",
    "collapsed": false,
    "execution": {
     "iopub.execute_input": "2021-07-24T19:11:44.703462Z",
     "iopub.status.busy": "2021-07-24T19:11:44.702785Z",
     "iopub.status.idle": "2021-07-24T19:11:45.971371Z",
     "shell.execute_reply": "2021-07-24T19:11:45.971904Z",
     "shell.execute_reply.started": "2021-07-24T18:27:15.134295Z"
    },
    "jupyter": {
     "outputs_hidden": false
    },
    "papermill": {
     "duration": 1.375432,
     "end_time": "2021-07-24T19:11:45.972106",
     "exception": false,
     "start_time": "2021-07-24T19:11:44.596674",
     "status": "completed"
    },
    "tags": []
   },
   "outputs": [
    {
     "name": "stdout",
     "output_type": "stream",
     "text": [
      "Length of the list: 14\n"
     ]
    }
   ],
   "source": [
    "proc_X_train_f, proc_X_val_f, proc_X_test_f = preproc(X_train, X_train, X_test)\n",
    "print('Length of the list:', len(proc_X_train_f))"
   ]
  },
  {
   "cell_type": "code",
   "execution_count": 76,
   "id": "3cc35a2e",
   "metadata": {
    "_cell_guid": "1f11d872-1543-4e13-b007-40b53e4f0852",
    "_uuid": "1b16c823-035e-4219-a440-42a40ecd69b0",
    "collapsed": false,
    "execution": {
     "iopub.execute_input": "2021-07-24T19:11:46.188088Z",
     "iopub.status.busy": "2021-07-24T19:11:46.187338Z",
     "iopub.status.idle": "2021-07-24T19:11:46.194594Z",
     "shell.execute_reply": "2021-07-24T19:11:46.195107Z",
     "shell.execute_reply.started": "2021-07-24T18:27:16.198341Z"
    },
    "jupyter": {
     "outputs_hidden": false
    },
    "papermill": {
     "duration": 0.116714,
     "end_time": "2021-07-24T19:11:46.195322",
     "exception": false,
     "start_time": "2021-07-24T19:11:46.078608",
     "status": "completed"
    },
    "tags": []
   },
   "outputs": [
    {
     "data": {
      "text/plain": [
       "[array([1, 0, 1, ..., 0, 0, 0]),\n",
       " array([6, 1, 6, ..., 6, 6, 6]),\n",
       " array([7, 4, 7, ..., 7, 1, 1]),\n",
       " array([4, 1, 4, ..., 1, 4, 1]),\n",
       " array([3, 1, 3, ..., 2, 1, 1]),\n",
       " array([1, 1, 1, ..., 1, 1, 1]),\n",
       " array([ 8,  3,  8, ..., 10,  8,  8]),\n",
       " array([6, 1, 1, ..., 4, 6, 4]),\n",
       " array([ 5, 39, 11, ..., 39,  3,  5]),\n",
       " array([3, 3, 0, ..., 3, 0, 0]),\n",
       " array([0, 0, 1, ..., 0, 0, 0]),\n",
       " array([5, 0, 7, ..., 4, 5, 4]),\n",
       " array([0, 0, 2, ..., 0, 0, 0]),\n",
       " array([[ 0.00000000e+00,  0.00000000e+00,  1.00000000e+00, ...,\n",
       "         -3.15421053e+02,  1.15592471e+04,  1.15592471e+04],\n",
       "        [ 0.00000000e+00,  0.00000000e+00,  0.00000000e+00, ...,\n",
       "         -1.38532000e+03,  6.47545860e+04,  6.47545860e+04],\n",
       "        [ 1.00000000e+00,  1.00000000e+00,  1.00000000e+00, ...,\n",
       "         -7.61666667e+02,  7.09615500e+03,  7.09615500e+03],\n",
       "        ...,\n",
       "        [ 0.00000000e+00,  0.00000000e+00,  1.00000000e+00, ...,\n",
       "         -2.38742857e+03,  4.39970786e+03,  4.11591536e+03],\n",
       "        [ 0.00000000e+00,  0.00000000e+00,  1.00000000e+00, ...,\n",
       "         -1.61263158e+02,  1.02398329e+04,  1.02398329e+04],\n",
       "        [ 0.00000000e+00,  0.00000000e+00,  0.00000000e+00, ...,\n",
       "         -4.72013514e+02,  4.14647136e+04,  4.76462159e+04]])]"
      ]
     },
     "execution_count": 76,
     "metadata": {},
     "output_type": "execute_result"
    }
   ],
   "source": [
    "proc_X_train_f"
   ]
  },
  {
   "cell_type": "code",
   "execution_count": 77,
   "id": "47703e36",
   "metadata": {
    "_cell_guid": "3df7077e-d66b-4177-a3ed-c88f25c9e351",
    "_uuid": "07e61878-4487-4e4d-a7c2-ae204bf76ac1",
    "collapsed": false,
    "execution": {
     "iopub.execute_input": "2021-07-24T19:11:46.408997Z",
     "iopub.status.busy": "2021-07-24T19:11:46.408253Z",
     "iopub.status.idle": "2021-07-24T19:11:46.414168Z",
     "shell.execute_reply": "2021-07-24T19:11:46.414659Z",
     "shell.execute_reply.started": "2021-07-24T18:27:16.210046Z"
    },
    "jupyter": {
     "outputs_hidden": false
    },
    "papermill": {
     "duration": 0.11357,
     "end_time": "2021-07-24T19:11:46.414880",
     "exception": false,
     "start_time": "2021-07-24T19:11:46.301310",
     "status": "completed"
    },
    "tags": []
   },
   "outputs": [
    {
     "name": "stdout",
     "output_type": "stream",
     "text": [
      "(307511,)\n"
     ]
    }
   ],
   "source": [
    "print(proc_X_train_f[12].shape)"
   ]
  },
  {
   "cell_type": "code",
   "execution_count": 78,
   "id": "a3584fa9",
   "metadata": {
    "_cell_guid": "8320d2da-ba2d-4ff9-ad55-878cc581ad1e",
    "_uuid": "56a4c3ff-f0ae-4010-89b1-9c2a8fb6a172",
    "collapsed": false,
    "execution": {
     "iopub.execute_input": "2021-07-24T19:11:46.833535Z",
     "iopub.status.busy": "2021-07-24T19:11:46.832264Z",
     "iopub.status.idle": "2021-07-24T19:11:46.839957Z",
     "shell.execute_reply": "2021-07-24T19:11:46.840480Z",
     "shell.execute_reply.started": "2021-07-24T18:27:16.217741Z"
    },
    "jupyter": {
     "outputs_hidden": false
    },
    "papermill": {
     "duration": 0.320983,
     "end_time": "2021-07-24T19:11:46.840708",
     "exception": false,
     "start_time": "2021-07-24T19:11:46.519725",
     "status": "completed"
    },
    "tags": []
   },
   "outputs": [
    {
     "data": {
      "text/plain": [
       "100"
      ]
     },
     "execution_count": 78,
     "metadata": {},
     "output_type": "execute_result"
    }
   ],
   "source": [
    "del proc_X_train_f, proc_X_val_f, proc_X_test_f\n",
    "gc.collect()"
   ]
  },
  {
   "cell_type": "code",
   "execution_count": 79,
   "id": "5516eeb2",
   "metadata": {
    "_cell_guid": "9bff7824-dac0-430d-bf1e-8435d21ad235",
    "_uuid": "7ed6f6ef-809d-4c17-88cc-fef1a9835919",
    "collapsed": false,
    "execution": {
     "iopub.execute_input": "2021-07-24T19:11:47.273792Z",
     "iopub.status.busy": "2021-07-24T19:11:47.273067Z",
     "iopub.status.idle": "2021-07-24T19:12:08.350299Z",
     "shell.execute_reply": "2021-07-24T19:12:08.349729Z",
     "shell.execute_reply.started": "2021-07-24T18:27:16.398497Z"
    },
    "jupyter": {
     "outputs_hidden": false
    },
    "papermill": {
     "duration": 21.403707,
     "end_time": "2021-07-24T19:12:08.350488",
     "exception": false,
     "start_time": "2021-07-24T19:11:46.946781",
     "status": "completed"
    },
    "tags": []
   },
   "outputs": [],
   "source": [
    "num_cols = [x for x in X_train.columns if x not in embed_cols]\n",
    "\n",
    "\n",
    "# Impute missing values in order to scale\n",
    "X_train[num_cols] = X_train[num_cols].fillna(value = 0)\n",
    "X_test[num_cols] = X_test[num_cols].fillna(value = 0)\n",
    "\n",
    "# Fit the scaler only on train data\n",
    "scaler = MinMaxScaler().fit(X_train[num_cols])\n",
    "X_train.loc[:,num_cols] = scaler.transform(X_train[num_cols])\n",
    "X_test.loc[:,num_cols] = scaler.transform(X_test[num_cols])"
   ]
  },
  {
   "cell_type": "code",
   "execution_count": 80,
   "id": "9c6b0cb2",
   "metadata": {
    "_cell_guid": "2f939132-b816-4469-aabd-73bf39d37eae",
    "_uuid": "cf6703b9-ffe3-4a6c-b2c7-1838e7b301fe",
    "collapsed": false,
    "execution": {
     "iopub.execute_input": "2021-07-24T19:12:08.575956Z",
     "iopub.status.busy": "2021-07-24T19:12:08.571217Z",
     "iopub.status.idle": "2021-07-24T19:20:24.934677Z",
     "shell.execute_reply": "2021-07-24T19:20:24.935192Z",
     "shell.execute_reply.started": "2021-07-24T18:27:33.013550Z"
    },
    "jupyter": {
     "outputs_hidden": false
    },
    "papermill": {
     "duration": 496.479838,
     "end_time": "2021-07-24T19:20:24.935368",
     "exception": false,
     "start_time": "2021-07-24T19:12:08.455530",
     "status": "completed"
    },
    "tags": []
   },
   "outputs": [
    {
     "name": "stdout",
     "output_type": "stream",
     "text": [
      "Epoch 1/250\n",
      "61/61 [==============================] - 6s 53ms/step - loss: 0.3508 - val_loss: 0.2697\n",
      "Epoch 2/250\n",
      "61/61 [==============================] - 2s 37ms/step - loss: 0.2748 - val_loss: 0.2579\n",
      "Epoch 3/250\n",
      "61/61 [==============================] - 2s 37ms/step - loss: 0.2644 - val_loss: 0.2550\n",
      "Epoch 4/250\n",
      "61/61 [==============================] - 2s 37ms/step - loss: 0.2589 - val_loss: 0.2537\n",
      "Epoch 5/250\n",
      "61/61 [==============================] - 2s 37ms/step - loss: 0.2591 - val_loss: 0.2529\n",
      "Epoch 6/250\n",
      "61/61 [==============================] - 2s 38ms/step - loss: 0.2582 - val_loss: 0.2536\n",
      "Epoch 7/250\n",
      "61/61 [==============================] - 2s 37ms/step - loss: 0.2548 - val_loss: 0.2521\n",
      "Epoch 8/250\n",
      "61/61 [==============================] - 3s 44ms/step - loss: 0.2564 - val_loss: 0.2517\n",
      "Epoch 9/250\n",
      "61/61 [==============================] - 3s 42ms/step - loss: 0.2548 - val_loss: 0.2519\n",
      "Epoch 10/250\n",
      "61/61 [==============================] - 3s 42ms/step - loss: 0.2538 - val_loss: 0.2510\n",
      "Epoch 11/250\n",
      "61/61 [==============================] - 2s 39ms/step - loss: 0.2529 - val_loss: 0.2508\n",
      "Epoch 12/250\n",
      "61/61 [==============================] - 2s 39ms/step - loss: 0.2535 - val_loss: 0.2512\n",
      "Epoch 13/250\n",
      "61/61 [==============================] - 2s 38ms/step - loss: 0.2517 - val_loss: 0.2508\n",
      "Epoch 14/250\n",
      "61/61 [==============================] - 2s 39ms/step - loss: 0.2510 - val_loss: 0.2505\n",
      "Epoch 15/250\n",
      "61/61 [==============================] - 2s 39ms/step - loss: 0.2506 - val_loss: 0.2512\n",
      "Epoch 16/250\n",
      "61/61 [==============================] - 2s 38ms/step - loss: 0.2510 - val_loss: 0.2509\n",
      "Epoch 17/250\n",
      "61/61 [==============================] - 2s 38ms/step - loss: 0.2482 - val_loss: 0.2506\n",
      "Epoch 18/250\n",
      "61/61 [==============================] - 2s 37ms/step - loss: 0.2501 - val_loss: 0.2515\n",
      "Epoch 19/250\n",
      "61/61 [==============================] - 2s 38ms/step - loss: 0.2503 - val_loss: 0.2507\n",
      "Epoch 20/250\n",
      "61/61 [==============================] - 2s 38ms/step - loss: 0.2504 - val_loss: 0.2516\n",
      "Epoch 21/250\n",
      "61/61 [==============================] - 2s 38ms/step - loss: 0.2505 - val_loss: 0.2508\n",
      "Epoch 22/250\n",
      "61/61 [==============================] - 2s 41ms/step - loss: 0.2507 - val_loss: 0.2497\n",
      "Epoch 23/250\n",
      "61/61 [==============================] - 2s 37ms/step - loss: 0.2486 - val_loss: 0.2495\n",
      "Epoch 24/250\n",
      "61/61 [==============================] - 2s 39ms/step - loss: 0.2490 - val_loss: 0.2495\n",
      "Epoch 25/250\n",
      "61/61 [==============================] - 2s 38ms/step - loss: 0.2461 - val_loss: 0.2500\n",
      "Epoch 26/250\n",
      "61/61 [==============================] - 2s 37ms/step - loss: 0.2439 - val_loss: 0.2496\n",
      "Epoch 27/250\n",
      "61/61 [==============================] - 2s 37ms/step - loss: 0.2463 - val_loss: 0.2494\n",
      "Epoch 28/250\n",
      "61/61 [==============================] - 2s 37ms/step - loss: 0.2458 - val_loss: 0.2498\n",
      "Epoch 29/250\n",
      "61/61 [==============================] - 2s 37ms/step - loss: 0.2473 - val_loss: 0.2498\n",
      "Epoch 30/250\n",
      "61/61 [==============================] - 2s 37ms/step - loss: 0.2461 - val_loss: 0.2501\n",
      "Epoch 31/250\n",
      "61/61 [==============================] - 2s 37ms/step - loss: 0.2463 - val_loss: 0.2497\n",
      "Epoch 32/250\n",
      "61/61 [==============================] - 2s 36ms/step - loss: 0.2454 - val_loss: 0.2500\n",
      "Epoch 33/250\n",
      "61/61 [==============================] - 2s 36ms/step - loss: 0.2447 - val_loss: 0.2495\n",
      "Epoch 34/250\n",
      "61/61 [==============================] - 2s 38ms/step - loss: 0.2450 - val_loss: 0.2501\n",
      "Epoch 35/250\n",
      "61/61 [==============================] - 2s 36ms/step - loss: 0.2450 - val_loss: 0.2497\n",
      "Epoch 36/250\n",
      "61/61 [==============================] - 2s 40ms/step - loss: 0.2434 - val_loss: 0.2497\n",
      "Epoch 37/250\n",
      "61/61 [==============================] - 2s 39ms/step - loss: 0.2437 - val_loss: 0.2508\n",
      "\n",
      "Fold 0 prediction cv AUC: 0.74692\n",
      "\n",
      "Epoch 1/250\n",
      "61/61 [==============================] - 5s 43ms/step - loss: 0.4129 - val_loss: 0.2741\n",
      "Epoch 2/250\n",
      "61/61 [==============================] - 2s 37ms/step - loss: 0.2824 - val_loss: 0.2613\n",
      "Epoch 3/250\n",
      "61/61 [==============================] - 2s 36ms/step - loss: 0.2668 - val_loss: 0.2558\n",
      "Epoch 4/250\n",
      "61/61 [==============================] - 2s 37ms/step - loss: 0.2617 - val_loss: 0.2534\n",
      "Epoch 5/250\n",
      "61/61 [==============================] - 2s 37ms/step - loss: 0.2603 - val_loss: 0.2531\n",
      "Epoch 6/250\n",
      "61/61 [==============================] - 2s 37ms/step - loss: 0.2591 - val_loss: 0.2515\n",
      "Epoch 7/250\n",
      "61/61 [==============================] - 2s 37ms/step - loss: 0.2574 - val_loss: 0.2525\n",
      "Epoch 8/250\n",
      "61/61 [==============================] - 2s 37ms/step - loss: 0.2551 - val_loss: 0.2507\n",
      "Epoch 9/250\n",
      "61/61 [==============================] - 2s 38ms/step - loss: 0.2549 - val_loss: 0.2507\n",
      "Epoch 10/250\n",
      "61/61 [==============================] - 2s 40ms/step - loss: 0.2564 - val_loss: 0.2505\n",
      "Epoch 11/250\n",
      "61/61 [==============================] - 2s 36ms/step - loss: 0.2560 - val_loss: 0.2504\n",
      "Epoch 12/250\n",
      "61/61 [==============================] - 2s 37ms/step - loss: 0.2536 - val_loss: 0.2502\n",
      "Epoch 13/250\n",
      "61/61 [==============================] - 2s 36ms/step - loss: 0.2519 - val_loss: 0.2500\n",
      "Epoch 14/250\n",
      "61/61 [==============================] - 2s 37ms/step - loss: 0.2526 - val_loss: 0.2497\n",
      "Epoch 15/250\n",
      "61/61 [==============================] - 2s 37ms/step - loss: 0.2538 - val_loss: 0.2502\n",
      "Epoch 16/250\n",
      "61/61 [==============================] - 2s 36ms/step - loss: 0.2524 - val_loss: 0.2493\n",
      "Epoch 17/250\n",
      "61/61 [==============================] - 2s 37ms/step - loss: 0.2528 - val_loss: 0.2493\n",
      "Epoch 18/250\n",
      "61/61 [==============================] - 2s 36ms/step - loss: 0.2519 - val_loss: 0.2494\n",
      "Epoch 19/250\n",
      "61/61 [==============================] - 2s 37ms/step - loss: 0.2509 - val_loss: 0.2490\n",
      "Epoch 20/250\n",
      "61/61 [==============================] - 2s 36ms/step - loss: 0.2540 - val_loss: 0.2489\n",
      "Epoch 21/250\n",
      "61/61 [==============================] - 2s 36ms/step - loss: 0.2526 - val_loss: 0.2489\n",
      "Epoch 22/250\n",
      "61/61 [==============================] - 2s 37ms/step - loss: 0.2510 - val_loss: 0.2486\n",
      "Epoch 23/250\n",
      "61/61 [==============================] - 2s 38ms/step - loss: 0.2510 - val_loss: 0.2490\n",
      "Epoch 24/250\n",
      "61/61 [==============================] - 2s 38ms/step - loss: 0.2514 - val_loss: 0.2489\n",
      "Epoch 25/250\n",
      "61/61 [==============================] - 2s 38ms/step - loss: 0.2474 - val_loss: 0.2487\n",
      "Epoch 26/250\n",
      "61/61 [==============================] - 2s 37ms/step - loss: 0.2488 - val_loss: 0.2482\n",
      "Epoch 27/250\n",
      "61/61 [==============================] - 2s 37ms/step - loss: 0.2509 - val_loss: 0.2491\n",
      "Epoch 28/250\n",
      "61/61 [==============================] - 2s 37ms/step - loss: 0.2482 - val_loss: 0.2480\n",
      "Epoch 29/250\n",
      "61/61 [==============================] - 2s 37ms/step - loss: 0.2482 - val_loss: 0.2483\n",
      "Epoch 30/250\n",
      "61/61 [==============================] - 2s 36ms/step - loss: 0.2484 - val_loss: 0.2479\n",
      "Epoch 31/250\n",
      "61/61 [==============================] - 2s 37ms/step - loss: 0.2480 - val_loss: 0.2488\n",
      "Epoch 32/250\n",
      "61/61 [==============================] - 2s 37ms/step - loss: 0.2487 - val_loss: 0.2483\n",
      "Epoch 33/250\n",
      "61/61 [==============================] - 2s 37ms/step - loss: 0.2485 - val_loss: 0.2483\n",
      "Epoch 34/250\n",
      "61/61 [==============================] - 2s 37ms/step - loss: 0.2456 - val_loss: 0.2477\n",
      "Epoch 35/250\n",
      "61/61 [==============================] - 2s 36ms/step - loss: 0.2458 - val_loss: 0.2481\n",
      "Epoch 36/250\n",
      "61/61 [==============================] - 2s 37ms/step - loss: 0.2478 - val_loss: 0.2472\n",
      "Epoch 37/250\n",
      "61/61 [==============================] - 2s 39ms/step - loss: 0.2461 - val_loss: 0.2488\n",
      "Epoch 38/250\n",
      "61/61 [==============================] - 2s 31ms/step - loss: 0.2475 - val_loss: 0.2479\n",
      "Epoch 39/250\n",
      "61/61 [==============================] - 2s 35ms/step - loss: 0.2462 - val_loss: 0.2479\n",
      "Epoch 40/250\n",
      "61/61 [==============================] - 2s 31ms/step - loss: 0.2455 - val_loss: 0.2474\n",
      "Epoch 41/250\n",
      "61/61 [==============================] - 2s 31ms/step - loss: 0.2494 - val_loss: 0.2481\n",
      "Epoch 42/250\n",
      "61/61 [==============================] - 2s 32ms/step - loss: 0.2434 - val_loss: 0.2477\n",
      "Epoch 43/250\n",
      "61/61 [==============================] - 2s 32ms/step - loss: 0.2455 - val_loss: 0.2478\n",
      "Epoch 44/250\n",
      "61/61 [==============================] - 2s 32ms/step - loss: 0.2462 - val_loss: 0.2477\n",
      "Epoch 45/250\n",
      "61/61 [==============================] - 2s 31ms/step - loss: 0.2451 - val_loss: 0.2470\n",
      "Epoch 46/250\n",
      "61/61 [==============================] - 2s 31ms/step - loss: 0.2429 - val_loss: 0.2478\n",
      "Epoch 47/250\n",
      "61/61 [==============================] - 2s 31ms/step - loss: 0.2413 - val_loss: 0.2479\n",
      "Epoch 48/250\n",
      "61/61 [==============================] - 2s 31ms/step - loss: 0.2443 - val_loss: 0.2483\n",
      "Epoch 49/250\n",
      "61/61 [==============================] - 2s 31ms/step - loss: 0.2401 - val_loss: 0.2480\n",
      "Epoch 50/250\n",
      "61/61 [==============================] - 2s 31ms/step - loss: 0.2414 - val_loss: 0.2478\n",
      "Epoch 51/250\n",
      "61/61 [==============================] - 2s 31ms/step - loss: 0.2419 - val_loss: 0.2476\n",
      "Epoch 52/250\n",
      "61/61 [==============================] - 2s 31ms/step - loss: 0.2429 - val_loss: 0.2482\n",
      "Epoch 53/250\n",
      "61/61 [==============================] - 2s 35ms/step - loss: 0.2426 - val_loss: 0.2475\n",
      "Epoch 54/250\n",
      "61/61 [==============================] - 2s 31ms/step - loss: 0.2407 - val_loss: 0.2477\n",
      "Epoch 55/250\n",
      "61/61 [==============================] - 2s 31ms/step - loss: 0.2436 - val_loss: 0.2479\n",
      "\n",
      "Fold 1 prediction cv AUC: 0.75355\n",
      "\n",
      "Epoch 1/250\n",
      "61/61 [==============================] - 5s 37ms/step - loss: 0.3840 - val_loss: 0.2714\n",
      "Epoch 2/250\n",
      "61/61 [==============================] - 2s 32ms/step - loss: 0.2792 - val_loss: 0.2589\n",
      "Epoch 3/250\n",
      "61/61 [==============================] - 2s 31ms/step - loss: 0.2625 - val_loss: 0.2555\n",
      "Epoch 4/250\n",
      "61/61 [==============================] - 2s 31ms/step - loss: 0.2612 - val_loss: 0.2545\n",
      "Epoch 5/250\n",
      "61/61 [==============================] - 2s 32ms/step - loss: 0.2589 - val_loss: 0.2526\n",
      "Epoch 6/250\n",
      "61/61 [==============================] - 2s 32ms/step - loss: 0.2560 - val_loss: 0.2529\n",
      "Epoch 7/250\n",
      "61/61 [==============================] - 2s 31ms/step - loss: 0.2555 - val_loss: 0.2521\n",
      "Epoch 8/250\n",
      "61/61 [==============================] - 2s 31ms/step - loss: 0.2555 - val_loss: 0.2513\n",
      "Epoch 9/250\n",
      "61/61 [==============================] - 2s 31ms/step - loss: 0.2553 - val_loss: 0.2510\n",
      "Epoch 10/250\n",
      "61/61 [==============================] - 2s 36ms/step - loss: 0.2545 - val_loss: 0.2527\n",
      "Epoch 11/250\n",
      "61/61 [==============================] - 2s 32ms/step - loss: 0.2542 - val_loss: 0.2507\n",
      "Epoch 12/250\n",
      "61/61 [==============================] - 2s 31ms/step - loss: 0.2534 - val_loss: 0.2508\n",
      "Epoch 13/250\n",
      "61/61 [==============================] - 2s 35ms/step - loss: 0.2524 - val_loss: 0.2503\n",
      "Epoch 14/250\n",
      "61/61 [==============================] - 2s 31ms/step - loss: 0.2542 - val_loss: 0.2500\n",
      "Epoch 15/250\n",
      "61/61 [==============================] - 2s 31ms/step - loss: 0.2516 - val_loss: 0.2500\n",
      "Epoch 16/250\n",
      "61/61 [==============================] - 2s 31ms/step - loss: 0.2499 - val_loss: 0.2499\n",
      "Epoch 17/250\n",
      "61/61 [==============================] - 2s 31ms/step - loss: 0.2504 - val_loss: 0.2498\n",
      "Epoch 18/250\n",
      "61/61 [==============================] - 2s 31ms/step - loss: 0.2501 - val_loss: 0.2495\n",
      "Epoch 19/250\n",
      "61/61 [==============================] - 2s 31ms/step - loss: 0.2488 - val_loss: 0.2495\n",
      "Epoch 20/250\n",
      "61/61 [==============================] - 2s 31ms/step - loss: 0.2521 - val_loss: 0.2495\n",
      "Epoch 21/250\n",
      "61/61 [==============================] - 2s 31ms/step - loss: 0.2475 - val_loss: 0.2497\n",
      "Epoch 22/250\n",
      "61/61 [==============================] - 2s 32ms/step - loss: 0.2484 - val_loss: 0.2496\n",
      "Epoch 23/250\n",
      "61/61 [==============================] - 2s 31ms/step - loss: 0.2483 - val_loss: 0.2488\n",
      "Epoch 24/250\n",
      "61/61 [==============================] - 2s 31ms/step - loss: 0.2467 - val_loss: 0.2495\n",
      "Epoch 25/250\n",
      "61/61 [==============================] - 2s 31ms/step - loss: 0.2484 - val_loss: 0.2493\n",
      "Epoch 26/250\n",
      "61/61 [==============================] - 2s 34ms/step - loss: 0.2470 - val_loss: 0.2491\n",
      "Epoch 27/250\n",
      "61/61 [==============================] - 2s 33ms/step - loss: 0.2482 - val_loss: 0.2487\n",
      "Epoch 28/250\n",
      "61/61 [==============================] - 2s 31ms/step - loss: 0.2481 - val_loss: 0.2488\n",
      "Epoch 29/250\n",
      "61/61 [==============================] - 2s 39ms/step - loss: 0.2467 - val_loss: 0.2497\n",
      "Epoch 30/250\n",
      "61/61 [==============================] - 3s 54ms/step - loss: 0.2476 - val_loss: 0.2490\n",
      "Epoch 31/250\n",
      "61/61 [==============================] - 4s 65ms/step - loss: 0.2464 - val_loss: 0.2487\n",
      "Epoch 32/250\n",
      "61/61 [==============================] - 2s 32ms/step - loss: 0.2472 - val_loss: 0.2491\n",
      "Epoch 33/250\n",
      "61/61 [==============================] - 2s 32ms/step - loss: 0.2446 - val_loss: 0.2488\n",
      "Epoch 34/250\n",
      "61/61 [==============================] - 2s 31ms/step - loss: 0.2444 - val_loss: 0.2488\n",
      "Epoch 35/250\n",
      "61/61 [==============================] - 2s 31ms/step - loss: 0.2442 - val_loss: 0.2489\n",
      "Epoch 36/250\n",
      "61/61 [==============================] - 2s 31ms/step - loss: 0.2431 - val_loss: 0.2502\n",
      "Epoch 37/250\n",
      "61/61 [==============================] - 2s 32ms/step - loss: 0.2457 - val_loss: 0.2497\n",
      "\n",
      "Fold 2 prediction cv AUC: 0.75171\n",
      "\n",
      "Epoch 1/250\n",
      "61/61 [==============================] - 5s 39ms/step - loss: 0.4048 - val_loss: 0.2735\n",
      "Epoch 2/250\n",
      "61/61 [==============================] - 2s 31ms/step - loss: 0.2819 - val_loss: 0.2600\n",
      "Epoch 3/250\n",
      "61/61 [==============================] - 2s 35ms/step - loss: 0.2688 - val_loss: 0.2549\n",
      "Epoch 4/250\n",
      "61/61 [==============================] - 2s 31ms/step - loss: 0.2636 - val_loss: 0.2521\n",
      "Epoch 5/250\n",
      "61/61 [==============================] - 2s 31ms/step - loss: 0.2611 - val_loss: 0.2511\n",
      "Epoch 6/250\n",
      "61/61 [==============================] - 2s 31ms/step - loss: 0.2607 - val_loss: 0.2500\n",
      "Epoch 7/250\n",
      "61/61 [==============================] - 2s 32ms/step - loss: 0.2582 - val_loss: 0.2497\n",
      "Epoch 8/250\n",
      "61/61 [==============================] - 2s 31ms/step - loss: 0.2565 - val_loss: 0.2492\n",
      "Epoch 9/250\n",
      "61/61 [==============================] - 2s 31ms/step - loss: 0.2579 - val_loss: 0.2489\n",
      "Epoch 10/250\n",
      "61/61 [==============================] - 2s 31ms/step - loss: 0.2559 - val_loss: 0.2487\n",
      "Epoch 11/250\n",
      "61/61 [==============================] - 2s 31ms/step - loss: 0.2533 - val_loss: 0.2493\n",
      "Epoch 12/250\n",
      "61/61 [==============================] - 2s 31ms/step - loss: 0.2559 - val_loss: 0.2480\n",
      "Epoch 13/250\n",
      "61/61 [==============================] - 2s 32ms/step - loss: 0.2548 - val_loss: 0.2480\n",
      "Epoch 14/250\n",
      "61/61 [==============================] - 2s 31ms/step - loss: 0.2527 - val_loss: 0.2508\n",
      "Epoch 15/250\n",
      "61/61 [==============================] - 2s 31ms/step - loss: 0.2536 - val_loss: 0.2477\n",
      "Epoch 16/250\n",
      "61/61 [==============================] - 2s 37ms/step - loss: 0.2542 - val_loss: 0.2479\n",
      "Epoch 17/250\n",
      "61/61 [==============================] - 2s 31ms/step - loss: 0.2531 - val_loss: 0.2474\n",
      "Epoch 18/250\n",
      "61/61 [==============================] - 2s 32ms/step - loss: 0.2522 - val_loss: 0.2472\n",
      "Epoch 19/250\n",
      "61/61 [==============================] - 2s 31ms/step - loss: 0.2504 - val_loss: 0.2478\n",
      "Epoch 20/250\n",
      "61/61 [==============================] - 2s 35ms/step - loss: 0.2516 - val_loss: 0.2470\n",
      "Epoch 21/250\n",
      "61/61 [==============================] - 2s 32ms/step - loss: 0.2499 - val_loss: 0.2469\n",
      "Epoch 22/250\n",
      "61/61 [==============================] - 2s 31ms/step - loss: 0.2509 - val_loss: 0.2470\n",
      "Epoch 23/250\n",
      "61/61 [==============================] - 2s 31ms/step - loss: 0.2520 - val_loss: 0.2468\n",
      "Epoch 24/250\n",
      "61/61 [==============================] - 2s 32ms/step - loss: 0.2501 - val_loss: 0.2477\n",
      "Epoch 25/250\n",
      "61/61 [==============================] - 2s 31ms/step - loss: 0.2507 - val_loss: 0.2486\n",
      "Epoch 26/250\n",
      "61/61 [==============================] - 2s 32ms/step - loss: 0.2509 - val_loss: 0.2465\n",
      "Epoch 27/250\n",
      "61/61 [==============================] - 2s 31ms/step - loss: 0.2476 - val_loss: 0.2466\n",
      "Epoch 28/250\n",
      "61/61 [==============================] - 2s 31ms/step - loss: 0.2504 - val_loss: 0.2464\n",
      "Epoch 29/250\n",
      "61/61 [==============================] - 2s 31ms/step - loss: 0.2509 - val_loss: 0.2464\n",
      "Epoch 30/250\n",
      "61/61 [==============================] - 2s 32ms/step - loss: 0.2492 - val_loss: 0.2467\n",
      "Epoch 31/250\n",
      "61/61 [==============================] - 2s 31ms/step - loss: 0.2479 - val_loss: 0.2461\n",
      "Epoch 32/250\n",
      "61/61 [==============================] - 2s 33ms/step - loss: 0.2482 - val_loss: 0.2466\n",
      "Epoch 33/250\n",
      "61/61 [==============================] - 2s 36ms/step - loss: 0.2460 - val_loss: 0.2461\n",
      "Epoch 34/250\n",
      "61/61 [==============================] - 2s 31ms/step - loss: 0.2458 - val_loss: 0.2464\n",
      "Epoch 35/250\n",
      "61/61 [==============================] - 2s 32ms/step - loss: 0.2451 - val_loss: 0.2465\n",
      "Epoch 36/250\n",
      "61/61 [==============================] - 3s 44ms/step - loss: 0.2469 - val_loss: 0.2465\n",
      "Epoch 37/250\n",
      "61/61 [==============================] - 2s 31ms/step - loss: 0.2476 - val_loss: 0.2462\n",
      "Epoch 38/250\n",
      "61/61 [==============================] - 2s 32ms/step - loss: 0.2456 - val_loss: 0.2467\n",
      "Epoch 39/250\n",
      "61/61 [==============================] - 2s 31ms/step - loss: 0.2465 - val_loss: 0.2467\n",
      "Epoch 40/250\n",
      "61/61 [==============================] - 2s 32ms/step - loss: 0.2458 - val_loss: 0.2464\n",
      "Epoch 41/250\n",
      "61/61 [==============================] - 2s 32ms/step - loss: 0.2467 - val_loss: 0.2465\n",
      "Epoch 42/250\n",
      "61/61 [==============================] - 2s 31ms/step - loss: 0.2440 - val_loss: 0.2463\n",
      "Epoch 43/250\n",
      "61/61 [==============================] - 2s 31ms/step - loss: 0.2453 - val_loss: 0.2463\n",
      "\n",
      "Fold 3 prediction cv AUC: 0.76065\n",
      "\n",
      "Epoch 1/250\n",
      "61/61 [==============================] - 5s 40ms/step - loss: 0.4681 - val_loss: 0.2731\n",
      "Epoch 2/250\n",
      "61/61 [==============================] - 2s 34ms/step - loss: 0.2853 - val_loss: 0.2592\n",
      "Epoch 3/250\n",
      "61/61 [==============================] - 2s 40ms/step - loss: 0.2686 - val_loss: 0.2547\n",
      "Epoch 4/250\n",
      "61/61 [==============================] - 2s 32ms/step - loss: 0.2629 - val_loss: 0.2535\n",
      "Epoch 5/250\n",
      "61/61 [==============================] - 2s 35ms/step - loss: 0.2615 - val_loss: 0.2527\n",
      "Epoch 6/250\n",
      "61/61 [==============================] - 2s 31ms/step - loss: 0.2565 - val_loss: 0.2523\n",
      "Epoch 7/250\n",
      "61/61 [==============================] - 2s 31ms/step - loss: 0.2596 - val_loss: 0.2520\n",
      "Epoch 8/250\n",
      "61/61 [==============================] - 2s 31ms/step - loss: 0.2561 - val_loss: 0.2520\n",
      "Epoch 9/250\n",
      "61/61 [==============================] - 2s 32ms/step - loss: 0.2561 - val_loss: 0.2547\n",
      "Epoch 10/250\n",
      "61/61 [==============================] - 2s 32ms/step - loss: 0.2560 - val_loss: 0.2528\n",
      "Epoch 11/250\n",
      "61/61 [==============================] - 2s 31ms/step - loss: 0.2558 - val_loss: 0.2519\n",
      "Epoch 12/250\n",
      "61/61 [==============================] - 2s 31ms/step - loss: 0.2556 - val_loss: 0.2515\n",
      "Epoch 13/250\n",
      "61/61 [==============================] - 2s 31ms/step - loss: 0.2552 - val_loss: 0.2515\n",
      "Epoch 14/250\n",
      "61/61 [==============================] - 2s 32ms/step - loss: 0.2540 - val_loss: 0.2510\n",
      "Epoch 15/250\n",
      "61/61 [==============================] - 2s 32ms/step - loss: 0.2554 - val_loss: 0.2510\n",
      "Epoch 16/250\n",
      "61/61 [==============================] - 2s 32ms/step - loss: 0.2532 - val_loss: 0.2509\n",
      "Epoch 17/250\n",
      "61/61 [==============================] - 2s 34ms/step - loss: 0.2557 - val_loss: 0.2505\n",
      "Epoch 18/250\n",
      "61/61 [==============================] - 2s 38ms/step - loss: 0.2544 - val_loss: 0.2514\n",
      "Epoch 19/250\n",
      "61/61 [==============================] - 2s 31ms/step - loss: 0.2524 - val_loss: 0.2511\n",
      "Epoch 20/250\n",
      "61/61 [==============================] - 2s 31ms/step - loss: 0.2531 - val_loss: 0.2504\n",
      "Epoch 21/250\n",
      "61/61 [==============================] - 2s 36ms/step - loss: 0.2512 - val_loss: 0.2506\n",
      "Epoch 22/250\n",
      "61/61 [==============================] - 2s 32ms/step - loss: 0.2497 - val_loss: 0.2515\n",
      "Epoch 23/250\n",
      "61/61 [==============================] - 2s 31ms/step - loss: 0.2486 - val_loss: 0.2525\n",
      "Epoch 24/250\n",
      "61/61 [==============================] - 2s 32ms/step - loss: 0.2514 - val_loss: 0.2503\n",
      "Epoch 25/250\n",
      "61/61 [==============================] - 2s 32ms/step - loss: 0.2507 - val_loss: 0.2498\n",
      "Epoch 26/250\n",
      "61/61 [==============================] - 2s 32ms/step - loss: 0.2490 - val_loss: 0.2502\n",
      "Epoch 27/250\n",
      "61/61 [==============================] - 2s 32ms/step - loss: 0.2512 - val_loss: 0.2509\n",
      "Epoch 28/250\n",
      "61/61 [==============================] - 2s 31ms/step - loss: 0.2487 - val_loss: 0.2506\n",
      "Epoch 29/250\n",
      "61/61 [==============================] - 2s 31ms/step - loss: 0.2483 - val_loss: 0.2495\n",
      "Epoch 30/250\n",
      "61/61 [==============================] - 2s 31ms/step - loss: 0.2479 - val_loss: 0.2502\n",
      "Epoch 31/250\n",
      "61/61 [==============================] - 2s 31ms/step - loss: 0.2485 - val_loss: 0.2501\n",
      "Epoch 32/250\n",
      "61/61 [==============================] - 2s 32ms/step - loss: 0.2486 - val_loss: 0.2501\n",
      "Epoch 33/250\n",
      "61/61 [==============================] - 2s 31ms/step - loss: 0.2493 - val_loss: 0.2491\n",
      "Epoch 34/250\n",
      "61/61 [==============================] - 2s 35ms/step - loss: 0.2453 - val_loss: 0.2494\n",
      "Epoch 35/250\n",
      "61/61 [==============================] - 2s 36ms/step - loss: 0.2466 - val_loss: 0.2498\n",
      "Epoch 36/250\n",
      "61/61 [==============================] - 2s 31ms/step - loss: 0.2465 - val_loss: 0.2494\n",
      "Epoch 37/250\n",
      "61/61 [==============================] - 2s 35ms/step - loss: 0.2474 - val_loss: 0.2493\n",
      "Epoch 38/250\n",
      "61/61 [==============================] - 2s 31ms/step - loss: 0.2445 - val_loss: 0.2497\n",
      "Epoch 39/250\n",
      "61/61 [==============================] - 2s 31ms/step - loss: 0.2486 - val_loss: 0.2499\n",
      "Epoch 40/250\n",
      "61/61 [==============================] - 2s 32ms/step - loss: 0.2452 - val_loss: 0.2498\n",
      "Epoch 41/250\n",
      "61/61 [==============================] - 2s 31ms/step - loss: 0.2485 - val_loss: 0.2493\n",
      "Epoch 42/250\n",
      "61/61 [==============================] - 2s 31ms/step - loss: 0.2426 - val_loss: 0.2498\n",
      "Epoch 43/250\n",
      "61/61 [==============================] - 2s 31ms/step - loss: 0.2426 - val_loss: 0.2494\n",
      "\n",
      "Fold 4 prediction cv AUC: 0.74920\n",
      "\n",
      "Mean out of fold AUC: 0.74920\n",
      "Full validation AUC: 0.75142\n"
     ]
    }
   ],
   "source": [
    "K = 5\n",
    "runs_per_fold = 1\n",
    "n_epochs = 250\n",
    "patience = 10\n",
    "\n",
    "cv_aucs   = []\n",
    "full_val_preds = np.zeros(np.shape(X_train)[0])\n",
    "y_preds = np.zeros((np.shape(X_test)[0],K))\n",
    "\n",
    "kfold = StratifiedKFold(n_splits = K,  \n",
    "                            shuffle = True, random_state=1)\n",
    "\n",
    "for i, (f_ind, outf_ind) in enumerate(kfold.split(X_train, y_train)):\n",
    "\n",
    "    X_train_f, X_val_f = X_train.loc[f_ind].copy(), X_train.loc[outf_ind].copy()\n",
    "    y_train_f, y_val_f = y_train[f_ind], y_train[outf_ind]\n",
    "    \n",
    "    X_test_f = X_test.copy()\n",
    "    \n",
    "    \n",
    "    # Shuffle data\n",
    "    idx = np.arange(len(X_train_f))\n",
    "    np.random.shuffle(idx)\n",
    "    X_train_f = X_train_f.iloc[idx]\n",
    "    y_train_f = y_train_f.iloc[idx]\n",
    "    \n",
    "    #preprocessing\n",
    "    proc_X_train_f, proc_X_val_f, proc_X_test_f = preproc(X_train_f, X_val_f, X_test_f)\n",
    "    \n",
    "    #track oof prediction for cv scores\n",
    "    val_preds = 0\n",
    "    \n",
    "    for j in range(runs_per_fold):\n",
    "    \n",
    "        NN = build_embedding_network(len_embed_cols)\n",
    "\n",
    "        # Set callback functions to early stop training and save the best model so far\n",
    "        callbacks = [EarlyStopping(monitor='val_loss', patience=patience)]\n",
    "\n",
    "        NN.fit(proc_X_train_f, y_train_f.values, epochs=n_epochs, batch_size=4096, verbose=1,callbacks=callbacks,validation_data=(proc_X_val_f, y_val_f))\n",
    "        \n",
    "        val_preds += NN.predict(proc_X_val_f)[:,0] / runs_per_fold\n",
    "        y_preds[:,i] += NN.predict(proc_X_test_f)[:,0] / runs_per_fold\n",
    "        \n",
    "    full_val_preds[outf_ind] += val_preds\n",
    "        \n",
    "    cv_auc  = roc_auc_score(y_val_f.values, val_preds)\n",
    "    cv_aucs.append(cv_auc)\n",
    "    print ('\\nFold %i prediction cv AUC: %.5f\\n' %(i,cv_auc))\n",
    "    \n",
    "print('Mean out of fold AUC: %.5f' % np.mean(cv_auc))\n",
    "print('Full validation AUC: %.5f' % roc_auc_score(y_train.values, full_val_preds))"
   ]
  },
  {
   "cell_type": "code",
   "execution_count": 81,
   "id": "9919633b",
   "metadata": {
    "_cell_guid": "75c18073-03ec-4dc0-8ba9-3062e4a30eaa",
    "_uuid": "3530d70e-52b8-488d-a8ed-cb2cd5203744",
    "collapsed": false,
    "execution": {
     "iopub.execute_input": "2021-07-24T19:20:29.134279Z",
     "iopub.status.busy": "2021-07-24T19:20:29.133650Z",
     "iopub.status.idle": "2021-07-24T19:20:30.053081Z",
     "shell.execute_reply": "2021-07-24T19:20:30.053612Z",
     "shell.execute_reply.started": "2021-07-24T18:34:46.946353Z"
    },
    "jupyter": {
     "outputs_hidden": false
    },
    "papermill": {
     "duration": 3.016059,
     "end_time": "2021-07-24T19:20:30.053787",
     "exception": false,
     "start_time": "2021-07-24T19:20:27.037728",
     "status": "completed"
    },
    "tags": []
   },
   "outputs": [
    {
     "data": {
      "image/png": "[encoded data removed]",
      "text/plain": [
       "<Figure size 432x432 with 1 Axes>"
      ]
     },
     "metadata": {
      "needs_background": "light"
     },
     "output_type": "display_data"
    }
   ],
   "source": [
    "folds_idx = [(trn_idx, val_idx) for trn_idx, val_idx in kfold.split(X_train, y_train)]\n",
    "display_roc_curve(y_=y_train, oof_preds_=full_val_preds, folds_idx_=folds_idx)"
   ]
  },
  {
   "cell_type": "code",
   "execution_count": 82,
   "id": "eb6de603",
   "metadata": {
    "_cell_guid": "3dc50d1c-c716-413a-adda-789300d7cb93",
    "_uuid": "da99647b-f875-4528-8122-c12938b821c1",
    "collapsed": false,
    "execution": {
     "iopub.execute_input": "2021-07-24T19:20:34.366769Z",
     "iopub.status.busy": "2021-07-24T19:20:34.366100Z",
     "iopub.status.idle": "2021-07-24T19:20:35.670032Z",
     "shell.execute_reply": "2021-07-24T19:20:35.669515Z",
     "shell.execute_reply.started": "2021-07-24T18:34:47.774633Z"
    },
    "jupyter": {
     "outputs_hidden": false
    },
    "papermill": {
     "duration": 3.418983,
     "end_time": "2021-07-24T19:20:35.670180",
     "exception": false,
     "start_time": "2021-07-24T19:20:32.251197",
     "status": "completed"
    },
    "tags": []
   },
   "outputs": [
    {
     "data": {
      "image/png": "[encoded data removed]",
      "text/plain": [
       "<Figure size 432x432 with 1 Axes>"
      ]
     },
     "metadata": {
      "needs_background": "light"
     },
     "output_type": "display_data"
    }
   ],
   "source": [
    "display_precision_recall(y_=y_train, oof_preds_=full_val_preds, folds_idx_=folds_idx)"
   ]
  },
  {
   "cell_type": "code",
   "execution_count": 83,
   "id": "87791ef7",
   "metadata": {
    "_cell_guid": "c4c98a1f-68b8-4df6-b027-787513a19a21",
    "_uuid": "6dc26aa3-c188-44e4-94a6-3dbd9e052c29",
    "collapsed": false,
    "execution": {
     "iopub.execute_input": "2021-07-24T19:20:39.963942Z",
     "iopub.status.busy": "2021-07-24T19:20:39.963286Z",
     "iopub.status.idle": "2021-07-24T19:20:40.199381Z",
     "shell.execute_reply": "2021-07-24T19:20:40.198659Z",
     "shell.execute_reply.started": "2021-07-24T18:34:49.004255Z"
    },
    "jupyter": {
     "outputs_hidden": false
    },
    "papermill": {
     "duration": 2.393534,
     "end_time": "2021-07-24T19:20:40.199588",
     "exception": false,
     "start_time": "2021-07-24T19:20:37.806054",
     "status": "completed"
    },
    "tags": []
   },
   "outputs": [],
   "source": [
    "test['TARGET'] = np.mean(y_preds, axis=1)\n",
    "test = test[['SK_ID_CURR', 'TARGET']]\n",
    "out_df = pd.DataFrame({'SK_ID_CURR': test['SK_ID_CURR'], 'TARGET': test['TARGET']})\n",
    "out_df.to_csv('nn_embedding_submission.csv', index=False)"
   ]
  }
 ],
 "metadata": {
  "kernelspec": {
   "display_name": "Python 3",
   "language": "python",
   "name": "python3"
  },
  "language_info": {
   "codemirror_mode": {
    "name": "ipython",
    "version": 3
   },
   "file_extension": ".py",
   "mimetype": "text/x-python",
   "name": "python",
   "nbconvert_exporter": "python",
   "pygments_lexer": "ipython3",
   "version": "3.7.10"
  },
  "papermill": {
   "default_parameters": {},
   "duration": 2286.78096,
   "end_time": "2021-07-24T19:20:44.628003",
   "environment_variables": {},
   "exception": null,
   "input_path": "__notebook__.ipynb",
   "output_path": "__notebook__.ipynb",
   "parameters": {},
   "start_time": "2021-07-24T18:42:37.847043",
   "version": "2.3.3"
  }
 },
 "nbformat": 4,
 "nbformat_minor": 5
}
