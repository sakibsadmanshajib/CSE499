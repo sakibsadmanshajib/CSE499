{
 "cells": [
  {
   "cell_type": "code",
   "execution_count": null,
   "metadata": {},
   "outputs": [],
   "source": [
    "import os\n",
    "import gc\n",
    "import pandas as pd\n",
    "import warnings\n",
    "from sklearn.model_selection import train_test_split\n",
    "from xgboost import XGBClassifier\n",
    "warnings.simplefilter(action='ignore', category=FutureWarning)"
   ]
  },
  {
   "cell_type": "code",
   "execution_count": null,
   "metadata": {},
   "outputs": [],
   "source": [
    "DATA_DIRECTORY = \"\""
   ]
  },
  {
   "cell_type": "code",
   "execution_count": null,
   "metadata": {},
   "outputs": [],
   "source": [
    "train = pd.read_csv(os.path.join(DATA_DIRECTORY, 'train.csv'))\n",
    "test = pd.read_csv(os.path.join(DATA_DIRECTORY, 'test.csv'))\n",
    "labels = pd.read_csv(os.path.join(DATA_DIRECTORY, 'labels.csv'))"
   ]
  },
  {
   "cell_type": "code",
   "execution_count": null,
   "metadata": {},
   "outputs": [],
   "source": [
    "train_values = labels.to_numpy()\n",
    "train_id = train['SK_ID_CURR']\n",
    "test_id = test['SK_ID_CURR']\n",
    "\n",
    "train_df_xg = train.copy()\n",
    "test_df_xg = test.copy()\n",
    "\n",
    "train_df_xg.drop('SK_ID_CURR', inplace=True, axis=1)\n",
    "test_df_xg.drop('SK_ID_CURR', inplace=True, axis=1)\n",
    "\n",
    "train_df_xg, test_df_xg = train_df_xg.align(test_df_xg, join = 'inner', axis = 1)\n",
    "\n",
    "ratio = (train_values == 0).sum()/ (train_values == 1).sum()\n",
    "del train, test\n",
    "gc.collect()"
   ]
  },
  {
   "cell_type": "code",
   "execution_count": null,
   "metadata": {},
   "outputs": [],
   "source": [
    "X_train, X_test, y_train, y_test = train_test_split(train_df_xg, train_values, test_size=0.2, stratify=train_values, random_state=1)"
   ]
  },
  {
   "cell_type": "code",
   "execution_count": null,
   "metadata": {},
   "outputs": [],
   "source": [
    "clf = XGBClassifier(\n",
    "    n_estimators=1200, \n",
    "    objective='binary:logistic', \n",
    "    gamma=0.098, \n",
    "    subsample=0.5, \n",
    "    scale_pos_weight=ratio,\n",
    "    )\n",
    "clf.fit(X_train, y_train, eval_set=[(X_test, y_test)], eval_metric='auc', early_stopping_rounds=10)"
   ]
  },
  {
   "cell_type": "code",
   "execution_count": null,
   "metadata": {},
   "outputs": [],
   "source": [
    "predictions = clf.predict_proba(test_df_xg.values)[:, 1]\n",
    "submission = pd.DataFrame({'SK_ID_CURR': test_id.values, 'TARGET': predictions})\n",
    "submission.to_csv('xgboost.csv', index = False)"
   ]
  }
 ],
 "metadata": {
  "interpreter": {
   "hash": "b2acef9c405ed574e8ba965b223740abc6391b41de725cf0c976ada615306344"
  },
  "kernelspec": {
   "display_name": "Python 3.8.0 64-bit ('CSE499': conda)",
   "name": "python3"
  },
  "language_info": {
   "codemirror_mode": {
    "name": "ipython",
    "version": 3
   },
   "file_extension": ".py",
   "mimetype": "text/x-python",
   "name": "python",
   "nbconvert_exporter": "python",
   "pygments_lexer": "ipython3"
  }
 },
 "nbformat": 4,
 "nbformat_minor": 4
}
