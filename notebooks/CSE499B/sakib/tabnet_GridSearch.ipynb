{
  "nbformat": 4,
  "nbformat_minor": 5,
  "metadata": {
    "accelerator": "GPU",
    "colab": {
      "name": "home-credit-loan-tabnet-GridSearch.ipynb",
      "provenance": [],
      "collapsed_sections": []
    },
    "interpreter": {
      "hash": "b2acef9c405ed574e8ba965b223740abc6391b41de725cf0c976ada615306344"
    },
    "kernelspec": {
      "name": "python3",
      "display_name": "Python 3.8.8 64-bit ('CSE499': conda)"
    },
    "language_info": {
      "name": "python",
      "version": "3.8.0",
      "mimetype": "text/x-python",
      "codemirror_mode": {
        "name": "ipython",
        "version": 3
      },
      "pygments_lexer": "ipython3",
      "nbconvert_exporter": "python",
      "file_extension": ".py"
    },
    "papermill": {
      "default_parameters": {},
      "duration": 113.523907,
      "end_time": "2021-08-21T14:56:53.810334",
      "environment_variables": {},
      "exception": true,
      "input_path": "__notebook__.ipynb",
      "output_path": "__notebook__.ipynb",
      "parameters": {},
      "start_time": "2021-08-21T14:55:00.286427",
      "version": "2.3.3"
    }
  },
  "cells": [
    {
      "cell_type": "code",
      "execution_count": null,
      "source": [
        "import os\r\n",
        "import gc\r\n",
        "import pandas as pd\r\n",
        "import numpy as np\r\n",
        "from sklearn.model_selection import train_test_split\r\n",
        "\r\n",
        "from pytorch_tabnet.tab_model import TabNetClassifier\r\n",
        "import torch\r\n",
        "\r\n",
        "from sklearn.impute import SimpleImputer\r\n",
        "\r\n",
        "from sklearn.model_selection import ParameterGrid\r\n",
        "from sklearn.metrics import roc_auc_score\r\n",
        "\r\n",
        "import warnings\r\n",
        "warnings.simplefilter(action='ignore', category=FutureWarning)"
      ],
      "outputs": [],
      "metadata": {
        "id": "fvOIYlrmHybj"
      }
    },
    {
      "cell_type": "code",
      "execution_count": null,
      "source": [
        "DATA_DIRECTORY = \"\""
      ],
      "outputs": [],
      "metadata": {
        "id": "bIaJDwOKHybm"
      }
    },
    {
      "cell_type": "code",
      "execution_count": null,
      "source": [
        "train = pd.read_csv(os.path.join(DATA_DIRECTORY, 'train.csv'))\r\n",
        "test = pd.read_csv(os.path.join(DATA_DIRECTORY, 'test.csv'))\r\n",
        "labels = pd.read_csv(os.path.join(DATA_DIRECTORY, 'labels.csv'))"
      ],
      "outputs": [],
      "metadata": {
        "id": "hIEpGTpRHybm"
      }
    },
    {
      "cell_type": "code",
      "execution_count": null,
      "source": [
        "test_id = test['SK_ID_CURR']"
      ],
      "outputs": [],
      "metadata": {
        "id": "NL1Yol_QHybm"
      }
    },
    {
      "cell_type": "code",
      "execution_count": null,
      "source": [
        "imputer = SimpleImputer(strategy = 'median')\r\n",
        "imputer.fit(train)\r\n",
        "train = imputer.transform(train)\r\n",
        "test = imputer.transform(test)"
      ],
      "outputs": [],
      "metadata": {
        "id": "MVbPICcCHybm"
      }
    },
    {
      "cell_type": "code",
      "execution_count": null,
      "source": [
        "target = labels.to_numpy()\r\n",
        "del labels\r\n",
        "gc.collect()"
      ],
      "outputs": [],
      "metadata": {
        "colab": {
          "base_uri": "https://localhost:8080/"
        },
        "id": "BDD2TSPTHybn",
        "outputId": "5abb2158-811a-4626-ce76-cfbe3ffb36d2"
      }
    },
    {
      "cell_type": "code",
      "execution_count": null,
      "source": [
        "x_train, x_val, y_train, y_val = train_test_split(train, target, test_size=0.30, random_state=8)"
      ],
      "outputs": [],
      "metadata": {
        "id": "3ldfBpVwHybn"
      }
    },
    {
      "cell_type": "code",
      "execution_count": null,
      "source": [
        "# Function that instantiates a tabnet model.\r\n",
        "def create_tabnet(n_d=32, n_steps=5, lr=0.02, gamma=1.5, \r\n",
        "                  n_independent=2, n_shared=2, lambda_sparse=1e-4, \r\n",
        "                  momentum=0.3, lr=2e-2 ,clip_value=2.):\r\n",
        "    \r\n",
        "    return TabNetClassifier(\r\n",
        "        n_d=n_d, n_a=n_d, n_steps=n_steps,\r\n",
        "        gamma=gamma, n_independent=n_independent, n_shared=n_shared,\r\n",
        "        lambda_sparse=lambda_sparse, momentum=momentum, clip_value=clip_value,\r\n",
        "        optimizer_fn=torch.optim.Adam, optimizer_params=dict(lr=lr),\r\n",
        "        scheduler_params = {\"gamma\": 0.95,\r\n",
        "                         \"step_size\": 20},\r\n",
        "        scheduler_fn=torch.optim.lr_scheduler.StepLR, epsilon=1e-15, verbose = 0,\r\n",
        "        device_name='cuda'\r\n",
        "    )\r\n"
      ],
      "outputs": [],
      "metadata": {
        "id": "11s7UR-QHybo"
      }
    },
    {
      "cell_type": "code",
      "execution_count": null,
      "source": [
        "# Generate the parameter grid.\r\n",
        "param_grid = dict(n_d = [8, 16, 32, 64],\r\n",
        "                  n_steps = [3, 4, 5],\r\n",
        "                  gamma = [1, 1.5, 2],\r\n",
        "                  lambda_sparse = [1e-2, 1e-3, 1e-4],\r\n",
        "                  momentum = [0.3, 0.4, 0.5],\r\n",
        "                  n_shared = [2],\r\n",
        "                  n_independent = [2],\r\n",
        "                  clip_value = [2.],   \r\n",
        "                  lr = [1e-2, 2e-2, 3e-2]\r\n",
        ")"
      ],
      "outputs": [],
      "metadata": {
        "id": "vYbdR5V-LCxz"
      }
    },
    {
      "cell_type": "code",
      "execution_count": null,
      "source": [
        "grid = ParameterGrid(param_grid)\r\n",
        "search_results = pd.DataFrame() \r\n",
        "for params in grid:\r\n",
        "    params['n_a'] = params['n_d'] # n_a=n_d always per the paper\r\n",
        "    tabnet = create_tabnet()\r\n",
        "    tabnet.set_params(**params)\r\n",
        "    print(tabnet)\r\n",
        "    tabnet.fit(\r\n",
        "        x_train,y_train[:,0],\r\n",
        "        eval_set=[(x_train, y_train[:,0]), (x_val, y_val[:,0])],\r\n",
        "        eval_name=['train', 'valid'],\r\n",
        "        eval_metric=['auc'],\r\n",
        "        max_epochs=1000 , patience=50,\r\n",
        "        batch_size=1024, virtual_batch_size=128,\r\n",
        "        num_workers=0,\r\n",
        "        weights=1,\r\n",
        "        drop_last=False\r\n",
        "    )  \r\n",
        "\r\n",
        "    y_prob = tabnet.predict_proba(x_val)\r\n",
        "    auc = roc_auc_score(y_val, y_prob[:, 1])\r\n",
        "    score = max(2*auc - 1, 0.)\r\n",
        "    # score = accuracy_score(y_val[:, 0], y_prob[: 1])\r\n",
        "    \r\n",
        "    results = pd.DataFrame([params])\r\n",
        "    results['score'] = np.round(score, 3)\r\n",
        "    search_results = search_results.append(results)"
      ],
      "outputs": [],
      "metadata": {
        "colab": {
          "background_save": true,
          "base_uri": "https://localhost:8080/"
        },
        "id": "zi5LhdDFLG3s",
        "outputId": "8b67a24b-7e74-4d2a-e56a-f925d5fb429f"
      }
    },
    {
      "cell_type": "code",
      "execution_count": null,
      "source": [
        "search_results.to_csv(os.path.join(DATA_DIRECTORY, 'search_results.csv'), index=False)"
      ],
      "outputs": [],
      "metadata": {
        "id": "KhsHaJYJHybo"
      }
    }
  ]
}