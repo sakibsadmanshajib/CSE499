{
 "cells": [
  {
   "cell_type": "code",
   "execution_count": null,
   "id": "85ad596d",
   "metadata": {},
   "outputs": [],
   "source": [
    "import os\n",
    "import gc\n",
    "import pandas as pd\n",
    "import numpy as np\n",
    "from sklearn.model_selection import train_test_split\n",
    "\n",
    "from pytorch_tabnet.tab_model import TabNetClassifier\n",
    "import torch\n",
    "\n",
    "from sklearn.impute import SimpleImputer\n",
    "\n",
    "from sklearn.model_selection import ParameterGrid\n",
    "from sklearn.metrics import roc_auc_score\n",
    "\n",
    "import warnings\n",
    "warnings.simplefilter(action='ignore', category=FutureWarning)"
   ]
  },
  {
   "cell_type": "code",
   "execution_count": null,
   "id": "55737585",
   "metadata": {},
   "outputs": [],
   "source": [
    "DATA_DIRECTORY = \"\""
   ]
  },
  {
   "cell_type": "code",
   "execution_count": null,
   "id": "7d2c8cc5",
   "metadata": {},
   "outputs": [],
   "source": [
    "train = pd.read_csv(os.path.join(DATA_DIRECTORY, 'train.csv'))\n",
    "test = pd.read_csv(os.path.join(DATA_DIRECTORY, 'test.csv'))\n",
    "labels = pd.read_csv(os.path.join(DATA_DIRECTORY, 'labels.csv'))"
   ]
  },
  {
   "cell_type": "code",
   "execution_count": null,
   "id": "7455401d",
   "metadata": {},
   "outputs": [],
   "source": [
    "test_id = test['SK_ID_CURR']"
   ]
  },
  {
   "cell_type": "code",
   "execution_count": null,
   "id": "6696d86e",
   "metadata": {},
   "outputs": [],
   "source": [
    "imputer = SimpleImputer(strategy = 'median')\n",
    "imputer.fit(train)\n",
    "train = imputer.transform(train)\n",
    "test = imputer.transform(test)"
   ]
  },
  {
   "cell_type": "code",
   "execution_count": null,
   "id": "321d312d",
   "metadata": {},
   "outputs": [],
   "source": [
    "target = labels.to_numpy()\n",
    "del labels\n",
    "gc.collect()"
   ]
  },
  {
   "cell_type": "code",
   "execution_count": null,
   "id": "8a51172c",
   "metadata": {},
   "outputs": [],
   "source": [
    "x_train, x_val, y_train, y_val = train_test_split(train, target, test_size=0.30, random_state=8)"
   ]
  },
  {
   "cell_type": "code",
   "execution_count": null,
   "id": "47effcb5",
   "metadata": {},
   "outputs": [],
   "source": [
    "# Function that instantiates a tabnet model.\n",
    "def create_tabnet(n_d=32, n_steps=5, lr=0.02, gamma=1.5, \n",
    "                  n_independent=2, n_shared=2, lambda_sparse=1e-4, \n",
    "                  momentum=0.3, lr=2e-2 ,clip_value=2.):\n",
    "    \n",
    "    return TabNetClassifier(\n",
    "        n_d=n_d, n_a=n_d, n_steps=n_steps,\n",
    "        gamma=gamma, n_independent=n_independent, n_shared=n_shared,\n",
    "        lambda_sparse=lambda_sparse, momentum=momentum, clip_value=clip_value,\n",
    "        optimizer_fn=torch.optim.Adam, optimizer_params=dict(lr=lr),\n",
    "        scheduler_params = {\"gamma\": 0.95,\n",
    "                         \"step_size\": 20},\n",
    "        scheduler_fn=torch.optim.lr_scheduler.StepLR, epsilon=1e-15, verbose = 0,\n",
    "        device_name='cuda'\n",
    "    )\n"
   ]
  },
  {
   "cell_type": "code",
   "execution_count": null,
   "id": "187e3b57",
   "metadata": {},
   "outputs": [],
   "source": [
    "# Generate the parameter grid.\n",
    "param_grid = dict(n_d = [8, 16, 32, 64],\n",
    "                  n_steps = [3, 4, 5],\n",
    "                  gamma = [1, 1.5, 2],\n",
    "                  lambda_sparse = [1e-2, 1e-3, 1e-4],\n",
    "                  momentum = [0.3, 0.4, 0.5],\n",
    "                  n_shared = [2],\n",
    "                  n_independent = [2],\n",
    "                  clip_value = [2.],   \n",
    "                  lr = [1e-2, 2e-2, 3e-2]\n",
    ")"
   ]
  },
  {
   "cell_type": "code",
   "execution_count": null,
   "id": "b38380d2",
   "metadata": {},
   "outputs": [],
   "source": [
    "grid = ParameterGrid(param_grid)\n",
    "search_results = pd.DataFrame() \n",
    "for params in grid:\n",
    "    params['n_a'] = params['n_d'] # n_a=n_d always per the paper\n",
    "    tabnet = create_tabnet()\n",
    "    tabnet.set_params(**params)\n",
    "    print(tabnet)\n",
    "    tabnet.fit(\n",
    "        x_train,y_train[:,0],\n",
    "        eval_set=[(x_train, y_train[:,0]), (x_val, y_val[:,0])],\n",
    "        eval_name=['train', 'valid'],\n",
    "        eval_metric=['auc'],\n",
    "        max_epochs=1000 , patience=50,\n",
    "        batch_size=1024, virtual_batch_size=128,\n",
    "        num_workers=0,\n",
    "        weights=1,\n",
    "        drop_last=False\n",
    "    )  \n",
    "\n",
    "    y_prob = tabnet.predict_proba(x_val)\n",
    "    auc = roc_auc_score(y_val, y_prob[:, 1])\n",
    "    score = max(2*auc - 1, 0.)\n",
    "    # score = accuracy_score(y_val[:, 0], y_prob[: 1])\n",
    "    \n",
    "    results = pd.DataFrame([params])\n",
    "    results['score'] = np.round(score, 3)\n",
    "    search_results = search_results.append(results)"
   ]
  },
  {
   "cell_type": "code",
   "execution_count": null,
   "id": "321b43c4",
   "metadata": {},
   "outputs": [],
   "source": [
    "search_results.to_csv(os.path.join(DATA_DIRECTORY, 'search_results.csv'), index=False)"
   ]
  }
 ],
 "metadata": {
  "accelerator": "GPU",
  "colab": {
   "collapsed_sections": [],
   "name": "home-credit-loan-tabnet-GridSearch.ipynb",
   "provenance": []
  },
  "interpreter": {
   "hash": "b2acef9c405ed574e8ba965b223740abc6391b41de725cf0c976ada615306344"
  },
  "kernelspec": {
   "display_name": "Python 3.8.0 64-bit ('CSE499': conda)",
   "name": "python3"
  },
  "language_info": {
   "codemirror_mode": {
    "name": "ipython",
    "version": 3
   },
   "file_extension": ".py",
   "mimetype": "text/x-python",
   "name": "python",
   "nbconvert_exporter": "python",
   "pygments_lexer": "ipython3"
  },
  "papermill": {
   "default_parameters": {},
   "duration": 113.523907,
   "end_time": "2021-08-21T14:56:53.810334",
   "environment_variables": {},
   "exception": true,
   "input_path": "__notebook__.ipynb",
   "output_path": "__notebook__.ipynb",
   "parameters": {},
   "start_time": "2021-08-21T14:55:00.286427",
   "version": "2.3.3"
  }
 },
 "nbformat": 4,
 "nbformat_minor": 5
}
