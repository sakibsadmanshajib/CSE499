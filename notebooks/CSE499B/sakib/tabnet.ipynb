{
 "cells": [
  {
   "cell_type": "code",
   "execution_count": 8,
   "source": [
    "import os\r\n",
    "import gc\r\n",
    "import pandas as pd\r\n",
    "from sklearn.model_selection import train_test_split\r\n",
    "\r\n",
    "from pytorch_tabnet.tab_model import TabNetClassifier\r\n",
    "import torch\r\n",
    "\r\n",
    "from sklearn.impute import SimpleImputer\r\n",
    "\r\n",
    "import warnings\r\n",
    "warnings.simplefilter(action='ignore', category=FutureWarning)"
   ],
   "outputs": [],
   "metadata": {
    "execution": {
     "iopub.execute_input": "2021-08-21T14:55:18.051808Z",
     "iopub.status.busy": "2021-08-21T14:55:18.051131Z",
     "iopub.status.idle": "2021-08-21T14:55:20.462977Z",
     "shell.execute_reply": "2021-08-21T14:55:20.461995Z",
     "shell.execute_reply.started": "2021-08-21T13:41:08.573986Z"
    },
    "papermill": {
     "duration": 2.431982,
     "end_time": "2021-08-21T14:55:20.463183",
     "exception": false,
     "start_time": "2021-08-21T14:55:18.031201",
     "status": "completed"
    },
    "tags": []
   }
  },
  {
   "cell_type": "code",
   "execution_count": 9,
   "source": [
    "DATA_DIRECTORY = \"\""
   ],
   "outputs": [],
   "metadata": {
    "execution": {
     "iopub.execute_input": "2021-08-21T14:55:20.490905Z",
     "iopub.status.busy": "2021-08-21T14:55:20.489880Z",
     "iopub.status.idle": "2021-08-21T14:55:20.492303Z",
     "shell.execute_reply": "2021-08-21T14:55:20.492779Z"
    },
    "papermill": {
     "duration": 0.018291,
     "end_time": "2021-08-21T14:55:20.492942",
     "exception": false,
     "start_time": "2021-08-21T14:55:20.474651",
     "status": "completed"
    },
    "tags": []
   }
  },
  {
   "cell_type": "code",
   "execution_count": 10,
   "source": [
    "train = pd.read_csv(os.path.join(DATA_DIRECTORY, 'train.csv'))\r\n",
    "test = pd.read_csv(os.path.join(DATA_DIRECTORY, 'test.csv'))\r\n",
    "labels = pd.read_csv(os.path.join(DATA_DIRECTORY, 'labels.csv'))"
   ],
   "outputs": [],
   "metadata": {
    "execution": {
     "iopub.execute_input": "2021-08-21T14:55:20.519519Z",
     "iopub.status.busy": "2021-08-21T14:55:20.518581Z",
     "iopub.status.idle": "2021-08-21T14:56:12.880205Z",
     "shell.execute_reply": "2021-08-21T14:56:12.879020Z"
    },
    "papermill": {
     "duration": 52.375964,
     "end_time": "2021-08-21T14:56:12.880392",
     "exception": false,
     "start_time": "2021-08-21T14:55:20.504428",
     "status": "completed"
    },
    "tags": []
   }
  },
  {
   "cell_type": "code",
   "execution_count": 11,
   "source": [
    "test_id = test['SK_ID_CURR']"
   ],
   "outputs": [],
   "metadata": {}
  },
  {
   "cell_type": "code",
   "execution_count": 12,
   "source": [
    "imputer = SimpleImputer(strategy = 'median')\r\n",
    "imputer.fit(train)\r\n",
    "train = imputer.transform(train)\r\n",
    "test = imputer.transform(test)"
   ],
   "outputs": [],
   "metadata": {
    "execution": {
     "iopub.execute_input": "2021-08-21T14:56:12.913366Z",
     "iopub.status.busy": "2021-08-21T14:56:12.912542Z",
     "iopub.status.idle": "2021-08-21T14:56:52.614706Z",
     "shell.execute_reply": "2021-08-21T14:56:52.613973Z"
    },
    "papermill": {
     "duration": 39.722848,
     "end_time": "2021-08-21T14:56:52.614854",
     "exception": false,
     "start_time": "2021-08-21T14:56:12.892006",
     "status": "completed"
    },
    "tags": []
   }
  },
  {
   "cell_type": "code",
   "execution_count": 13,
   "source": [
    "target = labels.to_numpy()\r\n",
    "del labels\r\n",
    "gc.collect()"
   ],
   "outputs": [
    {
     "output_type": "execute_result",
     "data": {
      "text/plain": [
       "77"
      ]
     },
     "metadata": {},
     "execution_count": 13
    }
   ],
   "metadata": {
    "execution": {
     "iopub.execute_input": "2021-08-21T14:56:52.759804Z",
     "iopub.status.busy": "2021-08-21T14:56:52.758862Z",
     "iopub.status.idle": "2021-08-21T14:56:52.886485Z",
     "shell.execute_reply": "2021-08-21T14:56:52.885829Z"
    },
    "papermill": {
     "duration": 0.2603,
     "end_time": "2021-08-21T14:56:52.886786",
     "exception": true,
     "start_time": "2021-08-21T14:56:52.626486",
     "status": "failed"
    },
    "tags": []
   }
  },
  {
   "cell_type": "code",
   "execution_count": 14,
   "source": [
    "x_train, x_val, y_train, y_val = train_test_split(train, target, test_size=0.30, random_state=8)"
   ],
   "outputs": [],
   "metadata": {
    "execution": {
     "iopub.status.busy": "2021-08-21T13:41:09.482987Z",
     "iopub.status.idle": "2021-08-21T13:41:09.483656Z"
    },
    "papermill": {
     "duration": null,
     "end_time": null,
     "exception": null,
     "start_time": null,
     "status": "pending"
    },
    "tags": []
   }
  },
  {
   "cell_type": "code",
   "execution_count": 15,
   "source": [
    "# https://towardsdatascience.com/tabnet-deep-neural-network-for-structured-tabular-data-39eb4b27a9e4\r\n",
    "tabnet_clf = TabNetClassifier(optimizer_fn=torch.optim.Adam,\r\n",
    "                       optimizer_params=dict(lr=2e-2),\r\n",
    "                       scheduler_params={\"step_size\":10, # how to use learning rate scheduler\r\n",
    "                                         \"gamma\":0.9},\r\n",
    "                       scheduler_fn=torch.optim.lr_scheduler.StepLR,\r\n",
    "                       mask_type='entmax' # \"sparsemax\"\r\n",
    "                      ) "
   ],
   "outputs": [
    {
     "output_type": "stream",
     "name": "stdout",
     "text": [
      "Device used : cpu\n"
     ]
    }
   ],
   "metadata": {
    "execution": {
     "iopub.status.busy": "2021-08-21T13:41:09.484921Z",
     "iopub.status.idle": "2021-08-21T13:41:09.485518Z"
    },
    "papermill": {
     "duration": null,
     "end_time": null,
     "exception": null,
     "start_time": null,
     "status": "pending"
    },
    "tags": []
   }
  },
  {
   "cell_type": "code",
   "execution_count": 25,
   "source": [
    "tabnet_clf.fit(\r\n",
    "    x_train,y_train[:,0],\r\n",
    "    eval_set=[(x_train, y_train[:,0]), (x_val, y_val[:,0])],\r\n",
    "    eval_name=['train', 'valid'],\r\n",
    "    eval_metric=['auc','accuracy'],\r\n",
    "    max_epochs=1000 , patience=50,\r\n",
    "    batch_size=256, virtual_batch_size=128,\r\n",
    "    num_workers=0,\r\n",
    "    weights=1,\r\n",
    "    drop_last=False\r\n",
    ")    "
   ],
   "outputs": [
    {
     "output_type": "stream",
     "name": "stdout",
     "text": [
      "epoch 0  | loss: 0.61076 | train_auc: 0.77175 | train_accuracy: 0.74201 | valid_auc: 0.7711  | valid_accuracy: 0.74042 |  0:02:23s\n",
      "epoch 1  | loss: 0.56527 | train_auc: 0.78888 | train_accuracy: 0.69157 | valid_auc: 0.77553 | valid_accuracy: 0.68739 |  0:04:41s\n",
      "epoch 2  | loss: 0.54917 | train_auc: 0.80296 | train_accuracy: 0.66217 | valid_auc: 0.77216 | valid_accuracy: 0.65395 |  0:07:00s\n",
      "epoch 3  | loss: 0.53056 | train_auc: 0.81838 | train_accuracy: 0.69091 | valid_auc: 0.76808 | valid_accuracy: 0.67918 |  0:09:17s\n",
      "epoch 4  | loss: 0.51182 | train_auc: 0.8294  | train_accuracy: 0.70444 | valid_auc: 0.75974 | valid_accuracy: 0.68901 |  0:11:32s\n",
      "epoch 5  | loss: 0.49595 | train_auc: 0.83775 | train_accuracy: 0.70741 | valid_auc: 0.76093 | valid_accuracy: 0.68872 |  0:13:47s\n",
      "epoch 6  | loss: 0.48385 | train_auc: 0.84128 | train_accuracy: 0.7125  | valid_auc: 0.75622 | valid_accuracy: 0.69052 |  0:16:04s\n",
      "epoch 7  | loss: 0.47527 | train_auc: 0.84801 | train_accuracy: 0.68734 | valid_auc: 0.75475 | valid_accuracy: 0.66271 |  0:18:19s\n",
      "epoch 8  | loss: 0.46943 | train_auc: 0.84739 | train_accuracy: 0.69121 | valid_auc: 0.74725 | valid_accuracy: 0.66466 |  0:20:35s\n",
      "epoch 9  | loss: 0.46102 | train_auc: 0.85442 | train_accuracy: 0.72966 | valid_auc: 0.75106 | valid_accuracy: 0.70472 |  0:22:50s\n",
      "epoch 10 | loss: 0.45685 | train_auc: 0.85137 | train_accuracy: 0.71392 | valid_auc: 0.74405 | valid_accuracy: 0.68554 |  0:25:06s\n",
      "epoch 11 | loss: 0.44912 | train_auc: 0.86005 | train_accuracy: 0.72061 | valid_auc: 0.7474  | valid_accuracy: 0.6905  |  0:27:21s\n",
      "epoch 12 | loss: 0.44593 | train_auc: 0.85931 | train_accuracy: 0.68934 | valid_auc: 0.74559 | valid_accuracy: 0.65666 |  0:29:36s\n",
      "epoch 13 | loss: 0.43981 | train_auc: 0.86092 | train_accuracy: 0.7037  | valid_auc: 0.74499 | valid_accuracy: 0.6709  |  0:31:51s\n",
      "epoch 14 | loss: 0.43686 | train_auc: 0.86416 | train_accuracy: 0.69811 | valid_auc: 0.74555 | valid_accuracy: 0.66576 |  0:34:07s\n",
      "epoch 15 | loss: 0.43585 | train_auc: 0.86552 | train_accuracy: 0.72462 | valid_auc: 0.74501 | valid_accuracy: 0.69046 |  0:36:23s\n",
      "epoch 16 | loss: 0.43252 | train_auc: 0.86832 | train_accuracy: 0.70637 | valid_auc: 0.74362 | valid_accuracy: 0.6713  |  0:38:38s\n",
      "epoch 17 | loss: 0.42839 | train_auc: 0.86902 | train_accuracy: 0.71896 | valid_auc: 0.74594 | valid_accuracy: 0.68471 |  0:40:53s\n",
      "epoch 18 | loss: 0.42845 | train_auc: 0.87017 | train_accuracy: 0.71668 | valid_auc: 0.74381 | valid_accuracy: 0.67971 |  0:43:08s\n",
      "epoch 19 | loss: 0.42418 | train_auc: 0.87201 | train_accuracy: 0.72591 | valid_auc: 0.74346 | valid_accuracy: 0.69008 |  0:45:23s\n",
      "epoch 20 | loss: 0.42139 | train_auc: 0.87364 | train_accuracy: 0.73553 | valid_auc: 0.74086 | valid_accuracy: 0.6973  |  0:47:38s\n",
      "epoch 21 | loss: 0.41954 | train_auc: 0.87683 | train_accuracy: 0.73614 | valid_auc: 0.74035 | valid_accuracy: 0.69639 |  0:49:56s\n",
      "epoch 22 | loss: 0.41868 | train_auc: 0.87625 | train_accuracy: 0.73043 | valid_auc: 0.73988 | valid_accuracy: 0.68933 |  0:52:10s\n",
      "epoch 23 | loss: 0.41613 | train_auc: 0.87774 | train_accuracy: 0.73384 | valid_auc: 0.73856 | valid_accuracy: 0.6939  |  0:54:26s\n",
      "epoch 24 | loss: 0.41619 | train_auc: 0.87856 | train_accuracy: 0.73042 | valid_auc: 0.73905 | valid_accuracy: 0.68933 |  0:56:41s\n",
      "epoch 25 | loss: 0.41284 | train_auc: 0.8771  | train_accuracy: 0.72882 | valid_auc: 0.74137 | valid_accuracy: 0.68845 |  0:58:56s\n",
      "epoch 26 | loss: 0.41361 | train_auc: 0.87894 | train_accuracy: 0.73656 | valid_auc: 0.73938 | valid_accuracy: 0.69485 |  1:01:10s\n",
      "epoch 27 | loss: 0.4116  | train_auc: 0.87988 | train_accuracy: 0.7225  | valid_auc: 0.73947 | valid_accuracy: 0.67812 |  1:03:25s\n",
      "epoch 28 | loss: 0.40775 | train_auc: 0.88036 | train_accuracy: 0.73846 | valid_auc: 0.73833 | valid_accuracy: 0.6968  |  1:05:40s\n",
      "epoch 29 | loss: 0.40843 | train_auc: 0.87947 | train_accuracy: 0.74052 | valid_auc: 0.73642 | valid_accuracy: 0.70008 |  1:07:56s\n",
      "epoch 30 | loss: 0.40463 | train_auc: 0.87974 | train_accuracy: 0.73715 | valid_auc: 0.73734 | valid_accuracy: 0.69583 |  1:10:12s\n",
      "epoch 31 | loss: 0.40432 | train_auc: 0.88339 | train_accuracy: 0.7128  | valid_auc: 0.73474 | valid_accuracy: 0.66863 |  1:12:27s\n",
      "epoch 32 | loss: 0.40319 | train_auc: 0.88294 | train_accuracy: 0.74291 | valid_auc: 0.73319 | valid_accuracy: 0.69868 |  1:14:42s\n",
      "epoch 33 | loss: 0.40192 | train_auc: 0.88384 | train_accuracy: 0.74539 | valid_auc: 0.73787 | valid_accuracy: 0.70248 |  1:16:57s\n",
      "epoch 34 | loss: 0.40138 | train_auc: 0.8856  | train_accuracy: 0.75507 | valid_auc: 0.73822 | valid_accuracy: 0.71103 |  1:19:12s\n",
      "epoch 35 | loss: 0.40059 | train_auc: 0.88355 | train_accuracy: 0.74353 | valid_auc: 0.73746 | valid_accuracy: 0.70072 |  1:21:28s\n",
      "epoch 36 | loss: 0.39842 | train_auc: 0.8851  | train_accuracy: 0.73752 | valid_auc: 0.73577 | valid_accuracy: 0.6928  |  1:23:46s\n",
      "epoch 37 | loss: 0.39859 | train_auc: 0.88619 | train_accuracy: 0.74415 | valid_auc: 0.73434 | valid_accuracy: 0.69847 |  1:26:01s\n",
      "epoch 38 | loss: 0.39898 | train_auc: 0.88623 | train_accuracy: 0.75152 | valid_auc: 0.73596 | valid_accuracy: 0.70689 |  1:28:16s\n",
      "epoch 39 | loss: 0.39743 | train_auc: 0.88603 | train_accuracy: 0.75837 | valid_auc: 0.73609 | valid_accuracy: 0.71336 |  1:30:30s\n",
      "epoch 40 | loss: 0.39424 | train_auc: 0.88678 | train_accuracy: 0.74049 | valid_auc: 0.73377 | valid_accuracy: 0.69491 |  1:32:45s\n",
      "epoch 41 | loss: 0.39418 | train_auc: 0.88399 | train_accuracy: 0.75189 | valid_auc: 0.73255 | valid_accuracy: 0.70753 |  1:35:01s\n",
      "epoch 42 | loss: 0.39536 | train_auc: 0.88544 | train_accuracy: 0.73914 | valid_auc: 0.73367 | valid_accuracy: 0.69306 |  1:37:16s\n",
      "epoch 43 | loss: 0.39112 | train_auc: 0.88894 | train_accuracy: 0.75587 | valid_auc: 0.73384 | valid_accuracy: 0.70899 |  1:39:31s\n",
      "epoch 44 | loss: 0.3941  | train_auc: 0.88557 | train_accuracy: 0.73966 | valid_auc: 0.73333 | valid_accuracy: 0.69397 |  1:41:46s\n",
      "epoch 45 | loss: 0.39059 | train_auc: 0.8889  | train_accuracy: 0.7444  | valid_auc: 0.73372 | valid_accuracy: 0.69785 |  1:44:01s\n",
      "epoch 46 | loss: 0.39188 | train_auc: 0.88805 | train_accuracy: 0.74642 | valid_auc: 0.73165 | valid_accuracy: 0.6989  |  1:46:16s\n",
      "epoch 47 | loss: 0.39093 | train_auc: 0.88902 | train_accuracy: 0.72362 | valid_auc: 0.73382 | valid_accuracy: 0.67667 |  1:48:31s\n",
      "epoch 48 | loss: 0.39118 | train_auc: 0.88968 | train_accuracy: 0.74943 | valid_auc: 0.7332  | valid_accuracy: 0.70164 |  1:50:47s\n",
      "epoch 49 | loss: 0.38886 | train_auc: 0.88967 | train_accuracy: 0.7531  | valid_auc: 0.73246 | valid_accuracy: 0.70685 |  1:53:03s\n",
      "epoch 50 | loss: 0.38768 | train_auc: 0.88983 | train_accuracy: 0.75495 | valid_auc: 0.73598 | valid_accuracy: 0.70883 |  1:55:20s\n",
      "\n",
      "Early stopping occurred at epoch 50 with best_epoch = 0 and best_valid_accuracy = 0.74042\n",
      "Best weights from best epoch are automatically used!\n"
     ]
    }
   ],
   "metadata": {
    "papermill": {
     "duration": null,
     "end_time": null,
     "exception": null,
     "start_time": null,
     "status": "pending"
    },
    "tags": []
   }
  },
  {
   "cell_type": "code",
   "execution_count": 29,
   "source": [
    "predictions = tabnet_clf.predict_proba(test)[:, 1]\r\n",
    "submission = pd.DataFrame({'SK_ID_CURR': test_id.values, 'TARGET': predictions})\r\n",
    "submission.to_csv('tabnet.csv', index = False)"
   ],
   "outputs": [],
   "metadata": {
    "execution": {
     "iopub.status.busy": "2021-08-21T13:41:09.486607Z",
     "iopub.status.idle": "2021-08-21T13:41:09.487195Z"
    },
    "papermill": {
     "duration": null,
     "end_time": null,
     "exception": null,
     "start_time": null,
     "status": "pending"
    },
    "tags": []
   }
  }
 ],
 "metadata": {
  "kernelspec": {
   "name": "python3",
   "display_name": "Python 3.8.0 64-bit ('CSE499': conda)"
  },
  "language_info": {
   "codemirror_mode": {
    "name": "ipython",
    "version": 3
   },
   "file_extension": ".py",
   "mimetype": "text/x-python",
   "name": "python",
   "nbconvert_exporter": "python",
   "pygments_lexer": "ipython3",
   "version": "3.8.0"
  },
  "papermill": {
   "default_parameters": {},
   "duration": 113.523907,
   "end_time": "2021-08-21T14:56:53.810334",
   "environment_variables": {},
   "exception": true,
   "input_path": "__notebook__.ipynb",
   "output_path": "__notebook__.ipynb",
   "parameters": {},
   "start_time": "2021-08-21T14:55:00.286427",
   "version": "2.3.3"
  },
  "interpreter": {
   "hash": "b2acef9c405ed574e8ba965b223740abc6391b41de725cf0c976ada615306344"
  }
 },
 "nbformat": 4,
 "nbformat_minor": 5
}