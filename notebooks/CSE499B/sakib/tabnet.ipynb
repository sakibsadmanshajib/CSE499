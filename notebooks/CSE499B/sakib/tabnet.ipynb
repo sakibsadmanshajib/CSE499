{
 "cells": [
  {
   "cell_type": "code",
   "execution_count": null,
   "id": "1f4025aa",
   "metadata": {},
   "outputs": [],
   "source": [
    "import os\n",
    "import gc\n",
    "import pandas as pd\n",
    "from sklearn.model_selection import train_test_split\n",
    "\n",
    "from pytorch_tabnet.tab_model import TabNetClassifier\n",
    "import torch\n",
    "\n",
    "from sklearn.impute import SimpleImputer\n",
    "\n",
    "import warnings\n",
    "warnings.simplefilter(action='ignore', category=FutureWarning)"
   ]
  },
  {
   "cell_type": "code",
   "execution_count": null,
   "id": "617df425",
   "metadata": {},
   "outputs": [],
   "source": [
    "DATA_DIRECTORY = \"\""
   ]
  },
  {
   "cell_type": "code",
   "execution_count": null,
   "id": "3faddd96",
   "metadata": {},
   "outputs": [],
   "source": [
    "train = pd.read_csv(os.path.join(DATA_DIRECTORY, 'train.csv'))\n",
    "test = pd.read_csv(os.path.join(DATA_DIRECTORY, 'test.csv'))\n",
    "labels = pd.read_csv(os.path.join(DATA_DIRECTORY, 'labels.csv'))"
   ]
  },
  {
   "cell_type": "code",
   "execution_count": null,
   "id": "8b0d5f36",
   "metadata": {},
   "outputs": [],
   "source": [
    "test_id = test['SK_ID_CURR']"
   ]
  },
  {
   "cell_type": "code",
   "execution_count": null,
   "id": "3afdc1ae",
   "metadata": {},
   "outputs": [],
   "source": [
    "imputer = SimpleImputer(strategy = 'median')\n",
    "imputer.fit(train)\n",
    "train = imputer.transform(train)\n",
    "test = imputer.transform(test)"
   ]
  },
  {
   "cell_type": "code",
   "execution_count": null,
   "id": "da01b63b",
   "metadata": {},
   "outputs": [],
   "source": [
    "target = labels.to_numpy()\n",
    "del labels\n",
    "gc.collect()"
   ]
  },
  {
   "cell_type": "code",
   "execution_count": null,
   "id": "045c4ebb",
   "metadata": {},
   "outputs": [],
   "source": [
    "x_train, x_val, y_train, y_val = train_test_split(train, target, test_size=0.30, random_state=8)"
   ]
  },
  {
   "cell_type": "code",
   "execution_count": null,
   "id": "4a3f171d",
   "metadata": {},
   "outputs": [],
   "source": [
    "# https://towardsdatascience.com/tabnet-deep-neural-network-for-structured-tabular-data-39eb4b27a9e4\n",
    "tabnet_clf = TabNetClassifier(optimizer_fn=torch.optim.Adam,\n",
    "                       optimizer_params=dict(lr=2e-2),\n",
    "                       scheduler_params={\"step_size\":10, # how to use learning rate scheduler\n",
    "                                         \"gamma\":0.9},\n",
    "                       scheduler_fn=torch.optim.lr_scheduler.StepLR,\n",
    "                       mask_type='entmax' # \"sparsemax\"\n",
    "                      ) "
   ]
  },
  {
   "cell_type": "code",
   "execution_count": null,
   "id": "222785af",
   "metadata": {},
   "outputs": [],
   "source": [
    "tabnet_clf.fit(\n",
    "    x_train,y_train[:,0],\n",
    "    eval_set=[(x_train, y_train[:,0]), (x_val, y_val[:,0])],\n",
    "    eval_name=['train', 'valid'],\n",
    "    eval_metric=['auc','accuracy'],\n",
    "    max_epochs=1000 , patience=50,\n",
    "    batch_size=256, virtual_batch_size=128,\n",
    "    num_workers=0,\n",
    "    weights=1,\n",
    "    drop_last=False\n",
    ")    "
   ]
  },
  {
   "cell_type": "code",
   "execution_count": null,
   "id": "69bc6bb5",
   "metadata": {},
   "outputs": [],
   "source": [
    "predictions = tabnet_clf.predict_proba(test)[:, 1]\n",
    "submission = pd.DataFrame({'SK_ID_CURR': test_id.values, 'TARGET': predictions})\n",
    "submission.to_csv('tabnet.csv', index = False)"
   ]
  }
 ],
 "metadata": {
  "interpreter": {
   "hash": "b2acef9c405ed574e8ba965b223740abc6391b41de725cf0c976ada615306344"
  },
  "kernelspec": {
   "display_name": "Python 3.8.0 64-bit ('CSE499': conda)",
   "name": "python3"
  },
  "language_info": {
   "codemirror_mode": {
    "name": "ipython",
    "version": 3
   },
   "file_extension": ".py",
   "mimetype": "text/x-python",
   "name": "python",
   "nbconvert_exporter": "python",
   "pygments_lexer": "ipython3"
  },
  "papermill": {
   "default_parameters": {},
   "duration": 113.523907,
   "end_time": "2021-08-21T14:56:53.810334",
   "environment_variables": {},
   "exception": true,
   "input_path": "__notebook__.ipynb",
   "output_path": "__notebook__.ipynb",
   "parameters": {},
   "start_time": "2021-08-21T14:55:00.286427",
   "version": "2.3.3"
  }
 },
 "nbformat": 4,
 "nbformat_minor": 5
}
