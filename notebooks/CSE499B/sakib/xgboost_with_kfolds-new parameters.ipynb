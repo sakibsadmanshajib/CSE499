{
  "nbformat": 4,
  "nbformat_minor": 2,
  "metadata": {
    "kernelspec": {
      "name": "python3",
      "display_name": "Python 3.8.0 64-bit ('CSE499': conda)"
    },
    "language_info": {
      "name": "python",
      "version": "3.8.0",
      "mimetype": "text/x-python",
      "codemirror_mode": {
        "name": "ipython",
        "version": 3
      },
      "pygments_lexer": "ipython3",
      "nbconvert_exporter": "python",
      "file_extension": ".py"
    },
    "interpreter": {
      "hash": "b2acef9c405ed574e8ba965b223740abc6391b41de725cf0c976ada615306344"
    },
    "colab": {
      "name": "home_credit_loan_xgboost-with-kfolds.ipynb",
      "provenance": [],
      "collapsed_sections": []
    },
    "accelerator": "GPU"
  },
  "cells": [
    {
      "cell_type": "code",
      "execution_count": 2,
      "source": [
        "import os\r\n",
        "import gc\r\n",
        "import pandas as pd\r\n",
        "import numpy as np\r\n",
        "import warnings\r\n",
        "from sklearn.model_selection import KFold\r\n",
        "from sklearn.metrics import roc_auc_score, roc_curve\r\n",
        "from sklearn.impute import SimpleImputer\r\n",
        "from sklearn.preprocessing import MinMaxScaler\r\n",
        "from xgboost import XGBClassifier\r\n",
        "warnings.simplefilter(action='ignore', category=FutureWarning)"
      ],
      "outputs": [],
      "metadata": {
        "execution": {
          "iopub.status.busy": "2021-08-15T08:41:19.429452Z",
          "iopub.execute_input": "2021-08-15T08:41:19.429937Z",
          "iopub.status.idle": "2021-08-15T08:41:20.637120Z",
          "shell.execute_reply.started": "2021-08-15T08:41:19.429814Z",
          "shell.execute_reply": "2021-08-15T08:41:20.636179Z"
        },
        "trusted": true,
        "id": "rT6tZDajOPdV"
      }
    },
    {
      "cell_type": "code",
      "execution_count": 3,
      "source": [
        "DATA_DIRECTORY = \"\""
      ],
      "outputs": [],
      "metadata": {
        "execution": {
          "iopub.status.busy": "2021-08-15T08:41:20.638860Z",
          "iopub.execute_input": "2021-08-15T08:41:20.639152Z",
          "iopub.status.idle": "2021-08-15T08:41:20.643250Z",
          "shell.execute_reply.started": "2021-08-15T08:41:20.639125Z",
          "shell.execute_reply": "2021-08-15T08:41:20.641920Z"
        },
        "trusted": true,
        "id": "ZqorwqXyOPdX"
      }
    },
    {
      "cell_type": "code",
      "execution_count": 4,
      "source": [
        "train = pd.read_csv(os.path.join(DATA_DIRECTORY, 'train.csv'))\r\n",
        "labels = pd.read_csv(os.path.join(DATA_DIRECTORY, 'labels.csv'))"
      ],
      "outputs": [],
      "metadata": {
        "execution": {
          "iopub.status.busy": "2021-08-15T08:41:20.645625Z",
          "iopub.execute_input": "2021-08-15T08:41:20.646034Z",
          "iopub.status.idle": "2021-08-15T08:41:53.075186Z",
          "shell.execute_reply.started": "2021-08-15T08:41:20.645992Z",
          "shell.execute_reply": "2021-08-15T08:41:53.074099Z"
        },
        "trusted": true,
        "id": "x7dfPNFcOPdY"
      }
    },
    {
      "cell_type": "code",
      "execution_count": 5,
      "source": [
        "train_ids = train['SK_ID_CURR']\r\n",
        "train.drop('SK_ID_CURR', axis=1, inplace=True)\r\n",
        "labels = labels.to_numpy()"
      ],
      "outputs": [],
      "metadata": {
        "execution": {
          "iopub.status.busy": "2021-08-15T08:41:53.077155Z",
          "iopub.execute_input": "2021-08-15T08:41:53.077585Z",
          "iopub.status.idle": "2021-08-15T08:41:54.710215Z",
          "shell.execute_reply.started": "2021-08-15T08:41:53.077549Z",
          "shell.execute_reply": "2021-08-15T08:41:54.709307Z"
        },
        "trusted": true,
        "id": "jRkSRziYOPdY"
      }
    },
    {
      "cell_type": "code",
      "execution_count": 6,
      "source": [
        "imputer = SimpleImputer(strategy = 'median')\r\n",
        "imputer.fit(train)\r\n",
        "train = imputer.transform(train)"
      ],
      "outputs": [],
      "metadata": {
        "id": "ecyvB0DTSDS3"
      }
    },
    {
      "cell_type": "code",
      "execution_count": 7,
      "source": [
        "scaler = MinMaxScaler(feature_range = (0, 1))\r\n",
        "scaler.fit(train)\r\n",
        "train = scaler.transform(train)"
      ],
      "outputs": [],
      "metadata": {
        "id": "xWgCl13jSBI-"
      }
    },
    {
      "cell_type": "code",
      "execution_count": 8,
      "source": [
        "def model(features, test_features, labels, test_ids, n_folds = 5):\r\n",
        "        \r\n",
        "    print('Training Data Shape: ', features.shape)\r\n",
        "    print('Testing Data Shape: ', test_features.shape)\r\n",
        "    \r\n",
        "    # Create the kfold object\r\n",
        "    k_fold = KFold(n_splits = n_folds, shuffle = True, random_state = 8888)\r\n",
        "    \r\n",
        "    # Empty array for test predictions\r\n",
        "    test_predictions = np.zeros(test_features.shape[0])\r\n",
        "    \r\n",
        "    # Empty array for out of fold validation predictions\r\n",
        "    out_of_fold = np.zeros(features.shape[0])\r\n",
        "    \r\n",
        "    # Lists for recording validation and training scores\r\n",
        "    valid_scores = []\r\n",
        "    train_scores = []\r\n",
        "\r\n",
        "    ratio = (labels == 0).sum()/ (labels == 1).sum()\r\n",
        "    \r\n",
        "    # Iterate through each fold\r\n",
        "    for train_indices, valid_indices in k_fold.split(features):\r\n",
        "        \r\n",
        "        # Training data for the fold\r\n",
        "        train_features, train_labels = features[train_indices], labels[train_indices]\r\n",
        "        # Validation data for the fold\r\n",
        "        valid_features, valid_labels = features[valid_indices], labels[valid_indices]\r\n",
        "        \r\n",
        "        # Create the model\r\n",
        "        model = XGBClassifier(\r\n",
        "                  n_estimators=5000,\r\n",
        "                  learning_rate=0.01,\r\n",
        "                  max_depth=11,\r\n",
        "                  objective='binary:logistic', \r\n",
        "                  gamma=0.098, \r\n",
        "                  subsample=0.708,\r\n",
        "                  reg_alpha=3.564, \r\n",
        "                  reg_lambda=4.930,\r\n",
        "                  random_state=8888,\r\n",
        "                  seed=88888,\r\n",
        "                  scale_pos_weight=ratio,\r\n",
        "                  colsample_bytree= 0.613,\r\n",
        "                  min_child_weight= 6,\r\n",
        "                  tree_method='gpu_hist',\r\n",
        "                  predictor='gpu_predictor'\r\n",
        "                  )\r\n",
        "        \r\n",
        "        # Train the model\r\n",
        "        model.fit(train_features, train_labels, eval_metric = 'auc',\r\n",
        "                  eval_set = [(train_features, train_labels), (valid_features, valid_labels)],\r\n",
        "                  early_stopping_rounds = 2500, verbose = 1000)\r\n",
        "        \r\n",
        "        # Make predictions\r\n",
        "        test_predictions += model.predict_proba(test_features)[:, 1] / k_fold.n_splits\r\n",
        "        \r\n",
        "        # Record the out of fold predictions\r\n",
        "        out_of_fold[valid_indices] = model.predict_proba(valid_features)[:, 1]\r\n",
        "        \r\n",
        "        evals_result = model.evals_result()\r\n",
        "        valid_score = max(evals_result['validation_1']['auc'])\r\n",
        "        train_score = max(evals_result['validation_0']['auc'])\r\n",
        "        \r\n",
        "        valid_scores.append(valid_score)\r\n",
        "        train_scores.append(train_score)\r\n",
        "        \r\n",
        "        # Clean up memory\r\n",
        "        gc.enable()\r\n",
        "        del model, train_features, valid_features\r\n",
        "        gc.collect()\r\n",
        "        \r\n",
        "    # Make the submission dataframe\r\n",
        "    submission = pd.DataFrame({'SK_ID_CURR': test_ids, 'TARGET': test_predictions})\r\n",
        "    \r\n",
        "    # Overall validation score\r\n",
        "    valid_auc = roc_auc_score(labels, out_of_fold)\r\n",
        "    \r\n",
        "    # Add the overall scores to the metrics\r\n",
        "    valid_scores.append(valid_auc)\r\n",
        "    train_scores.append(np.mean(train_scores))\r\n",
        "    \r\n",
        "    # Needed for creating dataframe of validation scores\r\n",
        "    fold_names = list(range(n_folds))\r\n",
        "    fold_names.append('overall')\r\n",
        "    \r\n",
        "    # Dataframe of validation scores\r\n",
        "    metrics = pd.DataFrame({'fold': fold_names,\r\n",
        "                            'train': train_scores,\r\n",
        "                            'valid': valid_scores}) \r\n",
        "    \r\n",
        "    return submission, metrics"
      ],
      "outputs": [],
      "metadata": {
        "id": "P4YtogqvQvk3"
      }
    },
    {
      "cell_type": "code",
      "execution_count": 9,
      "source": [
        "submission, metrics = model(train, train, labels, train_ids)"
      ],
      "outputs": [
        {
          "output_type": "stream",
          "name": "stdout",
          "text": [
            "Training Data Shape:  (307506, 649)\n",
            "Testing Data Shape:  (307506, 649)\n"
          ]
        },
        {
          "output_type": "stream",
          "name": "stderr",
          "text": [
            "C:\\Users\\sakib\\anaconda3\\envs\\CSE499\\lib\\site-packages\\xgboost\\sklearn.py:1146: UserWarning: The use of label encoder in XGBClassifier is deprecated and will be removed in a future release. To remove this warning, do the following: 1) Pass option use_label_encoder=False when constructing XGBClassifier object; and 2) Encode your labels (y) as integers starting with 0, i.e. 0, 1, 2, ..., [num_class - 1].\n",
            "  warnings.warn(label_encoder_deprecation_msg, UserWarning)\n",
            "C:\\Users\\sakib\\anaconda3\\envs\\CSE499\\lib\\site-packages\\sklearn\\utils\\validation.py:63: DataConversionWarning: A column-vector y was passed when a 1d array was expected. Please change the shape of y to (n_samples, ), for example using ravel().\n",
            "  return f(*args, **kwargs)\n"
          ]
        },
        {
          "output_type": "stream",
          "name": "stdout",
          "text": [
            "[0]\tvalidation_0-auc:0.79603\tvalidation_1-auc:0.69395\n",
            "[1000]\tvalidation_0-auc:0.99274\tvalidation_1-auc:0.79005\n",
            "[2000]\tvalidation_0-auc:0.99952\tvalidation_1-auc:0.78887\n",
            "[3000]\tvalidation_0-auc:0.99997\tvalidation_1-auc:0.78836\n",
            "[3358]\tvalidation_0-auc:0.99999\tvalidation_1-auc:0.78850\n",
            "[0]\tvalidation_0-auc:0.79744\tvalidation_1-auc:0.68108\n",
            "[1000]\tvalidation_0-auc:0.99308\tvalidation_1-auc:0.78418\n",
            "[2000]\tvalidation_0-auc:0.99957\tvalidation_1-auc:0.78365\n",
            "[3000]\tvalidation_0-auc:0.99997\tvalidation_1-auc:0.78333\n",
            "[3651]\tvalidation_0-auc:0.99999\tvalidation_1-auc:0.78344\n",
            "[0]\tvalidation_0-auc:0.79517\tvalidation_1-auc:0.68705\n",
            "[1000]\tvalidation_0-auc:0.99313\tvalidation_1-auc:0.78805\n",
            "[2000]\tvalidation_0-auc:0.99960\tvalidation_1-auc:0.78692\n",
            "[3000]\tvalidation_0-auc:0.99998\tvalidation_1-auc:0.78678\n",
            "[3581]\tvalidation_0-auc:1.00000\tvalidation_1-auc:0.78689\n",
            "[0]\tvalidation_0-auc:0.79514\tvalidation_1-auc:0.68986\n",
            "[1000]\tvalidation_0-auc:0.99341\tvalidation_1-auc:0.78994\n",
            "[2000]\tvalidation_0-auc:0.99960\tvalidation_1-auc:0.78823\n",
            "[3000]\tvalidation_0-auc:0.99997\tvalidation_1-auc:0.78786\n",
            "[3285]\tvalidation_0-auc:0.99999\tvalidation_1-auc:0.78800\n",
            "[0]\tvalidation_0-auc:0.79356\tvalidation_1-auc:0.68134\n",
            "[1000]\tvalidation_0-auc:0.99282\tvalidation_1-auc:0.78263\n",
            "[2000]\tvalidation_0-auc:0.99953\tvalidation_1-auc:0.78127\n",
            "[3000]\tvalidation_0-auc:0.99997\tvalidation_1-auc:0.78110\n",
            "[3653]\tvalidation_0-auc:0.99999\tvalidation_1-auc:0.78182\n"
          ]
        }
      ],
      "metadata": {
        "colab": {
          "base_uri": "https://localhost:8080/"
        },
        "id": "xcFM1uTxRzUo",
        "outputId": "49376f98-97da-485a-8c99-f77e3a669240"
      }
    },
    {
      "cell_type": "code",
      "execution_count": 10,
      "source": [
        "print('XGBoost metrics')\r\n",
        "print(metrics)"
      ],
      "outputs": [
        {
          "output_type": "stream",
          "name": "stdout",
          "text": [
            "XGBoost metrics\n",
            "      fold     train     valid\n",
            "0        0  0.999988  0.790278\n",
            "1        1  0.999993  0.784309\n",
            "2        2  0.999996  0.788305\n",
            "3        3  0.999987  0.790216\n",
            "4        4  0.999992  0.782807\n",
            "5  overall  0.999991  0.786360\n"
          ]
        }
      ],
      "metadata": {
        "id": "KAjIfITZR1GC",
        "colab": {
          "base_uri": "https://localhost:8080/"
        },
        "outputId": "cb3dc2c6-671c-461c-ac63-70375e5fd7e6"
      }
    },
    {
      "cell_type": "code",
      "execution_count": 11,
      "source": [
        "submission.to_csv('xgboost.csv', index = False)"
      ],
      "outputs": [],
      "metadata": {}
    },
    {
      "cell_type": "code",
      "execution_count": 16,
      "source": [
        "pred = submission['TARGET'].to_numpy()"
      ],
      "outputs": [],
      "metadata": {}
    },
    {
      "cell_type": "code",
      "execution_count": 32,
      "source": [
        "import matplotlib.pyplot as plt\r\n",
        "\r\n",
        "fpr, tpr, _ = roc_curve(labels[:,0],  pred)\r\n",
        "auc = roc_auc_score(labels[:,0], pred)\r\n",
        "plt.plot(fpr,tpr,label=\"XGBoost\")\r\n",
        "plt.plot([0, 1], [0, 1], color='navy', linestyle='--')  \r\n",
        "plt.legend(loc=4)\r\n",
        "plt.show()"
      ],
      "outputs": [
        {
          "output_type": "display_data",
          "data": {
            "image/png": "[encoded data removed]",
            "text/plain": [
              "<Figure size 432x288 with 1 Axes>"
            ]
          },
          "metadata": {
            "needs_background": "light"
          }
        }
      ],
      "metadata": {}
    }
  ]
}