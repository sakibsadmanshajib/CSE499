{
  "nbformat": 4,
  "nbformat_minor": 2,
  "metadata": {
    "kernelspec": {
      "name": "python3",
      "display_name": "Python 3.8.0 64-bit ('CSE499': conda)"
    },
    "language_info": {
      "name": "python",
      "version": "3.8.0",
      "mimetype": "text/x-python",
      "codemirror_mode": {
        "name": "ipython",
        "version": 3
      },
      "pygments_lexer": "ipython3",
      "nbconvert_exporter": "python",
      "file_extension": ".py"
    },
    "interpreter": {
      "hash": "b2acef9c405ed574e8ba965b223740abc6391b41de725cf0c976ada615306344"
    },
    "colab": {
      "name": "home-credit-loan-xgboost.ipynb",
      "provenance": [],
      "collapsed_sections": []
    }
  },
  "cells": [
    {
      "cell_type": "code",
      "execution_count": 3,
      "source": [
        "import os\r\n",
        "import gc\r\n",
        "import pandas as pd\r\n",
        "import numpy as np\r\n",
        "import warnings\r\n",
        "from sklearn.model_selection import KFold\r\n",
        "from sklearn.metrics import roc_auc_score\r\n",
        "from sklearn.impute import SimpleImputer\r\n",
        "from sklearn.preprocessing import MinMaxScaler\r\n",
        "from xgboost import XGBClassifier\r\n",
        "warnings.simplefilter(action='ignore', category=FutureWarning)"
      ],
      "outputs": [],
      "metadata": {
        "execution": {
          "iopub.status.busy": "2021-08-15T08:41:19.429452Z",
          "iopub.execute_input": "2021-08-15T08:41:19.429937Z",
          "iopub.status.idle": "2021-08-15T08:41:20.637120Z",
          "shell.execute_reply.started": "2021-08-15T08:41:19.429814Z",
          "shell.execute_reply": "2021-08-15T08:41:20.636179Z"
        },
        "trusted": true,
        "id": "rT6tZDajOPdV"
      }
    },
    {
      "cell_type": "code",
      "execution_count": 4,
      "source": [
        "DATA_DIRECTORY = \"\""
      ],
      "outputs": [],
      "metadata": {
        "execution": {
          "iopub.status.busy": "2021-08-15T08:41:20.638860Z",
          "iopub.execute_input": "2021-08-15T08:41:20.639152Z",
          "iopub.status.idle": "2021-08-15T08:41:20.643250Z",
          "shell.execute_reply.started": "2021-08-15T08:41:20.639125Z",
          "shell.execute_reply": "2021-08-15T08:41:20.641920Z"
        },
        "trusted": true,
        "id": "ZqorwqXyOPdX"
      }
    },
    {
      "cell_type": "code",
      "execution_count": 5,
      "source": [
        "train = pd.read_csv(os.path.join(DATA_DIRECTORY, 'train.csv'))\r\n",
        "test = pd.read_csv(os.path.join(DATA_DIRECTORY, 'test.csv'))\r\n",
        "labels = pd.read_csv(os.path.join(DATA_DIRECTORY, 'labels.csv'))"
      ],
      "outputs": [],
      "metadata": {
        "execution": {
          "iopub.status.busy": "2021-08-15T08:41:20.645625Z",
          "iopub.execute_input": "2021-08-15T08:41:20.646034Z",
          "iopub.status.idle": "2021-08-15T08:41:53.075186Z",
          "shell.execute_reply.started": "2021-08-15T08:41:20.645992Z",
          "shell.execute_reply": "2021-08-15T08:41:53.074099Z"
        },
        "trusted": true,
        "id": "x7dfPNFcOPdY"
      }
    },
    {
      "cell_type": "code",
      "execution_count": 6,
      "source": [
        "test_ids = test['SK_ID_CURR']\r\n",
        "train.drop('SK_ID_CURR', axis=1, inplace=True)\r\n",
        "test.drop('SK_ID_CURR', axis=1, inplace=True)\r\n",
        "labels = labels.to_numpy()"
      ],
      "outputs": [],
      "metadata": {
        "execution": {
          "iopub.status.busy": "2021-08-15T08:41:53.077155Z",
          "iopub.execute_input": "2021-08-15T08:41:53.077585Z",
          "iopub.status.idle": "2021-08-15T08:41:54.710215Z",
          "shell.execute_reply.started": "2021-08-15T08:41:53.077549Z",
          "shell.execute_reply": "2021-08-15T08:41:54.709307Z"
        },
        "trusted": true,
        "id": "jRkSRziYOPdY"
      }
    },
    {
      "cell_type": "code",
      "execution_count": 7,
      "source": [
        "imputer = SimpleImputer(strategy = 'median')\r\n",
        "imputer.fit(train)\r\n",
        "train = imputer.transform(train)\r\n",
        "test = imputer.transform(test)"
      ],
      "outputs": [],
      "metadata": {
        "id": "ecyvB0DTSDS3"
      }
    },
    {
      "cell_type": "code",
      "execution_count": 8,
      "source": [
        "scaler = MinMaxScaler(feature_range = (0, 1))\r\n",
        "scaler.fit(train)\r\n",
        "train = scaler.transform(train)\r\n",
        "test = scaler.transform(test)"
      ],
      "outputs": [],
      "metadata": {
        "id": "xWgCl13jSBI-"
      }
    },
    {
      "cell_type": "code",
      "execution_count": 9,
      "source": [
        "def model(features, test_features, labels, test_ids, n_folds = 5):\r\n",
        "        \r\n",
        "    print('Training Data Shape: ', features.shape)\r\n",
        "    print('Testing Data Shape: ', test_features.shape)\r\n",
        "    \r\n",
        "    # Create the kfold object\r\n",
        "    k_fold = KFold(n_splits = n_folds, shuffle = True, random_state = 50)\r\n",
        "    \r\n",
        "    # Empty array for test predictions\r\n",
        "    test_predictions = np.zeros(test_features.shape[0])\r\n",
        "    \r\n",
        "    # Empty array for out of fold validation predictions\r\n",
        "    out_of_fold = np.zeros(features.shape[0])\r\n",
        "    \r\n",
        "    # Lists for recording validation and training scores\r\n",
        "    valid_scores = []\r\n",
        "    train_scores = []\r\n",
        "\r\n",
        "    ratio = (labels == 0).sum()/ (labels == 1).sum()\r\n",
        "    \r\n",
        "    # Iterate through each fold\r\n",
        "    for train_indices, valid_indices in k_fold.split(features):\r\n",
        "        \r\n",
        "        # Training data for the fold\r\n",
        "        train_features, train_labels = features[train_indices], labels[train_indices]\r\n",
        "        # Validation data for the fold\r\n",
        "        valid_features, valid_labels = features[valid_indices], labels[valid_indices]\r\n",
        "        \r\n",
        "        # Create the model\r\n",
        "        model = XGBClassifier(\r\n",
        "                  n_estimators=1200, \r\n",
        "                  objective='binary:logistic', \r\n",
        "                  gamma=0.098, \r\n",
        "                  subsample=0.5, \r\n",
        "                  scale_pos_weight=ratio,\r\n",
        "                  )\r\n",
        "        \r\n",
        "        # Train the model\r\n",
        "        model.fit(train_features, train_labels, eval_metric = 'auc',\r\n",
        "                  eval_set = [(valid_features, valid_labels), (train_features, train_labels)],\r\n",
        "                  early_stopping_rounds = 100, verbose = 200)\r\n",
        "        \r\n",
        "        # Make predictions\r\n",
        "        test_predictions += model.predict_proba(test_features)[:, 1] / k_fold.n_splits\r\n",
        "        \r\n",
        "        # Record the out of fold predictions\r\n",
        "        out_of_fold[valid_indices] = model.predict_proba(valid_features)[:, 1]\r\n",
        "        \r\n",
        "        evals_result = model.evals_result()\r\n",
        "        valid_score = max(evals_result['validation_1']['auc'])\r\n",
        "        train_score = max(evals_result['validation_0']['auc'])\r\n",
        "        \r\n",
        "        valid_scores.append(valid_score)\r\n",
        "        train_scores.append(train_score)\r\n",
        "        \r\n",
        "        # Clean up memory\r\n",
        "        gc.enable()\r\n",
        "        del model, train_features, valid_features\r\n",
        "        gc.collect()\r\n",
        "        \r\n",
        "    # Make the submission dataframe\r\n",
        "    submission = pd.DataFrame({'SK_ID_CURR': test_ids, 'TARGET': test_predictions})\r\n",
        "    \r\n",
        "    # Overall validation score\r\n",
        "    valid_auc = roc_auc_score(labels, out_of_fold)\r\n",
        "    \r\n",
        "    # Add the overall scores to the metrics\r\n",
        "    valid_scores.append(valid_auc)\r\n",
        "    train_scores.append(np.mean(train_scores))\r\n",
        "    \r\n",
        "    # Needed for creating dataframe of validation scores\r\n",
        "    fold_names = list(range(n_folds))\r\n",
        "    fold_names.append('overall')\r\n",
        "    \r\n",
        "    # Dataframe of validation scores\r\n",
        "    metrics = pd.DataFrame({'fold': fold_names,\r\n",
        "                            'train': train_scores,\r\n",
        "                            'valid': valid_scores}) \r\n",
        "    \r\n",
        "    return submission, metrics"
      ],
      "outputs": [],
      "metadata": {
        "id": "P4YtogqvQvk3"
      }
    },
    {
      "cell_type": "code",
      "execution_count": null,
      "source": [
        "submission, metrics = model(train, test, labels, test_ids)"
      ],
      "outputs": [
        {
          "output_type": "stream",
          "name": "stdout",
          "text": [
            "Training Data Shape:  (307506, 649)\n",
            "Testing Data Shape:  (48744, 649)\n"
          ]
        },
        {
          "output_type": "stream",
          "name": "stderr",
          "text": [
            "/usr/local/lib/python3.7/dist-packages/sklearn/preprocessing/_label.py:235: DataConversionWarning: A column-vector y was passed when a 1d array was expected. Please change the shape of y to (n_samples, ), for example using ravel().\n",
            "  y = column_or_1d(y, warn=True)\n",
            "/usr/local/lib/python3.7/dist-packages/sklearn/preprocessing/_label.py:268: DataConversionWarning: A column-vector y was passed when a 1d array was expected. Please change the shape of y to (n_samples, ), for example using ravel().\n",
            "  y = column_or_1d(y, warn=True)\n"
          ]
        },
        {
          "output_type": "stream",
          "name": "stdout",
          "text": [
            "[0]\tvalidation_0-auc:0.71417\tvalidation_1-auc:0.716255\n",
            "Multiple eval metrics have been passed: 'validation_1-auc' will be used for early stopping.\n",
            "\n",
            "Will train until validation_1-auc hasn't improved in 100 rounds.\n",
            "[200]\tvalidation_0-auc:0.785186\tvalidation_1-auc:0.807482\n",
            "[400]\tvalidation_0-auc:0.788792\tvalidation_1-auc:0.826401\n"
          ]
        }
      ],
      "metadata": {
        "colab": {
          "base_uri": "https://localhost:8080/"
        },
        "id": "xcFM1uTxRzUo",
        "outputId": "f6d86175-dbcd-4c39-a0f4-27803b3daa1c"
      }
    },
    {
      "cell_type": "code",
      "execution_count": null,
      "source": [
        "print('XGBoost metrics')\r\n",
        "print(metrics)"
      ],
      "outputs": [],
      "metadata": {
        "id": "KAjIfITZR1GC"
      }
    },
    {
      "cell_type": "code",
      "execution_count": null,
      "source": [
        "submission.to_csv('xgboost.csv', index = False)"
      ],
      "outputs": [],
      "metadata": {
        "execution": {
          "iopub.status.busy": "2021-08-15T08:41:59.771442Z",
          "iopub.status.idle": "2021-08-15T08:41:59.771958Z"
        },
        "trusted": true,
        "id": "hxy2sCpJOPdZ"
      }
    }
  ]
}