{
 "cells": [
  {
   "cell_type": "code",
   "execution_count": 1,
   "source": [
    "import os\r\n",
    "import gc\r\n",
    "import numpy as np\r\n",
    "import pandas as pd\r\n",
    "import multiprocessing as mp\r\n",
    "from functools import partial\r\n",
    "import warnings\r\n",
    "warnings.simplefilter(action='ignore', category=FutureWarning)"
   ],
   "outputs": [],
   "metadata": {
    "execution": {
     "iopub.execute_input": "2021-08-17T08:41:48.695535Z",
     "iopub.status.busy": "2021-08-17T08:41:48.694587Z",
     "iopub.status.idle": "2021-08-17T08:41:48.698332Z",
     "shell.execute_reply": "2021-08-17T08:41:48.697534Z",
     "shell.execute_reply.started": "2021-08-17T08:11:30.068812Z"
    },
    "papermill": {
     "duration": 0.088917,
     "end_time": "2021-08-17T08:41:48.698515",
     "exception": false,
     "start_time": "2021-08-17T08:41:48.609598",
     "status": "completed"
    },
    "tags": []
   }
  },
  {
   "cell_type": "code",
   "execution_count": 2,
   "source": [
    "DATA_DIRECTORY = \"../../../datasets\""
   ],
   "outputs": [],
   "metadata": {
    "execution": {
     "iopub.execute_input": "2021-08-17T08:41:48.846738Z",
     "iopub.status.busy": "2021-08-17T08:41:48.845726Z",
     "iopub.status.idle": "2021-08-17T08:41:48.848766Z",
     "shell.execute_reply": "2021-08-17T08:41:48.848233Z",
     "shell.execute_reply.started": "2021-08-17T08:11:30.080558Z"
    },
    "papermill": {
     "duration": 0.079663,
     "end_time": "2021-08-17T08:41:48.848922",
     "exception": false,
     "start_time": "2021-08-17T08:41:48.769259",
     "status": "completed"
    },
    "tags": []
   }
  },
  {
   "cell_type": "code",
   "execution_count": 3,
   "source": [
    "df_train = pd.read_csv(os.path.join(DATA_DIRECTORY, 'application_train.csv'))\n",
    "df_test = pd.read_csv(os.path.join(DATA_DIRECTORY, 'application_test.csv'))\n",
    "df = df_train.append(df_test)\n",
    "del df_train, df_test; gc.collect()"
   ],
   "outputs": [
    {
     "output_type": "execute_result",
     "data": {
      "text/plain": [
       "0"
      ]
     },
     "metadata": {},
     "execution_count": 3
    }
   ],
   "metadata": {
    "execution": {
     "iopub.execute_input": "2021-08-17T08:41:48.993936Z",
     "iopub.status.busy": "2021-08-17T08:41:48.993184Z",
     "iopub.status.idle": "2021-08-17T08:41:57.366017Z",
     "shell.execute_reply": "2021-08-17T08:41:57.366767Z",
     "shell.execute_reply.started": "2021-08-17T08:11:30.097776Z"
    },
    "papermill": {
     "duration": 8.447879,
     "end_time": "2021-08-17T08:41:57.367058",
     "exception": false,
     "start_time": "2021-08-17T08:41:48.919179",
     "status": "completed"
    },
    "tags": []
   }
  },
  {
   "cell_type": "code",
   "execution_count": 4,
   "source": [
    "df = df[df['AMT_INCOME_TOTAL'] < 20000000]\n",
    "df = df[df['CODE_GENDER'] != 'XNA']\n",
    "df['DAYS_EMPLOYED'].replace(365243, np.nan, inplace=True)\n",
    "df['DAYS_LAST_PHONE_CHANGE'].replace(0, np.nan, inplace=True)"
   ],
   "outputs": [],
   "metadata": {
    "execution": {
     "iopub.execute_input": "2021-08-17T08:41:57.516335Z",
     "iopub.status.busy": "2021-08-17T08:41:57.515356Z",
     "iopub.status.idle": "2021-08-17T08:41:58.722406Z",
     "shell.execute_reply": "2021-08-17T08:41:58.721631Z",
     "shell.execute_reply.started": "2021-08-17T08:11:37.523424Z"
    },
    "papermill": {
     "duration": 1.282895,
     "end_time": "2021-08-17T08:41:58.722567",
     "exception": false,
     "start_time": "2021-08-17T08:41:57.439672",
     "status": "completed"
    },
    "tags": []
   }
  },
  {
   "cell_type": "code",
   "execution_count": 5,
   "source": [
    "def get_age_group(days_birth):\n",
    "    age_years = -days_birth / 365\n",
    "    if age_years < 27: return 1\n",
    "    elif age_years < 40: return 2\n",
    "    elif age_years < 50: return 3\n",
    "    elif age_years < 65: return 4\n",
    "    elif age_years < 99: return 5\n",
    "    else: return 0"
   ],
   "outputs": [],
   "metadata": {
    "execution": {
     "iopub.execute_input": "2021-08-17T08:41:58.871591Z",
     "iopub.status.busy": "2021-08-17T08:41:58.870458Z",
     "iopub.status.idle": "2021-08-17T08:41:58.873701Z",
     "shell.execute_reply": "2021-08-17T08:41:58.872995Z",
     "shell.execute_reply.started": "2021-08-17T08:11:38.508193Z"
    },
    "papermill": {
     "duration": 0.080069,
     "end_time": "2021-08-17T08:41:58.873856",
     "exception": false,
     "start_time": "2021-08-17T08:41:58.793787",
     "status": "completed"
    },
    "tags": []
   }
  },
  {
   "cell_type": "code",
   "execution_count": 6,
   "source": [
    "docs = [f for f in df.columns if 'FLAG_DOC' in f]\n",
    "df['DOCUMENT_COUNT'] = df[docs].sum(axis=1)\n",
    "df['NEW_DOC_KURT'] = df[docs].kurtosis(axis=1)\n",
    "df['AGE_RANGE'] = df['DAYS_BIRTH'].apply(lambda x: get_age_group(x))"
   ],
   "outputs": [],
   "metadata": {
    "execution": {
     "iopub.execute_input": "2021-08-17T08:41:59.023256Z",
     "iopub.status.busy": "2021-08-17T08:41:59.022572Z",
     "iopub.status.idle": "2021-08-17T08:41:59.960732Z",
     "shell.execute_reply": "2021-08-17T08:41:59.960104Z",
     "shell.execute_reply.started": "2021-08-17T08:11:38.515753Z"
    },
    "papermill": {
     "duration": 1.016366,
     "end_time": "2021-08-17T08:41:59.960890",
     "exception": false,
     "start_time": "2021-08-17T08:41:58.944524",
     "status": "completed"
    },
    "tags": []
   }
  },
  {
   "cell_type": "code",
   "execution_count": 7,
   "source": [
    "df['EXT_SOURCES_PROD'] = df['EXT_SOURCE_1'] * df['EXT_SOURCE_2'] * df['EXT_SOURCE_3']\n",
    "df['EXT_SOURCES_WEIGHTED'] = df.EXT_SOURCE_1 * 2 + df.EXT_SOURCE_2 * 1 + df.EXT_SOURCE_3 * 3\n",
    "np.warnings.filterwarnings('ignore', r'All-NaN (slice|axis) encountered')\n",
    "for function_name in ['min', 'max', 'mean', 'nanmedian', 'var']:\n",
    "    feature_name = 'EXT_SOURCES_{}'.format(function_name.upper())\n",
    "    df[feature_name] = eval('np.{}'.format(function_name))(\n",
    "        df[['EXT_SOURCE_1', 'EXT_SOURCE_2', 'EXT_SOURCE_3']], axis=1)"
   ],
   "outputs": [],
   "metadata": {
    "execution": {
     "iopub.execute_input": "2021-08-17T08:42:00.110027Z",
     "iopub.status.busy": "2021-08-17T08:42:00.109022Z",
     "iopub.status.idle": "2021-08-17T08:42:01.726158Z",
     "shell.execute_reply": "2021-08-17T08:42:01.725405Z",
     "shell.execute_reply.started": "2021-08-17T08:11:39.241450Z"
    },
    "papermill": {
     "duration": 1.695522,
     "end_time": "2021-08-17T08:42:01.726365",
     "exception": false,
     "start_time": "2021-08-17T08:42:00.030843",
     "status": "completed"
    },
    "tags": []
   }
  },
  {
   "cell_type": "code",
   "execution_count": 8,
   "source": [
    "df['CREDIT_TO_ANNUITY_RATIO'] = df['AMT_CREDIT'] / df['AMT_ANNUITY']\n",
    "df['CREDIT_TO_GOODS_RATIO'] = df['AMT_CREDIT'] / df['AMT_GOODS_PRICE']\n",
    "df['ANNUITY_TO_INCOME_RATIO'] = df['AMT_ANNUITY'] / df['AMT_INCOME_TOTAL']\n",
    "df['CREDIT_TO_INCOME_RATIO'] = df['AMT_CREDIT'] / df['AMT_INCOME_TOTAL']\n",
    "df['INCOME_TO_EMPLOYED_RATIO'] = df['AMT_INCOME_TOTAL'] / df['DAYS_EMPLOYED']\n",
    "df['INCOME_TO_BIRTH_RATIO'] = df['AMT_INCOME_TOTAL'] / df['DAYS_BIRTH']    \n",
    "df['EMPLOYED_TO_BIRTH_RATIO'] = df['DAYS_EMPLOYED'] / df['DAYS_BIRTH']\n",
    "df['ID_TO_BIRTH_RATIO'] = df['DAYS_ID_PUBLISH'] / df['DAYS_BIRTH']\n",
    "df['CAR_TO_BIRTH_RATIO'] = df['OWN_CAR_AGE'] / df['DAYS_BIRTH']\n",
    "df['CAR_TO_EMPLOYED_RATIO'] = df['OWN_CAR_AGE'] / df['DAYS_EMPLOYED']\n",
    "df['PHONE_TO_BIRTH_RATIO'] = df['DAYS_LAST_PHONE_CHANGE'] / df['DAYS_BIRTH']"
   ],
   "outputs": [],
   "metadata": {
    "execution": {
     "iopub.execute_input": "2021-08-17T08:42:01.879088Z",
     "iopub.status.busy": "2021-08-17T08:42:01.878324Z",
     "iopub.status.idle": "2021-08-17T08:42:01.913429Z",
     "shell.execute_reply": "2021-08-17T08:42:01.912694Z",
     "shell.execute_reply.started": "2021-08-17T08:11:40.339082Z"
    },
    "papermill": {
     "duration": 0.113915,
     "end_time": "2021-08-17T08:42:01.913590",
     "exception": false,
     "start_time": "2021-08-17T08:42:01.799675",
     "status": "completed"
    },
    "tags": []
   }
  },
  {
   "cell_type": "code",
   "execution_count": 9,
   "source": [
    "def do_mean(df, group_cols, counted, agg_name):\n",
    "    gp = df[group_cols + [counted]].groupby(group_cols)[counted].mean().reset_index().rename(\n",
    "        columns={counted: agg_name})\n",
    "    df = df.merge(gp, on=group_cols, how='left')\n",
    "    del gp\n",
    "    gc.collect()\n",
    "    return df"
   ],
   "outputs": [],
   "metadata": {
    "execution": {
     "iopub.execute_input": "2021-08-17T08:42:02.063528Z",
     "iopub.status.busy": "2021-08-17T08:42:02.062818Z",
     "iopub.status.idle": "2021-08-17T08:42:02.064965Z",
     "shell.execute_reply": "2021-08-17T08:42:02.065484Z",
     "shell.execute_reply.started": "2021-08-17T08:11:40.377628Z"
    },
    "papermill": {
     "duration": 0.078718,
     "end_time": "2021-08-17T08:42:02.065675",
     "exception": false,
     "start_time": "2021-08-17T08:42:01.986957",
     "status": "completed"
    },
    "tags": []
   }
  },
  {
   "cell_type": "code",
   "execution_count": 10,
   "source": [
    "def do_median(df, group_cols, counted, agg_name):\n",
    "    gp = df[group_cols + [counted]].groupby(group_cols)[counted].median().reset_index().rename(\n",
    "        columns={counted: agg_name})\n",
    "    df = df.merge(gp, on=group_cols, how='left')\n",
    "    del gp\n",
    "    gc.collect()\n",
    "    return df"
   ],
   "outputs": [],
   "metadata": {
    "execution": {
     "iopub.execute_input": "2021-08-17T08:42:02.209047Z",
     "iopub.status.busy": "2021-08-17T08:42:02.208383Z",
     "iopub.status.idle": "2021-08-17T08:42:02.213635Z",
     "shell.execute_reply": "2021-08-17T08:42:02.214115Z",
     "shell.execute_reply.started": "2021-08-17T08:11:40.385428Z"
    },
    "papermill": {
     "duration": 0.079105,
     "end_time": "2021-08-17T08:42:02.214336",
     "exception": false,
     "start_time": "2021-08-17T08:42:02.135231",
     "status": "completed"
    },
    "tags": []
   }
  },
  {
   "cell_type": "code",
   "execution_count": 11,
   "source": [
    "def do_std(df, group_cols, counted, agg_name):\n",
    "    gp = df[group_cols + [counted]].groupby(group_cols)[counted].std().reset_index().rename(\n",
    "        columns={counted: agg_name})\n",
    "    df = df.merge(gp, on=group_cols, how='left')\n",
    "    del gp\n",
    "    gc.collect()\n",
    "    return df"
   ],
   "outputs": [],
   "metadata": {
    "execution": {
     "iopub.execute_input": "2021-08-17T08:42:02.357231Z",
     "iopub.status.busy": "2021-08-17T08:42:02.356584Z",
     "iopub.status.idle": "2021-08-17T08:42:02.362656Z",
     "shell.execute_reply": "2021-08-17T08:42:02.361985Z",
     "shell.execute_reply.started": "2021-08-17T08:11:40.400029Z"
    },
    "papermill": {
     "duration": 0.078632,
     "end_time": "2021-08-17T08:42:02.362809",
     "exception": false,
     "start_time": "2021-08-17T08:42:02.284177",
     "status": "completed"
    },
    "tags": []
   }
  },
  {
   "cell_type": "code",
   "execution_count": 12,
   "source": [
    "def do_sum(df, group_cols, counted, agg_name):\n",
    "    gp = df[group_cols + [counted]].groupby(group_cols)[counted].sum().reset_index().rename(\n",
    "        columns={counted: agg_name})\n",
    "    df = df.merge(gp, on=group_cols, how='left')\n",
    "    del gp\n",
    "    gc.collect()\n",
    "    return df"
   ],
   "outputs": [],
   "metadata": {
    "execution": {
     "iopub.execute_input": "2021-08-17T08:42:02.516034Z",
     "iopub.status.busy": "2021-08-17T08:42:02.515270Z",
     "iopub.status.idle": "2021-08-17T08:42:02.518817Z",
     "shell.execute_reply": "2021-08-17T08:42:02.518099Z",
     "shell.execute_reply.started": "2021-08-17T08:11:40.416475Z"
    },
    "papermill": {
     "duration": 0.086023,
     "end_time": "2021-08-17T08:42:02.518994",
     "exception": false,
     "start_time": "2021-08-17T08:42:02.432971",
     "status": "completed"
    },
    "tags": []
   }
  },
  {
   "cell_type": "code",
   "execution_count": 13,
   "source": [
    "group = ['ORGANIZATION_TYPE', 'NAME_EDUCATION_TYPE', 'OCCUPATION_TYPE', 'AGE_RANGE', 'CODE_GENDER']\n",
    "df = do_median(df, group, 'EXT_SOURCES_MEAN', 'GROUP_EXT_SOURCES_MEDIAN')\n",
    "df = do_std(df, group, 'EXT_SOURCES_MEAN', 'GROUP_EXT_SOURCES_STD')\n",
    "df = do_mean(df, group, 'AMT_INCOME_TOTAL', 'GROUP_INCOME_MEAN')\n",
    "df = do_std(df, group, 'AMT_INCOME_TOTAL', 'GROUP_INCOME_STD')\n",
    "df = do_mean(df, group, 'CREDIT_TO_ANNUITY_RATIO', 'GROUP_CREDIT_TO_ANNUITY_MEAN')\n",
    "df = do_std(df, group, 'CREDIT_TO_ANNUITY_RATIO', 'GROUP_CREDIT_TO_ANNUITY_STD')\n",
    "df = do_mean(df, group, 'AMT_CREDIT', 'GROUP_CREDIT_MEAN')\n",
    "df = do_mean(df, group, 'AMT_ANNUITY', 'GROUP_ANNUITY_MEAN')\n",
    "df = do_std(df, group, 'AMT_ANNUITY', 'GROUP_ANNUITY_STD')"
   ],
   "outputs": [],
   "metadata": {
    "execution": {
     "iopub.execute_input": "2021-08-17T08:42:02.668948Z",
     "iopub.status.busy": "2021-08-17T08:42:02.668188Z",
     "iopub.status.idle": "2021-08-17T08:42:42.013208Z",
     "shell.execute_reply": "2021-08-17T08:42:42.012479Z",
     "shell.execute_reply.started": "2021-08-17T08:11:40.435799Z"
    },
    "papermill": {
     "duration": 39.423963,
     "end_time": "2021-08-17T08:42:42.013395",
     "exception": false,
     "start_time": "2021-08-17T08:42:02.589432",
     "status": "completed"
    },
    "tags": []
   }
  },
  {
   "cell_type": "code",
   "execution_count": 14,
   "source": [
    "def label_encoder(df, categorical_columns=None):\n",
    "    if not categorical_columns:\n",
    "        categorical_columns = [col for col in df.columns if df[col].dtype == 'object']\n",
    "    for col in categorical_columns:\n",
    "        df[col], uniques = pd.factorize(df[col])\n",
    "    return df, categorical_columns"
   ],
   "outputs": [],
   "metadata": {
    "execution": {
     "iopub.execute_input": "2021-08-17T08:42:42.161187Z",
     "iopub.status.busy": "2021-08-17T08:42:42.160471Z",
     "iopub.status.idle": "2021-08-17T08:42:42.163613Z",
     "shell.execute_reply": "2021-08-17T08:42:42.163041Z",
     "shell.execute_reply.started": "2021-08-17T08:12:09.804353Z"
    },
    "papermill": {
     "duration": 0.079235,
     "end_time": "2021-08-17T08:42:42.163758",
     "exception": false,
     "start_time": "2021-08-17T08:42:42.084523",
     "status": "completed"
    },
    "tags": []
   }
  },
  {
   "cell_type": "code",
   "execution_count": 15,
   "source": [
    "def drop_application_columns(df):\n",
    "    drop_list = [\n",
    "        'CNT_CHILDREN', 'CNT_FAM_MEMBERS', 'HOUR_APPR_PROCESS_START',\n",
    "        'FLAG_EMP_PHONE', 'FLAG_MOBIL', 'FLAG_CONT_MOBILE', 'FLAG_EMAIL', 'FLAG_PHONE',\n",
    "        'FLAG_OWN_REALTY', 'REG_REGION_NOT_LIVE_REGION', 'REG_REGION_NOT_WORK_REGION',\n",
    "        'REG_CITY_NOT_WORK_CITY', 'OBS_30_CNT_SOCIAL_CIRCLE', 'OBS_60_CNT_SOCIAL_CIRCLE',\n",
    "        'AMT_REQ_CREDIT_BUREAU_DAY', 'AMT_REQ_CREDIT_BUREAU_MON', 'AMT_REQ_CREDIT_BUREAU_YEAR', \n",
    "        'COMMONAREA_MODE', 'NONLIVINGAREA_MODE', 'ELEVATORS_MODE', 'NONLIVINGAREA_AVG',\n",
    "        'FLOORSMIN_MEDI', 'LANDAREA_MODE', 'NONLIVINGAREA_MEDI', 'LIVINGAPARTMENTS_MODE',\n",
    "        'FLOORSMIN_AVG', 'LANDAREA_AVG', 'FLOORSMIN_MODE', 'LANDAREA_MEDI',\n",
    "        'COMMONAREA_MEDI', 'YEARS_BUILD_AVG', 'COMMONAREA_AVG', 'BASEMENTAREA_AVG',\n",
    "        'BASEMENTAREA_MODE', 'NONLIVINGAPARTMENTS_MEDI', 'BASEMENTAREA_MEDI', \n",
    "        'LIVINGAPARTMENTS_AVG', 'ELEVATORS_AVG', 'YEARS_BUILD_MEDI', 'ENTRANCES_MODE',\n",
    "        'NONLIVINGAPARTMENTS_MODE', 'LIVINGAREA_MODE', 'LIVINGAPARTMENTS_MEDI',\n",
    "        'YEARS_BUILD_MODE', 'YEARS_BEGINEXPLUATATION_AVG', 'ELEVATORS_MEDI', 'LIVINGAREA_MEDI',\n",
    "        'YEARS_BEGINEXPLUATATION_MODE', 'NONLIVINGAPARTMENTS_AVG', 'HOUSETYPE_MODE',\n",
    "        'FONDKAPREMONT_MODE', 'EMERGENCYSTATE_MODE'\n",
    "    ]\n",
    "    for doc_num in [2,4,5,6,7,9,10,11,12,13,14,15,16,17,19,20,21]:\n",
    "        drop_list.append('FLAG_DOCUMENT_{}'.format(doc_num))\n",
    "    df.drop(drop_list, axis=1, inplace=True)\n",
    "    return df"
   ],
   "outputs": [],
   "metadata": {
    "execution": {
     "iopub.execute_input": "2021-08-17T08:42:42.312721Z",
     "iopub.status.busy": "2021-08-17T08:42:42.311976Z",
     "iopub.status.idle": "2021-08-17T08:42:42.315440Z",
     "shell.execute_reply": "2021-08-17T08:42:42.314911Z",
     "shell.execute_reply.started": "2021-08-17T08:12:09.812590Z"
    },
    "papermill": {
     "duration": 0.082367,
     "end_time": "2021-08-17T08:42:42.315599",
     "exception": false,
     "start_time": "2021-08-17T08:42:42.233232",
     "status": "completed"
    },
    "tags": []
   }
  },
  {
   "cell_type": "code",
   "execution_count": 16,
   "source": [
    "df, le_encoded_cols = label_encoder(df, None)\n",
    "df = drop_application_columns(df)"
   ],
   "outputs": [],
   "metadata": {
    "execution": {
     "iopub.execute_input": "2021-08-17T08:42:42.470153Z",
     "iopub.status.busy": "2021-08-17T08:42:42.458276Z",
     "iopub.status.idle": "2021-08-17T08:42:43.684677Z",
     "shell.execute_reply": "2021-08-17T08:42:43.684028Z",
     "shell.execute_reply.started": "2021-08-17T08:12:09.825522Z"
    },
    "papermill": {
     "duration": 1.300058,
     "end_time": "2021-08-17T08:42:43.684831",
     "exception": false,
     "start_time": "2021-08-17T08:42:42.384773",
     "status": "completed"
    },
    "tags": []
   }
  },
  {
   "cell_type": "code",
   "execution_count": 17,
   "source": [
    "df = pd.get_dummies(df)"
   ],
   "outputs": [],
   "metadata": {
    "execution": {
     "iopub.execute_input": "2021-08-17T08:42:43.952782Z",
     "iopub.status.busy": "2021-08-17T08:42:43.952012Z",
     "iopub.status.idle": "2021-08-17T08:42:44.063245Z",
     "shell.execute_reply": "2021-08-17T08:42:44.062082Z",
     "shell.execute_reply.started": "2021-08-17T08:12:10.846631Z"
    },
    "papermill": {
     "duration": 0.308451,
     "end_time": "2021-08-17T08:42:44.063445",
     "exception": false,
     "start_time": "2021-08-17T08:42:43.754994",
     "status": "completed"
    },
    "tags": []
   }
  },
  {
   "cell_type": "code",
   "execution_count": 18,
   "source": [
    "bureau = pd.read_csv(os.path.join(DATA_DIRECTORY, 'bureau.csv'))"
   ],
   "outputs": [],
   "metadata": {
    "execution": {
     "iopub.execute_input": "2021-08-17T08:42:44.208997Z",
     "iopub.status.busy": "2021-08-17T08:42:44.208357Z",
     "iopub.status.idle": "2021-08-17T08:42:49.514728Z",
     "shell.execute_reply": "2021-08-17T08:42:49.514040Z",
     "shell.execute_reply.started": "2021-08-17T08:12:11.002543Z"
    },
    "papermill": {
     "duration": 5.381379,
     "end_time": "2021-08-17T08:42:49.514902",
     "exception": false,
     "start_time": "2021-08-17T08:42:44.133523",
     "status": "completed"
    },
    "tags": []
   }
  },
  {
   "cell_type": "code",
   "execution_count": 19,
   "source": [
    "bureau['CREDIT_DURATION'] = -bureau['DAYS_CREDIT'] + bureau['DAYS_CREDIT_ENDDATE']\n",
    "bureau['ENDDATE_DIF'] = bureau['DAYS_CREDIT_ENDDATE'] - bureau['DAYS_ENDDATE_FACT']\n",
    "bureau['DEBT_PERCENTAGE'] = bureau['AMT_CREDIT_SUM'] / bureau['AMT_CREDIT_SUM_DEBT']\n",
    "bureau['DEBT_CREDIT_DIFF'] = bureau['AMT_CREDIT_SUM'] - bureau['AMT_CREDIT_SUM_DEBT']\n",
    "bureau['CREDIT_TO_ANNUITY_RATIO'] = bureau['AMT_CREDIT_SUM'] / bureau['AMT_ANNUITY']"
   ],
   "outputs": [],
   "metadata": {
    "execution": {
     "iopub.execute_input": "2021-08-17T08:42:49.661419Z",
     "iopub.status.busy": "2021-08-17T08:42:49.660583Z",
     "iopub.status.idle": "2021-08-17T08:42:49.726642Z",
     "shell.execute_reply": "2021-08-17T08:42:49.725863Z",
     "shell.execute_reply.started": "2021-08-17T08:12:15.814470Z"
    },
    "papermill": {
     "duration": 0.141763,
     "end_time": "2021-08-17T08:42:49.726804",
     "exception": false,
     "start_time": "2021-08-17T08:42:49.585041",
     "status": "completed"
    },
    "tags": []
   }
  },
  {
   "cell_type": "code",
   "execution_count": 20,
   "source": [
    "def one_hot_encoder(df, categorical_columns=None, nan_as_category=True):\n",
    "    original_columns = list(df.columns)\n",
    "    if not categorical_columns:\n",
    "        categorical_columns = [col for col in df.columns if df[col].dtype == 'object']\n",
    "    df = pd.get_dummies(df, columns=categorical_columns, dummy_na=nan_as_category)\n",
    "    categorical_columns = [c for c in df.columns if c not in original_columns]\n",
    "    return df, categorical_columns"
   ],
   "outputs": [],
   "metadata": {
    "execution": {
     "iopub.execute_input": "2021-08-17T08:42:49.873854Z",
     "iopub.status.busy": "2021-08-17T08:42:49.873179Z",
     "iopub.status.idle": "2021-08-17T08:42:49.877762Z",
     "shell.execute_reply": "2021-08-17T08:42:49.878261Z",
     "shell.execute_reply.started": "2021-08-17T08:12:15.864758Z"
    },
    "papermill": {
     "duration": 0.081102,
     "end_time": "2021-08-17T08:42:49.878482",
     "exception": false,
     "start_time": "2021-08-17T08:42:49.797380",
     "status": "completed"
    },
    "tags": []
   }
  },
  {
   "cell_type": "code",
   "execution_count": 21,
   "source": [
    "def group(df_to_agg, prefix, aggregations, aggregate_by= 'SK_ID_CURR'):\n",
    "    agg_df = df_to_agg.groupby(aggregate_by).agg(aggregations)\n",
    "    agg_df.columns = pd.Index(['{}{}_{}'.format(prefix, e[0], e[1].upper())\n",
    "                               for e in agg_df.columns.tolist()])\n",
    "    return agg_df.reset_index()"
   ],
   "outputs": [],
   "metadata": {
    "execution": {
     "iopub.execute_input": "2021-08-17T08:42:50.025223Z",
     "iopub.status.busy": "2021-08-17T08:42:50.024456Z",
     "iopub.status.idle": "2021-08-17T08:42:50.027525Z",
     "shell.execute_reply": "2021-08-17T08:42:50.026996Z",
     "shell.execute_reply.started": "2021-08-17T08:12:15.872888Z"
    },
    "papermill": {
     "duration": 0.080084,
     "end_time": "2021-08-17T08:42:50.027678",
     "exception": false,
     "start_time": "2021-08-17T08:42:49.947594",
     "status": "completed"
    },
    "tags": []
   }
  },
  {
   "cell_type": "code",
   "execution_count": 22,
   "source": [
    "def group_and_merge(df_to_agg, df_to_merge, prefix, aggregations, aggregate_by= 'SK_ID_CURR'):\n",
    "    agg_df = group(df_to_agg, prefix, aggregations, aggregate_by= aggregate_by)\n",
    "    return df_to_merge.merge(agg_df, how='left', on= aggregate_by)"
   ],
   "outputs": [],
   "metadata": {
    "execution": {
     "iopub.execute_input": "2021-08-17T08:42:50.173801Z",
     "iopub.status.busy": "2021-08-17T08:42:50.173062Z",
     "iopub.status.idle": "2021-08-17T08:42:50.175702Z",
     "shell.execute_reply": "2021-08-17T08:42:50.176143Z",
     "shell.execute_reply.started": "2021-08-17T08:12:15.886786Z"
    },
    "papermill": {
     "duration": 0.077982,
     "end_time": "2021-08-17T08:42:50.176349",
     "exception": false,
     "start_time": "2021-08-17T08:42:50.098367",
     "status": "completed"
    },
    "tags": []
   }
  },
  {
   "cell_type": "code",
   "execution_count": 23,
   "source": [
    "def get_bureau_balance(path, num_rows= None):\n",
    "    bb = pd.read_csv(os.path.join(path, 'bureau_balance.csv'))\n",
    "    bb, categorical_cols = one_hot_encoder(bb, nan_as_category= False)\n",
    "    bb_processed = bb.groupby('SK_ID_BUREAU')[categorical_cols].mean().reset_index()\n",
    "    agg = {'MONTHS_BALANCE': ['min', 'max', 'mean', 'size']}\n",
    "    bb_processed = group_and_merge(bb, bb_processed, '', agg, 'SK_ID_BUREAU')\n",
    "    del bb; gc.collect()\n",
    "    return bb_processed"
   ],
   "outputs": [],
   "metadata": {
    "execution": {
     "iopub.execute_input": "2021-08-17T08:42:50.322951Z",
     "iopub.status.busy": "2021-08-17T08:42:50.321472Z",
     "iopub.status.idle": "2021-08-17T08:42:50.323650Z",
     "shell.execute_reply": "2021-08-17T08:42:50.324121Z",
     "shell.execute_reply.started": "2021-08-17T08:12:15.902262Z"
    },
    "papermill": {
     "duration": 0.078826,
     "end_time": "2021-08-17T08:42:50.324313",
     "exception": false,
     "start_time": "2021-08-17T08:42:50.245487",
     "status": "completed"
    },
    "tags": []
   }
  },
  {
   "cell_type": "code",
   "execution_count": 24,
   "source": [
    "bureau, categorical_cols = one_hot_encoder(bureau, nan_as_category= False)\n",
    "bureau = bureau.merge(get_bureau_balance(DATA_DIRECTORY), how='left', on='SK_ID_BUREAU')\n",
    "bureau['STATUS_12345'] = 0\n",
    "for i in range(1,6):\n",
    "    bureau['STATUS_12345'] += bureau['STATUS_{}'.format(i)]"
   ],
   "outputs": [],
   "metadata": {
    "execution": {
     "iopub.execute_input": "2021-08-17T08:42:50.472577Z",
     "iopub.status.busy": "2021-08-17T08:42:50.471765Z",
     "iopub.status.idle": "2021-08-17T08:43:15.455876Z",
     "shell.execute_reply": "2021-08-17T08:43:15.456597Z",
     "shell.execute_reply.started": "2021-08-17T08:12:15.914225Z"
    },
    "papermill": {
     "duration": 25.063178,
     "end_time": "2021-08-17T08:43:15.456878",
     "exception": false,
     "start_time": "2021-08-17T08:42:50.393700",
     "status": "completed"
    },
    "tags": []
   }
  },
  {
   "cell_type": "code",
   "execution_count": 25,
   "source": [
    "features = ['AMT_CREDIT_MAX_OVERDUE', 'AMT_CREDIT_SUM_OVERDUE', 'AMT_CREDIT_SUM',\n",
    "    'AMT_CREDIT_SUM_DEBT', 'DEBT_PERCENTAGE', 'DEBT_CREDIT_DIFF', 'STATUS_0', 'STATUS_12345']\n",
    "agg_length = bureau.groupby('MONTHS_BALANCE_SIZE')[features].mean().reset_index()\n",
    "agg_length.rename({feat: 'LL_' + feat for feat in features}, axis=1, inplace=True)\n",
    "bureau = bureau.merge(agg_length, how='left', on='MONTHS_BALANCE_SIZE')\n",
    "del agg_length; gc.collect()"
   ],
   "outputs": [
    {
     "output_type": "execute_result",
     "data": {
      "text/plain": [
       "20"
      ]
     },
     "metadata": {},
     "execution_count": 25
    }
   ],
   "metadata": {
    "execution": {
     "iopub.execute_input": "2021-08-17T08:43:15.607785Z",
     "iopub.status.busy": "2021-08-17T08:43:15.605936Z",
     "iopub.status.idle": "2021-08-17T08:43:18.482019Z",
     "shell.execute_reply": "2021-08-17T08:43:18.482706Z",
     "shell.execute_reply.started": "2021-08-17T08:12:38.043457Z"
    },
    "papermill": {
     "duration": 2.955671,
     "end_time": "2021-08-17T08:43:18.482922",
     "exception": false,
     "start_time": "2021-08-17T08:43:15.527251",
     "status": "completed"
    },
    "tags": []
   }
  },
  {
   "cell_type": "code",
   "execution_count": 26,
   "source": [
    "BUREAU_AGG = {\n",
    "    'SK_ID_BUREAU': ['nunique'],\n",
    "    'DAYS_CREDIT': ['min', 'max', 'mean'],\n",
    "    'DAYS_CREDIT_ENDDATE': ['min', 'max'],\n",
    "    'AMT_CREDIT_MAX_OVERDUE': ['max', 'mean'],\n",
    "    'AMT_CREDIT_SUM': ['max', 'mean', 'sum'],\n",
    "    'AMT_CREDIT_SUM_DEBT': ['max', 'mean', 'sum'],\n",
    "    'AMT_CREDIT_SUM_OVERDUE': ['max', 'mean', 'sum'],\n",
    "    'AMT_ANNUITY': ['mean'],\n",
    "    'DEBT_CREDIT_DIFF': ['mean', 'sum'],\n",
    "    'MONTHS_BALANCE_MEAN': ['mean', 'var'],\n",
    "    'MONTHS_BALANCE_SIZE': ['mean', 'sum'],\n",
    "    'STATUS_0': ['mean'],\n",
    "    'STATUS_1': ['mean'],\n",
    "    'STATUS_12345': ['mean'],\n",
    "    'STATUS_C': ['mean'],\n",
    "    'STATUS_X': ['mean'],\n",
    "    'CREDIT_ACTIVE_Active': ['mean'],\n",
    "    'CREDIT_ACTIVE_Closed': ['mean'],\n",
    "    'CREDIT_ACTIVE_Sold': ['mean'],\n",
    "    'CREDIT_TYPE_Consumer credit': ['mean'],\n",
    "    'CREDIT_TYPE_Credit card': ['mean'],\n",
    "    'CREDIT_TYPE_Car loan': ['mean'],\n",
    "    'CREDIT_TYPE_Mortgage': ['mean'],\n",
    "    'CREDIT_TYPE_Microloan': ['mean'],\n",
    "    'LL_AMT_CREDIT_SUM_OVERDUE': ['mean'],\n",
    "    'LL_DEBT_CREDIT_DIFF': ['mean'],\n",
    "    'LL_STATUS_12345': ['mean'],\n",
    "}\n",
    "\n",
    "BUREAU_ACTIVE_AGG = {\n",
    "    'DAYS_CREDIT': ['max', 'mean'],\n",
    "    'DAYS_CREDIT_ENDDATE': ['min', 'max'],\n",
    "    'AMT_CREDIT_MAX_OVERDUE': ['max', 'mean'],\n",
    "    'AMT_CREDIT_SUM': ['max', 'sum'],\n",
    "    'AMT_CREDIT_SUM_DEBT': ['mean', 'sum'],\n",
    "    'AMT_CREDIT_SUM_OVERDUE': ['max', 'mean'],\n",
    "    'DAYS_CREDIT_UPDATE': ['min', 'mean'],\n",
    "    'DEBT_PERCENTAGE': ['mean'],\n",
    "    'DEBT_CREDIT_DIFF': ['mean'],\n",
    "    'CREDIT_TO_ANNUITY_RATIO': ['mean'],\n",
    "    'MONTHS_BALANCE_MEAN': ['mean', 'var'],\n",
    "    'MONTHS_BALANCE_SIZE': ['mean', 'sum'],\n",
    "}\n",
    "\n",
    "BUREAU_CLOSED_AGG = {\n",
    "    'DAYS_CREDIT': ['max', 'var'],\n",
    "    'DAYS_CREDIT_ENDDATE': ['max'],\n",
    "    'AMT_CREDIT_MAX_OVERDUE': ['max', 'mean'],\n",
    "    'AMT_CREDIT_SUM_OVERDUE': ['mean'],\n",
    "    'AMT_CREDIT_SUM': ['max', 'mean', 'sum'],\n",
    "    'AMT_CREDIT_SUM_DEBT': ['max', 'sum'],\n",
    "    'DAYS_CREDIT_UPDATE': ['max'],\n",
    "    'ENDDATE_DIF': ['mean'],\n",
    "    'STATUS_12345': ['mean'],\n",
    "}\n",
    "\n",
    "BUREAU_LOAN_TYPE_AGG = {\n",
    "    'DAYS_CREDIT': ['mean', 'max'],\n",
    "    'AMT_CREDIT_MAX_OVERDUE': ['mean', 'max'],\n",
    "    'AMT_CREDIT_SUM': ['mean', 'max'],\n",
    "    'AMT_CREDIT_SUM_DEBT': ['mean', 'max'],\n",
    "    'DEBT_PERCENTAGE': ['mean'],\n",
    "    'DEBT_CREDIT_DIFF': ['mean'],\n",
    "    'DAYS_CREDIT_ENDDATE': ['max'],\n",
    "}\n",
    "\n",
    "BUREAU_TIME_AGG = {\n",
    "    'AMT_CREDIT_MAX_OVERDUE': ['max', 'mean'],\n",
    "    'AMT_CREDIT_SUM_OVERDUE': ['mean'],\n",
    "    'AMT_CREDIT_SUM': ['max', 'sum'],\n",
    "    'AMT_CREDIT_SUM_DEBT': ['mean', 'sum'],\n",
    "    'DEBT_PERCENTAGE': ['mean'],\n",
    "    'DEBT_CREDIT_DIFF': ['mean'],\n",
    "    'STATUS_0': ['mean'],\n",
    "    'STATUS_12345': ['mean'],\n",
    "}"
   ],
   "outputs": [],
   "metadata": {
    "execution": {
     "iopub.execute_input": "2021-08-17T08:43:18.643039Z",
     "iopub.status.busy": "2021-08-17T08:43:18.641934Z",
     "iopub.status.idle": "2021-08-17T08:43:18.645332Z",
     "shell.execute_reply": "2021-08-17T08:43:18.644794Z",
     "shell.execute_reply.started": "2021-08-17T08:12:40.091103Z"
    },
    "papermill": {
     "duration": 0.092094,
     "end_time": "2021-08-17T08:43:18.645493",
     "exception": false,
     "start_time": "2021-08-17T08:43:18.553399",
     "status": "completed"
    },
    "tags": []
   }
  },
  {
   "cell_type": "code",
   "execution_count": 27,
   "source": [
    "agg_bureau = group(bureau, 'BUREAU_', BUREAU_AGG)\n",
    "active = bureau[bureau['CREDIT_ACTIVE_Active'] == 1]\n",
    "agg_bureau = group_and_merge(active,agg_bureau,'BUREAU_ACTIVE_',BUREAU_ACTIVE_AGG)\n",
    "closed = bureau[bureau['CREDIT_ACTIVE_Closed'] == 1]\n",
    "agg_bureau = group_and_merge(closed,agg_bureau,'BUREAU_CLOSED_',BUREAU_CLOSED_AGG)\n",
    "del active, closed; gc.collect()\n",
    "for credit_type in ['Consumer credit', 'Credit card', 'Mortgage', 'Car loan', 'Microloan']:\n",
    "    type_df = bureau[bureau['CREDIT_TYPE_' + credit_type] == 1]\n",
    "    prefix = 'BUREAU_' + credit_type.split(' ')[0].upper() + '_'\n",
    "    agg_bureau = group_and_merge(type_df, agg_bureau, prefix, BUREAU_LOAN_TYPE_AGG)\n",
    "    del type_df; gc.collect()\n",
    "for time_frame in [6, 12]:\n",
    "    prefix = \"BUREAU_LAST{}M_\".format(time_frame)\n",
    "    time_frame_df = bureau[bureau['DAYS_CREDIT'] >= -30*time_frame]\n",
    "    agg_bureau = group_and_merge(time_frame_df, agg_bureau, prefix, BUREAU_TIME_AGG)\n",
    "    del time_frame_df; gc.collect()"
   ],
   "outputs": [],
   "metadata": {
    "execution": {
     "iopub.execute_input": "2021-08-17T08:43:18.797052Z",
     "iopub.status.busy": "2021-08-17T08:43:18.796054Z",
     "iopub.status.idle": "2021-08-17T08:43:29.495867Z",
     "shell.execute_reply": "2021-08-17T08:43:29.496430Z",
     "shell.execute_reply.started": "2021-08-17T08:12:40.108032Z"
    },
    "papermill": {
     "duration": 10.781456,
     "end_time": "2021-08-17T08:43:29.496819",
     "exception": false,
     "start_time": "2021-08-17T08:43:18.715363",
     "status": "completed"
    },
    "tags": []
   }
  },
  {
   "cell_type": "code",
   "execution_count": 28,
   "source": [
    "sort_bureau = bureau.sort_values(by=['DAYS_CREDIT'])\n",
    "gr = sort_bureau.groupby('SK_ID_CURR')['AMT_CREDIT_MAX_OVERDUE'].last().reset_index()\n",
    "gr.rename({'AMT_CREDIT_MAX_OVERDUE': 'BUREAU_LAST_LOAN_MAX_OVERDUE'}, inplace=True)\n",
    "agg_bureau = agg_bureau.merge(gr, on='SK_ID_CURR', how='left')\n",
    "agg_bureau['BUREAU_DEBT_OVER_CREDIT'] = \\\n",
    "    agg_bureau['BUREAU_AMT_CREDIT_SUM_DEBT_SUM']/agg_bureau['BUREAU_AMT_CREDIT_SUM_SUM']\n",
    "agg_bureau['BUREAU_ACTIVE_DEBT_OVER_CREDIT'] = \\\n",
    "    agg_bureau['BUREAU_ACTIVE_AMT_CREDIT_SUM_DEBT_SUM']/agg_bureau['BUREAU_ACTIVE_AMT_CREDIT_SUM_SUM']"
   ],
   "outputs": [],
   "metadata": {
    "execution": {
     "iopub.execute_input": "2021-08-17T08:43:29.644143Z",
     "iopub.status.busy": "2021-08-17T08:43:29.643480Z",
     "iopub.status.idle": "2021-08-17T08:43:32.319335Z",
     "shell.execute_reply": "2021-08-17T08:43:32.319966Z",
     "shell.execute_reply.started": "2021-08-17T08:12:50.066972Z"
    },
    "papermill": {
     "duration": 2.749781,
     "end_time": "2021-08-17T08:43:32.320175",
     "exception": false,
     "start_time": "2021-08-17T08:43:29.570394",
     "status": "completed"
    },
    "tags": []
   }
  },
  {
   "cell_type": "code",
   "execution_count": 29,
   "source": [
    "df = pd.merge(df, agg_bureau, on='SK_ID_CURR', how='left')\n",
    "del agg_bureau, bureau\n",
    "gc.collect()"
   ],
   "outputs": [
    {
     "output_type": "execute_result",
     "data": {
      "text/plain": [
       "20"
      ]
     },
     "metadata": {},
     "execution_count": 29
    }
   ],
   "metadata": {
    "execution": {
     "iopub.execute_input": "2021-08-17T08:43:32.467229Z",
     "iopub.status.busy": "2021-08-17T08:43:32.466474Z",
     "iopub.status.idle": "2021-08-17T08:43:33.832243Z",
     "shell.execute_reply": "2021-08-17T08:43:33.831651Z",
     "shell.execute_reply.started": "2021-08-17T08:12:52.680510Z"
    },
    "papermill": {
     "duration": 1.441611,
     "end_time": "2021-08-17T08:43:33.832443",
     "exception": false,
     "start_time": "2021-08-17T08:43:32.390832",
     "status": "completed"
    },
    "tags": []
   }
  },
  {
   "cell_type": "code",
   "execution_count": 30,
   "source": [
    "prev = pd.read_csv(os.path.join(DATA_DIRECTORY, 'previous_application.csv'))\n",
    "pay = pd.read_csv(os.path.join(DATA_DIRECTORY, 'installments_payments.csv'))"
   ],
   "outputs": [],
   "metadata": {
    "execution": {
     "iopub.execute_input": "2021-08-17T08:43:33.985586Z",
     "iopub.status.busy": "2021-08-17T08:43:33.984891Z",
     "iopub.status.idle": "2021-08-17T08:44:06.819033Z",
     "shell.execute_reply": "2021-08-17T08:44:06.817874Z",
     "shell.execute_reply.started": "2021-08-17T08:12:54.082143Z"
    },
    "papermill": {
     "duration": 32.915023,
     "end_time": "2021-08-17T08:44:06.819207",
     "exception": false,
     "start_time": "2021-08-17T08:43:33.904184",
     "status": "completed"
    },
    "tags": []
   }
  },
  {
   "cell_type": "code",
   "execution_count": 31,
   "source": [
    "PREVIOUS_AGG = {\n",
    "    'SK_ID_PREV': ['nunique'],\n",
    "    'AMT_ANNUITY': ['min', 'max', 'mean'],\n",
    "    'AMT_DOWN_PAYMENT': ['max', 'mean'],\n",
    "    'HOUR_APPR_PROCESS_START': ['min', 'max', 'mean'],\n",
    "    'RATE_DOWN_PAYMENT': ['max', 'mean'],\n",
    "    'DAYS_DECISION': ['min', 'max', 'mean'],\n",
    "    'CNT_PAYMENT': ['max', 'mean'],\n",
    "    'DAYS_TERMINATION': ['max'],\n",
    "    # Engineered features\n",
    "    'CREDIT_TO_ANNUITY_RATIO': ['mean', 'max'],\n",
    "    'APPLICATION_CREDIT_DIFF': ['min', 'max', 'mean'],\n",
    "    'APPLICATION_CREDIT_RATIO': ['min', 'max', 'mean', 'var'],\n",
    "    'DOWN_PAYMENT_TO_CREDIT': ['mean'],\n",
    "}\n",
    "\n",
    "PREVIOUS_ACTIVE_AGG = {\n",
    "    'SK_ID_PREV': ['nunique'],\n",
    "    'SIMPLE_INTERESTS': ['mean'],\n",
    "    'AMT_ANNUITY': ['max', 'sum'],\n",
    "    'AMT_APPLICATION': ['max', 'mean'],\n",
    "    'AMT_CREDIT': ['sum'],\n",
    "    'AMT_DOWN_PAYMENT': ['max', 'mean'],\n",
    "    'DAYS_DECISION': ['min', 'mean'],\n",
    "    'CNT_PAYMENT': ['mean', 'sum'],\n",
    "    'DAYS_LAST_DUE_1ST_VERSION': ['min', 'max', 'mean'],\n",
    "    # Engineered features\n",
    "    'AMT_PAYMENT': ['sum'],\n",
    "    'INSTALMENT_PAYMENT_DIFF': ['mean', 'max'],\n",
    "    'REMAINING_DEBT': ['max', 'mean', 'sum'],\n",
    "    'REPAYMENT_RATIO': ['mean'],\n",
    "}\n",
    "PREVIOUS_LATE_PAYMENTS_AGG = {\n",
    "    'DAYS_DECISION': ['min', 'max', 'mean'],\n",
    "    'DAYS_LAST_DUE_1ST_VERSION': ['min', 'max', 'mean'],\n",
    "    # Engineered features\n",
    "    'APPLICATION_CREDIT_DIFF': ['min'],\n",
    "    'NAME_CONTRACT_TYPE_Consumer loans': ['mean'],\n",
    "    'NAME_CONTRACT_TYPE_Cash loans': ['mean'],\n",
    "    'NAME_CONTRACT_TYPE_Revolving loans': ['mean'],\n",
    "}\n",
    "\n",
    "PREVIOUS_LOAN_TYPE_AGG = {\n",
    "    'AMT_CREDIT': ['sum'],\n",
    "    'AMT_ANNUITY': ['mean', 'max'],\n",
    "    'SIMPLE_INTERESTS': ['min', 'mean', 'max', 'var'],\n",
    "    'APPLICATION_CREDIT_DIFF': ['min', 'var'],\n",
    "    'APPLICATION_CREDIT_RATIO': ['min', 'max', 'mean'],\n",
    "    'DAYS_DECISION': ['max'],\n",
    "    'DAYS_LAST_DUE_1ST_VERSION': ['max', 'mean'],\n",
    "    'CNT_PAYMENT': ['mean'],\n",
    "}\n",
    "\n",
    "PREVIOUS_TIME_AGG = {\n",
    "    'AMT_CREDIT': ['sum'],\n",
    "    'AMT_ANNUITY': ['mean', 'max'],\n",
    "    'SIMPLE_INTERESTS': ['mean', 'max'],\n",
    "    'DAYS_DECISION': ['min', 'mean'],\n",
    "    'DAYS_LAST_DUE_1ST_VERSION': ['min', 'max', 'mean'],\n",
    "    # Engineered features\n",
    "    'APPLICATION_CREDIT_DIFF': ['min'],\n",
    "    'APPLICATION_CREDIT_RATIO': ['min', 'max', 'mean'],\n",
    "    'NAME_CONTRACT_TYPE_Consumer loans': ['mean'],\n",
    "    'NAME_CONTRACT_TYPE_Cash loans': ['mean'],\n",
    "    'NAME_CONTRACT_TYPE_Revolving loans': ['mean'],\n",
    "}\n",
    "\n",
    "PREVIOUS_APPROVED_AGG = {\n",
    "    'SK_ID_PREV': ['nunique'],\n",
    "    'AMT_ANNUITY': ['min', 'max', 'mean'],\n",
    "    'AMT_CREDIT': ['min', 'max', 'mean'],\n",
    "    'AMT_DOWN_PAYMENT': ['max'],\n",
    "    'AMT_GOODS_PRICE': ['max'],\n",
    "    'HOUR_APPR_PROCESS_START': ['min', 'max'],\n",
    "    'DAYS_DECISION': ['min', 'mean'],\n",
    "    'CNT_PAYMENT': ['max', 'mean'],\n",
    "    'DAYS_TERMINATION': ['mean'],\n",
    "    # Engineered features\n",
    "    'CREDIT_TO_ANNUITY_RATIO': ['mean', 'max'],\n",
    "    'APPLICATION_CREDIT_DIFF': ['max'],\n",
    "    'APPLICATION_CREDIT_RATIO': ['min', 'max', 'mean'],\n",
    "    # The following features are only for approved applications\n",
    "    'DAYS_FIRST_DRAWING': ['max', 'mean'],\n",
    "    'DAYS_FIRST_DUE': ['min', 'mean'],\n",
    "    'DAYS_LAST_DUE_1ST_VERSION': ['min', 'max', 'mean'],\n",
    "    'DAYS_LAST_DUE': ['max', 'mean'],\n",
    "    'DAYS_LAST_DUE_DIFF': ['min', 'max', 'mean'],\n",
    "    'SIMPLE_INTERESTS': ['min', 'max', 'mean'],\n",
    "}\n",
    "\n",
    "PREVIOUS_REFUSED_AGG = {\n",
    "    'AMT_APPLICATION': ['max', 'mean'],\n",
    "    'AMT_CREDIT': ['min', 'max'],\n",
    "    'DAYS_DECISION': ['min', 'max', 'mean'],\n",
    "    'CNT_PAYMENT': ['max', 'mean'],\n",
    "    # Engineered features\n",
    "    'APPLICATION_CREDIT_DIFF': ['min', 'max', 'mean', 'var'],\n",
    "    'APPLICATION_CREDIT_RATIO': ['min', 'mean'],\n",
    "    'NAME_CONTRACT_TYPE_Consumer loans': ['mean'],\n",
    "    'NAME_CONTRACT_TYPE_Cash loans': ['mean'],\n",
    "    'NAME_CONTRACT_TYPE_Revolving loans': ['mean'],\n",
    "}\n"
   ],
   "outputs": [],
   "metadata": {
    "execution": {
     "iopub.execute_input": "2021-08-17T08:44:06.984031Z",
     "iopub.status.busy": "2021-08-17T08:44:06.978847Z",
     "iopub.status.idle": "2021-08-17T08:44:06.993389Z",
     "shell.execute_reply": "2021-08-17T08:44:06.992796Z",
     "shell.execute_reply.started": "2021-08-17T08:13:26.063592Z"
    },
    "papermill": {
     "duration": 0.098382,
     "end_time": "2021-08-17T08:44:06.993558",
     "exception": false,
     "start_time": "2021-08-17T08:44:06.895176",
     "status": "completed"
    },
    "tags": []
   }
  },
  {
   "cell_type": "code",
   "execution_count": 32,
   "source": [
    "ohe_columns = [\n",
    "    'NAME_CONTRACT_STATUS', 'NAME_CONTRACT_TYPE', 'CHANNEL_TYPE',\n",
    "    'NAME_TYPE_SUITE', 'NAME_YIELD_GROUP', 'PRODUCT_COMBINATION',\n",
    "    'NAME_PRODUCT_TYPE', 'NAME_CLIENT_TYPE']\n",
    "prev, categorical_cols = one_hot_encoder(prev, ohe_columns, nan_as_category= False)"
   ],
   "outputs": [],
   "metadata": {
    "execution": {
     "iopub.execute_input": "2021-08-17T08:44:07.146875Z",
     "iopub.status.busy": "2021-08-17T08:44:07.146144Z",
     "iopub.status.idle": "2021-08-17T08:44:09.706631Z",
     "shell.execute_reply": "2021-08-17T08:44:09.705879Z",
     "shell.execute_reply.started": "2021-08-17T08:13:26.083027Z"
    },
    "papermill": {
     "duration": 2.641958,
     "end_time": "2021-08-17T08:44:09.706783",
     "exception": false,
     "start_time": "2021-08-17T08:44:07.064825",
     "status": "completed"
    },
    "tags": []
   }
  },
  {
   "cell_type": "code",
   "execution_count": 33,
   "source": [
    "prev['APPLICATION_CREDIT_DIFF'] = prev['AMT_APPLICATION'] - prev['AMT_CREDIT']\n",
    "prev['APPLICATION_CREDIT_RATIO'] = prev['AMT_APPLICATION'] / prev['AMT_CREDIT']\n",
    "prev['CREDIT_TO_ANNUITY_RATIO'] = prev['AMT_CREDIT']/prev['AMT_ANNUITY']\n",
    "prev['DOWN_PAYMENT_TO_CREDIT'] = prev['AMT_DOWN_PAYMENT'] / prev['AMT_CREDIT']\n",
    "total_payment = prev['AMT_ANNUITY'] * prev['CNT_PAYMENT']\n",
    "prev['SIMPLE_INTERESTS'] = (total_payment/prev['AMT_CREDIT'] - 1)/prev['CNT_PAYMENT']"
   ],
   "outputs": [],
   "metadata": {
    "execution": {
     "iopub.execute_input": "2021-08-17T08:44:09.863107Z",
     "iopub.status.busy": "2021-08-17T08:44:09.862207Z",
     "iopub.status.idle": "2021-08-17T08:44:09.917226Z",
     "shell.execute_reply": "2021-08-17T08:44:09.916509Z",
     "shell.execute_reply.started": "2021-08-17T08:13:28.379549Z"
    },
    "papermill": {
     "duration": 0.13757,
     "end_time": "2021-08-17T08:44:09.917412",
     "exception": false,
     "start_time": "2021-08-17T08:44:09.779842",
     "status": "completed"
    },
    "tags": []
   }
  },
  {
   "cell_type": "code",
   "execution_count": 34,
   "source": [
    "approved = prev[prev['NAME_CONTRACT_STATUS_Approved'] == 1]\n",
    "active_df = approved[approved['DAYS_LAST_DUE'] == 365243]\n",
    "active_pay = pay[pay['SK_ID_PREV'].isin(active_df['SK_ID_PREV'])]\n",
    "active_pay_agg = active_pay.groupby('SK_ID_PREV')[['AMT_INSTALMENT', 'AMT_PAYMENT']].sum()\n",
    "active_pay_agg.reset_index(inplace= True)\n",
    "active_pay_agg['INSTALMENT_PAYMENT_DIFF'] = active_pay_agg['AMT_INSTALMENT'] - active_pay_agg['AMT_PAYMENT']\n",
    "active_df = active_df.merge(active_pay_agg, on= 'SK_ID_PREV', how= 'left')\n",
    "active_df['REMAINING_DEBT'] = active_df['AMT_CREDIT'] - active_df['AMT_PAYMENT']\n",
    "active_df['REPAYMENT_RATIO'] = active_df['AMT_PAYMENT'] / active_df['AMT_CREDIT']\n",
    "active_agg_df = group(active_df, 'PREV_ACTIVE_', PREVIOUS_ACTIVE_AGG)\n",
    "active_agg_df['TOTAL_REPAYMENT_RATIO'] = active_agg_df['PREV_ACTIVE_AMT_PAYMENT_SUM']/\\\n",
    "                                            active_agg_df['PREV_ACTIVE_AMT_CREDIT_SUM']\n",
    "del active_pay, active_pay_agg, active_df; gc.collect()"
   ],
   "outputs": [
    {
     "output_type": "execute_result",
     "data": {
      "text/plain": [
       "0"
      ]
     },
     "metadata": {},
     "execution_count": 34
    }
   ],
   "metadata": {
    "execution": {
     "iopub.execute_input": "2021-08-17T08:44:10.071954Z",
     "iopub.status.busy": "2021-08-17T08:44:10.071201Z",
     "iopub.status.idle": "2021-08-17T08:44:13.289424Z",
     "shell.execute_reply": "2021-08-17T08:44:13.288876Z",
     "shell.execute_reply.started": "2021-08-17T08:13:28.428567Z"
    },
    "papermill": {
     "duration": 3.29993,
     "end_time": "2021-08-17T08:44:13.289621",
     "exception": false,
     "start_time": "2021-08-17T08:44:09.989691",
     "status": "completed"
    },
    "tags": []
   }
  },
  {
   "cell_type": "code",
   "execution_count": 35,
   "source": [
    "prev['DAYS_FIRST_DRAWING'].replace(365243, np.nan, inplace= True)\n",
    "prev['DAYS_FIRST_DUE'].replace(365243, np.nan, inplace= True)\n",
    "prev['DAYS_LAST_DUE_1ST_VERSION'].replace(365243, np.nan, inplace= True)\n",
    "prev['DAYS_LAST_DUE'].replace(365243, np.nan, inplace= True)\n",
    "prev['DAYS_TERMINATION'].replace(365243, np.nan, inplace= True)"
   ],
   "outputs": [],
   "metadata": {
    "execution": {
     "iopub.execute_input": "2021-08-17T08:44:13.443763Z",
     "iopub.status.busy": "2021-08-17T08:44:13.442979Z",
     "iopub.status.idle": "2021-08-17T08:44:13.486033Z",
     "shell.execute_reply": "2021-08-17T08:44:13.485232Z",
     "shell.execute_reply.started": "2021-08-17T08:13:31.303466Z"
    },
    "papermill": {
     "duration": 0.123348,
     "end_time": "2021-08-17T08:44:13.486206",
     "exception": false,
     "start_time": "2021-08-17T08:44:13.362858",
     "status": "completed"
    },
    "tags": []
   }
  },
  {
   "cell_type": "code",
   "execution_count": 36,
   "source": [
    "prev['DAYS_LAST_DUE_DIFF'] = prev['DAYS_LAST_DUE_1ST_VERSION'] - prev['DAYS_LAST_DUE']\n",
    "approved['DAYS_LAST_DUE_DIFF'] = approved['DAYS_LAST_DUE_1ST_VERSION'] - approved['DAYS_LAST_DUE']"
   ],
   "outputs": [
    {
     "output_type": "stream",
     "name": "stderr",
     "text": [
      "/opt/conda/lib/python3.7/site-packages/ipykernel_launcher.py:2: SettingWithCopyWarning: \n",
      "A value is trying to be set on a copy of a slice from a DataFrame.\n",
      "Try using .loc[row_indexer,col_indexer] = value instead\n",
      "\n",
      "See the caveats in the documentation: https://pandas.pydata.org/pandas-docs/stable/user_guide/indexing.html#returning-a-view-versus-a-copy\n",
      "  \n"
     ]
    }
   ],
   "metadata": {
    "execution": {
     "iopub.execute_input": "2021-08-17T08:44:13.641415Z",
     "iopub.status.busy": "2021-08-17T08:44:13.639902Z",
     "iopub.status.idle": "2021-08-17T08:44:13.662625Z",
     "shell.execute_reply": "2021-08-17T08:44:13.663329Z",
     "shell.execute_reply.started": "2021-08-17T08:13:31.348822Z"
    },
    "papermill": {
     "duration": 0.102996,
     "end_time": "2021-08-17T08:44:13.663555",
     "exception": false,
     "start_time": "2021-08-17T08:44:13.560559",
     "status": "completed"
    },
    "tags": []
   }
  },
  {
   "cell_type": "code",
   "execution_count": 37,
   "source": [
    "categorical_agg = {key: ['mean'] for key in categorical_cols}"
   ],
   "outputs": [],
   "metadata": {
    "execution": {
     "iopub.execute_input": "2021-08-17T08:44:13.817720Z",
     "iopub.status.busy": "2021-08-17T08:44:13.816891Z",
     "iopub.status.idle": "2021-08-17T08:44:13.819153Z",
     "shell.execute_reply": "2021-08-17T08:44:13.819751Z",
     "shell.execute_reply.started": "2021-08-17T08:13:31.368645Z"
    },
    "papermill": {
     "duration": 0.083355,
     "end_time": "2021-08-17T08:44:13.819948",
     "exception": false,
     "start_time": "2021-08-17T08:44:13.736593",
     "status": "completed"
    },
    "tags": []
   }
  },
  {
   "cell_type": "code",
   "execution_count": 38,
   "source": [
    "agg_prev = group(prev, 'PREV_', {**PREVIOUS_AGG, **categorical_agg})\n",
    "agg_prev = agg_prev.merge(active_agg_df, how='left', on='SK_ID_CURR')\n",
    "del active_agg_df; gc.collect()"
   ],
   "outputs": [
    {
     "output_type": "execute_result",
     "data": {
      "text/plain": [
       "0"
      ]
     },
     "metadata": {},
     "execution_count": 38
    }
   ],
   "metadata": {
    "execution": {
     "iopub.execute_input": "2021-08-17T08:44:13.971522Z",
     "iopub.status.busy": "2021-08-17T08:44:13.970823Z",
     "iopub.status.idle": "2021-08-17T08:44:20.286958Z",
     "shell.execute_reply": "2021-08-17T08:44:20.287503Z",
     "shell.execute_reply.started": "2021-08-17T08:13:31.376242Z"
    },
    "papermill": {
     "duration": 6.392766,
     "end_time": "2021-08-17T08:44:20.287694",
     "exception": false,
     "start_time": "2021-08-17T08:44:13.894928",
     "status": "completed"
    },
    "tags": []
   }
  },
  {
   "cell_type": "code",
   "execution_count": 39,
   "source": [
    "agg_prev = group_and_merge(approved, agg_prev, 'APPROVED_', PREVIOUS_APPROVED_AGG)\n",
    "refused = prev[prev['NAME_CONTRACT_STATUS_Refused'] == 1]\n",
    "agg_prev = group_and_merge(refused, agg_prev, 'REFUSED_', PREVIOUS_REFUSED_AGG)\n",
    "del approved, refused; gc.collect()"
   ],
   "outputs": [
    {
     "output_type": "execute_result",
     "data": {
      "text/plain": [
       "0"
      ]
     },
     "metadata": {},
     "execution_count": 39
    }
   ],
   "metadata": {
    "execution": {
     "iopub.execute_input": "2021-08-17T08:44:20.434677Z",
     "iopub.status.busy": "2021-08-17T08:44:20.434000Z",
     "iopub.status.idle": "2021-08-17T08:44:24.631193Z",
     "shell.execute_reply": "2021-08-17T08:44:24.630570Z",
     "shell.execute_reply.started": "2021-08-17T08:13:37.183565Z"
    },
    "papermill": {
     "duration": 4.272178,
     "end_time": "2021-08-17T08:44:24.631357",
     "exception": false,
     "start_time": "2021-08-17T08:44:20.359179",
     "status": "completed"
    },
    "tags": []
   }
  },
  {
   "cell_type": "code",
   "execution_count": 40,
   "source": [
    "for loan_type in ['Consumer loans', 'Cash loans']:\n",
    "    type_df = prev[prev['NAME_CONTRACT_TYPE_{}'.format(loan_type)] == 1]\n",
    "    prefix = 'PREV_' + loan_type.split(\" \")[0] + '_'\n",
    "    agg_prev = group_and_merge(type_df, agg_prev, prefix, PREVIOUS_LOAN_TYPE_AGG)\n",
    "    del type_df; gc.collect()"
   ],
   "outputs": [],
   "metadata": {
    "execution": {
     "iopub.execute_input": "2021-08-17T08:44:24.783355Z",
     "iopub.status.busy": "2021-08-17T08:44:24.782643Z",
     "iopub.status.idle": "2021-08-17T08:44:28.045136Z",
     "shell.execute_reply": "2021-08-17T08:44:28.044519Z",
     "shell.execute_reply.started": "2021-08-17T08:13:41.026270Z"
    },
    "papermill": {
     "duration": 3.341883,
     "end_time": "2021-08-17T08:44:28.045326",
     "exception": false,
     "start_time": "2021-08-17T08:44:24.703443",
     "status": "completed"
    },
    "tags": []
   }
  },
  {
   "cell_type": "code",
   "execution_count": 41,
   "source": [
    "pay['LATE_PAYMENT'] = pay['DAYS_ENTRY_PAYMENT'] - pay['DAYS_INSTALMENT']\n",
    "pay['LATE_PAYMENT'] = pay['LATE_PAYMENT'].apply(lambda x: 1 if x > 0 else 0)\n",
    "dpd_id = pay[pay['LATE_PAYMENT'] > 0]['SK_ID_PREV'].unique()"
   ],
   "outputs": [],
   "metadata": {
    "execution": {
     "iopub.execute_input": "2021-08-17T08:44:28.198851Z",
     "iopub.status.busy": "2021-08-17T08:44:28.197203Z",
     "iopub.status.idle": "2021-08-17T08:44:38.938185Z",
     "shell.execute_reply": "2021-08-17T08:44:38.937014Z",
     "shell.execute_reply.started": "2021-08-17T08:13:43.951161Z"
    },
    "papermill": {
     "duration": 10.820694,
     "end_time": "2021-08-17T08:44:38.938377",
     "exception": false,
     "start_time": "2021-08-17T08:44:28.117683",
     "status": "completed"
    },
    "tags": []
   }
  },
  {
   "cell_type": "code",
   "execution_count": 42,
   "source": [
    "agg_dpd = group_and_merge(prev[prev['SK_ID_PREV'].isin(dpd_id)], agg_prev,\n",
    "                                    'PREV_LATE_', PREVIOUS_LATE_PAYMENTS_AGG)\n",
    "del agg_dpd, dpd_id; gc.collect()"
   ],
   "outputs": [
    {
     "output_type": "execute_result",
     "data": {
      "text/plain": [
       "0"
      ]
     },
     "metadata": {},
     "execution_count": 42
    }
   ],
   "metadata": {
    "execution": {
     "iopub.execute_input": "2021-08-17T08:44:39.089225Z",
     "iopub.status.busy": "2021-08-17T08:44:39.088500Z",
     "iopub.status.idle": "2021-08-17T08:44:40.117060Z",
     "shell.execute_reply": "2021-08-17T08:44:40.116507Z",
     "shell.execute_reply.started": "2021-08-17T08:13:54.446341Z"
    },
    "papermill": {
     "duration": 1.106918,
     "end_time": "2021-08-17T08:44:40.117252",
     "exception": false,
     "start_time": "2021-08-17T08:44:39.010334",
     "status": "completed"
    },
    "tags": []
   }
  },
  {
   "cell_type": "code",
   "execution_count": 43,
   "source": [
    "for time_frame in [12, 24]:\n",
    "    time_frame_df = prev[prev['DAYS_DECISION'] >= -30*time_frame]\n",
    "    prefix = 'PREV_LAST{}M_'.format(time_frame)\n",
    "    agg_prev = group_and_merge(time_frame_df, agg_prev, prefix, PREVIOUS_TIME_AGG)\n",
    "    del time_frame_df; gc.collect()\n",
    "del prev; gc.collect()"
   ],
   "outputs": [
    {
     "output_type": "execute_result",
     "data": {
      "text/plain": [
       "0"
      ]
     },
     "metadata": {},
     "execution_count": 43
    }
   ],
   "metadata": {
    "execution": {
     "iopub.execute_input": "2021-08-17T08:44:40.280214Z",
     "iopub.status.busy": "2021-08-17T08:44:40.279489Z",
     "iopub.status.idle": "2021-08-17T08:44:43.839364Z",
     "shell.execute_reply": "2021-08-17T08:44:43.839935Z",
     "shell.execute_reply.started": "2021-08-17T08:13:55.332744Z"
    },
    "papermill": {
     "duration": 3.639524,
     "end_time": "2021-08-17T08:44:43.840127",
     "exception": false,
     "start_time": "2021-08-17T08:44:40.200603",
     "status": "completed"
    },
    "tags": []
   }
  },
  {
   "cell_type": "code",
   "execution_count": 44,
   "source": [
    "df = pd.merge(df, agg_prev, on='SK_ID_CURR', how='left')\n",
    "del agg_prev; gc.collect()"
   ],
   "outputs": [
    {
     "output_type": "execute_result",
     "data": {
      "text/plain": [
       "20"
      ]
     },
     "metadata": {},
     "execution_count": 44
    }
   ],
   "metadata": {
    "execution": {
     "iopub.execute_input": "2021-08-17T08:44:43.995912Z",
     "iopub.status.busy": "2021-08-17T08:44:43.995172Z",
     "iopub.status.idle": "2021-08-17T08:44:47.568236Z",
     "shell.execute_reply": "2021-08-17T08:44:47.568772Z",
     "shell.execute_reply.started": "2021-08-17T08:13:58.482324Z"
    },
    "papermill": {
     "duration": 3.652534,
     "end_time": "2021-08-17T08:44:47.568975",
     "exception": false,
     "start_time": "2021-08-17T08:44:43.916441",
     "status": "completed"
    },
    "tags": []
   }
  },
  {
   "cell_type": "code",
   "execution_count": 45,
   "source": [
    "pos = pd.read_csv(os.path.join(DATA_DIRECTORY, 'POS_CASH_balance.csv'))\n",
    "pos, categorical_cols = one_hot_encoder(pos, nan_as_category= False)"
   ],
   "outputs": [],
   "metadata": {
    "execution": {
     "iopub.execute_input": "2021-08-17T08:44:47.718454Z",
     "iopub.status.busy": "2021-08-17T08:44:47.717773Z",
     "iopub.status.idle": "2021-08-17T08:45:00.406329Z",
     "shell.execute_reply": "2021-08-17T08:45:00.405511Z",
     "shell.execute_reply.started": "2021-08-17T08:14:01.971830Z"
    },
    "papermill": {
     "duration": 12.76439,
     "end_time": "2021-08-17T08:45:00.406499",
     "exception": false,
     "start_time": "2021-08-17T08:44:47.642109",
     "status": "completed"
    },
    "tags": []
   }
  },
  {
   "cell_type": "code",
   "execution_count": 46,
   "source": [
    "pos['LATE_PAYMENT'] = pos['SK_DPD'].apply(lambda x: 1 if x > 0 else 0)"
   ],
   "outputs": [],
   "metadata": {
    "execution": {
     "iopub.execute_input": "2021-08-17T08:45:00.559049Z",
     "iopub.status.busy": "2021-08-17T08:45:00.558348Z",
     "iopub.status.idle": "2021-08-17T08:45:06.582696Z",
     "shell.execute_reply": "2021-08-17T08:45:06.582079Z",
     "shell.execute_reply.started": "2021-08-17T08:14:14.690957Z"
    },
    "papermill": {
     "duration": 6.102896,
     "end_time": "2021-08-17T08:45:06.582852",
     "exception": false,
     "start_time": "2021-08-17T08:45:00.479956",
     "status": "completed"
    },
    "tags": []
   }
  },
  {
   "cell_type": "code",
   "execution_count": 47,
   "source": [
    "POS_CASH_AGG = {\n",
    "    'SK_ID_PREV': ['nunique'],\n",
    "    'MONTHS_BALANCE': ['min', 'max', 'size'],\n",
    "    'SK_DPD': ['max', 'mean', 'sum', 'var'],\n",
    "    'SK_DPD_DEF': ['max', 'mean', 'sum'],\n",
    "    'LATE_PAYMENT': ['mean']\n",
    "}\n",
    "\n",
    "categorical_agg = {key: ['mean'] for key in categorical_cols}\n",
    "pos_agg = group(pos, 'POS_', {**POS_CASH_AGG, **categorical_agg})"
   ],
   "outputs": [],
   "metadata": {
    "execution": {
     "iopub.execute_input": "2021-08-17T08:45:06.737512Z",
     "iopub.status.busy": "2021-08-17T08:45:06.736762Z",
     "iopub.status.idle": "2021-08-17T08:45:18.141011Z",
     "shell.execute_reply": "2021-08-17T08:45:18.140272Z",
     "shell.execute_reply.started": "2021-08-17T08:14:20.784934Z"
    },
    "papermill": {
     "duration": 11.485649,
     "end_time": "2021-08-17T08:45:18.141174",
     "exception": false,
     "start_time": "2021-08-17T08:45:06.655525",
     "status": "completed"
    },
    "tags": []
   }
  },
  {
   "cell_type": "code",
   "execution_count": 48,
   "source": [
    "sort_pos = pos.sort_values(by=['SK_ID_PREV', 'MONTHS_BALANCE'])\n",
    "gp = sort_pos.groupby('SK_ID_PREV')\n",
    "temp = pd.DataFrame()\n",
    "temp['SK_ID_CURR'] = gp['SK_ID_CURR'].first()\n",
    "temp['MONTHS_BALANCE_MAX'] = gp['MONTHS_BALANCE'].max()"
   ],
   "outputs": [],
   "metadata": {
    "execution": {
     "iopub.execute_input": "2021-08-17T08:45:18.292719Z",
     "iopub.status.busy": "2021-08-17T08:45:18.291991Z",
     "iopub.status.idle": "2021-08-17T08:45:33.062568Z",
     "shell.execute_reply": "2021-08-17T08:45:33.061824Z",
     "shell.execute_reply.started": "2021-08-17T08:14:31.380406Z"
    },
    "papermill": {
     "duration": 14.848974,
     "end_time": "2021-08-17T08:45:33.062747",
     "exception": false,
     "start_time": "2021-08-17T08:45:18.213773",
     "status": "completed"
    },
    "tags": []
   }
  },
  {
   "cell_type": "code",
   "execution_count": 49,
   "source": [
    "temp['POS_LOAN_COMPLETED_MEAN'] = gp['NAME_CONTRACT_STATUS_Completed'].mean()\n",
    "temp['POS_COMPLETED_BEFORE_MEAN'] = gp['CNT_INSTALMENT'].first() - gp['CNT_INSTALMENT'].last()\n",
    "temp['POS_COMPLETED_BEFORE_MEAN'] = temp.apply(lambda x: 1 if x['POS_COMPLETED_BEFORE_MEAN'] > 0\n",
    "                                            and x['POS_LOAN_COMPLETED_MEAN'] > 0 else 0, axis=1)"
   ],
   "outputs": [],
   "metadata": {
    "execution": {
     "iopub.execute_input": "2021-08-17T08:45:33.216988Z",
     "iopub.status.busy": "2021-08-17T08:45:33.216232Z",
     "iopub.status.idle": "2021-08-17T08:45:47.660246Z",
     "shell.execute_reply": "2021-08-17T08:45:47.659497Z",
     "shell.execute_reply.started": "2021-08-17T08:14:47.301883Z"
    },
    "papermill": {
     "duration": 14.523725,
     "end_time": "2021-08-17T08:45:47.660420",
     "exception": false,
     "start_time": "2021-08-17T08:45:33.136695",
     "status": "completed"
    },
    "tags": []
   }
  },
  {
   "cell_type": "code",
   "execution_count": 50,
   "source": [
    "temp['POS_REMAINING_INSTALMENTS'] = gp['CNT_INSTALMENT_FUTURE'].last()\n",
    "temp['POS_REMAINING_INSTALMENTS_RATIO'] = gp['CNT_INSTALMENT_FUTURE'].last()/gp['CNT_INSTALMENT'].last()"
   ],
   "outputs": [],
   "metadata": {
    "execution": {
     "iopub.execute_input": "2021-08-17T08:45:47.813055Z",
     "iopub.status.busy": "2021-08-17T08:45:47.812349Z",
     "iopub.status.idle": "2021-08-17T08:45:47.969264Z",
     "shell.execute_reply": "2021-08-17T08:45:47.969792Z",
     "shell.execute_reply.started": "2021-08-17T08:15:01.696006Z"
    },
    "papermill": {
     "duration": 0.236658,
     "end_time": "2021-08-17T08:45:47.970013",
     "exception": false,
     "start_time": "2021-08-17T08:45:47.733355",
     "status": "completed"
    },
    "tags": []
   }
  },
  {
   "cell_type": "code",
   "execution_count": 51,
   "source": [
    "temp_gp = temp.groupby('SK_ID_CURR').sum().reset_index()\n",
    "temp_gp.drop(['MONTHS_BALANCE_MAX'], axis=1, inplace= True)\n",
    "pos_agg = pd.merge(pos_agg, temp_gp, on= 'SK_ID_CURR', how= 'left')\n",
    "del temp, gp, temp_gp, sort_pos; gc.collect()"
   ],
   "outputs": [
    {
     "output_type": "execute_result",
     "data": {
      "text/plain": [
       "40"
      ]
     },
     "metadata": {},
     "execution_count": 51
    }
   ],
   "metadata": {
    "execution": {
     "iopub.execute_input": "2021-08-17T08:45:48.121443Z",
     "iopub.status.busy": "2021-08-17T08:45:48.120466Z",
     "iopub.status.idle": "2021-08-17T08:45:48.741558Z",
     "shell.execute_reply": "2021-08-17T08:45:48.742060Z",
     "shell.execute_reply.started": "2021-08-17T08:15:01.848812Z"
    },
    "papermill": {
     "duration": 0.699291,
     "end_time": "2021-08-17T08:45:48.742260",
     "exception": false,
     "start_time": "2021-08-17T08:45:48.042969",
     "status": "completed"
    },
    "tags": []
   }
  },
  {
   "cell_type": "code",
   "execution_count": 52,
   "source": [
    "pos = do_sum(pos, ['SK_ID_PREV'], 'LATE_PAYMENT', 'LATE_PAYMENT_SUM')"
   ],
   "outputs": [],
   "metadata": {
    "execution": {
     "iopub.execute_input": "2021-08-17T08:45:48.940564Z",
     "iopub.status.busy": "2021-08-17T08:45:48.939316Z",
     "iopub.status.idle": "2021-08-17T08:45:56.446898Z",
     "shell.execute_reply": "2021-08-17T08:45:56.446234Z",
     "shell.execute_reply.started": "2021-08-17T08:15:02.403861Z"
    },
    "papermill": {
     "duration": 7.631616,
     "end_time": "2021-08-17T08:45:56.447069",
     "exception": false,
     "start_time": "2021-08-17T08:45:48.815453",
     "status": "completed"
    },
    "tags": []
   }
  },
  {
   "cell_type": "code",
   "execution_count": 53,
   "source": [
    "last_month_df = pos.groupby('SK_ID_PREV')['MONTHS_BALANCE'].idxmax()"
   ],
   "outputs": [],
   "metadata": {
    "execution": {
     "iopub.execute_input": "2021-08-17T08:45:56.606384Z",
     "iopub.status.busy": "2021-08-17T08:45:56.605672Z",
     "iopub.status.idle": "2021-08-17T08:47:00.650729Z",
     "shell.execute_reply": "2021-08-17T08:47:00.651360Z",
     "shell.execute_reply.started": "2021-08-17T08:15:09.351084Z"
    },
    "papermill": {
     "duration": 64.124416,
     "end_time": "2021-08-17T08:47:00.651579",
     "exception": false,
     "start_time": "2021-08-17T08:45:56.527163",
     "status": "completed"
    },
    "tags": []
   }
  },
  {
   "cell_type": "code",
   "execution_count": 54,
   "source": [
    "sort_pos = pos.sort_values(by=['SK_ID_PREV', 'MONTHS_BALANCE'])\n",
    "gp = sort_pos.iloc[last_month_df].groupby('SK_ID_CURR').tail(3)\n",
    "gp_mean = gp.groupby('SK_ID_CURR').mean().reset_index()\n",
    "pos_agg = pd.merge(pos_agg, gp_mean[['SK_ID_CURR','LATE_PAYMENT_SUM']], on='SK_ID_CURR', how='left')"
   ],
   "outputs": [],
   "metadata": {
    "execution": {
     "iopub.execute_input": "2021-08-17T08:47:00.828495Z",
     "iopub.status.busy": "2021-08-17T08:47:00.827466Z",
     "iopub.status.idle": "2021-08-17T08:47:18.074933Z",
     "shell.execute_reply": "2021-08-17T08:47:18.074257Z",
     "shell.execute_reply.started": "2021-08-17T08:16:10.997212Z"
    },
    "papermill": {
     "duration": 17.332504,
     "end_time": "2021-08-17T08:47:18.075082",
     "exception": false,
     "start_time": "2021-08-17T08:47:00.742578",
     "status": "completed"
    },
    "tags": []
   }
  },
  {
   "cell_type": "code",
   "execution_count": 55,
   "source": [
    "drop_features = [\n",
    "    'POS_NAME_CONTRACT_STATUS_Canceled_MEAN', 'POS_NAME_CONTRACT_STATUS_Amortized debt_MEAN',\n",
    "    'POS_NAME_CONTRACT_STATUS_XNA_MEAN']\n",
    "pos_agg.drop(drop_features, axis=1, inplace=True)"
   ],
   "outputs": [],
   "metadata": {
    "execution": {
     "iopub.execute_input": "2021-08-17T08:47:18.229336Z",
     "iopub.status.busy": "2021-08-17T08:47:18.228289Z",
     "iopub.status.idle": "2021-08-17T08:47:18.305213Z",
     "shell.execute_reply": "2021-08-17T08:47:18.305809Z",
     "shell.execute_reply.started": "2021-08-17T08:16:27.384392Z"
    },
    "papermill": {
     "duration": 0.155301,
     "end_time": "2021-08-17T08:47:18.306002",
     "exception": false,
     "start_time": "2021-08-17T08:47:18.150701",
     "status": "completed"
    },
    "tags": []
   }
  },
  {
   "cell_type": "code",
   "execution_count": 56,
   "source": [
    "df = pd.merge(df, pos_agg, on='SK_ID_CURR', how='left')"
   ],
   "outputs": [],
   "metadata": {
    "execution": {
     "iopub.execute_input": "2021-08-17T08:47:18.458068Z",
     "iopub.status.busy": "2021-08-17T08:47:18.457063Z",
     "iopub.status.idle": "2021-08-17T08:47:19.639893Z",
     "shell.execute_reply": "2021-08-17T08:47:19.639079Z",
     "shell.execute_reply.started": "2021-08-17T08:16:27.441400Z"
    },
    "papermill": {
     "duration": 1.259076,
     "end_time": "2021-08-17T08:47:19.640064",
     "exception": false,
     "start_time": "2021-08-17T08:47:18.380988",
     "status": "completed"
    },
    "tags": []
   }
  },
  {
   "cell_type": "code",
   "execution_count": 57,
   "source": [
    "pay = do_sum(pay, ['SK_ID_PREV', 'NUM_INSTALMENT_NUMBER'], 'AMT_PAYMENT', 'AMT_PAYMENT_GROUPED')\n",
    "pay['PAYMENT_DIFFERENCE'] = pay['AMT_INSTALMENT'] - pay['AMT_PAYMENT_GROUPED']\n",
    "pay['PAYMENT_RATIO'] = pay['AMT_INSTALMENT'] / pay['AMT_PAYMENT_GROUPED']\n",
    "pay['PAID_OVER_AMOUNT'] = pay['AMT_PAYMENT'] - pay['AMT_INSTALMENT']\n",
    "pay['PAID_OVER'] = (pay['PAID_OVER_AMOUNT'] > 0).astype(int)"
   ],
   "outputs": [],
   "metadata": {
    "execution": {
     "iopub.execute_input": "2021-08-17T08:47:19.790321Z",
     "iopub.status.busy": "2021-08-17T08:47:19.789258Z",
     "iopub.status.idle": "2021-08-17T08:47:49.518603Z",
     "shell.execute_reply": "2021-08-17T08:47:49.517410Z",
     "shell.execute_reply.started": "2021-08-17T08:16:28.694625Z"
    },
    "papermill": {
     "duration": 29.80571,
     "end_time": "2021-08-17T08:47:49.518834",
     "exception": false,
     "start_time": "2021-08-17T08:47:19.713124",
     "status": "completed"
    },
    "tags": []
   }
  },
  {
   "cell_type": "code",
   "execution_count": 58,
   "source": [
    "pay['DPD'] = pay['DAYS_ENTRY_PAYMENT'] - pay['DAYS_INSTALMENT']\n",
    "pay['DPD'] = pay['DPD'].apply(lambda x: 0 if x <= 0 else x)\n",
    "pay['DBD'] = pay['DAYS_INSTALMENT'] - pay['DAYS_ENTRY_PAYMENT']\n",
    "pay['DBD'] = pay['DBD'].apply(lambda x: 0 if x <= 0 else x)"
   ],
   "outputs": [],
   "metadata": {
    "execution": {
     "iopub.execute_input": "2021-08-17T08:47:49.674348Z",
     "iopub.status.busy": "2021-08-17T08:47:49.672781Z",
     "iopub.status.idle": "2021-08-17T08:48:07.023789Z",
     "shell.execute_reply": "2021-08-17T08:48:07.024836Z",
     "shell.execute_reply.started": "2021-08-17T08:16:57.205197Z"
    },
    "papermill": {
     "duration": 17.432966,
     "end_time": "2021-08-17T08:48:07.025101",
     "exception": false,
     "start_time": "2021-08-17T08:47:49.592135",
     "status": "completed"
    },
    "tags": []
   }
  },
  {
   "cell_type": "code",
   "execution_count": 59,
   "source": [
    "pay['LATE_PAYMENT'] = pay['DBD'].apply(lambda x: 1 if x > 0 else 0)"
   ],
   "outputs": [],
   "metadata": {
    "execution": {
     "iopub.execute_input": "2021-08-17T08:48:07.189027Z",
     "iopub.status.busy": "2021-08-17T08:48:07.187996Z",
     "iopub.status.idle": "2021-08-17T08:48:16.994771Z",
     "shell.execute_reply": "2021-08-17T08:48:16.993978Z",
     "shell.execute_reply.started": "2021-08-17T08:17:14.897057Z"
    },
    "papermill": {
     "duration": 9.887777,
     "end_time": "2021-08-17T08:48:16.994923",
     "exception": false,
     "start_time": "2021-08-17T08:48:07.107146",
     "status": "completed"
    },
    "tags": []
   }
  },
  {
   "cell_type": "code",
   "execution_count": 60,
   "source": [
    "pay['INSTALMENT_PAYMENT_RATIO'] = pay['AMT_PAYMENT'] / pay['AMT_INSTALMENT']\n",
    "pay['LATE_PAYMENT_RATIO'] = pay.apply(lambda x: x['INSTALMENT_PAYMENT_RATIO'] if x['LATE_PAYMENT'] == 1 else 0, axis=1)"
   ],
   "outputs": [],
   "metadata": {
    "execution": {
     "iopub.execute_input": "2021-08-17T08:48:17.150641Z",
     "iopub.status.busy": "2021-08-17T08:48:17.149200Z",
     "iopub.status.idle": "2021-08-17T08:52:10.954501Z",
     "shell.execute_reply": "2021-08-17T08:52:10.953825Z",
     "shell.execute_reply.started": "2021-08-17T08:17:24.984359Z"
    },
    "papermill": {
     "duration": 233.88668,
     "end_time": "2021-08-17T08:52:10.954682",
     "exception": false,
     "start_time": "2021-08-17T08:48:17.068002",
     "status": "completed"
    },
    "tags": []
   }
  },
  {
   "cell_type": "code",
   "execution_count": 61,
   "source": [
    "pay['SIGNIFICANT_LATE_PAYMENT'] = pay['LATE_PAYMENT_RATIO'].apply(lambda x: 1 if x > 0.05 else 0)"
   ],
   "outputs": [],
   "metadata": {
    "execution": {
     "iopub.execute_input": "2021-08-17T08:52:11.862248Z",
     "iopub.status.busy": "2021-08-17T08:52:11.861550Z",
     "iopub.status.idle": "2021-08-17T08:52:20.874782Z",
     "shell.execute_reply": "2021-08-17T08:52:20.874183Z",
     "shell.execute_reply.started": "2021-08-17T08:21:17.690148Z"
    },
    "papermill": {
     "duration": 9.846585,
     "end_time": "2021-08-17T08:52:20.874944",
     "exception": false,
     "start_time": "2021-08-17T08:52:11.028359",
     "status": "completed"
    },
    "tags": []
   }
  },
  {
   "cell_type": "code",
   "execution_count": 62,
   "source": [
    "pay['DPD_7'] = pay['DPD'].apply(lambda x: 1 if x >= 7 else 0)\n",
    "pay['DPD_15'] = pay['DPD'].apply(lambda x: 1 if x >= 15 else 0)"
   ],
   "outputs": [],
   "metadata": {
    "execution": {
     "iopub.execute_input": "2021-08-17T08:52:22.169590Z",
     "iopub.status.busy": "2021-08-17T08:52:21.772392Z",
     "iopub.status.idle": "2021-08-17T08:52:40.956699Z",
     "shell.execute_reply": "2021-08-17T08:52:40.957536Z",
     "shell.execute_reply.started": "2021-08-17T08:21:27.394208Z"
    },
    "papermill": {
     "duration": 20.009526,
     "end_time": "2021-08-17T08:52:40.957791",
     "exception": false,
     "start_time": "2021-08-17T08:52:20.948265",
     "status": "completed"
    },
    "tags": []
   }
  },
  {
   "cell_type": "code",
   "execution_count": 63,
   "source": [
    "INSTALLMENTS_AGG = {\n",
    "    'SK_ID_PREV': ['size', 'nunique'],\n",
    "    'DAYS_ENTRY_PAYMENT': ['min', 'max', 'mean'],\n",
    "    'AMT_INSTALMENT': ['min', 'max', 'mean', 'sum'],\n",
    "    'AMT_PAYMENT': ['min', 'max', 'mean', 'sum'],\n",
    "    'DPD': ['max', 'mean', 'var'],\n",
    "    'DBD': ['max', 'mean', 'var'],\n",
    "    'PAYMENT_DIFFERENCE': ['mean'],\n",
    "    'PAYMENT_RATIO': ['mean'],\n",
    "    'LATE_PAYMENT': ['mean', 'sum'],\n",
    "    'SIGNIFICANT_LATE_PAYMENT': ['mean', 'sum'],\n",
    "    'LATE_PAYMENT_RATIO': ['mean'],\n",
    "    'DPD_7': ['mean'],\n",
    "    'DPD_15': ['mean'],\n",
    "    'PAID_OVER': ['mean']\n",
    "}\n",
    "\n",
    "pay_agg = group(pay, 'INS_', INSTALLMENTS_AGG)"
   ],
   "outputs": [],
   "metadata": {
    "execution": {
     "iopub.execute_input": "2021-08-17T08:52:41.111914Z",
     "iopub.status.busy": "2021-08-17T08:52:41.110838Z",
     "iopub.status.idle": "2021-08-17T08:52:56.506053Z",
     "shell.execute_reply": "2021-08-17T08:52:56.506609Z",
     "shell.execute_reply.started": "2021-08-17T08:21:47.434386Z"
    },
    "papermill": {
     "duration": 15.474507,
     "end_time": "2021-08-17T08:52:56.506841",
     "exception": false,
     "start_time": "2021-08-17T08:52:41.032334",
     "status": "completed"
    },
    "tags": []
   }
  },
  {
   "cell_type": "code",
   "execution_count": 64,
   "source": [
    "INSTALLMENTS_TIME_AGG = {\n",
    "    'SK_ID_PREV': ['size'],\n",
    "    'DAYS_ENTRY_PAYMENT': ['min', 'max', 'mean'],\n",
    "    'AMT_INSTALMENT': ['min', 'max', 'mean', 'sum'],\n",
    "    'AMT_PAYMENT': ['min', 'max', 'mean', 'sum'],\n",
    "    'DPD': ['max', 'mean', 'var'],\n",
    "    'DBD': ['max', 'mean', 'var'],\n",
    "    'PAYMENT_DIFFERENCE': ['mean'],\n",
    "    'PAYMENT_RATIO': ['mean'],\n",
    "    'LATE_PAYMENT': ['mean'],\n",
    "    'SIGNIFICANT_LATE_PAYMENT': ['mean'],\n",
    "    'LATE_PAYMENT_RATIO': ['mean'],\n",
    "    'DPD_7': ['mean'],\n",
    "    'DPD_15': ['mean'],\n",
    "}\n",
    "\n",
    "for months in [36, 60]:\n",
    "    recent_prev_id = pay[pay['DAYS_INSTALMENT'] >= -30*months]['SK_ID_PREV'].unique()\n",
    "    pay_recent = pay[pay['SK_ID_PREV'].isin(recent_prev_id)]\n",
    "    prefix = 'INS_{}M_'.format(months)\n",
    "    pay_agg = group_and_merge(pay_recent, pay_agg, prefix, INSTALLMENTS_TIME_AGG)"
   ],
   "outputs": [],
   "metadata": {
    "execution": {
     "iopub.execute_input": "2021-08-17T08:52:56.731238Z",
     "iopub.status.busy": "2021-08-17T08:52:56.730560Z",
     "iopub.status.idle": "2021-08-17T08:53:20.086323Z",
     "shell.execute_reply": "2021-08-17T08:53:20.085595Z",
     "shell.execute_reply.started": "2021-08-17T08:22:02.574242Z"
    },
    "papermill": {
     "duration": 23.505591,
     "end_time": "2021-08-17T08:53:20.086474",
     "exception": false,
     "start_time": "2021-08-17T08:52:56.580883",
     "status": "completed"
    },
    "tags": []
   }
  },
  {
   "cell_type": "code",
   "execution_count": 65,
   "source": [
    "def add_features_in_group(features, gr_, feature_name, aggs, prefix):\n",
    "    for agg in aggs:\n",
    "        if agg == 'sum':\n",
    "            features['{}{}_sum'.format(prefix, feature_name)] = gr_[feature_name].sum()\n",
    "        elif agg == 'mean':\n",
    "            features['{}{}_mean'.format(prefix, feature_name)] = gr_[feature_name].mean()\n",
    "        elif agg == 'max':\n",
    "            features['{}{}_max'.format(prefix, feature_name)] = gr_[feature_name].max()\n",
    "        elif agg == 'min':\n",
    "            features['{}{}_min'.format(prefix, feature_name)] = gr_[feature_name].min()\n",
    "        elif agg == 'std':\n",
    "            features['{}{}_std'.format(prefix, feature_name)] = gr_[feature_name].std()\n",
    "        elif agg == 'count':\n",
    "            features['{}{}_count'.format(prefix, feature_name)] = gr_[feature_name].count()\n",
    "        elif agg == 'skew':\n",
    "            features['{}{}_skew'.format(prefix, feature_name)] = skew(gr_[feature_name])\n",
    "        elif agg == 'kurt':\n",
    "            features['{}{}_kurt'.format(prefix, feature_name)] = kurtosis(gr_[feature_name])\n",
    "        elif agg == 'iqr':\n",
    "            features['{}{}_iqr'.format(prefix, feature_name)] = iqr(gr_[feature_name])\n",
    "        elif agg == 'median':\n",
    "            features['{}{}_median'.format(prefix, feature_name)] = gr_[feature_name].median()\n",
    "    return features"
   ],
   "outputs": [],
   "metadata": {
    "execution": {
     "iopub.execute_input": "2021-08-17T08:53:20.237504Z",
     "iopub.status.busy": "2021-08-17T08:53:20.236771Z",
     "iopub.status.idle": "2021-08-17T08:53:20.247256Z",
     "shell.execute_reply": "2021-08-17T08:53:20.247838Z",
     "shell.execute_reply.started": "2021-08-17T08:22:25.753100Z"
    },
    "papermill": {
     "duration": 0.087801,
     "end_time": "2021-08-17T08:53:20.248031",
     "exception": false,
     "start_time": "2021-08-17T08:53:20.160230",
     "status": "completed"
    },
    "tags": []
   }
  },
  {
   "cell_type": "code",
   "execution_count": 66,
   "source": [
    "def chunk_groups(groupby_object, chunk_size):\n",
    "    n_groups = groupby_object.ngroups\n",
    "    group_chunk, index_chunk = [], []\n",
    "    for i, (index, df) in enumerate(groupby_object):\n",
    "        group_chunk.append(df)\n",
    "        index_chunk.append(index)\n",
    "        if (i + 1) % chunk_size == 0 or i + 1 == n_groups:\n",
    "            group_chunk_, index_chunk_ = group_chunk.copy(), index_chunk.copy()\n",
    "            group_chunk, index_chunk = [], []\n",
    "            yield index_chunk_, group_chunk_"
   ],
   "outputs": [],
   "metadata": {
    "execution": {
     "iopub.execute_input": "2021-08-17T08:53:20.398701Z",
     "iopub.status.busy": "2021-08-17T08:53:20.397964Z",
     "iopub.status.idle": "2021-08-17T08:53:20.404000Z",
     "shell.execute_reply": "2021-08-17T08:53:20.404588Z",
     "shell.execute_reply.started": "2021-08-17T08:22:25.766752Z"
    },
    "papermill": {
     "duration": 0.083541,
     "end_time": "2021-08-17T08:53:20.404783",
     "exception": false,
     "start_time": "2021-08-17T08:53:20.321242",
     "status": "completed"
    },
    "tags": []
   }
  },
  {
   "cell_type": "code",
   "execution_count": 67,
   "source": [
    "def add_trend_feature(features, gr, feature_name, prefix):\n",
    "    y = gr[feature_name].values\n",
    "    try:\n",
    "        x = np.arange(0, len(y)).reshape(-1, 1)\n",
    "        lr = LinearRegression()\n",
    "        lr.fit(x, y)\n",
    "        trend = lr.coef_[0]\n",
    "    except:\n",
    "        trend = np.nan\n",
    "    features['{}{}'.format(prefix, feature_name)] = trend\n",
    "    return features"
   ],
   "outputs": [],
   "metadata": {
    "execution": {
     "iopub.execute_input": "2021-08-17T08:53:20.558506Z",
     "iopub.status.busy": "2021-08-17T08:53:20.557786Z",
     "iopub.status.idle": "2021-08-17T08:53:20.563630Z",
     "shell.execute_reply": "2021-08-17T08:53:20.564128Z",
     "shell.execute_reply.started": "2021-08-17T08:22:25.787580Z"
    },
    "papermill": {
     "duration": 0.084287,
     "end_time": "2021-08-17T08:53:20.564328",
     "exception": false,
     "start_time": "2021-08-17T08:53:20.480041",
     "status": "completed"
    },
    "tags": []
   }
  },
  {
   "cell_type": "code",
   "execution_count": 68,
   "source": [
    "def parallel_apply(groups, func, index_name='Index', num_workers=0, chunk_size=100000):\n",
    "    if num_workers <= 0: num_workers = 8\n",
    "    #n_chunks = np.ceil(1.0 * groups.ngroups / chunk_size)\n",
    "    indeces, features = [], []\n",
    "    for index_chunk, groups_chunk in chunk_groups(groups, chunk_size):\n",
    "        with mp.Pool(num_workers) as executor:\n",
    "            features_chunk = executor.map(func, groups_chunk)\n",
    "        features.extend(features_chunk)\n",
    "        indeces.extend(index_chunk)\n",
    "\n",
    "    features = pd.DataFrame(features)\n",
    "    features.index = indeces\n",
    "    features.index.name = index_name\n",
    "    return features"
   ],
   "outputs": [],
   "metadata": {
    "execution": {
     "iopub.execute_input": "2021-08-17T08:53:20.715041Z",
     "iopub.status.busy": "2021-08-17T08:53:20.714234Z",
     "iopub.status.idle": "2021-08-17T08:53:20.720584Z",
     "shell.execute_reply": "2021-08-17T08:53:20.721149Z",
     "shell.execute_reply.started": "2021-08-17T08:22:25.807043Z"
    },
    "papermill": {
     "duration": 0.083505,
     "end_time": "2021-08-17T08:53:20.721359",
     "exception": false,
     "start_time": "2021-08-17T08:53:20.637854",
     "status": "completed"
    },
    "tags": []
   }
  },
  {
   "cell_type": "code",
   "execution_count": 69,
   "source": [
    "def trend_in_last_k_instalment_features(gr, periods):\n",
    "    gr_ = gr.copy()\n",
    "    gr_.sort_values(['DAYS_INSTALMENT'], ascending=False, inplace=True)\n",
    "    features = {}\n",
    "\n",
    "    for period in periods:\n",
    "        gr_period = gr_.iloc[:period]\n",
    "        features = add_trend_feature(features, gr_period, 'DPD',\n",
    "                                           '{}_TREND_'.format(period))\n",
    "        features = add_trend_feature(features, gr_period, 'PAID_OVER_AMOUNT',\n",
    "                                           '{}_TREND_'.format(period))\n",
    "    return features\n",
    "\n",
    "group_features = ['SK_ID_CURR', 'SK_ID_PREV', 'DPD', 'LATE_PAYMENT',\n",
    "                  'PAID_OVER_AMOUNT', 'PAID_OVER', 'DAYS_INSTALMENT']\n",
    "gp = pay[group_features].groupby('SK_ID_CURR')\n",
    "func = partial(trend_in_last_k_instalment_features, periods=[12, 24, 60, 120])\n",
    "g = parallel_apply(gp, func, index_name='SK_ID_CURR', chunk_size=10000).reset_index()\n",
    "pay_agg = pay_agg.merge(g, on='SK_ID_CURR', how='left')"
   ],
   "outputs": [],
   "metadata": {
    "execution": {
     "iopub.execute_input": "2021-08-17T08:53:21.273181Z",
     "iopub.status.busy": "2021-08-17T08:53:21.271998Z",
     "iopub.status.idle": "2021-08-17T08:58:36.562066Z",
     "shell.execute_reply": "2021-08-17T08:58:36.560827Z",
     "shell.execute_reply.started": "2021-08-17T08:22:25.822830Z"
    },
    "papermill": {
     "duration": 315.767296,
     "end_time": "2021-08-17T08:58:36.562262",
     "exception": false,
     "start_time": "2021-08-17T08:53:20.794966",
     "status": "completed"
    },
    "tags": []
   }
  },
  {
   "cell_type": "code",
   "execution_count": 70,
   "source": [
    "def installments_last_loan_features(gr):\n",
    "    gr_ = gr.copy()\n",
    "    gr_.sort_values(['DAYS_INSTALMENT'], ascending=False, inplace=True)\n",
    "    last_installment_id = gr_['SK_ID_PREV'].iloc[0]\n",
    "    gr_ = gr_[gr_['SK_ID_PREV'] == last_installment_id]\n",
    "\n",
    "    features = {}\n",
    "    features = add_features_in_group(features, gr_, 'DPD',\n",
    "                                     ['sum', 'mean', 'max', 'std'],\n",
    "                                     'LAST_LOAN_')\n",
    "    features = add_features_in_group(features, gr_, 'LATE_PAYMENT',\n",
    "                                     ['count', 'mean'],\n",
    "                                     'LAST_LOAN_')\n",
    "    features = add_features_in_group(features, gr_, 'PAID_OVER_AMOUNT',\n",
    "                                     ['sum', 'mean', 'max', 'min', 'std'],\n",
    "                                     'LAST_LOAN_')\n",
    "    features = add_features_in_group(features, gr_, 'PAID_OVER',\n",
    "                                     ['count', 'mean'],\n",
    "                                     'LAST_LOAN_')\n",
    "    return features\n",
    "\n",
    "g = parallel_apply(gp, installments_last_loan_features, index_name='SK_ID_CURR', chunk_size=10000).reset_index()\n",
    "pay_agg = pay_agg.merge(g, on='SK_ID_CURR', how='left')"
   ],
   "outputs": [],
   "metadata": {
    "execution": {
     "iopub.execute_input": "2021-08-17T08:58:36.720281Z",
     "iopub.status.busy": "2021-08-17T08:58:36.719581Z",
     "iopub.status.idle": "2021-08-17T09:07:22.605100Z",
     "shell.execute_reply": "2021-08-17T09:07:22.605682Z",
     "shell.execute_reply.started": "2021-08-17T08:27:58.250030Z"
    },
    "papermill": {
     "duration": 525.969291,
     "end_time": "2021-08-17T09:07:22.605930",
     "exception": false,
     "start_time": "2021-08-17T08:58:36.636639",
     "status": "completed"
    },
    "tags": []
   }
  },
  {
   "cell_type": "code",
   "execution_count": 71,
   "source": [
    "df = pd.merge(df, pay_agg, on='SK_ID_CURR', how='left')\n",
    "del pay_agg, gp, pay; gc.collect()"
   ],
   "outputs": [
    {
     "output_type": "execute_result",
     "data": {
      "text/plain": [
       "20"
      ]
     },
     "metadata": {},
     "execution_count": 71
    }
   ],
   "metadata": {
    "execution": {
     "iopub.execute_input": "2021-08-17T09:07:22.759380Z",
     "iopub.status.busy": "2021-08-17T09:07:22.758697Z",
     "iopub.status.idle": "2021-08-17T09:07:25.854672Z",
     "shell.execute_reply": "2021-08-17T09:07:25.855196Z",
     "shell.execute_reply.started": "2021-08-17T08:37:07.069865Z"
    },
    "papermill": {
     "duration": 3.175084,
     "end_time": "2021-08-17T09:07:25.855412",
     "exception": false,
     "start_time": "2021-08-17T09:07:22.680328",
     "status": "completed"
    },
    "tags": []
   }
  },
  {
   "cell_type": "code",
   "execution_count": 72,
   "source": [
    "cc = pd.read_csv(os.path.join(DATA_DIRECTORY, 'credit_card_balance.csv'))\n",
    "cc, cat_cols = one_hot_encoder(cc, nan_as_category=False)\n",
    "cc.rename(columns={'AMT_RECIVABLE': 'AMT_RECEIVABLE'}, inplace=True)"
   ],
   "outputs": [],
   "metadata": {
    "execution": {
     "iopub.execute_input": "2021-08-17T09:07:26.010036Z",
     "iopub.status.busy": "2021-08-17T09:07:26.009152Z",
     "iopub.status.idle": "2021-08-17T09:07:43.836777Z",
     "shell.execute_reply": "2021-08-17T09:07:43.835960Z",
     "shell.execute_reply.started": "2021-08-17T08:37:10.376273Z"
    },
    "papermill": {
     "duration": 17.907297,
     "end_time": "2021-08-17T09:07:43.836949",
     "exception": false,
     "start_time": "2021-08-17T09:07:25.929652",
     "status": "completed"
    },
    "tags": []
   }
  },
  {
   "cell_type": "code",
   "execution_count": 73,
   "source": [
    "cc['LIMIT_USE'] = cc['AMT_BALANCE'] / cc['AMT_CREDIT_LIMIT_ACTUAL']"
   ],
   "outputs": [],
   "metadata": {
    "execution": {
     "iopub.execute_input": "2021-08-17T09:07:43.995705Z",
     "iopub.status.busy": "2021-08-17T09:07:43.994354Z",
     "iopub.status.idle": "2021-08-17T09:07:44.015207Z",
     "shell.execute_reply": "2021-08-17T09:07:44.014604Z",
     "shell.execute_reply.started": "2021-08-17T08:37:29.810275Z"
    },
    "papermill": {
     "duration": 0.102691,
     "end_time": "2021-08-17T09:07:44.015377",
     "exception": false,
     "start_time": "2021-08-17T09:07:43.912686",
     "status": "completed"
    },
    "tags": []
   }
  },
  {
   "cell_type": "code",
   "execution_count": 74,
   "source": [
    "cc['PAYMENT_DIV_MIN'] = cc['AMT_PAYMENT_CURRENT'] / cc['AMT_INST_MIN_REGULARITY']"
   ],
   "outputs": [],
   "metadata": {
    "execution": {
     "iopub.execute_input": "2021-08-17T09:07:44.183153Z",
     "iopub.status.busy": "2021-08-17T09:07:44.182390Z",
     "iopub.status.idle": "2021-08-17T09:07:44.203049Z",
     "shell.execute_reply": "2021-08-17T09:07:44.203769Z",
     "shell.execute_reply.started": "2021-08-17T08:37:29.834169Z"
    },
    "papermill": {
     "duration": 0.110579,
     "end_time": "2021-08-17T09:07:44.204018",
     "exception": false,
     "start_time": "2021-08-17T09:07:44.093439",
     "status": "completed"
    },
    "tags": []
   }
  },
  {
   "cell_type": "code",
   "execution_count": 75,
   "source": [
    "cc['LATE_PAYMENT'] = cc['SK_DPD'].apply(lambda x: 1 if x > 0 else 0)"
   ],
   "outputs": [],
   "metadata": {
    "execution": {
     "iopub.execute_input": "2021-08-17T09:07:44.365798Z",
     "iopub.status.busy": "2021-08-17T09:07:44.365021Z",
     "iopub.status.idle": "2021-08-17T09:07:46.800705Z",
     "shell.execute_reply": "2021-08-17T09:07:46.801214Z",
     "shell.execute_reply.started": "2021-08-17T08:37:29.861540Z"
    },
    "papermill": {
     "duration": 2.515857,
     "end_time": "2021-08-17T09:07:46.801451",
     "exception": false,
     "start_time": "2021-08-17T09:07:44.285594",
     "status": "completed"
    },
    "tags": []
   }
  },
  {
   "cell_type": "code",
   "execution_count": 76,
   "source": [
    "cc['DRAWING_LIMIT_RATIO'] = cc['AMT_DRAWINGS_ATM_CURRENT'] / cc['AMT_CREDIT_LIMIT_ACTUAL']"
   ],
   "outputs": [],
   "metadata": {
    "execution": {
     "iopub.execute_input": "2021-08-17T09:07:46.958358Z",
     "iopub.status.busy": "2021-08-17T09:07:46.957001Z",
     "iopub.status.idle": "2021-08-17T09:07:46.991759Z",
     "shell.execute_reply": "2021-08-17T09:07:46.990685Z",
     "shell.execute_reply.started": "2021-08-17T08:37:32.286896Z"
    },
    "papermill": {
     "duration": 0.116746,
     "end_time": "2021-08-17T09:07:46.991931",
     "exception": false,
     "start_time": "2021-08-17T09:07:46.875185",
     "status": "completed"
    },
    "tags": []
   }
  },
  {
   "cell_type": "code",
   "execution_count": 77,
   "source": [
    "CREDIT_CARD_AGG = {\n",
    "    'MONTHS_BALANCE': ['min'],\n",
    "    'AMT_BALANCE': ['max'],\n",
    "    'AMT_CREDIT_LIMIT_ACTUAL': ['max'],\n",
    "    'AMT_DRAWINGS_ATM_CURRENT': ['max', 'sum'],\n",
    "    'AMT_DRAWINGS_CURRENT': ['max', 'sum'],\n",
    "    'AMT_DRAWINGS_POS_CURRENT': ['max', 'sum'],\n",
    "    'AMT_INST_MIN_REGULARITY': ['max', 'mean'],\n",
    "    'AMT_PAYMENT_TOTAL_CURRENT': ['max', 'mean', 'sum', 'var'],\n",
    "    'AMT_TOTAL_RECEIVABLE': ['max', 'mean'],\n",
    "    'CNT_DRAWINGS_ATM_CURRENT': ['max', 'mean', 'sum'],\n",
    "    'CNT_DRAWINGS_CURRENT': ['max', 'mean', 'sum'],\n",
    "    'CNT_DRAWINGS_POS_CURRENT': ['mean'],\n",
    "    'SK_DPD': ['mean', 'max', 'sum'],\n",
    "    'SK_DPD_DEF': ['max', 'sum'],\n",
    "    'LIMIT_USE': ['max', 'mean'],\n",
    "    'PAYMENT_DIV_MIN': ['min', 'mean'],\n",
    "    'LATE_PAYMENT': ['max', 'sum'],\n",
    "}\n",
    "\n",
    "cc_agg = cc.groupby('SK_ID_CURR').agg(CREDIT_CARD_AGG)\n",
    "cc_agg.columns = pd.Index(['CC_' + e[0] + \"_\" + e[1].upper() for e in cc_agg.columns.tolist()])\n",
    "cc_agg.reset_index(inplace= True)"
   ],
   "outputs": [],
   "metadata": {
    "execution": {
     "iopub.execute_input": "2021-08-17T09:07:47.152907Z",
     "iopub.status.busy": "2021-08-17T09:07:47.151653Z",
     "iopub.status.idle": "2021-08-17T09:07:49.777990Z",
     "shell.execute_reply": "2021-08-17T09:07:49.777393Z",
     "shell.execute_reply.started": "2021-08-17T08:37:32.326851Z"
    },
    "papermill": {
     "duration": 2.711654,
     "end_time": "2021-08-17T09:07:49.778164",
     "exception": false,
     "start_time": "2021-08-17T09:07:47.066510",
     "status": "completed"
    },
    "tags": []
   }
  },
  {
   "cell_type": "code",
   "execution_count": 78,
   "source": [
    "last_ids = cc.groupby('SK_ID_PREV')['MONTHS_BALANCE'].idxmax()\n",
    "last_months_df = cc[cc.index.isin(last_ids)]\n",
    "cc_agg = group_and_merge(last_months_df,cc_agg,'CC_LAST_', {'AMT_BALANCE': ['mean', 'max']})"
   ],
   "outputs": [],
   "metadata": {
    "execution": {
     "iopub.execute_input": "2021-08-17T09:07:49.937412Z",
     "iopub.status.busy": "2021-08-17T09:07:49.936682Z",
     "iopub.status.idle": "2021-08-17T09:07:58.654423Z",
     "shell.execute_reply": "2021-08-17T09:07:58.653815Z",
     "shell.execute_reply.started": "2021-08-17T08:37:34.606083Z"
    },
    "papermill": {
     "duration": 8.802093,
     "end_time": "2021-08-17T09:07:58.654588",
     "exception": false,
     "start_time": "2021-08-17T09:07:49.852495",
     "status": "completed"
    },
    "tags": []
   }
  },
  {
   "cell_type": "code",
   "execution_count": 79,
   "source": [
    "CREDIT_CARD_TIME_AGG = {\n",
    "    'CNT_DRAWINGS_ATM_CURRENT': ['mean'],\n",
    "    'SK_DPD': ['max', 'sum'],\n",
    "    'AMT_BALANCE': ['mean', 'max'],\n",
    "    'LIMIT_USE': ['max', 'mean']\n",
    "}\n",
    "\n",
    "for months in [12, 24, 48]:\n",
    "    cc_prev_id = cc[cc['MONTHS_BALANCE'] >= -months]['SK_ID_PREV'].unique()\n",
    "    cc_recent = cc[cc['SK_ID_PREV'].isin(cc_prev_id)]\n",
    "    prefix = 'INS_{}M_'.format(months)\n",
    "    cc_agg = group_and_merge(cc_recent, cc_agg, prefix, CREDIT_CARD_TIME_AGG)"
   ],
   "outputs": [],
   "metadata": {
    "execution": {
     "iopub.execute_input": "2021-08-17T09:07:58.811663Z",
     "iopub.status.busy": "2021-08-17T09:07:58.810950Z",
     "iopub.status.idle": "2021-08-17T09:08:05.307040Z",
     "shell.execute_reply": "2021-08-17T09:08:05.306390Z",
     "shell.execute_reply.started": "2021-08-17T08:37:43.071861Z"
    },
    "papermill": {
     "duration": 6.579288,
     "end_time": "2021-08-17T09:08:05.307204",
     "exception": false,
     "start_time": "2021-08-17T09:07:58.727916",
     "status": "completed"
    },
    "tags": []
   }
  },
  {
   "cell_type": "code",
   "execution_count": 80,
   "source": [
    "df = pd.merge(df, cc_agg, on='SK_ID_CURR', how='left')\n",
    "del cc, cc_agg; gc.collect()"
   ],
   "outputs": [
    {
     "output_type": "execute_result",
     "data": {
      "text/plain": [
       "20"
      ]
     },
     "metadata": {},
     "execution_count": 80
    }
   ],
   "metadata": {
    "execution": {
     "iopub.execute_input": "2021-08-17T09:08:05.462959Z",
     "iopub.status.busy": "2021-08-17T09:08:05.462163Z",
     "iopub.status.idle": "2021-08-17T09:08:08.212039Z",
     "shell.execute_reply": "2021-08-17T09:08:08.212564Z",
     "shell.execute_reply.started": "2021-08-17T08:37:48.934041Z"
    },
    "papermill": {
     "duration": 2.830292,
     "end_time": "2021-08-17T09:08:08.212755",
     "exception": false,
     "start_time": "2021-08-17T09:08:05.382463",
     "status": "completed"
    },
    "tags": []
   }
  },
  {
   "cell_type": "code",
   "execution_count": 81,
   "source": [
    "def add_ratios_features(df):\n",
    "    df['BUREAU_INCOME_CREDIT_RATIO'] = df['BUREAU_AMT_CREDIT_SUM_MEAN'] / df['AMT_INCOME_TOTAL']\n",
    "    df['BUREAU_ACTIVE_CREDIT_TO_INCOME_RATIO'] = df['BUREAU_ACTIVE_AMT_CREDIT_SUM_SUM'] / df['AMT_INCOME_TOTAL']\n",
    "    df['CURRENT_TO_APPROVED_CREDIT_MIN_RATIO'] = df['APPROVED_AMT_CREDIT_MIN'] / df['AMT_CREDIT']\n",
    "    df['CURRENT_TO_APPROVED_CREDIT_MAX_RATIO'] = df['APPROVED_AMT_CREDIT_MAX'] / df['AMT_CREDIT']\n",
    "    df['CURRENT_TO_APPROVED_CREDIT_MEAN_RATIO'] = df['APPROVED_AMT_CREDIT_MEAN'] / df['AMT_CREDIT']\n",
    "    df['CURRENT_TO_APPROVED_ANNUITY_MAX_RATIO'] = df['APPROVED_AMT_ANNUITY_MAX'] / df['AMT_ANNUITY']\n",
    "    df['CURRENT_TO_APPROVED_ANNUITY_MEAN_RATIO'] = df['APPROVED_AMT_ANNUITY_MEAN'] / df['AMT_ANNUITY']\n",
    "    df['PAYMENT_MIN_TO_ANNUITY_RATIO'] = df['INS_AMT_PAYMENT_MIN'] / df['AMT_ANNUITY']\n",
    "    df['PAYMENT_MAX_TO_ANNUITY_RATIO'] = df['INS_AMT_PAYMENT_MAX'] / df['AMT_ANNUITY']\n",
    "    df['PAYMENT_MEAN_TO_ANNUITY_RATIO'] = df['INS_AMT_PAYMENT_MEAN'] / df['AMT_ANNUITY']\n",
    "    df['CTA_CREDIT_TO_ANNUITY_MAX_RATIO'] = df['APPROVED_CREDIT_TO_ANNUITY_RATIO_MAX'] / df[\n",
    "        'CREDIT_TO_ANNUITY_RATIO']\n",
    "    df['CTA_CREDIT_TO_ANNUITY_MEAN_RATIO'] = df['APPROVED_CREDIT_TO_ANNUITY_RATIO_MEAN'] / df[\n",
    "        'CREDIT_TO_ANNUITY_RATIO']\n",
    "    df['DAYS_DECISION_MEAN_TO_BIRTH'] = df['APPROVED_DAYS_DECISION_MEAN'] / df['DAYS_BIRTH']\n",
    "    df['DAYS_CREDIT_MEAN_TO_BIRTH'] = df['BUREAU_DAYS_CREDIT_MEAN'] / df['DAYS_BIRTH']\n",
    "    df['DAYS_DECISION_MEAN_TO_EMPLOYED'] = df['APPROVED_DAYS_DECISION_MEAN'] / df['DAYS_EMPLOYED']\n",
    "    df['DAYS_CREDIT_MEAN_TO_EMPLOYED'] = df['BUREAU_DAYS_CREDIT_MEAN'] / df['DAYS_EMPLOYED']\n",
    "    return df"
   ],
   "outputs": [],
   "metadata": {
    "execution": {
     "iopub.execute_input": "2021-08-17T09:08:08.377070Z",
     "iopub.status.busy": "2021-08-17T09:08:08.376337Z",
     "iopub.status.idle": "2021-08-17T09:08:08.378524Z",
     "shell.execute_reply": "2021-08-17T09:08:08.378997Z",
     "shell.execute_reply.started": "2021-08-17T08:37:51.804562Z"
    },
    "papermill": {
     "duration": 0.090163,
     "end_time": "2021-08-17T09:08:08.379195",
     "exception": false,
     "start_time": "2021-08-17T09:08:08.289032",
     "status": "completed"
    },
    "tags": []
   }
  },
  {
   "cell_type": "code",
   "execution_count": 82,
   "source": [
    "df = add_ratios_features(df)"
   ],
   "outputs": [],
   "metadata": {
    "execution": {
     "iopub.execute_input": "2021-08-17T09:08:08.537066Z",
     "iopub.status.busy": "2021-08-17T09:08:08.536430Z",
     "iopub.status.idle": "2021-08-17T09:08:08.587409Z",
     "shell.execute_reply": "2021-08-17T09:08:08.586768Z",
     "shell.execute_reply.started": "2021-08-17T08:37:51.816124Z"
    },
    "papermill": {
     "duration": 0.134543,
     "end_time": "2021-08-17T09:08:08.587655",
     "exception": false,
     "start_time": "2021-08-17T09:08:08.453112",
     "status": "completed"
    },
    "tags": []
   }
  },
  {
   "cell_type": "code",
   "execution_count": 83,
   "source": [
    "df.replace([np.inf, -np.inf], np.nan, inplace=True)"
   ],
   "outputs": [],
   "metadata": {
    "execution": {
     "iopub.execute_input": "2021-08-17T09:08:08.741345Z",
     "iopub.status.busy": "2021-08-17T09:08:08.740617Z",
     "iopub.status.idle": "2021-08-17T09:08:12.388183Z",
     "shell.execute_reply": "2021-08-17T09:08:12.388731Z",
     "shell.execute_reply.started": "2021-08-17T08:37:51.883268Z"
    },
    "papermill": {
     "duration": 3.727593,
     "end_time": "2021-08-17T09:08:12.388953",
     "exception": false,
     "start_time": "2021-08-17T09:08:08.661360",
     "status": "completed"
    },
    "tags": []
   }
  },
  {
   "cell_type": "code",
   "execution_count": 84,
   "source": [
    "train = df[df['TARGET'].notnull()]\n",
    "test = df[df['TARGET'].isnull()]\n",
    "del df\n",
    "gc.collect()"
   ],
   "outputs": [
    {
     "output_type": "execute_result",
     "data": {
      "text/plain": [
       "60"
      ]
     },
     "metadata": {},
     "execution_count": 84
    }
   ],
   "metadata": {
    "execution": {
     "iopub.execute_input": "2021-08-17T09:08:12.554288Z",
     "iopub.status.busy": "2021-08-17T09:08:12.553367Z",
     "iopub.status.idle": "2021-08-17T09:08:13.785020Z",
     "shell.execute_reply": "2021-08-17T09:08:13.785612Z",
     "shell.execute_reply.started": "2021-08-17T08:37:55.269256Z"
    },
    "papermill": {
     "duration": 1.32145,
     "end_time": "2021-08-17T09:08:13.785814",
     "exception": false,
     "start_time": "2021-08-17T09:08:12.464364",
     "status": "completed"
    },
    "tags": []
   }
  },
  {
   "cell_type": "code",
   "execution_count": 85,
   "source": [
    "labels = train['TARGET']\n",
    "train = train.drop(columns=['TARGET'])\n",
    "test = test.drop(columns=['TARGET'])"
   ],
   "outputs": [],
   "metadata": {
    "execution": {
     "iopub.execute_input": "2021-08-17T09:08:13.938237Z",
     "iopub.status.busy": "2021-08-17T09:08:13.937541Z",
     "iopub.status.idle": "2021-08-17T09:08:14.798586Z",
     "shell.execute_reply": "2021-08-17T09:08:14.799145Z",
     "shell.execute_reply.started": "2021-08-17T08:37:56.391258Z"
    },
    "papermill": {
     "duration": 0.938882,
     "end_time": "2021-08-17T09:08:14.799357",
     "exception": false,
     "start_time": "2021-08-17T09:08:13.860475",
     "status": "completed"
    },
    "tags": []
   }
  },
  {
   "cell_type": "code",
   "execution_count": 86,
   "source": [
    "train.to_csv(\"train.csv\", index=False)"
   ],
   "outputs": [],
   "metadata": {
    "execution": {
     "iopub.execute_input": "2021-08-17T09:08:14.953517Z",
     "iopub.status.busy": "2021-08-17T09:08:14.952847Z",
     "iopub.status.idle": "2021-08-17T09:12:01.243935Z",
     "shell.execute_reply": "2021-08-17T09:12:01.244536Z"
    },
    "papermill": {
     "duration": 226.370354,
     "end_time": "2021-08-17T09:12:01.244745",
     "exception": false,
     "start_time": "2021-08-17T09:08:14.874391",
     "status": "completed"
    },
    "tags": []
   }
  },
  {
   "cell_type": "code",
   "execution_count": 87,
   "source": [
    "test.to_csv(\"test.csv\", index=False)"
   ],
   "outputs": [],
   "metadata": {
    "execution": {
     "iopub.execute_input": "2021-08-17T09:12:01.400451Z",
     "iopub.status.busy": "2021-08-17T09:12:01.399758Z",
     "iopub.status.idle": "2021-08-17T09:12:38.527839Z",
     "shell.execute_reply": "2021-08-17T09:12:38.527176Z"
    },
    "papermill": {
     "duration": 37.207992,
     "end_time": "2021-08-17T09:12:38.528000",
     "exception": false,
     "start_time": "2021-08-17T09:12:01.320008",
     "status": "completed"
    },
    "tags": []
   }
  },
  {
   "cell_type": "code",
   "execution_count": 88,
   "source": [
    "labels.to_csv(\"labels.csv\", index=False)"
   ],
   "outputs": [],
   "metadata": {
    "execution": {
     "iopub.execute_input": "2021-08-17T09:12:38.682646Z",
     "iopub.status.busy": "2021-08-17T09:12:38.681943Z",
     "iopub.status.idle": "2021-08-17T09:12:39.292443Z",
     "shell.execute_reply": "2021-08-17T09:12:39.291707Z"
    },
    "papermill": {
     "duration": 0.690115,
     "end_time": "2021-08-17T09:12:39.292606",
     "exception": false,
     "start_time": "2021-08-17T09:12:38.602491",
     "status": "completed"
    },
    "tags": []
   }
  }
 ],
 "metadata": {
  "kernelspec": {
   "display_name": "Python 3",
   "language": "python",
   "name": "python3"
  },
  "language_info": {
   "codemirror_mode": {
    "name": "ipython",
    "version": 3
   },
   "file_extension": ".py",
   "mimetype": "text/x-python",
   "name": "python",
   "nbconvert_exporter": "python",
   "pygments_lexer": "ipython3",
   "version": "3.7.10"
  },
  "papermill": {
   "default_parameters": {},
   "duration": 1860.562162,
   "end_time": "2021-08-17T09:12:40.278357",
   "environment_variables": {},
   "exception": null,
   "input_path": "__notebook__.ipynb",
   "output_path": "__notebook__.ipynb",
   "parameters": {},
   "start_time": "2021-08-17T08:41:39.716195",
   "version": "2.3.3"
  }
 },
 "nbformat": 4,
 "nbformat_minor": 5
}