{
 "cells": [
  {
   "cell_type": "code",
   "execution_count": null,
   "id": "6bd1c57a",
   "metadata": {},
   "outputs": [],
   "source": [
    "import os\n",
    "import gc\n",
    "import pandas as pd\n",
    "import numpy as np\n",
    "from sklearn.model_selection import train_test_split\n",
    "\n",
    "from pytorch_tabnet.tab_model import TabNetClassifier\n",
    "import torch\n",
    "\n",
    "from sklearn.impute import SimpleImputer\n",
    "\n",
    "import warnings\n",
    "warnings.simplefilter(action='ignore', category=FutureWarning)"
   ]
  },
  {
   "cell_type": "code",
   "execution_count": null,
   "id": "ebed0e00",
   "metadata": {},
   "outputs": [],
   "source": [
    "DATA_DIRECTORY = \"\""
   ]
  },
  {
   "cell_type": "code",
   "execution_count": null,
   "id": "2ff03694",
   "metadata": {},
   "outputs": [],
   "source": [
    "train = pd.read_csv(os.path.join(DATA_DIRECTORY, 'train.csv'))\n",
    "test = pd.read_csv(os.path.join(DATA_DIRECTORY, 'test.csv'))\n",
    "labels = pd.read_csv(os.path.join(DATA_DIRECTORY, 'labels.csv'))"
   ]
  },
  {
   "cell_type": "code",
   "execution_count": null,
   "id": "5084d62a",
   "metadata": {},
   "outputs": [],
   "source": [
    "test_id = test['SK_ID_CURR']"
   ]
  },
  {
   "cell_type": "code",
   "execution_count": null,
   "id": "0a43eb9e",
   "metadata": {},
   "outputs": [],
   "source": [
    "imputer = SimpleImputer(strategy = 'median')\n",
    "imputer.fit(train)\n",
    "train = imputer.transform(train)\n",
    "test = imputer.transform(test)"
   ]
  },
  {
   "cell_type": "code",
   "execution_count": null,
   "id": "d45dcfe8",
   "metadata": {},
   "outputs": [],
   "source": [
    "target = labels.to_numpy()\n",
    "del labels\n",
    "gc.collect()"
   ]
  },
  {
   "cell_type": "code",
   "execution_count": null,
   "id": "60725d76",
   "metadata": {},
   "outputs": [],
   "source": [
    "x_train, x_val, y_train, y_val = train_test_split(train, target, test_size=0.30, random_state=8)"
   ]
  },
  {
   "cell_type": "code",
   "execution_count": null,
   "id": "e3d553ba",
   "metadata": {},
   "outputs": [],
   "source": [
    "def accuracy_score(y_true, y_pred):\n",
    "    y_pred = np.concatenate(tuple(y_pred))\n",
    "    y_true = np.concatenate(tuple([t for t in y] for y in y_true)).reshape(\n",
    "        y_pred.shape\n",
    "    )\n",
    "\n",
    "    return (y_true == y_pred).sum() / float(len(y_true))"
   ]
  },
  {
   "cell_type": "code",
   "execution_count": null,
   "id": "92be944f",
   "metadata": {},
   "outputs": [],
   "source": [
    "from sklearn.model_selection import ParameterGrid\n",
    "from sklearn.metrics import roc_auc_score\n",
    "\n",
    "# Function that instantiates a tabnet model.\n",
    "def create_tabnet(n_d=32, n_steps=5, lr=0.02, gamma=1.5, \n",
    "                  n_independent=2, n_shared=2, lambda_sparse=1e-4, \n",
    "                  momentum=0.3, clip_value=2.):\n",
    "    \n",
    "    return TabNetClassifier(\n",
    "        n_d=n_d, n_a=n_d, n_steps=n_steps,\n",
    "        gamma=gamma, n_independent=n_independent, n_shared=n_shared,\n",
    "        lambda_sparse=lambda_sparse, momentum=momentum, clip_value=clip_value,\n",
    "        optimizer_fn=torch.optim.Adam,\n",
    "        scheduler_params = {\"gamma\": 0.95,\n",
    "                         \"step_size\": 20},\n",
    "        scheduler_fn=torch.optim.lr_scheduler.StepLR, epsilon=1e-15, verbose = 0\n",
    "    )\n",
    "                  \n",
    "# Generate the parameter grid.\n",
    "param_grid = dict(n_d = [8, 16, 32, 64],\n",
    "                  n_steps = [3, 4, 5],\n",
    "                  gamma = [1, 1.5, 2],\n",
    "                  lambda_sparse = [1e-2, 1e-3, 1e-4],\n",
    "                  momentum = [0.3, 0.4, 0.5],\n",
    "                  n_shared = [2],\n",
    "                  n_independent = [2],\n",
    "                  clip_value = [2.],     \n",
    ")\n",
    "\n",
    "grid = ParameterGrid(param_grid)\n",
    "\n",
    "search_results = pd.DataFrame() \n",
    "for params in grid:\n",
    "    params['n_a'] = params['n_d'] # n_a=n_d always per the paper\n",
    "    tabnet = create_tabnet()\n",
    "    tabnet.set_params(**params)\n",
    "    tabnet.fit(\n",
    "        x_train,y_train[:,0],\n",
    "        eval_set=[(x_train, y_train[:,0]), (x_val, y_val[:,0])],\n",
    "        eval_name=['train', 'valid'],\n",
    "        eval_metric=['auc'],\n",
    "        max_epochs=1000 , patience=50,\n",
    "        batch_size=256, virtual_batch_size=128,\n",
    "        num_workers=0,\n",
    "        weights=1,\n",
    "        drop_last=False\n",
    "    )  \n",
    "\n",
    "    y_prob = tabnet.predict_proba(x_val)\n",
    "    auc = roc_auc_score(y_val, y_prob[:, 1])\n",
    "    score = max(2*auc - 1, 0.)\n",
    "    # score = accuracy_score(y_val[:, 0], y_prob[: 1])\n",
    "    \n",
    "    results = pd.DataFrame([params])\n",
    "    results['score'] = np.round(score, 3)\n",
    "    search_results = search_results.append(results)\n"
   ]
  },
  {
   "cell_type": "code",
   "execution_count": null,
   "id": "e97e5eca",
   "metadata": {},
   "outputs": [],
   "source": [
    "search_results.to_csv(os.path.join(DATA_DIRECTORY, 'search_results.csv'), index=False)"
   ]
  }
 ],
 "metadata": {
  "interpreter": {
   "hash": "b2acef9c405ed574e8ba965b223740abc6391b41de725cf0c976ada615306344"
  },
  "kernelspec": {
   "display_name": "Python 3.8.0 64-bit ('CSE499': conda)",
   "name": "python3"
  },
  "language_info": {
   "codemirror_mode": {
    "name": "ipython",
    "version": 3
   },
   "file_extension": ".py",
   "mimetype": "text/x-python",
   "name": "python",
   "nbconvert_exporter": "python",
   "pygments_lexer": "ipython3"
  },
  "papermill": {
   "default_parameters": {},
   "duration": 113.523907,
   "end_time": "2021-08-21T14:56:53.810334",
   "environment_variables": {},
   "exception": true,
   "input_path": "__notebook__.ipynb",
   "output_path": "__notebook__.ipynb",
   "parameters": {},
   "start_time": "2021-08-21T14:55:00.286427",
   "version": "2.3.3"
  }
 },
 "nbformat": 4,
 "nbformat_minor": 5
}
