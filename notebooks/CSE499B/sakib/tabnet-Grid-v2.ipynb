{
 "cells": [
  {
   "cell_type": "code",
   "execution_count": null,
   "source": [
    "import os\r\n",
    "import gc\r\n",
    "import pandas as pd\r\n",
    "import numpy as np\r\n",
    "from sklearn.model_selection import train_test_split\r\n",
    "\r\n",
    "from pytorch_tabnet.tab_model import TabNetClassifier\r\n",
    "import torch\r\n",
    "\r\n",
    "from sklearn.impute import SimpleImputer\r\n",
    "\r\n",
    "import warnings\r\n",
    "warnings.simplefilter(action='ignore', category=FutureWarning)"
   ],
   "outputs": [],
   "metadata": {
    "execution": {
     "iopub.execute_input": "2021-08-21T14:55:18.051808Z",
     "iopub.status.busy": "2021-08-21T14:55:18.051131Z",
     "iopub.status.idle": "2021-08-21T14:55:20.462977Z",
     "shell.execute_reply": "2021-08-21T14:55:20.461995Z",
     "shell.execute_reply.started": "2021-08-21T13:41:08.573986Z"
    },
    "papermill": {
     "duration": 2.431982,
     "end_time": "2021-08-21T14:55:20.463183",
     "exception": false,
     "start_time": "2021-08-21T14:55:18.031201",
     "status": "completed"
    },
    "tags": []
   }
  },
  {
   "cell_type": "code",
   "execution_count": null,
   "source": [
    "DATA_DIRECTORY = \"\""
   ],
   "outputs": [],
   "metadata": {
    "execution": {
     "iopub.execute_input": "2021-08-21T14:55:20.490905Z",
     "iopub.status.busy": "2021-08-21T14:55:20.489880Z",
     "iopub.status.idle": "2021-08-21T14:55:20.492303Z",
     "shell.execute_reply": "2021-08-21T14:55:20.492779Z"
    },
    "papermill": {
     "duration": 0.018291,
     "end_time": "2021-08-21T14:55:20.492942",
     "exception": false,
     "start_time": "2021-08-21T14:55:20.474651",
     "status": "completed"
    },
    "tags": []
   }
  },
  {
   "cell_type": "code",
   "execution_count": null,
   "source": [
    "train = pd.read_csv(os.path.join(DATA_DIRECTORY, 'train.csv'))\r\n",
    "test = pd.read_csv(os.path.join(DATA_DIRECTORY, 'test.csv'))\r\n",
    "labels = pd.read_csv(os.path.join(DATA_DIRECTORY, 'labels.csv'))"
   ],
   "outputs": [],
   "metadata": {
    "execution": {
     "iopub.execute_input": "2021-08-21T14:55:20.519519Z",
     "iopub.status.busy": "2021-08-21T14:55:20.518581Z",
     "iopub.status.idle": "2021-08-21T14:56:12.880205Z",
     "shell.execute_reply": "2021-08-21T14:56:12.879020Z"
    },
    "papermill": {
     "duration": 52.375964,
     "end_time": "2021-08-21T14:56:12.880392",
     "exception": false,
     "start_time": "2021-08-21T14:55:20.504428",
     "status": "completed"
    },
    "tags": []
   }
  },
  {
   "cell_type": "code",
   "execution_count": null,
   "source": [
    "test_id = test['SK_ID_CURR']"
   ],
   "outputs": [],
   "metadata": {}
  },
  {
   "cell_type": "code",
   "execution_count": null,
   "source": [
    "imputer = SimpleImputer(strategy = 'median')\r\n",
    "imputer.fit(train)\r\n",
    "train = imputer.transform(train)\r\n",
    "test = imputer.transform(test)"
   ],
   "outputs": [],
   "metadata": {
    "execution": {
     "iopub.execute_input": "2021-08-21T14:56:12.913366Z",
     "iopub.status.busy": "2021-08-21T14:56:12.912542Z",
     "iopub.status.idle": "2021-08-21T14:56:52.614706Z",
     "shell.execute_reply": "2021-08-21T14:56:52.613973Z"
    },
    "papermill": {
     "duration": 39.722848,
     "end_time": "2021-08-21T14:56:52.614854",
     "exception": false,
     "start_time": "2021-08-21T14:56:12.892006",
     "status": "completed"
    },
    "tags": []
   }
  },
  {
   "cell_type": "code",
   "execution_count": null,
   "source": [
    "target = labels.to_numpy()\r\n",
    "del labels\r\n",
    "gc.collect()"
   ],
   "outputs": [],
   "metadata": {
    "execution": {
     "iopub.execute_input": "2021-08-21T14:56:52.759804Z",
     "iopub.status.busy": "2021-08-21T14:56:52.758862Z",
     "iopub.status.idle": "2021-08-21T14:56:52.886485Z",
     "shell.execute_reply": "2021-08-21T14:56:52.885829Z"
    },
    "papermill": {
     "duration": 0.2603,
     "end_time": "2021-08-21T14:56:52.886786",
     "exception": true,
     "start_time": "2021-08-21T14:56:52.626486",
     "status": "failed"
    },
    "tags": []
   }
  },
  {
   "cell_type": "code",
   "execution_count": null,
   "source": [
    "x_train, x_val, y_train, y_val = train_test_split(train, target, test_size=0.30, random_state=8)"
   ],
   "outputs": [],
   "metadata": {
    "execution": {
     "iopub.status.busy": "2021-08-21T13:41:09.482987Z",
     "iopub.status.idle": "2021-08-21T13:41:09.483656Z"
    },
    "papermill": {
     "duration": null,
     "end_time": null,
     "exception": null,
     "start_time": null,
     "status": "pending"
    },
    "tags": []
   }
  },
  {
   "cell_type": "code",
   "execution_count": null,
   "source": [
    "def accuracy_score(y_true, y_pred):\r\n",
    "    y_pred = np.concatenate(tuple(y_pred))\r\n",
    "    y_true = np.concatenate(tuple([t for t in y] for y in y_true)).reshape(\r\n",
    "        y_pred.shape\r\n",
    "    )\r\n",
    "\r\n",
    "    return (y_true == y_pred).sum() / float(len(y_true))"
   ],
   "outputs": [],
   "metadata": {}
  },
  {
   "cell_type": "code",
   "execution_count": null,
   "source": [
    "from sklearn.model_selection import ParameterGrid\r\n",
    "from sklearn.metrics import roc_auc_score\r\n",
    "\r\n",
    "# Function that instantiates a tabnet model.\r\n",
    "def create_tabnet(n_d=32, n_steps=5, lr=0.02, gamma=1.5, \r\n",
    "                  n_independent=2, n_shared=2, lambda_sparse=1e-4, \r\n",
    "                  momentum=0.3, clip_value=2.):\r\n",
    "    \r\n",
    "    return TabNetClassifier(\r\n",
    "        n_d=n_d, n_a=n_d, n_steps=n_steps,\r\n",
    "        gamma=gamma, n_independent=n_independent, n_shared=n_shared,\r\n",
    "        lambda_sparse=lambda_sparse, momentum=momentum, clip_value=clip_value,\r\n",
    "        optimizer_fn=torch.optim.Adam,\r\n",
    "        scheduler_params = {\"gamma\": 0.95,\r\n",
    "                         \"step_size\": 20},\r\n",
    "        scheduler_fn=torch.optim.lr_scheduler.StepLR, epsilon=1e-15, verbose = 0\r\n",
    "    )\r\n",
    "                  \r\n",
    "# Generate the parameter grid.\r\n",
    "param_grid = dict(n_d = [8, 16, 32, 64],\r\n",
    "                  n_steps = [3, 4, 5],\r\n",
    "                  gamma = [1, 1.5, 2],\r\n",
    "                  lambda_sparse = [1e-2, 1e-3, 1e-4],\r\n",
    "                  momentum = [0.3, 0.4, 0.5],\r\n",
    "                  n_shared = [2],\r\n",
    "                  n_independent = [2],\r\n",
    "                  clip_value = [2.],     \r\n",
    ")\r\n",
    "\r\n",
    "grid = ParameterGrid(param_grid)\r\n",
    "\r\n",
    "search_results = pd.DataFrame() \r\n",
    "for params in grid:\r\n",
    "    params['n_a'] = params['n_d'] # n_a=n_d always per the paper\r\n",
    "    tabnet = create_tabnet()\r\n",
    "    tabnet.set_params(**params)\r\n",
    "    tabnet.fit(\r\n",
    "        x_train,y_train[:,0],\r\n",
    "        eval_set=[(x_train, y_train[:,0]), (x_val, y_val[:,0])],\r\n",
    "        eval_name=['train', 'valid'],\r\n",
    "        eval_metric=['auc'],\r\n",
    "        max_epochs=1000 , patience=50,\r\n",
    "        batch_size=256, virtual_batch_size=128,\r\n",
    "        num_workers=0,\r\n",
    "        weights=1,\r\n",
    "        drop_last=False\r\n",
    "    )  \r\n",
    "\r\n",
    "    y_prob = tabnet.predict_proba(x_val)\r\n",
    "    auc = roc_auc_score(y_val, y_prob[:, 1])\r\n",
    "    score = max(2*auc - 1, 0.)\r\n",
    "    # score = accuracy_score(y_val[:, 0], y_prob[: 1])\r\n",
    "    \r\n",
    "    results = pd.DataFrame([params])\r\n",
    "    results['score'] = np.round(score, 3)\r\n",
    "    search_results = search_results.append(results)\r\n"
   ],
   "outputs": [],
   "metadata": {}
  },
  {
   "cell_type": "code",
   "execution_count": null,
   "source": [
    "search_results.to_csv(os.path.join(DATA_DIRECTORY, 'search_results.csv'), index=False)"
   ],
   "outputs": [],
   "metadata": {}
  }
 ],
 "metadata": {
  "kernelspec": {
   "name": "python3",
   "display_name": "Python 3.8.0 64-bit ('CSE499': conda)"
  },
  "language_info": {
   "codemirror_mode": {
    "name": "ipython",
    "version": 3
   },
   "file_extension": ".py",
   "mimetype": "text/x-python",
   "name": "python",
   "nbconvert_exporter": "python",
   "pygments_lexer": "ipython3",
   "version": "3.8.0"
  },
  "papermill": {
   "default_parameters": {},
   "duration": 113.523907,
   "end_time": "2021-08-21T14:56:53.810334",
   "environment_variables": {},
   "exception": true,
   "input_path": "__notebook__.ipynb",
   "output_path": "__notebook__.ipynb",
   "parameters": {},
   "start_time": "2021-08-21T14:55:00.286427",
   "version": "2.3.3"
  },
  "interpreter": {
   "hash": "b2acef9c405ed574e8ba965b223740abc6391b41de725cf0c976ada615306344"
  }
 },
 "nbformat": 4,
 "nbformat_minor": 5
}