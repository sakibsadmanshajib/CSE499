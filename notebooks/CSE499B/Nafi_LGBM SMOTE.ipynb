{
 "cells": [
  {
   "cell_type": "code",
   "execution_count": 1,
   "id": "10460cd9",
   "metadata": {
    "execution": {
     "iopub.execute_input": "2021-08-12T19:51:15.441273Z",
     "iopub.status.busy": "2021-08-12T19:51:15.440613Z",
     "iopub.status.idle": "2021-08-12T19:51:16.919110Z",
     "shell.execute_reply": "2021-08-12T19:51:16.919665Z",
     "shell.execute_reply.started": "2021-08-12T19:31:49.011277Z"
    },
    "papermill": {
     "duration": 1.539328,
     "end_time": "2021-08-12T19:51:16.919960",
     "exception": false,
     "start_time": "2021-08-12T19:51:15.380632",
     "status": "completed"
    },
    "tags": []
   },
   "outputs": [],
   "source": [
    "import os\n",
    "import gc\n",
    "import numpy as np\n",
    "import pandas as pd\n",
    "from scipy.stats import kurtosis\n",
    "from sklearn.metrics import roc_auc_score\n",
    "from sklearn.preprocessing import MinMaxScaler\n",
    "from sklearn.impute import SimpleImputer\n",
    "from sklearn.linear_model import LogisticRegression\n",
    "import matplotlib.pyplot as plt\n",
    "import seaborn as sns\n",
    "import warnings\n",
    "from sklearn.model_selection import train_test_split, cross_val_score, StratifiedKFold\n",
    "import xgboost as xgb\n",
    "from xgboost import XGBClassifier\n",
    "warnings.simplefilter(action='ignore', category=FutureWarning)"
   ]
  },
  {
   "cell_type": "code",
   "execution_count": 2,
   "id": "9ee8cfce",
   "metadata": {
    "execution": {
     "iopub.execute_input": "2021-08-12T19:51:17.019186Z",
     "iopub.status.busy": "2021-08-12T19:51:17.018577Z",
     "iopub.status.idle": "2021-08-12T19:51:17.021661Z",
     "shell.execute_reply": "2021-08-12T19:51:17.021106Z",
     "shell.execute_reply.started": "2021-08-12T19:31:50.412448Z"
    },
    "papermill": {
     "duration": 0.053587,
     "end_time": "2021-08-12T19:51:17.021799",
     "exception": false,
     "start_time": "2021-08-12T19:51:16.968212",
     "status": "completed"
    },
    "tags": []
   },
   "outputs": [],
   "source": [
    "DATA_DIRECTORY = \"../input/home-credit-default-risk\""
   ]
  },
  {
   "cell_type": "code",
   "execution_count": 3,
   "id": "f909b27b",
   "metadata": {
    "execution": {
     "iopub.execute_input": "2021-08-12T19:51:17.120983Z",
     "iopub.status.busy": "2021-08-12T19:51:17.120070Z",
     "iopub.status.idle": "2021-08-12T19:51:24.471060Z",
     "shell.execute_reply": "2021-08-12T19:51:24.470416Z",
     "shell.execute_reply.started": "2021-08-12T19:31:50.419162Z"
    },
    "papermill": {
     "duration": 7.402277,
     "end_time": "2021-08-12T19:51:24.471193",
     "exception": false,
     "start_time": "2021-08-12T19:51:17.068916",
     "status": "completed"
    },
    "tags": []
   },
   "outputs": [
    {
     "data": {
      "text/plain": [
       "0"
      ]
     },
     "execution_count": 3,
     "metadata": {},
     "output_type": "execute_result"
    }
   ],
   "source": [
    "df_train = pd.read_csv(os.path.join(DATA_DIRECTORY, 'application_train.csv'))\n",
    "df_test = pd.read_csv(os.path.join(DATA_DIRECTORY, 'application_test.csv'))\n",
    "df = df_train.append(df_test)\n",
    "del df_train, df_test; gc.collect()"
   ]
  },
  {
   "cell_type": "code",
   "execution_count": 4,
   "id": "6bfecd25",
   "metadata": {
    "execution": {
     "iopub.execute_input": "2021-08-12T19:51:24.572125Z",
     "iopub.status.busy": "2021-08-12T19:51:24.571460Z",
     "iopub.status.idle": "2021-08-12T19:51:25.543775Z",
     "shell.execute_reply": "2021-08-12T19:51:25.544263Z",
     "shell.execute_reply.started": "2021-08-12T19:31:58.111592Z"
    },
    "papermill": {
     "duration": 1.025255,
     "end_time": "2021-08-12T19:51:25.544478",
     "exception": false,
     "start_time": "2021-08-12T19:51:24.519223",
     "status": "completed"
    },
    "tags": []
   },
   "outputs": [],
   "source": [
    "df = df[df['AMT_INCOME_TOTAL'] < 20000000]\n",
    "df = df[df['CODE_GENDER'] != 'XNA']\n",
    "df['DAYS_EMPLOYED'].replace(365243, np.nan, inplace=True)\n",
    "df['DAYS_LAST_PHONE_CHANGE'].replace(0, np.nan, inplace=True)"
   ]
  },
  {
   "cell_type": "code",
   "execution_count": 5,
   "id": "01054727",
   "metadata": {
    "execution": {
     "iopub.execute_input": "2021-08-12T19:51:25.643931Z",
     "iopub.status.busy": "2021-08-12T19:51:25.643196Z",
     "iopub.status.idle": "2021-08-12T19:51:25.646336Z",
     "shell.execute_reply": "2021-08-12T19:51:25.645843Z",
     "shell.execute_reply.started": "2021-08-12T19:31:59.095466Z"
    },
    "papermill": {
     "duration": 0.055294,
     "end_time": "2021-08-12T19:51:25.646491",
     "exception": false,
     "start_time": "2021-08-12T19:51:25.591197",
     "status": "completed"
    },
    "tags": []
   },
   "outputs": [],
   "source": [
    "def get_age_group(days_birth):\n",
    "    age_years = -days_birth / 365\n",
    "    if age_years < 27: return 1\n",
    "    elif age_years < 40: return 2\n",
    "    elif age_years < 50: return 3\n",
    "    elif age_years < 65: return 4\n",
    "    elif age_years < 99: return 5\n",
    "    else: return 0"
   ]
  },
  {
   "cell_type": "code",
   "execution_count": 6,
   "id": "eca8ea5f",
   "metadata": {
    "execution": {
     "iopub.execute_input": "2021-08-12T19:51:25.747382Z",
     "iopub.status.busy": "2021-08-12T19:51:25.746707Z",
     "iopub.status.idle": "2021-08-12T19:51:26.455401Z",
     "shell.execute_reply": "2021-08-12T19:51:26.454817Z",
     "shell.execute_reply.started": "2021-08-12T19:31:59.102601Z"
    },
    "papermill": {
     "duration": 0.761923,
     "end_time": "2021-08-12T19:51:26.455562",
     "exception": false,
     "start_time": "2021-08-12T19:51:25.693639",
     "status": "completed"
    },
    "tags": []
   },
   "outputs": [],
   "source": [
    "docs = [f for f in df.columns if 'FLAG_DOC' in f]\n",
    "df['DOCUMENT_COUNT'] = df[docs].sum(axis=1)\n",
    "df['NEW_DOC_KURT'] = df[docs].kurtosis(axis=1)\n",
    "df['AGE_RANGE'] = df['DAYS_BIRTH'].apply(lambda x: get_age_group(x))"
   ]
  },
  {
   "cell_type": "code",
   "execution_count": 7,
   "id": "ac662133",
   "metadata": {
    "execution": {
     "iopub.execute_input": "2021-08-12T19:51:26.557832Z",
     "iopub.status.busy": "2021-08-12T19:51:26.557098Z",
     "iopub.status.idle": "2021-08-12T19:51:27.540757Z",
     "shell.execute_reply": "2021-08-12T19:51:27.540146Z",
     "shell.execute_reply.started": "2021-08-12T19:31:59.829887Z"
    },
    "papermill": {
     "duration": 1.0385,
     "end_time": "2021-08-12T19:51:27.540913",
     "exception": false,
     "start_time": "2021-08-12T19:51:26.502413",
     "status": "completed"
    },
    "tags": []
   },
   "outputs": [],
   "source": [
    "df['EXT_SOURCES_PROD'] = df['EXT_SOURCE_1'] * df['EXT_SOURCE_2'] * df['EXT_SOURCE_3']\n",
    "df['EXT_SOURCES_WEIGHTED'] = df.EXT_SOURCE_1 * 2 + df.EXT_SOURCE_2 * 1 + df.EXT_SOURCE_3 * 3\n",
    "np.warnings.filterwarnings('ignore', r'All-NaN (slice|axis) encountered')\n",
    "for function_name in ['min', 'max', 'mean', 'nanmedian', 'var']:\n",
    "    feature_name = 'EXT_SOURCES_{}'.format(function_name.upper())\n",
    "    df[feature_name] = eval('np.{}'.format(function_name))(\n",
    "        df[['EXT_SOURCE_1', 'EXT_SOURCE_2', 'EXT_SOURCE_3']], axis=1)"
   ]
  },
  {
   "cell_type": "code",
   "execution_count": 8,
   "id": "d8b5118c",
   "metadata": {
    "execution": {
     "iopub.execute_input": "2021-08-12T19:51:27.647740Z",
     "iopub.status.busy": "2021-08-12T19:51:27.646997Z",
     "iopub.status.idle": "2021-08-12T19:51:27.675356Z",
     "shell.execute_reply": "2021-08-12T19:51:27.674738Z",
     "shell.execute_reply.started": "2021-08-12T19:32:00.787481Z"
    },
    "papermill": {
     "duration": 0.085665,
     "end_time": "2021-08-12T19:51:27.675555",
     "exception": false,
     "start_time": "2021-08-12T19:51:27.589890",
     "status": "completed"
    },
    "tags": []
   },
   "outputs": [],
   "source": [
    "df['CREDIT_TO_ANNUITY_RATIO'] = df['AMT_CREDIT'] / df['AMT_ANNUITY']\n",
    "df['CREDIT_TO_GOODS_RATIO'] = df['AMT_CREDIT'] / df['AMT_GOODS_PRICE']\n",
    "df['ANNUITY_TO_INCOME_RATIO'] = df['AMT_ANNUITY'] / df['AMT_INCOME_TOTAL']\n",
    "df['CREDIT_TO_INCOME_RATIO'] = df['AMT_CREDIT'] / df['AMT_INCOME_TOTAL']\n",
    "df['INCOME_TO_EMPLOYED_RATIO'] = df['AMT_INCOME_TOTAL'] / df['DAYS_EMPLOYED']\n",
    "df['INCOME_TO_BIRTH_RATIO'] = df['AMT_INCOME_TOTAL'] / df['DAYS_BIRTH']    \n",
    "df['EMPLOYED_TO_BIRTH_RATIO'] = df['DAYS_EMPLOYED'] / df['DAYS_BIRTH']\n",
    "df['ID_TO_BIRTH_RATIO'] = df['DAYS_ID_PUBLISH'] / df['DAYS_BIRTH']\n",
    "df['CAR_TO_BIRTH_RATIO'] = df['OWN_CAR_AGE'] / df['DAYS_BIRTH']\n",
    "df['CAR_TO_EMPLOYED_RATIO'] = df['OWN_CAR_AGE'] / df['DAYS_EMPLOYED']\n",
    "df['PHONE_TO_BIRTH_RATIO'] = df['DAYS_LAST_PHONE_CHANGE'] / df['DAYS_BIRTH']"
   ]
  },
  {
   "cell_type": "code",
   "execution_count": 9,
   "id": "fb056dd9",
   "metadata": {
    "execution": {
     "iopub.execute_input": "2021-08-12T19:51:27.779629Z",
     "iopub.status.busy": "2021-08-12T19:51:27.778567Z",
     "iopub.status.idle": "2021-08-12T19:51:27.781869Z",
     "shell.execute_reply": "2021-08-12T19:51:27.781219Z",
     "shell.execute_reply.started": "2021-08-12T19:32:00.823560Z"
    },
    "papermill": {
     "duration": 0.058222,
     "end_time": "2021-08-12T19:51:27.782012",
     "exception": false,
     "start_time": "2021-08-12T19:51:27.723790",
     "status": "completed"
    },
    "tags": []
   },
   "outputs": [],
   "source": [
    "def do_mean(df, group_cols, counted, agg_name):\n",
    "    gp = df[group_cols + [counted]].groupby(group_cols)[counted].mean().reset_index().rename(\n",
    "        columns={counted: agg_name})\n",
    "    df = df.merge(gp, on=group_cols, how='left')\n",
    "    del gp\n",
    "    gc.collect()\n",
    "    return df"
   ]
  },
  {
   "cell_type": "code",
   "execution_count": 10,
   "id": "9f9ae543",
   "metadata": {
    "execution": {
     "iopub.execute_input": "2021-08-12T19:51:27.886133Z",
     "iopub.status.busy": "2021-08-12T19:51:27.885492Z",
     "iopub.status.idle": "2021-08-12T19:51:27.888746Z",
     "shell.execute_reply": "2021-08-12T19:51:27.888165Z",
     "shell.execute_reply.started": "2021-08-12T19:32:00.831920Z"
    },
    "papermill": {
     "duration": 0.058285,
     "end_time": "2021-08-12T19:51:27.888967",
     "exception": false,
     "start_time": "2021-08-12T19:51:27.830682",
     "status": "completed"
    },
    "tags": []
   },
   "outputs": [],
   "source": [
    "def do_median(df, group_cols, counted, agg_name):\n",
    "    gp = df[group_cols + [counted]].groupby(group_cols)[counted].median().reset_index().rename(\n",
    "        columns={counted: agg_name})\n",
    "    df = df.merge(gp, on=group_cols, how='left')\n",
    "    del gp\n",
    "    gc.collect()\n",
    "    return df"
   ]
  },
  {
   "cell_type": "code",
   "execution_count": 11,
   "id": "ac052f3b",
   "metadata": {
    "execution": {
     "iopub.execute_input": "2021-08-12T19:51:27.989719Z",
     "iopub.status.busy": "2021-08-12T19:51:27.989048Z",
     "iopub.status.idle": "2021-08-12T19:51:27.992060Z",
     "shell.execute_reply": "2021-08-12T19:51:27.991448Z",
     "shell.execute_reply.started": "2021-08-12T19:32:00.843550Z"
    },
    "papermill": {
     "duration": 0.056098,
     "end_time": "2021-08-12T19:51:27.992205",
     "exception": false,
     "start_time": "2021-08-12T19:51:27.936107",
     "status": "completed"
    },
    "tags": []
   },
   "outputs": [],
   "source": [
    "def do_std(df, group_cols, counted, agg_name):\n",
    "    gp = df[group_cols + [counted]].groupby(group_cols)[counted].std().reset_index().rename(\n",
    "        columns={counted: agg_name})\n",
    "    df = df.merge(gp, on=group_cols, how='left')\n",
    "    del gp\n",
    "    gc.collect()\n",
    "    return df"
   ]
  },
  {
   "cell_type": "code",
   "execution_count": 12,
   "id": "9b555e7c",
   "metadata": {
    "execution": {
     "iopub.execute_input": "2021-08-12T19:51:28.092368Z",
     "iopub.status.busy": "2021-08-12T19:51:28.091688Z",
     "iopub.status.idle": "2021-08-12T19:51:28.094872Z",
     "shell.execute_reply": "2021-08-12T19:51:28.094255Z",
     "shell.execute_reply.started": "2021-08-12T19:32:00.855655Z"
    },
    "papermill": {
     "duration": 0.056195,
     "end_time": "2021-08-12T19:51:28.095099",
     "exception": false,
     "start_time": "2021-08-12T19:51:28.038904",
     "status": "completed"
    },
    "tags": []
   },
   "outputs": [],
   "source": [
    "def do_sum(df, group_cols, counted, agg_name):\n",
    "    gp = df[group_cols + [counted]].groupby(group_cols)[counted].sum().reset_index().rename(\n",
    "        columns={counted: agg_name})\n",
    "    df = df.merge(gp, on=group_cols, how='left')\n",
    "    del gp\n",
    "    gc.collect()\n",
    "    return df"
   ]
  },
  {
   "cell_type": "code",
   "execution_count": 13,
   "id": "4185c8a4",
   "metadata": {
    "execution": {
     "iopub.execute_input": "2021-08-12T19:51:28.204016Z",
     "iopub.status.busy": "2021-08-12T19:51:28.202232Z",
     "iopub.status.idle": "2021-08-12T19:51:57.295973Z",
     "shell.execute_reply": "2021-08-12T19:51:57.295266Z",
     "shell.execute_reply.started": "2021-08-12T19:32:00.867572Z"
    },
    "papermill": {
     "duration": 29.151244,
     "end_time": "2021-08-12T19:51:57.296130",
     "exception": false,
     "start_time": "2021-08-12T19:51:28.144886",
     "status": "completed"
    },
    "tags": []
   },
   "outputs": [],
   "source": [
    "group = ['ORGANIZATION_TYPE', 'NAME_EDUCATION_TYPE', 'OCCUPATION_TYPE', 'AGE_RANGE', 'CODE_GENDER']\n",
    "df = do_median(df, group, 'EXT_SOURCES_MEAN', 'GROUP_EXT_SOURCES_MEDIAN')\n",
    "df = do_std(df, group, 'EXT_SOURCES_MEAN', 'GROUP_EXT_SOURCES_STD')\n",
    "df = do_mean(df, group, 'AMT_INCOME_TOTAL', 'GROUP_INCOME_MEAN')\n",
    "df = do_std(df, group, 'AMT_INCOME_TOTAL', 'GROUP_INCOME_STD')\n",
    "df = do_mean(df, group, 'CREDIT_TO_ANNUITY_RATIO', 'GROUP_CREDIT_TO_ANNUITY_MEAN')\n",
    "df = do_std(df, group, 'CREDIT_TO_ANNUITY_RATIO', 'GROUP_CREDIT_TO_ANNUITY_STD')\n",
    "df = do_mean(df, group, 'AMT_CREDIT', 'GROUP_CREDIT_MEAN')\n",
    "df = do_mean(df, group, 'AMT_ANNUITY', 'GROUP_ANNUITY_MEAN')\n",
    "df = do_std(df, group, 'AMT_ANNUITY', 'GROUP_ANNUITY_STD')"
   ]
  },
  {
   "cell_type": "code",
   "execution_count": 14,
   "id": "07a47097",
   "metadata": {
    "execution": {
     "iopub.execute_input": "2021-08-12T19:51:57.395434Z",
     "iopub.status.busy": "2021-08-12T19:51:57.394804Z",
     "iopub.status.idle": "2021-08-12T19:51:57.396781Z",
     "shell.execute_reply": "2021-08-12T19:51:57.397213Z",
     "shell.execute_reply.started": "2021-08-12T19:32:30.910773Z"
    },
    "papermill": {
     "duration": 0.054443,
     "end_time": "2021-08-12T19:51:57.397385",
     "exception": false,
     "start_time": "2021-08-12T19:51:57.342942",
     "status": "completed"
    },
    "tags": []
   },
   "outputs": [],
   "source": [
    "def label_encoder(df, categorical_columns=None):\n",
    "    if not categorical_columns:\n",
    "        categorical_columns = [col for col in df.columns if df[col].dtype == 'object']\n",
    "    for col in categorical_columns:\n",
    "        df[col], uniques = pd.factorize(df[col])\n",
    "    return df, categorical_columns"
   ]
  },
  {
   "cell_type": "code",
   "execution_count": 15,
   "id": "8f7bd8ae",
   "metadata": {
    "execution": {
     "iopub.execute_input": "2021-08-12T19:51:57.493760Z",
     "iopub.status.busy": "2021-08-12T19:51:57.493102Z",
     "iopub.status.idle": "2021-08-12T19:51:57.500508Z",
     "shell.execute_reply": "2021-08-12T19:51:57.500987Z",
     "shell.execute_reply.started": "2021-08-12T19:32:30.917113Z"
    },
    "papermill": {
     "duration": 0.057141,
     "end_time": "2021-08-12T19:51:57.501153",
     "exception": false,
     "start_time": "2021-08-12T19:51:57.444012",
     "status": "completed"
    },
    "tags": []
   },
   "outputs": [],
   "source": [
    "def drop_application_columns(df):\n",
    "    drop_list = [\n",
    "        'CNT_CHILDREN', 'CNT_FAM_MEMBERS', 'HOUR_APPR_PROCESS_START',\n",
    "        'FLAG_EMP_PHONE', 'FLAG_MOBIL', 'FLAG_CONT_MOBILE', 'FLAG_EMAIL', 'FLAG_PHONE',\n",
    "        'FLAG_OWN_REALTY', 'REG_REGION_NOT_LIVE_REGION', 'REG_REGION_NOT_WORK_REGION',\n",
    "        'REG_CITY_NOT_WORK_CITY', 'OBS_30_CNT_SOCIAL_CIRCLE', 'OBS_60_CNT_SOCIAL_CIRCLE',\n",
    "        'AMT_REQ_CREDIT_BUREAU_DAY', 'AMT_REQ_CREDIT_BUREAU_MON', 'AMT_REQ_CREDIT_BUREAU_YEAR', \n",
    "        'COMMONAREA_MODE', 'NONLIVINGAREA_MODE', 'ELEVATORS_MODE', 'NONLIVINGAREA_AVG',\n",
    "        'FLOORSMIN_MEDI', 'LANDAREA_MODE', 'NONLIVINGAREA_MEDI', 'LIVINGAPARTMENTS_MODE',\n",
    "        'FLOORSMIN_AVG', 'LANDAREA_AVG', 'FLOORSMIN_MODE', 'LANDAREA_MEDI',\n",
    "        'COMMONAREA_MEDI', 'YEARS_BUILD_AVG', 'COMMONAREA_AVG', 'BASEMENTAREA_AVG',\n",
    "        'BASEMENTAREA_MODE', 'NONLIVINGAPARTMENTS_MEDI', 'BASEMENTAREA_MEDI', \n",
    "        'LIVINGAPARTMENTS_AVG', 'ELEVATORS_AVG', 'YEARS_BUILD_MEDI', 'ENTRANCES_MODE',\n",
    "        'NONLIVINGAPARTMENTS_MODE', 'LIVINGAREA_MODE', 'LIVINGAPARTMENTS_MEDI',\n",
    "        'YEARS_BUILD_MODE', 'YEARS_BEGINEXPLUATATION_AVG', 'ELEVATORS_MEDI', 'LIVINGAREA_MEDI',\n",
    "        'YEARS_BEGINEXPLUATATION_MODE', 'NONLIVINGAPARTMENTS_AVG', 'HOUSETYPE_MODE',\n",
    "        'FONDKAPREMONT_MODE', 'EMERGENCYSTATE_MODE'\n",
    "    ]\n",
    "    for doc_num in [2,4,5,6,7,9,10,11,12,13,14,15,16,17,19,20,21]:\n",
    "        drop_list.append('FLAG_DOCUMENT_{}'.format(doc_num))\n",
    "    df.drop(drop_list, axis=1, inplace=True)\n",
    "    return df"
   ]
  },
  {
   "cell_type": "code",
   "execution_count": 16,
   "id": "d93ca580",
   "metadata": {
    "execution": {
     "iopub.execute_input": "2021-08-12T19:51:57.598282Z",
     "iopub.status.busy": "2021-08-12T19:51:57.597648Z",
     "iopub.status.idle": "2021-08-12T19:51:58.582450Z",
     "shell.execute_reply": "2021-08-12T19:51:58.583018Z",
     "shell.execute_reply.started": "2021-08-12T19:32:30.931654Z"
    },
    "papermill": {
     "duration": 1.035159,
     "end_time": "2021-08-12T19:51:58.583190",
     "exception": false,
     "start_time": "2021-08-12T19:51:57.548031",
     "status": "completed"
    },
    "tags": []
   },
   "outputs": [],
   "source": [
    "df, le_encoded_cols = label_encoder(df, None)\n",
    "df = drop_application_columns(df)"
   ]
  },
  {
   "cell_type": "code",
   "execution_count": 17,
   "id": "f23a89af",
   "metadata": {
    "execution": {
     "iopub.execute_input": "2021-08-12T19:51:58.679837Z",
     "iopub.status.busy": "2021-08-12T19:51:58.679199Z",
     "iopub.status.idle": "2021-08-12T19:51:58.828863Z",
     "shell.execute_reply": "2021-08-12T19:51:58.829390Z",
     "shell.execute_reply.started": "2021-08-12T19:32:31.935631Z"
    },
    "papermill": {
     "duration": 0.199667,
     "end_time": "2021-08-12T19:51:58.829600",
     "exception": false,
     "start_time": "2021-08-12T19:51:58.629933",
     "status": "completed"
    },
    "tags": []
   },
   "outputs": [],
   "source": [
    "df = pd.get_dummies(df)"
   ]
  },
  {
   "cell_type": "code",
   "execution_count": 18,
   "id": "c133267b",
   "metadata": {
    "execution": {
     "iopub.execute_input": "2021-08-12T19:51:58.928446Z",
     "iopub.status.busy": "2021-08-12T19:51:58.927835Z",
     "iopub.status.idle": "2021-08-12T19:52:04.333495Z",
     "shell.execute_reply": "2021-08-12T19:52:04.332939Z",
     "shell.execute_reply.started": "2021-08-12T19:32:32.097634Z"
    },
    "papermill": {
     "duration": 5.456265,
     "end_time": "2021-08-12T19:52:04.333654",
     "exception": false,
     "start_time": "2021-08-12T19:51:58.877389",
     "status": "completed"
    },
    "tags": []
   },
   "outputs": [],
   "source": [
    "bureau = pd.read_csv(os.path.join(DATA_DIRECTORY, 'bureau.csv'))"
   ]
  },
  {
   "cell_type": "code",
   "execution_count": 19,
   "id": "4b459bd7",
   "metadata": {
    "execution": {
     "iopub.execute_input": "2021-08-12T19:52:04.433577Z",
     "iopub.status.busy": "2021-08-12T19:52:04.432877Z",
     "iopub.status.idle": "2021-08-12T19:52:04.477906Z",
     "shell.execute_reply": "2021-08-12T19:52:04.478460Z",
     "shell.execute_reply.started": "2021-08-12T19:32:36.763216Z"
    },
    "papermill": {
     "duration": 0.0983,
     "end_time": "2021-08-12T19:52:04.478656",
     "exception": false,
     "start_time": "2021-08-12T19:52:04.380356",
     "status": "completed"
    },
    "tags": []
   },
   "outputs": [],
   "source": [
    "bureau['CREDIT_DURATION'] = -bureau['DAYS_CREDIT'] + bureau['DAYS_CREDIT_ENDDATE']\n",
    "bureau['ENDDATE_DIF'] = bureau['DAYS_CREDIT_ENDDATE'] - bureau['DAYS_ENDDATE_FACT']\n",
    "bureau['DEBT_PERCENTAGE'] = bureau['AMT_CREDIT_SUM'] / bureau['AMT_CREDIT_SUM_DEBT']\n",
    "bureau['DEBT_CREDIT_DIFF'] = bureau['AMT_CREDIT_SUM'] - bureau['AMT_CREDIT_SUM_DEBT']\n",
    "bureau['CREDIT_TO_ANNUITY_RATIO'] = bureau['AMT_CREDIT_SUM'] / bureau['AMT_ANNUITY']"
   ]
  },
  {
   "cell_type": "code",
   "execution_count": 20,
   "id": "3686864c",
   "metadata": {
    "execution": {
     "iopub.execute_input": "2021-08-12T19:52:04.575623Z",
     "iopub.status.busy": "2021-08-12T19:52:04.574653Z",
     "iopub.status.idle": "2021-08-12T19:52:04.580648Z",
     "shell.execute_reply": "2021-08-12T19:52:04.581178Z",
     "shell.execute_reply.started": "2021-08-12T19:32:36.812312Z"
    },
    "papermill": {
     "duration": 0.05622,
     "end_time": "2021-08-12T19:52:04.581353",
     "exception": false,
     "start_time": "2021-08-12T19:52:04.525133",
     "status": "completed"
    },
    "tags": []
   },
   "outputs": [],
   "source": [
    "def one_hot_encoder(df, categorical_columns=None, nan_as_category=True):\n",
    "    original_columns = list(df.columns)\n",
    "    if not categorical_columns:\n",
    "        categorical_columns = [col for col in df.columns if df[col].dtype == 'object']\n",
    "    df = pd.get_dummies(df, columns=categorical_columns, dummy_na=nan_as_category)\n",
    "    categorical_columns = [c for c in df.columns if c not in original_columns]\n",
    "    return df, categorical_columns"
   ]
  },
  {
   "cell_type": "code",
   "execution_count": 21,
   "id": "0d68e7cf",
   "metadata": {
    "execution": {
     "iopub.execute_input": "2021-08-12T19:52:04.680581Z",
     "iopub.status.busy": "2021-08-12T19:52:04.679853Z",
     "iopub.status.idle": "2021-08-12T19:52:04.682580Z",
     "shell.execute_reply": "2021-08-12T19:52:04.682065Z",
     "shell.execute_reply.started": "2021-08-12T19:32:36.820245Z"
    },
    "papermill": {
     "duration": 0.054694,
     "end_time": "2021-08-12T19:52:04.682721",
     "exception": false,
     "start_time": "2021-08-12T19:52:04.628027",
     "status": "completed"
    },
    "tags": []
   },
   "outputs": [],
   "source": [
    "def group(df_to_agg, prefix, aggregations, aggregate_by= 'SK_ID_CURR'):\n",
    "    agg_df = df_to_agg.groupby(aggregate_by).agg(aggregations)\n",
    "    agg_df.columns = pd.Index(['{}{}_{}'.format(prefix, e[0], e[1].upper())\n",
    "                               for e in agg_df.columns.tolist()])\n",
    "    return agg_df.reset_index()"
   ]
  },
  {
   "cell_type": "code",
   "execution_count": 22,
   "id": "6a77450b",
   "metadata": {
    "execution": {
     "iopub.execute_input": "2021-08-12T19:52:04.781218Z",
     "iopub.status.busy": "2021-08-12T19:52:04.780574Z",
     "iopub.status.idle": "2021-08-12T19:52:04.783340Z",
     "shell.execute_reply": "2021-08-12T19:52:04.782841Z",
     "shell.execute_reply.started": "2021-08-12T19:32:36.834131Z"
    },
    "papermill": {
     "duration": 0.054245,
     "end_time": "2021-08-12T19:52:04.783495",
     "exception": false,
     "start_time": "2021-08-12T19:52:04.729250",
     "status": "completed"
    },
    "tags": []
   },
   "outputs": [],
   "source": [
    "def group_and_merge(df_to_agg, df_to_merge, prefix, aggregations, aggregate_by= 'SK_ID_CURR'):\n",
    "    agg_df = group(df_to_agg, prefix, aggregations, aggregate_by= aggregate_by)\n",
    "    return df_to_merge.merge(agg_df, how='left', on= aggregate_by)"
   ]
  },
  {
   "cell_type": "code",
   "execution_count": 23,
   "id": "7cf7cae2",
   "metadata": {
    "execution": {
     "iopub.execute_input": "2021-08-12T19:52:04.883523Z",
     "iopub.status.busy": "2021-08-12T19:52:04.882860Z",
     "iopub.status.idle": "2021-08-12T19:52:04.885141Z",
     "shell.execute_reply": "2021-08-12T19:52:04.885618Z",
     "shell.execute_reply.started": "2021-08-12T19:32:36.843251Z"
    },
    "papermill": {
     "duration": 0.055489,
     "end_time": "2021-08-12T19:52:04.885795",
     "exception": false,
     "start_time": "2021-08-12T19:52:04.830306",
     "status": "completed"
    },
    "tags": []
   },
   "outputs": [],
   "source": [
    "def get_bureau_balance(path, num_rows= None):\n",
    "    bb = pd.read_csv(os.path.join(path, 'bureau_balance.csv'))\n",
    "    bb, categorical_cols = one_hot_encoder(bb, nan_as_category= False)\n",
    "    # Calculate rate for each category with decay\n",
    "    bb_processed = bb.groupby('SK_ID_BUREAU')[categorical_cols].mean().reset_index()\n",
    "    # Min, Max, Count and mean duration of payments (months)\n",
    "    agg = {'MONTHS_BALANCE': ['min', 'max', 'mean', 'size']}\n",
    "    bb_processed = group_and_merge(bb, bb_processed, '', agg, 'SK_ID_BUREAU')\n",
    "    del bb; gc.collect()\n",
    "    return bb_processed"
   ]
  },
  {
   "cell_type": "code",
   "execution_count": 24,
   "id": "f2a31faf",
   "metadata": {
    "execution": {
     "iopub.execute_input": "2021-08-12T19:52:04.981678Z",
     "iopub.status.busy": "2021-08-12T19:52:04.981062Z",
     "iopub.status.idle": "2021-08-12T19:52:27.597095Z",
     "shell.execute_reply": "2021-08-12T19:52:27.596002Z",
     "shell.execute_reply.started": "2021-08-12T19:32:36.854765Z"
    },
    "papermill": {
     "duration": 22.66498,
     "end_time": "2021-08-12T19:52:27.597263",
     "exception": false,
     "start_time": "2021-08-12T19:52:04.932283",
     "status": "completed"
    },
    "tags": []
   },
   "outputs": [],
   "source": [
    "bureau, categorical_cols = one_hot_encoder(bureau, nan_as_category= False)\n",
    "bureau = bureau.merge(get_bureau_balance(DATA_DIRECTORY), how='left', on='SK_ID_BUREAU')\n",
    "bureau['STATUS_12345'] = 0\n",
    "for i in range(1,6):\n",
    "    bureau['STATUS_12345'] += bureau['STATUS_{}'.format(i)]"
   ]
  },
  {
   "cell_type": "code",
   "execution_count": 25,
   "id": "ded8c1e5",
   "metadata": {
    "execution": {
     "iopub.execute_input": "2021-08-12T19:52:27.699784Z",
     "iopub.status.busy": "2021-08-12T19:52:27.698231Z",
     "iopub.status.idle": "2021-08-12T19:52:29.759423Z",
     "shell.execute_reply": "2021-08-12T19:52:29.758799Z",
     "shell.execute_reply.started": "2021-08-12T19:32:59.214523Z"
    },
    "papermill": {
     "duration": 2.115572,
     "end_time": "2021-08-12T19:52:29.759579",
     "exception": false,
     "start_time": "2021-08-12T19:52:27.644007",
     "status": "completed"
    },
    "tags": []
   },
   "outputs": [
    {
     "data": {
      "text/plain": [
       "20"
      ]
     },
     "execution_count": 25,
     "metadata": {},
     "output_type": "execute_result"
    }
   ],
   "source": [
    "features = ['AMT_CREDIT_MAX_OVERDUE', 'AMT_CREDIT_SUM_OVERDUE', 'AMT_CREDIT_SUM',\n",
    "    'AMT_CREDIT_SUM_DEBT', 'DEBT_PERCENTAGE', 'DEBT_CREDIT_DIFF', 'STATUS_0', 'STATUS_12345']\n",
    "agg_length = bureau.groupby('MONTHS_BALANCE_SIZE')[features].mean().reset_index()\n",
    "agg_length.rename({feat: 'LL_' + feat for feat in features}, axis=1, inplace=True)\n",
    "bureau = bureau.merge(agg_length, how='left', on='MONTHS_BALANCE_SIZE')\n",
    "del agg_length; gc.collect()"
   ]
  },
  {
   "cell_type": "code",
   "execution_count": 26,
   "id": "aa585ca5",
   "metadata": {
    "execution": {
     "iopub.execute_input": "2021-08-12T19:52:29.869394Z",
     "iopub.status.busy": "2021-08-12T19:52:29.868398Z",
     "iopub.status.idle": "2021-08-12T19:52:29.871571Z",
     "shell.execute_reply": "2021-08-12T19:52:29.871040Z",
     "shell.execute_reply.started": "2021-08-12T19:33:01.786140Z"
    },
    "papermill": {
     "duration": 0.065018,
     "end_time": "2021-08-12T19:52:29.871709",
     "exception": false,
     "start_time": "2021-08-12T19:52:29.806691",
     "status": "completed"
    },
    "tags": []
   },
   "outputs": [],
   "source": [
    "BUREAU_AGG = {\n",
    "    'SK_ID_BUREAU': ['nunique'],\n",
    "    'DAYS_CREDIT': ['min', 'max', 'mean'],\n",
    "    'DAYS_CREDIT_ENDDATE': ['min', 'max'],\n",
    "    'AMT_CREDIT_MAX_OVERDUE': ['max', 'mean'],\n",
    "    'AMT_CREDIT_SUM': ['max', 'mean', 'sum'],\n",
    "    'AMT_CREDIT_SUM_DEBT': ['max', 'mean', 'sum'],\n",
    "    'AMT_CREDIT_SUM_OVERDUE': ['max', 'mean', 'sum'],\n",
    "    'AMT_ANNUITY': ['mean'],\n",
    "    'DEBT_CREDIT_DIFF': ['mean', 'sum'],\n",
    "    'MONTHS_BALANCE_MEAN': ['mean', 'var'],\n",
    "    'MONTHS_BALANCE_SIZE': ['mean', 'sum'],\n",
    "    'STATUS_0': ['mean'],\n",
    "    'STATUS_1': ['mean'],\n",
    "    'STATUS_12345': ['mean'],\n",
    "    'STATUS_C': ['mean'],\n",
    "    'STATUS_X': ['mean'],\n",
    "    'CREDIT_ACTIVE_Active': ['mean'],\n",
    "    'CREDIT_ACTIVE_Closed': ['mean'],\n",
    "    'CREDIT_ACTIVE_Sold': ['mean'],\n",
    "    'CREDIT_TYPE_Consumer credit': ['mean'],\n",
    "    'CREDIT_TYPE_Credit card': ['mean'],\n",
    "    'CREDIT_TYPE_Car loan': ['mean'],\n",
    "    'CREDIT_TYPE_Mortgage': ['mean'],\n",
    "    'CREDIT_TYPE_Microloan': ['mean'],\n",
    "    'LL_AMT_CREDIT_SUM_OVERDUE': ['mean'],\n",
    "    'LL_DEBT_CREDIT_DIFF': ['mean'],\n",
    "    'LL_STATUS_12345': ['mean'],\n",
    "}\n",
    "\n",
    "BUREAU_ACTIVE_AGG = {\n",
    "    'DAYS_CREDIT': ['max', 'mean'],\n",
    "    'DAYS_CREDIT_ENDDATE': ['min', 'max'],\n",
    "    'AMT_CREDIT_MAX_OVERDUE': ['max', 'mean'],\n",
    "    'AMT_CREDIT_SUM': ['max', 'sum'],\n",
    "    'AMT_CREDIT_SUM_DEBT': ['mean', 'sum'],\n",
    "    'AMT_CREDIT_SUM_OVERDUE': ['max', 'mean'],\n",
    "    'DAYS_CREDIT_UPDATE': ['min', 'mean'],\n",
    "    'DEBT_PERCENTAGE': ['mean'],\n",
    "    'DEBT_CREDIT_DIFF': ['mean'],\n",
    "    'CREDIT_TO_ANNUITY_RATIO': ['mean'],\n",
    "    'MONTHS_BALANCE_MEAN': ['mean', 'var'],\n",
    "    'MONTHS_BALANCE_SIZE': ['mean', 'sum'],\n",
    "}\n",
    "\n",
    "BUREAU_CLOSED_AGG = {\n",
    "    'DAYS_CREDIT': ['max', 'var'],\n",
    "    'DAYS_CREDIT_ENDDATE': ['max'],\n",
    "    'AMT_CREDIT_MAX_OVERDUE': ['max', 'mean'],\n",
    "    'AMT_CREDIT_SUM_OVERDUE': ['mean'],\n",
    "    'AMT_CREDIT_SUM': ['max', 'mean', 'sum'],\n",
    "    'AMT_CREDIT_SUM_DEBT': ['max', 'sum'],\n",
    "    'DAYS_CREDIT_UPDATE': ['max'],\n",
    "    'ENDDATE_DIF': ['mean'],\n",
    "    'STATUS_12345': ['mean'],\n",
    "}\n",
    "\n",
    "BUREAU_LOAN_TYPE_AGG = {\n",
    "    'DAYS_CREDIT': ['mean', 'max'],\n",
    "    'AMT_CREDIT_MAX_OVERDUE': ['mean', 'max'],\n",
    "    'AMT_CREDIT_SUM': ['mean', 'max'],\n",
    "    'AMT_CREDIT_SUM_DEBT': ['mean', 'max'],\n",
    "    'DEBT_PERCENTAGE': ['mean'],\n",
    "    'DEBT_CREDIT_DIFF': ['mean'],\n",
    "    'DAYS_CREDIT_ENDDATE': ['max'],\n",
    "}\n",
    "\n",
    "BUREAU_TIME_AGG = {\n",
    "    'AMT_CREDIT_MAX_OVERDUE': ['max', 'mean'],\n",
    "    'AMT_CREDIT_SUM_OVERDUE': ['mean'],\n",
    "    'AMT_CREDIT_SUM': ['max', 'sum'],\n",
    "    'AMT_CREDIT_SUM_DEBT': ['mean', 'sum'],\n",
    "    'DEBT_PERCENTAGE': ['mean'],\n",
    "    'DEBT_CREDIT_DIFF': ['mean'],\n",
    "    'STATUS_0': ['mean'],\n",
    "    'STATUS_12345': ['mean'],\n",
    "}"
   ]
  },
  {
   "cell_type": "code",
   "execution_count": 27,
   "id": "964f9162",
   "metadata": {
    "execution": {
     "iopub.execute_input": "2021-08-12T19:52:29.976672Z",
     "iopub.status.busy": "2021-08-12T19:52:29.975684Z",
     "iopub.status.idle": "2021-08-12T19:52:38.037268Z",
     "shell.execute_reply": "2021-08-12T19:52:38.036670Z",
     "shell.execute_reply.started": "2021-08-12T19:33:01.807260Z"
    },
    "papermill": {
     "duration": 8.117581,
     "end_time": "2021-08-12T19:52:38.037410",
     "exception": false,
     "start_time": "2021-08-12T19:52:29.919829",
     "status": "completed"
    },
    "tags": []
   },
   "outputs": [],
   "source": [
    "agg_bureau = group(bureau, 'BUREAU_', BUREAU_AGG)\n",
    "active = bureau[bureau['CREDIT_ACTIVE_Active'] == 1]\n",
    "agg_bureau = group_and_merge(active,agg_bureau,'BUREAU_ACTIVE_',BUREAU_ACTIVE_AGG)\n",
    "closed = bureau[bureau['CREDIT_ACTIVE_Closed'] == 1]\n",
    "agg_bureau = group_and_merge(closed,agg_bureau,'BUREAU_CLOSED_',BUREAU_CLOSED_AGG)\n",
    "del active, closed; gc.collect()\n",
    "for credit_type in ['Consumer credit', 'Credit card', 'Mortgage', 'Car loan', 'Microloan']:\n",
    "    type_df = bureau[bureau['CREDIT_TYPE_' + credit_type] == 1]\n",
    "    prefix = 'BUREAU_' + credit_type.split(' ')[0].upper() + '_'\n",
    "    agg_bureau = group_and_merge(type_df, agg_bureau, prefix, BUREAU_LOAN_TYPE_AGG)\n",
    "    del type_df; gc.collect()\n",
    "for time_frame in [6, 12]:\n",
    "    prefix = \"BUREAU_LAST{}M_\".format(time_frame)\n",
    "    time_frame_df = bureau[bureau['DAYS_CREDIT'] >= -30*time_frame]\n",
    "    agg_bureau = group_and_merge(time_frame_df, agg_bureau, prefix, BUREAU_TIME_AGG)\n",
    "    del time_frame_df; gc.collect()"
   ]
  },
  {
   "cell_type": "code",
   "execution_count": 28,
   "id": "94c62f79",
   "metadata": {
    "execution": {
     "iopub.execute_input": "2021-08-12T19:52:38.135368Z",
     "iopub.status.busy": "2021-08-12T19:52:38.134752Z",
     "iopub.status.idle": "2021-08-12T19:52:40.064105Z",
     "shell.execute_reply": "2021-08-12T19:52:40.064587Z",
     "shell.execute_reply.started": "2021-08-12T19:33:10.670391Z"
    },
    "papermill": {
     "duration": 1.98003,
     "end_time": "2021-08-12T19:52:40.064764",
     "exception": false,
     "start_time": "2021-08-12T19:52:38.084734",
     "status": "completed"
    },
    "tags": []
   },
   "outputs": [],
   "source": [
    "sort_bureau = bureau.sort_values(by=['DAYS_CREDIT'])\n",
    "gr = sort_bureau.groupby('SK_ID_CURR')['AMT_CREDIT_MAX_OVERDUE'].last().reset_index()\n",
    "gr.rename({'AMT_CREDIT_MAX_OVERDUE': 'BUREAU_LAST_LOAN_MAX_OVERDUE'}, inplace=True)\n",
    "agg_bureau = agg_bureau.merge(gr, on='SK_ID_CURR', how='left')\n",
    "agg_bureau['BUREAU_DEBT_OVER_CREDIT'] = \\\n",
    "    agg_bureau['BUREAU_AMT_CREDIT_SUM_DEBT_SUM']/agg_bureau['BUREAU_AMT_CREDIT_SUM_SUM']\n",
    "agg_bureau['BUREAU_ACTIVE_DEBT_OVER_CREDIT'] = \\\n",
    "    agg_bureau['BUREAU_ACTIVE_AMT_CREDIT_SUM_DEBT_SUM']/agg_bureau['BUREAU_ACTIVE_AMT_CREDIT_SUM_SUM']"
   ]
  },
  {
   "cell_type": "code",
   "execution_count": 29,
   "id": "46463209",
   "metadata": {
    "execution": {
     "iopub.execute_input": "2021-08-12T19:52:40.165155Z",
     "iopub.status.busy": "2021-08-12T19:52:40.164455Z",
     "iopub.status.idle": "2021-08-12T19:52:41.148083Z",
     "shell.execute_reply": "2021-08-12T19:52:41.148604Z",
     "shell.execute_reply.started": "2021-08-12T19:33:12.619782Z"
    },
    "papermill": {
     "duration": 1.036884,
     "end_time": "2021-08-12T19:52:41.148780",
     "exception": false,
     "start_time": "2021-08-12T19:52:40.111896",
     "status": "completed"
    },
    "tags": []
   },
   "outputs": [
    {
     "data": {
      "text/plain": [
       "20"
      ]
     },
     "execution_count": 29,
     "metadata": {},
     "output_type": "execute_result"
    }
   ],
   "source": [
    "df = pd.merge(df, agg_bureau, on='SK_ID_CURR', how='left')\n",
    "del agg_bureau, bureau\n",
    "gc.collect()"
   ]
  },
  {
   "cell_type": "code",
   "execution_count": 30,
   "id": "3ca4725c",
   "metadata": {
    "execution": {
     "iopub.execute_input": "2021-08-12T19:52:41.249081Z",
     "iopub.status.busy": "2021-08-12T19:52:41.248427Z",
     "iopub.status.idle": "2021-08-12T19:53:12.913712Z",
     "shell.execute_reply": "2021-08-12T19:53:12.913013Z",
     "shell.execute_reply.started": "2021-08-12T19:33:13.688973Z"
    },
    "papermill": {
     "duration": 31.717708,
     "end_time": "2021-08-12T19:53:12.913866",
     "exception": false,
     "start_time": "2021-08-12T19:52:41.196158",
     "status": "completed"
    },
    "tags": []
   },
   "outputs": [],
   "source": [
    "prev = pd.read_csv(os.path.join(DATA_DIRECTORY, 'previous_application.csv'))\n",
    "pay = pd.read_csv(os.path.join(DATA_DIRECTORY, 'installments_payments.csv'))"
   ]
  },
  {
   "cell_type": "code",
   "execution_count": 31,
   "id": "a598b325",
   "metadata": {
    "execution": {
     "iopub.execute_input": "2021-08-12T19:53:13.028579Z",
     "iopub.status.busy": "2021-08-12T19:53:13.027846Z",
     "iopub.status.idle": "2021-08-12T19:53:13.031025Z",
     "shell.execute_reply": "2021-08-12T19:53:13.030370Z",
     "shell.execute_reply.started": "2021-08-12T19:33:44.649380Z"
    },
    "papermill": {
     "duration": 0.069844,
     "end_time": "2021-08-12T19:53:13.031159",
     "exception": false,
     "start_time": "2021-08-12T19:53:12.961315",
     "status": "completed"
    },
    "tags": []
   },
   "outputs": [],
   "source": [
    "PREVIOUS_AGG = {\n",
    "    'SK_ID_PREV': ['nunique'],\n",
    "    'AMT_ANNUITY': ['min', 'max', 'mean'],\n",
    "    'AMT_DOWN_PAYMENT': ['max', 'mean'],\n",
    "    'HOUR_APPR_PROCESS_START': ['min', 'max', 'mean'],\n",
    "    'RATE_DOWN_PAYMENT': ['max', 'mean'],\n",
    "    'DAYS_DECISION': ['min', 'max', 'mean'],\n",
    "    'CNT_PAYMENT': ['max', 'mean'],\n",
    "    'DAYS_TERMINATION': ['max'],\n",
    "    # Engineered features\n",
    "    'CREDIT_TO_ANNUITY_RATIO': ['mean', 'max'],\n",
    "    'APPLICATION_CREDIT_DIFF': ['min', 'max', 'mean'],\n",
    "    'APPLICATION_CREDIT_RATIO': ['min', 'max', 'mean', 'var'],\n",
    "    'DOWN_PAYMENT_TO_CREDIT': ['mean'],\n",
    "}\n",
    "\n",
    "PREVIOUS_ACTIVE_AGG = {\n",
    "    'SK_ID_PREV': ['nunique'],\n",
    "    'SIMPLE_INTERESTS': ['mean'],\n",
    "    'AMT_ANNUITY': ['max', 'sum'],\n",
    "    'AMT_APPLICATION': ['max', 'mean'],\n",
    "    'AMT_CREDIT': ['sum'],\n",
    "    'AMT_DOWN_PAYMENT': ['max', 'mean'],\n",
    "    'DAYS_DECISION': ['min', 'mean'],\n",
    "    'CNT_PAYMENT': ['mean', 'sum'],\n",
    "    'DAYS_LAST_DUE_1ST_VERSION': ['min', 'max', 'mean'],\n",
    "    # Engineered features\n",
    "    'AMT_PAYMENT': ['sum'],\n",
    "    'INSTALMENT_PAYMENT_DIFF': ['mean', 'max'],\n",
    "    'REMAINING_DEBT': ['max', 'mean', 'sum'],\n",
    "    'REPAYMENT_RATIO': ['mean'],\n",
    "}\n",
    "PREVIOUS_LATE_PAYMENTS_AGG = {\n",
    "    'DAYS_DECISION': ['min', 'max', 'mean'],\n",
    "    'DAYS_LAST_DUE_1ST_VERSION': ['min', 'max', 'mean'],\n",
    "    # Engineered features\n",
    "    'APPLICATION_CREDIT_DIFF': ['min'],\n",
    "    'NAME_CONTRACT_TYPE_Consumer loans': ['mean'],\n",
    "    'NAME_CONTRACT_TYPE_Cash loans': ['mean'],\n",
    "    'NAME_CONTRACT_TYPE_Revolving loans': ['mean'],\n",
    "}\n",
    "\n",
    "PREVIOUS_LOAN_TYPE_AGG = {\n",
    "    'AMT_CREDIT': ['sum'],\n",
    "    'AMT_ANNUITY': ['mean', 'max'],\n",
    "    'SIMPLE_INTERESTS': ['min', 'mean', 'max', 'var'],\n",
    "    'APPLICATION_CREDIT_DIFF': ['min', 'var'],\n",
    "    'APPLICATION_CREDIT_RATIO': ['min', 'max', 'mean'],\n",
    "    'DAYS_DECISION': ['max'],\n",
    "    'DAYS_LAST_DUE_1ST_VERSION': ['max', 'mean'],\n",
    "    'CNT_PAYMENT': ['mean'],\n",
    "}\n",
    "\n",
    "PREVIOUS_TIME_AGG = {\n",
    "    'AMT_CREDIT': ['sum'],\n",
    "    'AMT_ANNUITY': ['mean', 'max'],\n",
    "    'SIMPLE_INTERESTS': ['mean', 'max'],\n",
    "    'DAYS_DECISION': ['min', 'mean'],\n",
    "    'DAYS_LAST_DUE_1ST_VERSION': ['min', 'max', 'mean'],\n",
    "    # Engineered features\n",
    "    'APPLICATION_CREDIT_DIFF': ['min'],\n",
    "    'APPLICATION_CREDIT_RATIO': ['min', 'max', 'mean'],\n",
    "    'NAME_CONTRACT_TYPE_Consumer loans': ['mean'],\n",
    "    'NAME_CONTRACT_TYPE_Cash loans': ['mean'],\n",
    "    'NAME_CONTRACT_TYPE_Revolving loans': ['mean'],\n",
    "}\n",
    "\n",
    "PREVIOUS_APPROVED_AGG = {\n",
    "    'SK_ID_PREV': ['nunique'],\n",
    "    'AMT_ANNUITY': ['min', 'max', 'mean'],\n",
    "    'AMT_CREDIT': ['min', 'max', 'mean'],\n",
    "    'AMT_DOWN_PAYMENT': ['max'],\n",
    "    'AMT_GOODS_PRICE': ['max'],\n",
    "    'HOUR_APPR_PROCESS_START': ['min', 'max'],\n",
    "    'DAYS_DECISION': ['min', 'mean'],\n",
    "    'CNT_PAYMENT': ['max', 'mean'],\n",
    "    'DAYS_TERMINATION': ['mean'],\n",
    "    # Engineered features\n",
    "    'CREDIT_TO_ANNUITY_RATIO': ['mean', 'max'],\n",
    "    'APPLICATION_CREDIT_DIFF': ['max'],\n",
    "    'APPLICATION_CREDIT_RATIO': ['min', 'max', 'mean'],\n",
    "    # The following features are only for approved applications\n",
    "    'DAYS_FIRST_DRAWING': ['max', 'mean'],\n",
    "    'DAYS_FIRST_DUE': ['min', 'mean'],\n",
    "    'DAYS_LAST_DUE_1ST_VERSION': ['min', 'max', 'mean'],\n",
    "    'DAYS_LAST_DUE': ['max', 'mean'],\n",
    "    'DAYS_LAST_DUE_DIFF': ['min', 'max', 'mean'],\n",
    "    'SIMPLE_INTERESTS': ['min', 'max', 'mean'],\n",
    "}\n",
    "\n",
    "PREVIOUS_REFUSED_AGG = {\n",
    "    'AMT_APPLICATION': ['max', 'mean'],\n",
    "    'AMT_CREDIT': ['min', 'max'],\n",
    "    'DAYS_DECISION': ['min', 'max', 'mean'],\n",
    "    'CNT_PAYMENT': ['max', 'mean'],\n",
    "    # Engineered features\n",
    "    'APPLICATION_CREDIT_DIFF': ['min', 'max', 'mean', 'var'],\n",
    "    'APPLICATION_CREDIT_RATIO': ['min', 'mean'],\n",
    "    'NAME_CONTRACT_TYPE_Consumer loans': ['mean'],\n",
    "    'NAME_CONTRACT_TYPE_Cash loans': ['mean'],\n",
    "    'NAME_CONTRACT_TYPE_Revolving loans': ['mean'],\n",
    "}\n"
   ]
  },
  {
   "cell_type": "code",
   "execution_count": 32,
   "id": "e961396f",
   "metadata": {
    "execution": {
     "iopub.execute_input": "2021-08-12T19:53:13.132608Z",
     "iopub.status.busy": "2021-08-12T19:53:13.131944Z",
     "iopub.status.idle": "2021-08-12T19:53:15.337289Z",
     "shell.execute_reply": "2021-08-12T19:53:15.336733Z",
     "shell.execute_reply.started": "2021-08-12T19:33:44.670522Z"
    },
    "papermill": {
     "duration": 2.258448,
     "end_time": "2021-08-12T19:53:15.337424",
     "exception": false,
     "start_time": "2021-08-12T19:53:13.078976",
     "status": "completed"
    },
    "tags": []
   },
   "outputs": [],
   "source": [
    "ohe_columns = [\n",
    "    'NAME_CONTRACT_STATUS', 'NAME_CONTRACT_TYPE', 'CHANNEL_TYPE',\n",
    "    'NAME_TYPE_SUITE', 'NAME_YIELD_GROUP', 'PRODUCT_COMBINATION',\n",
    "    'NAME_PRODUCT_TYPE', 'NAME_CLIENT_TYPE']\n",
    "prev, categorical_cols = one_hot_encoder(prev, ohe_columns, nan_as_category= False)"
   ]
  },
  {
   "cell_type": "code",
   "execution_count": 33,
   "id": "260d5d0f",
   "metadata": {
    "execution": {
     "iopub.execute_input": "2021-08-12T19:53:15.439806Z",
     "iopub.status.busy": "2021-08-12T19:53:15.438586Z",
     "iopub.status.idle": "2021-08-12T19:53:15.479304Z",
     "shell.execute_reply": "2021-08-12T19:53:15.478698Z",
     "shell.execute_reply.started": "2021-08-12T19:33:46.936128Z"
    },
    "papermill": {
     "duration": 0.094395,
     "end_time": "2021-08-12T19:53:15.479440",
     "exception": false,
     "start_time": "2021-08-12T19:53:15.385045",
     "status": "completed"
    },
    "tags": []
   },
   "outputs": [],
   "source": [
    "prev['APPLICATION_CREDIT_DIFF'] = prev['AMT_APPLICATION'] - prev['AMT_CREDIT']\n",
    "prev['APPLICATION_CREDIT_RATIO'] = prev['AMT_APPLICATION'] / prev['AMT_CREDIT']\n",
    "prev['CREDIT_TO_ANNUITY_RATIO'] = prev['AMT_CREDIT']/prev['AMT_ANNUITY']\n",
    "prev['DOWN_PAYMENT_TO_CREDIT'] = prev['AMT_DOWN_PAYMENT'] / prev['AMT_CREDIT']\n",
    "total_payment = prev['AMT_ANNUITY'] * prev['CNT_PAYMENT']\n",
    "prev['SIMPLE_INTERESTS'] = (total_payment/prev['AMT_CREDIT'] - 1)/prev['CNT_PAYMENT']"
   ]
  },
  {
   "cell_type": "code",
   "execution_count": 34,
   "id": "07b9d676",
   "metadata": {
    "execution": {
     "iopub.execute_input": "2021-08-12T19:53:15.582102Z",
     "iopub.status.busy": "2021-08-12T19:53:15.581391Z",
     "iopub.status.idle": "2021-08-12T19:53:18.113537Z",
     "shell.execute_reply": "2021-08-12T19:53:18.114003Z",
     "shell.execute_reply.started": "2021-08-12T19:33:46.990993Z"
    },
    "papermill": {
     "duration": 2.587221,
     "end_time": "2021-08-12T19:53:18.114179",
     "exception": false,
     "start_time": "2021-08-12T19:53:15.526958",
     "status": "completed"
    },
    "tags": []
   },
   "outputs": [
    {
     "data": {
      "text/plain": [
       "0"
      ]
     },
     "execution_count": 34,
     "metadata": {},
     "output_type": "execute_result"
    }
   ],
   "source": [
    "approved = prev[prev['NAME_CONTRACT_STATUS_Approved'] == 1]\n",
    "active_df = approved[approved['DAYS_LAST_DUE'] == 365243]\n",
    "active_pay = pay[pay['SK_ID_PREV'].isin(active_df['SK_ID_PREV'])]\n",
    "active_pay_agg = active_pay.groupby('SK_ID_PREV')[['AMT_INSTALMENT', 'AMT_PAYMENT']].sum()\n",
    "active_pay_agg.reset_index(inplace= True)\n",
    "active_pay_agg['INSTALMENT_PAYMENT_DIFF'] = active_pay_agg['AMT_INSTALMENT'] - active_pay_agg['AMT_PAYMENT']\n",
    "active_df = active_df.merge(active_pay_agg, on= 'SK_ID_PREV', how= 'left')\n",
    "active_df['REMAINING_DEBT'] = active_df['AMT_CREDIT'] - active_df['AMT_PAYMENT']\n",
    "active_df['REPAYMENT_RATIO'] = active_df['AMT_PAYMENT'] / active_df['AMT_CREDIT']\n",
    "active_agg_df = group(active_df, 'PREV_ACTIVE_', PREVIOUS_ACTIVE_AGG)\n",
    "active_agg_df['TOTAL_REPAYMENT_RATIO'] = active_agg_df['PREV_ACTIVE_AMT_PAYMENT_SUM']/\\\n",
    "                                            active_agg_df['PREV_ACTIVE_AMT_CREDIT_SUM']\n",
    "del active_pay, active_pay_agg, active_df; gc.collect()"
   ]
  },
  {
   "cell_type": "code",
   "execution_count": 35,
   "id": "8d0a069c",
   "metadata": {
    "execution": {
     "iopub.execute_input": "2021-08-12T19:53:18.214522Z",
     "iopub.status.busy": "2021-08-12T19:53:18.213845Z",
     "iopub.status.idle": "2021-08-12T19:53:18.252203Z",
     "shell.execute_reply": "2021-08-12T19:53:18.252766Z",
     "shell.execute_reply.started": "2021-08-12T19:33:49.618816Z"
    },
    "papermill": {
     "duration": 0.089528,
     "end_time": "2021-08-12T19:53:18.252946",
     "exception": false,
     "start_time": "2021-08-12T19:53:18.163418",
     "status": "completed"
    },
    "tags": []
   },
   "outputs": [],
   "source": [
    "prev['DAYS_FIRST_DRAWING'].replace(365243, np.nan, inplace= True)\n",
    "prev['DAYS_FIRST_DUE'].replace(365243, np.nan, inplace= True)\n",
    "prev['DAYS_LAST_DUE_1ST_VERSION'].replace(365243, np.nan, inplace= True)\n",
    "prev['DAYS_LAST_DUE'].replace(365243, np.nan, inplace= True)\n",
    "prev['DAYS_TERMINATION'].replace(365243, np.nan, inplace= True)"
   ]
  },
  {
   "cell_type": "code",
   "execution_count": 36,
   "id": "af92b632",
   "metadata": {
    "execution": {
     "iopub.execute_input": "2021-08-12T19:53:18.356769Z",
     "iopub.status.busy": "2021-08-12T19:53:18.356097Z",
     "iopub.status.idle": "2021-08-12T19:53:18.369790Z",
     "shell.execute_reply": "2021-08-12T19:53:18.369139Z",
     "shell.execute_reply.started": "2021-08-12T19:33:49.657600Z"
    },
    "papermill": {
     "duration": 0.068492,
     "end_time": "2021-08-12T19:53:18.369933",
     "exception": false,
     "start_time": "2021-08-12T19:53:18.301441",
     "status": "completed"
    },
    "tags": []
   },
   "outputs": [
    {
     "name": "stderr",
     "output_type": "stream",
     "text": [
      "/opt/conda/lib/python3.7/site-packages/ipykernel_launcher.py:2: SettingWithCopyWarning: \n",
      "A value is trying to be set on a copy of a slice from a DataFrame.\n",
      "Try using .loc[row_indexer,col_indexer] = value instead\n",
      "\n",
      "See the caveats in the documentation: https://pandas.pydata.org/pandas-docs/stable/user_guide/indexing.html#returning-a-view-versus-a-copy\n",
      "  \n"
     ]
    }
   ],
   "source": [
    "prev['DAYS_LAST_DUE_DIFF'] = prev['DAYS_LAST_DUE_1ST_VERSION'] - prev['DAYS_LAST_DUE']\n",
    "approved['DAYS_LAST_DUE_DIFF'] = approved['DAYS_LAST_DUE_1ST_VERSION'] - approved['DAYS_LAST_DUE']"
   ]
  },
  {
   "cell_type": "code",
   "execution_count": 37,
   "id": "41333ad9",
   "metadata": {
    "execution": {
     "iopub.execute_input": "2021-08-12T19:53:18.469383Z",
     "iopub.status.busy": "2021-08-12T19:53:18.468780Z",
     "iopub.status.idle": "2021-08-12T19:53:18.472676Z",
     "shell.execute_reply": "2021-08-12T19:53:18.473196Z",
     "shell.execute_reply.started": "2021-08-12T19:33:49.676526Z"
    },
    "papermill": {
     "duration": 0.055338,
     "end_time": "2021-08-12T19:53:18.473361",
     "exception": false,
     "start_time": "2021-08-12T19:53:18.418023",
     "status": "completed"
    },
    "tags": []
   },
   "outputs": [],
   "source": [
    "categorical_agg = {key: ['mean'] for key in categorical_cols}"
   ]
  },
  {
   "cell_type": "code",
   "execution_count": 38,
   "id": "349c1c3d",
   "metadata": {
    "execution": {
     "iopub.execute_input": "2021-08-12T19:53:18.572787Z",
     "iopub.status.busy": "2021-08-12T19:53:18.572145Z",
     "iopub.status.idle": "2021-08-12T19:53:23.011093Z",
     "shell.execute_reply": "2021-08-12T19:53:23.011616Z",
     "shell.execute_reply.started": "2021-08-12T19:33:49.682555Z"
    },
    "papermill": {
     "duration": 4.490191,
     "end_time": "2021-08-12T19:53:23.011787",
     "exception": false,
     "start_time": "2021-08-12T19:53:18.521596",
     "status": "completed"
    },
    "tags": []
   },
   "outputs": [
    {
     "data": {
      "text/plain": [
       "0"
      ]
     },
     "execution_count": 38,
     "metadata": {},
     "output_type": "execute_result"
    }
   ],
   "source": [
    "agg_prev = group(prev, 'PREV_', {**PREVIOUS_AGG, **categorical_agg})\n",
    "agg_prev = agg_prev.merge(active_agg_df, how='left', on='SK_ID_CURR')\n",
    "del active_agg_df; gc.collect()"
   ]
  },
  {
   "cell_type": "code",
   "execution_count": 39,
   "id": "873cbd14",
   "metadata": {
    "execution": {
     "iopub.execute_input": "2021-08-12T19:53:23.111931Z",
     "iopub.status.busy": "2021-08-12T19:53:23.111285Z",
     "iopub.status.idle": "2021-08-12T19:53:26.159953Z",
     "shell.execute_reply": "2021-08-12T19:53:26.159408Z",
     "shell.execute_reply.started": "2021-08-12T19:33:54.068705Z"
    },
    "papermill": {
     "duration": 3.099996,
     "end_time": "2021-08-12T19:53:26.160097",
     "exception": false,
     "start_time": "2021-08-12T19:53:23.060101",
     "status": "completed"
    },
    "tags": []
   },
   "outputs": [
    {
     "data": {
      "text/plain": [
       "0"
      ]
     },
     "execution_count": 39,
     "metadata": {},
     "output_type": "execute_result"
    }
   ],
   "source": [
    "agg_prev = group_and_merge(approved, agg_prev, 'APPROVED_', PREVIOUS_APPROVED_AGG)\n",
    "refused = prev[prev['NAME_CONTRACT_STATUS_Refused'] == 1]\n",
    "agg_prev = group_and_merge(refused, agg_prev, 'REFUSED_', PREVIOUS_REFUSED_AGG)\n",
    "del approved, refused; gc.collect()"
   ]
  },
  {
   "cell_type": "code",
   "execution_count": 40,
   "id": "26697661",
   "metadata": {
    "execution": {
     "iopub.execute_input": "2021-08-12T19:53:26.263972Z",
     "iopub.status.busy": "2021-08-12T19:53:26.263289Z",
     "iopub.status.idle": "2021-08-12T19:53:28.928975Z",
     "shell.execute_reply": "2021-08-12T19:53:28.928297Z",
     "shell.execute_reply.started": "2021-08-12T19:33:57.120633Z"
    },
    "papermill": {
     "duration": 2.720434,
     "end_time": "2021-08-12T19:53:28.929120",
     "exception": false,
     "start_time": "2021-08-12T19:53:26.208686",
     "status": "completed"
    },
    "tags": []
   },
   "outputs": [],
   "source": [
    "for loan_type in ['Consumer loans', 'Cash loans']:\n",
    "    type_df = prev[prev['NAME_CONTRACT_TYPE_{}'.format(loan_type)] == 1]\n",
    "    prefix = 'PREV_' + loan_type.split(\" \")[0] + '_'\n",
    "    agg_prev = group_and_merge(type_df, agg_prev, prefix, PREVIOUS_LOAN_TYPE_AGG)\n",
    "    del type_df; gc.collect()"
   ]
  },
  {
   "cell_type": "code",
   "execution_count": 41,
   "id": "df76550c",
   "metadata": {
    "execution": {
     "iopub.execute_input": "2021-08-12T19:53:29.045633Z",
     "iopub.status.busy": "2021-08-12T19:53:29.044920Z",
     "iopub.status.idle": "2021-08-12T19:53:39.047173Z",
     "shell.execute_reply": "2021-08-12T19:53:39.046605Z",
     "shell.execute_reply.started": "2021-08-12T19:33:59.683397Z"
    },
    "papermill": {
     "duration": 10.069559,
     "end_time": "2021-08-12T19:53:39.047329",
     "exception": false,
     "start_time": "2021-08-12T19:53:28.977770",
     "status": "completed"
    },
    "tags": []
   },
   "outputs": [],
   "source": [
    "pay['LATE_PAYMENT'] = pay['DAYS_ENTRY_PAYMENT'] - pay['DAYS_INSTALMENT']\n",
    "pay['LATE_PAYMENT'] = pay['LATE_PAYMENT'].apply(lambda x: 1 if x > 0 else 0)\n",
    "dpd_id = pay[pay['LATE_PAYMENT'] > 0]['SK_ID_PREV'].unique()"
   ]
  },
  {
   "cell_type": "code",
   "execution_count": 42,
   "id": "de78dce0",
   "metadata": {
    "execution": {
     "iopub.execute_input": "2021-08-12T19:53:39.166094Z",
     "iopub.status.busy": "2021-08-12T19:53:39.165131Z",
     "iopub.status.idle": "2021-08-12T19:53:39.998992Z",
     "shell.execute_reply": "2021-08-12T19:53:39.999453Z",
     "shell.execute_reply.started": "2021-08-12T19:34:09.817599Z"
    },
    "papermill": {
     "duration": 0.900843,
     "end_time": "2021-08-12T19:53:39.999675",
     "exception": false,
     "start_time": "2021-08-12T19:53:39.098832",
     "status": "completed"
    },
    "tags": []
   },
   "outputs": [
    {
     "data": {
      "text/plain": [
       "0"
      ]
     },
     "execution_count": 42,
     "metadata": {},
     "output_type": "execute_result"
    }
   ],
   "source": [
    "agg_dpd = group_and_merge(prev[prev['SK_ID_PREV'].isin(dpd_id)], agg_prev,\n",
    "                                    'PREV_LATE_', PREVIOUS_LATE_PAYMENTS_AGG)\n",
    "del agg_dpd, dpd_id; gc.collect()"
   ]
  },
  {
   "cell_type": "code",
   "execution_count": 43,
   "id": "f10eff28",
   "metadata": {
    "execution": {
     "iopub.execute_input": "2021-08-12T19:53:40.102891Z",
     "iopub.status.busy": "2021-08-12T19:53:40.102240Z",
     "iopub.status.idle": "2021-08-12T19:53:42.947664Z",
     "shell.execute_reply": "2021-08-12T19:53:42.947124Z",
     "shell.execute_reply.started": "2021-08-12T19:34:10.643371Z"
    },
    "papermill": {
     "duration": 2.898452,
     "end_time": "2021-08-12T19:53:42.947817",
     "exception": false,
     "start_time": "2021-08-12T19:53:40.049365",
     "status": "completed"
    },
    "tags": []
   },
   "outputs": [
    {
     "data": {
      "text/plain": [
       "0"
      ]
     },
     "execution_count": 43,
     "metadata": {},
     "output_type": "execute_result"
    }
   ],
   "source": [
    "for time_frame in [12, 24]:\n",
    "    time_frame_df = prev[prev['DAYS_DECISION'] >= -30*time_frame]\n",
    "    prefix = 'PREV_LAST{}M_'.format(time_frame)\n",
    "    agg_prev = group_and_merge(time_frame_df, agg_prev, prefix, PREVIOUS_TIME_AGG)\n",
    "    del time_frame_df; gc.collect()\n",
    "del prev; gc.collect()"
   ]
  },
  {
   "cell_type": "code",
   "execution_count": 44,
   "id": "e156c66b",
   "metadata": {
    "execution": {
     "iopub.execute_input": "2021-08-12T19:53:43.052593Z",
     "iopub.status.busy": "2021-08-12T19:53:43.051825Z",
     "iopub.status.idle": "2021-08-12T19:53:45.426029Z",
     "shell.execute_reply": "2021-08-12T19:53:45.425340Z",
     "shell.execute_reply.started": "2021-08-12T19:34:13.523549Z"
    },
    "papermill": {
     "duration": 2.428226,
     "end_time": "2021-08-12T19:53:45.426169",
     "exception": false,
     "start_time": "2021-08-12T19:53:42.997943",
     "status": "completed"
    },
    "tags": []
   },
   "outputs": [],
   "source": [
    "df = pd.merge(df, agg_prev, on='SK_ID_CURR', how='left')"
   ]
  },
  {
   "cell_type": "code",
   "execution_count": 45,
   "id": "62b43b41",
   "metadata": {
    "execution": {
     "iopub.execute_input": "2021-08-12T19:53:45.530060Z",
     "iopub.status.busy": "2021-08-12T19:53:45.529377Z",
     "iopub.status.idle": "2021-08-12T19:53:47.133157Z",
     "shell.execute_reply": "2021-08-12T19:53:47.132526Z",
     "shell.execute_reply.started": "2021-08-12T19:34:16.084321Z"
    },
    "papermill": {
     "duration": 1.65818,
     "end_time": "2021-08-12T19:53:47.133312",
     "exception": false,
     "start_time": "2021-08-12T19:53:45.475132",
     "status": "completed"
    },
    "tags": []
   },
   "outputs": [
    {
     "data": {
      "text/plain": [
       "40"
      ]
     },
     "execution_count": 45,
     "metadata": {},
     "output_type": "execute_result"
    }
   ],
   "source": [
    "train = df[df['TARGET'].notnull()]\n",
    "test = df[df['TARGET'].isnull()]\n",
    "del df\n",
    "gc.collect()"
   ]
  },
  {
   "cell_type": "code",
   "execution_count": 46,
   "id": "8365ad47",
   "metadata": {
    "execution": {
     "iopub.execute_input": "2021-08-12T19:53:47.631870Z",
     "iopub.status.busy": "2021-08-12T19:53:47.589536Z",
     "iopub.status.idle": "2021-08-12T19:53:47.635236Z",
     "shell.execute_reply": "2021-08-12T19:53:47.634703Z",
     "shell.execute_reply.started": "2021-08-12T19:34:17.821964Z"
    },
    "papermill": {
     "duration": 0.451963,
     "end_time": "2021-08-12T19:53:47.635381",
     "exception": false,
     "start_time": "2021-08-12T19:53:47.183418",
     "status": "completed"
    },
    "tags": []
   },
   "outputs": [],
   "source": [
    "labels = train['TARGET']\n",
    "test_lebels=test['TARGET']\n",
    "train = train.drop(columns=['TARGET'])\n",
    "test = test.drop(columns=['TARGET'])"
   ]
  },
  {
   "cell_type": "code",
   "execution_count": 47,
   "id": "7ffe4eb3",
   "metadata": {
    "execution": {
     "iopub.execute_input": "2021-08-12T19:53:47.743821Z",
     "iopub.status.busy": "2021-08-12T19:53:47.742150Z",
     "iopub.status.idle": "2021-08-12T19:53:48.949292Z",
     "shell.execute_reply": "2021-08-12T19:53:48.948639Z",
     "shell.execute_reply.started": "2021-08-12T19:34:18.213533Z"
    },
    "papermill": {
     "duration": 1.263893,
     "end_time": "2021-08-12T19:53:48.949432",
     "exception": false,
     "start_time": "2021-08-12T19:53:47.685539",
     "status": "completed"
    },
    "tags": []
   },
   "outputs": [],
   "source": [
    "feature = list(train.columns)\n",
    "\n",
    "train.replace([np.inf, -np.inf], np.nan, inplace=True)\n",
    "test.replace([np.inf, -np.inf], np.nan, inplace=True)\n",
    "test_df = test.copy()\n",
    "train_df = train.copy()\n",
    "train_df['TARGET'] = labels\n",
    "test_df['TARGET'] = test_lebels"
   ]
  },
  {
   "cell_type": "code",
   "execution_count": 48,
   "id": "7f17f8f6",
   "metadata": {
    "execution": {
     "iopub.execute_input": "2021-08-12T19:53:49.062516Z",
     "iopub.status.busy": "2021-08-12T19:53:49.061097Z",
     "iopub.status.idle": "2021-08-12T19:54:19.952047Z",
     "shell.execute_reply": "2021-08-12T19:54:19.952544Z",
     "shell.execute_reply.started": "2021-08-12T19:34:19.423889Z"
    },
    "papermill": {
     "duration": 30.953368,
     "end_time": "2021-08-12T19:54:19.952738",
     "exception": false,
     "start_time": "2021-08-12T19:53:48.999370",
     "status": "completed"
    },
    "tags": []
   },
   "outputs": [],
   "source": [
    "imputer = SimpleImputer(strategy = 'median')\n",
    "imputer.fit(train)\n",
    "imputer.fit(test)\n",
    "train = imputer.transform(train)\n",
    "test = imputer.transform(test)"
   ]
  },
  {
   "cell_type": "code",
   "execution_count": 49,
   "id": "c6fb5cce",
   "metadata": {
    "execution": {
     "iopub.execute_input": "2021-08-12T19:54:20.057440Z",
     "iopub.status.busy": "2021-08-12T19:54:20.056813Z",
     "iopub.status.idle": "2021-08-12T19:54:21.354991Z",
     "shell.execute_reply": "2021-08-12T19:54:21.354422Z",
     "shell.execute_reply.started": "2021-08-12T19:34:50.166181Z"
    },
    "papermill": {
     "duration": 1.353077,
     "end_time": "2021-08-12T19:54:21.355133",
     "exception": false,
     "start_time": "2021-08-12T19:54:20.002056",
     "status": "completed"
    },
    "tags": []
   },
   "outputs": [],
   "source": [
    "scaler = MinMaxScaler(feature_range = (0, 1))\n",
    "scaler.fit(train)\n",
    "scaler.fit(test)\n",
    "train = scaler.transform(train)\n",
    "test = scaler.transform(test)"
   ]
  },
  {
   "cell_type": "code",
   "execution_count": 50,
   "id": "e098dbc2",
   "metadata": {
    "execution": {
     "iopub.execute_input": "2021-08-12T19:54:21.458235Z",
     "iopub.status.busy": "2021-08-12T19:54:21.457603Z",
     "iopub.status.idle": "2021-08-12T19:54:21.460610Z",
     "shell.execute_reply": "2021-08-12T19:54:21.460113Z",
     "shell.execute_reply.started": "2021-08-12T19:34:51.461093Z"
    },
    "papermill": {
     "duration": 0.056359,
     "end_time": "2021-08-12T19:54:21.460755",
     "exception": false,
     "start_time": "2021-08-12T19:54:21.404396",
     "status": "completed"
    },
    "tags": []
   },
   "outputs": [],
   "source": [
    "Xtrn = pd.DataFrame(train)"
   ]
  },
  {
   "cell_type": "code",
   "execution_count": 51,
   "id": "1d93e240",
   "metadata": {
    "execution": {
     "iopub.execute_input": "2021-08-12T19:54:21.563354Z",
     "iopub.status.busy": "2021-08-12T19:54:21.562723Z",
     "iopub.status.idle": "2021-08-12T19:54:21.765210Z",
     "shell.execute_reply": "2021-08-12T19:54:21.764663Z",
     "shell.execute_reply.started": "2021-08-12T19:34:51.466441Z"
    },
    "papermill": {
     "duration": 0.255545,
     "end_time": "2021-08-12T19:54:21.765346",
     "exception": false,
     "start_time": "2021-08-12T19:54:21.509801",
     "status": "completed"
    },
    "tags": []
   },
   "outputs": [],
   "source": [
    "from imblearn.over_sampling import SMOTE\n",
    "oversampling = SMOTE(random_state = 123)"
   ]
  },
  {
   "cell_type": "code",
   "execution_count": 52,
   "id": "14564fde",
   "metadata": {
    "execution": {
     "iopub.execute_input": "2021-08-12T19:54:21.869815Z",
     "iopub.status.busy": "2021-08-12T19:54:21.869098Z",
     "iopub.status.idle": "2021-08-12T20:06:03.633557Z",
     "shell.execute_reply": "2021-08-12T20:06:03.631742Z",
     "shell.execute_reply.started": "2021-08-12T19:34:51.666965Z"
    },
    "papermill": {
     "duration": 701.818969,
     "end_time": "2021-08-12T20:06:03.634209",
     "exception": false,
     "start_time": "2021-08-12T19:54:21.815240",
     "status": "completed"
    },
    "tags": []
   },
   "outputs": [],
   "source": [
    "X_over, y_over = oversampling.fit_resample(train,labels)\n"
   ]
  },
  {
   "cell_type": "code",
   "execution_count": 53,
   "id": "825c6e86",
   "metadata": {
    "execution": {
     "iopub.execute_input": "2021-08-12T20:06:03.810060Z",
     "iopub.status.busy": "2021-08-12T20:06:03.809057Z",
     "iopub.status.idle": "2021-08-12T20:06:03.857193Z",
     "shell.execute_reply": "2021-08-12T20:06:03.856505Z",
     "shell.execute_reply.started": "2021-08-12T19:46:38.777043Z"
    },
    "papermill": {
     "duration": 0.137712,
     "end_time": "2021-08-12T20:06:03.857337",
     "exception": false,
     "start_time": "2021-08-12T20:06:03.719625",
     "status": "completed"
    },
    "tags": []
   },
   "outputs": [
    {
     "data": {
      "text/plain": [
       "TARGET\n",
       "0.0       282682\n",
       "1.0       282682\n",
       "dtype: int64"
      ]
     },
     "execution_count": 53,
     "metadata": {},
     "output_type": "execute_result"
    }
   ],
   "source": [
    "X_over = pd.DataFrame(X_over, columns=Xtrn.columns)\n",
    "y_over = pd.DataFrame(y_over)\n",
    "y_over.value_counts()"
   ]
  },
  {
   "cell_type": "code",
   "execution_count": 54,
   "id": "9a10b258",
   "metadata": {
    "execution": {
     "iopub.execute_input": "2021-08-12T20:06:04.337871Z",
     "iopub.status.busy": "2021-08-12T20:06:04.336910Z",
     "iopub.status.idle": "2021-08-12T20:06:04.341718Z",
     "shell.execute_reply": "2021-08-12T20:06:04.342572Z",
     "shell.execute_reply.started": "2021-08-12T19:46:38.813862Z"
    },
    "papermill": {
     "duration": 0.421397,
     "end_time": "2021-08-12T20:06:04.342801",
     "exception": false,
     "start_time": "2021-08-12T20:06:03.921404",
     "status": "completed"
    },
    "tags": []
   },
   "outputs": [
    {
     "data": {
      "text/plain": [
       "40"
      ]
     },
     "execution_count": 54,
     "metadata": {},
     "output_type": "execute_result"
    }
   ],
   "source": [
    "del Xtrn; \n",
    "gc.collect()"
   ]
  },
  {
   "cell_type": "code",
   "execution_count": 55,
   "id": "2cdfdc84",
   "metadata": {
    "execution": {
     "iopub.execute_input": "2021-08-12T20:06:04.568744Z",
     "iopub.status.busy": "2021-08-12T20:06:04.567780Z",
     "iopub.status.idle": "2021-08-12T20:06:04.767528Z",
     "shell.execute_reply": "2021-08-12T20:06:04.766956Z",
     "shell.execute_reply.started": "2021-08-12T19:46:39.084660Z"
    },
    "papermill": {
     "duration": 0.261121,
     "end_time": "2021-08-12T20:06:04.767669",
     "exception": false,
     "start_time": "2021-08-12T20:06:04.506548",
     "status": "completed"
    },
    "tags": []
   },
   "outputs": [
    {
     "data": {
      "text/plain": [
       "<AxesSubplot:>"
      ]
     },
     "execution_count": 55,
     "metadata": {},
     "output_type": "execute_result"
    },
    {
     "data": {
      "image/png": "[encoded data removed]",
      "text/plain": [
       "<Figure size 432x288 with 1 Axes>"
      ]
     },
     "metadata": {
      "needs_background": "light"
     },
     "output_type": "display_data"
    }
   ],
   "source": [
    "sns.barplot(x=[0,1], y=y_over.value_counts(normalize=True))"
   ]
  },
  {
   "cell_type": "code",
   "execution_count": 56,
   "id": "792c2b41",
   "metadata": {
    "execution": {
     "iopub.execute_input": "2021-08-12T20:06:04.878625Z",
     "iopub.status.busy": "2021-08-12T20:06:04.877762Z",
     "iopub.status.idle": "2021-08-12T20:07:25.552202Z",
     "shell.execute_reply": "2021-08-12T20:07:25.552725Z"
    },
    "papermill": {
     "duration": 80.733106,
     "end_time": "2021-08-12T20:07:25.552899",
     "exception": false,
     "start_time": "2021-08-12T20:06:04.819793",
     "status": "completed"
    },
    "tags": []
   },
   "outputs": [
    {
     "data": {
      "text/html": [
       "<style type='text/css'>\n",
       ".datatable table.frame { margin-bottom: 0; }\n",
       ".datatable table.frame thead { border-bottom: none; }\n",
       ".datatable table.frame tr.coltypes td {  color: #FFFFFF;  line-height: 6px;  padding: 0 0.5em;}\n",
       ".datatable .bool    { background: #DDDD99; }\n",
       ".datatable .object  { background: #565656; }\n",
       ".datatable .int     { background: #5D9E5D; }\n",
       ".datatable .float   { background: #4040CC; }\n",
       ".datatable .str     { background: #CC4040; }\n",
       ".datatable .time    { background: #40CC40; }\n",
       ".datatable .row_index {  background: var(--jp-border-color3);  border-right: 1px solid var(--jp-border-color0);  color: var(--jp-ui-font-color3);  font-size: 9px;}\n",
       ".datatable .frame tbody td { text-align: left; }\n",
       ".datatable .frame tr.coltypes .row_index {  background: var(--jp-border-color0);}\n",
       ".datatable th:nth-child(2) { padding-left: 12px; }\n",
       ".datatable .hellipsis {  color: var(--jp-cell-editor-border-color);}\n",
       ".datatable .vellipsis {  background: var(--jp-layout-color0);  color: var(--jp-cell-editor-border-color);}\n",
       ".datatable .na {  color: var(--jp-cell-editor-border-color);  font-size: 80%;}\n",
       ".datatable .sp {  opacity: 0.25;}\n",
       ".datatable .footer { font-size: 9px; }\n",
       ".datatable .frame_dimensions {  background: var(--jp-border-color3);  border-top: 1px solid var(--jp-border-color0);  color: var(--jp-ui-font-color3);  display: inline-block;  opacity: 0.6;  padding: 1px 10px 1px 5px;}\n",
       "</style>\n"
      ],
      "text/plain": [
       "<IPython.core.display.HTML object>"
      ]
     },
     "metadata": {},
     "output_type": "display_data"
    },
    {
     "data": {
      "text/plain": [
       "LGBMClassifier()"
      ]
     },
     "execution_count": 56,
     "metadata": {},
     "output_type": "execute_result"
    }
   ],
   "source": [
    "from lightgbm import LGBMClassifier\n",
    "\n",
    "lgbmc = LGBMClassifier()\n",
    "lgbmc.fit(X_over, y_over.values.ravel())"
   ]
  },
  {
   "cell_type": "code",
   "execution_count": 57,
   "id": "ff60b763",
   "metadata": {
    "execution": {
     "iopub.execute_input": "2021-08-12T20:07:25.663720Z",
     "iopub.status.busy": "2021-08-12T20:07:25.662359Z",
     "iopub.status.idle": "2021-08-12T20:07:25.921967Z",
     "shell.execute_reply": "2021-08-12T20:07:25.922539Z"
    },
    "papermill": {
     "duration": 0.317561,
     "end_time": "2021-08-12T20:07:25.922757",
     "exception": false,
     "start_time": "2021-08-12T20:07:25.605196",
     "status": "completed"
    },
    "tags": []
   },
   "outputs": [],
   "source": [
    "lgbm_pred = lgbmc.predict_proba(test)[:, 1]"
   ]
  },
  {
   "cell_type": "code",
   "execution_count": 58,
   "id": "6d3f82ff",
   "metadata": {
    "execution": {
     "iopub.execute_input": "2021-08-12T20:07:26.037657Z",
     "iopub.status.busy": "2021-08-12T20:07:26.036957Z",
     "iopub.status.idle": "2021-08-12T20:07:26.131414Z",
     "shell.execute_reply": "2021-08-12T20:07:26.130902Z"
    },
    "papermill": {
     "duration": 0.153424,
     "end_time": "2021-08-12T20:07:26.131576",
     "exception": false,
     "start_time": "2021-08-12T20:07:25.978152",
     "status": "completed"
    },
    "tags": []
   },
   "outputs": [
    {
     "name": "stderr",
     "output_type": "stream",
     "text": [
      "/opt/conda/lib/python3.7/site-packages/ipykernel_launcher.py:2: SettingWithCopyWarning: \n",
      "A value is trying to be set on a copy of a slice from a DataFrame.\n",
      "Try using .loc[row_indexer,col_indexer] = value instead\n",
      "\n",
      "See the caveats in the documentation: https://pandas.pydata.org/pandas-docs/stable/user_guide/indexing.html#returning-a-view-versus-a-copy\n",
      "  \n"
     ]
    }
   ],
   "source": [
    "submit = test_df[['SK_ID_CURR']]\n",
    "submit['TARGET'] = lgbm_pred"
   ]
  },
  {
   "cell_type": "code",
   "execution_count": 59,
   "id": "014abed1",
   "metadata": {
    "execution": {
     "iopub.execute_input": "2021-08-12T20:07:26.245418Z",
     "iopub.status.busy": "2021-08-12T20:07:26.244800Z",
     "iopub.status.idle": "2021-08-12T20:07:26.440528Z",
     "shell.execute_reply": "2021-08-12T20:07:26.441064Z"
    },
    "papermill": {
     "duration": 0.256071,
     "end_time": "2021-08-12T20:07:26.441242",
     "exception": false,
     "start_time": "2021-08-12T20:07:26.185171",
     "status": "completed"
    },
    "tags": []
   },
   "outputs": [],
   "source": [
    "submit.to_csv('lgbm+oversampling.csv', index = False)"
   ]
  }
 ],
 "metadata": {
  "kernelspec": {
   "display_name": "Python 3",
   "language": "python",
   "name": "python3"
  },
  "language_info": {
   "codemirror_mode": {
    "name": "ipython",
    "version": 3
   },
   "file_extension": ".py",
   "mimetype": "text/x-python",
   "name": "python",
   "nbconvert_exporter": "python",
   "pygments_lexer": "ipython3",
   "version": "3.7.10"
  },
  "papermill": {
   "default_parameters": {},
   "duration": 981.260334,
   "end_time": "2021-08-12T20:07:28.223139",
   "environment_variables": {},
   "exception": null,
   "input_path": "__notebook__.ipynb",
   "output_path": "__notebook__.ipynb",
   "parameters": {},
   "start_time": "2021-08-12T19:51:06.962805",
   "version": "2.3.3"
  }
 },
 "nbformat": 4,
 "nbformat_minor": 5
}
