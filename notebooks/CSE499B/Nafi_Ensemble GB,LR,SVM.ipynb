{
 "cells": [
  {
   "cell_type": "code",
   "execution_count": 1,
   "id": "d0223403",
   "metadata": {
    "execution": {
     "iopub.execute_input": "2021-08-07T10:53:57.240648Z",
     "iopub.status.busy": "2021-08-07T10:53:57.239112Z",
     "iopub.status.idle": "2021-08-07T10:53:58.302768Z",
     "shell.execute_reply": "2021-08-07T10:53:58.302174Z",
     "shell.execute_reply.started": "2021-08-07T09:06:03.149060Z"
    },
    "papermill": {
     "duration": 1.112737,
     "end_time": "2021-08-07T10:53:58.302915",
     "exception": false,
     "start_time": "2021-08-07T10:53:57.190178",
     "status": "completed"
    },
    "tags": []
   },
   "outputs": [],
   "source": [
    "import os\n",
    "import gc\n",
    "import numpy as np\n",
    "import pandas as pd\n",
    "from scipy.stats import kurtosis\n",
    "from sklearn.metrics import roc_auc_score\n",
    "from sklearn.preprocessing import MinMaxScaler\n",
    "from sklearn.impute import SimpleImputer\n",
    "from sklearn.linear_model import LogisticRegression\n",
    "import matplotlib.pyplot as plt\n",
    "import seaborn as sns\n",
    "import warnings\n",
    "from sklearn.model_selection import train_test_split, cross_val_score, StratifiedKFold\n",
    "import xgboost as xgb\n",
    "from xgboost import XGBClassifier\n",
    "warnings.simplefilter(action='ignore', category=FutureWarning)"
   ]
  },
  {
   "cell_type": "code",
   "execution_count": 2,
   "id": "0791f719",
   "metadata": {
    "execution": {
     "iopub.execute_input": "2021-08-07T10:53:58.394255Z",
     "iopub.status.busy": "2021-08-07T10:53:58.393687Z",
     "iopub.status.idle": "2021-08-07T10:53:58.397596Z",
     "shell.execute_reply": "2021-08-07T10:53:58.397188Z",
     "shell.execute_reply.started": "2021-08-07T09:06:03.360707Z"
    },
    "papermill": {
     "duration": 0.051193,
     "end_time": "2021-08-07T10:53:58.397707",
     "exception": false,
     "start_time": "2021-08-07T10:53:58.346514",
     "status": "completed"
    },
    "tags": []
   },
   "outputs": [],
   "source": [
    "DATA_DIRECTORY = \"../input/home-credit-default-risk\""
   ]
  },
  {
   "cell_type": "code",
   "execution_count": 3,
   "id": "191761fc",
   "metadata": {
    "execution": {
     "iopub.execute_input": "2021-08-07T10:53:58.509904Z",
     "iopub.status.busy": "2021-08-07T10:53:58.509040Z",
     "iopub.status.idle": "2021-08-07T10:54:05.149373Z",
     "shell.execute_reply": "2021-08-07T10:54:05.148826Z",
     "shell.execute_reply.started": "2021-08-07T09:06:03.367653Z"
    },
    "papermill": {
     "duration": 6.709055,
     "end_time": "2021-08-07T10:54:05.149517",
     "exception": false,
     "start_time": "2021-08-07T10:53:58.440462",
     "status": "completed"
    },
    "tags": []
   },
   "outputs": [
    {
     "data": {
      "text/plain": [
       "0"
      ]
     },
     "execution_count": 3,
     "metadata": {},
     "output_type": "execute_result"
    }
   ],
   "source": [
    "df_train = pd.read_csv(os.path.join(DATA_DIRECTORY, 'application_train.csv'))\n",
    "df_test = pd.read_csv(os.path.join(DATA_DIRECTORY, 'application_test.csv'))\n",
    "df = df_train.append(df_test)\n",
    "del df_train, df_test; gc.collect()"
   ]
  },
  {
   "cell_type": "code",
   "execution_count": 4,
   "id": "da07c7a1",
   "metadata": {
    "execution": {
     "iopub.execute_input": "2021-08-07T10:54:05.248516Z",
     "iopub.status.busy": "2021-08-07T10:54:05.247758Z",
     "iopub.status.idle": "2021-08-07T10:54:06.140891Z",
     "shell.execute_reply": "2021-08-07T10:54:06.141527Z",
     "shell.execute_reply.started": "2021-08-07T09:06:10.085373Z"
    },
    "papermill": {
     "duration": 0.942784,
     "end_time": "2021-08-07T10:54:06.141693",
     "exception": false,
     "start_time": "2021-08-07T10:54:05.198909",
     "status": "completed"
    },
    "tags": []
   },
   "outputs": [],
   "source": [
    "df = df[df['AMT_INCOME_TOTAL'] < 20000000]\n",
    "df = df[df['CODE_GENDER'] != 'XNA']\n",
    "df['DAYS_EMPLOYED'].replace(365243, np.nan, inplace=True)\n",
    "df['DAYS_LAST_PHONE_CHANGE'].replace(0, np.nan, inplace=True)"
   ]
  },
  {
   "cell_type": "code",
   "execution_count": 5,
   "id": "daa8026d",
   "metadata": {
    "execution": {
     "iopub.execute_input": "2021-08-07T10:54:06.242934Z",
     "iopub.status.busy": "2021-08-07T10:54:06.241356Z",
     "iopub.status.idle": "2021-08-07T10:54:06.243624Z",
     "shell.execute_reply": "2021-08-07T10:54:06.244130Z",
     "shell.execute_reply.started": "2021-08-07T09:06:10.998908Z"
    },
    "papermill": {
     "duration": 0.057797,
     "end_time": "2021-08-07T10:54:06.244268",
     "exception": false,
     "start_time": "2021-08-07T10:54:06.186471",
     "status": "completed"
    },
    "tags": []
   },
   "outputs": [],
   "source": [
    "def get_age_group(days_birth):\n",
    "    age_years = -days_birth / 365\n",
    "    if age_years < 27: return 1\n",
    "    elif age_years < 40: return 2\n",
    "    elif age_years < 50: return 3\n",
    "    elif age_years < 65: return 4\n",
    "    elif age_years < 99: return 5\n",
    "    else: return 0"
   ]
  },
  {
   "cell_type": "code",
   "execution_count": 6,
   "id": "bb6edefe",
   "metadata": {
    "execution": {
     "iopub.execute_input": "2021-08-07T10:54:06.344857Z",
     "iopub.status.busy": "2021-08-07T10:54:06.343489Z",
     "iopub.status.idle": "2021-08-07T10:54:06.988298Z",
     "shell.execute_reply": "2021-08-07T10:54:06.987564Z",
     "shell.execute_reply.started": "2021-08-07T09:06:11.006475Z"
    },
    "papermill": {
     "duration": 0.700259,
     "end_time": "2021-08-07T10:54:06.988458",
     "exception": false,
     "start_time": "2021-08-07T10:54:06.288199",
     "status": "completed"
    },
    "tags": []
   },
   "outputs": [],
   "source": [
    "docs = [f for f in df.columns if 'FLAG_DOC' in f]\n",
    "df['DOCUMENT_COUNT'] = df[docs].sum(axis=1)\n",
    "df['NEW_DOC_KURT'] = df[docs].kurtosis(axis=1)\n",
    "df['AGE_RANGE'] = df['DAYS_BIRTH'].apply(lambda x: get_age_group(x))"
   ]
  },
  {
   "cell_type": "code",
   "execution_count": 7,
   "id": "ec140e5c",
   "metadata": {
    "execution": {
     "iopub.execute_input": "2021-08-07T10:54:07.087937Z",
     "iopub.status.busy": "2021-08-07T10:54:07.086666Z",
     "iopub.status.idle": "2021-08-07T10:54:07.995369Z",
     "shell.execute_reply": "2021-08-07T10:54:07.994825Z",
     "shell.execute_reply.started": "2021-08-07T09:06:11.679390Z"
    },
    "papermill": {
     "duration": 0.961956,
     "end_time": "2021-08-07T10:54:07.995500",
     "exception": false,
     "start_time": "2021-08-07T10:54:07.033544",
     "status": "completed"
    },
    "tags": []
   },
   "outputs": [],
   "source": [
    "df['EXT_SOURCES_PROD'] = df['EXT_SOURCE_1'] * df['EXT_SOURCE_2'] * df['EXT_SOURCE_3']\n",
    "df['EXT_SOURCES_WEIGHTED'] = df.EXT_SOURCE_1 * 2 + df.EXT_SOURCE_2 * 1 + df.EXT_SOURCE_3 * 3\n",
    "np.warnings.filterwarnings('ignore', r'All-NaN (slice|axis) encountered')\n",
    "for function_name in ['min', 'max', 'mean', 'nanmedian', 'var']:\n",
    "    feature_name = 'EXT_SOURCES_{}'.format(function_name.upper())\n",
    "    df[feature_name] = eval('np.{}'.format(function_name))(\n",
    "        df[['EXT_SOURCE_1', 'EXT_SOURCE_2', 'EXT_SOURCE_3']], axis=1)"
   ]
  },
  {
   "cell_type": "code",
   "execution_count": 8,
   "id": "d07b1b72",
   "metadata": {
    "execution": {
     "iopub.execute_input": "2021-08-07T10:54:08.096587Z",
     "iopub.status.busy": "2021-08-07T10:54:08.095638Z",
     "iopub.status.idle": "2021-08-07T10:54:08.122270Z",
     "shell.execute_reply": "2021-08-07T10:54:08.121821Z",
     "shell.execute_reply.started": "2021-08-07T09:06:12.594563Z"
    },
    "papermill": {
     "duration": 0.082511,
     "end_time": "2021-08-07T10:54:08.122394",
     "exception": false,
     "start_time": "2021-08-07T10:54:08.039883",
     "status": "completed"
    },
    "tags": []
   },
   "outputs": [],
   "source": [
    "df['CREDIT_TO_ANNUITY_RATIO'] = df['AMT_CREDIT'] / df['AMT_ANNUITY']\n",
    "df['CREDIT_TO_GOODS_RATIO'] = df['AMT_CREDIT'] / df['AMT_GOODS_PRICE']\n",
    "df['ANNUITY_TO_INCOME_RATIO'] = df['AMT_ANNUITY'] / df['AMT_INCOME_TOTAL']\n",
    "df['CREDIT_TO_INCOME_RATIO'] = df['AMT_CREDIT'] / df['AMT_INCOME_TOTAL']\n",
    "df['INCOME_TO_EMPLOYED_RATIO'] = df['AMT_INCOME_TOTAL'] / df['DAYS_EMPLOYED']\n",
    "df['INCOME_TO_BIRTH_RATIO'] = df['AMT_INCOME_TOTAL'] / df['DAYS_BIRTH']    \n",
    "df['EMPLOYED_TO_BIRTH_RATIO'] = df['DAYS_EMPLOYED'] / df['DAYS_BIRTH']\n",
    "df['ID_TO_BIRTH_RATIO'] = df['DAYS_ID_PUBLISH'] / df['DAYS_BIRTH']\n",
    "df['CAR_TO_BIRTH_RATIO'] = df['OWN_CAR_AGE'] / df['DAYS_BIRTH']\n",
    "df['CAR_TO_EMPLOYED_RATIO'] = df['OWN_CAR_AGE'] / df['DAYS_EMPLOYED']\n",
    "df['PHONE_TO_BIRTH_RATIO'] = df['DAYS_LAST_PHONE_CHANGE'] / df['DAYS_BIRTH']"
   ]
  },
  {
   "cell_type": "code",
   "execution_count": 9,
   "id": "0686cadf",
   "metadata": {
    "execution": {
     "iopub.execute_input": "2021-08-07T10:54:08.221059Z",
     "iopub.status.busy": "2021-08-07T10:54:08.220369Z",
     "iopub.status.idle": "2021-08-07T10:54:08.223428Z",
     "shell.execute_reply": "2021-08-07T10:54:08.223854Z",
     "shell.execute_reply.started": "2021-08-07T09:06:12.632132Z"
    },
    "papermill": {
     "duration": 0.057621,
     "end_time": "2021-08-07T10:54:08.224011",
     "exception": false,
     "start_time": "2021-08-07T10:54:08.166390",
     "status": "completed"
    },
    "tags": []
   },
   "outputs": [],
   "source": [
    "def do_mean(df, group_cols, counted, agg_name):\n",
    "    gp = df[group_cols + [counted]].groupby(group_cols)[counted].mean().reset_index().rename(\n",
    "        columns={counted: agg_name})\n",
    "    df = df.merge(gp, on=group_cols, how='left')\n",
    "    del gp\n",
    "    gc.collect()\n",
    "    return df"
   ]
  },
  {
   "cell_type": "code",
   "execution_count": 10,
   "id": "e84a279f",
   "metadata": {
    "execution": {
     "iopub.execute_input": "2021-08-07T10:54:08.320854Z",
     "iopub.status.busy": "2021-08-07T10:54:08.319896Z",
     "iopub.status.idle": "2021-08-07T10:54:08.323861Z",
     "shell.execute_reply": "2021-08-07T10:54:08.323399Z",
     "shell.execute_reply.started": "2021-08-07T09:06:12.639398Z"
    },
    "papermill": {
     "duration": 0.055672,
     "end_time": "2021-08-07T10:54:08.323997",
     "exception": false,
     "start_time": "2021-08-07T10:54:08.268325",
     "status": "completed"
    },
    "tags": []
   },
   "outputs": [],
   "source": [
    "def do_median(df, group_cols, counted, agg_name):\n",
    "    gp = df[group_cols + [counted]].groupby(group_cols)[counted].median().reset_index().rename(\n",
    "        columns={counted: agg_name})\n",
    "    df = df.merge(gp, on=group_cols, how='left')\n",
    "    del gp\n",
    "    gc.collect()\n",
    "    return df"
   ]
  },
  {
   "cell_type": "code",
   "execution_count": 11,
   "id": "da5151a2",
   "metadata": {
    "execution": {
     "iopub.execute_input": "2021-08-07T10:54:08.422000Z",
     "iopub.status.busy": "2021-08-07T10:54:08.421273Z",
     "iopub.status.idle": "2021-08-07T10:54:08.424995Z",
     "shell.execute_reply": "2021-08-07T10:54:08.424495Z",
     "shell.execute_reply.started": "2021-08-07T09:06:12.648126Z"
    },
    "papermill": {
     "duration": 0.054922,
     "end_time": "2021-08-07T10:54:08.425134",
     "exception": false,
     "start_time": "2021-08-07T10:54:08.370212",
     "status": "completed"
    },
    "tags": []
   },
   "outputs": [],
   "source": [
    "def do_std(df, group_cols, counted, agg_name):\n",
    "    gp = df[group_cols + [counted]].groupby(group_cols)[counted].std().reset_index().rename(\n",
    "        columns={counted: agg_name})\n",
    "    df = df.merge(gp, on=group_cols, how='left')\n",
    "    del gp\n",
    "    gc.collect()\n",
    "    return df"
   ]
  },
  {
   "cell_type": "code",
   "execution_count": 12,
   "id": "b17e8d99",
   "metadata": {
    "execution": {
     "iopub.execute_input": "2021-08-07T10:54:08.532275Z",
     "iopub.status.busy": "2021-08-07T10:54:08.531640Z",
     "iopub.status.idle": "2021-08-07T10:54:08.536107Z",
     "shell.execute_reply": "2021-08-07T10:54:08.535623Z",
     "shell.execute_reply.started": "2021-08-07T09:06:12.657347Z"
    },
    "papermill": {
     "duration": 0.055915,
     "end_time": "2021-08-07T10:54:08.536237",
     "exception": false,
     "start_time": "2021-08-07T10:54:08.480322",
     "status": "completed"
    },
    "tags": []
   },
   "outputs": [],
   "source": [
    "def do_sum(df, group_cols, counted, agg_name):\n",
    "    gp = df[group_cols + [counted]].groupby(group_cols)[counted].sum().reset_index().rename(\n",
    "        columns={counted: agg_name})\n",
    "    df = df.merge(gp, on=group_cols, how='left')\n",
    "    del gp\n",
    "    gc.collect()\n",
    "    return df"
   ]
  },
  {
   "cell_type": "code",
   "execution_count": 13,
   "id": "fdac362f",
   "metadata": {
    "execution": {
     "iopub.execute_input": "2021-08-07T10:54:08.635702Z",
     "iopub.status.busy": "2021-08-07T10:54:08.634444Z",
     "iopub.status.idle": "2021-08-07T10:54:35.855639Z",
     "shell.execute_reply": "2021-08-07T10:54:35.854634Z",
     "shell.execute_reply.started": "2021-08-07T09:06:12.671183Z"
    },
    "papermill": {
     "duration": 27.273609,
     "end_time": "2021-08-07T10:54:35.855809",
     "exception": false,
     "start_time": "2021-08-07T10:54:08.582200",
     "status": "completed"
    },
    "tags": []
   },
   "outputs": [],
   "source": [
    "group = ['ORGANIZATION_TYPE', 'NAME_EDUCATION_TYPE', 'OCCUPATION_TYPE', 'AGE_RANGE', 'CODE_GENDER']\n",
    "df = do_median(df, group, 'EXT_SOURCES_MEAN', 'GROUP_EXT_SOURCES_MEDIAN')\n",
    "df = do_std(df, group, 'EXT_SOURCES_MEAN', 'GROUP_EXT_SOURCES_STD')\n",
    "df = do_mean(df, group, 'AMT_INCOME_TOTAL', 'GROUP_INCOME_MEAN')\n",
    "df = do_std(df, group, 'AMT_INCOME_TOTAL', 'GROUP_INCOME_STD')\n",
    "df = do_mean(df, group, 'CREDIT_TO_ANNUITY_RATIO', 'GROUP_CREDIT_TO_ANNUITY_MEAN')\n",
    "df = do_std(df, group, 'CREDIT_TO_ANNUITY_RATIO', 'GROUP_CREDIT_TO_ANNUITY_STD')\n",
    "df = do_mean(df, group, 'AMT_CREDIT', 'GROUP_CREDIT_MEAN')\n",
    "df = do_mean(df, group, 'AMT_ANNUITY', 'GROUP_ANNUITY_MEAN')\n",
    "df = do_std(df, group, 'AMT_ANNUITY', 'GROUP_ANNUITY_STD')"
   ]
  },
  {
   "cell_type": "code",
   "execution_count": 14,
   "id": "9e59189c",
   "metadata": {
    "execution": {
     "iopub.execute_input": "2021-08-07T10:54:35.957784Z",
     "iopub.status.busy": "2021-08-07T10:54:35.956063Z",
     "iopub.status.idle": "2021-08-07T10:54:35.958498Z",
     "shell.execute_reply": "2021-08-07T10:54:35.958912Z",
     "shell.execute_reply.started": "2021-08-07T09:06:39.684667Z"
    },
    "papermill": {
     "duration": 0.056102,
     "end_time": "2021-08-07T10:54:35.959060",
     "exception": false,
     "start_time": "2021-08-07T10:54:35.902958",
     "status": "completed"
    },
    "tags": []
   },
   "outputs": [],
   "source": [
    "def label_encoder(df, categorical_columns=None):\n",
    "    if not categorical_columns:\n",
    "        categorical_columns = [col for col in df.columns if df[col].dtype == 'object']\n",
    "    for col in categorical_columns:\n",
    "        df[col], uniques = pd.factorize(df[col])\n",
    "    return df, categorical_columns"
   ]
  },
  {
   "cell_type": "code",
   "execution_count": 15,
   "id": "c967b335",
   "metadata": {
    "execution": {
     "iopub.execute_input": "2021-08-07T10:54:36.055167Z",
     "iopub.status.busy": "2021-08-07T10:54:36.054623Z",
     "iopub.status.idle": "2021-08-07T10:54:36.057925Z",
     "shell.execute_reply": "2021-08-07T10:54:36.058329Z",
     "shell.execute_reply.started": "2021-08-07T09:06:39.692426Z"
    },
    "papermill": {
     "duration": 0.05397,
     "end_time": "2021-08-07T10:54:36.058482",
     "exception": false,
     "start_time": "2021-08-07T10:54:36.004512",
     "status": "completed"
    },
    "tags": []
   },
   "outputs": [],
   "source": [
    "def drop_application_columns(df):\n",
    "    drop_list = [\n",
    "        'CNT_CHILDREN', 'CNT_FAM_MEMBERS', 'HOUR_APPR_PROCESS_START',\n",
    "        'FLAG_EMP_PHONE', 'FLAG_MOBIL', 'FLAG_CONT_MOBILE', 'FLAG_EMAIL', 'FLAG_PHONE',\n",
    "        'FLAG_OWN_REALTY', 'REG_REGION_NOT_LIVE_REGION', 'REG_REGION_NOT_WORK_REGION',\n",
    "        'REG_CITY_NOT_WORK_CITY', 'OBS_30_CNT_SOCIAL_CIRCLE', 'OBS_60_CNT_SOCIAL_CIRCLE',\n",
    "        'AMT_REQ_CREDIT_BUREAU_DAY', 'AMT_REQ_CREDIT_BUREAU_MON', 'AMT_REQ_CREDIT_BUREAU_YEAR', \n",
    "        'COMMONAREA_MODE', 'NONLIVINGAREA_MODE', 'ELEVATORS_MODE', 'NONLIVINGAREA_AVG',\n",
    "        'FLOORSMIN_MEDI', 'LANDAREA_MODE', 'NONLIVINGAREA_MEDI', 'LIVINGAPARTMENTS_MODE',\n",
    "        'FLOORSMIN_AVG', 'LANDAREA_AVG', 'FLOORSMIN_MODE', 'LANDAREA_MEDI',\n",
    "        'COMMONAREA_MEDI', 'YEARS_BUILD_AVG', 'COMMONAREA_AVG', 'BASEMENTAREA_AVG',\n",
    "        'BASEMENTAREA_MODE', 'NONLIVINGAPARTMENTS_MEDI', 'BASEMENTAREA_MEDI', \n",
    "        'LIVINGAPARTMENTS_AVG', 'ELEVATORS_AVG', 'YEARS_BUILD_MEDI', 'ENTRANCES_MODE',\n",
    "        'NONLIVINGAPARTMENTS_MODE', 'LIVINGAREA_MODE', 'LIVINGAPARTMENTS_MEDI',\n",
    "        'YEARS_BUILD_MODE', 'YEARS_BEGINEXPLUATATION_AVG', 'ELEVATORS_MEDI', 'LIVINGAREA_MEDI',\n",
    "        'YEARS_BEGINEXPLUATATION_MODE', 'NONLIVINGAPARTMENTS_AVG', 'HOUSETYPE_MODE',\n",
    "        'FONDKAPREMONT_MODE', 'EMERGENCYSTATE_MODE'\n",
    "    ]\n",
    "    for doc_num in [2,4,5,6,7,9,10,11,12,13,14,15,16,17,19,20,21]:\n",
    "        drop_list.append('FLAG_DOCUMENT_{}'.format(doc_num))\n",
    "    df.drop(drop_list, axis=1, inplace=True)\n",
    "    return df"
   ]
  },
  {
   "cell_type": "code",
   "execution_count": 16,
   "id": "b6552db1",
   "metadata": {
    "execution": {
     "iopub.execute_input": "2021-08-07T10:54:36.158420Z",
     "iopub.status.busy": "2021-08-07T10:54:36.157712Z",
     "iopub.status.idle": "2021-08-07T10:54:37.016145Z",
     "shell.execute_reply": "2021-08-07T10:54:37.015610Z",
     "shell.execute_reply.started": "2021-08-07T09:06:39.704598Z"
    },
    "papermill": {
     "duration": 0.914464,
     "end_time": "2021-08-07T10:54:37.016277",
     "exception": false,
     "start_time": "2021-08-07T10:54:36.101813",
     "status": "completed"
    },
    "tags": []
   },
   "outputs": [],
   "source": [
    "df, le_encoded_cols = label_encoder(df, None)\n",
    "df = drop_application_columns(df)"
   ]
  },
  {
   "cell_type": "code",
   "execution_count": 17,
   "id": "4bec78e8",
   "metadata": {
    "execution": {
     "iopub.execute_input": "2021-08-07T10:54:37.180571Z",
     "iopub.status.busy": "2021-08-07T10:54:37.179543Z",
     "iopub.status.idle": "2021-08-07T10:54:37.243342Z",
     "shell.execute_reply": "2021-08-07T10:54:37.242867Z",
     "shell.execute_reply.started": "2021-08-07T09:06:40.580289Z"
    },
    "papermill": {
     "duration": 0.18411,
     "end_time": "2021-08-07T10:54:37.243472",
     "exception": false,
     "start_time": "2021-08-07T10:54:37.059362",
     "status": "completed"
    },
    "tags": []
   },
   "outputs": [],
   "source": [
    "df = pd.get_dummies(df)"
   ]
  },
  {
   "cell_type": "code",
   "execution_count": 18,
   "id": "de2c277e",
   "metadata": {
    "execution": {
     "iopub.execute_input": "2021-08-07T10:54:37.333699Z",
     "iopub.status.busy": "2021-08-07T10:54:37.333162Z",
     "iopub.status.idle": "2021-08-07T10:54:41.239483Z",
     "shell.execute_reply": "2021-08-07T10:54:41.238562Z",
     "shell.execute_reply.started": "2021-08-07T09:06:40.723960Z"
    },
    "papermill": {
     "duration": 3.95263,
     "end_time": "2021-08-07T10:54:41.239627",
     "exception": false,
     "start_time": "2021-08-07T10:54:37.286997",
     "status": "completed"
    },
    "tags": []
   },
   "outputs": [],
   "source": [
    "bureau = pd.read_csv(os.path.join(DATA_DIRECTORY, 'bureau.csv'))"
   ]
  },
  {
   "cell_type": "code",
   "execution_count": 19,
   "id": "39c212e9",
   "metadata": {
    "execution": {
     "iopub.execute_input": "2021-08-07T10:54:41.334051Z",
     "iopub.status.busy": "2021-08-07T10:54:41.332866Z",
     "iopub.status.idle": "2021-08-07T10:54:41.377172Z",
     "shell.execute_reply": "2021-08-07T10:54:41.376667Z",
     "shell.execute_reply.started": "2021-08-07T09:06:44.706011Z"
    },
    "papermill": {
     "duration": 0.093476,
     "end_time": "2021-08-07T10:54:41.377305",
     "exception": false,
     "start_time": "2021-08-07T10:54:41.283829",
     "status": "completed"
    },
    "tags": []
   },
   "outputs": [],
   "source": [
    "bureau['CREDIT_DURATION'] = -bureau['DAYS_CREDIT'] + bureau['DAYS_CREDIT_ENDDATE']\n",
    "bureau['ENDDATE_DIF'] = bureau['DAYS_CREDIT_ENDDATE'] - bureau['DAYS_ENDDATE_FACT']\n",
    "bureau['DEBT_PERCENTAGE'] = bureau['AMT_CREDIT_SUM'] / bureau['AMT_CREDIT_SUM_DEBT']\n",
    "bureau['DEBT_CREDIT_DIFF'] = bureau['AMT_CREDIT_SUM'] - bureau['AMT_CREDIT_SUM_DEBT']\n",
    "bureau['CREDIT_TO_ANNUITY_RATIO'] = bureau['AMT_CREDIT_SUM'] / bureau['AMT_ANNUITY']"
   ]
  },
  {
   "cell_type": "code",
   "execution_count": 20,
   "id": "d35a7275",
   "metadata": {
    "execution": {
     "iopub.execute_input": "2021-08-07T10:54:41.469940Z",
     "iopub.status.busy": "2021-08-07T10:54:41.468670Z",
     "iopub.status.idle": "2021-08-07T10:54:41.471074Z",
     "shell.execute_reply": "2021-08-07T10:54:41.471527Z",
     "shell.execute_reply.started": "2021-08-07T09:06:44.755250Z"
    },
    "papermill": {
     "duration": 0.051011,
     "end_time": "2021-08-07T10:54:41.471654",
     "exception": false,
     "start_time": "2021-08-07T10:54:41.420643",
     "status": "completed"
    },
    "tags": []
   },
   "outputs": [],
   "source": [
    "def one_hot_encoder(df, categorical_columns=None, nan_as_category=True):\n",
    "    original_columns = list(df.columns)\n",
    "    if not categorical_columns:\n",
    "        categorical_columns = [col for col in df.columns if df[col].dtype == 'object']\n",
    "    df = pd.get_dummies(df, columns=categorical_columns, dummy_na=nan_as_category)\n",
    "    categorical_columns = [c for c in df.columns if c not in original_columns]\n",
    "    return df, categorical_columns"
   ]
  },
  {
   "cell_type": "code",
   "execution_count": 21,
   "id": "e2309164",
   "metadata": {
    "execution": {
     "iopub.execute_input": "2021-08-07T10:54:41.566565Z",
     "iopub.status.busy": "2021-08-07T10:54:41.565832Z",
     "iopub.status.idle": "2021-08-07T10:54:41.569690Z",
     "shell.execute_reply": "2021-08-07T10:54:41.569209Z",
     "shell.execute_reply.started": "2021-08-07T09:06:44.765039Z"
    },
    "papermill": {
     "duration": 0.052118,
     "end_time": "2021-08-07T10:54:41.569807",
     "exception": false,
     "start_time": "2021-08-07T10:54:41.517689",
     "status": "completed"
    },
    "tags": []
   },
   "outputs": [],
   "source": [
    "def group(df_to_agg, prefix, aggregations, aggregate_by= 'SK_ID_CURR'):\n",
    "    agg_df = df_to_agg.groupby(aggregate_by).agg(aggregations)\n",
    "    agg_df.columns = pd.Index(['{}{}_{}'.format(prefix, e[0], e[1].upper())\n",
    "                               for e in agg_df.columns.tolist()])\n",
    "    return agg_df.reset_index()"
   ]
  },
  {
   "cell_type": "code",
   "execution_count": 22,
   "id": "93726e7e",
   "metadata": {
    "execution": {
     "iopub.execute_input": "2021-08-07T10:54:41.660993Z",
     "iopub.status.busy": "2021-08-07T10:54:41.660431Z",
     "iopub.status.idle": "2021-08-07T10:54:41.664587Z",
     "shell.execute_reply": "2021-08-07T10:54:41.664187Z",
     "shell.execute_reply.started": "2021-08-07T09:06:44.773113Z"
    },
    "papermill": {
     "duration": 0.051602,
     "end_time": "2021-08-07T10:54:41.664699",
     "exception": false,
     "start_time": "2021-08-07T10:54:41.613097",
     "status": "completed"
    },
    "tags": []
   },
   "outputs": [],
   "source": [
    "def group_and_merge(df_to_agg, df_to_merge, prefix, aggregations, aggregate_by= 'SK_ID_CURR'):\n",
    "    agg_df = group(df_to_agg, prefix, aggregations, aggregate_by= aggregate_by)\n",
    "    return df_to_merge.merge(agg_df, how='left', on= aggregate_by)"
   ]
  },
  {
   "cell_type": "code",
   "execution_count": 23,
   "id": "c6fa6dbc",
   "metadata": {
    "execution": {
     "iopub.execute_input": "2021-08-07T10:54:41.757851Z",
     "iopub.status.busy": "2021-08-07T10:54:41.756326Z",
     "iopub.status.idle": "2021-08-07T10:54:41.758569Z",
     "shell.execute_reply": "2021-08-07T10:54:41.758967Z",
     "shell.execute_reply.started": "2021-08-07T09:06:44.781515Z"
    },
    "papermill": {
     "duration": 0.05192,
     "end_time": "2021-08-07T10:54:41.759122",
     "exception": false,
     "start_time": "2021-08-07T10:54:41.707202",
     "status": "completed"
    },
    "tags": []
   },
   "outputs": [],
   "source": [
    "def get_bureau_balance(path, num_rows= None):\n",
    "    bb = pd.read_csv(os.path.join(path, 'bureau_balance.csv'))\n",
    "    bb, categorical_cols = one_hot_encoder(bb, nan_as_category= False)\n",
    "    # Calculate rate for each category with decay\n",
    "    bb_processed = bb.groupby('SK_ID_BUREAU')[categorical_cols].mean().reset_index()\n",
    "    # Min, Max, Count and mean duration of payments (months)\n",
    "    agg = {'MONTHS_BALANCE': ['min', 'max', 'mean', 'size']}\n",
    "    bb_processed = group_and_merge(bb, bb_processed, '', agg, 'SK_ID_BUREAU')\n",
    "    del bb; gc.collect()\n",
    "    return bb_processed"
   ]
  },
  {
   "cell_type": "code",
   "execution_count": 24,
   "id": "a06b9c0d",
   "metadata": {
    "execution": {
     "iopub.execute_input": "2021-08-07T10:54:41.852257Z",
     "iopub.status.busy": "2021-08-07T10:54:41.850921Z",
     "iopub.status.idle": "2021-08-07T10:55:00.556436Z",
     "shell.execute_reply": "2021-08-07T10:55:00.555803Z",
     "shell.execute_reply.started": "2021-08-07T09:06:44.790319Z"
    },
    "papermill": {
     "duration": 18.754483,
     "end_time": "2021-08-07T10:55:00.556602",
     "exception": false,
     "start_time": "2021-08-07T10:54:41.802119",
     "status": "completed"
    },
    "tags": []
   },
   "outputs": [],
   "source": [
    "bureau, categorical_cols = one_hot_encoder(bureau, nan_as_category= False)\n",
    "bureau = bureau.merge(get_bureau_balance(DATA_DIRECTORY), how='left', on='SK_ID_BUREAU')\n",
    "bureau['STATUS_12345'] = 0\n",
    "for i in range(1,6):\n",
    "    bureau['STATUS_12345'] += bureau['STATUS_{}'.format(i)]"
   ]
  },
  {
   "cell_type": "code",
   "execution_count": 25,
   "id": "83fbfe95",
   "metadata": {
    "execution": {
     "iopub.execute_input": "2021-08-07T10:55:00.651301Z",
     "iopub.status.busy": "2021-08-07T10:55:00.650230Z",
     "iopub.status.idle": "2021-08-07T10:55:02.526116Z",
     "shell.execute_reply": "2021-08-07T10:55:02.525682Z",
     "shell.execute_reply.started": "2021-08-07T09:07:03.059971Z"
    },
    "papermill": {
     "duration": 1.925731,
     "end_time": "2021-08-07T10:55:02.526240",
     "exception": false,
     "start_time": "2021-08-07T10:55:00.600509",
     "status": "completed"
    },
    "tags": []
   },
   "outputs": [
    {
     "data": {
      "text/plain": [
       "20"
      ]
     },
     "execution_count": 25,
     "metadata": {},
     "output_type": "execute_result"
    }
   ],
   "source": [
    "features = ['AMT_CREDIT_MAX_OVERDUE', 'AMT_CREDIT_SUM_OVERDUE', 'AMT_CREDIT_SUM',\n",
    "    'AMT_CREDIT_SUM_DEBT', 'DEBT_PERCENTAGE', 'DEBT_CREDIT_DIFF', 'STATUS_0', 'STATUS_12345']\n",
    "agg_length = bureau.groupby('MONTHS_BALANCE_SIZE')[features].mean().reset_index()\n",
    "agg_length.rename({feat: 'LL_' + feat for feat in features}, axis=1, inplace=True)\n",
    "bureau = bureau.merge(agg_length, how='left', on='MONTHS_BALANCE_SIZE')\n",
    "del agg_length; gc.collect()"
   ]
  },
  {
   "cell_type": "code",
   "execution_count": 26,
   "id": "fda4eeb9",
   "metadata": {
    "execution": {
     "iopub.execute_input": "2021-08-07T10:55:02.631597Z",
     "iopub.status.busy": "2021-08-07T10:55:02.630867Z",
     "iopub.status.idle": "2021-08-07T10:55:02.634381Z",
     "shell.execute_reply": "2021-08-07T10:55:02.633963Z",
     "shell.execute_reply.started": "2021-08-07T09:07:05.085609Z"
    },
    "papermill": {
     "duration": 0.06109,
     "end_time": "2021-08-07T10:55:02.634500",
     "exception": false,
     "start_time": "2021-08-07T10:55:02.573410",
     "status": "completed"
    },
    "tags": []
   },
   "outputs": [],
   "source": [
    "BUREAU_AGG = {\n",
    "    'SK_ID_BUREAU': ['nunique'],\n",
    "    'DAYS_CREDIT': ['min', 'max', 'mean'],\n",
    "    'DAYS_CREDIT_ENDDATE': ['min', 'max'],\n",
    "    'AMT_CREDIT_MAX_OVERDUE': ['max', 'mean'],\n",
    "    'AMT_CREDIT_SUM': ['max', 'mean', 'sum'],\n",
    "    'AMT_CREDIT_SUM_DEBT': ['max', 'mean', 'sum'],\n",
    "    'AMT_CREDIT_SUM_OVERDUE': ['max', 'mean', 'sum'],\n",
    "    'AMT_ANNUITY': ['mean'],\n",
    "    'DEBT_CREDIT_DIFF': ['mean', 'sum'],\n",
    "    'MONTHS_BALANCE_MEAN': ['mean', 'var'],\n",
    "    'MONTHS_BALANCE_SIZE': ['mean', 'sum'],\n",
    "    'STATUS_0': ['mean'],\n",
    "    'STATUS_1': ['mean'],\n",
    "    'STATUS_12345': ['mean'],\n",
    "    'STATUS_C': ['mean'],\n",
    "    'STATUS_X': ['mean'],\n",
    "    'CREDIT_ACTIVE_Active': ['mean'],\n",
    "    'CREDIT_ACTIVE_Closed': ['mean'],\n",
    "    'CREDIT_ACTIVE_Sold': ['mean'],\n",
    "    'CREDIT_TYPE_Consumer credit': ['mean'],\n",
    "    'CREDIT_TYPE_Credit card': ['mean'],\n",
    "    'CREDIT_TYPE_Car loan': ['mean'],\n",
    "    'CREDIT_TYPE_Mortgage': ['mean'],\n",
    "    'CREDIT_TYPE_Microloan': ['mean'],\n",
    "    'LL_AMT_CREDIT_SUM_OVERDUE': ['mean'],\n",
    "    'LL_DEBT_CREDIT_DIFF': ['mean'],\n",
    "    'LL_STATUS_12345': ['mean'],\n",
    "}\n",
    "\n",
    "BUREAU_ACTIVE_AGG = {\n",
    "    'DAYS_CREDIT': ['max', 'mean'],\n",
    "    'DAYS_CREDIT_ENDDATE': ['min', 'max'],\n",
    "    'AMT_CREDIT_MAX_OVERDUE': ['max', 'mean'],\n",
    "    'AMT_CREDIT_SUM': ['max', 'sum'],\n",
    "    'AMT_CREDIT_SUM_DEBT': ['mean', 'sum'],\n",
    "    'AMT_CREDIT_SUM_OVERDUE': ['max', 'mean'],\n",
    "    'DAYS_CREDIT_UPDATE': ['min', 'mean'],\n",
    "    'DEBT_PERCENTAGE': ['mean'],\n",
    "    'DEBT_CREDIT_DIFF': ['mean'],\n",
    "    'CREDIT_TO_ANNUITY_RATIO': ['mean'],\n",
    "    'MONTHS_BALANCE_MEAN': ['mean', 'var'],\n",
    "    'MONTHS_BALANCE_SIZE': ['mean', 'sum'],\n",
    "}\n",
    "\n",
    "BUREAU_CLOSED_AGG = {\n",
    "    'DAYS_CREDIT': ['max', 'var'],\n",
    "    'DAYS_CREDIT_ENDDATE': ['max'],\n",
    "    'AMT_CREDIT_MAX_OVERDUE': ['max', 'mean'],\n",
    "    'AMT_CREDIT_SUM_OVERDUE': ['mean'],\n",
    "    'AMT_CREDIT_SUM': ['max', 'mean', 'sum'],\n",
    "    'AMT_CREDIT_SUM_DEBT': ['max', 'sum'],\n",
    "    'DAYS_CREDIT_UPDATE': ['max'],\n",
    "    'ENDDATE_DIF': ['mean'],\n",
    "    'STATUS_12345': ['mean'],\n",
    "}\n",
    "\n",
    "BUREAU_LOAN_TYPE_AGG = {\n",
    "    'DAYS_CREDIT': ['mean', 'max'],\n",
    "    'AMT_CREDIT_MAX_OVERDUE': ['mean', 'max'],\n",
    "    'AMT_CREDIT_SUM': ['mean', 'max'],\n",
    "    'AMT_CREDIT_SUM_DEBT': ['mean', 'max'],\n",
    "    'DEBT_PERCENTAGE': ['mean'],\n",
    "    'DEBT_CREDIT_DIFF': ['mean'],\n",
    "    'DAYS_CREDIT_ENDDATE': ['max'],\n",
    "}\n",
    "\n",
    "BUREAU_TIME_AGG = {\n",
    "    'AMT_CREDIT_MAX_OVERDUE': ['max', 'mean'],\n",
    "    'AMT_CREDIT_SUM_OVERDUE': ['mean'],\n",
    "    'AMT_CREDIT_SUM': ['max', 'sum'],\n",
    "    'AMT_CREDIT_SUM_DEBT': ['mean', 'sum'],\n",
    "    'DEBT_PERCENTAGE': ['mean'],\n",
    "    'DEBT_CREDIT_DIFF': ['mean'],\n",
    "    'STATUS_0': ['mean'],\n",
    "    'STATUS_12345': ['mean'],\n",
    "}"
   ]
  },
  {
   "cell_type": "code",
   "execution_count": 27,
   "id": "feedd18f",
   "metadata": {
    "execution": {
     "iopub.execute_input": "2021-08-07T10:55:02.730990Z",
     "iopub.status.busy": "2021-08-07T10:55:02.730122Z",
     "iopub.status.idle": "2021-08-07T10:55:09.995262Z",
     "shell.execute_reply": "2021-08-07T10:55:09.994349Z",
     "shell.execute_reply.started": "2021-08-07T09:07:05.107556Z"
    },
    "papermill": {
     "duration": 7.317211,
     "end_time": "2021-08-07T10:55:09.995400",
     "exception": false,
     "start_time": "2021-08-07T10:55:02.678189",
     "status": "completed"
    },
    "tags": []
   },
   "outputs": [],
   "source": [
    "agg_bureau = group(bureau, 'BUREAU_', BUREAU_AGG)\n",
    "active = bureau[bureau['CREDIT_ACTIVE_Active'] == 1]\n",
    "agg_bureau = group_and_merge(active,agg_bureau,'BUREAU_ACTIVE_',BUREAU_ACTIVE_AGG)\n",
    "closed = bureau[bureau['CREDIT_ACTIVE_Closed'] == 1]\n",
    "agg_bureau = group_and_merge(closed,agg_bureau,'BUREAU_CLOSED_',BUREAU_CLOSED_AGG)\n",
    "del active, closed; gc.collect()\n",
    "for credit_type in ['Consumer credit', 'Credit card', 'Mortgage', 'Car loan', 'Microloan']:\n",
    "    type_df = bureau[bureau['CREDIT_TYPE_' + credit_type] == 1]\n",
    "    prefix = 'BUREAU_' + credit_type.split(' ')[0].upper() + '_'\n",
    "    agg_bureau = group_and_merge(type_df, agg_bureau, prefix, BUREAU_LOAN_TYPE_AGG)\n",
    "    del type_df; gc.collect()\n",
    "for time_frame in [6, 12]:\n",
    "    prefix = \"BUREAU_LAST{}M_\".format(time_frame)\n",
    "    time_frame_df = bureau[bureau['DAYS_CREDIT'] >= -30*time_frame]\n",
    "    agg_bureau = group_and_merge(time_frame_df, agg_bureau, prefix, BUREAU_TIME_AGG)\n",
    "    del time_frame_df; gc.collect()"
   ]
  },
  {
   "cell_type": "code",
   "execution_count": 28,
   "id": "d11d4ca1",
   "metadata": {
    "execution": {
     "iopub.execute_input": "2021-08-07T10:55:10.098039Z",
     "iopub.status.busy": "2021-08-07T10:55:10.096929Z",
     "iopub.status.idle": "2021-08-07T10:55:11.717224Z",
     "shell.execute_reply": "2021-08-07T10:55:11.716211Z",
     "shell.execute_reply.started": "2021-08-07T09:07:11.877618Z"
    },
    "papermill": {
     "duration": 1.676595,
     "end_time": "2021-08-07T10:55:11.717378",
     "exception": false,
     "start_time": "2021-08-07T10:55:10.040783",
     "status": "completed"
    },
    "tags": []
   },
   "outputs": [],
   "source": [
    "sort_bureau = bureau.sort_values(by=['DAYS_CREDIT'])\n",
    "gr = sort_bureau.groupby('SK_ID_CURR')['AMT_CREDIT_MAX_OVERDUE'].last().reset_index()\n",
    "gr.rename({'AMT_CREDIT_MAX_OVERDUE': 'BUREAU_LAST_LOAN_MAX_OVERDUE'}, inplace=True)\n",
    "agg_bureau = agg_bureau.merge(gr, on='SK_ID_CURR', how='left')\n",
    "agg_bureau['BUREAU_DEBT_OVER_CREDIT'] = \\\n",
    "    agg_bureau['BUREAU_AMT_CREDIT_SUM_DEBT_SUM']/agg_bureau['BUREAU_AMT_CREDIT_SUM_SUM']\n",
    "agg_bureau['BUREAU_ACTIVE_DEBT_OVER_CREDIT'] = \\\n",
    "    agg_bureau['BUREAU_ACTIVE_AMT_CREDIT_SUM_DEBT_SUM']/agg_bureau['BUREAU_ACTIVE_AMT_CREDIT_SUM_SUM']"
   ]
  },
  {
   "cell_type": "code",
   "execution_count": 29,
   "id": "cd14d04e",
   "metadata": {
    "execution": {
     "iopub.execute_input": "2021-08-07T10:55:11.817919Z",
     "iopub.status.busy": "2021-08-07T10:55:11.816167Z",
     "iopub.status.idle": "2021-08-07T10:55:12.725328Z",
     "shell.execute_reply": "2021-08-07T10:55:12.725816Z",
     "shell.execute_reply.started": "2021-08-07T09:07:13.519432Z"
    },
    "papermill": {
     "duration": 0.961366,
     "end_time": "2021-08-07T10:55:12.725977",
     "exception": false,
     "start_time": "2021-08-07T10:55:11.764611",
     "status": "completed"
    },
    "tags": []
   },
   "outputs": [
    {
     "data": {
      "text/plain": [
       "20"
      ]
     },
     "execution_count": 29,
     "metadata": {},
     "output_type": "execute_result"
    }
   ],
   "source": [
    "df = pd.merge(df, agg_bureau, on='SK_ID_CURR', how='left')\n",
    "del agg_bureau, bureau\n",
    "gc.collect()"
   ]
  },
  {
   "cell_type": "code",
   "execution_count": 30,
   "id": "af3b7adc",
   "metadata": {
    "execution": {
     "iopub.execute_input": "2021-08-07T10:55:12.826964Z",
     "iopub.status.busy": "2021-08-07T10:55:12.826333Z",
     "iopub.status.idle": "2021-08-07T10:55:40.436168Z",
     "shell.execute_reply": "2021-08-07T10:55:40.436776Z",
     "shell.execute_reply.started": "2021-08-07T09:07:14.543032Z"
    },
    "papermill": {
     "duration": 27.663598,
     "end_time": "2021-08-07T10:55:40.437097",
     "exception": false,
     "start_time": "2021-08-07T10:55:12.773499",
     "status": "completed"
    },
    "tags": []
   },
   "outputs": [],
   "source": [
    "prev = pd.read_csv(os.path.join(DATA_DIRECTORY, 'previous_application.csv'))\n",
    "pay = pd.read_csv(os.path.join(DATA_DIRECTORY, 'installments_payments.csv'))"
   ]
  },
  {
   "cell_type": "code",
   "execution_count": 31,
   "id": "51ba7e28",
   "metadata": {
    "execution": {
     "iopub.execute_input": "2021-08-07T10:55:40.607595Z",
     "iopub.status.busy": "2021-08-07T10:55:40.606661Z",
     "iopub.status.idle": "2021-08-07T10:55:40.619604Z",
     "shell.execute_reply": "2021-08-07T10:55:40.620055Z",
     "shell.execute_reply.started": "2021-08-07T09:07:41.285261Z"
    },
    "papermill": {
     "duration": 0.108364,
     "end_time": "2021-08-07T10:55:40.620239",
     "exception": false,
     "start_time": "2021-08-07T10:55:40.511875",
     "status": "completed"
    },
    "tags": []
   },
   "outputs": [],
   "source": [
    "PREVIOUS_AGG = {\n",
    "    'SK_ID_PREV': ['nunique'],\n",
    "    'AMT_ANNUITY': ['min', 'max', 'mean'],\n",
    "    'AMT_DOWN_PAYMENT': ['max', 'mean'],\n",
    "    'HOUR_APPR_PROCESS_START': ['min', 'max', 'mean'],\n",
    "    'RATE_DOWN_PAYMENT': ['max', 'mean'],\n",
    "    'DAYS_DECISION': ['min', 'max', 'mean'],\n",
    "    'CNT_PAYMENT': ['max', 'mean'],\n",
    "    'DAYS_TERMINATION': ['max'],\n",
    "    # Engineered features\n",
    "    'CREDIT_TO_ANNUITY_RATIO': ['mean', 'max'],\n",
    "    'APPLICATION_CREDIT_DIFF': ['min', 'max', 'mean'],\n",
    "    'APPLICATION_CREDIT_RATIO': ['min', 'max', 'mean', 'var'],\n",
    "    'DOWN_PAYMENT_TO_CREDIT': ['mean'],\n",
    "}\n",
    "\n",
    "PREVIOUS_ACTIVE_AGG = {\n",
    "    'SK_ID_PREV': ['nunique'],\n",
    "    'SIMPLE_INTERESTS': ['mean'],\n",
    "    'AMT_ANNUITY': ['max', 'sum'],\n",
    "    'AMT_APPLICATION': ['max', 'mean'],\n",
    "    'AMT_CREDIT': ['sum'],\n",
    "    'AMT_DOWN_PAYMENT': ['max', 'mean'],\n",
    "    'DAYS_DECISION': ['min', 'mean'],\n",
    "    'CNT_PAYMENT': ['mean', 'sum'],\n",
    "    'DAYS_LAST_DUE_1ST_VERSION': ['min', 'max', 'mean'],\n",
    "    # Engineered features\n",
    "    'AMT_PAYMENT': ['sum'],\n",
    "    'INSTALMENT_PAYMENT_DIFF': ['mean', 'max'],\n",
    "    'REMAINING_DEBT': ['max', 'mean', 'sum'],\n",
    "    'REPAYMENT_RATIO': ['mean'],\n",
    "}\n",
    "PREVIOUS_LATE_PAYMENTS_AGG = {\n",
    "    'DAYS_DECISION': ['min', 'max', 'mean'],\n",
    "    'DAYS_LAST_DUE_1ST_VERSION': ['min', 'max', 'mean'],\n",
    "    # Engineered features\n",
    "    'APPLICATION_CREDIT_DIFF': ['min'],\n",
    "    'NAME_CONTRACT_TYPE_Consumer loans': ['mean'],\n",
    "    'NAME_CONTRACT_TYPE_Cash loans': ['mean'],\n",
    "    'NAME_CONTRACT_TYPE_Revolving loans': ['mean'],\n",
    "}\n",
    "\n",
    "PREVIOUS_LOAN_TYPE_AGG = {\n",
    "    'AMT_CREDIT': ['sum'],\n",
    "    'AMT_ANNUITY': ['mean', 'max'],\n",
    "    'SIMPLE_INTERESTS': ['min', 'mean', 'max', 'var'],\n",
    "    'APPLICATION_CREDIT_DIFF': ['min', 'var'],\n",
    "    'APPLICATION_CREDIT_RATIO': ['min', 'max', 'mean'],\n",
    "    'DAYS_DECISION': ['max'],\n",
    "    'DAYS_LAST_DUE_1ST_VERSION': ['max', 'mean'],\n",
    "    'CNT_PAYMENT': ['mean'],\n",
    "}\n",
    "\n",
    "PREVIOUS_TIME_AGG = {\n",
    "    'AMT_CREDIT': ['sum'],\n",
    "    'AMT_ANNUITY': ['mean', 'max'],\n",
    "    'SIMPLE_INTERESTS': ['mean', 'max'],\n",
    "    'DAYS_DECISION': ['min', 'mean'],\n",
    "    'DAYS_LAST_DUE_1ST_VERSION': ['min', 'max', 'mean'],\n",
    "    # Engineered features\n",
    "    'APPLICATION_CREDIT_DIFF': ['min'],\n",
    "    'APPLICATION_CREDIT_RATIO': ['min', 'max', 'mean'],\n",
    "    'NAME_CONTRACT_TYPE_Consumer loans': ['mean'],\n",
    "    'NAME_CONTRACT_TYPE_Cash loans': ['mean'],\n",
    "    'NAME_CONTRACT_TYPE_Revolving loans': ['mean'],\n",
    "}\n",
    "\n",
    "PREVIOUS_APPROVED_AGG = {\n",
    "    'SK_ID_PREV': ['nunique'],\n",
    "    'AMT_ANNUITY': ['min', 'max', 'mean'],\n",
    "    'AMT_CREDIT': ['min', 'max', 'mean'],\n",
    "    'AMT_DOWN_PAYMENT': ['max'],\n",
    "    'AMT_GOODS_PRICE': ['max'],\n",
    "    'HOUR_APPR_PROCESS_START': ['min', 'max'],\n",
    "    'DAYS_DECISION': ['min', 'mean'],\n",
    "    'CNT_PAYMENT': ['max', 'mean'],\n",
    "    'DAYS_TERMINATION': ['mean'],\n",
    "    # Engineered features\n",
    "    'CREDIT_TO_ANNUITY_RATIO': ['mean', 'max'],\n",
    "    'APPLICATION_CREDIT_DIFF': ['max'],\n",
    "    'APPLICATION_CREDIT_RATIO': ['min', 'max', 'mean'],\n",
    "    # The following features are only for approved applications\n",
    "    'DAYS_FIRST_DRAWING': ['max', 'mean'],\n",
    "    'DAYS_FIRST_DUE': ['min', 'mean'],\n",
    "    'DAYS_LAST_DUE_1ST_VERSION': ['min', 'max', 'mean'],\n",
    "    'DAYS_LAST_DUE': ['max', 'mean'],\n",
    "    'DAYS_LAST_DUE_DIFF': ['min', 'max', 'mean'],\n",
    "    'SIMPLE_INTERESTS': ['min', 'max', 'mean'],\n",
    "}\n",
    "\n",
    "PREVIOUS_REFUSED_AGG = {\n",
    "    'AMT_APPLICATION': ['max', 'mean'],\n",
    "    'AMT_CREDIT': ['min', 'max'],\n",
    "    'DAYS_DECISION': ['min', 'max', 'mean'],\n",
    "    'CNT_PAYMENT': ['max', 'mean'],\n",
    "    # Engineered features\n",
    "    'APPLICATION_CREDIT_DIFF': ['min', 'max', 'mean', 'var'],\n",
    "    'APPLICATION_CREDIT_RATIO': ['min', 'mean'],\n",
    "    'NAME_CONTRACT_TYPE_Consumer loans': ['mean'],\n",
    "    'NAME_CONTRACT_TYPE_Cash loans': ['mean'],\n",
    "    'NAME_CONTRACT_TYPE_Revolving loans': ['mean'],\n",
    "}\n"
   ]
  },
  {
   "cell_type": "code",
   "execution_count": 32,
   "id": "6129a86f",
   "metadata": {
    "execution": {
     "iopub.execute_input": "2021-08-07T10:55:40.776068Z",
     "iopub.status.busy": "2021-08-07T10:55:40.775283Z",
     "iopub.status.idle": "2021-08-07T10:55:42.800254Z",
     "shell.execute_reply": "2021-08-07T10:55:42.800672Z",
     "shell.execute_reply.started": "2021-08-07T09:07:41.303005Z"
    },
    "papermill": {
     "duration": 2.109636,
     "end_time": "2021-08-07T10:55:42.800825",
     "exception": false,
     "start_time": "2021-08-07T10:55:40.691189",
     "status": "completed"
    },
    "tags": []
   },
   "outputs": [],
   "source": [
    "ohe_columns = [\n",
    "    'NAME_CONTRACT_STATUS', 'NAME_CONTRACT_TYPE', 'CHANNEL_TYPE',\n",
    "    'NAME_TYPE_SUITE', 'NAME_YIELD_GROUP', 'PRODUCT_COMBINATION',\n",
    "    'NAME_PRODUCT_TYPE', 'NAME_CLIENT_TYPE']\n",
    "prev, categorical_cols = one_hot_encoder(prev, ohe_columns, nan_as_category= False)"
   ]
  },
  {
   "cell_type": "code",
   "execution_count": 33,
   "id": "67e866bc",
   "metadata": {
    "execution": {
     "iopub.execute_input": "2021-08-07T10:55:42.899810Z",
     "iopub.status.busy": "2021-08-07T10:55:42.897996Z",
     "iopub.status.idle": "2021-08-07T10:55:42.942258Z",
     "shell.execute_reply": "2021-08-07T10:55:42.942756Z",
     "shell.execute_reply.started": "2021-08-07T09:07:43.217046Z"
    },
    "papermill": {
     "duration": 0.098022,
     "end_time": "2021-08-07T10:55:42.942909",
     "exception": false,
     "start_time": "2021-08-07T10:55:42.844887",
     "status": "completed"
    },
    "tags": []
   },
   "outputs": [],
   "source": [
    "prev['APPLICATION_CREDIT_DIFF'] = prev['AMT_APPLICATION'] - prev['AMT_CREDIT']\n",
    "prev['APPLICATION_CREDIT_RATIO'] = prev['AMT_APPLICATION'] / prev['AMT_CREDIT']\n",
    "prev['CREDIT_TO_ANNUITY_RATIO'] = prev['AMT_CREDIT']/prev['AMT_ANNUITY']\n",
    "prev['DOWN_PAYMENT_TO_CREDIT'] = prev['AMT_DOWN_PAYMENT'] / prev['AMT_CREDIT']\n",
    "total_payment = prev['AMT_ANNUITY'] * prev['CNT_PAYMENT']\n",
    "prev['SIMPLE_INTERESTS'] = (total_payment/prev['AMT_CREDIT'] - 1)/prev['CNT_PAYMENT']"
   ]
  },
  {
   "cell_type": "code",
   "execution_count": 34,
   "id": "b23201ff",
   "metadata": {
    "execution": {
     "iopub.execute_input": "2021-08-07T10:55:43.039339Z",
     "iopub.status.busy": "2021-08-07T10:55:43.038474Z",
     "iopub.status.idle": "2021-08-07T10:55:45.184825Z",
     "shell.execute_reply": "2021-08-07T10:55:45.185245Z",
     "shell.execute_reply.started": "2021-08-07T09:07:43.270786Z"
    },
    "papermill": {
     "duration": 2.198155,
     "end_time": "2021-08-07T10:55:45.185391",
     "exception": false,
     "start_time": "2021-08-07T10:55:42.987236",
     "status": "completed"
    },
    "tags": []
   },
   "outputs": [
    {
     "data": {
      "text/plain": [
       "0"
      ]
     },
     "execution_count": 34,
     "metadata": {},
     "output_type": "execute_result"
    }
   ],
   "source": [
    "approved = prev[prev['NAME_CONTRACT_STATUS_Approved'] == 1]\n",
    "active_df = approved[approved['DAYS_LAST_DUE'] == 365243]\n",
    "active_pay = pay[pay['SK_ID_PREV'].isin(active_df['SK_ID_PREV'])]\n",
    "active_pay_agg = active_pay.groupby('SK_ID_PREV')[['AMT_INSTALMENT', 'AMT_PAYMENT']].sum()\n",
    "active_pay_agg.reset_index(inplace= True)\n",
    "active_pay_agg['INSTALMENT_PAYMENT_DIFF'] = active_pay_agg['AMT_INSTALMENT'] - active_pay_agg['AMT_PAYMENT']\n",
    "active_df = active_df.merge(active_pay_agg, on= 'SK_ID_PREV', how= 'left')\n",
    "active_df['REMAINING_DEBT'] = active_df['AMT_CREDIT'] - active_df['AMT_PAYMENT']\n",
    "active_df['REPAYMENT_RATIO'] = active_df['AMT_PAYMENT'] / active_df['AMT_CREDIT']\n",
    "active_agg_df = group(active_df, 'PREV_ACTIVE_', PREVIOUS_ACTIVE_AGG)\n",
    "active_agg_df['TOTAL_REPAYMENT_RATIO'] = active_agg_df['PREV_ACTIVE_AMT_PAYMENT_SUM']/\\\n",
    "                                            active_agg_df['PREV_ACTIVE_AMT_CREDIT_SUM']\n",
    "del active_pay, active_pay_agg, active_df; gc.collect()"
   ]
  },
  {
   "cell_type": "code",
   "execution_count": 35,
   "id": "d34e0788",
   "metadata": {
    "execution": {
     "iopub.execute_input": "2021-08-07T10:55:45.278858Z",
     "iopub.status.busy": "2021-08-07T10:55:45.277999Z",
     "iopub.status.idle": "2021-08-07T10:55:45.307725Z",
     "shell.execute_reply": "2021-08-07T10:55:45.307299Z",
     "shell.execute_reply.started": "2021-08-07T09:07:45.499266Z"
    },
    "papermill": {
     "duration": 0.078378,
     "end_time": "2021-08-07T10:55:45.307842",
     "exception": false,
     "start_time": "2021-08-07T10:55:45.229464",
     "status": "completed"
    },
    "tags": []
   },
   "outputs": [],
   "source": [
    "prev['DAYS_FIRST_DRAWING'].replace(365243, np.nan, inplace= True)\n",
    "prev['DAYS_FIRST_DUE'].replace(365243, np.nan, inplace= True)\n",
    "prev['DAYS_LAST_DUE_1ST_VERSION'].replace(365243, np.nan, inplace= True)\n",
    "prev['DAYS_LAST_DUE'].replace(365243, np.nan, inplace= True)\n",
    "prev['DAYS_TERMINATION'].replace(365243, np.nan, inplace= True)"
   ]
  },
  {
   "cell_type": "code",
   "execution_count": 36,
   "id": "1aba0709",
   "metadata": {
    "execution": {
     "iopub.execute_input": "2021-08-07T10:55:45.404843Z",
     "iopub.status.busy": "2021-08-07T10:55:45.403275Z",
     "iopub.status.idle": "2021-08-07T10:55:45.414848Z",
     "shell.execute_reply": "2021-08-07T10:55:45.415285Z",
     "shell.execute_reply.started": "2021-08-07T09:07:45.533909Z"
    },
    "papermill": {
     "duration": 0.063616,
     "end_time": "2021-08-07T10:55:45.415432",
     "exception": false,
     "start_time": "2021-08-07T10:55:45.351816",
     "status": "completed"
    },
    "tags": []
   },
   "outputs": [
    {
     "name": "stderr",
     "output_type": "stream",
     "text": [
      "/opt/conda/lib/python3.7/site-packages/ipykernel_launcher.py:2: SettingWithCopyWarning: \n",
      "A value is trying to be set on a copy of a slice from a DataFrame.\n",
      "Try using .loc[row_indexer,col_indexer] = value instead\n",
      "\n",
      "See the caveats in the documentation: https://pandas.pydata.org/pandas-docs/stable/user_guide/indexing.html#returning-a-view-versus-a-copy\n",
      "  \n"
     ]
    }
   ],
   "source": [
    "prev['DAYS_LAST_DUE_DIFF'] = prev['DAYS_LAST_DUE_1ST_VERSION'] - prev['DAYS_LAST_DUE']\n",
    "approved['DAYS_LAST_DUE_DIFF'] = approved['DAYS_LAST_DUE_1ST_VERSION'] - approved['DAYS_LAST_DUE']"
   ]
  },
  {
   "cell_type": "code",
   "execution_count": 37,
   "id": "e2605450",
   "metadata": {
    "execution": {
     "iopub.execute_input": "2021-08-07T10:55:45.509387Z",
     "iopub.status.busy": "2021-08-07T10:55:45.508787Z",
     "iopub.status.idle": "2021-08-07T10:55:45.512789Z",
     "shell.execute_reply": "2021-08-07T10:55:45.512376Z",
     "shell.execute_reply.started": "2021-08-07T09:07:45.554596Z"
    },
    "papermill": {
     "duration": 0.052845,
     "end_time": "2021-08-07T10:55:45.512900",
     "exception": false,
     "start_time": "2021-08-07T10:55:45.460055",
     "status": "completed"
    },
    "tags": []
   },
   "outputs": [],
   "source": [
    "categorical_agg = {key: ['mean'] for key in categorical_cols}"
   ]
  },
  {
   "cell_type": "code",
   "execution_count": 38,
   "id": "e3dcd43c",
   "metadata": {
    "execution": {
     "iopub.execute_input": "2021-08-07T10:55:45.607499Z",
     "iopub.status.busy": "2021-08-07T10:55:45.606720Z",
     "iopub.status.idle": "2021-08-07T10:55:49.270659Z",
     "shell.execute_reply": "2021-08-07T10:55:49.270226Z",
     "shell.execute_reply.started": "2021-08-07T09:07:45.561014Z"
    },
    "papermill": {
     "duration": 3.71383,
     "end_time": "2021-08-07T10:55:49.270781",
     "exception": false,
     "start_time": "2021-08-07T10:55:45.556951",
     "status": "completed"
    },
    "tags": []
   },
   "outputs": [
    {
     "data": {
      "text/plain": [
       "0"
      ]
     },
     "execution_count": 38,
     "metadata": {},
     "output_type": "execute_result"
    }
   ],
   "source": [
    "agg_prev = group(prev, 'PREV_', {**PREVIOUS_AGG, **categorical_agg})\n",
    "agg_prev = agg_prev.merge(active_agg_df, how='left', on='SK_ID_CURR')\n",
    "del active_agg_df; gc.collect()"
   ]
  },
  {
   "cell_type": "code",
   "execution_count": 39,
   "id": "a278e64d",
   "metadata": {
    "execution": {
     "iopub.execute_input": "2021-08-07T10:55:49.365904Z",
     "iopub.status.busy": "2021-08-07T10:55:49.365100Z",
     "iopub.status.idle": "2021-08-07T10:55:52.023163Z",
     "shell.execute_reply": "2021-08-07T10:55:52.022290Z",
     "shell.execute_reply.started": "2021-08-07T09:07:49.210745Z"
    },
    "papermill": {
     "duration": 2.707995,
     "end_time": "2021-08-07T10:55:52.023303",
     "exception": false,
     "start_time": "2021-08-07T10:55:49.315308",
     "status": "completed"
    },
    "tags": []
   },
   "outputs": [
    {
     "data": {
      "text/plain": [
       "0"
      ]
     },
     "execution_count": 39,
     "metadata": {},
     "output_type": "execute_result"
    }
   ],
   "source": [
    "agg_prev = group_and_merge(approved, agg_prev, 'APPROVED_', PREVIOUS_APPROVED_AGG)\n",
    "refused = prev[prev['NAME_CONTRACT_STATUS_Refused'] == 1]\n",
    "agg_prev = group_and_merge(refused, agg_prev, 'REFUSED_', PREVIOUS_REFUSED_AGG)\n",
    "del approved, refused; gc.collect()"
   ]
  },
  {
   "cell_type": "code",
   "execution_count": 40,
   "id": "da615d8d",
   "metadata": {
    "execution": {
     "iopub.execute_input": "2021-08-07T10:55:52.121892Z",
     "iopub.status.busy": "2021-08-07T10:55:52.121077Z",
     "iopub.status.idle": "2021-08-07T10:55:54.268867Z",
     "shell.execute_reply": "2021-08-07T10:55:54.269386Z",
     "shell.execute_reply.started": "2021-08-07T09:07:51.684288Z"
    },
    "papermill": {
     "duration": 2.200979,
     "end_time": "2021-08-07T10:55:54.269579",
     "exception": false,
     "start_time": "2021-08-07T10:55:52.068600",
     "status": "completed"
    },
    "tags": []
   },
   "outputs": [],
   "source": [
    "for loan_type in ['Consumer loans', 'Cash loans']:\n",
    "    type_df = prev[prev['NAME_CONTRACT_TYPE_{}'.format(loan_type)] == 1]\n",
    "    prefix = 'PREV_' + loan_type.split(\" \")[0] + '_'\n",
    "    agg_prev = group_and_merge(type_df, agg_prev, prefix, PREVIOUS_LOAN_TYPE_AGG)\n",
    "    del type_df; gc.collect()"
   ]
  },
  {
   "cell_type": "code",
   "execution_count": 41,
   "id": "af775ae8",
   "metadata": {
    "execution": {
     "iopub.execute_input": "2021-08-07T10:55:54.379043Z",
     "iopub.status.busy": "2021-08-07T10:55:54.377867Z",
     "iopub.status.idle": "2021-08-07T10:56:03.029487Z",
     "shell.execute_reply": "2021-08-07T10:56:03.029000Z",
     "shell.execute_reply.started": "2021-08-07T09:07:53.806779Z"
    },
    "papermill": {
     "duration": 8.707743,
     "end_time": "2021-08-07T10:56:03.029620",
     "exception": false,
     "start_time": "2021-08-07T10:55:54.321877",
     "status": "completed"
    },
    "tags": []
   },
   "outputs": [],
   "source": [
    "pay['LATE_PAYMENT'] = pay['DAYS_ENTRY_PAYMENT'] - pay['DAYS_INSTALMENT']\n",
    "pay['LATE_PAYMENT'] = pay['LATE_PAYMENT'].apply(lambda x: 1 if x > 0 else 0)\n",
    "dpd_id = pay[pay['LATE_PAYMENT'] > 0]['SK_ID_PREV'].unique()"
   ]
  },
  {
   "cell_type": "code",
   "execution_count": 42,
   "id": "da8a38fd",
   "metadata": {
    "execution": {
     "iopub.execute_input": "2021-08-07T10:56:03.125414Z",
     "iopub.status.busy": "2021-08-07T10:56:03.124656Z",
     "iopub.status.idle": "2021-08-07T10:56:03.816172Z",
     "shell.execute_reply": "2021-08-07T10:56:03.816597Z",
     "shell.execute_reply.started": "2021-08-07T09:08:03.252011Z"
    },
    "papermill": {
     "duration": 0.740766,
     "end_time": "2021-08-07T10:56:03.816741",
     "exception": false,
     "start_time": "2021-08-07T10:56:03.075975",
     "status": "completed"
    },
    "tags": []
   },
   "outputs": [
    {
     "data": {
      "text/plain": [
       "0"
      ]
     },
     "execution_count": 42,
     "metadata": {},
     "output_type": "execute_result"
    }
   ],
   "source": [
    "agg_dpd = group_and_merge(prev[prev['SK_ID_PREV'].isin(dpd_id)], agg_prev,\n",
    "                                    'PREV_LATE_', PREVIOUS_LATE_PAYMENTS_AGG)\n",
    "del agg_dpd, dpd_id; gc.collect()"
   ]
  },
  {
   "cell_type": "code",
   "execution_count": 43,
   "id": "b62facac",
   "metadata": {
    "execution": {
     "iopub.execute_input": "2021-08-07T10:56:03.914411Z",
     "iopub.status.busy": "2021-08-07T10:56:03.913659Z",
     "iopub.status.idle": "2021-08-07T10:56:06.293804Z",
     "shell.execute_reply": "2021-08-07T10:56:06.294301Z",
     "shell.execute_reply.started": "2021-08-07T09:08:03.981028Z"
    },
    "papermill": {
     "duration": 2.432684,
     "end_time": "2021-08-07T10:56:06.294464",
     "exception": false,
     "start_time": "2021-08-07T10:56:03.861780",
     "status": "completed"
    },
    "tags": []
   },
   "outputs": [
    {
     "data": {
      "text/plain": [
       "0"
      ]
     },
     "execution_count": 43,
     "metadata": {},
     "output_type": "execute_result"
    }
   ],
   "source": [
    "for time_frame in [12, 24]:\n",
    "    time_frame_df = prev[prev['DAYS_DECISION'] >= -30*time_frame]\n",
    "    prefix = 'PREV_LAST{}M_'.format(time_frame)\n",
    "    agg_prev = group_and_merge(time_frame_df, agg_prev, prefix, PREVIOUS_TIME_AGG)\n",
    "    del time_frame_df; gc.collect()\n",
    "del prev; gc.collect()"
   ]
  },
  {
   "cell_type": "code",
   "execution_count": 44,
   "id": "80592934",
   "metadata": {
    "execution": {
     "iopub.execute_input": "2021-08-07T10:56:06.394560Z",
     "iopub.status.busy": "2021-08-07T10:56:06.393013Z",
     "iopub.status.idle": "2021-08-07T10:56:08.435729Z",
     "shell.execute_reply": "2021-08-07T10:56:08.436149Z",
     "shell.execute_reply.started": "2021-08-07T09:08:06.352241Z"
    },
    "papermill": {
     "duration": 2.093102,
     "end_time": "2021-08-07T10:56:08.436310",
     "exception": false,
     "start_time": "2021-08-07T10:56:06.343208",
     "status": "completed"
    },
    "tags": []
   },
   "outputs": [],
   "source": [
    "df = pd.merge(df, agg_prev, on='SK_ID_CURR', how='left')"
   ]
  },
  {
   "cell_type": "code",
   "execution_count": 45,
   "id": "503dd7e4",
   "metadata": {
    "execution": {
     "iopub.execute_input": "2021-08-07T10:56:08.544269Z",
     "iopub.status.busy": "2021-08-07T10:56:08.543375Z",
     "iopub.status.idle": "2021-08-07T10:56:09.937523Z",
     "shell.execute_reply": "2021-08-07T10:56:09.937935Z",
     "shell.execute_reply.started": "2021-08-07T09:08:08.407982Z"
    },
    "papermill": {
     "duration": 1.444996,
     "end_time": "2021-08-07T10:56:09.938073",
     "exception": false,
     "start_time": "2021-08-07T10:56:08.493077",
     "status": "completed"
    },
    "tags": []
   },
   "outputs": [
    {
     "data": {
      "text/plain": [
       "40"
      ]
     },
     "execution_count": 45,
     "metadata": {},
     "output_type": "execute_result"
    }
   ],
   "source": [
    "train = df[df['TARGET'].notnull()]\n",
    "test = df[df['TARGET'].isnull()]\n",
    "del df\n",
    "del agg_prev\n",
    "gc.collect()"
   ]
  },
  {
   "cell_type": "code",
   "execution_count": 46,
   "id": "02f507ef",
   "metadata": {
    "execution": {
     "iopub.execute_input": "2021-08-07T10:56:10.392240Z",
     "iopub.status.busy": "2021-08-07T10:56:10.390708Z",
     "iopub.status.idle": "2021-08-07T10:56:10.393052Z",
     "shell.execute_reply": "2021-08-07T10:56:10.393502Z",
     "shell.execute_reply.started": "2021-08-07T09:08:10.030096Z"
    },
    "papermill": {
     "duration": 0.409972,
     "end_time": "2021-08-07T10:56:10.393650",
     "exception": false,
     "start_time": "2021-08-07T10:56:09.983678",
     "status": "completed"
    },
    "tags": []
   },
   "outputs": [],
   "source": [
    "labels = train['TARGET']\n",
    "test_lebels=test['TARGET']\n",
    "train = train.drop(columns=['TARGET'])\n",
    "test = test.drop(columns=['TARGET'])"
   ]
  },
  {
   "cell_type": "code",
   "execution_count": 47,
   "id": "b6d702f2",
   "metadata": {
    "execution": {
     "iopub.execute_input": "2021-08-07T10:56:10.492909Z",
     "iopub.status.busy": "2021-08-07T10:56:10.491409Z",
     "iopub.status.idle": "2021-08-07T10:56:11.607934Z",
     "shell.execute_reply": "2021-08-07T10:56:11.608346Z",
     "shell.execute_reply.started": "2021-08-07T09:08:10.387454Z"
    },
    "papermill": {
     "duration": 1.169254,
     "end_time": "2021-08-07T10:56:11.608513",
     "exception": false,
     "start_time": "2021-08-07T10:56:10.439259",
     "status": "completed"
    },
    "tags": []
   },
   "outputs": [],
   "source": [
    "feature = list(train.columns)\n",
    "\n",
    "train.replace([np.inf, -np.inf], np.nan, inplace=True)\n",
    "test.replace([np.inf, -np.inf], np.nan, inplace=True)\n",
    "test_df = test.copy()\n",
    "train_df = train.copy()\n",
    "train_df['TARGET'] = labels\n",
    "test_df['TARGET'] = test_lebels"
   ]
  },
  {
   "cell_type": "code",
   "execution_count": null,
   "id": "a65668f2",
   "metadata": {
    "papermill": {
     "duration": 0.045536,
     "end_time": "2021-08-07T10:56:11.700113",
     "exception": false,
     "start_time": "2021-08-07T10:56:11.654577",
     "status": "completed"
    },
    "tags": []
   },
   "outputs": [],
   "source": []
  },
  {
   "cell_type": "code",
   "execution_count": 48,
   "id": "7d4d90ab",
   "metadata": {
    "execution": {
     "iopub.execute_input": "2021-08-07T10:56:11.802530Z",
     "iopub.status.busy": "2021-08-07T10:56:11.801435Z",
     "iopub.status.idle": "2021-08-07T10:56:39.821549Z",
     "shell.execute_reply": "2021-08-07T10:56:39.821944Z",
     "shell.execute_reply.started": "2021-08-07T09:08:11.634020Z"
    },
    "papermill": {
     "duration": 28.076179,
     "end_time": "2021-08-07T10:56:39.822144",
     "exception": false,
     "start_time": "2021-08-07T10:56:11.745965",
     "status": "completed"
    },
    "tags": []
   },
   "outputs": [
    {
     "data": {
      "text/plain": [
       "60"
      ]
     },
     "execution_count": 48,
     "metadata": {},
     "output_type": "execute_result"
    }
   ],
   "source": [
    "imputer = SimpleImputer(strategy = 'median')\n",
    "imputer.fit(train)\n",
    "imputer.fit(test)\n",
    "train1 = imputer.transform(train)\n",
    "test1 = imputer.transform(test)\n",
    "del train\n",
    "del test\n",
    "gc.collect()"
   ]
  },
  {
   "cell_type": "code",
   "execution_count": 49,
   "id": "ba5b4293",
   "metadata": {
    "execution": {
     "iopub.execute_input": "2021-08-07T10:56:39.920733Z",
     "iopub.status.busy": "2021-08-07T10:56:39.919807Z",
     "iopub.status.idle": "2021-08-07T10:56:41.231648Z",
     "shell.execute_reply": "2021-08-07T10:56:41.232019Z",
     "shell.execute_reply.started": "2021-08-07T09:08:39.708858Z"
    },
    "papermill": {
     "duration": 1.363221,
     "end_time": "2021-08-07T10:56:41.232188",
     "exception": false,
     "start_time": "2021-08-07T10:56:39.868967",
     "status": "completed"
    },
    "tags": []
   },
   "outputs": [
    {
     "data": {
      "text/plain": [
       "20"
      ]
     },
     "execution_count": 49,
     "metadata": {},
     "output_type": "execute_result"
    }
   ],
   "source": [
    "scaler = MinMaxScaler(feature_range = (0, 1))\n",
    "scaler.fit(train1)\n",
    "scaler.fit(test1)\n",
    "train = scaler.transform(train1)\n",
    "test = scaler.transform(test1)\n",
    "del train1\n",
    "del test1\n",
    "gc.collect()"
   ]
  },
  {
   "cell_type": "code",
   "execution_count": 50,
   "id": "1c261493",
   "metadata": {
    "execution": {
     "iopub.execute_input": "2021-08-07T10:56:41.332363Z",
     "iopub.status.busy": "2021-08-07T10:56:41.331464Z",
     "iopub.status.idle": "2021-08-07T10:56:41.334147Z",
     "shell.execute_reply": "2021-08-07T10:56:41.333698Z",
     "shell.execute_reply.started": "2021-08-07T09:08:41.069485Z"
    },
    "papermill": {
     "duration": 0.055444,
     "end_time": "2021-08-07T10:56:41.334259",
     "exception": false,
     "start_time": "2021-08-07T10:56:41.278815",
     "status": "completed"
    },
    "tags": []
   },
   "outputs": [],
   "source": [
    "# Model Class to be used for different ML algorithms\n",
    "class ClassifierModel(object):\n",
    "    def __init__(self, clf, params=None):\n",
    "        self.clf = clf(**params)\n",
    "\n",
    "    def train(self, x_train, y_train):\n",
    "        self.clf.fit(x_train, y_train)\n",
    "    \n",
    "    def fit(self,x,y):\n",
    "        return self.clf.fit(x,y)\n",
    "    \n",
    "    def feature_importances(self,x,y):\n",
    "        return self.clf.fit(x,y).feature_importances_\n",
    "    \n",
    "    def predict(self, x):\n",
    "        return self.clf.predict(x)"
   ]
  },
  {
   "cell_type": "code",
   "execution_count": 51,
   "id": "ef26f850",
   "metadata": {
    "execution": {
     "iopub.execute_input": "2021-08-07T10:56:41.432125Z",
     "iopub.status.busy": "2021-08-07T10:56:41.431313Z",
     "iopub.status.idle": "2021-08-07T10:56:41.433877Z",
     "shell.execute_reply": "2021-08-07T10:56:41.433485Z",
     "shell.execute_reply.started": "2021-08-07T09:08:41.077659Z"
    },
    "papermill": {
     "duration": 0.053579,
     "end_time": "2021-08-07T10:56:41.433998",
     "exception": false,
     "start_time": "2021-08-07T10:56:41.380419",
     "status": "completed"
    },
    "tags": []
   },
   "outputs": [],
   "source": [
    "def trainModel(model, x_train, y_train, x_test, n_folds, seed):\n",
    "    cv = KFold(n_splits= n_folds, random_state=seed)\n",
    "    scores = cross_val_score(model.clf, x_train, y_train, scoring='accuracy', cv=cv, n_jobs=-1)\n",
    "    y_pred = cross_val_predict(model.clf, x_train, y_train, cv=cv, n_jobs=-1)\n",
    "    return scores, y_pred"
   ]
  },
  {
   "cell_type": "markdown",
   "id": "02ce4304",
   "metadata": {
    "papermill": {
     "duration": 0.04599,
     "end_time": "2021-08-07T10:56:41.526013",
     "exception": false,
     "start_time": "2021-08-07T10:56:41.480023",
     "status": "completed"
    },
    "tags": []
   },
   "source": [
    "# **Ensabmle Model-2 (GB+logistic+SVM)**"
   ]
  },
  {
   "cell_type": "code",
   "execution_count": 52,
   "id": "a9f65f71",
   "metadata": {
    "execution": {
     "iopub.execute_input": "2021-08-07T10:56:41.623712Z",
     "iopub.status.busy": "2021-08-07T10:56:41.622965Z",
     "iopub.status.idle": "2021-08-07T10:56:41.669784Z",
     "shell.execute_reply": "2021-08-07T10:56:41.669329Z",
     "shell.execute_reply.started": "2021-08-07T09:08:41.087387Z"
    },
    "papermill": {
     "duration": 0.097474,
     "end_time": "2021-08-07T10:56:41.669898",
     "exception": false,
     "start_time": "2021-08-07T10:56:41.572424",
     "status": "completed"
    },
    "tags": []
   },
   "outputs": [],
   "source": [
    "from sklearn.ensemble import GradientBoostingClassifier\n",
    "from sklearn.linear_model import LogisticRegression\n",
    "from sklearn.svm import SVC\n",
    "from sklearn.model_selection import KFold\n",
    "from sklearn.model_selection import cross_val_score\n",
    "from sklearn.model_selection import cross_val_predict"
   ]
  },
  {
   "cell_type": "code",
   "execution_count": 53,
   "id": "1466ae81",
   "metadata": {
    "execution": {
     "iopub.execute_input": "2021-08-07T10:56:41.768706Z",
     "iopub.status.busy": "2021-08-07T10:56:41.768110Z",
     "iopub.status.idle": "2021-08-07T12:19:00.862930Z",
     "shell.execute_reply": "2021-08-07T12:19:00.863371Z",
     "shell.execute_reply.started": "2021-08-07T09:08:41.097870Z"
    },
    "papermill": {
     "duration": 4939.147044,
     "end_time": "2021-08-07T12:19:00.863520",
     "exception": false,
     "start_time": "2021-08-07T10:56:41.716476",
     "status": "completed"
    },
    "tags": []
   },
   "outputs": [
    {
     "data": {
      "text/plain": [
       "array([0.91990504, 0.91726964, 0.91889563, 0.91974114, 0.92060292])"
      ]
     },
     "execution_count": 53,
     "metadata": {},
     "output_type": "execute_result"
    }
   ],
   "source": [
    "gb_params = {\n",
    "    'n_estimators': 100,\n",
    "    'max_depth': 1\n",
    "}\n",
    "\n",
    "gb_model = ClassifierModel(clf=GradientBoostingClassifier,params=gb_params)\n",
    "gb_scores, gb_train_pred = trainModel(gb_model,train, labels, test, 5, None) \n",
    "gb_scores"
   ]
  },
  {
   "cell_type": "code",
   "execution_count": 54,
   "id": "20b13d72",
   "metadata": {
    "execution": {
     "iopub.execute_input": "2021-08-07T12:19:00.963043Z",
     "iopub.status.busy": "2021-08-07T12:19:00.962230Z",
     "iopub.status.idle": "2021-08-07T12:20:28.823927Z",
     "shell.execute_reply": "2021-08-07T12:20:28.824406Z",
     "shell.execute_reply.started": "2021-08-07T10:32:00.344073Z"
    },
    "papermill": {
     "duration": 87.913819,
     "end_time": "2021-08-07T12:20:28.824565",
     "exception": false,
     "start_time": "2021-08-07T12:19:00.910746",
     "status": "completed"
    },
    "tags": []
   },
   "outputs": [
    {
     "data": {
      "text/plain": [
       "array([0.91990504, 0.91726964, 0.91892815, 0.91972488, 0.92063544])"
      ]
     },
     "execution_count": 54,
     "metadata": {},
     "output_type": "execute_result"
    }
   ],
   "source": [
    "lg_params = {\n",
    "    'penalty': 'l1',\n",
    "    'solver' : 'saga',\n",
    "    'tol' :0.1\n",
    "}\n",
    "\n",
    "lg_model = ClassifierModel(clf=LogisticRegression,params=lg_params)\n",
    "lg_scores, lg_train_pred = trainModel(lg_model,train, labels, test, 5, None) \n",
    "lg_scores"
   ]
  },
  {
   "cell_type": "code",
   "execution_count": null,
   "id": "f3ea345a",
   "metadata": {
    "papermill": {
     "duration": 0.050545,
     "end_time": "2021-08-07T12:20:28.925892",
     "exception": false,
     "start_time": "2021-08-07T12:20:28.875347",
     "status": "completed"
    },
    "tags": []
   },
   "outputs": [],
   "source": []
  },
  {
   "cell_type": "code",
   "execution_count": 55,
   "id": "42df4665",
   "metadata": {
    "execution": {
     "iopub.execute_input": "2021-08-07T12:20:29.035172Z",
     "iopub.status.busy": "2021-08-07T12:20:29.034443Z",
     "iopub.status.idle": "2021-08-07T12:20:29.046314Z",
     "shell.execute_reply": "2021-08-07T12:20:29.045803Z",
     "shell.execute_reply.started": "2021-08-07T10:33:31.668634Z"
    },
    "papermill": {
     "duration": 0.071748,
     "end_time": "2021-08-07T12:20:29.046448",
     "exception": false,
     "start_time": "2021-08-07T12:20:28.974700",
     "status": "completed"
    },
    "tags": []
   },
   "outputs": [
    {
     "data": {
      "text/html": [
       "<div>\n",
       "<style scoped>\n",
       "    .dataframe tbody tr th:only-of-type {\n",
       "        vertical-align: middle;\n",
       "    }\n",
       "\n",
       "    .dataframe tbody tr th {\n",
       "        vertical-align: top;\n",
       "    }\n",
       "\n",
       "    .dataframe thead th {\n",
       "        text-align: right;\n",
       "    }\n",
       "</style>\n",
       "<table border=\"1\" class=\"dataframe\">\n",
       "  <thead>\n",
       "    <tr style=\"text-align: right;\">\n",
       "      <th></th>\n",
       "      <th>GradientBoosting</th>\n",
       "      <th>Logistic</th>\n",
       "    </tr>\n",
       "  </thead>\n",
       "  <tbody>\n",
       "    <tr>\n",
       "      <th>0</th>\n",
       "      <td>0.919905</td>\n",
       "      <td>0.919905</td>\n",
       "    </tr>\n",
       "    <tr>\n",
       "      <th>1</th>\n",
       "      <td>0.917270</td>\n",
       "      <td>0.917270</td>\n",
       "    </tr>\n",
       "    <tr>\n",
       "      <th>2</th>\n",
       "      <td>0.918896</td>\n",
       "      <td>0.918928</td>\n",
       "    </tr>\n",
       "    <tr>\n",
       "      <th>3</th>\n",
       "      <td>0.919741</td>\n",
       "      <td>0.919725</td>\n",
       "    </tr>\n",
       "    <tr>\n",
       "      <th>4</th>\n",
       "      <td>0.920603</td>\n",
       "      <td>0.920635</td>\n",
       "    </tr>\n",
       "  </tbody>\n",
       "</table>\n",
       "</div>"
      ],
      "text/plain": [
       "   GradientBoosting  Logistic\n",
       "0          0.919905  0.919905\n",
       "1          0.917270  0.917270\n",
       "2          0.918896  0.918928\n",
       "3          0.919741  0.919725\n",
       "4          0.920603  0.920635"
      ]
     },
     "execution_count": 55,
     "metadata": {},
     "output_type": "execute_result"
    }
   ],
   "source": [
    "acc_pred_train = pd.DataFrame ({'GradientBoosting': gb_scores.ravel(),\n",
    "     'Logistic': lg_scores.ravel()\n",
    "    })\n",
    "acc_pred_train.head()"
   ]
  },
  {
   "cell_type": "code",
   "execution_count": 56,
   "id": "913396b6",
   "metadata": {
    "execution": {
     "iopub.execute_input": "2021-08-07T12:20:29.153711Z",
     "iopub.status.busy": "2021-08-07T12:20:29.152738Z",
     "iopub.status.idle": "2021-08-07T12:20:29.157853Z",
     "shell.execute_reply": "2021-08-07T12:20:29.157395Z",
     "shell.execute_reply.started": "2021-08-07T10:33:31.690120Z"
    },
    "papermill": {
     "duration": 0.060059,
     "end_time": "2021-08-07T12:20:29.157966",
     "exception": false,
     "start_time": "2021-08-07T12:20:29.097907",
     "status": "completed"
    },
    "tags": []
   },
   "outputs": [],
   "source": [
    "x_train = np.column_stack(( gb_train_pred, lg_train_pred))"
   ]
  },
  {
   "cell_type": "code",
   "execution_count": 57,
   "id": "c6813fda",
   "metadata": {
    "execution": {
     "iopub.execute_input": "2021-08-07T12:20:29.264268Z",
     "iopub.status.busy": "2021-08-07T12:20:29.263477Z",
     "iopub.status.idle": "2021-08-07T12:20:29.266271Z",
     "shell.execute_reply": "2021-08-07T12:20:29.265819Z",
     "shell.execute_reply.started": "2021-08-07T10:33:31.698857Z"
    },
    "papermill": {
     "duration": 0.058255,
     "end_time": "2021-08-07T12:20:29.266370",
     "exception": false,
     "start_time": "2021-08-07T12:20:29.208115",
     "status": "completed"
    },
    "tags": []
   },
   "outputs": [],
   "source": [
    "def trainStackModel(x_train, y_train, x_test, n_folds, seed):\n",
    "    cv = KFold(n_splits= n_folds, random_state=seed)\n",
    "    \n",
    "    svm = SVC().fit(x_train, y_train)\n",
    "    \n",
    "    scores = cross_val_score(svm, x_train, y_train, scoring='accuracy', cv=cv)\n",
    "    \n",
    "    return scores"
   ]
  },
  {
   "cell_type": "code",
   "execution_count": 58,
   "id": "bae511fd",
   "metadata": {
    "execution": {
     "iopub.execute_input": "2021-08-07T12:20:29.372051Z",
     "iopub.status.busy": "2021-08-07T12:20:29.371131Z",
     "iopub.status.idle": "2021-08-07T12:39:59.585314Z",
     "shell.execute_reply": "2021-08-07T12:39:59.584800Z",
     "shell.execute_reply.started": "2021-08-07T10:33:31.707628Z"
    },
    "papermill": {
     "duration": 1170.268598,
     "end_time": "2021-08-07T12:39:59.585455",
     "exception": false,
     "start_time": "2021-08-07T12:20:29.316857",
     "status": "completed"
    },
    "tags": []
   },
   "outputs": [],
   "source": [
    "stackModel_scores = trainStackModel(x_train, labels, test, 5, None)"
   ]
  },
  {
   "cell_type": "code",
   "execution_count": 59,
   "id": "631aab13",
   "metadata": {
    "execution": {
     "iopub.execute_input": "2021-08-07T12:39:59.690508Z",
     "iopub.status.busy": "2021-08-07T12:39:59.689769Z",
     "iopub.status.idle": "2021-08-07T12:39:59.692853Z",
     "shell.execute_reply": "2021-08-07T12:39:59.693242Z",
     "shell.execute_reply.started": "2021-08-07T10:53:01.486563Z"
    },
    "papermill": {
     "duration": 0.06004,
     "end_time": "2021-08-07T12:39:59.693374",
     "exception": false,
     "start_time": "2021-08-07T12:39:59.633334",
     "status": "completed"
    },
    "tags": []
   },
   "outputs": [
    {
     "data": {
      "text/html": [
       "<div>\n",
       "<style scoped>\n",
       "    .dataframe tbody tr th:only-of-type {\n",
       "        vertical-align: middle;\n",
       "    }\n",
       "\n",
       "    .dataframe tbody tr th {\n",
       "        vertical-align: top;\n",
       "    }\n",
       "\n",
       "    .dataframe thead th {\n",
       "        text-align: right;\n",
       "    }\n",
       "</style>\n",
       "<table border=\"1\" class=\"dataframe\">\n",
       "  <thead>\n",
       "    <tr style=\"text-align: right;\">\n",
       "      <th></th>\n",
       "      <th>GradientBoosting</th>\n",
       "      <th>Logistic</th>\n",
       "      <th>stackingModel</th>\n",
       "    </tr>\n",
       "  </thead>\n",
       "  <tbody>\n",
       "    <tr>\n",
       "      <th>0</th>\n",
       "      <td>0.919905</td>\n",
       "      <td>0.919905</td>\n",
       "      <td>0.919921</td>\n",
       "    </tr>\n",
       "    <tr>\n",
       "      <th>1</th>\n",
       "      <td>0.917270</td>\n",
       "      <td>0.917270</td>\n",
       "      <td>0.917270</td>\n",
       "    </tr>\n",
       "    <tr>\n",
       "      <th>2</th>\n",
       "      <td>0.918896</td>\n",
       "      <td>0.918928</td>\n",
       "      <td>0.918928</td>\n",
       "    </tr>\n",
       "    <tr>\n",
       "      <th>3</th>\n",
       "      <td>0.919741</td>\n",
       "      <td>0.919725</td>\n",
       "      <td>0.919741</td>\n",
       "    </tr>\n",
       "    <tr>\n",
       "      <th>4</th>\n",
       "      <td>0.920603</td>\n",
       "      <td>0.920635</td>\n",
       "      <td>0.920635</td>\n",
       "    </tr>\n",
       "  </tbody>\n",
       "</table>\n",
       "</div>"
      ],
      "text/plain": [
       "   GradientBoosting  Logistic  stackingModel\n",
       "0          0.919905  0.919905       0.919921\n",
       "1          0.917270  0.917270       0.917270\n",
       "2          0.918896  0.918928       0.918928\n",
       "3          0.919741  0.919725       0.919741\n",
       "4          0.920603  0.920635       0.920635"
      ]
     },
     "execution_count": 59,
     "metadata": {},
     "output_type": "execute_result"
    }
   ],
   "source": [
    "acc_pred_train['stackingModel'] = stackModel_scores\n",
    "acc_pred_train"
   ]
  },
  {
   "cell_type": "code",
   "execution_count": 60,
   "id": "4e90d8a5",
   "metadata": {
    "execution": {
     "iopub.execute_input": "2021-08-07T12:39:59.792260Z",
     "iopub.status.busy": "2021-08-07T12:39:59.791293Z",
     "iopub.status.idle": "2021-08-07T12:43:59.438204Z",
     "shell.execute_reply": "2021-08-07T12:43:59.437708Z"
    },
    "papermill": {
     "duration": 239.697693,
     "end_time": "2021-08-07T12:43:59.438346",
     "exception": false,
     "start_time": "2021-08-07T12:39:59.740653",
     "status": "completed"
    },
    "tags": []
   },
   "outputs": [],
   "source": [
    "from sklearn.ensemble import ExtraTreesClassifier\n",
    "svm=ExtraTreesClassifier().fit(train, labels)"
   ]
  },
  {
   "cell_type": "code",
   "execution_count": 61,
   "id": "2ed211d5",
   "metadata": {
    "execution": {
     "iopub.execute_input": "2021-08-07T12:43:59.541509Z",
     "iopub.status.busy": "2021-08-07T12:43:59.540419Z",
     "iopub.status.idle": "2021-08-07T12:44:03.044403Z",
     "shell.execute_reply": "2021-08-07T12:44:03.043514Z"
    },
    "papermill": {
     "duration": 3.555324,
     "end_time": "2021-08-07T12:44:03.044550",
     "exception": false,
     "start_time": "2021-08-07T12:43:59.489226",
     "status": "completed"
    },
    "tags": []
   },
   "outputs": [],
   "source": [
    "predictions = svm.predict_proba(test)[:, 1]"
   ]
  },
  {
   "cell_type": "code",
   "execution_count": 62,
   "id": "d9ced960",
   "metadata": {
    "execution": {
     "iopub.execute_input": "2021-08-07T12:44:03.145264Z",
     "iopub.status.busy": "2021-08-07T12:44:03.144303Z",
     "iopub.status.idle": "2021-08-07T12:44:03.258251Z",
     "shell.execute_reply": "2021-08-07T12:44:03.258882Z"
    },
    "papermill": {
     "duration": 0.166676,
     "end_time": "2021-08-07T12:44:03.259094",
     "exception": false,
     "start_time": "2021-08-07T12:44:03.092418",
     "status": "completed"
    },
    "tags": []
   },
   "outputs": [
    {
     "name": "stderr",
     "output_type": "stream",
     "text": [
      "/opt/conda/lib/python3.7/site-packages/ipykernel_launcher.py:2: SettingWithCopyWarning: \n",
      "A value is trying to be set on a copy of a slice from a DataFrame.\n",
      "Try using .loc[row_indexer,col_indexer] = value instead\n",
      "\n",
      "See the caveats in the documentation: https://pandas.pydata.org/pandas-docs/stable/user_guide/indexing.html#returning-a-view-versus-a-copy\n",
      "  \n"
     ]
    }
   ],
   "source": [
    "submit = test_df[['SK_ID_CURR']]\n",
    "submit['TARGET'] = predictions"
   ]
  },
  {
   "cell_type": "code",
   "execution_count": 63,
   "id": "32918649",
   "metadata": {
    "execution": {
     "iopub.execute_input": "2021-08-07T12:44:03.360473Z",
     "iopub.status.busy": "2021-08-07T12:44:03.359752Z",
     "iopub.status.idle": "2021-08-07T12:44:03.470117Z",
     "shell.execute_reply": "2021-08-07T12:44:03.469692Z"
    },
    "papermill": {
     "duration": 0.161915,
     "end_time": "2021-08-07T12:44:03.470238",
     "exception": false,
     "start_time": "2021-08-07T12:44:03.308323",
     "status": "completed"
    },
    "tags": []
   },
   "outputs": [],
   "source": [
    "submit.to_csv('ensamble_2.csv', index = False)"
   ]
  }
 ],
 "metadata": {
  "kernelspec": {
   "display_name": "Python 3",
   "language": "python",
   "name": "python3"
  },
  "language_info": {
   "codemirror_mode": {
    "name": "ipython",
    "version": 3
   },
   "file_extension": ".py",
   "mimetype": "text/x-python",
   "name": "python",
   "nbconvert_exporter": "python",
   "pygments_lexer": "ipython3",
   "version": "3.7.10"
  },
  "papermill": {
   "default_parameters": {},
   "duration": 6614.508607,
   "end_time": "2021-08-07T12:44:04.905565",
   "environment_variables": {},
   "exception": null,
   "input_path": "__notebook__.ipynb",
   "output_path": "__notebook__.ipynb",
   "parameters": {},
   "start_time": "2021-08-07T10:53:50.396958",
   "version": "2.3.3"
  }
 },
 "nbformat": 4,
 "nbformat_minor": 5
}
