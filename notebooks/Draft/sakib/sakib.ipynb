<<<<<<< HEAD
{
 "cells": [
  {
   "cell_type": "code",
   "execution_count": null,
   "metadata": {
    "execution": {
     "iopub.execute_input": "2021-05-20T08:45:42.782193Z",
     "iopub.status.busy": "2021-05-20T08:45:42.78187Z",
     "iopub.status.idle": "2021-05-20T08:45:42.787899Z",
     "shell.execute_reply": "2021-05-20T08:45:42.786884Z",
     "shell.execute_reply.started": "2021-05-20T08:45:42.782166Z"
    }
   },
   "outputs": [],
   "source": [
    "import os\n",
    "import gc\n",
    "import numpy as np\n",
    "import pandas as pd\n",
    "from scipy.stats import kurtosis\n",
    "from sklearn.metrics import roc_auc_score\n",
    "from sklearn.preprocessing import MinMaxScaler\n",
    "from sklearn.impute import SimpleImputer\n",
    "from sklearn.linear_model import LogisticRegression\n",
    "import matplotlib.pyplot as plt\n",
    "import seaborn as sns\n",
    "import warnings\n",
    "from sklearn.model_selection import train_test_split, cross_val_score, StratifiedKFold\n",
    "import xgboost as xgb\n",
    "from xgboost import XGBClassifier\n",
    "warnings.simplefilter(action='ignore', category=FutureWarning)"
   ]
  },
  {
   "cell_type": "code",
   "execution_count": null,
   "metadata": {
    "execution": {
     "iopub.execute_input": "2021-05-20T08:45:42.790476Z",
     "iopub.status.busy": "2021-05-20T08:45:42.790014Z",
     "iopub.status.idle": "2021-05-20T08:45:42.8012Z",
     "shell.execute_reply": "2021-05-20T08:45:42.80033Z",
     "shell.execute_reply.started": "2021-05-20T08:45:42.790342Z"
    }
   },
   "outputs": [],
   "source": [
    "DATA_DIRECTORY = \"../datasets/kaggle/\""
   ]
  },
  {
   "cell_type": "code",
   "execution_count": null,
   "metadata": {
    "execution": {
     "iopub.execute_input": "2021-05-20T08:45:42.803434Z",
     "iopub.status.busy": "2021-05-20T08:45:42.802841Z",
     "iopub.status.idle": "2021-05-20T08:45:49.284027Z",
     "shell.execute_reply": "2021-05-20T08:45:49.283132Z",
     "shell.execute_reply.started": "2021-05-20T08:45:42.803401Z"
    }
   },
   "outputs": [],
   "source": [
    "df_train = pd.read_csv(os.path.join(DATA_DIRECTORY, 'application_train.csv'))\n",
    "df_test = pd.read_csv(os.path.join(DATA_DIRECTORY, 'application_test.csv'))\n",
    "df = df_train.append(df_test)\n",
    "del df_train, df_test; gc.collect()"
   ]
  },
  {
   "cell_type": "code",
   "execution_count": null,
   "metadata": {
    "execution": {
     "iopub.execute_input": "2021-05-20T08:45:49.285669Z",
     "iopub.status.busy": "2021-05-20T08:45:49.285389Z",
     "iopub.status.idle": "2021-05-20T08:45:50.136684Z",
     "shell.execute_reply": "2021-05-20T08:45:50.135792Z",
     "shell.execute_reply.started": "2021-05-20T08:45:49.285641Z"
    }
   },
   "outputs": [],
   "source": [
    "df = df[df['AMT_INCOME_TOTAL'] < 20000000]\n",
    "df = df[df['CODE_GENDER'] != 'XNA']\n",
    "df['DAYS_EMPLOYED'].replace(365243, np.nan, inplace=True)\n",
    "df['DAYS_LAST_PHONE_CHANGE'].replace(0, np.nan, inplace=True)"
   ]
  },
  {
   "cell_type": "code",
   "execution_count": null,
   "metadata": {
    "execution": {
     "iopub.execute_input": "2021-05-20T08:45:50.138372Z",
     "iopub.status.busy": "2021-05-20T08:45:50.138015Z",
     "iopub.status.idle": "2021-05-20T08:45:50.144062Z",
     "shell.execute_reply": "2021-05-20T08:45:50.142757Z",
     "shell.execute_reply.started": "2021-05-20T08:45:50.138336Z"
    }
   },
   "outputs": [],
   "source": [
    "def get_age_group(days_birth):\n",
    "    age_years = -days_birth / 365\n",
    "    if age_years < 27: return 1\n",
    "    elif age_years < 40: return 2\n",
    "    elif age_years < 50: return 3\n",
    "    elif age_years < 65: return 4\n",
    "    elif age_years < 99: return 5\n",
    "    else: return 0"
   ]
  },
  {
   "cell_type": "code",
   "execution_count": null,
   "metadata": {
    "execution": {
     "iopub.execute_input": "2021-05-20T08:45:50.146146Z",
     "iopub.status.busy": "2021-05-20T08:45:50.145715Z",
     "iopub.status.idle": "2021-05-20T08:45:50.707781Z",
     "shell.execute_reply": "2021-05-20T08:45:50.706917Z",
     "shell.execute_reply.started": "2021-05-20T08:45:50.146105Z"
    }
   },
   "outputs": [],
   "source": [
    "docs = [f for f in df.columns if 'FLAG_DOC' in f]\n",
    "df['DOCUMENT_COUNT'] = df[docs].sum(axis=1)\n",
    "df['NEW_DOC_KURT'] = df[docs].kurtosis(axis=1)\n",
    "df['AGE_RANGE'] = df['DAYS_BIRTH'].apply(lambda x: get_age_group(x))"
   ]
  },
  {
   "cell_type": "code",
   "execution_count": null,
   "metadata": {
    "execution": {
     "iopub.execute_input": "2021-05-20T08:45:50.709646Z",
     "iopub.status.busy": "2021-05-20T08:45:50.709398Z",
     "iopub.status.idle": "2021-05-20T08:45:51.731028Z",
     "shell.execute_reply": "2021-05-20T08:45:51.730251Z",
     "shell.execute_reply.started": "2021-05-20T08:45:50.709623Z"
    }
   },
   "outputs": [],
   "source": [
    "df['EXT_SOURCES_PROD'] = df['EXT_SOURCE_1'] * df['EXT_SOURCE_2'] * df['EXT_SOURCE_3']\n",
    "df['EXT_SOURCES_WEIGHTED'] = df.EXT_SOURCE_1 * 2 + df.EXT_SOURCE_2 * 1 + df.EXT_SOURCE_3 * 3\n",
    "np.warnings.filterwarnings('ignore', r'All-NaN (slice|axis) encountered')\n",
    "for function_name in ['min', 'max', 'mean', 'nanmedian', 'var']:\n",
    "    feature_name = 'EXT_SOURCES_{}'.format(function_name.upper())\n",
    "    df[feature_name] = eval('np.{}'.format(function_name))(\n",
    "        df[['EXT_SOURCE_1', 'EXT_SOURCE_2', 'EXT_SOURCE_3']], axis=1)"
   ]
  },
  {
   "cell_type": "code",
   "execution_count": null,
   "metadata": {
    "execution": {
     "iopub.execute_input": "2021-05-20T08:45:51.73278Z",
     "iopub.status.busy": "2021-05-20T08:45:51.732355Z",
     "iopub.status.idle": "2021-05-20T08:45:51.76361Z",
     "shell.execute_reply": "2021-05-20T08:45:51.762682Z",
     "shell.execute_reply.started": "2021-05-20T08:45:51.732739Z"
    }
   },
   "outputs": [],
   "source": [
    "df['CREDIT_TO_ANNUITY_RATIO'] = df['AMT_CREDIT'] / df['AMT_ANNUITY']\n",
    "df['CREDIT_TO_GOODS_RATIO'] = df['AMT_CREDIT'] / df['AMT_GOODS_PRICE']\n",
    "df['ANNUITY_TO_INCOME_RATIO'] = df['AMT_ANNUITY'] / df['AMT_INCOME_TOTAL']\n",
    "df['CREDIT_TO_INCOME_RATIO'] = df['AMT_CREDIT'] / df['AMT_INCOME_TOTAL']\n",
    "df['INCOME_TO_EMPLOYED_RATIO'] = df['AMT_INCOME_TOTAL'] / df['DAYS_EMPLOYED']\n",
    "df['INCOME_TO_BIRTH_RATIO'] = df['AMT_INCOME_TOTAL'] / df['DAYS_BIRTH']    \n",
    "df['EMPLOYED_TO_BIRTH_RATIO'] = df['DAYS_EMPLOYED'] / df['DAYS_BIRTH']\n",
    "df['ID_TO_BIRTH_RATIO'] = df['DAYS_ID_PUBLISH'] / df['DAYS_BIRTH']\n",
    "df['CAR_TO_BIRTH_RATIO'] = df['OWN_CAR_AGE'] / df['DAYS_BIRTH']\n",
    "df['CAR_TO_EMPLOYED_RATIO'] = df['OWN_CAR_AGE'] / df['DAYS_EMPLOYED']\n",
    "df['PHONE_TO_BIRTH_RATIO'] = df['DAYS_LAST_PHONE_CHANGE'] / df['DAYS_BIRTH']"
   ]
  },
  {
   "cell_type": "code",
   "execution_count": null,
   "metadata": {
    "execution": {
     "iopub.execute_input": "2021-05-20T08:45:51.767162Z",
     "iopub.status.busy": "2021-05-20T08:45:51.766871Z",
     "iopub.status.idle": "2021-05-20T08:45:51.772011Z",
     "shell.execute_reply": "2021-05-20T08:45:51.77084Z",
     "shell.execute_reply.started": "2021-05-20T08:45:51.767133Z"
    }
   },
   "outputs": [],
   "source": [
    "def do_mean(df, group_cols, counted, agg_name):\n",
    "    gp = df[group_cols + [counted]].groupby(group_cols)[counted].mean().reset_index().rename(\n",
    "        columns={counted: agg_name})\n",
    "    df = df.merge(gp, on=group_cols, how='left')\n",
    "    del gp\n",
    "    gc.collect()\n",
    "    return df"
   ]
  },
  {
   "cell_type": "code",
   "execution_count": null,
   "metadata": {
    "execution": {
     "iopub.execute_input": "2021-05-20T08:45:51.773608Z",
     "iopub.status.busy": "2021-05-20T08:45:51.773337Z",
     "iopub.status.idle": "2021-05-20T08:45:51.788978Z",
     "shell.execute_reply": "2021-05-20T08:45:51.78782Z",
     "shell.execute_reply.started": "2021-05-20T08:45:51.773583Z"
    }
   },
   "outputs": [],
   "source": [
    "def do_median(df, group_cols, counted, agg_name):\n",
    "    gp = df[group_cols + [counted]].groupby(group_cols)[counted].median().reset_index().rename(\n",
    "        columns={counted: agg_name})\n",
    "    df = df.merge(gp, on=group_cols, how='left')\n",
    "    del gp\n",
    "    gc.collect()\n",
    "    return df"
   ]
  },
  {
   "cell_type": "code",
   "execution_count": null,
   "metadata": {
    "execution": {
     "iopub.execute_input": "2021-05-20T08:45:51.790657Z",
     "iopub.status.busy": "2021-05-20T08:45:51.790362Z",
     "iopub.status.idle": "2021-05-20T08:45:51.799769Z",
     "shell.execute_reply": "2021-05-20T08:45:51.798832Z",
     "shell.execute_reply.started": "2021-05-20T08:45:51.790625Z"
    }
   },
   "outputs": [],
   "source": [
    "def do_std(df, group_cols, counted, agg_name):\n",
    "    gp = df[group_cols + [counted]].groupby(group_cols)[counted].std().reset_index().rename(\n",
    "        columns={counted: agg_name})\n",
    "    df = df.merge(gp, on=group_cols, how='left')\n",
    "    del gp\n",
    "    gc.collect()\n",
    "    return df"
   ]
  },
  {
   "cell_type": "code",
   "execution_count": null,
   "metadata": {
    "execution": {
     "iopub.execute_input": "2021-05-20T08:45:51.802109Z",
     "iopub.status.busy": "2021-05-20T08:45:51.801832Z",
     "iopub.status.idle": "2021-05-20T08:45:51.810916Z",
     "shell.execute_reply": "2021-05-20T08:45:51.809958Z",
     "shell.execute_reply.started": "2021-05-20T08:45:51.802084Z"
    }
   },
   "outputs": [],
   "source": [
    "def do_sum(df, group_cols, counted, agg_name):\n",
    "    gp = df[group_cols + [counted]].groupby(group_cols)[counted].sum().reset_index().rename(\n",
    "        columns={counted: agg_name})\n",
    "    df = df.merge(gp, on=group_cols, how='left')\n",
    "    del gp\n",
    "    gc.collect()\n",
    "    return df"
   ]
  },
  {
   "cell_type": "code",
   "execution_count": null,
   "metadata": {
    "execution": {
     "iopub.execute_input": "2021-05-20T08:45:51.812628Z",
     "iopub.status.busy": "2021-05-20T08:45:51.81224Z",
     "iopub.status.idle": "2021-05-20T08:46:18.378866Z",
     "shell.execute_reply": "2021-05-20T08:46:18.377812Z",
     "shell.execute_reply.started": "2021-05-20T08:45:51.812589Z"
    }
   },
   "outputs": [],
   "source": [
    "group = ['ORGANIZATION_TYPE', 'NAME_EDUCATION_TYPE', 'OCCUPATION_TYPE', 'AGE_RANGE', 'CODE_GENDER']\n",
    "df = do_median(df, group, 'EXT_SOURCES_MEAN', 'GROUP_EXT_SOURCES_MEDIAN')\n",
    "df = do_std(df, group, 'EXT_SOURCES_MEAN', 'GROUP_EXT_SOURCES_STD')\n",
    "df = do_mean(df, group, 'AMT_INCOME_TOTAL', 'GROUP_INCOME_MEAN')\n",
    "df = do_std(df, group, 'AMT_INCOME_TOTAL', 'GROUP_INCOME_STD')\n",
    "df = do_mean(df, group, 'CREDIT_TO_ANNUITY_RATIO', 'GROUP_CREDIT_TO_ANNUITY_MEAN')\n",
    "df = do_std(df, group, 'CREDIT_TO_ANNUITY_RATIO', 'GROUP_CREDIT_TO_ANNUITY_STD')\n",
    "df = do_mean(df, group, 'AMT_CREDIT', 'GROUP_CREDIT_MEAN')\n",
    "df = do_mean(df, group, 'AMT_ANNUITY', 'GROUP_ANNUITY_MEAN')\n",
    "df = do_std(df, group, 'AMT_ANNUITY', 'GROUP_ANNUITY_STD')"
   ]
  },
  {
   "cell_type": "code",
   "execution_count": null,
   "metadata": {
    "execution": {
     "iopub.execute_input": "2021-05-20T08:46:18.380557Z",
     "iopub.status.busy": "2021-05-20T08:46:18.380289Z",
     "iopub.status.idle": "2021-05-20T08:46:18.385338Z",
     "shell.execute_reply": "2021-05-20T08:46:18.384356Z",
     "shell.execute_reply.started": "2021-05-20T08:46:18.380529Z"
    }
   },
   "outputs": [],
   "source": [
    "def label_encoder(df, categorical_columns=None):\n",
    "    if not categorical_columns:\n",
    "        categorical_columns = [col for col in df.columns if df[col].dtype == 'object']\n",
    "    for col in categorical_columns:\n",
    "        df[col], uniques = pd.factorize(df[col])\n",
    "    return df, categorical_columns"
   ]
  },
  {
   "cell_type": "code",
   "execution_count": null,
   "metadata": {
    "execution": {
     "iopub.execute_input": "2021-05-20T08:46:18.3869Z",
     "iopub.status.busy": "2021-05-20T08:46:18.386596Z",
     "iopub.status.idle": "2021-05-20T08:46:18.403258Z",
     "shell.execute_reply": "2021-05-20T08:46:18.402438Z",
     "shell.execute_reply.started": "2021-05-20T08:46:18.386869Z"
    }
   },
   "outputs": [],
   "source": [
    "def drop_application_columns(df):\n",
    "    drop_list = [\n",
    "        'CNT_CHILDREN', 'CNT_FAM_MEMBERS', 'HOUR_APPR_PROCESS_START',\n",
    "        'FLAG_EMP_PHONE', 'FLAG_MOBIL', 'FLAG_CONT_MOBILE', 'FLAG_EMAIL', 'FLAG_PHONE',\n",
    "        'FLAG_OWN_REALTY', 'REG_REGION_NOT_LIVE_REGION', 'REG_REGION_NOT_WORK_REGION',\n",
    "        'REG_CITY_NOT_WORK_CITY', 'OBS_30_CNT_SOCIAL_CIRCLE', 'OBS_60_CNT_SOCIAL_CIRCLE',\n",
    "        'AMT_REQ_CREDIT_BUREAU_DAY', 'AMT_REQ_CREDIT_BUREAU_MON', 'AMT_REQ_CREDIT_BUREAU_YEAR', \n",
    "        'COMMONAREA_MODE', 'NONLIVINGAREA_MODE', 'ELEVATORS_MODE', 'NONLIVINGAREA_AVG',\n",
    "        'FLOORSMIN_MEDI', 'LANDAREA_MODE', 'NONLIVINGAREA_MEDI', 'LIVINGAPARTMENTS_MODE',\n",
    "        'FLOORSMIN_AVG', 'LANDAREA_AVG', 'FLOORSMIN_MODE', 'LANDAREA_MEDI',\n",
    "        'COMMONAREA_MEDI', 'YEARS_BUILD_AVG', 'COMMONAREA_AVG', 'BASEMENTAREA_AVG',\n",
    "        'BASEMENTAREA_MODE', 'NONLIVINGAPARTMENTS_MEDI', 'BASEMENTAREA_MEDI', \n",
    "        'LIVINGAPARTMENTS_AVG', 'ELEVATORS_AVG', 'YEARS_BUILD_MEDI', 'ENTRANCES_MODE',\n",
    "        'NONLIVINGAPARTMENTS_MODE', 'LIVINGAREA_MODE', 'LIVINGAPARTMENTS_MEDI',\n",
    "        'YEARS_BUILD_MODE', 'YEARS_BEGINEXPLUATATION_AVG', 'ELEVATORS_MEDI', 'LIVINGAREA_MEDI',\n",
    "        'YEARS_BEGINEXPLUATATION_MODE', 'NONLIVINGAPARTMENTS_AVG', 'HOUSETYPE_MODE',\n",
    "        'FONDKAPREMONT_MODE', 'EMERGENCYSTATE_MODE'\n",
    "    ]\n",
    "    for doc_num in [2,4,5,6,7,9,10,11,12,13,14,15,16,17,19,20,21]:\n",
    "        drop_list.append('FLAG_DOCUMENT_{}'.format(doc_num))\n",
    "    df.drop(drop_list, axis=1, inplace=True)\n",
    "    return df"
   ]
  },
  {
   "cell_type": "code",
   "execution_count": null,
   "metadata": {
    "execution": {
     "iopub.execute_input": "2021-05-20T08:46:18.404867Z",
     "iopub.status.busy": "2021-05-20T08:46:18.404374Z",
     "iopub.status.idle": "2021-05-20T08:46:19.16104Z",
     "shell.execute_reply": "2021-05-20T08:46:19.160031Z",
     "shell.execute_reply.started": "2021-05-20T08:46:18.404836Z"
    }
   },
   "outputs": [],
   "source": [
    "df, le_encoded_cols = label_encoder(df, None)\n",
    "df = drop_application_columns(df)"
   ]
  },
  {
   "cell_type": "code",
   "execution_count": null,
   "metadata": {
    "execution": {
     "iopub.execute_input": "2021-05-20T08:46:19.162462Z",
     "iopub.status.busy": "2021-05-20T08:46:19.162193Z",
     "iopub.status.idle": "2021-05-20T08:46:19.307448Z",
     "shell.execute_reply": "2021-05-20T08:46:19.306649Z",
     "shell.execute_reply.started": "2021-05-20T08:46:19.162434Z"
    }
   },
   "outputs": [],
   "source": [
    "df = pd.get_dummies(df)"
   ]
  },
  {
   "cell_type": "code",
   "execution_count": null,
   "metadata": {
    "execution": {
     "iopub.execute_input": "2021-05-20T08:46:19.3092Z",
     "iopub.status.busy": "2021-05-20T08:46:19.308811Z",
     "iopub.status.idle": "2021-05-20T08:46:23.182074Z",
     "shell.execute_reply": "2021-05-20T08:46:23.18108Z",
     "shell.execute_reply.started": "2021-05-20T08:46:19.30916Z"
    }
   },
   "outputs": [],
   "source": [
    "bureau = pd.read_csv(os.path.join(DATA_DIRECTORY, 'bureau.csv'))"
   ]
  },
  {
   "cell_type": "code",
   "execution_count": null,
   "metadata": {
    "execution": {
     "iopub.execute_input": "2021-05-20T08:46:23.185247Z",
     "iopub.status.busy": "2021-05-20T08:46:23.184994Z",
     "iopub.status.idle": "2021-05-20T08:46:23.231596Z",
     "shell.execute_reply": "2021-05-20T08:46:23.230673Z",
     "shell.execute_reply.started": "2021-05-20T08:46:23.185222Z"
    }
   },
   "outputs": [],
   "source": [
    "bureau['CREDIT_DURATION'] = -bureau['DAYS_CREDIT'] + bureau['DAYS_CREDIT_ENDDATE']\n",
    "bureau['ENDDATE_DIF'] = bureau['DAYS_CREDIT_ENDDATE'] - bureau['DAYS_ENDDATE_FACT']\n",
    "bureau['DEBT_PERCENTAGE'] = bureau['AMT_CREDIT_SUM'] / bureau['AMT_CREDIT_SUM_DEBT']\n",
    "bureau['DEBT_CREDIT_DIFF'] = bureau['AMT_CREDIT_SUM'] - bureau['AMT_CREDIT_SUM_DEBT']\n",
    "bureau['CREDIT_TO_ANNUITY_RATIO'] = bureau['AMT_CREDIT_SUM'] / bureau['AMT_ANNUITY']"
   ]
  },
  {
   "cell_type": "code",
   "execution_count": null,
   "metadata": {
    "execution": {
     "iopub.execute_input": "2021-05-20T08:46:23.234138Z",
     "iopub.status.busy": "2021-05-20T08:46:23.233879Z",
     "iopub.status.idle": "2021-05-20T08:46:23.239319Z",
     "shell.execute_reply": "2021-05-20T08:46:23.238357Z",
     "shell.execute_reply.started": "2021-05-20T08:46:23.234114Z"
    }
   },
   "outputs": [],
   "source": [
    "def one_hot_encoder(df, categorical_columns=None, nan_as_category=True):\n",
    "    original_columns = list(df.columns)\n",
    "    if not categorical_columns:\n",
    "        categorical_columns = [col for col in df.columns if df[col].dtype == 'object']\n",
    "    df = pd.get_dummies(df, columns=categorical_columns, dummy_na=nan_as_category)\n",
    "    categorical_columns = [c for c in df.columns if c not in original_columns]\n",
    "    return df, categorical_columns"
   ]
  },
  {
   "cell_type": "code",
   "execution_count": null,
   "metadata": {
    "execution": {
     "iopub.execute_input": "2021-05-20T08:46:23.240798Z",
     "iopub.status.busy": "2021-05-20T08:46:23.240523Z",
     "iopub.status.idle": "2021-05-20T08:46:23.252245Z",
     "shell.execute_reply": "2021-05-20T08:46:23.251318Z",
     "shell.execute_reply.started": "2021-05-20T08:46:23.240772Z"
    }
   },
   "outputs": [],
   "source": [
    "def group(df_to_agg, prefix, aggregations, aggregate_by= 'SK_ID_CURR'):\n",
    "    agg_df = df_to_agg.groupby(aggregate_by).agg(aggregations)\n",
    "    agg_df.columns = pd.Index(['{}{}_{}'.format(prefix, e[0], e[1].upper())\n",
    "                               for e in agg_df.columns.tolist()])\n",
    "    return agg_df.reset_index()"
   ]
  },
  {
   "cell_type": "code",
   "execution_count": null,
   "metadata": {
    "execution": {
     "iopub.execute_input": "2021-05-20T08:46:23.253628Z",
     "iopub.status.busy": "2021-05-20T08:46:23.253342Z",
     "iopub.status.idle": "2021-05-20T08:46:23.265881Z",
     "shell.execute_reply": "2021-05-20T08:46:23.264897Z",
     "shell.execute_reply.started": "2021-05-20T08:46:23.253591Z"
    }
   },
   "outputs": [],
   "source": [
    "def group_and_merge(df_to_agg, df_to_merge, prefix, aggregations, aggregate_by= 'SK_ID_CURR'):\n",
    "    agg_df = group(df_to_agg, prefix, aggregations, aggregate_by= aggregate_by)\n",
    "    return df_to_merge.merge(agg_df, how='left', on= aggregate_by)"
   ]
  },
  {
   "cell_type": "code",
   "execution_count": null,
   "metadata": {
    "execution": {
     "iopub.execute_input": "2021-05-20T08:46:23.267413Z",
     "iopub.status.busy": "2021-05-20T08:46:23.267128Z",
     "iopub.status.idle": "2021-05-20T08:46:23.277479Z",
     "shell.execute_reply": "2021-05-20T08:46:23.276335Z",
     "shell.execute_reply.started": "2021-05-20T08:46:23.267387Z"
    }
   },
   "outputs": [],
   "source": [
    "def get_bureau_balance(path, num_rows= None):\n",
    "    bb = pd.read_csv(os.path.join(path, 'bureau_balance.csv'))\n",
    "    bb, categorical_cols = one_hot_encoder(bb, nan_as_category= False)\n",
    "    # Calculate rate for each category with decay\n",
    "    bb_processed = bb.groupby('SK_ID_BUREAU')[categorical_cols].mean().reset_index()\n",
    "    # Min, Max, Count and mean duration of payments (months)\n",
    "    agg = {'MONTHS_BALANCE': ['min', 'max', 'mean', 'size']}\n",
    "    bb_processed = group_and_merge(bb, bb_processed, '', agg, 'SK_ID_BUREAU')\n",
    "    del bb; gc.collect()\n",
    "    return bb_processed"
   ]
  },
  {
   "cell_type": "code",
   "execution_count": null,
   "metadata": {
    "execution": {
     "iopub.execute_input": "2021-05-20T08:46:23.279234Z",
     "iopub.status.busy": "2021-05-20T08:46:23.278901Z",
     "iopub.status.idle": "2021-05-20T08:46:40.889708Z",
     "shell.execute_reply": "2021-05-20T08:46:40.888698Z",
     "shell.execute_reply.started": "2021-05-20T08:46:23.279205Z"
    }
   },
   "outputs": [],
   "source": [
    "bureau, categorical_cols = one_hot_encoder(bureau, nan_as_category= False)\n",
    "bureau = bureau.merge(get_bureau_balance(DATA_DIRECTORY), how='left', on='SK_ID_BUREAU')\n",
    "bureau['STATUS_12345'] = 0\n",
    "for i in range(1,6):\n",
    "    bureau['STATUS_12345'] += bureau['STATUS_{}'.format(i)]"
   ]
  },
  {
   "cell_type": "code",
   "execution_count": null,
   "metadata": {
    "execution": {
     "iopub.execute_input": "2021-05-20T08:46:40.891271Z",
     "iopub.status.busy": "2021-05-20T08:46:40.890992Z",
     "iopub.status.idle": "2021-05-20T08:46:42.804313Z",
     "shell.execute_reply": "2021-05-20T08:46:42.803382Z",
     "shell.execute_reply.started": "2021-05-20T08:46:40.891244Z"
    }
   },
   "outputs": [],
   "source": [
    "features = ['AMT_CREDIT_MAX_OVERDUE', 'AMT_CREDIT_SUM_OVERDUE', 'AMT_CREDIT_SUM',\n",
    "    'AMT_CREDIT_SUM_DEBT', 'DEBT_PERCENTAGE', 'DEBT_CREDIT_DIFF', 'STATUS_0', 'STATUS_12345']\n",
    "agg_length = bureau.groupby('MONTHS_BALANCE_SIZE')[features].mean().reset_index()\n",
    "agg_length.rename({feat: 'LL_' + feat for feat in features}, axis=1, inplace=True)\n",
    "bureau = bureau.merge(agg_length, how='left', on='MONTHS_BALANCE_SIZE')\n",
    "del agg_length; gc.collect()"
   ]
  },
  {
   "cell_type": "code",
   "execution_count": null,
   "metadata": {
    "execution": {
     "iopub.execute_input": "2021-05-20T08:46:42.805778Z",
     "iopub.status.busy": "2021-05-20T08:46:42.805471Z",
     "iopub.status.idle": "2021-05-20T08:46:42.815985Z",
     "shell.execute_reply": "2021-05-20T08:46:42.815149Z",
     "shell.execute_reply.started": "2021-05-20T08:46:42.805748Z"
    }
   },
   "outputs": [],
   "source": [
    "BUREAU_AGG = {\n",
    "    'SK_ID_BUREAU': ['nunique'],\n",
    "    'DAYS_CREDIT': ['min', 'max', 'mean'],\n",
    "    'DAYS_CREDIT_ENDDATE': ['min', 'max'],\n",
    "    'AMT_CREDIT_MAX_OVERDUE': ['max', 'mean'],\n",
    "    'AMT_CREDIT_SUM': ['max', 'mean', 'sum'],\n",
    "    'AMT_CREDIT_SUM_DEBT': ['max', 'mean', 'sum'],\n",
    "    'AMT_CREDIT_SUM_OVERDUE': ['max', 'mean', 'sum'],\n",
    "    'AMT_ANNUITY': ['mean'],\n",
    "    'DEBT_CREDIT_DIFF': ['mean', 'sum'],\n",
    "    'MONTHS_BALANCE_MEAN': ['mean', 'var'],\n",
    "    'MONTHS_BALANCE_SIZE': ['mean', 'sum'],\n",
    "    'STATUS_0': ['mean'],\n",
    "    'STATUS_1': ['mean'],\n",
    "    'STATUS_12345': ['mean'],\n",
    "    'STATUS_C': ['mean'],\n",
    "    'STATUS_X': ['mean'],\n",
    "    'CREDIT_ACTIVE_Active': ['mean'],\n",
    "    'CREDIT_ACTIVE_Closed': ['mean'],\n",
    "    'CREDIT_ACTIVE_Sold': ['mean'],\n",
    "    'CREDIT_TYPE_Consumer credit': ['mean'],\n",
    "    'CREDIT_TYPE_Credit card': ['mean'],\n",
    "    'CREDIT_TYPE_Car loan': ['mean'],\n",
    "    'CREDIT_TYPE_Mortgage': ['mean'],\n",
    "    'CREDIT_TYPE_Microloan': ['mean'],\n",
    "    'LL_AMT_CREDIT_SUM_OVERDUE': ['mean'],\n",
    "    'LL_DEBT_CREDIT_DIFF': ['mean'],\n",
    "    'LL_STATUS_12345': ['mean'],\n",
    "}\n",
    "\n",
    "BUREAU_ACTIVE_AGG = {\n",
    "    'DAYS_CREDIT': ['max', 'mean'],\n",
    "    'DAYS_CREDIT_ENDDATE': ['min', 'max'],\n",
    "    'AMT_CREDIT_MAX_OVERDUE': ['max', 'mean'],\n",
    "    'AMT_CREDIT_SUM': ['max', 'sum'],\n",
    "    'AMT_CREDIT_SUM_DEBT': ['mean', 'sum'],\n",
    "    'AMT_CREDIT_SUM_OVERDUE': ['max', 'mean'],\n",
    "    'DAYS_CREDIT_UPDATE': ['min', 'mean'],\n",
    "    'DEBT_PERCENTAGE': ['mean'],\n",
    "    'DEBT_CREDIT_DIFF': ['mean'],\n",
    "    'CREDIT_TO_ANNUITY_RATIO': ['mean'],\n",
    "    'MONTHS_BALANCE_MEAN': ['mean', 'var'],\n",
    "    'MONTHS_BALANCE_SIZE': ['mean', 'sum'],\n",
    "}\n",
    "\n",
    "BUREAU_CLOSED_AGG = {\n",
    "    'DAYS_CREDIT': ['max', 'var'],\n",
    "    'DAYS_CREDIT_ENDDATE': ['max'],\n",
    "    'AMT_CREDIT_MAX_OVERDUE': ['max', 'mean'],\n",
    "    'AMT_CREDIT_SUM_OVERDUE': ['mean'],\n",
    "    'AMT_CREDIT_SUM': ['max', 'mean', 'sum'],\n",
    "    'AMT_CREDIT_SUM_DEBT': ['max', 'sum'],\n",
    "    'DAYS_CREDIT_UPDATE': ['max'],\n",
    "    'ENDDATE_DIF': ['mean'],\n",
    "    'STATUS_12345': ['mean'],\n",
    "}\n",
    "\n",
    "BUREAU_LOAN_TYPE_AGG = {\n",
    "    'DAYS_CREDIT': ['mean', 'max'],\n",
    "    'AMT_CREDIT_MAX_OVERDUE': ['mean', 'max'],\n",
    "    'AMT_CREDIT_SUM': ['mean', 'max'],\n",
    "    'AMT_CREDIT_SUM_DEBT': ['mean', 'max'],\n",
    "    'DEBT_PERCENTAGE': ['mean'],\n",
    "    'DEBT_CREDIT_DIFF': ['mean'],\n",
    "    'DAYS_CREDIT_ENDDATE': ['max'],\n",
    "}\n",
    "\n",
    "BUREAU_TIME_AGG = {\n",
    "    'AMT_CREDIT_MAX_OVERDUE': ['max', 'mean'],\n",
    "    'AMT_CREDIT_SUM_OVERDUE': ['mean'],\n",
    "    'AMT_CREDIT_SUM': ['max', 'sum'],\n",
    "    'AMT_CREDIT_SUM_DEBT': ['mean', 'sum'],\n",
    "    'DEBT_PERCENTAGE': ['mean'],\n",
    "    'DEBT_CREDIT_DIFF': ['mean'],\n",
    "    'STATUS_0': ['mean'],\n",
    "    'STATUS_12345': ['mean'],\n",
    "}"
   ]
  },
  {
   "cell_type": "code",
   "execution_count": null,
   "metadata": {
    "execution": {
     "iopub.execute_input": "2021-05-20T08:46:42.817491Z",
     "iopub.status.busy": "2021-05-20T08:46:42.817071Z",
     "iopub.status.idle": "2021-05-20T08:46:51.092417Z",
     "shell.execute_reply": "2021-05-20T08:46:51.091491Z",
     "shell.execute_reply.started": "2021-05-20T08:46:42.817448Z"
    }
   },
   "outputs": [],
   "source": [
    "agg_bureau = group(bureau, 'BUREAU_', BUREAU_AGG)\n",
    "active = bureau[bureau['CREDIT_ACTIVE_Active'] == 1]\n",
    "agg_bureau = group_and_merge(active,agg_bureau,'BUREAU_ACTIVE_',BUREAU_ACTIVE_AGG)\n",
    "closed = bureau[bureau['CREDIT_ACTIVE_Closed'] == 1]\n",
    "agg_bureau = group_and_merge(closed,agg_bureau,'BUREAU_CLOSED_',BUREAU_CLOSED_AGG)\n",
    "del active, closed; gc.collect()\n",
    "for credit_type in ['Consumer credit', 'Credit card', 'Mortgage', 'Car loan', 'Microloan']:\n",
    "    type_df = bureau[bureau['CREDIT_TYPE_' + credit_type] == 1]\n",
    "    prefix = 'BUREAU_' + credit_type.split(' ')[0].upper() + '_'\n",
    "    agg_bureau = group_and_merge(type_df, agg_bureau, prefix, BUREAU_LOAN_TYPE_AGG)\n",
    "    del type_df; gc.collect()\n",
    "for time_frame in [6, 12]:\n",
    "    prefix = \"BUREAU_LAST{}M_\".format(time_frame)\n",
    "    time_frame_df = bureau[bureau['DAYS_CREDIT'] >= -30*time_frame]\n",
    "    agg_bureau = group_and_merge(time_frame_df, agg_bureau, prefix, BUREAU_TIME_AGG)\n",
    "    del time_frame_df; gc.collect()"
   ]
  },
  {
   "cell_type": "code",
   "execution_count": null,
   "metadata": {
    "execution": {
     "iopub.execute_input": "2021-05-20T08:46:51.093811Z",
     "iopub.status.busy": "2021-05-20T08:46:51.093512Z",
     "iopub.status.idle": "2021-05-20T08:46:52.996517Z",
     "shell.execute_reply": "2021-05-20T08:46:52.995822Z",
     "shell.execute_reply.started": "2021-05-20T08:46:51.093782Z"
    }
   },
   "outputs": [],
   "source": [
    "sort_bureau = bureau.sort_values(by=['DAYS_CREDIT'])\n",
    "gr = sort_bureau.groupby('SK_ID_CURR')['AMT_CREDIT_MAX_OVERDUE'].last().reset_index()\n",
    "gr.rename({'AMT_CREDIT_MAX_OVERDUE': 'BUREAU_LAST_LOAN_MAX_OVERDUE'}, inplace=True)\n",
    "agg_bureau = agg_bureau.merge(gr, on='SK_ID_CURR', how='left')\n",
    "agg_bureau['BUREAU_DEBT_OVER_CREDIT'] = \\\n",
    "    agg_bureau['BUREAU_AMT_CREDIT_SUM_DEBT_SUM']/agg_bureau['BUREAU_AMT_CREDIT_SUM_SUM']\n",
    "agg_bureau['BUREAU_ACTIVE_DEBT_OVER_CREDIT'] = \\\n",
    "    agg_bureau['BUREAU_ACTIVE_AMT_CREDIT_SUM_DEBT_SUM']/agg_bureau['BUREAU_ACTIVE_AMT_CREDIT_SUM_SUM']"
   ]
  },
  {
   "cell_type": "code",
   "execution_count": null,
   "metadata": {
    "execution": {
     "iopub.execute_input": "2021-05-20T08:46:52.998056Z",
     "iopub.status.busy": "2021-05-20T08:46:52.997563Z",
     "iopub.status.idle": "2021-05-20T08:46:53.953175Z",
     "shell.execute_reply": "2021-05-20T08:46:53.952443Z",
     "shell.execute_reply.started": "2021-05-20T08:46:52.998025Z"
    }
   },
   "outputs": [],
   "source": [
    "df = pd.merge(df, agg_bureau, on='SK_ID_CURR', how='left')\n",
    "del agg_bureau, bureau\n",
    "gc.collect()"
   ]
  },
  {
   "cell_type": "code",
   "execution_count": null,
   "metadata": {
    "execution": {
     "iopub.execute_input": "2021-05-20T08:46:53.954656Z",
     "iopub.status.busy": "2021-05-20T08:46:53.954204Z",
     "iopub.status.idle": "2021-05-20T08:47:18.038946Z",
     "shell.execute_reply": "2021-05-20T08:47:18.037984Z",
     "shell.execute_reply.started": "2021-05-20T08:46:53.95462Z"
    }
   },
   "outputs": [],
   "source": [
    "prev = pd.read_csv(os.path.join(DATA_DIRECTORY, 'previous_application.csv'))\n",
    "pay = pd.read_csv(os.path.join(DATA_DIRECTORY, 'installments_payments.csv'))"
   ]
  },
  {
   "cell_type": "code",
   "execution_count": null,
   "metadata": {
    "execution": {
     "iopub.execute_input": "2021-05-20T08:47:18.040416Z",
     "iopub.status.busy": "2021-05-20T08:47:18.040148Z",
     "iopub.status.idle": "2021-05-20T08:47:18.054662Z",
     "shell.execute_reply": "2021-05-20T08:47:18.053618Z",
     "shell.execute_reply.started": "2021-05-20T08:47:18.04039Z"
    }
   },
   "outputs": [],
   "source": [
    "PREVIOUS_AGG = {\n",
    "    'SK_ID_PREV': ['nunique'],\n",
    "    'AMT_ANNUITY': ['min', 'max', 'mean'],\n",
    "    'AMT_DOWN_PAYMENT': ['max', 'mean'],\n",
    "    'HOUR_APPR_PROCESS_START': ['min', 'max', 'mean'],\n",
    "    'RATE_DOWN_PAYMENT': ['max', 'mean'],\n",
    "    'DAYS_DECISION': ['min', 'max', 'mean'],\n",
    "    'CNT_PAYMENT': ['max', 'mean'],\n",
    "    'DAYS_TERMINATION': ['max'],\n",
    "    # Engineered features\n",
    "    'CREDIT_TO_ANNUITY_RATIO': ['mean', 'max'],\n",
    "    'APPLICATION_CREDIT_DIFF': ['min', 'max', 'mean'],\n",
    "    'APPLICATION_CREDIT_RATIO': ['min', 'max', 'mean', 'var'],\n",
    "    'DOWN_PAYMENT_TO_CREDIT': ['mean'],\n",
    "}\n",
    "\n",
    "PREVIOUS_ACTIVE_AGG = {\n",
    "    'SK_ID_PREV': ['nunique'],\n",
    "    'SIMPLE_INTERESTS': ['mean'],\n",
    "    'AMT_ANNUITY': ['max', 'sum'],\n",
    "    'AMT_APPLICATION': ['max', 'mean'],\n",
    "    'AMT_CREDIT': ['sum'],\n",
    "    'AMT_DOWN_PAYMENT': ['max', 'mean'],\n",
    "    'DAYS_DECISION': ['min', 'mean'],\n",
    "    'CNT_PAYMENT': ['mean', 'sum'],\n",
    "    'DAYS_LAST_DUE_1ST_VERSION': ['min', 'max', 'mean'],\n",
    "    # Engineered features\n",
    "    'AMT_PAYMENT': ['sum'],\n",
    "    'INSTALMENT_PAYMENT_DIFF': ['mean', 'max'],\n",
    "    'REMAINING_DEBT': ['max', 'mean', 'sum'],\n",
    "    'REPAYMENT_RATIO': ['mean'],\n",
    "}\n",
    "PREVIOUS_LATE_PAYMENTS_AGG = {\n",
    "    'DAYS_DECISION': ['min', 'max', 'mean'],\n",
    "    'DAYS_LAST_DUE_1ST_VERSION': ['min', 'max', 'mean'],\n",
    "    # Engineered features\n",
    "    'APPLICATION_CREDIT_DIFF': ['min'],\n",
    "    'NAME_CONTRACT_TYPE_Consumer loans': ['mean'],\n",
    "    'NAME_CONTRACT_TYPE_Cash loans': ['mean'],\n",
    "    'NAME_CONTRACT_TYPE_Revolving loans': ['mean'],\n",
    "}\n",
    "\n",
    "PREVIOUS_LOAN_TYPE_AGG = {\n",
    "    'AMT_CREDIT': ['sum'],\n",
    "    'AMT_ANNUITY': ['mean', 'max'],\n",
    "    'SIMPLE_INTERESTS': ['min', 'mean', 'max', 'var'],\n",
    "    'APPLICATION_CREDIT_DIFF': ['min', 'var'],\n",
    "    'APPLICATION_CREDIT_RATIO': ['min', 'max', 'mean'],\n",
    "    'DAYS_DECISION': ['max'],\n",
    "    'DAYS_LAST_DUE_1ST_VERSION': ['max', 'mean'],\n",
    "    'CNT_PAYMENT': ['mean'],\n",
    "}\n",
    "\n",
    "PREVIOUS_TIME_AGG = {\n",
    "    'AMT_CREDIT': ['sum'],\n",
    "    'AMT_ANNUITY': ['mean', 'max'],\n",
    "    'SIMPLE_INTERESTS': ['mean', 'max'],\n",
    "    'DAYS_DECISION': ['min', 'mean'],\n",
    "    'DAYS_LAST_DUE_1ST_VERSION': ['min', 'max', 'mean'],\n",
    "    # Engineered features\n",
    "    'APPLICATION_CREDIT_DIFF': ['min'],\n",
    "    'APPLICATION_CREDIT_RATIO': ['min', 'max', 'mean'],\n",
    "    'NAME_CONTRACT_TYPE_Consumer loans': ['mean'],\n",
    "    'NAME_CONTRACT_TYPE_Cash loans': ['mean'],\n",
    "    'NAME_CONTRACT_TYPE_Revolving loans': ['mean'],\n",
    "}\n",
    "\n",
    "PREVIOUS_APPROVED_AGG = {\n",
    "    'SK_ID_PREV': ['nunique'],\n",
    "    'AMT_ANNUITY': ['min', 'max', 'mean'],\n",
    "    'AMT_CREDIT': ['min', 'max', 'mean'],\n",
    "    'AMT_DOWN_PAYMENT': ['max'],\n",
    "    'AMT_GOODS_PRICE': ['max'],\n",
    "    'HOUR_APPR_PROCESS_START': ['min', 'max'],\n",
    "    'DAYS_DECISION': ['min', 'mean'],\n",
    "    'CNT_PAYMENT': ['max', 'mean'],\n",
    "    'DAYS_TERMINATION': ['mean'],\n",
    "    # Engineered features\n",
    "    'CREDIT_TO_ANNUITY_RATIO': ['mean', 'max'],\n",
    "    'APPLICATION_CREDIT_DIFF': ['max'],\n",
    "    'APPLICATION_CREDIT_RATIO': ['min', 'max', 'mean'],\n",
    "    # The following features are only for approved applications\n",
    "    'DAYS_FIRST_DRAWING': ['max', 'mean'],\n",
    "    'DAYS_FIRST_DUE': ['min', 'mean'],\n",
    "    'DAYS_LAST_DUE_1ST_VERSION': ['min', 'max', 'mean'],\n",
    "    'DAYS_LAST_DUE': ['max', 'mean'],\n",
    "    'DAYS_LAST_DUE_DIFF': ['min', 'max', 'mean'],\n",
    "    'SIMPLE_INTERESTS': ['min', 'max', 'mean'],\n",
    "}\n",
    "\n",
    "PREVIOUS_REFUSED_AGG = {\n",
    "    'AMT_APPLICATION': ['max', 'mean'],\n",
    "    'AMT_CREDIT': ['min', 'max'],\n",
    "    'DAYS_DECISION': ['min', 'max', 'mean'],\n",
    "    'CNT_PAYMENT': ['max', 'mean'],\n",
    "    # Engineered features\n",
    "    'APPLICATION_CREDIT_DIFF': ['min', 'max', 'mean', 'var'],\n",
    "    'APPLICATION_CREDIT_RATIO': ['min', 'mean'],\n",
    "    'NAME_CONTRACT_TYPE_Consumer loans': ['mean'],\n",
    "    'NAME_CONTRACT_TYPE_Cash loans': ['mean'],\n",
    "    'NAME_CONTRACT_TYPE_Revolving loans': ['mean'],\n",
    "}\n"
   ]
  },
  {
   "cell_type": "code",
   "execution_count": null,
   "metadata": {
    "execution": {
     "iopub.execute_input": "2021-05-20T08:47:18.056561Z",
     "iopub.status.busy": "2021-05-20T08:47:18.055993Z",
     "iopub.status.idle": "2021-05-20T08:47:19.669193Z",
     "shell.execute_reply": "2021-05-20T08:47:19.668399Z",
     "shell.execute_reply.started": "2021-05-20T08:47:18.056518Z"
    }
   },
   "outputs": [],
   "source": [
    "ohe_columns = [\n",
    "    'NAME_CONTRACT_STATUS', 'NAME_CONTRACT_TYPE', 'CHANNEL_TYPE',\n",
    "    'NAME_TYPE_SUITE', 'NAME_YIELD_GROUP', 'PRODUCT_COMBINATION',\n",
    "    'NAME_PRODUCT_TYPE', 'NAME_CLIENT_TYPE']\n",
    "prev, categorical_cols = one_hot_encoder(prev, ohe_columns, nan_as_category= False)"
   ]
  },
  {
   "cell_type": "code",
   "execution_count": null,
   "metadata": {
    "execution": {
     "iopub.execute_input": "2021-05-20T08:47:19.670597Z",
     "iopub.status.busy": "2021-05-20T08:47:19.67034Z",
     "iopub.status.idle": "2021-05-20T08:47:19.713275Z",
     "shell.execute_reply": "2021-05-20T08:47:19.71254Z",
     "shell.execute_reply.started": "2021-05-20T08:47:19.670555Z"
    }
   },
   "outputs": [],
   "source": [
    "prev['APPLICATION_CREDIT_DIFF'] = prev['AMT_APPLICATION'] - prev['AMT_CREDIT']\n",
    "prev['APPLICATION_CREDIT_RATIO'] = prev['AMT_APPLICATION'] / prev['AMT_CREDIT']\n",
    "prev['CREDIT_TO_ANNUITY_RATIO'] = prev['AMT_CREDIT']/prev['AMT_ANNUITY']\n",
    "prev['DOWN_PAYMENT_TO_CREDIT'] = prev['AMT_DOWN_PAYMENT'] / prev['AMT_CREDIT']\n",
    "total_payment = prev['AMT_ANNUITY'] * prev['CNT_PAYMENT']\n",
    "prev['SIMPLE_INTERESTS'] = (total_payment/prev['AMT_CREDIT'] - 1)/prev['CNT_PAYMENT']"
   ]
  },
  {
   "cell_type": "code",
   "execution_count": null,
   "metadata": {
    "execution": {
     "iopub.execute_input": "2021-05-20T08:47:19.715016Z",
     "iopub.status.busy": "2021-05-20T08:47:19.714488Z",
     "iopub.status.idle": "2021-05-20T08:47:22.361484Z",
     "shell.execute_reply": "2021-05-20T08:47:22.360549Z",
     "shell.execute_reply.started": "2021-05-20T08:47:19.714976Z"
    }
   },
   "outputs": [],
   "source": [
    "approved = prev[prev['NAME_CONTRACT_STATUS_Approved'] == 1]\n",
    "active_df = approved[approved['DAYS_LAST_DUE'] == 365243]\n",
    "active_pay = pay[pay['SK_ID_PREV'].isin(active_df['SK_ID_PREV'])]\n",
    "active_pay_agg = active_pay.groupby('SK_ID_PREV')[['AMT_INSTALMENT', 'AMT_PAYMENT']].sum()\n",
    "active_pay_agg.reset_index(inplace= True)\n",
    "active_pay_agg['INSTALMENT_PAYMENT_DIFF'] = active_pay_agg['AMT_INSTALMENT'] - active_pay_agg['AMT_PAYMENT']\n",
    "active_df = active_df.merge(active_pay_agg, on= 'SK_ID_PREV', how= 'left')\n",
    "active_df['REMAINING_DEBT'] = active_df['AMT_CREDIT'] - active_df['AMT_PAYMENT']\n",
    "active_df['REPAYMENT_RATIO'] = active_df['AMT_PAYMENT'] / active_df['AMT_CREDIT']\n",
    "active_agg_df = group(active_df, 'PREV_ACTIVE_', PREVIOUS_ACTIVE_AGG)\n",
    "active_agg_df['TOTAL_REPAYMENT_RATIO'] = active_agg_df['PREV_ACTIVE_AMT_PAYMENT_SUM']/\\\n",
    "                                            active_agg_df['PREV_ACTIVE_AMT_CREDIT_SUM']\n",
    "del active_pay, active_pay_agg, active_df; gc.collect()"
   ]
  },
  {
   "cell_type": "code",
   "execution_count": null,
   "metadata": {
    "execution": {
     "iopub.execute_input": "2021-05-20T08:47:22.362913Z",
     "iopub.status.busy": "2021-05-20T08:47:22.362649Z",
     "iopub.status.idle": "2021-05-20T08:47:22.396438Z",
     "shell.execute_reply": "2021-05-20T08:47:22.39564Z",
     "shell.execute_reply.started": "2021-05-20T08:47:22.362887Z"
    }
   },
   "outputs": [],
   "source": [
    "prev['DAYS_FIRST_DRAWING'].replace(365243, np.nan, inplace= True)\n",
    "prev['DAYS_FIRST_DUE'].replace(365243, np.nan, inplace= True)\n",
    "prev['DAYS_LAST_DUE_1ST_VERSION'].replace(365243, np.nan, inplace= True)\n",
    "prev['DAYS_LAST_DUE'].replace(365243, np.nan, inplace= True)\n",
    "prev['DAYS_TERMINATION'].replace(365243, np.nan, inplace= True)"
   ]
  },
  {
   "cell_type": "code",
   "execution_count": null,
   "metadata": {
    "execution": {
     "iopub.execute_input": "2021-05-20T08:47:22.398166Z",
     "iopub.status.busy": "2021-05-20T08:47:22.397831Z",
     "iopub.status.idle": "2021-05-20T08:47:22.414693Z",
     "shell.execute_reply": "2021-05-20T08:47:22.413711Z",
     "shell.execute_reply.started": "2021-05-20T08:47:22.39813Z"
    }
   },
   "outputs": [],
   "source": [
    "prev['DAYS_LAST_DUE_DIFF'] = prev['DAYS_LAST_DUE_1ST_VERSION'] - prev['DAYS_LAST_DUE']\n",
    "approved['DAYS_LAST_DUE_DIFF'] = approved['DAYS_LAST_DUE_1ST_VERSION'] - approved['DAYS_LAST_DUE']"
   ]
  },
  {
   "cell_type": "code",
   "execution_count": null,
   "metadata": {
    "execution": {
     "iopub.execute_input": "2021-05-20T08:47:22.416211Z",
     "iopub.status.busy": "2021-05-20T08:47:22.415715Z",
     "iopub.status.idle": "2021-05-20T08:47:22.420253Z",
     "shell.execute_reply": "2021-05-20T08:47:22.419151Z",
     "shell.execute_reply.started": "2021-05-20T08:47:22.416174Z"
    }
   },
   "outputs": [],
   "source": [
    "categorical_agg = {key: ['mean'] for key in categorical_cols}"
   ]
  },
  {
   "cell_type": "code",
   "execution_count": null,
   "metadata": {
    "execution": {
     "iopub.execute_input": "2021-05-20T08:47:22.422049Z",
     "iopub.status.busy": "2021-05-20T08:47:22.421673Z",
     "iopub.status.idle": "2021-05-20T08:47:27.114601Z",
     "shell.execute_reply": "2021-05-20T08:47:27.113788Z",
     "shell.execute_reply.started": "2021-05-20T08:47:22.42201Z"
    }
   },
   "outputs": [],
   "source": [
    "agg_prev = group(prev, 'PREV_', {**PREVIOUS_AGG, **categorical_agg})\n",
    "agg_prev = agg_prev.merge(active_agg_df, how='left', on='SK_ID_CURR')\n",
    "del active_agg_df; gc.collect()"
   ]
  },
  {
   "cell_type": "code",
   "execution_count": null,
   "metadata": {
    "execution": {
     "iopub.execute_input": "2021-05-20T08:47:27.115913Z",
     "iopub.status.busy": "2021-05-20T08:47:27.115645Z",
     "iopub.status.idle": "2021-05-20T08:47:30.061026Z",
     "shell.execute_reply": "2021-05-20T08:47:30.060011Z",
     "shell.execute_reply.started": "2021-05-20T08:47:27.115887Z"
    }
   },
   "outputs": [],
   "source": [
    "agg_prev = group_and_merge(approved, agg_prev, 'APPROVED_', PREVIOUS_APPROVED_AGG)\n",
    "refused = prev[prev['NAME_CONTRACT_STATUS_Refused'] == 1]\n",
    "agg_prev = group_and_merge(refused, agg_prev, 'REFUSED_', PREVIOUS_REFUSED_AGG)\n",
    "del approved, refused; gc.collect()"
   ]
  },
  {
   "cell_type": "code",
   "execution_count": null,
   "metadata": {
    "execution": {
     "iopub.execute_input": "2021-05-20T08:47:30.062637Z",
     "iopub.status.busy": "2021-05-20T08:47:30.062257Z",
     "iopub.status.idle": "2021-05-20T08:47:32.530471Z",
     "shell.execute_reply": "2021-05-20T08:47:32.529621Z",
     "shell.execute_reply.started": "2021-05-20T08:47:30.062598Z"
    }
   },
   "outputs": [],
   "source": [
    "for loan_type in ['Consumer loans', 'Cash loans']:\n",
    "    type_df = prev[prev['NAME_CONTRACT_TYPE_{}'.format(loan_type)] == 1]\n",
    "    prefix = 'PREV_' + loan_type.split(\" \")[0] + '_'\n",
    "    agg_prev = group_and_merge(type_df, agg_prev, prefix, PREVIOUS_LOAN_TYPE_AGG)\n",
    "    del type_df; gc.collect()"
   ]
  },
  {
   "cell_type": "code",
   "execution_count": null,
   "metadata": {
    "execution": {
     "iopub.execute_input": "2021-05-20T08:47:32.53244Z",
     "iopub.status.busy": "2021-05-20T08:47:32.532071Z",
     "iopub.status.idle": "2021-05-20T08:47:37.919881Z",
     "shell.execute_reply": "2021-05-20T08:47:37.918859Z",
     "shell.execute_reply.started": "2021-05-20T08:47:32.5324Z"
    }
   },
   "outputs": [],
   "source": [
    "pay['LATE_PAYMENT'] = pay['DAYS_ENTRY_PAYMENT'] - pay['DAYS_INSTALMENT']\n",
    "pay['LATE_PAYMENT'] = pay['LATE_PAYMENT'].apply(lambda x: 1 if x > 0 else 0)\n",
    "dpd_id = pay[pay['LATE_PAYMENT'] > 0]['SK_ID_PREV'].unique()"
   ]
  },
  {
   "cell_type": "code",
   "execution_count": null,
   "metadata": {
    "execution": {
     "iopub.execute_input": "2021-05-20T08:47:37.9215Z",
     "iopub.status.busy": "2021-05-20T08:47:37.921183Z",
     "iopub.status.idle": "2021-05-20T08:47:38.732063Z",
     "shell.execute_reply": "2021-05-20T08:47:38.731079Z",
     "shell.execute_reply.started": "2021-05-20T08:47:37.921438Z"
    }
   },
   "outputs": [],
   "source": [
    "agg_dpd = group_and_merge(prev[prev['SK_ID_PREV'].isin(dpd_id)], agg_prev,\n",
    "                                    'PREV_LATE_', PREVIOUS_LATE_PAYMENTS_AGG)\n",
    "del agg_dpd, dpd_id; gc.collect()"
   ]
  },
  {
   "cell_type": "code",
   "execution_count": null,
   "metadata": {
    "execution": {
     "iopub.execute_input": "2021-05-20T08:47:38.733442Z",
     "iopub.status.busy": "2021-05-20T08:47:38.733188Z",
     "iopub.status.idle": "2021-05-20T08:47:41.481283Z",
     "shell.execute_reply": "2021-05-20T08:47:41.480599Z",
     "shell.execute_reply.started": "2021-05-20T08:47:38.733416Z"
    }
   },
   "outputs": [],
   "source": [
    "for time_frame in [12, 24]:\n",
    "    time_frame_df = prev[prev['DAYS_DECISION'] >= -30*time_frame]\n",
    "    prefix = 'PREV_LAST{}M_'.format(time_frame)\n",
    "    agg_prev = group_and_merge(time_frame_df, agg_prev, prefix, PREVIOUS_TIME_AGG)\n",
    "    del time_frame_df; gc.collect()\n",
    "del prev; gc.collect()"
   ]
  },
  {
   "cell_type": "code",
   "execution_count": null,
   "metadata": {
    "execution": {
     "iopub.execute_input": "2021-05-20T08:47:41.483017Z",
     "iopub.status.busy": "2021-05-20T08:47:41.482456Z",
     "iopub.status.idle": "2021-05-20T08:47:43.805054Z",
     "shell.execute_reply": "2021-05-20T08:47:43.804269Z",
     "shell.execute_reply.started": "2021-05-20T08:47:41.482975Z"
    }
   },
   "outputs": [],
   "source": [
    "df = pd.merge(df, agg_prev, on='SK_ID_CURR', how='left')"
   ]
  },
  {
   "cell_type": "code",
   "execution_count": null,
   "metadata": {
    "execution": {
     "iopub.execute_input": "2021-05-20T08:47:43.806831Z",
     "iopub.status.busy": "2021-05-20T08:47:43.806296Z",
     "iopub.status.idle": "2021-05-20T08:47:45.359201Z",
     "shell.execute_reply": "2021-05-20T08:47:45.358369Z",
     "shell.execute_reply.started": "2021-05-20T08:47:43.80679Z"
    }
   },
   "outputs": [],
   "source": [
    "train = df[df['TARGET'].notnull()]\n",
    "test = df[df['TARGET'].isnull()]\n",
    "del df\n",
    "gc.collect()"
   ]
  },
  {
   "cell_type": "code",
   "execution_count": null,
   "metadata": {
    "execution": {
     "iopub.execute_input": "2021-05-20T08:47:45.360944Z",
     "iopub.status.busy": "2021-05-20T08:47:45.360356Z",
     "iopub.status.idle": "2021-05-20T08:47:45.73062Z",
     "shell.execute_reply": "2021-05-20T08:47:45.729587Z",
     "shell.execute_reply.started": "2021-05-20T08:47:45.3609Z"
    }
   },
   "outputs": [],
   "source": [
    "labels = train['TARGET']\n",
    "train = train.drop(columns=['TARGET'])\n",
    "test = test.drop(columns=['TARGET'])"
   ]
  },
  {
   "cell_type": "code",
   "execution_count": null,
   "metadata": {
    "execution": {
     "iopub.execute_input": "2021-05-20T08:47:45.732094Z",
     "iopub.status.busy": "2021-05-20T08:47:45.731822Z",
     "iopub.status.idle": "2021-05-20T08:48:13.66203Z",
     "shell.execute_reply": "2021-05-20T08:48:13.661032Z",
     "shell.execute_reply.started": "2021-05-20T08:47:45.73206Z"
    }
   },
   "outputs": [],
   "source": [
    "feature = list(train.columns)\n",
    "\n",
    "train.replace([np.inf, -np.inf], np.nan, inplace=True)\n",
    "test.replace([np.inf, -np.inf], np.nan, inplace=True)\n",
    "test_df = test.copy()\n",
    "train_df = train.copy()\n",
    "train_df['TARGET'] = labels"
   ]
  },
  {
   "cell_type": "code",
   "execution_count": null,
   "metadata": {},
   "outputs": [],
   "source": [
    "imputer = SimpleImputer(strategy = 'median')\n",
    "imputer.fit(train)\n",
    "train = imputer.transform(train)\n",
    "test = imputer.transform(test)"
   ]
  },
  {
   "cell_type": "code",
   "execution_count": null,
   "metadata": {},
   "outputs": [],
   "source": [
    "scaler = MinMaxScaler(feature_range = (0, 1))\n",
    "scaler.fit(train)\n",
    "train = scaler.transform(train)\n",
    "test = scaler.transform(test)"
   ]
  },
  {
   "cell_type": "code",
   "execution_count": null,
   "metadata": {
    "execution": {
     "iopub.execute_input": "2021-05-20T08:48:13.66342Z",
     "iopub.status.busy": "2021-05-20T08:48:13.66317Z",
     "iopub.status.idle": "2021-05-20T08:48:23.254513Z",
     "shell.execute_reply": "2021-05-20T08:48:23.253355Z",
     "shell.execute_reply.started": "2021-05-20T08:48:13.663396Z"
    }
   },
   "outputs": [],
   "source": [
    "log_reg = LogisticRegression(C = 0.0001)\n",
    "log_reg.fit(train, labels)"
   ]
  },
  {
   "cell_type": "code",
   "execution_count": null,
   "metadata": {
    "execution": {
     "iopub.execute_input": "2021-05-20T08:48:23.262616Z",
     "iopub.status.busy": "2021-05-20T08:48:23.25987Z",
     "iopub.status.idle": "2021-05-20T08:48:23.302043Z",
     "shell.execute_reply": "2021-05-20T08:48:23.300993Z",
     "shell.execute_reply.started": "2021-05-20T08:48:23.262501Z"
    }
   },
   "outputs": [],
   "source": [
    "log_reg_pred = log_reg.predict_proba(test)[:, 1]"
   ]
  },
  {
   "cell_type": "code",
   "execution_count": null,
   "metadata": {
    "execution": {
     "iopub.execute_input": "2021-05-20T08:48:23.307973Z",
     "iopub.status.busy": "2021-05-20T08:48:23.307219Z",
     "iopub.status.idle": "2021-05-20T08:48:23.316407Z",
     "shell.execute_reply": "2021-05-20T08:48:23.315406Z",
     "shell.execute_reply.started": "2021-05-20T08:48:23.307923Z"
    }
   },
   "outputs": [],
   "source": [
    "submit = test_df[['SK_ID_CURR']]\n",
    "submit['TARGET'] = log_reg_pred"
   ]
  },
  {
   "cell_type": "code",
   "execution_count": null,
   "metadata": {
    "execution": {
     "iopub.execute_input": "2021-05-20T08:48:23.318799Z",
     "iopub.status.busy": "2021-05-20T08:48:23.318085Z",
     "iopub.status.idle": "2021-05-20T08:48:23.482639Z",
     "shell.execute_reply": "2021-05-20T08:48:23.48188Z",
     "shell.execute_reply.started": "2021-05-20T08:48:23.318749Z"
    }
   },
   "outputs": [],
   "source": [
    "submit.to_csv('output/log_reg.csv', index = False)"
   ]
  },
  {
   "cell_type": "code",
   "execution_count": null,
   "metadata": {
    "execution": {
     "iopub.execute_input": "2021-05-20T08:48:23.484197Z",
     "iopub.status.busy": "2021-05-20T08:48:23.483755Z",
     "iopub.status.idle": "2021-05-20T08:48:23.555609Z",
     "shell.execute_reply": "2021-05-20T08:48:23.554671Z",
     "shell.execute_reply.started": "2021-05-20T08:48:23.484169Z"
    }
   },
   "outputs": [],
   "source": [
    "from sklearn.ensemble import RandomForestClassifier\n",
    "\n",
    "random_forest = RandomForestClassifier(n_estimators = 100, random_state = 50, verbose = 1, n_jobs = -1)"
   ]
  },
  {
   "cell_type": "code",
   "execution_count": null,
   "metadata": {
    "execution": {
     "iopub.execute_input": "2021-05-20T08:48:23.55705Z",
     "iopub.status.busy": "2021-05-20T08:48:23.556773Z",
     "iopub.status.idle": "2021-05-20T08:53:16.01361Z",
     "shell.execute_reply": "2021-05-20T08:53:16.012649Z",
     "shell.execute_reply.started": "2021-05-20T08:48:23.557023Z"
    }
   },
   "outputs": [],
   "source": [
    "random_forest.fit(train, labels)\n",
    "\n",
    "feature_importance_values = random_forest.feature_importances_\n",
    "feature_importances = pd.DataFrame({'feature': feature, 'importance': feature_importance_values})\n",
    "\n",
    "predictions = random_forest.predict_proba(test)[:, 1]\n",
    "del train, test\n",
    "gc.collect()"
   ]
  },
  {
   "cell_type": "code",
   "execution_count": null,
   "metadata": {
    "execution": {
     "iopub.execute_input": "2021-05-20T08:53:16.015179Z",
     "iopub.status.busy": "2021-05-20T08:53:16.014903Z",
     "iopub.status.idle": "2021-05-20T08:53:16.19556Z",
     "shell.execute_reply": "2021-05-20T08:53:16.194634Z",
     "shell.execute_reply.started": "2021-05-20T08:53:16.01515Z"
    }
   },
   "outputs": [],
   "source": [
    "submit = test_df[['SK_ID_CURR']]\n",
    "submit['TARGET'] = predictions\n",
    "del predictions\n",
    "submit.to_csv('output/random_forest.csv', index = False)\n",
    "del submit\n",
    "gc.collect()"
   ]
  },
  {
   "cell_type": "code",
   "execution_count": null,
   "metadata": {
    "execution": {
     "iopub.execute_input": "2021-05-20T08:53:16.200777Z",
     "iopub.status.busy": "2021-05-20T08:53:16.200471Z",
     "iopub.status.idle": "2021-05-20T08:53:17.265888Z",
     "shell.execute_reply": "2021-05-20T08:53:17.264983Z",
     "shell.execute_reply.started": "2021-05-20T08:53:16.200749Z"
    }
   },
   "outputs": [],
   "source": [
    "from sklearn.model_selection import KFold\n",
    "from sklearn.metrics import roc_auc_score\n",
    "import lightgbm as lgb\n",
    "import gc\n",
    "\n",
    "# Ref: https://pranaysite.netlify.app/lightgbm/\n",
    "\n",
    "def model(features, test_features, encoding = 'ohe', n_folds = 5):\n",
    "    \n",
    "    \"\"\"Train and test a light gradient boosting model using\n",
    "    cross validation. \n",
    "    \n",
    "    Parameters\n",
    "    --------\n",
    "        features (pd.DataFrame): \n",
    "            dataframe of training features to use \n",
    "            for training a model. Must include the TARGET column.\n",
    "        test_features (pd.DataFrame): \n",
    "            dataframe of testing features to use\n",
    "            for making predictions with the model. \n",
    "        encoding (str, default = 'ohe'): \n",
    "            method for encoding categorical variables. Either 'ohe' for one-hot encoding or 'le' for integer label encoding\n",
    "            n_folds (int, default = 5): number of folds to use for cross validation\n",
    "        \n",
    "    Return\n",
    "    --------\n",
    "        submission (pd.DataFrame): \n",
    "            dataframe with `SK_ID_CURR` and `TARGET` probabilities\n",
    "            predicted by the model.\n",
    "        feature_importances (pd.DataFrame): \n",
    "            dataframe with the feature importances from the model.\n",
    "        valid_metrics (pd.DataFrame): \n",
    "            dataframe with training and validation metrics (ROC AUC) for each fold and overall.\n",
    "        \n",
    "    \"\"\"\n",
    "    \n",
    "    # Extract the ids\n",
    "    train_ids = features['SK_ID_CURR']\n",
    "    test_ids = test_features['SK_ID_CURR']\n",
    "    \n",
    "    # Extract the labels for training\n",
    "    labels = features['TARGET']\n",
    "    \n",
    "    # Remove the ids and target\n",
    "    features = features.drop(columns = ['SK_ID_CURR', 'TARGET'])\n",
    "    test_features = test_features.drop(columns = ['SK_ID_CURR'])\n",
    "    \n",
    "    \n",
    "    # One Hot Encoding\n",
    "    if encoding == 'ohe':\n",
    "        features = pd.get_dummies(features)\n",
    "        test_features = pd.get_dummies(test_features)\n",
    "        \n",
    "        # Align the dataframes by the columns\n",
    "        features, test_features = features.align(test_features, join = 'inner', axis = 1)\n",
    "        \n",
    "        # No categorical indices to record\n",
    "        cat_indices = 'auto'\n",
    "    \n",
    "    # Integer label encoding\n",
    "    elif encoding == 'le':\n",
    "        \n",
    "        # Create a label encoder\n",
    "        label_encoder = LabelEncoder()\n",
    "        \n",
    "        # List for storing categorical indices\n",
    "        cat_indices = []\n",
    "        \n",
    "        # Iterate through each column\n",
    "        for i, col in enumerate(features):\n",
    "            if features[col].dtype == 'object':\n",
    "                # Map the categorical features to integers\n",
    "                features[col] = label_encoder.fit_transform(np.array(features[col].astype(str)).reshape((-1,)))\n",
    "                test_features[col] = label_encoder.transform(np.array(test_features[col].astype(str)).reshape((-1,)))\n",
    "\n",
    "                # Record the categorical indices\n",
    "                cat_indices.append(i)\n",
    "    \n",
    "    # Catch error if label encoding scheme is not valid\n",
    "    else:\n",
    "        raise ValueError(\"Encoding must be either 'ohe' or 'le'\")\n",
    "        \n",
    "    print('Training Data Shape: ', features.shape)\n",
    "    print('Testing Data Shape: ', test_features.shape)\n",
    "    \n",
    "    # Extract feature names\n",
    "    feature_names = list(features.columns)\n",
    "    \n",
    "    # Convert to np arrays\n",
    "    features = np.array(features)\n",
    "    test_features = np.array(test_features)\n",
    "    \n",
    "    # Create the kfold object\n",
    "    k_fold = KFold(n_splits = n_folds, shuffle = True, random_state = 50)\n",
    "    \n",
    "    # Empty array for feature importances\n",
    "    feature_importance_values = np.zeros(len(feature_names))\n",
    "    \n",
    "    # Empty array for test predictions\n",
    "    test_predictions = np.zeros(test_features.shape[0])\n",
    "    \n",
    "    # Empty array for out of fold validation predictions\n",
    "    out_of_fold = np.zeros(features.shape[0])\n",
    "    \n",
    "    # Lists for recording validation and training scores\n",
    "    valid_scores = []\n",
    "    train_scores = []\n",
    "    \n",
    "    # Iterate through each fold\n",
    "    for train_indices, valid_indices in k_fold.split(features):\n",
    "        \n",
    "        # Training data for the fold\n",
    "        train_features, train_labels = features[train_indices], labels[train_indices]\n",
    "        # Validation data for the fold\n",
    "        valid_features, valid_labels = features[valid_indices], labels[valid_indices]\n",
    "        \n",
    "        # Create the model\n",
    "        model = lgb.LGBMClassifier(n_estimators=10000, objective = 'binary', \n",
    "                                   class_weight = 'balanced', learning_rate = 0.05, \n",
    "                                   reg_alpha = 0.1, reg_lambda = 0.1, \n",
    "                                   subsample = 0.8, n_jobs = -1, random_state = 50)\n",
    "        \n",
    "        # Train the model\n",
    "        model.fit(train_features, train_labels, eval_metric = 'auc',\n",
    "                  eval_set = [(valid_features, valid_labels), (train_features, train_labels)],\n",
    "                  eval_names = ['valid', 'train'], categorical_feature = cat_indices,\n",
    "                  early_stopping_rounds = 100, verbose = 200)\n",
    "        \n",
    "        # Record the best iteration\n",
    "        best_iteration = model.best_iteration_\n",
    "        \n",
    "        # Record the feature importances\n",
    "        feature_importance_values += model.feature_importances_ / k_fold.n_splits\n",
    "        \n",
    "        # Make predictions\n",
    "        test_predictions += model.predict_proba(test_features, num_iteration = best_iteration)[:, 1] / k_fold.n_splits\n",
    "        \n",
    "        # Record the out of fold predictions\n",
    "        out_of_fold[valid_indices] = model.predict_proba(valid_features, num_iteration = best_iteration)[:, 1]\n",
    "        \n",
    "        # Record the best score\n",
    "        valid_score = model.best_score_['valid']['auc']\n",
    "        train_score = model.best_score_['train']['auc']\n",
    "        \n",
    "        valid_scores.append(valid_score)\n",
    "        train_scores.append(train_score)\n",
    "        \n",
    "        # Clean up memory\n",
    "        gc.enable()\n",
    "        del model, train_features, valid_features\n",
    "        gc.collect()\n",
    "        \n",
    "    # Make the submission dataframe\n",
    "    submission = pd.DataFrame({'SK_ID_CURR': test_ids, 'TARGET': test_predictions})\n",
    "    \n",
    "    # Make the feature importance dataframe\n",
    "    feature_importances = pd.DataFrame({'feature': feature_names, 'importance': feature_importance_values})\n",
    "    \n",
    "    # Overall validation score\n",
    "    valid_auc = roc_auc_score(labels, out_of_fold)\n",
    "    \n",
    "    # Add the overall scores to the metrics\n",
    "    valid_scores.append(valid_auc)\n",
    "    train_scores.append(np.mean(train_scores))\n",
    "    \n",
    "    # Needed for creating dataframe of validation scores\n",
    "    fold_names = list(range(n_folds))\n",
    "    fold_names.append('overall')\n",
    "    \n",
    "    # Dataframe of validation scores\n",
    "    metrics = pd.DataFrame({'fold': fold_names,\n",
    "                            'train': train_scores,\n",
    "                            'valid': valid_scores}) \n",
    "    \n",
    "    return submission, feature_importances, metrics"
   ]
  },
  {
   "cell_type": "code",
   "execution_count": null,
   "metadata": {
    "execution": {
     "iopub.execute_input": "2021-05-20T08:53:17.268526Z",
     "iopub.status.busy": "2021-05-20T08:53:17.267814Z",
     "iopub.status.idle": "2021-05-20T09:01:54.474863Z",
     "shell.execute_reply": "2021-05-20T09:01:54.473924Z",
     "shell.execute_reply.started": "2021-05-20T08:53:17.268479Z"
    }
   },
   "outputs": [],
   "source": [
    "submission, fi, metrics = model(train_df, test_df)\n",
    "print('LightGBM metrics')\n",
    "print(metrics)"
   ]
  },
  {
   "cell_type": "code",
   "execution_count": null,
   "metadata": {
    "execution": {
     "iopub.execute_input": "2021-05-20T09:01:54.476685Z",
     "iopub.status.busy": "2021-05-20T09:01:54.47631Z",
     "iopub.status.idle": "2021-05-20T09:01:54.484588Z",
     "shell.execute_reply": "2021-05-20T09:01:54.483633Z",
     "shell.execute_reply.started": "2021-05-20T09:01:54.476646Z"
    }
   },
   "outputs": [],
   "source": [
    "def plot_feature_importances(df):\n",
    "    \"\"\"\n",
    "    Plot importances returned by a model. This can work with any measure of\n",
    "    feature importance provided that higher importance is better. \n",
    "    \n",
    "    Args:\n",
    "        df (dataframe): feature importances. Must have the features in a column\n",
    "        called `features` and the importances in a column called `importance\n",
    "        \n",
    "    Returns:\n",
    "        shows a plot of the 15 most importance features\n",
    "        \n",
    "        df (dataframe): feature importances sorted by importance (highest to lowest) \n",
    "        with a column for normalized importance\n",
    "        \"\"\"\n",
    "    \n",
    "    # Sort features according to importance\n",
    "    df = df.sort_values('importance', ascending = False).reset_index()\n",
    "    \n",
    "    # Normalize the feature importances to add up to one\n",
    "    df['importance_normalized'] = df['importance'] / df['importance'].sum()\n",
    "\n",
    "    # Make a horizontal bar chart of feature importances\n",
    "    plt.figure(figsize = (10, 6))\n",
    "    ax = plt.subplot()\n",
    "    \n",
    "    # Need to reverse the index to plot most important on top\n",
    "    ax.barh(list(reversed(list(df.index[:15]))), \n",
    "            df['importance_normalized'].head(15), \n",
    "            align = 'center', edgecolor = 'k')\n",
    "    \n",
    "    # Set the yticks and labels\n",
    "    ax.set_yticks(list(reversed(list(df.index[:15]))))\n",
    "    ax.set_yticklabels(df['feature'].head(15))\n",
    "    \n",
    "    # Plot labeling\n",
    "    plt.xlabel('Normalized Importance'); plt.title('Feature Importances')\n",
    "    plt.show()\n",
    "    \n",
    "    return df"
   ]
  },
  {
   "cell_type": "code",
   "execution_count": null,
   "metadata": {
    "execution": {
     "iopub.execute_input": "2021-05-20T09:01:54.487954Z",
     "iopub.status.busy": "2021-05-20T09:01:54.487676Z",
     "iopub.status.idle": "2021-05-20T09:01:54.75662Z",
     "shell.execute_reply": "2021-05-20T09:01:54.755699Z",
     "shell.execute_reply.started": "2021-05-20T09:01:54.487927Z"
    }
   },
   "outputs": [],
   "source": [
    "fi_sorted = plot_feature_importances(fi)"
   ]
  },
  {
   "cell_type": "code",
   "execution_count": null,
   "metadata": {
    "execution": {
     "iopub.execute_input": "2021-05-20T09:01:54.75798Z",
     "iopub.status.busy": "2021-05-20T09:01:54.757711Z",
     "iopub.status.idle": "2021-05-20T09:01:54.981162Z",
     "shell.execute_reply": "2021-05-20T09:01:54.980233Z",
     "shell.execute_reply.started": "2021-05-20T09:01:54.757954Z"
    }
   },
   "outputs": [],
   "source": [
    "submission.to_csv('output/lgb.csv', index = False)\n",
    "del submission, fi, fi_sorted, metrics\n",
    "gc.collect()"
   ]
  },
  {
   "cell_type": "code",
   "execution_count": null,
   "metadata": {
    "execution": {
     "iopub.execute_input": "2021-05-20T09:01:54.982644Z",
     "iopub.status.busy": "2021-05-20T09:01:54.982362Z",
     "iopub.status.idle": "2021-05-20T09:01:56.375853Z",
     "shell.execute_reply": "2021-05-20T09:01:56.374699Z",
     "shell.execute_reply.started": "2021-05-20T09:01:54.982616Z"
    }
   },
   "outputs": [],
   "source": [
    "train_values = labels\n",
    "train_id = train_df['SK_ID_CURR']\n",
    "test_id = test_df['SK_ID_CURR']\n",
    "\n",
    "train_df_xg = train_df.copy()\n",
    "test_df_xg = test_df.copy()\n",
    "\n",
    "train_df_xg.drop('SK_ID_CURR', inplace=True, axis=1)\n",
    "test_df_xg.drop('SK_ID_CURR', inplace=True, axis=1)\n",
    "\n",
    "train_df_xg, test_df_xg = train_df_xg.align(test_df_xg, join = 'inner', axis = 1)\n",
    "\n",
    "ratio = (train_values == 0).sum()/ (train_values == 1).sum()\n",
    "del train_df, test_df\n",
    "gc.collect()"
   ]
  },
  {
   "cell_type": "code",
   "execution_count": null,
   "metadata": {
    "execution": {
     "iopub.execute_input": "2021-05-20T09:01:56.377163Z",
     "iopub.status.busy": "2021-05-20T09:01:56.376911Z",
     "iopub.status.idle": "2021-05-20T09:01:57.625046Z",
     "shell.execute_reply": "2021-05-20T09:01:57.624235Z",
     "shell.execute_reply.started": "2021-05-20T09:01:56.377136Z"
    }
   },
   "outputs": [],
   "source": [
    "X_train, X_test, y_train, y_test = train_test_split(train_df_xg, train_values, test_size=0.2, stratify=train_values, random_state=1)"
   ]
  },
  {
   "cell_type": "code",
   "execution_count": null,
   "metadata": {
    "execution": {
     "iopub.execute_input": "2021-05-20T09:01:57.626925Z",
     "iopub.status.busy": "2021-05-20T09:01:57.626343Z",
     "iopub.status.idle": "2021-05-20T09:04:49.440098Z",
     "shell.execute_reply": "2021-05-20T09:04:49.439343Z",
     "shell.execute_reply.started": "2021-05-20T09:01:57.626881Z"
    }
   },
   "outputs": [],
   "source": [
    "clf = XGBClassifier(n_estimators=1200, objective='binary:logistic', gamma=0.098, subsample=0.5, scale_pos_weight=ratio )\n",
    "clf.fit(X_train, y_train, eval_set=[(X_test, y_test)], eval_metric='auc', early_stopping_rounds=10)"
   ]
  },
  {
   "cell_type": "code",
   "execution_count": null,
   "metadata": {
    "execution": {
     "iopub.execute_input": "2021-05-20T09:04:49.441413Z",
     "iopub.status.busy": "2021-05-20T09:04:49.441045Z",
     "iopub.status.idle": "2021-05-20T09:04:49.796513Z",
     "shell.execute_reply": "2021-05-20T09:04:49.795787Z",
     "shell.execute_reply.started": "2021-05-20T09:04:49.441386Z"
    }
   },
   "outputs": [],
   "source": [
    "predictions = clf.predict_proba(test_df_xg.values)[:, 1]\n",
    "submission = pd.DataFrame({'SK_ID_CURR': test_id.values, 'TARGET': predictions})\n",
    "submission.to_csv('output/xgboost.csv', index = False)"
   ]
  }
 ],
 "metadata": {
  "kernelspec": {
   "display_name": "Python 3",
   "language": "python",
   "name": "python3"
  },
  "language_info": {
   "codemirror_mode": {
    "name": "ipython",
    "version": 3
   },
   "file_extension": ".py",
   "mimetype": "text/x-python",
   "name": "python",
   "nbconvert_exporter": "python",
   "pygments_lexer": "ipython3",
   "version": "3.8.5"
  }
 },
 "nbformat": 4,
 "nbformat_minor": 4
}
=======
{"metadata":{"kernelspec":{"name":"python388jvsc74a57bd0b2acef9c405ed574e8ba965b223740abc6391b41de725cf0c976ada615306344","display_name":"Python 3.8.8 64-bit ('CSE499': conda)"},"language_info":{"pygments_lexer":"ipython3","nbconvert_exporter":"python","version":"3.8.8","file_extension":".py","codemirror_mode":{"name":"ipython","version":3},"name":"python","mimetype":"text/x-python"}},"nbformat_minor":4,"nbformat":4,"cells":[{"cell_type":"code","source":["import os\n","import gc\n","import numpy as np\n","import pandas as pd\n","from scipy.stats import kurtosis\n","from sklearn.metrics import roc_auc_score\n","from sklearn.preprocessing import MinMaxScaler\n","from sklearn.impute import SimpleImputer\n","from sklearn.linear_model import LogisticRegression\n","import matplotlib.pyplot as plt\n","import seaborn as sns\n","import warnings\n","from sklearn.model_selection import train_test_split, cross_val_score, StratifiedKFold\n","import xgboost as xgb\n","from xgboost import XGBClassifier\n","warnings.simplefilter(action='ignore', category=FutureWarning)"],"metadata":{"execution":{"iopub.status.busy":"2021-05-20T08:45:42.78187Z","iopub.execute_input":"2021-05-20T08:45:42.782193Z","iopub.status.idle":"2021-05-20T08:45:42.787899Z","shell.execute_reply.started":"2021-05-20T08:45:42.782166Z","shell.execute_reply":"2021-05-20T08:45:42.786884Z"},"trusted":true},"execution_count":null,"outputs":[]},{"cell_type":"code","source":["DATA_DIRECTORY = \"../datasets/kaggle/\""],"metadata":{"execution":{"iopub.status.busy":"2021-05-20T08:45:42.790014Z","iopub.execute_input":"2021-05-20T08:45:42.790476Z","iopub.status.idle":"2021-05-20T08:45:42.8012Z","shell.execute_reply.started":"2021-05-20T08:45:42.790342Z","shell.execute_reply":"2021-05-20T08:45:42.80033Z"},"trusted":true},"execution_count":null,"outputs":[]},{"cell_type":"code","source":["df_train = pd.read_csv(os.path.join(DATA_DIRECTORY, 'application_train.csv'))\n","df_test = pd.read_csv(os.path.join(DATA_DIRECTORY, 'application_test.csv'))\n","df = df_train.append(df_test)\n","del df_train, df_test; gc.collect()"],"metadata":{"execution":{"iopub.status.busy":"2021-05-20T08:45:42.802841Z","iopub.execute_input":"2021-05-20T08:45:42.803434Z","iopub.status.idle":"2021-05-20T08:45:49.284027Z","shell.execute_reply.started":"2021-05-20T08:45:42.803401Z","shell.execute_reply":"2021-05-20T08:45:49.283132Z"},"trusted":true},"execution_count":null,"outputs":[]},{"cell_type":"code","source":["df = df[df['AMT_INCOME_TOTAL'] < 20000000]\n","df = df[df['CODE_GENDER'] != 'XNA']\n","df['DAYS_EMPLOYED'].replace(365243, np.nan, inplace=True)\n","df['DAYS_LAST_PHONE_CHANGE'].replace(0, np.nan, inplace=True)"],"metadata":{"execution":{"iopub.status.busy":"2021-05-20T08:45:49.285389Z","iopub.execute_input":"2021-05-20T08:45:49.285669Z","iopub.status.idle":"2021-05-20T08:45:50.136684Z","shell.execute_reply.started":"2021-05-20T08:45:49.285641Z","shell.execute_reply":"2021-05-20T08:45:50.135792Z"},"trusted":true},"execution_count":null,"outputs":[]},{"cell_type":"code","source":["def get_age_group(days_birth):\n","    age_years = -days_birth / 365\n","    if age_years < 27: return 1\n","    elif age_years < 40: return 2\n","    elif age_years < 50: return 3\n","    elif age_years < 65: return 4\n","    elif age_years < 99: return 5\n","    else: return 0"],"metadata":{"execution":{"iopub.status.busy":"2021-05-20T08:45:50.138015Z","iopub.execute_input":"2021-05-20T08:45:50.138372Z","iopub.status.idle":"2021-05-20T08:45:50.144062Z","shell.execute_reply.started":"2021-05-20T08:45:50.138336Z","shell.execute_reply":"2021-05-20T08:45:50.142757Z"},"trusted":true},"execution_count":null,"outputs":[]},{"cell_type":"code","source":["docs = [f for f in df.columns if 'FLAG_DOC' in f]\n","df['DOCUMENT_COUNT'] = df[docs].sum(axis=1)\n","df['NEW_DOC_KURT'] = df[docs].kurtosis(axis=1)\n","df['AGE_RANGE'] = df['DAYS_BIRTH'].apply(lambda x: get_age_group(x))"],"metadata":{"execution":{"iopub.status.busy":"2021-05-20T08:45:50.145715Z","iopub.execute_input":"2021-05-20T08:45:50.146146Z","iopub.status.idle":"2021-05-20T08:45:50.707781Z","shell.execute_reply.started":"2021-05-20T08:45:50.146105Z","shell.execute_reply":"2021-05-20T08:45:50.706917Z"},"trusted":true},"execution_count":null,"outputs":[]},{"cell_type":"code","source":["df['EXT_SOURCES_PROD'] = df['EXT_SOURCE_1'] * df['EXT_SOURCE_2'] * df['EXT_SOURCE_3']\n","df['EXT_SOURCES_WEIGHTED'] = df.EXT_SOURCE_1 * 2 + df.EXT_SOURCE_2 * 1 + df.EXT_SOURCE_3 * 3\n","np.warnings.filterwarnings('ignore', r'All-NaN (slice|axis) encountered')\n","for function_name in ['min', 'max', 'mean', 'nanmedian', 'var']:\n","    feature_name = 'EXT_SOURCES_{}'.format(function_name.upper())\n","    df[feature_name] = eval('np.{}'.format(function_name))(\n","        df[['EXT_SOURCE_1', 'EXT_SOURCE_2', 'EXT_SOURCE_3']], axis=1)"],"metadata":{"execution":{"iopub.status.busy":"2021-05-20T08:45:50.709398Z","iopub.execute_input":"2021-05-20T08:45:50.709646Z","iopub.status.idle":"2021-05-20T08:45:51.731028Z","shell.execute_reply.started":"2021-05-20T08:45:50.709623Z","shell.execute_reply":"2021-05-20T08:45:51.730251Z"},"trusted":true},"execution_count":null,"outputs":[]},{"cell_type":"code","source":["df['CREDIT_TO_ANNUITY_RATIO'] = df['AMT_CREDIT'] / df['AMT_ANNUITY']\n","df['CREDIT_TO_GOODS_RATIO'] = df['AMT_CREDIT'] / df['AMT_GOODS_PRICE']\n","df['ANNUITY_TO_INCOME_RATIO'] = df['AMT_ANNUITY'] / df['AMT_INCOME_TOTAL']\n","df['CREDIT_TO_INCOME_RATIO'] = df['AMT_CREDIT'] / df['AMT_INCOME_TOTAL']\n","df['INCOME_TO_EMPLOYED_RATIO'] = df['AMT_INCOME_TOTAL'] / df['DAYS_EMPLOYED']\n","df['INCOME_TO_BIRTH_RATIO'] = df['AMT_INCOME_TOTAL'] / df['DAYS_BIRTH']    \n","df['EMPLOYED_TO_BIRTH_RATIO'] = df['DAYS_EMPLOYED'] / df['DAYS_BIRTH']\n","df['ID_TO_BIRTH_RATIO'] = df['DAYS_ID_PUBLISH'] / df['DAYS_BIRTH']\n","df['CAR_TO_BIRTH_RATIO'] = df['OWN_CAR_AGE'] / df['DAYS_BIRTH']\n","df['CAR_TO_EMPLOYED_RATIO'] = df['OWN_CAR_AGE'] / df['DAYS_EMPLOYED']\n","df['PHONE_TO_BIRTH_RATIO'] = df['DAYS_LAST_PHONE_CHANGE'] / df['DAYS_BIRTH']"],"metadata":{"execution":{"iopub.status.busy":"2021-05-20T08:45:51.732355Z","iopub.execute_input":"2021-05-20T08:45:51.73278Z","iopub.status.idle":"2021-05-20T08:45:51.76361Z","shell.execute_reply.started":"2021-05-20T08:45:51.732739Z","shell.execute_reply":"2021-05-20T08:45:51.762682Z"},"trusted":true},"execution_count":null,"outputs":[]},{"cell_type":"code","source":["def do_mean(df, group_cols, counted, agg_name):\n","    gp = df[group_cols + [counted]].groupby(group_cols)[counted].mean().reset_index().rename(\n","        columns={counted: agg_name})\n","    df = df.merge(gp, on=group_cols, how='left')\n","    del gp\n","    gc.collect()\n","    return df"],"metadata":{"execution":{"iopub.status.busy":"2021-05-20T08:45:51.766871Z","iopub.execute_input":"2021-05-20T08:45:51.767162Z","iopub.status.idle":"2021-05-20T08:45:51.772011Z","shell.execute_reply.started":"2021-05-20T08:45:51.767133Z","shell.execute_reply":"2021-05-20T08:45:51.77084Z"},"trusted":true},"execution_count":null,"outputs":[]},{"cell_type":"code","source":["def do_median(df, group_cols, counted, agg_name):\n","    gp = df[group_cols + [counted]].groupby(group_cols)[counted].median().reset_index().rename(\n","        columns={counted: agg_name})\n","    df = df.merge(gp, on=group_cols, how='left')\n","    del gp\n","    gc.collect()\n","    return df"],"metadata":{"execution":{"iopub.status.busy":"2021-05-20T08:45:51.773337Z","iopub.execute_input":"2021-05-20T08:45:51.773608Z","iopub.status.idle":"2021-05-20T08:45:51.788978Z","shell.execute_reply.started":"2021-05-20T08:45:51.773583Z","shell.execute_reply":"2021-05-20T08:45:51.78782Z"},"trusted":true},"execution_count":null,"outputs":[]},{"cell_type":"code","source":["def do_std(df, group_cols, counted, agg_name):\n","    gp = df[group_cols + [counted]].groupby(group_cols)[counted].std().reset_index().rename(\n","        columns={counted: agg_name})\n","    df = df.merge(gp, on=group_cols, how='left')\n","    del gp\n","    gc.collect()\n","    return df"],"metadata":{"execution":{"iopub.status.busy":"2021-05-20T08:45:51.790362Z","iopub.execute_input":"2021-05-20T08:45:51.790657Z","iopub.status.idle":"2021-05-20T08:45:51.799769Z","shell.execute_reply.started":"2021-05-20T08:45:51.790625Z","shell.execute_reply":"2021-05-20T08:45:51.798832Z"},"trusted":true},"execution_count":null,"outputs":[]},{"cell_type":"code","source":["def do_sum(df, group_cols, counted, agg_name):\n","    gp = df[group_cols + [counted]].groupby(group_cols)[counted].sum().reset_index().rename(\n","        columns={counted: agg_name})\n","    df = df.merge(gp, on=group_cols, how='left')\n","    del gp\n","    gc.collect()\n","    return df"],"metadata":{"execution":{"iopub.status.busy":"2021-05-20T08:45:51.801832Z","iopub.execute_input":"2021-05-20T08:45:51.802109Z","iopub.status.idle":"2021-05-20T08:45:51.810916Z","shell.execute_reply.started":"2021-05-20T08:45:51.802084Z","shell.execute_reply":"2021-05-20T08:45:51.809958Z"},"trusted":true},"execution_count":null,"outputs":[]},{"cell_type":"code","source":["group = ['ORGANIZATION_TYPE', 'NAME_EDUCATION_TYPE', 'OCCUPATION_TYPE', 'AGE_RANGE', 'CODE_GENDER']\n","df = do_median(df, group, 'EXT_SOURCES_MEAN', 'GROUP_EXT_SOURCES_MEDIAN')\n","df = do_std(df, group, 'EXT_SOURCES_MEAN', 'GROUP_EXT_SOURCES_STD')\n","df = do_mean(df, group, 'AMT_INCOME_TOTAL', 'GROUP_INCOME_MEAN')\n","df = do_std(df, group, 'AMT_INCOME_TOTAL', 'GROUP_INCOME_STD')\n","df = do_mean(df, group, 'CREDIT_TO_ANNUITY_RATIO', 'GROUP_CREDIT_TO_ANNUITY_MEAN')\n","df = do_std(df, group, 'CREDIT_TO_ANNUITY_RATIO', 'GROUP_CREDIT_TO_ANNUITY_STD')\n","df = do_mean(df, group, 'AMT_CREDIT', 'GROUP_CREDIT_MEAN')\n","df = do_mean(df, group, 'AMT_ANNUITY', 'GROUP_ANNUITY_MEAN')\n","df = do_std(df, group, 'AMT_ANNUITY', 'GROUP_ANNUITY_STD')"],"metadata":{"execution":{"iopub.status.busy":"2021-05-20T08:45:51.81224Z","iopub.execute_input":"2021-05-20T08:45:51.812628Z","iopub.status.idle":"2021-05-20T08:46:18.378866Z","shell.execute_reply.started":"2021-05-20T08:45:51.812589Z","shell.execute_reply":"2021-05-20T08:46:18.377812Z"},"trusted":true},"execution_count":null,"outputs":[]},{"cell_type":"code","source":["def label_encoder(df, categorical_columns=None):\n","    if not categorical_columns:\n","        categorical_columns = [col for col in df.columns if df[col].dtype == 'object']\n","    for col in categorical_columns:\n","        df[col], uniques = pd.factorize(df[col])\n","    return df, categorical_columns"],"metadata":{"execution":{"iopub.status.busy":"2021-05-20T08:46:18.380289Z","iopub.execute_input":"2021-05-20T08:46:18.380557Z","iopub.status.idle":"2021-05-20T08:46:18.385338Z","shell.execute_reply.started":"2021-05-20T08:46:18.380529Z","shell.execute_reply":"2021-05-20T08:46:18.384356Z"},"trusted":true},"execution_count":null,"outputs":[]},{"cell_type":"code","source":["def drop_application_columns(df):\n","    drop_list = [\n","        'CNT_CHILDREN', 'CNT_FAM_MEMBERS', 'HOUR_APPR_PROCESS_START',\n","        'FLAG_EMP_PHONE', 'FLAG_MOBIL', 'FLAG_CONT_MOBILE', 'FLAG_EMAIL', 'FLAG_PHONE',\n","        'FLAG_OWN_REALTY', 'REG_REGION_NOT_LIVE_REGION', 'REG_REGION_NOT_WORK_REGION',\n","        'REG_CITY_NOT_WORK_CITY', 'OBS_30_CNT_SOCIAL_CIRCLE', 'OBS_60_CNT_SOCIAL_CIRCLE',\n","        'AMT_REQ_CREDIT_BUREAU_DAY', 'AMT_REQ_CREDIT_BUREAU_MON', 'AMT_REQ_CREDIT_BUREAU_YEAR', \n","        'COMMONAREA_MODE', 'NONLIVINGAREA_MODE', 'ELEVATORS_MODE', 'NONLIVINGAREA_AVG',\n","        'FLOORSMIN_MEDI', 'LANDAREA_MODE', 'NONLIVINGAREA_MEDI', 'LIVINGAPARTMENTS_MODE',\n","        'FLOORSMIN_AVG', 'LANDAREA_AVG', 'FLOORSMIN_MODE', 'LANDAREA_MEDI',\n","        'COMMONAREA_MEDI', 'YEARS_BUILD_AVG', 'COMMONAREA_AVG', 'BASEMENTAREA_AVG',\n","        'BASEMENTAREA_MODE', 'NONLIVINGAPARTMENTS_MEDI', 'BASEMENTAREA_MEDI', \n","        'LIVINGAPARTMENTS_AVG', 'ELEVATORS_AVG', 'YEARS_BUILD_MEDI', 'ENTRANCES_MODE',\n","        'NONLIVINGAPARTMENTS_MODE', 'LIVINGAREA_MODE', 'LIVINGAPARTMENTS_MEDI',\n","        'YEARS_BUILD_MODE', 'YEARS_BEGINEXPLUATATION_AVG', 'ELEVATORS_MEDI', 'LIVINGAREA_MEDI',\n","        'YEARS_BEGINEXPLUATATION_MODE', 'NONLIVINGAPARTMENTS_AVG', 'HOUSETYPE_MODE',\n","        'FONDKAPREMONT_MODE', 'EMERGENCYSTATE_MODE'\n","    ]\n","    for doc_num in [2,4,5,6,7,9,10,11,12,13,14,15,16,17,19,20,21]:\n","        drop_list.append('FLAG_DOCUMENT_{}'.format(doc_num))\n","    df.drop(drop_list, axis=1, inplace=True)\n","    return df"],"metadata":{"execution":{"iopub.status.busy":"2021-05-20T08:46:18.386596Z","iopub.execute_input":"2021-05-20T08:46:18.3869Z","iopub.status.idle":"2021-05-20T08:46:18.403258Z","shell.execute_reply.started":"2021-05-20T08:46:18.386869Z","shell.execute_reply":"2021-05-20T08:46:18.402438Z"},"trusted":true},"execution_count":null,"outputs":[]},{"cell_type":"code","source":["df, le_encoded_cols = label_encoder(df, None)\n","df = drop_application_columns(df)"],"metadata":{"execution":{"iopub.status.busy":"2021-05-20T08:46:18.404374Z","iopub.execute_input":"2021-05-20T08:46:18.404867Z","iopub.status.idle":"2021-05-20T08:46:19.16104Z","shell.execute_reply.started":"2021-05-20T08:46:18.404836Z","shell.execute_reply":"2021-05-20T08:46:19.160031Z"},"trusted":true},"execution_count":null,"outputs":[]},{"cell_type":"code","source":["df = pd.get_dummies(df)"],"metadata":{"execution":{"iopub.status.busy":"2021-05-20T08:46:19.162193Z","iopub.execute_input":"2021-05-20T08:46:19.162462Z","iopub.status.idle":"2021-05-20T08:46:19.307448Z","shell.execute_reply.started":"2021-05-20T08:46:19.162434Z","shell.execute_reply":"2021-05-20T08:46:19.306649Z"},"trusted":true},"execution_count":null,"outputs":[]},{"cell_type":"code","source":["bureau = pd.read_csv(os.path.join(DATA_DIRECTORY, 'bureau.csv'))"],"metadata":{"execution":{"iopub.status.busy":"2021-05-20T08:46:19.308811Z","iopub.execute_input":"2021-05-20T08:46:19.3092Z","iopub.status.idle":"2021-05-20T08:46:23.182074Z","shell.execute_reply.started":"2021-05-20T08:46:19.30916Z","shell.execute_reply":"2021-05-20T08:46:23.18108Z"},"trusted":true},"execution_count":null,"outputs":[]},{"cell_type":"code","source":["bureau['CREDIT_DURATION'] = -bureau['DAYS_CREDIT'] + bureau['DAYS_CREDIT_ENDDATE']\n","bureau['ENDDATE_DIF'] = bureau['DAYS_CREDIT_ENDDATE'] - bureau['DAYS_ENDDATE_FACT']\n","bureau['DEBT_PERCENTAGE'] = bureau['AMT_CREDIT_SUM'] / bureau['AMT_CREDIT_SUM_DEBT']\n","bureau['DEBT_CREDIT_DIFF'] = bureau['AMT_CREDIT_SUM'] - bureau['AMT_CREDIT_SUM_DEBT']\n","bureau['CREDIT_TO_ANNUITY_RATIO'] = bureau['AMT_CREDIT_SUM'] / bureau['AMT_ANNUITY']"],"metadata":{"execution":{"iopub.status.busy":"2021-05-20T08:46:23.184994Z","iopub.execute_input":"2021-05-20T08:46:23.185247Z","iopub.status.idle":"2021-05-20T08:46:23.231596Z","shell.execute_reply.started":"2021-05-20T08:46:23.185222Z","shell.execute_reply":"2021-05-20T08:46:23.230673Z"},"trusted":true},"execution_count":null,"outputs":[]},{"cell_type":"code","source":["def one_hot_encoder(df, categorical_columns=None, nan_as_category=True):\n","    original_columns = list(df.columns)\n","    if not categorical_columns:\n","        categorical_columns = [col for col in df.columns if df[col].dtype == 'object']\n","    df = pd.get_dummies(df, columns=categorical_columns, dummy_na=nan_as_category)\n","    categorical_columns = [c for c in df.columns if c not in original_columns]\n","    return df, categorical_columns"],"metadata":{"execution":{"iopub.status.busy":"2021-05-20T08:46:23.233879Z","iopub.execute_input":"2021-05-20T08:46:23.234138Z","iopub.status.idle":"2021-05-20T08:46:23.239319Z","shell.execute_reply.started":"2021-05-20T08:46:23.234114Z","shell.execute_reply":"2021-05-20T08:46:23.238357Z"},"trusted":true},"execution_count":null,"outputs":[]},{"cell_type":"code","source":["def group(df_to_agg, prefix, aggregations, aggregate_by= 'SK_ID_CURR'):\n","    agg_df = df_to_agg.groupby(aggregate_by).agg(aggregations)\n","    agg_df.columns = pd.Index(['{}{}_{}'.format(prefix, e[0], e[1].upper())\n","                               for e in agg_df.columns.tolist()])\n","    return agg_df.reset_index()"],"metadata":{"execution":{"iopub.status.busy":"2021-05-20T08:46:23.240523Z","iopub.execute_input":"2021-05-20T08:46:23.240798Z","iopub.status.idle":"2021-05-20T08:46:23.252245Z","shell.execute_reply.started":"2021-05-20T08:46:23.240772Z","shell.execute_reply":"2021-05-20T08:46:23.251318Z"},"trusted":true},"execution_count":null,"outputs":[]},{"cell_type":"code","source":["def group_and_merge(df_to_agg, df_to_merge, prefix, aggregations, aggregate_by= 'SK_ID_CURR'):\n","    agg_df = group(df_to_agg, prefix, aggregations, aggregate_by= aggregate_by)\n","    return df_to_merge.merge(agg_df, how='left', on= aggregate_by)"],"metadata":{"execution":{"iopub.status.busy":"2021-05-20T08:46:23.253342Z","iopub.execute_input":"2021-05-20T08:46:23.253628Z","iopub.status.idle":"2021-05-20T08:46:23.265881Z","shell.execute_reply.started":"2021-05-20T08:46:23.253591Z","shell.execute_reply":"2021-05-20T08:46:23.264897Z"},"trusted":true},"execution_count":null,"outputs":[]},{"cell_type":"code","source":["def get_bureau_balance(path, num_rows= None):\n","    bb = pd.read_csv(os.path.join(path, 'bureau_balance.csv'))\n","    bb, categorical_cols = one_hot_encoder(bb, nan_as_category= False)\n","    # Calculate rate for each category with decay\n","    bb_processed = bb.groupby('SK_ID_BUREAU')[categorical_cols].mean().reset_index()\n","    # Min, Max, Count and mean duration of payments (months)\n","    agg = {'MONTHS_BALANCE': ['min', 'max', 'mean', 'size']}\n","    bb_processed = group_and_merge(bb, bb_processed, '', agg, 'SK_ID_BUREAU')\n","    del bb; gc.collect()\n","    return bb_processed"],"metadata":{"execution":{"iopub.status.busy":"2021-05-20T08:46:23.267128Z","iopub.execute_input":"2021-05-20T08:46:23.267413Z","iopub.status.idle":"2021-05-20T08:46:23.277479Z","shell.execute_reply.started":"2021-05-20T08:46:23.267387Z","shell.execute_reply":"2021-05-20T08:46:23.276335Z"},"trusted":true},"execution_count":null,"outputs":[]},{"cell_type":"code","source":["bureau, categorical_cols = one_hot_encoder(bureau, nan_as_category= False)\n","bureau = bureau.merge(get_bureau_balance(DATA_DIRECTORY), how='left', on='SK_ID_BUREAU')\n","bureau['STATUS_12345'] = 0\n","for i in range(1,6):\n","    bureau['STATUS_12345'] += bureau['STATUS_{}'.format(i)]"],"metadata":{"execution":{"iopub.status.busy":"2021-05-20T08:46:23.278901Z","iopub.execute_input":"2021-05-20T08:46:23.279234Z","iopub.status.idle":"2021-05-20T08:46:40.889708Z","shell.execute_reply.started":"2021-05-20T08:46:23.279205Z","shell.execute_reply":"2021-05-20T08:46:40.888698Z"},"trusted":true},"execution_count":null,"outputs":[]},{"cell_type":"code","source":["features = ['AMT_CREDIT_MAX_OVERDUE', 'AMT_CREDIT_SUM_OVERDUE', 'AMT_CREDIT_SUM',\n","    'AMT_CREDIT_SUM_DEBT', 'DEBT_PERCENTAGE', 'DEBT_CREDIT_DIFF', 'STATUS_0', 'STATUS_12345']\n","agg_length = bureau.groupby('MONTHS_BALANCE_SIZE')[features].mean().reset_index()\n","agg_length.rename({feat: 'LL_' + feat for feat in features}, axis=1, inplace=True)\n","bureau = bureau.merge(agg_length, how='left', on='MONTHS_BALANCE_SIZE')\n","del agg_length; gc.collect()"],"metadata":{"execution":{"iopub.status.busy":"2021-05-20T08:46:40.890992Z","iopub.execute_input":"2021-05-20T08:46:40.891271Z","iopub.status.idle":"2021-05-20T08:46:42.804313Z","shell.execute_reply.started":"2021-05-20T08:46:40.891244Z","shell.execute_reply":"2021-05-20T08:46:42.803382Z"},"trusted":true},"execution_count":null,"outputs":[]},{"cell_type":"code","source":["BUREAU_AGG = {\n","    'SK_ID_BUREAU': ['nunique'],\n","    'DAYS_CREDIT': ['min', 'max', 'mean'],\n","    'DAYS_CREDIT_ENDDATE': ['min', 'max'],\n","    'AMT_CREDIT_MAX_OVERDUE': ['max', 'mean'],\n","    'AMT_CREDIT_SUM': ['max', 'mean', 'sum'],\n","    'AMT_CREDIT_SUM_DEBT': ['max', 'mean', 'sum'],\n","    'AMT_CREDIT_SUM_OVERDUE': ['max', 'mean', 'sum'],\n","    'AMT_ANNUITY': ['mean'],\n","    'DEBT_CREDIT_DIFF': ['mean', 'sum'],\n","    'MONTHS_BALANCE_MEAN': ['mean', 'var'],\n","    'MONTHS_BALANCE_SIZE': ['mean', 'sum'],\n","    'STATUS_0': ['mean'],\n","    'STATUS_1': ['mean'],\n","    'STATUS_12345': ['mean'],\n","    'STATUS_C': ['mean'],\n","    'STATUS_X': ['mean'],\n","    'CREDIT_ACTIVE_Active': ['mean'],\n","    'CREDIT_ACTIVE_Closed': ['mean'],\n","    'CREDIT_ACTIVE_Sold': ['mean'],\n","    'CREDIT_TYPE_Consumer credit': ['mean'],\n","    'CREDIT_TYPE_Credit card': ['mean'],\n","    'CREDIT_TYPE_Car loan': ['mean'],\n","    'CREDIT_TYPE_Mortgage': ['mean'],\n","    'CREDIT_TYPE_Microloan': ['mean'],\n","    'LL_AMT_CREDIT_SUM_OVERDUE': ['mean'],\n","    'LL_DEBT_CREDIT_DIFF': ['mean'],\n","    'LL_STATUS_12345': ['mean'],\n","}\n","\n","BUREAU_ACTIVE_AGG = {\n","    'DAYS_CREDIT': ['max', 'mean'],\n","    'DAYS_CREDIT_ENDDATE': ['min', 'max'],\n","    'AMT_CREDIT_MAX_OVERDUE': ['max', 'mean'],\n","    'AMT_CREDIT_SUM': ['max', 'sum'],\n","    'AMT_CREDIT_SUM_DEBT': ['mean', 'sum'],\n","    'AMT_CREDIT_SUM_OVERDUE': ['max', 'mean'],\n","    'DAYS_CREDIT_UPDATE': ['min', 'mean'],\n","    'DEBT_PERCENTAGE': ['mean'],\n","    'DEBT_CREDIT_DIFF': ['mean'],\n","    'CREDIT_TO_ANNUITY_RATIO': ['mean'],\n","    'MONTHS_BALANCE_MEAN': ['mean', 'var'],\n","    'MONTHS_BALANCE_SIZE': ['mean', 'sum'],\n","}\n","\n","BUREAU_CLOSED_AGG = {\n","    'DAYS_CREDIT': ['max', 'var'],\n","    'DAYS_CREDIT_ENDDATE': ['max'],\n","    'AMT_CREDIT_MAX_OVERDUE': ['max', 'mean'],\n","    'AMT_CREDIT_SUM_OVERDUE': ['mean'],\n","    'AMT_CREDIT_SUM': ['max', 'mean', 'sum'],\n","    'AMT_CREDIT_SUM_DEBT': ['max', 'sum'],\n","    'DAYS_CREDIT_UPDATE': ['max'],\n","    'ENDDATE_DIF': ['mean'],\n","    'STATUS_12345': ['mean'],\n","}\n","\n","BUREAU_LOAN_TYPE_AGG = {\n","    'DAYS_CREDIT': ['mean', 'max'],\n","    'AMT_CREDIT_MAX_OVERDUE': ['mean', 'max'],\n","    'AMT_CREDIT_SUM': ['mean', 'max'],\n","    'AMT_CREDIT_SUM_DEBT': ['mean', 'max'],\n","    'DEBT_PERCENTAGE': ['mean'],\n","    'DEBT_CREDIT_DIFF': ['mean'],\n","    'DAYS_CREDIT_ENDDATE': ['max'],\n","}\n","\n","BUREAU_TIME_AGG = {\n","    'AMT_CREDIT_MAX_OVERDUE': ['max', 'mean'],\n","    'AMT_CREDIT_SUM_OVERDUE': ['mean'],\n","    'AMT_CREDIT_SUM': ['max', 'sum'],\n","    'AMT_CREDIT_SUM_DEBT': ['mean', 'sum'],\n","    'DEBT_PERCENTAGE': ['mean'],\n","    'DEBT_CREDIT_DIFF': ['mean'],\n","    'STATUS_0': ['mean'],\n","    'STATUS_12345': ['mean'],\n","}"],"metadata":{"execution":{"iopub.status.busy":"2021-05-20T08:46:42.805471Z","iopub.execute_input":"2021-05-20T08:46:42.805778Z","iopub.status.idle":"2021-05-20T08:46:42.815985Z","shell.execute_reply.started":"2021-05-20T08:46:42.805748Z","shell.execute_reply":"2021-05-20T08:46:42.815149Z"},"trusted":true},"execution_count":null,"outputs":[]},{"cell_type":"code","source":["agg_bureau = group(bureau, 'BUREAU_', BUREAU_AGG)\n","active = bureau[bureau['CREDIT_ACTIVE_Active'] == 1]\n","agg_bureau = group_and_merge(active,agg_bureau,'BUREAU_ACTIVE_',BUREAU_ACTIVE_AGG)\n","closed = bureau[bureau['CREDIT_ACTIVE_Closed'] == 1]\n","agg_bureau = group_and_merge(closed,agg_bureau,'BUREAU_CLOSED_',BUREAU_CLOSED_AGG)\n","del active, closed; gc.collect()\n","for credit_type in ['Consumer credit', 'Credit card', 'Mortgage', 'Car loan', 'Microloan']:\n","    type_df = bureau[bureau['CREDIT_TYPE_' + credit_type] == 1]\n","    prefix = 'BUREAU_' + credit_type.split(' ')[0].upper() + '_'\n","    agg_bureau = group_and_merge(type_df, agg_bureau, prefix, BUREAU_LOAN_TYPE_AGG)\n","    del type_df; gc.collect()\n","for time_frame in [6, 12]:\n","    prefix = \"BUREAU_LAST{}M_\".format(time_frame)\n","    time_frame_df = bureau[bureau['DAYS_CREDIT'] >= -30*time_frame]\n","    agg_bureau = group_and_merge(time_frame_df, agg_bureau, prefix, BUREAU_TIME_AGG)\n","    del time_frame_df; gc.collect()"],"metadata":{"execution":{"iopub.status.busy":"2021-05-20T08:46:42.817071Z","iopub.execute_input":"2021-05-20T08:46:42.817491Z","iopub.status.idle":"2021-05-20T08:46:51.092417Z","shell.execute_reply.started":"2021-05-20T08:46:42.817448Z","shell.execute_reply":"2021-05-20T08:46:51.091491Z"},"trusted":true},"execution_count":null,"outputs":[]},{"cell_type":"code","source":["sort_bureau = bureau.sort_values(by=['DAYS_CREDIT'])\n","gr = sort_bureau.groupby('SK_ID_CURR')['AMT_CREDIT_MAX_OVERDUE'].last().reset_index()\n","gr.rename({'AMT_CREDIT_MAX_OVERDUE': 'BUREAU_LAST_LOAN_MAX_OVERDUE'}, inplace=True)\n","agg_bureau = agg_bureau.merge(gr, on='SK_ID_CURR', how='left')\n","agg_bureau['BUREAU_DEBT_OVER_CREDIT'] = \\\n","    agg_bureau['BUREAU_AMT_CREDIT_SUM_DEBT_SUM']/agg_bureau['BUREAU_AMT_CREDIT_SUM_SUM']\n","agg_bureau['BUREAU_ACTIVE_DEBT_OVER_CREDIT'] = \\\n","    agg_bureau['BUREAU_ACTIVE_AMT_CREDIT_SUM_DEBT_SUM']/agg_bureau['BUREAU_ACTIVE_AMT_CREDIT_SUM_SUM']"],"metadata":{"execution":{"iopub.status.busy":"2021-05-20T08:46:51.093512Z","iopub.execute_input":"2021-05-20T08:46:51.093811Z","iopub.status.idle":"2021-05-20T08:46:52.996517Z","shell.execute_reply.started":"2021-05-20T08:46:51.093782Z","shell.execute_reply":"2021-05-20T08:46:52.995822Z"},"trusted":true},"execution_count":null,"outputs":[]},{"cell_type":"code","source":["df = pd.merge(df, agg_bureau, on='SK_ID_CURR', how='left')\n","del agg_bureau, bureau\n","gc.collect()"],"metadata":{"execution":{"iopub.status.busy":"2021-05-20T08:46:52.997563Z","iopub.execute_input":"2021-05-20T08:46:52.998056Z","iopub.status.idle":"2021-05-20T08:46:53.953175Z","shell.execute_reply.started":"2021-05-20T08:46:52.998025Z","shell.execute_reply":"2021-05-20T08:46:53.952443Z"},"trusted":true},"execution_count":null,"outputs":[]},{"cell_type":"code","source":["prev = pd.read_csv(os.path.join(DATA_DIRECTORY, 'previous_application.csv'))\n","pay = pd.read_csv(os.path.join(DATA_DIRECTORY, 'installments_payments.csv'))"],"metadata":{"execution":{"iopub.status.busy":"2021-05-20T08:46:53.954204Z","iopub.execute_input":"2021-05-20T08:46:53.954656Z","iopub.status.idle":"2021-05-20T08:47:18.038946Z","shell.execute_reply.started":"2021-05-20T08:46:53.95462Z","shell.execute_reply":"2021-05-20T08:47:18.037984Z"},"trusted":true},"execution_count":null,"outputs":[]},{"cell_type":"code","source":["PREVIOUS_AGG = {\n","    'SK_ID_PREV': ['nunique'],\n","    'AMT_ANNUITY': ['min', 'max', 'mean'],\n","    'AMT_DOWN_PAYMENT': ['max', 'mean'],\n","    'HOUR_APPR_PROCESS_START': ['min', 'max', 'mean'],\n","    'RATE_DOWN_PAYMENT': ['max', 'mean'],\n","    'DAYS_DECISION': ['min', 'max', 'mean'],\n","    'CNT_PAYMENT': ['max', 'mean'],\n","    'DAYS_TERMINATION': ['max'],\n","    # Engineered features\n","    'CREDIT_TO_ANNUITY_RATIO': ['mean', 'max'],\n","    'APPLICATION_CREDIT_DIFF': ['min', 'max', 'mean'],\n","    'APPLICATION_CREDIT_RATIO': ['min', 'max', 'mean', 'var'],\n","    'DOWN_PAYMENT_TO_CREDIT': ['mean'],\n","}\n","\n","PREVIOUS_ACTIVE_AGG = {\n","    'SK_ID_PREV': ['nunique'],\n","    'SIMPLE_INTERESTS': ['mean'],\n","    'AMT_ANNUITY': ['max', 'sum'],\n","    'AMT_APPLICATION': ['max', 'mean'],\n","    'AMT_CREDIT': ['sum'],\n","    'AMT_DOWN_PAYMENT': ['max', 'mean'],\n","    'DAYS_DECISION': ['min', 'mean'],\n","    'CNT_PAYMENT': ['mean', 'sum'],\n","    'DAYS_LAST_DUE_1ST_VERSION': ['min', 'max', 'mean'],\n","    # Engineered features\n","    'AMT_PAYMENT': ['sum'],\n","    'INSTALMENT_PAYMENT_DIFF': ['mean', 'max'],\n","    'REMAINING_DEBT': ['max', 'mean', 'sum'],\n","    'REPAYMENT_RATIO': ['mean'],\n","}\n","PREVIOUS_LATE_PAYMENTS_AGG = {\n","    'DAYS_DECISION': ['min', 'max', 'mean'],\n","    'DAYS_LAST_DUE_1ST_VERSION': ['min', 'max', 'mean'],\n","    # Engineered features\n","    'APPLICATION_CREDIT_DIFF': ['min'],\n","    'NAME_CONTRACT_TYPE_Consumer loans': ['mean'],\n","    'NAME_CONTRACT_TYPE_Cash loans': ['mean'],\n","    'NAME_CONTRACT_TYPE_Revolving loans': ['mean'],\n","}\n","\n","PREVIOUS_LOAN_TYPE_AGG = {\n","    'AMT_CREDIT': ['sum'],\n","    'AMT_ANNUITY': ['mean', 'max'],\n","    'SIMPLE_INTERESTS': ['min', 'mean', 'max', 'var'],\n","    'APPLICATION_CREDIT_DIFF': ['min', 'var'],\n","    'APPLICATION_CREDIT_RATIO': ['min', 'max', 'mean'],\n","    'DAYS_DECISION': ['max'],\n","    'DAYS_LAST_DUE_1ST_VERSION': ['max', 'mean'],\n","    'CNT_PAYMENT': ['mean'],\n","}\n","\n","PREVIOUS_TIME_AGG = {\n","    'AMT_CREDIT': ['sum'],\n","    'AMT_ANNUITY': ['mean', 'max'],\n","    'SIMPLE_INTERESTS': ['mean', 'max'],\n","    'DAYS_DECISION': ['min', 'mean'],\n","    'DAYS_LAST_DUE_1ST_VERSION': ['min', 'max', 'mean'],\n","    # Engineered features\n","    'APPLICATION_CREDIT_DIFF': ['min'],\n","    'APPLICATION_CREDIT_RATIO': ['min', 'max', 'mean'],\n","    'NAME_CONTRACT_TYPE_Consumer loans': ['mean'],\n","    'NAME_CONTRACT_TYPE_Cash loans': ['mean'],\n","    'NAME_CONTRACT_TYPE_Revolving loans': ['mean'],\n","}\n","\n","PREVIOUS_APPROVED_AGG = {\n","    'SK_ID_PREV': ['nunique'],\n","    'AMT_ANNUITY': ['min', 'max', 'mean'],\n","    'AMT_CREDIT': ['min', 'max', 'mean'],\n","    'AMT_DOWN_PAYMENT': ['max'],\n","    'AMT_GOODS_PRICE': ['max'],\n","    'HOUR_APPR_PROCESS_START': ['min', 'max'],\n","    'DAYS_DECISION': ['min', 'mean'],\n","    'CNT_PAYMENT': ['max', 'mean'],\n","    'DAYS_TERMINATION': ['mean'],\n","    # Engineered features\n","    'CREDIT_TO_ANNUITY_RATIO': ['mean', 'max'],\n","    'APPLICATION_CREDIT_DIFF': ['max'],\n","    'APPLICATION_CREDIT_RATIO': ['min', 'max', 'mean'],\n","    # The following features are only for approved applications\n","    'DAYS_FIRST_DRAWING': ['max', 'mean'],\n","    'DAYS_FIRST_DUE': ['min', 'mean'],\n","    'DAYS_LAST_DUE_1ST_VERSION': ['min', 'max', 'mean'],\n","    'DAYS_LAST_DUE': ['max', 'mean'],\n","    'DAYS_LAST_DUE_DIFF': ['min', 'max', 'mean'],\n","    'SIMPLE_INTERESTS': ['min', 'max', 'mean'],\n","}\n","\n","PREVIOUS_REFUSED_AGG = {\n","    'AMT_APPLICATION': ['max', 'mean'],\n","    'AMT_CREDIT': ['min', 'max'],\n","    'DAYS_DECISION': ['min', 'max', 'mean'],\n","    'CNT_PAYMENT': ['max', 'mean'],\n","    # Engineered features\n","    'APPLICATION_CREDIT_DIFF': ['min', 'max', 'mean', 'var'],\n","    'APPLICATION_CREDIT_RATIO': ['min', 'mean'],\n","    'NAME_CONTRACT_TYPE_Consumer loans': ['mean'],\n","    'NAME_CONTRACT_TYPE_Cash loans': ['mean'],\n","    'NAME_CONTRACT_TYPE_Revolving loans': ['mean'],\n","}\n"],"metadata":{"execution":{"iopub.status.busy":"2021-05-20T08:47:18.040148Z","iopub.execute_input":"2021-05-20T08:47:18.040416Z","iopub.status.idle":"2021-05-20T08:47:18.054662Z","shell.execute_reply.started":"2021-05-20T08:47:18.04039Z","shell.execute_reply":"2021-05-20T08:47:18.053618Z"},"trusted":true},"execution_count":null,"outputs":[]},{"cell_type":"code","source":["ohe_columns = [\n","    'NAME_CONTRACT_STATUS', 'NAME_CONTRACT_TYPE', 'CHANNEL_TYPE',\n","    'NAME_TYPE_SUITE', 'NAME_YIELD_GROUP', 'PRODUCT_COMBINATION',\n","    'NAME_PRODUCT_TYPE', 'NAME_CLIENT_TYPE']\n","prev, categorical_cols = one_hot_encoder(prev, ohe_columns, nan_as_category= False)"],"metadata":{"execution":{"iopub.status.busy":"2021-05-20T08:47:18.055993Z","iopub.execute_input":"2021-05-20T08:47:18.056561Z","iopub.status.idle":"2021-05-20T08:47:19.669193Z","shell.execute_reply.started":"2021-05-20T08:47:18.056518Z","shell.execute_reply":"2021-05-20T08:47:19.668399Z"},"trusted":true},"execution_count":null,"outputs":[]},{"cell_type":"code","source":["prev['APPLICATION_CREDIT_DIFF'] = prev['AMT_APPLICATION'] - prev['AMT_CREDIT']\n","prev['APPLICATION_CREDIT_RATIO'] = prev['AMT_APPLICATION'] / prev['AMT_CREDIT']\n","prev['CREDIT_TO_ANNUITY_RATIO'] = prev['AMT_CREDIT']/prev['AMT_ANNUITY']\n","prev['DOWN_PAYMENT_TO_CREDIT'] = prev['AMT_DOWN_PAYMENT'] / prev['AMT_CREDIT']\n","total_payment = prev['AMT_ANNUITY'] * prev['CNT_PAYMENT']\n","prev['SIMPLE_INTERESTS'] = (total_payment/prev['AMT_CREDIT'] - 1)/prev['CNT_PAYMENT']"],"metadata":{"execution":{"iopub.status.busy":"2021-05-20T08:47:19.67034Z","iopub.execute_input":"2021-05-20T08:47:19.670597Z","iopub.status.idle":"2021-05-20T08:47:19.713275Z","shell.execute_reply.started":"2021-05-20T08:47:19.670555Z","shell.execute_reply":"2021-05-20T08:47:19.71254Z"},"trusted":true},"execution_count":null,"outputs":[]},{"cell_type":"code","source":["approved = prev[prev['NAME_CONTRACT_STATUS_Approved'] == 1]\n","active_df = approved[approved['DAYS_LAST_DUE'] == 365243]\n","active_pay = pay[pay['SK_ID_PREV'].isin(active_df['SK_ID_PREV'])]\n","active_pay_agg = active_pay.groupby('SK_ID_PREV')[['AMT_INSTALMENT', 'AMT_PAYMENT']].sum()\n","active_pay_agg.reset_index(inplace= True)\n","active_pay_agg['INSTALMENT_PAYMENT_DIFF'] = active_pay_agg['AMT_INSTALMENT'] - active_pay_agg['AMT_PAYMENT']\n","active_df = active_df.merge(active_pay_agg, on= 'SK_ID_PREV', how= 'left')\n","active_df['REMAINING_DEBT'] = active_df['AMT_CREDIT'] - active_df['AMT_PAYMENT']\n","active_df['REPAYMENT_RATIO'] = active_df['AMT_PAYMENT'] / active_df['AMT_CREDIT']\n","active_agg_df = group(active_df, 'PREV_ACTIVE_', PREVIOUS_ACTIVE_AGG)\n","active_agg_df['TOTAL_REPAYMENT_RATIO'] = active_agg_df['PREV_ACTIVE_AMT_PAYMENT_SUM']/\\\n","                                            active_agg_df['PREV_ACTIVE_AMT_CREDIT_SUM']\n","del active_pay, active_pay_agg, active_df; gc.collect()"],"metadata":{"execution":{"iopub.status.busy":"2021-05-20T08:47:19.714488Z","iopub.execute_input":"2021-05-20T08:47:19.715016Z","iopub.status.idle":"2021-05-20T08:47:22.361484Z","shell.execute_reply.started":"2021-05-20T08:47:19.714976Z","shell.execute_reply":"2021-05-20T08:47:22.360549Z"},"trusted":true},"execution_count":null,"outputs":[]},{"cell_type":"code","source":["prev['DAYS_FIRST_DRAWING'].replace(365243, np.nan, inplace= True)\n","prev['DAYS_FIRST_DUE'].replace(365243, np.nan, inplace= True)\n","prev['DAYS_LAST_DUE_1ST_VERSION'].replace(365243, np.nan, inplace= True)\n","prev['DAYS_LAST_DUE'].replace(365243, np.nan, inplace= True)\n","prev['DAYS_TERMINATION'].replace(365243, np.nan, inplace= True)"],"metadata":{"execution":{"iopub.status.busy":"2021-05-20T08:47:22.362649Z","iopub.execute_input":"2021-05-20T08:47:22.362913Z","iopub.status.idle":"2021-05-20T08:47:22.396438Z","shell.execute_reply.started":"2021-05-20T08:47:22.362887Z","shell.execute_reply":"2021-05-20T08:47:22.39564Z"},"trusted":true},"execution_count":null,"outputs":[]},{"cell_type":"code","source":["prev['DAYS_LAST_DUE_DIFF'] = prev['DAYS_LAST_DUE_1ST_VERSION'] - prev['DAYS_LAST_DUE']\n","approved['DAYS_LAST_DUE_DIFF'] = approved['DAYS_LAST_DUE_1ST_VERSION'] - approved['DAYS_LAST_DUE']"],"metadata":{"execution":{"iopub.status.busy":"2021-05-20T08:47:22.397831Z","iopub.execute_input":"2021-05-20T08:47:22.398166Z","iopub.status.idle":"2021-05-20T08:47:22.414693Z","shell.execute_reply.started":"2021-05-20T08:47:22.39813Z","shell.execute_reply":"2021-05-20T08:47:22.413711Z"},"trusted":true},"execution_count":null,"outputs":[]},{"cell_type":"code","source":["categorical_agg = {key: ['mean'] for key in categorical_cols}"],"metadata":{"execution":{"iopub.status.busy":"2021-05-20T08:47:22.415715Z","iopub.execute_input":"2021-05-20T08:47:22.416211Z","iopub.status.idle":"2021-05-20T08:47:22.420253Z","shell.execute_reply.started":"2021-05-20T08:47:22.416174Z","shell.execute_reply":"2021-05-20T08:47:22.419151Z"},"trusted":true},"execution_count":null,"outputs":[]},{"cell_type":"code","source":["agg_prev = group(prev, 'PREV_', {**PREVIOUS_AGG, **categorical_agg})\n","agg_prev = agg_prev.merge(active_agg_df, how='left', on='SK_ID_CURR')\n","del active_agg_df; gc.collect()"],"metadata":{"execution":{"iopub.status.busy":"2021-05-20T08:47:22.421673Z","iopub.execute_input":"2021-05-20T08:47:22.422049Z","iopub.status.idle":"2021-05-20T08:47:27.114601Z","shell.execute_reply.started":"2021-05-20T08:47:22.42201Z","shell.execute_reply":"2021-05-20T08:47:27.113788Z"},"trusted":true},"execution_count":null,"outputs":[]},{"cell_type":"code","source":["agg_prev = group_and_merge(approved, agg_prev, 'APPROVED_', PREVIOUS_APPROVED_AGG)\n","refused = prev[prev['NAME_CONTRACT_STATUS_Refused'] == 1]\n","agg_prev = group_and_merge(refused, agg_prev, 'REFUSED_', PREVIOUS_REFUSED_AGG)\n","del approved, refused; gc.collect()"],"metadata":{"execution":{"iopub.status.busy":"2021-05-20T08:47:27.115645Z","iopub.execute_input":"2021-05-20T08:47:27.115913Z","iopub.status.idle":"2021-05-20T08:47:30.061026Z","shell.execute_reply.started":"2021-05-20T08:47:27.115887Z","shell.execute_reply":"2021-05-20T08:47:30.060011Z"},"trusted":true},"execution_count":null,"outputs":[]},{"cell_type":"code","source":["for loan_type in ['Consumer loans', 'Cash loans']:\n","    type_df = prev[prev['NAME_CONTRACT_TYPE_{}'.format(loan_type)] == 1]\n","    prefix = 'PREV_' + loan_type.split(\" \")[0] + '_'\n","    agg_prev = group_and_merge(type_df, agg_prev, prefix, PREVIOUS_LOAN_TYPE_AGG)\n","    del type_df; gc.collect()"],"metadata":{"execution":{"iopub.status.busy":"2021-05-20T08:47:30.062257Z","iopub.execute_input":"2021-05-20T08:47:30.062637Z","iopub.status.idle":"2021-05-20T08:47:32.530471Z","shell.execute_reply.started":"2021-05-20T08:47:30.062598Z","shell.execute_reply":"2021-05-20T08:47:32.529621Z"},"trusted":true},"execution_count":null,"outputs":[]},{"cell_type":"code","source":["pay['LATE_PAYMENT'] = pay['DAYS_ENTRY_PAYMENT'] - pay['DAYS_INSTALMENT']\n","pay['LATE_PAYMENT'] = pay['LATE_PAYMENT'].apply(lambda x: 1 if x > 0 else 0)\n","dpd_id = pay[pay['LATE_PAYMENT'] > 0]['SK_ID_PREV'].unique()"],"metadata":{"execution":{"iopub.status.busy":"2021-05-20T08:47:32.532071Z","iopub.execute_input":"2021-05-20T08:47:32.53244Z","iopub.status.idle":"2021-05-20T08:47:37.919881Z","shell.execute_reply.started":"2021-05-20T08:47:32.5324Z","shell.execute_reply":"2021-05-20T08:47:37.918859Z"},"trusted":true},"execution_count":null,"outputs":[]},{"cell_type":"code","source":["agg_dpd = group_and_merge(prev[prev['SK_ID_PREV'].isin(dpd_id)], agg_prev,\n","                                    'PREV_LATE_', PREVIOUS_LATE_PAYMENTS_AGG)\n","del agg_dpd, dpd_id; gc.collect()"],"metadata":{"execution":{"iopub.status.busy":"2021-05-20T08:47:37.921183Z","iopub.execute_input":"2021-05-20T08:47:37.9215Z","iopub.status.idle":"2021-05-20T08:47:38.732063Z","shell.execute_reply.started":"2021-05-20T08:47:37.921438Z","shell.execute_reply":"2021-05-20T08:47:38.731079Z"},"trusted":true},"execution_count":null,"outputs":[]},{"cell_type":"code","source":["for time_frame in [12, 24]:\n","    time_frame_df = prev[prev['DAYS_DECISION'] >= -30*time_frame]\n","    prefix = 'PREV_LAST{}M_'.format(time_frame)\n","    agg_prev = group_and_merge(time_frame_df, agg_prev, prefix, PREVIOUS_TIME_AGG)\n","    del time_frame_df; gc.collect()\n","del prev; gc.collect()"],"metadata":{"execution":{"iopub.status.busy":"2021-05-20T08:47:38.733188Z","iopub.execute_input":"2021-05-20T08:47:38.733442Z","iopub.status.idle":"2021-05-20T08:47:41.481283Z","shell.execute_reply.started":"2021-05-20T08:47:38.733416Z","shell.execute_reply":"2021-05-20T08:47:41.480599Z"},"trusted":true},"execution_count":null,"outputs":[]},{"cell_type":"code","source":["df = pd.merge(df, agg_prev, on='SK_ID_CURR', how='left')"],"metadata":{"execution":{"iopub.status.busy":"2021-05-20T08:47:41.482456Z","iopub.execute_input":"2021-05-20T08:47:41.483017Z","iopub.status.idle":"2021-05-20T08:47:43.805054Z","shell.execute_reply.started":"2021-05-20T08:47:41.482975Z","shell.execute_reply":"2021-05-20T08:47:43.804269Z"},"trusted":true},"execution_count":null,"outputs":[]},{"cell_type":"code","source":["train = df[df['TARGET'].notnull()]\n","test = df[df['TARGET'].isnull()]\n","del df\n","gc.collect()"],"metadata":{"execution":{"iopub.status.busy":"2021-05-20T08:47:43.806296Z","iopub.execute_input":"2021-05-20T08:47:43.806831Z","iopub.status.idle":"2021-05-20T08:47:45.359201Z","shell.execute_reply.started":"2021-05-20T08:47:43.80679Z","shell.execute_reply":"2021-05-20T08:47:45.358369Z"},"trusted":true},"execution_count":null,"outputs":[]},{"cell_type":"code","source":["labels = train['TARGET']\n","train = train.drop(columns=['TARGET'])\n","test = test.drop(columns=['TARGET'])"],"metadata":{"execution":{"iopub.status.busy":"2021-05-20T08:47:45.360356Z","iopub.execute_input":"2021-05-20T08:47:45.360944Z","iopub.status.idle":"2021-05-20T08:47:45.73062Z","shell.execute_reply.started":"2021-05-20T08:47:45.3609Z","shell.execute_reply":"2021-05-20T08:47:45.729587Z"},"trusted":true},"execution_count":null,"outputs":[]},{"cell_type":"code","source":["feature = list(train.columns)\n","\n","train.replace([np.inf, -np.inf], np.nan, inplace=True)\n","test.replace([np.inf, -np.inf], np.nan, inplace=True)\n","test_df = test.copy()\n","train_df = train.copy()\n","train_df['TARGET'] = labels"],"metadata":{"execution":{"iopub.status.busy":"2021-05-20T08:47:45.731822Z","iopub.execute_input":"2021-05-20T08:47:45.732094Z","iopub.status.idle":"2021-05-20T08:48:13.66203Z","shell.execute_reply.started":"2021-05-20T08:47:45.73206Z","shell.execute_reply":"2021-05-20T08:48:13.661032Z"},"trusted":true},"execution_count":null,"outputs":[]},{"cell_type":"code","source":["imputer = SimpleImputer(strategy = 'median')\n","imputer.fit(train)\n","train = imputer.transform(train)\n","test = imputer.transform(test)"],"metadata":{},"execution_count":null,"outputs":[]},{"cell_type":"code","source":["scaler = MinMaxScaler(feature_range = (0, 1))\n","scaler.fit(train)\n","train = scaler.transform(train)\n","test = scaler.transform(test)"],"metadata":{},"execution_count":null,"outputs":[]},{"cell_type":"code","source":["log_reg = LogisticRegression(C = 0.0001)\n","log_reg.fit(train, labels)"],"metadata":{"execution":{"iopub.status.busy":"2021-05-20T08:48:13.66317Z","iopub.execute_input":"2021-05-20T08:48:13.66342Z","iopub.status.idle":"2021-05-20T08:48:23.254513Z","shell.execute_reply.started":"2021-05-20T08:48:13.663396Z","shell.execute_reply":"2021-05-20T08:48:23.253355Z"},"trusted":true},"execution_count":null,"outputs":[]},{"cell_type":"code","source":["log_reg_pred = log_reg.predict_proba(test)[:, 1]"],"metadata":{"execution":{"iopub.status.busy":"2021-05-20T08:48:23.25987Z","iopub.execute_input":"2021-05-20T08:48:23.262616Z","iopub.status.idle":"2021-05-20T08:48:23.302043Z","shell.execute_reply.started":"2021-05-20T08:48:23.262501Z","shell.execute_reply":"2021-05-20T08:48:23.300993Z"},"trusted":true},"execution_count":null,"outputs":[]},{"cell_type":"code","source":["submit = test_df[['SK_ID_CURR']]\n","submit['TARGET'] = log_reg_pred"],"metadata":{"execution":{"iopub.status.busy":"2021-05-20T08:48:23.307219Z","iopub.execute_input":"2021-05-20T08:48:23.307973Z","iopub.status.idle":"2021-05-20T08:48:23.316407Z","shell.execute_reply.started":"2021-05-20T08:48:23.307923Z","shell.execute_reply":"2021-05-20T08:48:23.315406Z"},"trusted":true},"execution_count":null,"outputs":[]},{"cell_type":"code","source":["submit.to_csv('output/log_reg.csv', index = False)"],"metadata":{"execution":{"iopub.status.busy":"2021-05-20T08:48:23.318085Z","iopub.execute_input":"2021-05-20T08:48:23.318799Z","iopub.status.idle":"2021-05-20T08:48:23.482639Z","shell.execute_reply.started":"2021-05-20T08:48:23.318749Z","shell.execute_reply":"2021-05-20T08:48:23.48188Z"},"trusted":true},"execution_count":null,"outputs":[]},{"cell_type":"code","source":["from sklearn.ensemble import RandomForestClassifier\n","\n","random_forest = RandomForestClassifier(n_estimators = 100, random_state = 50, verbose = 1, n_jobs = -1)"],"metadata":{"execution":{"iopub.status.busy":"2021-05-20T08:48:23.483755Z","iopub.execute_input":"2021-05-20T08:48:23.484197Z","iopub.status.idle":"2021-05-20T08:48:23.555609Z","shell.execute_reply.started":"2021-05-20T08:48:23.484169Z","shell.execute_reply":"2021-05-20T08:48:23.554671Z"},"trusted":true},"execution_count":null,"outputs":[]},{"cell_type":"code","source":["random_forest.fit(train, labels)\n","\n","feature_importance_values = random_forest.feature_importances_\n","feature_importances = pd.DataFrame({'feature': feature, 'importance': feature_importance_values})\n","\n","predictions = random_forest.predict_proba(test)[:, 1]\n","del train, test\n","gc.collect()"],"metadata":{"execution":{"iopub.status.busy":"2021-05-20T08:48:23.556773Z","iopub.execute_input":"2021-05-20T08:48:23.55705Z","iopub.status.idle":"2021-05-20T08:53:16.01361Z","shell.execute_reply.started":"2021-05-20T08:48:23.557023Z","shell.execute_reply":"2021-05-20T08:53:16.012649Z"},"trusted":true},"execution_count":null,"outputs":[]},{"cell_type":"code","source":["submit = test_df[['SK_ID_CURR']]\n","submit['TARGET'] = predictions\n","del predictions\n","submit.to_csv('output/random_forest.csv', index = False)\n","del submit\n","gc.collect()"],"metadata":{"execution":{"iopub.status.busy":"2021-05-20T08:53:16.014903Z","iopub.execute_input":"2021-05-20T08:53:16.015179Z","iopub.status.idle":"2021-05-20T08:53:16.19556Z","shell.execute_reply.started":"2021-05-20T08:53:16.01515Z","shell.execute_reply":"2021-05-20T08:53:16.194634Z"},"trusted":true},"execution_count":null,"outputs":[]},{"cell_type":"code","source":["from sklearn.model_selection import KFold\n","from sklearn.metrics import roc_auc_score\n","import lightgbm as lgb\n","import gc\n","\n","# Ref: https://pranaysite.netlify.app/lightgbm/\n","\n","def model(features, test_features, encoding = 'ohe', n_folds = 5):\n","    \n","    \"\"\"Train and test a light gradient boosting model using\n","    cross validation. \n","    \n","    Parameters\n","    --------\n","        features (pd.DataFrame): \n","            dataframe of training features to use \n","            for training a model. Must include the TARGET column.\n","        test_features (pd.DataFrame): \n","            dataframe of testing features to use\n","            for making predictions with the model. \n","        encoding (str, default = 'ohe'): \n","            method for encoding categorical variables. Either 'ohe' for one-hot encoding or 'le' for integer label encoding\n","            n_folds (int, default = 5): number of folds to use for cross validation\n","        \n","    Return\n","    --------\n","        submission (pd.DataFrame): \n","            dataframe with `SK_ID_CURR` and `TARGET` probabilities\n","            predicted by the model.\n","        feature_importances (pd.DataFrame): \n","            dataframe with the feature importances from the model.\n","        valid_metrics (pd.DataFrame): \n","            dataframe with training and validation metrics (ROC AUC) for each fold and overall.\n","        \n","    \"\"\"\n","    \n","    # Extract the ids\n","    train_ids = features['SK_ID_CURR']\n","    test_ids = test_features['SK_ID_CURR']\n","    \n","    # Extract the labels for training\n","    labels = features['TARGET']\n","    \n","    # Remove the ids and target\n","    features = features.drop(columns = ['SK_ID_CURR', 'TARGET'])\n","    test_features = test_features.drop(columns = ['SK_ID_CURR'])\n","    \n","    \n","    # One Hot Encoding\n","    if encoding == 'ohe':\n","        features = pd.get_dummies(features)\n","        test_features = pd.get_dummies(test_features)\n","        \n","        # Align the dataframes by the columns\n","        features, test_features = features.align(test_features, join = 'inner', axis = 1)\n","        \n","        # No categorical indices to record\n","        cat_indices = 'auto'\n","    \n","    # Integer label encoding\n","    elif encoding == 'le':\n","        \n","        # Create a label encoder\n","        label_encoder = LabelEncoder()\n","        \n","        # List for storing categorical indices\n","        cat_indices = []\n","        \n","        # Iterate through each column\n","        for i, col in enumerate(features):\n","            if features[col].dtype == 'object':\n","                # Map the categorical features to integers\n","                features[col] = label_encoder.fit_transform(np.array(features[col].astype(str)).reshape((-1,)))\n","                test_features[col] = label_encoder.transform(np.array(test_features[col].astype(str)).reshape((-1,)))\n","\n","                # Record the categorical indices\n","                cat_indices.append(i)\n","    \n","    # Catch error if label encoding scheme is not valid\n","    else:\n","        raise ValueError(\"Encoding must be either 'ohe' or 'le'\")\n","        \n","    print('Training Data Shape: ', features.shape)\n","    print('Testing Data Shape: ', test_features.shape)\n","    \n","    # Extract feature names\n","    feature_names = list(features.columns)\n","    \n","    # Convert to np arrays\n","    features = np.array(features)\n","    test_features = np.array(test_features)\n","    \n","    # Create the kfold object\n","    k_fold = KFold(n_splits = n_folds, shuffle = True, random_state = 50)\n","    \n","    # Empty array for feature importances\n","    feature_importance_values = np.zeros(len(feature_names))\n","    \n","    # Empty array for test predictions\n","    test_predictions = np.zeros(test_features.shape[0])\n","    \n","    # Empty array for out of fold validation predictions\n","    out_of_fold = np.zeros(features.shape[0])\n","    \n","    # Lists for recording validation and training scores\n","    valid_scores = []\n","    train_scores = []\n","    \n","    # Iterate through each fold\n","    for train_indices, valid_indices in k_fold.split(features):\n","        \n","        # Training data for the fold\n","        train_features, train_labels = features[train_indices], labels[train_indices]\n","        # Validation data for the fold\n","        valid_features, valid_labels = features[valid_indices], labels[valid_indices]\n","        \n","        # Create the model\n","        model = lgb.LGBMClassifier(n_estimators=10000, objective = 'binary', \n","                                   class_weight = 'balanced', learning_rate = 0.05, \n","                                   reg_alpha = 0.1, reg_lambda = 0.1, \n","                                   subsample = 0.8, n_jobs = -1, random_state = 50)\n","        \n","        # Train the model\n","        model.fit(train_features, train_labels, eval_metric = 'auc',\n","                  eval_set = [(valid_features, valid_labels), (train_features, train_labels)],\n","                  eval_names = ['valid', 'train'], categorical_feature = cat_indices,\n","                  early_stopping_rounds = 100, verbose = 200)\n","        \n","        # Record the best iteration\n","        best_iteration = model.best_iteration_\n","        \n","        # Record the feature importances\n","        feature_importance_values += model.feature_importances_ / k_fold.n_splits\n","        \n","        # Make predictions\n","        test_predictions += model.predict_proba(test_features, num_iteration = best_iteration)[:, 1] / k_fold.n_splits\n","        \n","        # Record the out of fold predictions\n","        out_of_fold[valid_indices] = model.predict_proba(valid_features, num_iteration = best_iteration)[:, 1]\n","        \n","        # Record the best score\n","        valid_score = model.best_score_['valid']['auc']\n","        train_score = model.best_score_['train']['auc']\n","        \n","        valid_scores.append(valid_score)\n","        train_scores.append(train_score)\n","        \n","        # Clean up memory\n","        gc.enable()\n","        del model, train_features, valid_features\n","        gc.collect()\n","        \n","    # Make the submission dataframe\n","    submission = pd.DataFrame({'SK_ID_CURR': test_ids, 'TARGET': test_predictions})\n","    \n","    # Make the feature importance dataframe\n","    feature_importances = pd.DataFrame({'feature': feature_names, 'importance': feature_importance_values})\n","    \n","    # Overall validation score\n","    valid_auc = roc_auc_score(labels, out_of_fold)\n","    \n","    # Add the overall scores to the metrics\n","    valid_scores.append(valid_auc)\n","    train_scores.append(np.mean(train_scores))\n","    \n","    # Needed for creating dataframe of validation scores\n","    fold_names = list(range(n_folds))\n","    fold_names.append('overall')\n","    \n","    # Dataframe of validation scores\n","    metrics = pd.DataFrame({'fold': fold_names,\n","                            'train': train_scores,\n","                            'valid': valid_scores}) \n","    \n","    return submission, feature_importances, metrics"],"metadata":{"execution":{"iopub.status.busy":"2021-05-20T08:53:16.200471Z","iopub.execute_input":"2021-05-20T08:53:16.200777Z","iopub.status.idle":"2021-05-20T08:53:17.265888Z","shell.execute_reply.started":"2021-05-20T08:53:16.200749Z","shell.execute_reply":"2021-05-20T08:53:17.264983Z"},"trusted":true},"execution_count":null,"outputs":[]},{"cell_type":"code","source":["submission, fi, metrics = model(train_df, test_df)\n","print('LightGBM metrics')\n","print(metrics)"],"metadata":{"execution":{"iopub.status.busy":"2021-05-20T08:53:17.267814Z","iopub.execute_input":"2021-05-20T08:53:17.268526Z","iopub.status.idle":"2021-05-20T09:01:54.474863Z","shell.execute_reply.started":"2021-05-20T08:53:17.268479Z","shell.execute_reply":"2021-05-20T09:01:54.473924Z"},"trusted":true},"execution_count":null,"outputs":[]},{"cell_type":"code","source":["def plot_feature_importances(df):\n","    \"\"\"\n","    Plot importances returned by a model. This can work with any measure of\n","    feature importance provided that higher importance is better. \n","    \n","    Args:\n","        df (dataframe): feature importances. Must have the features in a column\n","        called `features` and the importances in a column called `importance\n","        \n","    Returns:\n","        shows a plot of the 15 most importance features\n","        \n","        df (dataframe): feature importances sorted by importance (highest to lowest) \n","        with a column for normalized importance\n","        \"\"\"\n","    \n","    # Sort features according to importance\n","    df = df.sort_values('importance', ascending = False).reset_index()\n","    \n","    # Normalize the feature importances to add up to one\n","    df['importance_normalized'] = df['importance'] / df['importance'].sum()\n","\n","    # Make a horizontal bar chart of feature importances\n","    plt.figure(figsize = (10, 6))\n","    ax = plt.subplot()\n","    \n","    # Need to reverse the index to plot most important on top\n","    ax.barh(list(reversed(list(df.index[:15]))), \n","            df['importance_normalized'].head(15), \n","            align = 'center', edgecolor = 'k')\n","    \n","    # Set the yticks and labels\n","    ax.set_yticks(list(reversed(list(df.index[:15]))))\n","    ax.set_yticklabels(df['feature'].head(15))\n","    \n","    # Plot labeling\n","    plt.xlabel('Normalized Importance'); plt.title('Feature Importances')\n","    plt.show()\n","    \n","    return df"],"metadata":{"execution":{"iopub.status.busy":"2021-05-20T09:01:54.47631Z","iopub.execute_input":"2021-05-20T09:01:54.476685Z","iopub.status.idle":"2021-05-20T09:01:54.484588Z","shell.execute_reply.started":"2021-05-20T09:01:54.476646Z","shell.execute_reply":"2021-05-20T09:01:54.483633Z"},"trusted":true},"execution_count":null,"outputs":[]},{"cell_type":"code","source":["fi_sorted = plot_feature_importances(fi)"],"metadata":{"execution":{"iopub.status.busy":"2021-05-20T09:01:54.487676Z","iopub.execute_input":"2021-05-20T09:01:54.487954Z","iopub.status.idle":"2021-05-20T09:01:54.75662Z","shell.execute_reply.started":"2021-05-20T09:01:54.487927Z","shell.execute_reply":"2021-05-20T09:01:54.755699Z"},"trusted":true},"execution_count":null,"outputs":[]},{"cell_type":"code","source":["submission.to_csv('output/lgb.csv', index = False)\n","del submission, fi, fi_sorted, metrics\n","gc.collect()"],"metadata":{"execution":{"iopub.status.busy":"2021-05-20T09:01:54.757711Z","iopub.execute_input":"2021-05-20T09:01:54.75798Z","iopub.status.idle":"2021-05-20T09:01:54.981162Z","shell.execute_reply.started":"2021-05-20T09:01:54.757954Z","shell.execute_reply":"2021-05-20T09:01:54.980233Z"},"trusted":true},"execution_count":null,"outputs":[]},{"cell_type":"code","source":["train_values = labels\n","train_id = train_df['SK_ID_CURR']\n","test_id = test_df['SK_ID_CURR']\n","\n","train_df_xg = train_df.copy()\n","test_df_xg = test_df.copy()\n","\n","train_df_xg.drop('SK_ID_CURR', inplace=True, axis=1)\n","test_df_xg.drop('SK_ID_CURR', inplace=True, axis=1)\n","\n","train_df_xg, test_df_xg = train_df_xg.align(test_df_xg, join = 'inner', axis = 1)\n","\n","ratio = (train_values == 0).sum()/ (train_values == 1).sum()\n","del train_df, test_df\n","gc.collect()"],"metadata":{"execution":{"iopub.status.busy":"2021-05-20T09:01:54.982362Z","iopub.execute_input":"2021-05-20T09:01:54.982644Z","iopub.status.idle":"2021-05-20T09:01:56.375853Z","shell.execute_reply.started":"2021-05-20T09:01:54.982616Z","shell.execute_reply":"2021-05-20T09:01:56.374699Z"},"trusted":true},"execution_count":null,"outputs":[]},{"cell_type":"code","source":["X_train, X_test, y_train, y_test = train_test_split(train_df_xg, train_values, test_size=0.2, stratify=train_values, random_state=1)"],"metadata":{"execution":{"iopub.status.busy":"2021-05-20T09:01:56.376911Z","iopub.execute_input":"2021-05-20T09:01:56.377163Z","iopub.status.idle":"2021-05-20T09:01:57.625046Z","shell.execute_reply.started":"2021-05-20T09:01:56.377136Z","shell.execute_reply":"2021-05-20T09:01:57.624235Z"},"trusted":true},"execution_count":null,"outputs":[]},{"cell_type":"code","source":["clf = XGBClassifier(n_estimators=1200, objective='binary:logistic', gamma=0.098, subsample=0.5, scale_pos_weight=ratio )\n","clf.fit(X_train, y_train, eval_set=[(X_test, y_test)], eval_metric='auc', early_stopping_rounds=10)"],"metadata":{"execution":{"iopub.status.busy":"2021-05-20T09:01:57.626343Z","iopub.execute_input":"2021-05-20T09:01:57.626925Z","iopub.status.idle":"2021-05-20T09:04:49.440098Z","shell.execute_reply.started":"2021-05-20T09:01:57.626881Z","shell.execute_reply":"2021-05-20T09:04:49.439343Z"},"trusted":true},"execution_count":null,"outputs":[]},{"cell_type":"code","source":["predictions = clf.predict_proba(test_df_xg.values)[:, 1]\n","submission = pd.DataFrame({'SK_ID_CURR': test_id.values, 'TARGET': predictions})\n","submission.to_csv('output/xgboost.csv', index = False)"],"metadata":{"execution":{"iopub.status.busy":"2021-05-20T09:04:49.441045Z","iopub.execute_input":"2021-05-20T09:04:49.441413Z","iopub.status.idle":"2021-05-20T09:04:49.796513Z","shell.execute_reply.started":"2021-05-20T09:04:49.441386Z","shell.execute_reply":"2021-05-20T09:04:49.795787Z"},"trusted":true},"execution_count":null,"outputs":[]}]}
>>>>>>> main
