{
 "cells": [
  {
   "cell_type": "code",
   "execution_count": 1,
   "metadata": {
    "id": "8WMvRGjnf5rr"
   },
   "outputs": [],
   "source": [
    "#!mkdir -p ~/.kaggle\n",
    "#!cp kaggle.json ~/.kaggle/"
   ]
  },
  {
   "cell_type": "code",
   "execution_count": 2,
   "metadata": {
    "colab": {
     "base_uri": "https://localhost:8080/"
    },
    "id": "AvT3UpYtf7iL",
    "outputId": "cb2b0f44-0345-4542-d8fa-c658ab37559f"
   },
   "outputs": [],
   "source": [
    "#!pip install kaggle"
   ]
  },
  {
   "cell_type": "code",
   "execution_count": 3,
   "metadata": {
    "id": "MyGWXrUHf9DV"
   },
   "outputs": [],
   "source": [
    "#!chmod 600 /root/.kaggle/kaggle.json"
   ]
  },
  {
   "cell_type": "code",
   "execution_count": 4,
   "metadata": {
    "colab": {
     "base_uri": "https://localhost:8080/"
    },
    "id": "0x0p4J09f-Wt",
    "outputId": "dbcac03e-58b2-49e2-8428-2b10171fac78"
   },
   "outputs": [],
   "source": [
    "#!kaggle competitions download -c home-credit-default-risk"
   ]
  },
  {
   "cell_type": "code",
   "execution_count": 5,
   "metadata": {
    "colab": {
     "base_uri": "https://localhost:8080/"
    },
    "id": "BY9VjC4xiDl6",
    "outputId": "1910b447-4c2e-4624-b417-8fe2ab08a941"
   },
   "outputs": [],
   "source": [
    "#!unzip \\*.zip -d dataset"
   ]
  },
  {
   "cell_type": "code",
   "execution_count": 6,
   "metadata": {
    "id": "bY_gS3lSj18f"
   },
   "outputs": [],
   "source": [
    "#!rm *zip *csv"
   ]
  },
  {
   "cell_type": "code",
   "execution_count": 7,
   "metadata": {
    "execution": {
     "iopub.execute_input": "2021-05-23T04:55:27.854329Z",
     "iopub.status.busy": "2021-05-23T04:55:27.853645Z",
     "iopub.status.idle": "2021-05-23T04:55:30.511152Z",
     "shell.execute_reply": "2021-05-23T04:55:30.509803Z",
     "shell.execute_reply.started": "2021-05-23T04:55:27.854235Z"
    },
    "id": "bbZooWebfvD3"
   },
   "outputs": [
    {
     "data": {
      "text/html": [
       "<style type='text/css'>\n",
       ".datatable table.frame { margin-bottom: 0; }\n",
       ".datatable table.frame thead { border-bottom: none; }\n",
       ".datatable table.frame tr.coltypes td {  color: #FFFFFF;  line-height: 6px;  padding: 0 0.5em;}\n",
       ".datatable .bool    { background: #DDDD99; }\n",
       ".datatable .object  { background: #565656; }\n",
       ".datatable .int     { background: #5D9E5D; }\n",
       ".datatable .float   { background: #4040CC; }\n",
       ".datatable .str     { background: #CC4040; }\n",
       ".datatable .row_index {  background: var(--jp-border-color3);  border-right: 1px solid var(--jp-border-color0);  color: var(--jp-ui-font-color3);  font-size: 9px;}\n",
       ".datatable .frame tr.coltypes .row_index {  background: var(--jp-border-color0);}\n",
       ".datatable th:nth-child(2) { padding-left: 12px; }\n",
       ".datatable .hellipsis {  color: var(--jp-cell-editor-border-color);}\n",
       ".datatable .vellipsis {  background: var(--jp-layout-color0);  color: var(--jp-cell-editor-border-color);}\n",
       ".datatable .na {  color: var(--jp-cell-editor-border-color);  font-size: 80%;}\n",
       ".datatable .footer { font-size: 9px; }\n",
       ".datatable .frame_dimensions {  background: var(--jp-border-color3);  border-top: 1px solid var(--jp-border-color0);  color: var(--jp-ui-font-color3);  display: inline-block;  opacity: 0.6;  padding: 1px 10px 1px 5px;}\n",
       "</style>\n"
      ],
      "text/plain": [
       "<IPython.core.display.HTML object>"
      ]
     },
     "metadata": {},
     "output_type": "display_data"
    }
   ],
   "source": [
    "import os\n",
    "import gc\n",
    "import numpy as np\n",
    "import pandas as pd\n",
    "import multiprocessing as mp\n",
    "from scipy.stats import kurtosis\n",
    "import matplotlib.pyplot as plt\n",
    "import seaborn as sns\n",
    "warnings.simplefilter(action='ignore', category=FutureWarning)"
   ]
  },
  {
   "cell_type": "code",
   "execution_count": 8,
   "metadata": {
    "execution": {
     "iopub.execute_input": "2021-05-23T04:55:30.513524Z",
     "iopub.status.busy": "2021-05-23T04:55:30.513101Z",
     "iopub.status.idle": "2021-05-23T04:55:30.519884Z",
     "shell.execute_reply": "2021-05-23T04:55:30.518421Z",
     "shell.execute_reply.started": "2021-05-23T04:55:30.513468Z"
    },
    "id": "1SNgv8eKfvD5"
   },
   "outputs": [],
   "source": [
    "DATA_DIRECTORY = \"dataset\""
   ]
  },
  {
   "cell_type": "code",
   "execution_count": 9,
   "metadata": {
    "colab": {
     "base_uri": "https://localhost:8080/"
    },
    "execution": {
     "iopub.execute_input": "2021-05-23T04:55:30.523574Z",
     "iopub.status.busy": "2021-05-23T04:55:30.523001Z",
     "iopub.status.idle": "2021-05-23T04:55:38.301092Z",
     "shell.execute_reply": "2021-05-23T04:55:38.299911Z",
     "shell.execute_reply.started": "2021-05-23T04:55:30.523503Z"
    },
    "id": "0PHJ3WiVfvD7",
    "outputId": "dfec7a9f-69e1-4da0-d941-4756149f223a"
   },
   "outputs": [
    {
     "data": {
      "text/plain": [
       "21"
      ]
     },
     "execution_count": 9,
     "metadata": {},
     "output_type": "execute_result"
    }
   ],
   "source": [
    "df_train = pd.read_csv(os.path.join(DATA_DIRECTORY, 'application_train.csv'))\n",
    "df_test = pd.read_csv(os.path.join(DATA_DIRECTORY, 'application_test.csv'))\n",
    "df = df_train.append(df_test)\n",
    "del df_train, df_test; gc.collect()"
   ]
  },
  {
   "cell_type": "code",
   "execution_count": 10,
   "metadata": {
    "execution": {
     "iopub.execute_input": "2021-05-23T04:55:38.303128Z",
     "iopub.status.busy": "2021-05-23T04:55:38.302808Z",
     "iopub.status.idle": "2021-05-23T04:55:39.532949Z",
     "shell.execute_reply": "2021-05-23T04:55:39.531716Z",
     "shell.execute_reply.started": "2021-05-23T04:55:38.303098Z"
    },
    "id": "lbsWdO_HfvD7"
   },
   "outputs": [],
   "source": [
    "df = df[df['AMT_INCOME_TOTAL'] < 20000000]\n",
    "df = df[df['CODE_GENDER'] != 'XNA']\n",
    "df['DAYS_EMPLOYED'].replace(365243, np.nan, inplace=True)\n",
    "df['DAYS_LAST_PHONE_CHANGE'].replace(0, np.nan, inplace=True)"
   ]
  },
  {
   "cell_type": "code",
   "execution_count": 11,
   "metadata": {
    "execution": {
     "iopub.execute_input": "2021-05-23T04:55:39.534973Z",
     "iopub.status.busy": "2021-05-23T04:55:39.534529Z",
     "iopub.status.idle": "2021-05-23T04:55:39.541094Z",
     "shell.execute_reply": "2021-05-23T04:55:39.539956Z",
     "shell.execute_reply.started": "2021-05-23T04:55:39.534934Z"
    },
    "id": "DRM56nqxfvD8"
   },
   "outputs": [],
   "source": [
    "def get_age_group(days_birth):\n",
    "    age_years = -days_birth / 365\n",
    "    if age_years < 27: return 1\n",
    "    elif age_years < 40: return 2\n",
    "    elif age_years < 50: return 3\n",
    "    elif age_years < 65: return 4\n",
    "    elif age_years < 99: return 5\n",
    "    else: return 0"
   ]
  },
  {
   "cell_type": "code",
   "execution_count": 12,
   "metadata": {
    "execution": {
     "iopub.execute_input": "2021-05-23T04:55:39.542945Z",
     "iopub.status.busy": "2021-05-23T04:55:39.542641Z",
     "iopub.status.idle": "2021-05-23T04:55:40.335814Z",
     "shell.execute_reply": "2021-05-23T04:55:40.334751Z",
     "shell.execute_reply.started": "2021-05-23T04:55:39.542912Z"
    },
    "id": "0Y9u5rCYfvD9"
   },
   "outputs": [],
   "source": [
    "docs = [f for f in df.columns if 'FLAG_DOC' in f]\n",
    "df['DOCUMENT_COUNT'] = df[docs].sum(axis=1)\n",
    "df['NEW_DOC_KURT'] = df[docs].kurtosis(axis=1)\n",
    "df['AGE_RANGE'] = df['DAYS_BIRTH'].apply(lambda x: get_age_group(x))"
   ]
  },
  {
   "cell_type": "code",
   "execution_count": 13,
   "metadata": {
    "execution": {
     "iopub.execute_input": "2021-05-23T04:55:40.337493Z",
     "iopub.status.busy": "2021-05-23T04:55:40.337188Z",
     "iopub.status.idle": "2021-05-23T04:55:41.557214Z",
     "shell.execute_reply": "2021-05-23T04:55:41.555855Z",
     "shell.execute_reply.started": "2021-05-23T04:55:40.337461Z"
    },
    "id": "7tGXFHxRfvD9"
   },
   "outputs": [],
   "source": [
    "df['EXT_SOURCES_PROD'] = df['EXT_SOURCE_1'] * df['EXT_SOURCE_2'] * df['EXT_SOURCE_3']\n",
    "df['EXT_SOURCES_WEIGHTED'] = df.EXT_SOURCE_1 * 2 + df.EXT_SOURCE_2 * 1 + df.EXT_SOURCE_3 * 3\n",
    "np.warnings.filterwarnings('ignore', r'All-NaN (slice|axis) encountered')\n",
    "for function_name in ['min', 'max', 'mean', 'nanmedian', 'var']:\n",
    "    feature_name = 'EXT_SOURCES_{}'.format(function_name.upper())\n",
    "    df[feature_name] = eval('np.{}'.format(function_name))(\n",
    "        df[['EXT_SOURCE_1', 'EXT_SOURCE_2', 'EXT_SOURCE_3']], axis=1)"
   ]
  },
  {
   "cell_type": "code",
   "execution_count": 14,
   "metadata": {
    "execution": {
     "iopub.execute_input": "2021-05-23T04:55:41.560335Z",
     "iopub.status.busy": "2021-05-23T04:55:41.560036Z",
     "iopub.status.idle": "2021-05-23T04:55:41.591515Z",
     "shell.execute_reply": "2021-05-23T04:55:41.59041Z",
     "shell.execute_reply.started": "2021-05-23T04:55:41.560307Z"
    },
    "id": "l88M7zcefvD-"
   },
   "outputs": [],
   "source": [
    "df['CREDIT_TO_ANNUITY_RATIO'] = df['AMT_CREDIT'] / df['AMT_ANNUITY']\n",
    "df['CREDIT_TO_GOODS_RATIO'] = df['AMT_CREDIT'] / df['AMT_GOODS_PRICE']\n",
    "df['ANNUITY_TO_INCOME_RATIO'] = df['AMT_ANNUITY'] / df['AMT_INCOME_TOTAL']\n",
    "df['CREDIT_TO_INCOME_RATIO'] = df['AMT_CREDIT'] / df['AMT_INCOME_TOTAL']\n",
    "df['INCOME_TO_EMPLOYED_RATIO'] = df['AMT_INCOME_TOTAL'] / df['DAYS_EMPLOYED']\n",
    "df['INCOME_TO_BIRTH_RATIO'] = df['AMT_INCOME_TOTAL'] / df['DAYS_BIRTH']    \n",
    "df['EMPLOYED_TO_BIRTH_RATIO'] = df['DAYS_EMPLOYED'] / df['DAYS_BIRTH']\n",
    "df['ID_TO_BIRTH_RATIO'] = df['DAYS_ID_PUBLISH'] / df['DAYS_BIRTH']\n",
    "df['CAR_TO_BIRTH_RATIO'] = df['OWN_CAR_AGE'] / df['DAYS_BIRTH']\n",
    "df['CAR_TO_EMPLOYED_RATIO'] = df['OWN_CAR_AGE'] / df['DAYS_EMPLOYED']\n",
    "df['PHONE_TO_BIRTH_RATIO'] = df['DAYS_LAST_PHONE_CHANGE'] / df['DAYS_BIRTH']"
   ]
  },
  {
   "cell_type": "code",
   "execution_count": 15,
   "metadata": {
    "execution": {
     "iopub.execute_input": "2021-05-23T04:55:41.593869Z",
     "iopub.status.busy": "2021-05-23T04:55:41.593482Z",
     "iopub.status.idle": "2021-05-23T04:55:41.600173Z",
     "shell.execute_reply": "2021-05-23T04:55:41.599129Z",
     "shell.execute_reply.started": "2021-05-23T04:55:41.593837Z"
    },
    "id": "--oHB5mIfvD-"
   },
   "outputs": [],
   "source": [
    "def do_mean(df, group_cols, counted, agg_name):\n",
    "    gp = df[group_cols + [counted]].groupby(group_cols)[counted].mean().reset_index().rename(\n",
    "        columns={counted: agg_name})\n",
    "    df = df.merge(gp, on=group_cols, how='left')\n",
    "    del gp\n",
    "    gc.collect()\n",
    "    return df"
   ]
  },
  {
   "cell_type": "code",
   "execution_count": 16,
   "metadata": {
    "execution": {
     "iopub.execute_input": "2021-05-23T04:55:41.602132Z",
     "iopub.status.busy": "2021-05-23T04:55:41.601807Z",
     "iopub.status.idle": "2021-05-23T04:55:41.613398Z",
     "shell.execute_reply": "2021-05-23T04:55:41.612056Z",
     "shell.execute_reply.started": "2021-05-23T04:55:41.602099Z"
    },
    "id": "-AjK9cklfvD_"
   },
   "outputs": [],
   "source": [
    "def do_median(df, group_cols, counted, agg_name):\n",
    "    gp = df[group_cols + [counted]].groupby(group_cols)[counted].median().reset_index().rename(\n",
    "        columns={counted: agg_name})\n",
    "    df = df.merge(gp, on=group_cols, how='left')\n",
    "    del gp\n",
    "    gc.collect()\n",
    "    return df"
   ]
  },
  {
   "cell_type": "code",
   "execution_count": 17,
   "metadata": {
    "execution": {
     "iopub.execute_input": "2021-05-23T04:55:41.615068Z",
     "iopub.status.busy": "2021-05-23T04:55:41.61479Z",
     "iopub.status.idle": "2021-05-23T04:55:41.625948Z",
     "shell.execute_reply": "2021-05-23T04:55:41.624907Z",
     "shell.execute_reply.started": "2021-05-23T04:55:41.615041Z"
    },
    "id": "vRkrot_8fvD_"
   },
   "outputs": [],
   "source": [
    "def do_std(df, group_cols, counted, agg_name):\n",
    "    gp = df[group_cols + [counted]].groupby(group_cols)[counted].std().reset_index().rename(\n",
    "        columns={counted: agg_name})\n",
    "    df = df.merge(gp, on=group_cols, how='left')\n",
    "    del gp\n",
    "    gc.collect()\n",
    "    return df"
   ]
  },
  {
   "cell_type": "code",
   "execution_count": 18,
   "metadata": {
    "execution": {
     "iopub.execute_input": "2021-05-23T04:55:41.627465Z",
     "iopub.status.busy": "2021-05-23T04:55:41.627189Z",
     "iopub.status.idle": "2021-05-23T04:55:41.643876Z",
     "shell.execute_reply": "2021-05-23T04:55:41.642798Z",
     "shell.execute_reply.started": "2021-05-23T04:55:41.627438Z"
    },
    "id": "URTqRsY6fvEA"
   },
   "outputs": [],
   "source": [
    "def do_sum(df, group_cols, counted, agg_name):\n",
    "    gp = df[group_cols + [counted]].groupby(group_cols)[counted].sum().reset_index().rename(\n",
    "        columns={counted: agg_name})\n",
    "    df = df.merge(gp, on=group_cols, how='left')\n",
    "    del gp\n",
    "    gc.collect()\n",
    "    return df"
   ]
  },
  {
   "cell_type": "code",
   "execution_count": 19,
   "metadata": {
    "execution": {
     "iopub.execute_input": "2021-05-23T04:55:41.645391Z",
     "iopub.status.busy": "2021-05-23T04:55:41.645112Z",
     "iopub.status.idle": "2021-05-23T04:56:18.917517Z",
     "shell.execute_reply": "2021-05-23T04:56:18.916647Z",
     "shell.execute_reply.started": "2021-05-23T04:55:41.645364Z"
    },
    "id": "uH-QMvWOfvEA"
   },
   "outputs": [],
   "source": [
    "group = ['ORGANIZATION_TYPE', 'NAME_EDUCATION_TYPE', 'OCCUPATION_TYPE', 'AGE_RANGE', 'CODE_GENDER']\n",
    "df = do_median(df, group, 'EXT_SOURCES_MEAN', 'GROUP_EXT_SOURCES_MEDIAN')\n",
    "df = do_std(df, group, 'EXT_SOURCES_MEAN', 'GROUP_EXT_SOURCES_STD')\n",
    "df = do_mean(df, group, 'AMT_INCOME_TOTAL', 'GROUP_INCOME_MEAN')\n",
    "df = do_std(df, group, 'AMT_INCOME_TOTAL', 'GROUP_INCOME_STD')\n",
    "df = do_mean(df, group, 'CREDIT_TO_ANNUITY_RATIO', 'GROUP_CREDIT_TO_ANNUITY_MEAN')\n",
    "df = do_std(df, group, 'CREDIT_TO_ANNUITY_RATIO', 'GROUP_CREDIT_TO_ANNUITY_STD')\n",
    "df = do_mean(df, group, 'AMT_CREDIT', 'GROUP_CREDIT_MEAN')\n",
    "df = do_mean(df, group, 'AMT_ANNUITY', 'GROUP_ANNUITY_MEAN')\n",
    "df = do_std(df, group, 'AMT_ANNUITY', 'GROUP_ANNUITY_STD')"
   ]
  },
  {
   "cell_type": "code",
   "execution_count": 20,
   "metadata": {
    "execution": {
     "iopub.execute_input": "2021-05-23T04:56:18.919738Z",
     "iopub.status.busy": "2021-05-23T04:56:18.91906Z",
     "iopub.status.idle": "2021-05-23T04:56:18.926332Z",
     "shell.execute_reply": "2021-05-23T04:56:18.925536Z",
     "shell.execute_reply.started": "2021-05-23T04:56:18.919685Z"
    },
    "id": "pgJRRETefvEB"
   },
   "outputs": [],
   "source": [
    "def label_encoder(df, categorical_columns=None):\n",
    "    if not categorical_columns:\n",
    "        categorical_columns = [col for col in df.columns if df[col].dtype == 'object']\n",
    "    for col in categorical_columns:\n",
    "        df[col], uniques = pd.factorize(df[col])\n",
    "    return df, categorical_columns"
   ]
  },
  {
   "cell_type": "code",
   "execution_count": 21,
   "metadata": {
    "execution": {
     "iopub.execute_input": "2021-05-23T04:56:18.92801Z",
     "iopub.status.busy": "2021-05-23T04:56:18.927696Z",
     "iopub.status.idle": "2021-05-23T04:56:18.94141Z",
     "shell.execute_reply": "2021-05-23T04:56:18.940132Z",
     "shell.execute_reply.started": "2021-05-23T04:56:18.927979Z"
    },
    "id": "fvOARQAgfvEB"
   },
   "outputs": [],
   "source": [
    "def drop_application_columns(df):\n",
    "    drop_list = [\n",
    "        'CNT_CHILDREN', 'CNT_FAM_MEMBERS', 'HOUR_APPR_PROCESS_START',\n",
    "        'FLAG_EMP_PHONE', 'FLAG_MOBIL', 'FLAG_CONT_MOBILE', 'FLAG_EMAIL', 'FLAG_PHONE',\n",
    "        'FLAG_OWN_REALTY', 'REG_REGION_NOT_LIVE_REGION', 'REG_REGION_NOT_WORK_REGION',\n",
    "        'REG_CITY_NOT_WORK_CITY', 'OBS_30_CNT_SOCIAL_CIRCLE', 'OBS_60_CNT_SOCIAL_CIRCLE',\n",
    "        'AMT_REQ_CREDIT_BUREAU_DAY', 'AMT_REQ_CREDIT_BUREAU_MON', 'AMT_REQ_CREDIT_BUREAU_YEAR', \n",
    "        'COMMONAREA_MODE', 'NONLIVINGAREA_MODE', 'ELEVATORS_MODE', 'NONLIVINGAREA_AVG',\n",
    "        'FLOORSMIN_MEDI', 'LANDAREA_MODE', 'NONLIVINGAREA_MEDI', 'LIVINGAPARTMENTS_MODE',\n",
    "        'FLOORSMIN_AVG', 'LANDAREA_AVG', 'FLOORSMIN_MODE', 'LANDAREA_MEDI',\n",
    "        'COMMONAREA_MEDI', 'YEARS_BUILD_AVG', 'COMMONAREA_AVG', 'BASEMENTAREA_AVG',\n",
    "        'BASEMENTAREA_MODE', 'NONLIVINGAPARTMENTS_MEDI', 'BASEMENTAREA_MEDI', \n",
    "        'LIVINGAPARTMENTS_AVG', 'ELEVATORS_AVG', 'YEARS_BUILD_MEDI', 'ENTRANCES_MODE',\n",
    "        'NONLIVINGAPARTMENTS_MODE', 'LIVINGAREA_MODE', 'LIVINGAPARTMENTS_MEDI',\n",
    "        'YEARS_BUILD_MODE', 'YEARS_BEGINEXPLUATATION_AVG', 'ELEVATORS_MEDI', 'LIVINGAREA_MEDI',\n",
    "        'YEARS_BEGINEXPLUATATION_MODE', 'NONLIVINGAPARTMENTS_AVG', 'HOUSETYPE_MODE',\n",
    "        'FONDKAPREMONT_MODE', 'EMERGENCYSTATE_MODE'\n",
    "    ]\n",
    "    for doc_num in [2,4,5,6,7,9,10,11,12,13,14,15,16,17,19,20,21]:\n",
    "        drop_list.append('FLAG_DOCUMENT_{}'.format(doc_num))\n",
    "    df.drop(drop_list, axis=1, inplace=True)\n",
    "    return df"
   ]
  },
  {
   "cell_type": "code",
   "execution_count": 22,
   "metadata": {
    "execution": {
     "iopub.execute_input": "2021-05-23T04:56:18.943504Z",
     "iopub.status.busy": "2021-05-23T04:56:18.943137Z",
     "iopub.status.idle": "2021-05-23T04:56:20.131135Z",
     "shell.execute_reply": "2021-05-23T04:56:20.129872Z",
     "shell.execute_reply.started": "2021-05-23T04:56:18.943472Z"
    },
    "id": "SYuEW0klfvEC"
   },
   "outputs": [],
   "source": [
    "df, le_encoded_cols = label_encoder(df, None)\n",
    "df = drop_application_columns(df)"
   ]
  },
  {
   "cell_type": "code",
   "execution_count": 23,
   "metadata": {
    "execution": {
     "iopub.execute_input": "2021-05-23T04:56:20.133047Z",
     "iopub.status.busy": "2021-05-23T04:56:20.132744Z",
     "iopub.status.idle": "2021-05-23T04:56:20.290194Z",
     "shell.execute_reply": "2021-05-23T04:56:20.289243Z",
     "shell.execute_reply.started": "2021-05-23T04:56:20.133018Z"
    },
    "id": "KCnOZUiKfvEC"
   },
   "outputs": [],
   "source": [
    "df = pd.get_dummies(df)"
   ]
  },
  {
   "cell_type": "code",
   "execution_count": 24,
   "metadata": {
    "execution": {
     "iopub.execute_input": "2021-05-23T04:56:20.291709Z",
     "iopub.status.busy": "2021-05-23T04:56:20.291373Z",
     "iopub.status.idle": "2021-05-23T04:56:25.133576Z",
     "shell.execute_reply": "2021-05-23T04:56:25.132268Z",
     "shell.execute_reply.started": "2021-05-23T04:56:20.291676Z"
    },
    "id": "oKDRi8ssfvEC"
   },
   "outputs": [],
   "source": [
    "bureau = pd.read_csv(os.path.join(DATA_DIRECTORY, 'bureau.csv'))"
   ]
  },
  {
   "cell_type": "code",
   "execution_count": 25,
   "metadata": {
    "execution": {
     "iopub.execute_input": "2021-05-23T04:56:25.135411Z",
     "iopub.status.busy": "2021-05-23T04:56:25.135115Z",
     "iopub.status.idle": "2021-05-23T04:56:25.212986Z",
     "shell.execute_reply": "2021-05-23T04:56:25.211814Z",
     "shell.execute_reply.started": "2021-05-23T04:56:25.135381Z"
    },
    "id": "an0Q-OdSfvEC"
   },
   "outputs": [],
   "source": [
    "bureau['CREDIT_DURATION'] = -bureau['DAYS_CREDIT'] + bureau['DAYS_CREDIT_ENDDATE']\n",
    "bureau['ENDDATE_DIF'] = bureau['DAYS_CREDIT_ENDDATE'] - bureau['DAYS_ENDDATE_FACT']\n",
    "bureau['DEBT_PERCENTAGE'] = bureau['AMT_CREDIT_SUM'] / bureau['AMT_CREDIT_SUM_DEBT']\n",
    "bureau['DEBT_CREDIT_DIFF'] = bureau['AMT_CREDIT_SUM'] - bureau['AMT_CREDIT_SUM_DEBT']\n",
    "bureau['CREDIT_TO_ANNUITY_RATIO'] = bureau['AMT_CREDIT_SUM'] / bureau['AMT_ANNUITY']"
   ]
  },
  {
   "cell_type": "code",
   "execution_count": 26,
   "metadata": {
    "execution": {
     "iopub.execute_input": "2021-05-23T04:56:25.217287Z",
     "iopub.status.busy": "2021-05-23T04:56:25.216977Z",
     "iopub.status.idle": "2021-05-23T04:56:25.224273Z",
     "shell.execute_reply": "2021-05-23T04:56:25.222681Z",
     "shell.execute_reply.started": "2021-05-23T04:56:25.217257Z"
    },
    "id": "a-6yU6iUfvED"
   },
   "outputs": [],
   "source": [
    "def one_hot_encoder(df, categorical_columns=None, nan_as_category=True):\n",
    "    original_columns = list(df.columns)\n",
    "    if not categorical_columns:\n",
    "        categorical_columns = [col for col in df.columns if df[col].dtype == 'object']\n",
    "    df = pd.get_dummies(df, columns=categorical_columns, dummy_na=nan_as_category)\n",
    "    categorical_columns = [c for c in df.columns if c not in original_columns]\n",
    "    return df, categorical_columns"
   ]
  },
  {
   "cell_type": "code",
   "execution_count": 27,
   "metadata": {
    "execution": {
     "iopub.execute_input": "2021-05-23T04:56:25.226676Z",
     "iopub.status.busy": "2021-05-23T04:56:25.226346Z",
     "iopub.status.idle": "2021-05-23T04:56:25.238188Z",
     "shell.execute_reply": "2021-05-23T04:56:25.236869Z",
     "shell.execute_reply.started": "2021-05-23T04:56:25.226643Z"
    },
    "id": "MLZf1YK4fvED"
   },
   "outputs": [],
   "source": [
    "def group(df_to_agg, prefix, aggregations, aggregate_by= 'SK_ID_CURR'):\n",
    "    agg_df = df_to_agg.groupby(aggregate_by).agg(aggregations)\n",
    "    agg_df.columns = pd.Index(['{}{}_{}'.format(prefix, e[0], e[1].upper())\n",
    "                               for e in agg_df.columns.tolist()])\n",
    "    return agg_df.reset_index()"
   ]
  },
  {
   "cell_type": "code",
   "execution_count": 28,
   "metadata": {
    "execution": {
     "iopub.execute_input": "2021-05-23T04:56:25.240043Z",
     "iopub.status.busy": "2021-05-23T04:56:25.239626Z",
     "iopub.status.idle": "2021-05-23T04:56:25.250693Z",
     "shell.execute_reply": "2021-05-23T04:56:25.249703Z",
     "shell.execute_reply.started": "2021-05-23T04:56:25.239912Z"
    },
    "id": "ZjLTbd4tfvED"
   },
   "outputs": [],
   "source": [
    "def group_and_merge(df_to_agg, df_to_merge, prefix, aggregations, aggregate_by= 'SK_ID_CURR'):\n",
    "    agg_df = group(df_to_agg, prefix, aggregations, aggregate_by= aggregate_by)\n",
    "    return df_to_merge.merge(agg_df, how='left', on= aggregate_by)"
   ]
  },
  {
   "cell_type": "code",
   "execution_count": 29,
   "metadata": {
    "execution": {
     "iopub.execute_input": "2021-05-23T04:56:25.256381Z",
     "iopub.status.busy": "2021-05-23T04:56:25.25602Z",
     "iopub.status.idle": "2021-05-23T04:56:25.265302Z",
     "shell.execute_reply": "2021-05-23T04:56:25.264106Z",
     "shell.execute_reply.started": "2021-05-23T04:56:25.256348Z"
    },
    "id": "BkjdcDZPfvED"
   },
   "outputs": [],
   "source": [
    "def get_bureau_balance(path, num_rows= None):\n",
    "    bb = pd.read_csv(os.path.join(path, 'bureau_balance.csv'))\n",
    "    bb, categorical_cols = one_hot_encoder(bb, nan_as_category= False)\n",
    "    bb_processed = bb.groupby('SK_ID_BUREAU')[categorical_cols].mean().reset_index()\n",
    "    agg = {'MONTHS_BALANCE': ['min', 'max', 'mean', 'size']}\n",
    "    bb_processed = group_and_merge(bb, bb_processed, '', agg, 'SK_ID_BUREAU')\n",
    "    del bb; gc.collect()\n",
    "    return bb_processed"
   ]
  },
  {
   "cell_type": "code",
   "execution_count": 30,
   "metadata": {
    "execution": {
     "iopub.execute_input": "2021-05-23T04:56:25.269857Z",
     "iopub.status.busy": "2021-05-23T04:56:25.269326Z",
     "iopub.status.idle": "2021-05-23T04:56:48.87663Z",
     "shell.execute_reply": "2021-05-23T04:56:48.875332Z",
     "shell.execute_reply.started": "2021-05-23T04:56:25.269804Z"
    },
    "id": "NOaYMiuifvEE"
   },
   "outputs": [],
   "source": [
    "bureau, categorical_cols = one_hot_encoder(bureau, nan_as_category= False)\n",
    "bureau = bureau.merge(get_bureau_balance(DATA_DIRECTORY), how='left', on='SK_ID_BUREAU')\n",
    "bureau['STATUS_12345'] = 0\n",
    "for i in range(1,6):\n",
    "    bureau['STATUS_12345'] += bureau['STATUS_{}'.format(i)]"
   ]
  },
  {
   "cell_type": "code",
   "execution_count": 31,
   "metadata": {
    "colab": {
     "base_uri": "https://localhost:8080/"
    },
    "execution": {
     "iopub.execute_input": "2021-05-23T04:56:48.87852Z",
     "iopub.status.busy": "2021-05-23T04:56:48.8782Z",
     "iopub.status.idle": "2021-05-23T04:56:51.401511Z",
     "shell.execute_reply": "2021-05-23T04:56:51.400497Z",
     "shell.execute_reply.started": "2021-05-23T04:56:48.878486Z"
    },
    "id": "Br6IzFW7fvEE",
    "outputId": "7dab293a-e607-420a-a782-83dd492ce4dc"
   },
   "outputs": [
    {
     "data": {
      "text/plain": [
       "22"
      ]
     },
     "execution_count": 31,
     "metadata": {},
     "output_type": "execute_result"
    }
   ],
   "source": [
    "features = ['AMT_CREDIT_MAX_OVERDUE', 'AMT_CREDIT_SUM_OVERDUE', 'AMT_CREDIT_SUM',\n",
    "    'AMT_CREDIT_SUM_DEBT', 'DEBT_PERCENTAGE', 'DEBT_CREDIT_DIFF', 'STATUS_0', 'STATUS_12345']\n",
    "agg_length = bureau.groupby('MONTHS_BALANCE_SIZE')[features].mean().reset_index()\n",
    "agg_length.rename({feat: 'LL_' + feat for feat in features}, axis=1, inplace=True)\n",
    "bureau = bureau.merge(agg_length, how='left', on='MONTHS_BALANCE_SIZE')\n",
    "del agg_length; gc.collect()"
   ]
  },
  {
   "cell_type": "code",
   "execution_count": 32,
   "metadata": {
    "execution": {
     "iopub.execute_input": "2021-05-23T04:56:51.403109Z",
     "iopub.status.busy": "2021-05-23T04:56:51.402787Z",
     "iopub.status.idle": "2021-05-23T04:56:51.418287Z",
     "shell.execute_reply": "2021-05-23T04:56:51.416897Z",
     "shell.execute_reply.started": "2021-05-23T04:56:51.40308Z"
    },
    "id": "EBx-5Fk_fvEE"
   },
   "outputs": [],
   "source": [
    "BUREAU_AGG = {\n",
    "    'SK_ID_BUREAU': ['nunique'],\n",
    "    'DAYS_CREDIT': ['min', 'max', 'mean'],\n",
    "    'DAYS_CREDIT_ENDDATE': ['min', 'max'],\n",
    "    'AMT_CREDIT_MAX_OVERDUE': ['max', 'mean'],\n",
    "    'AMT_CREDIT_SUM': ['max', 'mean', 'sum'],\n",
    "    'AMT_CREDIT_SUM_DEBT': ['max', 'mean', 'sum'],\n",
    "    'AMT_CREDIT_SUM_OVERDUE': ['max', 'mean', 'sum'],\n",
    "    'AMT_ANNUITY': ['mean'],\n",
    "    'DEBT_CREDIT_DIFF': ['mean', 'sum'],\n",
    "    'MONTHS_BALANCE_MEAN': ['mean', 'var'],\n",
    "    'MONTHS_BALANCE_SIZE': ['mean', 'sum'],\n",
    "    'STATUS_0': ['mean'],\n",
    "    'STATUS_1': ['mean'],\n",
    "    'STATUS_12345': ['mean'],\n",
    "    'STATUS_C': ['mean'],\n",
    "    'STATUS_X': ['mean'],\n",
    "    'CREDIT_ACTIVE_Active': ['mean'],\n",
    "    'CREDIT_ACTIVE_Closed': ['mean'],\n",
    "    'CREDIT_ACTIVE_Sold': ['mean'],\n",
    "    'CREDIT_TYPE_Consumer credit': ['mean'],\n",
    "    'CREDIT_TYPE_Credit card': ['mean'],\n",
    "    'CREDIT_TYPE_Car loan': ['mean'],\n",
    "    'CREDIT_TYPE_Mortgage': ['mean'],\n",
    "    'CREDIT_TYPE_Microloan': ['mean'],\n",
    "    'LL_AMT_CREDIT_SUM_OVERDUE': ['mean'],\n",
    "    'LL_DEBT_CREDIT_DIFF': ['mean'],\n",
    "    'LL_STATUS_12345': ['mean'],\n",
    "}\n",
    "\n",
    "BUREAU_ACTIVE_AGG = {\n",
    "    'DAYS_CREDIT': ['max', 'mean'],\n",
    "    'DAYS_CREDIT_ENDDATE': ['min', 'max'],\n",
    "    'AMT_CREDIT_MAX_OVERDUE': ['max', 'mean'],\n",
    "    'AMT_CREDIT_SUM': ['max', 'sum'],\n",
    "    'AMT_CREDIT_SUM_DEBT': ['mean', 'sum'],\n",
    "    'AMT_CREDIT_SUM_OVERDUE': ['max', 'mean'],\n",
    "    'DAYS_CREDIT_UPDATE': ['min', 'mean'],\n",
    "    'DEBT_PERCENTAGE': ['mean'],\n",
    "    'DEBT_CREDIT_DIFF': ['mean'],\n",
    "    'CREDIT_TO_ANNUITY_RATIO': ['mean'],\n",
    "    'MONTHS_BALANCE_MEAN': ['mean', 'var'],\n",
    "    'MONTHS_BALANCE_SIZE': ['mean', 'sum'],\n",
    "}\n",
    "\n",
    "BUREAU_CLOSED_AGG = {\n",
    "    'DAYS_CREDIT': ['max', 'var'],\n",
    "    'DAYS_CREDIT_ENDDATE': ['max'],\n",
    "    'AMT_CREDIT_MAX_OVERDUE': ['max', 'mean'],\n",
    "    'AMT_CREDIT_SUM_OVERDUE': ['mean'],\n",
    "    'AMT_CREDIT_SUM': ['max', 'mean', 'sum'],\n",
    "    'AMT_CREDIT_SUM_DEBT': ['max', 'sum'],\n",
    "    'DAYS_CREDIT_UPDATE': ['max'],\n",
    "    'ENDDATE_DIF': ['mean'],\n",
    "    'STATUS_12345': ['mean'],\n",
    "}\n",
    "\n",
    "BUREAU_LOAN_TYPE_AGG = {\n",
    "    'DAYS_CREDIT': ['mean', 'max'],\n",
    "    'AMT_CREDIT_MAX_OVERDUE': ['mean', 'max'],\n",
    "    'AMT_CREDIT_SUM': ['mean', 'max'],\n",
    "    'AMT_CREDIT_SUM_DEBT': ['mean', 'max'],\n",
    "    'DEBT_PERCENTAGE': ['mean'],\n",
    "    'DEBT_CREDIT_DIFF': ['mean'],\n",
    "    'DAYS_CREDIT_ENDDATE': ['max'],\n",
    "}\n",
    "\n",
    "BUREAU_TIME_AGG = {\n",
    "    'AMT_CREDIT_MAX_OVERDUE': ['max', 'mean'],\n",
    "    'AMT_CREDIT_SUM_OVERDUE': ['mean'],\n",
    "    'AMT_CREDIT_SUM': ['max', 'sum'],\n",
    "    'AMT_CREDIT_SUM_DEBT': ['mean', 'sum'],\n",
    "    'DEBT_PERCENTAGE': ['mean'],\n",
    "    'DEBT_CREDIT_DIFF': ['mean'],\n",
    "    'STATUS_0': ['mean'],\n",
    "    'STATUS_12345': ['mean'],\n",
    "}"
   ]
  },
  {
   "cell_type": "code",
   "execution_count": 33,
   "metadata": {
    "execution": {
     "iopub.execute_input": "2021-05-23T04:56:51.420687Z",
     "iopub.status.busy": "2021-05-23T04:56:51.420236Z",
     "iopub.status.idle": "2021-05-23T04:57:01.768711Z",
     "shell.execute_reply": "2021-05-23T04:57:01.767633Z",
     "shell.execute_reply.started": "2021-05-23T04:56:51.420639Z"
    },
    "id": "dun76VF7fvEF"
   },
   "outputs": [],
   "source": [
    "agg_bureau = group(bureau, 'BUREAU_', BUREAU_AGG)\n",
    "active = bureau[bureau['CREDIT_ACTIVE_Active'] == 1]\n",
    "agg_bureau = group_and_merge(active,agg_bureau,'BUREAU_ACTIVE_',BUREAU_ACTIVE_AGG)\n",
    "closed = bureau[bureau['CREDIT_ACTIVE_Closed'] == 1]\n",
    "agg_bureau = group_and_merge(closed,agg_bureau,'BUREAU_CLOSED_',BUREAU_CLOSED_AGG)\n",
    "del active, closed; gc.collect()\n",
    "for credit_type in ['Consumer credit', 'Credit card', 'Mortgage', 'Car loan', 'Microloan']:\n",
    "    type_df = bureau[bureau['CREDIT_TYPE_' + credit_type] == 1]\n",
    "    prefix = 'BUREAU_' + credit_type.split(' ')[0].upper() + '_'\n",
    "    agg_bureau = group_and_merge(type_df, agg_bureau, prefix, BUREAU_LOAN_TYPE_AGG)\n",
    "    del type_df; gc.collect()\n",
    "for time_frame in [6, 12]:\n",
    "    prefix = \"BUREAU_LAST{}M_\".format(time_frame)\n",
    "    time_frame_df = bureau[bureau['DAYS_CREDIT'] >= -30*time_frame]\n",
    "    agg_bureau = group_and_merge(time_frame_df, agg_bureau, prefix, BUREAU_TIME_AGG)\n",
    "    del time_frame_df; gc.collect()"
   ]
  },
  {
   "cell_type": "code",
   "execution_count": 34,
   "metadata": {
    "execution": {
     "iopub.execute_input": "2021-05-23T04:57:01.771056Z",
     "iopub.status.busy": "2021-05-23T04:57:01.770615Z",
     "iopub.status.idle": "2021-05-23T04:57:04.319726Z",
     "shell.execute_reply": "2021-05-23T04:57:04.318657Z",
     "shell.execute_reply.started": "2021-05-23T04:57:01.771009Z"
    },
    "id": "uu17NWC9fvEF"
   },
   "outputs": [],
   "source": [
    "sort_bureau = bureau.sort_values(by=['DAYS_CREDIT'])\n",
    "gr = sort_bureau.groupby('SK_ID_CURR')['AMT_CREDIT_MAX_OVERDUE'].last().reset_index()\n",
    "gr.rename({'AMT_CREDIT_MAX_OVERDUE': 'BUREAU_LAST_LOAN_MAX_OVERDUE'}, inplace=True)\n",
    "agg_bureau = agg_bureau.merge(gr, on='SK_ID_CURR', how='left')\n",
    "agg_bureau['BUREAU_DEBT_OVER_CREDIT'] = \\\n",
    "    agg_bureau['BUREAU_AMT_CREDIT_SUM_DEBT_SUM']/agg_bureau['BUREAU_AMT_CREDIT_SUM_SUM']\n",
    "agg_bureau['BUREAU_ACTIVE_DEBT_OVER_CREDIT'] = \\\n",
    "    agg_bureau['BUREAU_ACTIVE_AMT_CREDIT_SUM_DEBT_SUM']/agg_bureau['BUREAU_ACTIVE_AMT_CREDIT_SUM_SUM']"
   ]
  },
  {
   "cell_type": "code",
   "execution_count": 35,
   "metadata": {
    "colab": {
     "base_uri": "https://localhost:8080/"
    },
    "execution": {
     "iopub.execute_input": "2021-05-23T04:57:04.321423Z",
     "iopub.status.busy": "2021-05-23T04:57:04.321113Z",
     "iopub.status.idle": "2021-05-23T04:57:05.717182Z",
     "shell.execute_reply": "2021-05-23T04:57:05.71608Z",
     "shell.execute_reply.started": "2021-05-23T04:57:04.321389Z"
    },
    "id": "RJ1GVozgfvEG",
    "outputId": "01a6ce0c-410c-4c14-b8d3-58bb681a1e25"
   },
   "outputs": [
    {
     "data": {
      "text/plain": [
       "22"
      ]
     },
     "execution_count": 35,
     "metadata": {},
     "output_type": "execute_result"
    }
   ],
   "source": [
    "df = pd.merge(df, agg_bureau, on='SK_ID_CURR', how='left')\n",
    "del agg_bureau, bureau\n",
    "gc.collect()"
   ]
  },
  {
   "cell_type": "code",
   "execution_count": 36,
   "metadata": {
    "execution": {
     "iopub.execute_input": "2021-05-23T04:57:05.719364Z",
     "iopub.status.busy": "2021-05-23T04:57:05.718765Z",
     "iopub.status.idle": "2021-05-23T04:57:35.251645Z",
     "shell.execute_reply": "2021-05-23T04:57:35.250584Z",
     "shell.execute_reply.started": "2021-05-23T04:57:05.719318Z"
    },
    "id": "TK28yDE_fvEG"
   },
   "outputs": [],
   "source": [
    "prev = pd.read_csv(os.path.join(DATA_DIRECTORY, 'previous_application.csv'))\n",
    "pay = pd.read_csv(os.path.join(DATA_DIRECTORY, 'installments_payments.csv'))"
   ]
  },
  {
   "cell_type": "code",
   "execution_count": 37,
   "metadata": {
    "execution": {
     "iopub.execute_input": "2021-05-23T04:57:35.253333Z",
     "iopub.status.busy": "2021-05-23T04:57:35.253026Z",
     "iopub.status.idle": "2021-05-23T04:57:35.272778Z",
     "shell.execute_reply": "2021-05-23T04:57:35.271486Z",
     "shell.execute_reply.started": "2021-05-23T04:57:35.253302Z"
    },
    "id": "DimspUdZfvEG"
   },
   "outputs": [],
   "source": [
    "PREVIOUS_AGG = {\n",
    "    'SK_ID_PREV': ['nunique'],\n",
    "    'AMT_ANNUITY': ['min', 'max', 'mean'],\n",
    "    'AMT_DOWN_PAYMENT': ['max', 'mean'],\n",
    "    'HOUR_APPR_PROCESS_START': ['min', 'max', 'mean'],\n",
    "    'RATE_DOWN_PAYMENT': ['max', 'mean'],\n",
    "    'DAYS_DECISION': ['min', 'max', 'mean'],\n",
    "    'CNT_PAYMENT': ['max', 'mean'],\n",
    "    'DAYS_TERMINATION': ['max'],\n",
    "    # Engineered features\n",
    "    'CREDIT_TO_ANNUITY_RATIO': ['mean', 'max'],\n",
    "    'APPLICATION_CREDIT_DIFF': ['min', 'max', 'mean'],\n",
    "    'APPLICATION_CREDIT_RATIO': ['min', 'max', 'mean', 'var'],\n",
    "    'DOWN_PAYMENT_TO_CREDIT': ['mean'],\n",
    "}\n",
    "\n",
    "PREVIOUS_ACTIVE_AGG = {\n",
    "    'SK_ID_PREV': ['nunique'],\n",
    "    'SIMPLE_INTERESTS': ['mean'],\n",
    "    'AMT_ANNUITY': ['max', 'sum'],\n",
    "    'AMT_APPLICATION': ['max', 'mean'],\n",
    "    'AMT_CREDIT': ['sum'],\n",
    "    'AMT_DOWN_PAYMENT': ['max', 'mean'],\n",
    "    'DAYS_DECISION': ['min', 'mean'],\n",
    "    'CNT_PAYMENT': ['mean', 'sum'],\n",
    "    'DAYS_LAST_DUE_1ST_VERSION': ['min', 'max', 'mean'],\n",
    "    # Engineered features\n",
    "    'AMT_PAYMENT': ['sum'],\n",
    "    'INSTALMENT_PAYMENT_DIFF': ['mean', 'max'],\n",
    "    'REMAINING_DEBT': ['max', 'mean', 'sum'],\n",
    "    'REPAYMENT_RATIO': ['mean'],\n",
    "}\n",
    "PREVIOUS_LATE_PAYMENTS_AGG = {\n",
    "    'DAYS_DECISION': ['min', 'max', 'mean'],\n",
    "    'DAYS_LAST_DUE_1ST_VERSION': ['min', 'max', 'mean'],\n",
    "    # Engineered features\n",
    "    'APPLICATION_CREDIT_DIFF': ['min'],\n",
    "    'NAME_CONTRACT_TYPE_Consumer loans': ['mean'],\n",
    "    'NAME_CONTRACT_TYPE_Cash loans': ['mean'],\n",
    "    'NAME_CONTRACT_TYPE_Revolving loans': ['mean'],\n",
    "}\n",
    "\n",
    "PREVIOUS_LOAN_TYPE_AGG = {\n",
    "    'AMT_CREDIT': ['sum'],\n",
    "    'AMT_ANNUITY': ['mean', 'max'],\n",
    "    'SIMPLE_INTERESTS': ['min', 'mean', 'max', 'var'],\n",
    "    'APPLICATION_CREDIT_DIFF': ['min', 'var'],\n",
    "    'APPLICATION_CREDIT_RATIO': ['min', 'max', 'mean'],\n",
    "    'DAYS_DECISION': ['max'],\n",
    "    'DAYS_LAST_DUE_1ST_VERSION': ['max', 'mean'],\n",
    "    'CNT_PAYMENT': ['mean'],\n",
    "}\n",
    "\n",
    "PREVIOUS_TIME_AGG = {\n",
    "    'AMT_CREDIT': ['sum'],\n",
    "    'AMT_ANNUITY': ['mean', 'max'],\n",
    "    'SIMPLE_INTERESTS': ['mean', 'max'],\n",
    "    'DAYS_DECISION': ['min', 'mean'],\n",
    "    'DAYS_LAST_DUE_1ST_VERSION': ['min', 'max', 'mean'],\n",
    "    # Engineered features\n",
    "    'APPLICATION_CREDIT_DIFF': ['min'],\n",
    "    'APPLICATION_CREDIT_RATIO': ['min', 'max', 'mean'],\n",
    "    'NAME_CONTRACT_TYPE_Consumer loans': ['mean'],\n",
    "    'NAME_CONTRACT_TYPE_Cash loans': ['mean'],\n",
    "    'NAME_CONTRACT_TYPE_Revolving loans': ['mean'],\n",
    "}\n",
    "\n",
    "PREVIOUS_APPROVED_AGG = {\n",
    "    'SK_ID_PREV': ['nunique'],\n",
    "    'AMT_ANNUITY': ['min', 'max', 'mean'],\n",
    "    'AMT_CREDIT': ['min', 'max', 'mean'],\n",
    "    'AMT_DOWN_PAYMENT': ['max'],\n",
    "    'AMT_GOODS_PRICE': ['max'],\n",
    "    'HOUR_APPR_PROCESS_START': ['min', 'max'],\n",
    "    'DAYS_DECISION': ['min', 'mean'],\n",
    "    'CNT_PAYMENT': ['max', 'mean'],\n",
    "    'DAYS_TERMINATION': ['mean'],\n",
    "    # Engineered features\n",
    "    'CREDIT_TO_ANNUITY_RATIO': ['mean', 'max'],\n",
    "    'APPLICATION_CREDIT_DIFF': ['max'],\n",
    "    'APPLICATION_CREDIT_RATIO': ['min', 'max', 'mean'],\n",
    "    # The following features are only for approved applications\n",
    "    'DAYS_FIRST_DRAWING': ['max', 'mean'],\n",
    "    'DAYS_FIRST_DUE': ['min', 'mean'],\n",
    "    'DAYS_LAST_DUE_1ST_VERSION': ['min', 'max', 'mean'],\n",
    "    'DAYS_LAST_DUE': ['max', 'mean'],\n",
    "    'DAYS_LAST_DUE_DIFF': ['min', 'max', 'mean'],\n",
    "    'SIMPLE_INTERESTS': ['min', 'max', 'mean'],\n",
    "}\n",
    "\n",
    "PREVIOUS_REFUSED_AGG = {\n",
    "    'AMT_APPLICATION': ['max', 'mean'],\n",
    "    'AMT_CREDIT': ['min', 'max'],\n",
    "    'DAYS_DECISION': ['min', 'max', 'mean'],\n",
    "    'CNT_PAYMENT': ['max', 'mean'],\n",
    "    # Engineered features\n",
    "    'APPLICATION_CREDIT_DIFF': ['min', 'max', 'mean', 'var'],\n",
    "    'APPLICATION_CREDIT_RATIO': ['min', 'mean'],\n",
    "    'NAME_CONTRACT_TYPE_Consumer loans': ['mean'],\n",
    "    'NAME_CONTRACT_TYPE_Cash loans': ['mean'],\n",
    "    'NAME_CONTRACT_TYPE_Revolving loans': ['mean'],\n",
    "}\n"
   ]
  },
  {
   "cell_type": "code",
   "execution_count": 38,
   "metadata": {
    "execution": {
     "iopub.execute_input": "2021-05-23T04:57:35.274619Z",
     "iopub.status.busy": "2021-05-23T04:57:35.274277Z",
     "iopub.status.idle": "2021-05-23T04:57:37.495634Z",
     "shell.execute_reply": "2021-05-23T04:57:37.494458Z",
     "shell.execute_reply.started": "2021-05-23T04:57:35.274577Z"
    },
    "id": "aMtS_j-0fvEG"
   },
   "outputs": [],
   "source": [
    "ohe_columns = [\n",
    "    'NAME_CONTRACT_STATUS', 'NAME_CONTRACT_TYPE', 'CHANNEL_TYPE',\n",
    "    'NAME_TYPE_SUITE', 'NAME_YIELD_GROUP', 'PRODUCT_COMBINATION',\n",
    "    'NAME_PRODUCT_TYPE', 'NAME_CLIENT_TYPE']\n",
    "prev, categorical_cols = one_hot_encoder(prev, ohe_columns, nan_as_category= False)"
   ]
  },
  {
   "cell_type": "code",
   "execution_count": 39,
   "metadata": {
    "execution": {
     "iopub.execute_input": "2021-05-23T04:57:37.497321Z",
     "iopub.status.busy": "2021-05-23T04:57:37.497029Z",
     "iopub.status.idle": "2021-05-23T04:57:37.55411Z",
     "shell.execute_reply": "2021-05-23T04:57:37.553076Z",
     "shell.execute_reply.started": "2021-05-23T04:57:37.497293Z"
    },
    "id": "pRCjHKr_fvEH"
   },
   "outputs": [],
   "source": [
    "prev['APPLICATION_CREDIT_DIFF'] = prev['AMT_APPLICATION'] - prev['AMT_CREDIT']\n",
    "prev['APPLICATION_CREDIT_RATIO'] = prev['AMT_APPLICATION'] / prev['AMT_CREDIT']\n",
    "prev['CREDIT_TO_ANNUITY_RATIO'] = prev['AMT_CREDIT']/prev['AMT_ANNUITY']\n",
    "prev['DOWN_PAYMENT_TO_CREDIT'] = prev['AMT_DOWN_PAYMENT'] / prev['AMT_CREDIT']\n",
    "total_payment = prev['AMT_ANNUITY'] * prev['CNT_PAYMENT']\n",
    "prev['SIMPLE_INTERESTS'] = (total_payment/prev['AMT_CREDIT'] - 1)/prev['CNT_PAYMENT']"
   ]
  },
  {
   "cell_type": "code",
   "execution_count": 40,
   "metadata": {
    "colab": {
     "base_uri": "https://localhost:8080/"
    },
    "execution": {
     "iopub.execute_input": "2021-05-23T04:57:37.555803Z",
     "iopub.status.busy": "2021-05-23T04:57:37.555494Z",
     "iopub.status.idle": "2021-05-23T04:57:40.478581Z",
     "shell.execute_reply": "2021-05-23T04:57:40.477341Z",
     "shell.execute_reply.started": "2021-05-23T04:57:37.555774Z"
    },
    "id": "kKtpSpdvfvEH",
    "outputId": "00920193-72a9-4b1c-dbe8-6a06a6a118c9"
   },
   "outputs": [
    {
     "data": {
      "text/plain": [
       "0"
      ]
     },
     "execution_count": 40,
     "metadata": {},
     "output_type": "execute_result"
    }
   ],
   "source": [
    "approved = prev[prev['NAME_CONTRACT_STATUS_Approved'] == 1]\n",
    "active_df = approved[approved['DAYS_LAST_DUE'] == 365243]\n",
    "active_pay = pay[pay['SK_ID_PREV'].isin(active_df['SK_ID_PREV'])]\n",
    "active_pay_agg = active_pay.groupby('SK_ID_PREV')[['AMT_INSTALMENT', 'AMT_PAYMENT']].sum()\n",
    "active_pay_agg.reset_index(inplace= True)\n",
    "active_pay_agg['INSTALMENT_PAYMENT_DIFF'] = active_pay_agg['AMT_INSTALMENT'] - active_pay_agg['AMT_PAYMENT']\n",
    "active_df = active_df.merge(active_pay_agg, on= 'SK_ID_PREV', how= 'left')\n",
    "active_df['REMAINING_DEBT'] = active_df['AMT_CREDIT'] - active_df['AMT_PAYMENT']\n",
    "active_df['REPAYMENT_RATIO'] = active_df['AMT_PAYMENT'] / active_df['AMT_CREDIT']\n",
    "active_agg_df = group(active_df, 'PREV_ACTIVE_', PREVIOUS_ACTIVE_AGG)\n",
    "active_agg_df['TOTAL_REPAYMENT_RATIO'] = active_agg_df['PREV_ACTIVE_AMT_PAYMENT_SUM']/\\\n",
    "                                            active_agg_df['PREV_ACTIVE_AMT_CREDIT_SUM']\n",
    "del active_pay, active_pay_agg, active_df; gc.collect()"
   ]
  },
  {
   "cell_type": "code",
   "execution_count": 41,
   "metadata": {
    "execution": {
     "iopub.execute_input": "2021-05-23T04:57:40.48052Z",
     "iopub.status.busy": "2021-05-23T04:57:40.480118Z",
     "iopub.status.idle": "2021-05-23T04:57:40.517646Z",
     "shell.execute_reply": "2021-05-23T04:57:40.516674Z",
     "shell.execute_reply.started": "2021-05-23T04:57:40.480486Z"
    },
    "id": "cy_90CNPfvEH"
   },
   "outputs": [],
   "source": [
    "prev['DAYS_FIRST_DRAWING'].replace(365243, np.nan, inplace= True)\n",
    "prev['DAYS_FIRST_DUE'].replace(365243, np.nan, inplace= True)\n",
    "prev['DAYS_LAST_DUE_1ST_VERSION'].replace(365243, np.nan, inplace= True)\n",
    "prev['DAYS_LAST_DUE'].replace(365243, np.nan, inplace= True)\n",
    "prev['DAYS_TERMINATION'].replace(365243, np.nan, inplace= True)"
   ]
  },
  {
   "cell_type": "code",
   "execution_count": 42,
   "metadata": {
    "colab": {
     "base_uri": "https://localhost:8080/"
    },
    "execution": {
     "iopub.execute_input": "2021-05-23T04:57:40.519506Z",
     "iopub.status.busy": "2021-05-23T04:57:40.519121Z",
     "iopub.status.idle": "2021-05-23T04:57:40.540027Z",
     "shell.execute_reply": "2021-05-23T04:57:40.538631Z",
     "shell.execute_reply.started": "2021-05-23T04:57:40.519467Z"
    },
    "id": "oKkzGTKDfvEH",
    "outputId": "71a1783b-0f44-4c95-9179-09060d74079c"
   },
   "outputs": [
    {
     "name": "stderr",
     "output_type": "stream",
     "text": [
      "/opt/conda/lib/python3.7/site-packages/ipykernel_launcher.py:2: SettingWithCopyWarning: \n",
      "A value is trying to be set on a copy of a slice from a DataFrame.\n",
      "Try using .loc[row_indexer,col_indexer] = value instead\n",
      "\n",
      "See the caveats in the documentation: https://pandas.pydata.org/pandas-docs/stable/user_guide/indexing.html#returning-a-view-versus-a-copy\n",
      "  \n"
     ]
    }
   ],
   "source": [
    "prev['DAYS_LAST_DUE_DIFF'] = prev['DAYS_LAST_DUE_1ST_VERSION'] - prev['DAYS_LAST_DUE']\n",
    "approved['DAYS_LAST_DUE_DIFF'] = approved['DAYS_LAST_DUE_1ST_VERSION'] - approved['DAYS_LAST_DUE']"
   ]
  },
  {
   "cell_type": "code",
   "execution_count": 43,
   "metadata": {
    "execution": {
     "iopub.execute_input": "2021-05-23T04:57:40.541757Z",
     "iopub.status.busy": "2021-05-23T04:57:40.541424Z",
     "iopub.status.idle": "2021-05-23T04:57:40.546662Z",
     "shell.execute_reply": "2021-05-23T04:57:40.545559Z",
     "shell.execute_reply.started": "2021-05-23T04:57:40.54172Z"
    },
    "id": "S7__kCNdfvEH"
   },
   "outputs": [],
   "source": [
    "categorical_agg = {key: ['mean'] for key in categorical_cols}"
   ]
  },
  {
   "cell_type": "code",
   "execution_count": 44,
   "metadata": {
    "colab": {
     "base_uri": "https://localhost:8080/"
    },
    "execution": {
     "iopub.execute_input": "2021-05-23T04:57:40.548403Z",
     "iopub.status.busy": "2021-05-23T04:57:40.548083Z",
     "iopub.status.idle": "2021-05-23T04:57:46.162132Z",
     "shell.execute_reply": "2021-05-23T04:57:46.161096Z",
     "shell.execute_reply.started": "2021-05-23T04:57:40.548371Z"
    },
    "id": "gMbsbdBxfvEH",
    "outputId": "bf292c17-f8c2-4a69-bec4-11d8b5897659"
   },
   "outputs": [
    {
     "data": {
      "text/plain": [
       "0"
      ]
     },
     "execution_count": 44,
     "metadata": {},
     "output_type": "execute_result"
    }
   ],
   "source": [
    "agg_prev = group(prev, 'PREV_', {**PREVIOUS_AGG, **categorical_agg})\n",
    "agg_prev = agg_prev.merge(active_agg_df, how='left', on='SK_ID_CURR')\n",
    "del active_agg_df; gc.collect()"
   ]
  },
  {
   "cell_type": "code",
   "execution_count": 45,
   "metadata": {
    "colab": {
     "base_uri": "https://localhost:8080/"
    },
    "execution": {
     "iopub.execute_input": "2021-05-23T04:57:46.163889Z",
     "iopub.status.busy": "2021-05-23T04:57:46.163601Z",
     "iopub.status.idle": "2021-05-23T04:57:49.723309Z",
     "shell.execute_reply": "2021-05-23T04:57:49.722105Z",
     "shell.execute_reply.started": "2021-05-23T04:57:46.163861Z"
    },
    "id": "p1RNgm09fvEI",
    "outputId": "bd2d79bb-73e0-49d5-9faa-43abb227e2f4"
   },
   "outputs": [
    {
     "data": {
      "text/plain": [
       "0"
      ]
     },
     "execution_count": 45,
     "metadata": {},
     "output_type": "execute_result"
    }
   ],
   "source": [
    "agg_prev = group_and_merge(approved, agg_prev, 'APPROVED_', PREVIOUS_APPROVED_AGG)\n",
    "refused = prev[prev['NAME_CONTRACT_STATUS_Refused'] == 1]\n",
    "agg_prev = group_and_merge(refused, agg_prev, 'REFUSED_', PREVIOUS_REFUSED_AGG)\n",
    "del approved, refused; gc.collect()"
   ]
  },
  {
   "cell_type": "code",
   "execution_count": 46,
   "metadata": {
    "execution": {
     "iopub.execute_input": "2021-05-23T04:57:49.724918Z",
     "iopub.status.busy": "2021-05-23T04:57:49.724638Z",
     "iopub.status.idle": "2021-05-23T04:57:52.782621Z",
     "shell.execute_reply": "2021-05-23T04:57:52.781464Z",
     "shell.execute_reply.started": "2021-05-23T04:57:49.72489Z"
    },
    "id": "O7qD6BA0fvEI"
   },
   "outputs": [],
   "source": [
    "for loan_type in ['Consumer loans', 'Cash loans']:\n",
    "    type_df = prev[prev['NAME_CONTRACT_TYPE_{}'.format(loan_type)] == 1]\n",
    "    prefix = 'PREV_' + loan_type.split(\" \")[0] + '_'\n",
    "    agg_prev = group_and_merge(type_df, agg_prev, prefix, PREVIOUS_LOAN_TYPE_AGG)\n",
    "    del type_df; gc.collect()"
   ]
  },
  {
   "cell_type": "code",
   "execution_count": 47,
   "metadata": {
    "execution": {
     "iopub.execute_input": "2021-05-23T04:57:52.784298Z",
     "iopub.status.busy": "2021-05-23T04:57:52.783995Z",
     "iopub.status.idle": "2021-05-23T04:58:02.920491Z",
     "shell.execute_reply": "2021-05-23T04:58:02.919368Z",
     "shell.execute_reply.started": "2021-05-23T04:57:52.784267Z"
    },
    "id": "CY0nCa6YfvEI"
   },
   "outputs": [],
   "source": [
    "pay['LATE_PAYMENT'] = pay['DAYS_ENTRY_PAYMENT'] - pay['DAYS_INSTALMENT']\n",
    "pay['LATE_PAYMENT'] = pay['LATE_PAYMENT'].apply(lambda x: 1 if x > 0 else 0)\n",
    "dpd_id = pay[pay['LATE_PAYMENT'] > 0]['SK_ID_PREV'].unique()"
   ]
  },
  {
   "cell_type": "code",
   "execution_count": 48,
   "metadata": {
    "colab": {
     "base_uri": "https://localhost:8080/"
    },
    "execution": {
     "iopub.execute_input": "2021-05-23T04:58:02.922454Z",
     "iopub.status.busy": "2021-05-23T04:58:02.922034Z",
     "iopub.status.idle": "2021-05-23T04:58:03.932884Z",
     "shell.execute_reply": "2021-05-23T04:58:03.93167Z",
     "shell.execute_reply.started": "2021-05-23T04:58:02.922408Z"
    },
    "id": "fJEKqzojfvEI",
    "outputId": "a2b32f2a-44bf-4a04-e196-ca3e97edce1e"
   },
   "outputs": [
    {
     "data": {
      "text/plain": [
       "0"
      ]
     },
     "execution_count": 48,
     "metadata": {},
     "output_type": "execute_result"
    }
   ],
   "source": [
    "agg_dpd = group_and_merge(prev[prev['SK_ID_PREV'].isin(dpd_id)], agg_prev,\n",
    "                                    'PREV_LATE_', PREVIOUS_LATE_PAYMENTS_AGG)\n",
    "del agg_dpd, dpd_id; gc.collect()"
   ]
  },
  {
   "cell_type": "code",
   "execution_count": 49,
   "metadata": {
    "colab": {
     "base_uri": "https://localhost:8080/"
    },
    "execution": {
     "iopub.execute_input": "2021-05-23T04:58:03.935063Z",
     "iopub.status.busy": "2021-05-23T04:58:03.934608Z",
     "iopub.status.idle": "2021-05-23T04:58:07.434998Z",
     "shell.execute_reply": "2021-05-23T04:58:07.434Z",
     "shell.execute_reply.started": "2021-05-23T04:58:03.935016Z"
    },
    "id": "KtR6hzvqfvEI",
    "outputId": "9642558c-8cb3-4f03-b787-1957145f5662"
   },
   "outputs": [
    {
     "data": {
      "text/plain": [
       "0"
      ]
     },
     "execution_count": 49,
     "metadata": {},
     "output_type": "execute_result"
    }
   ],
   "source": [
    "for time_frame in [12, 24]:\n",
    "    time_frame_df = prev[prev['DAYS_DECISION'] >= -30*time_frame]\n",
    "    prefix = 'PREV_LAST{}M_'.format(time_frame)\n",
    "    agg_prev = group_and_merge(time_frame_df, agg_prev, prefix, PREVIOUS_TIME_AGG)\n",
    "    del time_frame_df; gc.collect()\n",
    "del prev; gc.collect()"
   ]
  },
  {
   "cell_type": "code",
   "execution_count": 50,
   "metadata": {
    "colab": {
     "base_uri": "https://localhost:8080/"
    },
    "execution": {
     "iopub.execute_input": "2021-05-23T04:58:07.436359Z",
     "iopub.status.busy": "2021-05-23T04:58:07.436073Z",
     "iopub.status.idle": "2021-05-23T04:58:10.965262Z",
     "shell.execute_reply": "2021-05-23T04:58:10.964114Z",
     "shell.execute_reply.started": "2021-05-23T04:58:07.43633Z"
    },
    "id": "xoQyR7H0fvEI",
    "outputId": "20cbcc8f-6c6c-4605-a2a0-c8906cd9b778"
   },
   "outputs": [
    {
     "data": {
      "text/plain": [
       "22"
      ]
     },
     "execution_count": 50,
     "metadata": {},
     "output_type": "execute_result"
    }
   ],
   "source": [
    "df = pd.merge(df, agg_prev, on='SK_ID_CURR', how='left')\n",
    "del agg_prev; gc.collect()"
   ]
  },
  {
   "cell_type": "code",
   "execution_count": 51,
   "metadata": {
    "execution": {
     "iopub.execute_input": "2021-05-23T04:58:10.96702Z",
     "iopub.status.busy": "2021-05-23T04:58:10.966715Z",
     "iopub.status.idle": "2021-05-23T04:58:23.326202Z",
     "shell.execute_reply": "2021-05-23T04:58:23.325133Z",
     "shell.execute_reply.started": "2021-05-23T04:58:10.966989Z"
    },
    "id": "DRPV_MkNfvEJ"
   },
   "outputs": [],
   "source": [
    "pos = pd.read_csv(os.path.join(DATA_DIRECTORY, 'POS_CASH_balance.csv'))\n",
    "pos, categorical_cols = one_hot_encoder(pos, nan_as_category= False)"
   ]
  },
  {
   "cell_type": "code",
   "execution_count": 52,
   "metadata": {
    "execution": {
     "iopub.execute_input": "2021-05-23T04:58:23.328203Z",
     "iopub.status.busy": "2021-05-23T04:58:23.327802Z",
     "iopub.status.idle": "2021-05-23T04:58:29.333373Z",
     "shell.execute_reply": "2021-05-23T04:58:29.332356Z",
     "shell.execute_reply.started": "2021-05-23T04:58:23.32816Z"
    },
    "id": "sUcHMMAPfvEJ"
   },
   "outputs": [],
   "source": [
    "pos['LATE_PAYMENT'] = pos['SK_DPD'].apply(lambda x: 1 if x > 0 else 0)"
   ]
  },
  {
   "cell_type": "code",
   "execution_count": 53,
   "metadata": {
    "execution": {
     "iopub.execute_input": "2021-05-23T04:58:29.335423Z",
     "iopub.status.busy": "2021-05-23T04:58:29.334991Z",
     "iopub.status.idle": "2021-05-23T04:58:40.688295Z",
     "shell.execute_reply": "2021-05-23T04:58:40.68724Z",
     "shell.execute_reply.started": "2021-05-23T04:58:29.33538Z"
    },
    "id": "oaZhWd2pfvEJ"
   },
   "outputs": [],
   "source": [
    "POS_CASH_AGG = {\n",
    "    'SK_ID_PREV': ['nunique'],\n",
    "    'MONTHS_BALANCE': ['min', 'max', 'size'],\n",
    "    'SK_DPD': ['max', 'mean', 'sum', 'var'],\n",
    "    'SK_DPD_DEF': ['max', 'mean', 'sum'],\n",
    "    'LATE_PAYMENT': ['mean']\n",
    "}\n",
    "\n",
    "categorical_agg = {key: ['mean'] for key in categorical_cols}\n",
    "pos_agg = group(pos, 'POS_', {**POS_CASH_AGG, **categorical_agg})"
   ]
  },
  {
   "cell_type": "code",
   "execution_count": 54,
   "metadata": {
    "execution": {
     "iopub.execute_input": "2021-05-23T04:58:40.689878Z",
     "iopub.status.busy": "2021-05-23T04:58:40.689593Z",
     "iopub.status.idle": "2021-05-23T04:59:06.906368Z",
     "shell.execute_reply": "2021-05-23T04:59:06.904958Z",
     "shell.execute_reply.started": "2021-05-23T04:58:40.689849Z"
    },
    "id": "2W8LswKEfvEJ"
   },
   "outputs": [],
   "source": [
    "sort_pos = pos.sort_values(by=['SK_ID_PREV', 'MONTHS_BALANCE'])\n",
    "gp = sort_pos.groupby('SK_ID_PREV')\n",
    "temp = pd.DataFrame()\n",
    "temp['SK_ID_CURR'] = gp['SK_ID_CURR'].first()\n",
    "temp['MONTHS_BALANCE_MAX'] = gp['MONTHS_BALANCE'].max()"
   ]
  },
  {
   "cell_type": "code",
   "execution_count": 55,
   "metadata": {
    "execution": {
     "iopub.execute_input": "2021-05-23T04:59:06.908963Z",
     "iopub.status.busy": "2021-05-23T04:59:06.908483Z",
     "iopub.status.idle": "2021-05-23T04:59:21.163061Z",
     "shell.execute_reply": "2021-05-23T04:59:21.162175Z",
     "shell.execute_reply.started": "2021-05-23T04:59:06.908917Z"
    },
    "id": "fGb58fVgfvEJ"
   },
   "outputs": [],
   "source": [
    "temp['POS_LOAN_COMPLETED_MEAN'] = gp['NAME_CONTRACT_STATUS_Completed'].mean()\n",
    "temp['POS_COMPLETED_BEFORE_MEAN'] = gp['CNT_INSTALMENT'].first() - gp['CNT_INSTALMENT'].last()\n",
    "temp['POS_COMPLETED_BEFORE_MEAN'] = temp.apply(lambda x: 1 if x['POS_COMPLETED_BEFORE_MEAN'] > 0\n",
    "                                            and x['POS_LOAN_COMPLETED_MEAN'] > 0 else 0, axis=1)"
   ]
  },
  {
   "cell_type": "code",
   "execution_count": 56,
   "metadata": {
    "execution": {
     "iopub.execute_input": "2021-05-23T04:59:21.165195Z",
     "iopub.status.busy": "2021-05-23T04:59:21.164531Z",
     "iopub.status.idle": "2021-05-23T04:59:21.33061Z",
     "shell.execute_reply": "2021-05-23T04:59:21.329777Z",
     "shell.execute_reply.started": "2021-05-23T04:59:21.165143Z"
    },
    "id": "OO5yJzmDfvEJ"
   },
   "outputs": [],
   "source": [
    "temp['POS_REMAINING_INSTALMENTS'] = gp['CNT_INSTALMENT_FUTURE'].last()\n",
    "temp['POS_REMAINING_INSTALMENTS_RATIO'] = gp['CNT_INSTALMENT_FUTURE'].last()/gp['CNT_INSTALMENT'].last()"
   ]
  },
  {
   "cell_type": "code",
   "execution_count": 57,
   "metadata": {
    "colab": {
     "base_uri": "https://localhost:8080/"
    },
    "execution": {
     "iopub.execute_input": "2021-05-23T04:59:21.332214Z",
     "iopub.status.busy": "2021-05-23T04:59:21.331806Z",
     "iopub.status.idle": "2021-05-23T04:59:22.087047Z",
     "shell.execute_reply": "2021-05-23T04:59:22.085664Z",
     "shell.execute_reply.started": "2021-05-23T04:59:21.332183Z"
    },
    "id": "MEv7JqcJfvEK",
    "outputId": "841b5604-7aa1-494c-9e9a-ede7651b10e3"
   },
   "outputs": [
    {
     "data": {
      "text/plain": [
       "44"
      ]
     },
     "execution_count": 57,
     "metadata": {},
     "output_type": "execute_result"
    }
   ],
   "source": [
    "temp_gp = temp.groupby('SK_ID_CURR').sum().reset_index()\n",
    "temp_gp.drop(['MONTHS_BALANCE_MAX'], axis=1, inplace= True)\n",
    "pos_agg = pd.merge(pos_agg, temp_gp, on= 'SK_ID_CURR', how= 'left')\n",
    "del temp, gp, temp_gp, sort_pos; gc.collect()"
   ]
  },
  {
   "cell_type": "code",
   "execution_count": 58,
   "metadata": {
    "execution": {
     "iopub.execute_input": "2021-05-23T04:59:22.089393Z",
     "iopub.status.busy": "2021-05-23T04:59:22.088909Z",
     "iopub.status.idle": "2021-05-23T04:59:29.220061Z",
     "shell.execute_reply": "2021-05-23T04:59:29.218932Z",
     "shell.execute_reply.started": "2021-05-23T04:59:22.089341Z"
    },
    "id": "cvF8ll7zfvEK"
   },
   "outputs": [],
   "source": [
    "pos = do_sum(pos, ['SK_ID_PREV'], 'LATE_PAYMENT', 'LATE_PAYMENT_SUM')"
   ]
  },
  {
   "cell_type": "code",
   "execution_count": 59,
   "metadata": {
    "execution": {
     "iopub.execute_input": "2021-05-23T04:59:29.221862Z",
     "iopub.status.busy": "2021-05-23T04:59:29.221523Z",
     "iopub.status.idle": "2021-05-23T05:00:32.173003Z",
     "shell.execute_reply": "2021-05-23T05:00:32.171735Z",
     "shell.execute_reply.started": "2021-05-23T04:59:29.221828Z"
    },
    "id": "Oq4_EqNnfvEK"
   },
   "outputs": [],
   "source": [
    "last_month_df = pos.groupby('SK_ID_PREV')['MONTHS_BALANCE'].idxmax()"
   ]
  },
  {
   "cell_type": "code",
   "execution_count": 60,
   "metadata": {
    "execution": {
     "iopub.execute_input": "2021-05-23T05:00:32.175053Z",
     "iopub.status.busy": "2021-05-23T05:00:32.174706Z",
     "iopub.status.idle": "2021-05-23T05:00:51.310456Z",
     "shell.execute_reply": "2021-05-23T05:00:51.309268Z",
     "shell.execute_reply.started": "2021-05-23T05:00:32.175018Z"
    },
    "id": "X7wY3nANfvEK"
   },
   "outputs": [],
   "source": [
    "sort_pos = pos.sort_values(by=['SK_ID_PREV', 'MONTHS_BALANCE'])\n",
    "gp = sort_pos.iloc[last_month_df].groupby('SK_ID_CURR').tail(3)\n",
    "gp_mean = gp.groupby('SK_ID_CURR').mean().reset_index()\n",
    "pos_agg = pd.merge(pos_agg, gp_mean[['SK_ID_CURR','LATE_PAYMENT_SUM']], on='SK_ID_CURR', how='left')"
   ]
  },
  {
   "cell_type": "code",
   "execution_count": 61,
   "metadata": {
    "execution": {
     "iopub.execute_input": "2021-05-23T05:00:51.312482Z",
     "iopub.status.busy": "2021-05-23T05:00:51.312148Z",
     "iopub.status.idle": "2021-05-23T05:00:51.399456Z",
     "shell.execute_reply": "2021-05-23T05:00:51.398274Z",
     "shell.execute_reply.started": "2021-05-23T05:00:51.312447Z"
    },
    "id": "_Pu9XXz7fvEK"
   },
   "outputs": [],
   "source": [
    "drop_features = [\n",
    "    'POS_NAME_CONTRACT_STATUS_Canceled_MEAN', 'POS_NAME_CONTRACT_STATUS_Amortized debt_MEAN',\n",
    "    'POS_NAME_CONTRACT_STATUS_XNA_MEAN']\n",
    "pos_agg.drop(drop_features, axis=1, inplace=True)"
   ]
  },
  {
   "cell_type": "code",
   "execution_count": 62,
   "metadata": {
    "execution": {
     "iopub.execute_input": "2021-05-23T05:00:51.401189Z",
     "iopub.status.busy": "2021-05-23T05:00:51.400873Z",
     "iopub.status.idle": "2021-05-23T05:00:53.094808Z",
     "shell.execute_reply": "2021-05-23T05:00:53.093748Z",
     "shell.execute_reply.started": "2021-05-23T05:00:51.401155Z"
    },
    "id": "wEBJeLzIfvEK"
   },
   "outputs": [],
   "source": [
    "df = pd.merge(df, pos_agg, on='SK_ID_CURR', how='left')"
   ]
  },
  {
   "cell_type": "code",
   "execution_count": 63,
   "metadata": {
    "execution": {
     "iopub.execute_input": "2021-05-23T05:00:53.096662Z",
     "iopub.status.busy": "2021-05-23T05:00:53.096327Z",
     "iopub.status.idle": "2021-05-23T05:01:24.368243Z",
     "shell.execute_reply": "2021-05-23T05:01:24.367029Z",
     "shell.execute_reply.started": "2021-05-23T05:00:53.096628Z"
    },
    "id": "5Uquq6bIfvEL"
   },
   "outputs": [],
   "source": [
    "pay = do_sum(pay, ['SK_ID_PREV', 'NUM_INSTALMENT_NUMBER'], 'AMT_PAYMENT', 'AMT_PAYMENT_GROUPED')\n",
    "pay['PAYMENT_DIFFERENCE'] = pay['AMT_INSTALMENT'] - pay['AMT_PAYMENT_GROUPED']\n",
    "pay['PAYMENT_RATIO'] = pay['AMT_INSTALMENT'] / pay['AMT_PAYMENT_GROUPED']\n",
    "pay['PAID_OVER_AMOUNT'] = pay['AMT_PAYMENT'] - pay['AMT_INSTALMENT']\n",
    "pay['PAID_OVER'] = (pay['PAID_OVER_AMOUNT'] > 0).astype(int)"
   ]
  },
  {
   "cell_type": "code",
   "execution_count": 64,
   "metadata": {
    "execution": {
     "iopub.execute_input": "2021-05-23T05:01:24.370203Z",
     "iopub.status.busy": "2021-05-23T05:01:24.369897Z",
     "iopub.status.idle": "2021-05-23T05:01:40.649616Z",
     "shell.execute_reply": "2021-05-23T05:01:40.648459Z",
     "shell.execute_reply.started": "2021-05-23T05:01:24.370172Z"
    },
    "id": "uu06JXUBfvEL"
   },
   "outputs": [],
   "source": [
    "pay['DPD'] = pay['DAYS_ENTRY_PAYMENT'] - pay['DAYS_INSTALMENT']\n",
    "pay['DPD'] = pay['DPD'].apply(lambda x: 0 if x <= 0 else x)\n",
    "pay['DBD'] = pay['DAYS_INSTALMENT'] - pay['DAYS_ENTRY_PAYMENT']\n",
    "pay['DBD'] = pay['DBD'].apply(lambda x: 0 if x <= 0 else x)"
   ]
  },
  {
   "cell_type": "code",
   "execution_count": 65,
   "metadata": {
    "execution": {
     "iopub.execute_input": "2021-05-23T05:01:40.651423Z",
     "iopub.status.busy": "2021-05-23T05:01:40.651141Z",
     "iopub.status.idle": "2021-05-23T05:01:49.86158Z",
     "shell.execute_reply": "2021-05-23T05:01:49.860252Z",
     "shell.execute_reply.started": "2021-05-23T05:01:40.651394Z"
    },
    "id": "Fnmt7K3ofvEL"
   },
   "outputs": [],
   "source": [
    "pay['LATE_PAYMENT'] = pay['DBD'].apply(lambda x: 1 if x > 0 else 0)"
   ]
  },
  {
   "cell_type": "code",
   "execution_count": 66,
   "metadata": {
    "execution": {
     "iopub.execute_input": "2021-05-23T05:01:49.863411Z",
     "iopub.status.busy": "2021-05-23T05:01:49.863112Z",
     "iopub.status.idle": "2021-05-23T05:05:41.49738Z",
     "shell.execute_reply": "2021-05-23T05:05:41.496162Z",
     "shell.execute_reply.started": "2021-05-23T05:01:49.86338Z"
    },
    "id": "2ts1QqkkfvEL"
   },
   "outputs": [],
   "source": [
    "pay['INSTALMENT_PAYMENT_RATIO'] = pay['AMT_PAYMENT'] / pay['AMT_INSTALMENT']\n",
    "pay['LATE_PAYMENT_RATIO'] = pay.apply(lambda x: x['INSTALMENT_PAYMENT_RATIO'] if x['LATE_PAYMENT'] == 1 else 0, axis=1)"
   ]
  },
  {
   "cell_type": "code",
   "execution_count": 67,
   "metadata": {
    "execution": {
     "iopub.execute_input": "2021-05-23T05:05:41.501992Z",
     "iopub.status.busy": "2021-05-23T05:05:41.501654Z",
     "iopub.status.idle": "2021-05-23T05:05:50.731471Z",
     "shell.execute_reply": "2021-05-23T05:05:50.730401Z",
     "shell.execute_reply.started": "2021-05-23T05:05:41.501956Z"
    },
    "id": "cX7qT6dPfvEL"
   },
   "outputs": [],
   "source": [
    "pay['SIGNIFICANT_LATE_PAYMENT'] = pay['LATE_PAYMENT_RATIO'].apply(lambda x: 1 if x > 0.05 else 0)"
   ]
  },
  {
   "cell_type": "code",
   "execution_count": 68,
   "metadata": {
    "execution": {
     "iopub.execute_input": "2021-05-23T05:05:50.733273Z",
     "iopub.status.busy": "2021-05-23T05:05:50.732831Z",
     "iopub.status.idle": "2021-05-23T05:06:09.45818Z",
     "shell.execute_reply": "2021-05-23T05:06:09.457121Z",
     "shell.execute_reply.started": "2021-05-23T05:05:50.733229Z"
    },
    "id": "IWWzMR8WfvEL"
   },
   "outputs": [],
   "source": [
    "pay['DPD_7'] = pay['DPD'].apply(lambda x: 1 if x >= 7 else 0)\n",
    "pay['DPD_15'] = pay['DPD'].apply(lambda x: 1 if x >= 15 else 0)"
   ]
  },
  {
   "cell_type": "code",
   "execution_count": 69,
   "metadata": {
    "execution": {
     "iopub.execute_input": "2021-05-23T05:06:09.460277Z",
     "iopub.status.busy": "2021-05-23T05:06:09.459806Z",
     "iopub.status.idle": "2021-05-23T05:06:24.672161Z",
     "shell.execute_reply": "2021-05-23T05:06:24.671032Z",
     "shell.execute_reply.started": "2021-05-23T05:06:09.460226Z"
    },
    "id": "PDOerU_bfvEM"
   },
   "outputs": [],
   "source": [
    "INSTALLMENTS_AGG = {\n",
    "    'SK_ID_PREV': ['size', 'nunique'],\n",
    "    'DAYS_ENTRY_PAYMENT': ['min', 'max', 'mean'],\n",
    "    'AMT_INSTALMENT': ['min', 'max', 'mean', 'sum'],\n",
    "    'AMT_PAYMENT': ['min', 'max', 'mean', 'sum'],\n",
    "    'DPD': ['max', 'mean', 'var'],\n",
    "    'DBD': ['max', 'mean', 'var'],\n",
    "    'PAYMENT_DIFFERENCE': ['mean'],\n",
    "    'PAYMENT_RATIO': ['mean'],\n",
    "    'LATE_PAYMENT': ['mean', 'sum'],\n",
    "    'SIGNIFICANT_LATE_PAYMENT': ['mean', 'sum'],\n",
    "    'LATE_PAYMENT_RATIO': ['mean'],\n",
    "    'DPD_7': ['mean'],\n",
    "    'DPD_15': ['mean'],\n",
    "    'PAID_OVER': ['mean']\n",
    "}\n",
    "\n",
    "pay_agg = group(pay, 'INS_', INSTALLMENTS_AGG)"
   ]
  },
  {
   "cell_type": "code",
   "execution_count": 70,
   "metadata": {
    "execution": {
     "iopub.execute_input": "2021-05-23T05:06:24.674142Z",
     "iopub.status.busy": "2021-05-23T05:06:24.673811Z",
     "iopub.status.idle": "2021-05-23T05:06:47.413288Z",
     "shell.execute_reply": "2021-05-23T05:06:47.411885Z",
     "shell.execute_reply.started": "2021-05-23T05:06:24.674107Z"
    },
    "id": "4cxhtjXZfvEM"
   },
   "outputs": [],
   "source": [
    "INSTALLMENTS_TIME_AGG = {\n",
    "    'SK_ID_PREV': ['size'],\n",
    "    'DAYS_ENTRY_PAYMENT': ['min', 'max', 'mean'],\n",
    "    'AMT_INSTALMENT': ['min', 'max', 'mean', 'sum'],\n",
    "    'AMT_PAYMENT': ['min', 'max', 'mean', 'sum'],\n",
    "    'DPD': ['max', 'mean', 'var'],\n",
    "    'DBD': ['max', 'mean', 'var'],\n",
    "    'PAYMENT_DIFFERENCE': ['mean'],\n",
    "    'PAYMENT_RATIO': ['mean'],\n",
    "    'LATE_PAYMENT': ['mean'],\n",
    "    'SIGNIFICANT_LATE_PAYMENT': ['mean'],\n",
    "    'LATE_PAYMENT_RATIO': ['mean'],\n",
    "    'DPD_7': ['mean'],\n",
    "    'DPD_15': ['mean'],\n",
    "}\n",
    "\n",
    "for months in [36, 60]:\n",
    "    recent_prev_id = pay[pay['DAYS_INSTALMENT'] >= -30*months]['SK_ID_PREV'].unique()\n",
    "    pay_recent = pay[pay['SK_ID_PREV'].isin(recent_prev_id)]\n",
    "    prefix = 'INS_{}M_'.format(months)\n",
    "    pay_agg = group_and_merge(pay_recent, pay_agg, prefix, INSTALLMENTS_TIME_AGG)"
   ]
  },
  {
   "cell_type": "code",
   "execution_count": 71,
   "metadata": {
    "execution": {
     "iopub.execute_input": "2021-05-23T05:06:47.415269Z",
     "iopub.status.busy": "2021-05-23T05:06:47.414959Z",
     "iopub.status.idle": "2021-05-23T05:06:47.426865Z",
     "shell.execute_reply": "2021-05-23T05:06:47.425616Z",
     "shell.execute_reply.started": "2021-05-23T05:06:47.415239Z"
    },
    "id": "jrgz3KSWfvEM"
   },
   "outputs": [],
   "source": [
    "def add_features_in_group(features, gr_, feature_name, aggs, prefix):\n",
    "    for agg in aggs:\n",
    "        if agg == 'sum':\n",
    "            features['{}{}_sum'.format(prefix, feature_name)] = gr_[feature_name].sum()\n",
    "        elif agg == 'mean':\n",
    "            features['{}{}_mean'.format(prefix, feature_name)] = gr_[feature_name].mean()\n",
    "        elif agg == 'max':\n",
    "            features['{}{}_max'.format(prefix, feature_name)] = gr_[feature_name].max()\n",
    "        elif agg == 'min':\n",
    "            features['{}{}_min'.format(prefix, feature_name)] = gr_[feature_name].min()\n",
    "        elif agg == 'std':\n",
    "            features['{}{}_std'.format(prefix, feature_name)] = gr_[feature_name].std()\n",
    "        elif agg == 'count':\n",
    "            features['{}{}_count'.format(prefix, feature_name)] = gr_[feature_name].count()\n",
    "        elif agg == 'skew':\n",
    "            features['{}{}_skew'.format(prefix, feature_name)] = skew(gr_[feature_name])\n",
    "        elif agg == 'kurt':\n",
    "            features['{}{}_kurt'.format(prefix, feature_name)] = kurtosis(gr_[feature_name])\n",
    "        elif agg == 'iqr':\n",
    "            features['{}{}_iqr'.format(prefix, feature_name)] = iqr(gr_[feature_name])\n",
    "        elif agg == 'median':\n",
    "            features['{}{}_median'.format(prefix, feature_name)] = gr_[feature_name].median()\n",
    "    return features"
   ]
  },
  {
   "cell_type": "code",
   "execution_count": 72,
   "metadata": {
    "execution": {
     "iopub.execute_input": "2021-05-23T05:06:47.429632Z",
     "iopub.status.busy": "2021-05-23T05:06:47.428993Z",
     "iopub.status.idle": "2021-05-23T05:06:47.447998Z",
     "shell.execute_reply": "2021-05-23T05:06:47.446859Z",
     "shell.execute_reply.started": "2021-05-23T05:06:47.429581Z"
    },
    "id": "SC_YdOTnfvEM"
   },
   "outputs": [],
   "source": [
    "def chunk_groups(groupby_object, chunk_size):\n",
    "    n_groups = groupby_object.ngroups\n",
    "    group_chunk, index_chunk = [], []\n",
    "    for i, (index, df) in enumerate(groupby_object):\n",
    "        group_chunk.append(df)\n",
    "        index_chunk.append(index)\n",
    "        if (i + 1) % chunk_size == 0 or i + 1 == n_groups:\n",
    "            group_chunk_, index_chunk_ = group_chunk.copy(), index_chunk.copy()\n",
    "            group_chunk, index_chunk = [], []\n",
    "            yield index_chunk_, group_chunk_"
   ]
  },
  {
   "cell_type": "code",
   "execution_count": 73,
   "metadata": {
    "execution": {
     "iopub.execute_input": "2021-05-23T05:06:47.451114Z",
     "iopub.status.busy": "2021-05-23T05:06:47.450675Z",
     "iopub.status.idle": "2021-05-23T05:06:47.462492Z",
     "shell.execute_reply": "2021-05-23T05:06:47.461235Z",
     "shell.execute_reply.started": "2021-05-23T05:06:47.451069Z"
    },
    "id": "6Qwkz1R6fvEM"
   },
   "outputs": [],
   "source": [
    "def add_trend_feature(features, gr, feature_name, prefix):\n",
    "    y = gr[feature_name].values\n",
    "    try:\n",
    "        x = np.arange(0, len(y)).reshape(-1, 1)\n",
    "        lr = LinearRegression()\n",
    "        lr.fit(x, y)\n",
    "        trend = lr.coef_[0]\n",
    "    except:\n",
    "        trend = np.nan\n",
    "    features['{}{}'.format(prefix, feature_name)] = trend\n",
    "    return features"
   ]
  },
  {
   "cell_type": "code",
   "execution_count": 74,
   "metadata": {
    "execution": {
     "iopub.execute_input": "2021-05-23T05:06:47.471965Z",
     "iopub.status.busy": "2021-05-23T05:06:47.471572Z",
     "iopub.status.idle": "2021-05-23T05:06:47.481911Z",
     "shell.execute_reply": "2021-05-23T05:06:47.48083Z",
     "shell.execute_reply.started": "2021-05-23T05:06:47.471921Z"
    },
    "id": "9IAqfPACfvEN"
   },
   "outputs": [],
   "source": [
    "def parallel_apply(groups, func, index_name='Index', num_workers=0, chunk_size=100000):\n",
    "    if num_workers <= 0: num_workers = 8\n",
    "    #n_chunks = np.ceil(1.0 * groups.ngroups / chunk_size)\n",
    "    indeces, features = [], []\n",
    "    for index_chunk, groups_chunk in chunk_groups(groups, chunk_size):\n",
    "        with mp.pool.Pool(num_workers) as executor:\n",
    "            features_chunk = executor.map(func, groups_chunk)\n",
    "        features.extend(features_chunk)\n",
    "        indeces.extend(index_chunk)\n",
    "\n",
    "    features = pd.DataFrame(features)\n",
    "    features.index = indeces\n",
    "    features.index.name = index_name\n",
    "    return features"
   ]
  },
  {
   "cell_type": "code",
   "execution_count": 75,
   "metadata": {
    "execution": {
     "iopub.execute_input": "2021-05-23T05:06:47.485713Z",
     "iopub.status.busy": "2021-05-23T05:06:47.485178Z",
     "iopub.status.idle": "2021-05-23T05:12:13.395256Z",
     "shell.execute_reply": "2021-05-23T05:12:13.394155Z",
     "shell.execute_reply.started": "2021-05-23T05:06:47.485677Z"
    },
    "id": "xsFKZmAlfvEN"
   },
   "outputs": [],
   "source": [
    "def trend_in_last_k_instalment_features(gr, periods):\n",
    "    gr_ = gr.copy()\n",
    "    gr_.sort_values(['DAYS_INSTALMENT'], ascending=False, inplace=True)\n",
    "    features = {}\n",
    "\n",
    "    for period in periods:\n",
    "        gr_period = gr_.iloc[:period]\n",
    "        features = add_trend_feature(features, gr_period, 'DPD',\n",
    "                                           '{}_TREND_'.format(period))\n",
    "        features = add_trend_feature(features, gr_period, 'PAID_OVER_AMOUNT',\n",
    "                                           '{}_TREND_'.format(period))\n",
    "    return features\n",
    "\n",
    "group_features = ['SK_ID_CURR', 'SK_ID_PREV', 'DPD', 'LATE_PAYMENT',\n",
    "                  'PAID_OVER_AMOUNT', 'PAID_OVER', 'DAYS_INSTALMENT']\n",
    "gp = pay[group_features].groupby('SK_ID_CURR')\n",
    "func = partial(trend_in_last_k_instalment_features, periods=[12, 24, 60, 120])\n",
    "g = parallel_apply(gp, func, index_name='SK_ID_CURR', chunk_size=10000).reset_index()\n",
    "pay_agg = pay_agg.merge(g, on='SK_ID_CURR', how='left')"
   ]
  },
  {
   "cell_type": "code",
   "execution_count": 76,
   "metadata": {
    "execution": {
     "iopub.execute_input": "2021-05-23T05:12:13.397184Z",
     "iopub.status.busy": "2021-05-23T05:12:13.39671Z",
     "iopub.status.idle": "2021-05-23T05:21:05.559768Z",
     "shell.execute_reply": "2021-05-23T05:21:05.558209Z",
     "shell.execute_reply.started": "2021-05-23T05:12:13.397144Z"
    },
    "id": "ZFzMYZnRfvEN"
   },
   "outputs": [],
   "source": [
    "def installments_last_loan_features(gr):\n",
    "    gr_ = gr.copy()\n",
    "    gr_.sort_values(['DAYS_INSTALMENT'], ascending=False, inplace=True)\n",
    "    last_installment_id = gr_['SK_ID_PREV'].iloc[0]\n",
    "    gr_ = gr_[gr_['SK_ID_PREV'] == last_installment_id]\n",
    "\n",
    "    features = {}\n",
    "    features = add_features_in_group(features, gr_, 'DPD',\n",
    "                                     ['sum', 'mean', 'max', 'std'],\n",
    "                                     'LAST_LOAN_')\n",
    "    features = add_features_in_group(features, gr_, 'LATE_PAYMENT',\n",
    "                                     ['count', 'mean'],\n",
    "                                     'LAST_LOAN_')\n",
    "    features = add_features_in_group(features, gr_, 'PAID_OVER_AMOUNT',\n",
    "                                     ['sum', 'mean', 'max', 'min', 'std'],\n",
    "                                     'LAST_LOAN_')\n",
    "    features = add_features_in_group(features, gr_, 'PAID_OVER',\n",
    "                                     ['count', 'mean'],\n",
    "                                     'LAST_LOAN_')\n",
    "    return features\n",
    "\n",
    "g = parallel_apply(gp, installments_last_loan_features, index_name='SK_ID_CURR', chunk_size=10000).reset_index()\n",
    "pay_agg = pay_agg.merge(g, on='SK_ID_CURR', how='left')"
   ]
  },
  {
   "cell_type": "code",
   "execution_count": 77,
   "metadata": {
    "execution": {
     "iopub.execute_input": "2021-05-23T05:21:05.562217Z",
     "iopub.status.busy": "2021-05-23T05:21:05.561847Z",
     "iopub.status.idle": "2021-05-23T05:21:09.109466Z",
     "shell.execute_reply": "2021-05-23T05:21:09.10864Z",
     "shell.execute_reply.started": "2021-05-23T05:21:05.562178Z"
    },
    "id": "VRas5FZafvEN"
   },
   "outputs": [
    {
     "data": {
      "text/plain": [
       "22"
      ]
     },
     "execution_count": 77,
     "metadata": {},
     "output_type": "execute_result"
    }
   ],
   "source": [
    "df = pd.merge(df, pay_agg, on='SK_ID_CURR', how='left')\n",
    "del pay_agg, gp, pay; gc.collect()"
   ]
  },
  {
   "cell_type": "code",
   "execution_count": 78,
   "metadata": {
    "execution": {
     "iopub.execute_input": "2021-05-23T05:21:09.111225Z",
     "iopub.status.busy": "2021-05-23T05:21:09.11077Z",
     "iopub.status.idle": "2021-05-23T05:21:23.97389Z",
     "shell.execute_reply": "2021-05-23T05:21:23.972475Z",
     "shell.execute_reply.started": "2021-05-23T05:21:09.111173Z"
    },
    "id": "2e95uvEZfvEN"
   },
   "outputs": [],
   "source": [
    "cc = pd.read_csv(os.path.join(DATA_DIRECTORY, 'credit_card_balance.csv'))\n",
    "cc, cat_cols = one_hot_encoder(cc, nan_as_category=False)\n",
    "cc.rename(columns={'AMT_RECIVABLE': 'AMT_RECEIVABLE'}, inplace=True)"
   ]
  },
  {
   "cell_type": "code",
   "execution_count": 79,
   "metadata": {
    "execution": {
     "iopub.execute_input": "2021-05-23T05:21:23.975852Z",
     "iopub.status.busy": "2021-05-23T05:21:23.975526Z",
     "iopub.status.idle": "2021-05-23T05:21:24.006868Z",
     "shell.execute_reply": "2021-05-23T05:21:24.005511Z",
     "shell.execute_reply.started": "2021-05-23T05:21:23.975822Z"
    },
    "id": "Zq77SAhGfvEN"
   },
   "outputs": [],
   "source": [
    "cc['LIMIT_USE'] = cc['AMT_BALANCE'] / cc['AMT_CREDIT_LIMIT_ACTUAL']"
   ]
  },
  {
   "cell_type": "code",
   "execution_count": 80,
   "metadata": {
    "execution": {
     "iopub.execute_input": "2021-05-23T05:21:24.009341Z",
     "iopub.status.busy": "2021-05-23T05:21:24.008876Z",
     "iopub.status.idle": "2021-05-23T05:21:24.043635Z",
     "shell.execute_reply": "2021-05-23T05:21:24.042333Z",
     "shell.execute_reply.started": "2021-05-23T05:21:24.009292Z"
    },
    "id": "p9owpV45fvEO"
   },
   "outputs": [],
   "source": [
    "cc['PAYMENT_DIV_MIN'] = cc['AMT_PAYMENT_CURRENT'] / cc['AMT_INST_MIN_REGULARITY']"
   ]
  },
  {
   "cell_type": "code",
   "execution_count": 81,
   "metadata": {
    "execution": {
     "iopub.execute_input": "2021-05-23T05:21:24.045495Z",
     "iopub.status.busy": "2021-05-23T05:21:24.045186Z",
     "iopub.status.idle": "2021-05-23T05:21:26.288701Z",
     "shell.execute_reply": "2021-05-23T05:21:26.287436Z",
     "shell.execute_reply.started": "2021-05-23T05:21:24.045464Z"
    },
    "id": "tQQZETBofvEO"
   },
   "outputs": [],
   "source": [
    "cc['LATE_PAYMENT'] = cc['SK_DPD'].apply(lambda x: 1 if x > 0 else 0)"
   ]
  },
  {
   "cell_type": "code",
   "execution_count": 82,
   "metadata": {
    "execution": {
     "iopub.execute_input": "2021-05-23T05:21:26.290565Z",
     "iopub.status.busy": "2021-05-23T05:21:26.290253Z",
     "iopub.status.idle": "2021-05-23T05:21:26.336499Z",
     "shell.execute_reply": "2021-05-23T05:21:26.335168Z",
     "shell.execute_reply.started": "2021-05-23T05:21:26.290519Z"
    },
    "id": "OSjn_Ng_fvEO"
   },
   "outputs": [],
   "source": [
    "cc['DRAWING_LIMIT_RATIO'] = cc['AMT_DRAWINGS_ATM_CURRENT'] / cc['AMT_CREDIT_LIMIT_ACTUAL']"
   ]
  },
  {
   "cell_type": "code",
   "execution_count": 83,
   "metadata": {
    "execution": {
     "iopub.execute_input": "2021-05-23T05:21:26.338167Z",
     "iopub.status.busy": "2021-05-23T05:21:26.337866Z",
     "iopub.status.idle": "2021-05-23T05:21:28.766338Z",
     "shell.execute_reply": "2021-05-23T05:21:28.765083Z",
     "shell.execute_reply.started": "2021-05-23T05:21:26.338138Z"
    },
    "id": "Q3lP62brfvEO"
   },
   "outputs": [],
   "source": [
    "CREDIT_CARD_AGG = {\n",
    "    'MONTHS_BALANCE': ['min'],\n",
    "    'AMT_BALANCE': ['max'],\n",
    "    'AMT_CREDIT_LIMIT_ACTUAL': ['max'],\n",
    "    'AMT_DRAWINGS_ATM_CURRENT': ['max', 'sum'],\n",
    "    'AMT_DRAWINGS_CURRENT': ['max', 'sum'],\n",
    "    'AMT_DRAWINGS_POS_CURRENT': ['max', 'sum'],\n",
    "    'AMT_INST_MIN_REGULARITY': ['max', 'mean'],\n",
    "    'AMT_PAYMENT_TOTAL_CURRENT': ['max', 'mean', 'sum', 'var'],\n",
    "    'AMT_TOTAL_RECEIVABLE': ['max', 'mean'],\n",
    "    'CNT_DRAWINGS_ATM_CURRENT': ['max', 'mean', 'sum'],\n",
    "    'CNT_DRAWINGS_CURRENT': ['max', 'mean', 'sum'],\n",
    "    'CNT_DRAWINGS_POS_CURRENT': ['mean'],\n",
    "    'SK_DPD': ['mean', 'max', 'sum'],\n",
    "    'SK_DPD_DEF': ['max', 'sum'],\n",
    "    'LIMIT_USE': ['max', 'mean'],\n",
    "    'PAYMENT_DIV_MIN': ['min', 'mean'],\n",
    "    'LATE_PAYMENT': ['max', 'sum'],\n",
    "}\n",
    "\n",
    "cc_agg = cc.groupby('SK_ID_CURR').agg(CREDIT_CARD_AGG)\n",
    "cc_agg.columns = pd.Index(['CC_' + e[0] + \"_\" + e[1].upper() for e in cc_agg.columns.tolist()])\n",
    "cc_agg.reset_index(inplace= True)"
   ]
  },
  {
   "cell_type": "code",
   "execution_count": 84,
   "metadata": {
    "execution": {
     "iopub.execute_input": "2021-05-23T05:21:28.769393Z",
     "iopub.status.busy": "2021-05-23T05:21:28.768887Z",
     "iopub.status.idle": "2021-05-23T05:21:37.348311Z",
     "shell.execute_reply": "2021-05-23T05:21:37.347129Z",
     "shell.execute_reply.started": "2021-05-23T05:21:28.76934Z"
    },
    "id": "sYlkVrfCfvEO"
   },
   "outputs": [],
   "source": [
    "last_ids = cc.groupby('SK_ID_PREV')['MONTHS_BALANCE'].idxmax()\n",
    "last_months_df = cc[cc.index.isin(last_ids)]\n",
    "cc_agg = group_and_merge(last_months_df,cc_agg,'CC_LAST_', {'AMT_BALANCE': ['mean', 'max']})"
   ]
  },
  {
   "cell_type": "code",
   "execution_count": 85,
   "metadata": {
    "execution": {
     "iopub.execute_input": "2021-05-23T05:21:37.350374Z",
     "iopub.status.busy": "2021-05-23T05:21:37.349919Z",
     "iopub.status.idle": "2021-05-23T05:21:43.416742Z",
     "shell.execute_reply": "2021-05-23T05:21:43.415605Z",
     "shell.execute_reply.started": "2021-05-23T05:21:37.350326Z"
    },
    "id": "xJ4dpQtofvEO"
   },
   "outputs": [],
   "source": [
    "CREDIT_CARD_TIME_AGG = {\n",
    "    'CNT_DRAWINGS_ATM_CURRENT': ['mean'],\n",
    "    'SK_DPD': ['max', 'sum'],\n",
    "    'AMT_BALANCE': ['mean', 'max'],\n",
    "    'LIMIT_USE': ['max', 'mean']\n",
    "}\n",
    "\n",
    "for months in [12, 24, 48]:\n",
    "    cc_prev_id = cc[cc['MONTHS_BALANCE'] >= -months]['SK_ID_PREV'].unique()\n",
    "    cc_recent = cc[cc['SK_ID_PREV'].isin(cc_prev_id)]\n",
    "    prefix = 'INS_{}M_'.format(months)\n",
    "    cc_agg = group_and_merge(cc_recent, cc_agg, prefix, CREDIT_CARD_TIME_AGG)"
   ]
  },
  {
   "cell_type": "code",
   "execution_count": 86,
   "metadata": {
    "execution": {
     "iopub.execute_input": "2021-05-23T05:21:43.419197Z",
     "iopub.status.busy": "2021-05-23T05:21:43.418769Z",
     "iopub.status.idle": "2021-05-23T05:21:46.214816Z",
     "shell.execute_reply": "2021-05-23T05:21:46.213808Z",
     "shell.execute_reply.started": "2021-05-23T05:21:43.419148Z"
    },
    "id": "woq5rGjYfvEP"
   },
   "outputs": [
    {
     "data": {
      "text/plain": [
       "22"
      ]
     },
     "execution_count": 86,
     "metadata": {},
     "output_type": "execute_result"
    }
   ],
   "source": [
    "df = pd.merge(df, cc_agg, on='SK_ID_CURR', how='left')\n",
    "del cc, cc_agg; gc.collect()"
   ]
  },
  {
   "cell_type": "code",
   "execution_count": 87,
   "metadata": {
    "execution": {
     "iopub.execute_input": "2021-05-23T05:21:46.216689Z",
     "iopub.status.busy": "2021-05-23T05:21:46.216352Z",
     "iopub.status.idle": "2021-05-23T05:21:46.226862Z",
     "shell.execute_reply": "2021-05-23T05:21:46.225877Z",
     "shell.execute_reply.started": "2021-05-23T05:21:46.216655Z"
    },
    "id": "5Vf2G4VXfvEP"
   },
   "outputs": [],
   "source": [
    "def add_ratios_features(df):\n",
    "    df['BUREAU_INCOME_CREDIT_RATIO'] = df['BUREAU_AMT_CREDIT_SUM_MEAN'] / df['AMT_INCOME_TOTAL']\n",
    "    df['BUREAU_ACTIVE_CREDIT_TO_INCOME_RATIO'] = df['BUREAU_ACTIVE_AMT_CREDIT_SUM_SUM'] / df['AMT_INCOME_TOTAL']\n",
    "    df['CURRENT_TO_APPROVED_CREDIT_MIN_RATIO'] = df['APPROVED_AMT_CREDIT_MIN'] / df['AMT_CREDIT']\n",
    "    df['CURRENT_TO_APPROVED_CREDIT_MAX_RATIO'] = df['APPROVED_AMT_CREDIT_MAX'] / df['AMT_CREDIT']\n",
    "    df['CURRENT_TO_APPROVED_CREDIT_MEAN_RATIO'] = df['APPROVED_AMT_CREDIT_MEAN'] / df['AMT_CREDIT']\n",
    "    df['CURRENT_TO_APPROVED_ANNUITY_MAX_RATIO'] = df['APPROVED_AMT_ANNUITY_MAX'] / df['AMT_ANNUITY']\n",
    "    df['CURRENT_TO_APPROVED_ANNUITY_MEAN_RATIO'] = df['APPROVED_AMT_ANNUITY_MEAN'] / df['AMT_ANNUITY']\n",
    "    df['PAYMENT_MIN_TO_ANNUITY_RATIO'] = df['INS_AMT_PAYMENT_MIN'] / df['AMT_ANNUITY']\n",
    "    df['PAYMENT_MAX_TO_ANNUITY_RATIO'] = df['INS_AMT_PAYMENT_MAX'] / df['AMT_ANNUITY']\n",
    "    df['PAYMENT_MEAN_TO_ANNUITY_RATIO'] = df['INS_AMT_PAYMENT_MEAN'] / df['AMT_ANNUITY']\n",
    "    df['CTA_CREDIT_TO_ANNUITY_MAX_RATIO'] = df['APPROVED_CREDIT_TO_ANNUITY_RATIO_MAX'] / df[\n",
    "        'CREDIT_TO_ANNUITY_RATIO']\n",
    "    df['CTA_CREDIT_TO_ANNUITY_MEAN_RATIO'] = df['APPROVED_CREDIT_TO_ANNUITY_RATIO_MEAN'] / df[\n",
    "        'CREDIT_TO_ANNUITY_RATIO']\n",
    "    df['DAYS_DECISION_MEAN_TO_BIRTH'] = df['APPROVED_DAYS_DECISION_MEAN'] / df['DAYS_BIRTH']\n",
    "    df['DAYS_CREDIT_MEAN_TO_BIRTH'] = df['BUREAU_DAYS_CREDIT_MEAN'] / df['DAYS_BIRTH']\n",
    "    df['DAYS_DECISION_MEAN_TO_EMPLOYED'] = df['APPROVED_DAYS_DECISION_MEAN'] / df['DAYS_EMPLOYED']\n",
    "    df['DAYS_CREDIT_MEAN_TO_EMPLOYED'] = df['BUREAU_DAYS_CREDIT_MEAN'] / df['DAYS_EMPLOYED']\n",
    "    return df"
   ]
  },
  {
   "cell_type": "code",
   "execution_count": 88,
   "metadata": {
    "execution": {
     "iopub.execute_input": "2021-05-23T05:21:46.228749Z",
     "iopub.status.busy": "2021-05-23T05:21:46.228391Z",
     "iopub.status.idle": "2021-05-23T05:21:46.290356Z",
     "shell.execute_reply": "2021-05-23T05:21:46.289207Z",
     "shell.execute_reply.started": "2021-05-23T05:21:46.228705Z"
    },
    "id": "2ZVxuFbffvEP"
   },
   "outputs": [],
   "source": [
    "df = add_ratios_features(df)"
   ]
  },
  {
   "cell_type": "code",
   "execution_count": 89,
   "metadata": {
    "execution": {
     "iopub.execute_input": "2021-05-23T05:21:46.292623Z",
     "iopub.status.busy": "2021-05-23T05:21:46.292168Z",
     "iopub.status.idle": "2021-05-23T05:21:50.082175Z",
     "shell.execute_reply": "2021-05-23T05:21:50.080957Z",
     "shell.execute_reply.started": "2021-05-23T05:21:46.292573Z"
    },
    "id": "8PLtBIz3fvEP"
   },
   "outputs": [],
   "source": [
    "df.replace([np.inf, -np.inf], np.nan, inplace=True)"
   ]
  },
  {
   "cell_type": "code",
   "execution_count": 90,
   "metadata": {},
   "outputs": [],
   "source": [
    "df.to_csv('data.csv', index=False) "
   ]
  }
 ],
 "metadata": {
  "colab": {
   "collapsed_sections": [],
   "name": "Home Credit Loan",
   "provenance": [],
   "toc_visible": true
  },
  "kernelspec": {
   "display_name": "Python 3",
   "language": "python",
   "name": "python3"
  },
  "language_info": {
   "codemirror_mode": {
    "name": "ipython",
    "version": 3
   },
   "file_extension": ".py",
   "mimetype": "text/x-python",
   "name": "python",
   "nbconvert_exporter": "python",
   "pygments_lexer": "ipython3",
   "version": "3.7.10"
  }
 },
 "nbformat": 4,
 "nbformat_minor": 4
}
